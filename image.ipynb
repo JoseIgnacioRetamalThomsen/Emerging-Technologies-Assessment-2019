{
 "cells": [
  {
   "cell_type": "code",
   "execution_count": 43,
   "metadata": {},
   "outputs": [],
   "source": [
    "img ='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'"
   ]
  },
  {
   "cell_type": "code",
   "execution_count": 44,
   "metadata": {},
   "outputs": [],
   "source": [
    "import numpy as np"
   ]
  },
  {
   "cell_type": "code",
   "execution_count": 45,
   "metadata": {},
   "outputs": [],
   "source": [
    "from matplotlib.backends.backend_agg import FigureCanvasAgg as FigureCanvas\n",
    "from matplotlib.figure import Figure\n",
    "\n",
    "import concurrent.futures\n",
    "import urllib.request\n",
    "import base64 as b64\n",
    "from PIL import Image \n",
    "from io import BytesIO\n",
    "import re\n",
    "import pandas as pd\n",
    "%matplotlib inline\n",
    "import matplotlib.pyplot as plt"
   ]
  },
  {
   "cell_type": "code",
   "execution_count": 46,
   "metadata": {},
   "outputs": [],
   "source": [
    "img = Image.open(BytesIO(b64.b64decode(img))).convert('LA')"
   ]
  },
  {
   "cell_type": "code",
   "execution_count": 47,
   "metadata": {},
   "outputs": [],
   "source": [
    "w,h = 200,200"
   ]
  },
  {
   "cell_type": "code",
   "execution_count": 48,
   "metadata": {},
   "outputs": [],
   "source": [
    "img = img.resize((w,h))"
   ]
  },
  {
   "cell_type": "code",
   "execution_count": 49,
   "metadata": {},
   "outputs": [],
   "source": [
    "a = np.asarray(img)\n",
    "n = []\n",
    "for number in a:\n",
    "    for j in number:\n",
    "        n.append(j[1])"
   ]
  },
  {
   "cell_type": "code",
   "execution_count": 50,
   "metadata": {},
   "outputs": [],
   "source": [
    "n = np.array(n)\n",
    "n = n.reshape(w,h)"
   ]
  },
  {
   "cell_type": "code",
   "execution_count": 51,
   "metadata": {},
   "outputs": [
    {
     "data": {
      "text/plain": [
       "<matplotlib.image.AxesImage at 0x27a00f98588>"
      ]
     },
     "execution_count": 51,
     "metadata": {},
     "output_type": "execute_result"
    },
    {
     "data": {
      "image/png": "[encoded data removed]",
      "text/plain": [
       "<Figure size 432x288 with 1 Axes>"
      ]
     },
     "metadata": {
      "needs_background": "light"
     },
     "output_type": "display_data"
    }
   ],
   "source": [
    "plt.imshow(n, cmap='gray')"
   ]
  },
  {
   "cell_type": "code",
   "execution_count": 52,
   "metadata": {},
   "outputs": [],
   "source": [
    "x,y = n.shape"
   ]
  },
  {
   "cell_type": "code",
   "execution_count": 53,
   "metadata": {},
   "outputs": [],
   "source": [
    "count = 0\n",
    "ib = 0\n",
    "for i in range(0,x):\n",
    "    for j in range(0,y):\n",
    "        if(n[i][j]==255):\n",
    "            ib = 1\n",
    "    if ib==1:\n",
    "        break\n",
    "    count +=1"
   ]
  },
  {
   "cell_type": "code",
   "execution_count": 54,
   "metadata": {},
   "outputs": [],
   "source": [
    "count = count"
   ]
  },
  {
   "cell_type": "code",
   "execution_count": 55,
   "metadata": {},
   "outputs": [],
   "source": [
    "if count >0:\n",
    "    count -= 1\n",
    "n = np.delete(n, range(0,count), 0)"
   ]
  },
  {
   "cell_type": "code",
   "execution_count": 56,
   "metadata": {},
   "outputs": [
    {
     "data": {
      "text/plain": [
       "(106, 200)"
      ]
     },
     "execution_count": 56,
     "metadata": {},
     "output_type": "execute_result"
    }
   ],
   "source": [
    "n.shape"
   ]
  },
  {
   "cell_type": "code",
   "execution_count": 57,
   "metadata": {},
   "outputs": [],
   "source": [
    "x,y = n.shape"
   ]
  },
  {
   "cell_type": "code",
   "execution_count": 58,
   "metadata": {},
   "outputs": [],
   "source": [
    "ib=0\n",
    "count2 =0\n",
    "for i in range(0,y):\n",
    "    for j in range(0,x):\n",
    "        if(n[j][i]==255):\n",
    "            ib=1\n",
    "    if ib==1:\n",
    "        break\n",
    "    count2+=1"
   ]
  },
  {
   "cell_type": "code",
   "execution_count": 59,
   "metadata": {},
   "outputs": [],
   "source": [
    "count2 = count2"
   ]
  },
  {
   "cell_type": "code",
   "execution_count": 60,
   "metadata": {},
   "outputs": [],
   "source": [
    "n = np.delete(n, range(0,count2), 1)"
   ]
  },
  {
   "cell_type": "code",
   "execution_count": 61,
   "metadata": {},
   "outputs": [],
   "source": [
    "x,y = n.shape"
   ]
  },
  {
   "cell_type": "code",
   "execution_count": 62,
   "metadata": {},
   "outputs": [],
   "source": [
    "ib=0\n",
    "count3 =0\n",
    "for i in range(x-1,0,-1):\n",
    "    for j in range(y-1,0,-1):\n",
    "        if(n[i][j]==255):\n",
    "            ib=1\n",
    "    if ib==1:\n",
    "        break\n",
    "    count3+=1"
   ]
  },
  {
   "cell_type": "code",
   "execution_count": 63,
   "metadata": {},
   "outputs": [],
   "source": [
    "count3 = count3"
   ]
  },
  {
   "cell_type": "code",
   "execution_count": 64,
   "metadata": {},
   "outputs": [],
   "source": [
    "n = np.delete(n, range(x-count3,x), 0)"
   ]
  },
  {
   "cell_type": "code",
   "execution_count": 65,
   "metadata": {},
   "outputs": [],
   "source": [
    "x,y = n.shape"
   ]
  },
  {
   "cell_type": "code",
   "execution_count": 66,
   "metadata": {},
   "outputs": [],
   "source": [
    "ib=0\n",
    "count4 =0\n",
    "for i in range(y-1,0,-1):\n",
    "    for j in range(x-1,0,-1):\n",
    "        if(n[j][i]==255):\n",
    "            ib=1\n",
    "    if ib==1:\n",
    "        break\n",
    "    count4+=1"
   ]
  },
  {
   "cell_type": "code",
   "execution_count": 67,
   "metadata": {},
   "outputs": [],
   "source": [
    "count4 = count4"
   ]
  },
  {
   "cell_type": "code",
   "execution_count": 68,
   "metadata": {},
   "outputs": [],
   "source": [
    "n = np.delete(n, range(y-count4,y), 1)"
   ]
  },
  {
   "cell_type": "code",
   "execution_count": 69,
   "metadata": {},
   "outputs": [
    {
     "data": {
      "text/plain": [
       "<matplotlib.image.AxesImage at 0x27a0104c788>"
      ]
     },
     "execution_count": 69,
     "metadata": {},
     "output_type": "execute_result"
    },
    {
     "data": {
      "image/png": "[encoded data removed]",
      "text/plain": [
       "<Figure size 432x288 with 1 Axes>"
      ]
     },
     "metadata": {
      "needs_background": "light"
     },
     "output_type": "display_data"
    }
   ],
   "source": [
    "plt.imshow(n, cmap='gray')"
   ]
  },
  {
   "cell_type": "code",
   "execution_count": 70,
   "metadata": {},
   "outputs": [
    {
     "data": {
      "text/plain": [
       "(88, 76)"
      ]
     },
     "execution_count": 70,
     "metadata": {},
     "output_type": "execute_result"
    }
   ],
   "source": [
    "n.shape"
   ]
  },
  {
   "cell_type": "code",
   "execution_count": 71,
   "metadata": {},
   "outputs": [],
   "source": [
    "img1 = Image.fromarray(n)"
   ]
  },
  {
   "cell_type": "code",
   "execution_count": 72,
   "metadata": {},
   "outputs": [],
   "source": [
    "i,j = n.shape"
   ]
  },
  {
   "cell_type": "code",
   "execution_count": 73,
   "metadata": {},
   "outputs": [
    {
     "data": {
      "text/plain": [
       "(88, 76)"
      ]
     },
     "execution_count": 73,
     "metadata": {},
     "output_type": "execute_result"
    }
   ],
   "source": [
    "n.shape"
   ]
  },
  {
   "cell_type": "code",
   "execution_count": 74,
   "metadata": {},
   "outputs": [],
   "source": [
    "ish = i>j"
   ]
  },
  {
   "cell_type": "code",
   "execution_count": 75,
   "metadata": {},
   "outputs": [
    {
     "data": {
      "text/plain": [
       "True"
      ]
     },
     "execution_count": 75,
     "metadata": {},
     "output_type": "execute_result"
    }
   ],
   "source": [
    "ish"
   ]
  },
  {
   "cell_type": "code",
   "execution_count": 76,
   "metadata": {},
   "outputs": [],
   "source": [
    "img2 =img1"
   ]
  },
  {
   "cell_type": "code",
   "execution_count": 77,
   "metadata": {},
   "outputs": [],
   "source": [
    "if ish:\n",
    "    img2 = img2.resize( ((int(round((int(round(w/10))/i)*j))*10) ,h))\n",
    "else:\n",
    "    img2 = img2.resize( (w,(int(round((int(round(h/10))/j)*i))*10)))"
   ]
  },
  {
   "cell_type": "code",
   "execution_count": 78,
   "metadata": {},
   "outputs": [],
   "source": [
    "l = np.asarray(img2)"
   ]
  },
  {
   "cell_type": "code",
   "execution_count": 79,
   "metadata": {},
   "outputs": [],
   "source": [
    "x,y =l.shape"
   ]
  },
  {
   "cell_type": "code",
   "execution_count": 80,
   "metadata": {},
   "outputs": [
    {
     "data": {
      "text/plain": [
       "200"
      ]
     },
     "execution_count": 80,
     "metadata": {},
     "output_type": "execute_result"
    }
   ],
   "source": [
    "x"
   ]
  },
  {
   "cell_type": "code",
   "execution_count": 81,
   "metadata": {},
   "outputs": [
    {
     "data": {
      "text/plain": [
       "170"
      ]
     },
     "execution_count": 81,
     "metadata": {},
     "output_type": "execute_result"
    }
   ],
   "source": [
    "y"
   ]
  },
  {
   "cell_type": "code",
   "execution_count": 82,
   "metadata": {},
   "outputs": [
    {
     "data": {
      "text/plain": [
       "0"
      ]
     },
     "execution_count": 82,
     "metadata": {},
     "output_type": "execute_result"
    }
   ],
   "source": [
    "h-x"
   ]
  },
  {
   "cell_type": "code",
   "execution_count": 83,
   "metadata": {},
   "outputs": [],
   "source": [
    "if ish:\n",
    "    res = w-y\n",
    "    p = np.zeros((h, int(res/2)), dtype = np.int)\n",
    "    l = np.concatenate((p, l), axis = 1)\n",
    "    l = np.concatenate((l,p),axis =1)\n",
    "else:\n",
    "    res = h-x\n",
    "    p = np.zeros((int(res/2),w), dtype = np.int)\n",
    "    l = np.concatenate((p, l), axis = 0)\n",
    "    l = np.concatenate((l,p),axis =0)\n",
    "    \n",
    "    "
   ]
  },
  {
   "cell_type": "code",
   "execution_count": 84,
   "metadata": {},
   "outputs": [
    {
     "data": {
      "text/plain": [
       "<matplotlib.image.AxesImage at 0x27a010c4fc8>"
      ]
     },
     "execution_count": 84,
     "metadata": {},
     "output_type": "execute_result"
    },
    {
     "data": {
      "image/png": "[encoded data removed]",
      "text/plain": [
       "<Figure size 432x288 with 1 Axes>"
      ]
     },
     "metadata": {
      "needs_background": "light"
     },
     "output_type": "display_data"
    }
   ],
   "source": [
    "plt.imshow(l, cmap='gray')"
   ]
  },
  {
   "cell_type": "code",
   "execution_count": 85,
   "metadata": {},
   "outputs": [
    {
     "data": {
      "text/plain": [
       "(200, 200)"
      ]
     },
     "execution_count": 85,
     "metadata": {},
     "output_type": "execute_result"
    }
   ],
   "source": [
    "l.shape"
   ]
  },
  {
   "cell_type": "code",
   "execution_count": 86,
   "metadata": {},
   "outputs": [],
   "source": [
    "f = []\n",
    "sum =0\n",
    "for i0 in range(0,w,10):\n",
    "    for j0 in range(0,h,10):\n",
    "        sum=0\n",
    "        for i in range (i0,i0+10):\n",
    "            for j in range (j0,j0+10):\n",
    "                if l[i][j]==0:\n",
    "                    sum +=1\n",
    "        f.append((100-sum)/100)"
   ]
  },
  {
   "cell_type": "code",
   "execution_count": 87,
   "metadata": {},
   "outputs": [],
   "source": [
    "f = np.array(f)"
   ]
  },
  {
   "cell_type": "code",
   "execution_count": 88,
   "metadata": {},
   "outputs": [
    {
     "data": {
      "text/plain": [
       "(400,)"
      ]
     },
     "execution_count": 88,
     "metadata": {},
     "output_type": "execute_result"
    }
   ],
   "source": [
    "f.shape"
   ]
  },
  {
   "cell_type": "code",
   "execution_count": 89,
   "metadata": {},
   "outputs": [],
   "source": [
    "f = f.reshape(int(w/10),int(h/10))"
   ]
  },
  {
   "cell_type": "code",
   "execution_count": 90,
   "metadata": {},
   "outputs": [
    {
     "data": {
      "text/plain": [
       "(20, 20)"
      ]
     },
     "execution_count": 90,
     "metadata": {},
     "output_type": "execute_result"
    }
   ],
   "source": [
    "f.shape"
   ]
  },
  {
   "cell_type": "code",
   "execution_count": 91,
   "metadata": {},
   "outputs": [
    {
     "data": {
      "text/plain": [
       "<matplotlib.image.AxesImage at 0x27a01128f88>"
      ]
     },
     "execution_count": 91,
     "metadata": {},
     "output_type": "execute_result"
    },
    {
     "data": {
      "image/png": "[encoded data removed]",
      "text/plain": [
       "<Figure size 432x288 with 1 Axes>"
      ]
     },
     "metadata": {
      "needs_background": "light"
     },
     "output_type": "display_data"
    }
   ],
   "source": [
    "plt.imshow(f, cmap='gray')"
   ]
  },
  {
   "cell_type": "code",
   "execution_count": 92,
   "metadata": {},
   "outputs": [],
   "source": [
    "ii,jj = f.shape"
   ]
  },
  {
   "cell_type": "code",
   "execution_count": 93,
   "metadata": {},
   "outputs": [
    {
     "data": {
      "text/plain": [
       "20"
      ]
     },
     "execution_count": 93,
     "metadata": {},
     "output_type": "execute_result"
    }
   ],
   "source": [
    "ii"
   ]
  },
  {
   "cell_type": "code",
   "execution_count": 94,
   "metadata": {},
   "outputs": [
    {
     "data": {
      "text/plain": [
       "20"
      ]
     },
     "execution_count": 94,
     "metadata": {},
     "output_type": "execute_result"
    }
   ],
   "source": [
    "jj"
   ]
  },
  {
   "cell_type": "code",
   "execution_count": 95,
   "metadata": {},
   "outputs": [],
   "source": [
    "totaly, totalx = 0 , 0\n",
    "cy,cx = 0 , 0 \n",
    "for i in range(0,ii):\n",
    "    for j in range(0,jj):\n",
    "        if f[i][j]!=0:\n",
    "            totaly += (i)\n",
    "            cy+=1\n",
    "        if f[i][j]!=0:\n",
    "            totalx += (j)\n",
    "            cx+=1"
   ]
  },
  {
   "cell_type": "code",
   "execution_count": 96,
   "metadata": {},
   "outputs": [
    {
     "data": {
      "text/plain": [
       "10.685897435897436"
      ]
     },
     "execution_count": 96,
     "metadata": {},
     "output_type": "execute_result"
    }
   ],
   "source": [
    "totalx/cx"
   ]
  },
  {
   "cell_type": "code",
   "execution_count": 97,
   "metadata": {},
   "outputs": [
    {
     "data": {
      "text/plain": [
       "8.788461538461538"
      ]
     },
     "execution_count": 97,
     "metadata": {},
     "output_type": "execute_result"
    }
   ],
   "source": [
    "totaly/cy"
   ]
  },
  {
   "cell_type": "code",
   "execution_count": 98,
   "metadata": {},
   "outputs": [],
   "source": [
    "cx,cy = int(round(totalx/cx)),int(round(totaly/cy))"
   ]
  },
  {
   "cell_type": "code",
   "execution_count": 99,
   "metadata": {},
   "outputs": [
    {
     "data": {
      "text/plain": [
       "11"
      ]
     },
     "execution_count": 99,
     "metadata": {},
     "output_type": "execute_result"
    }
   ],
   "source": [
    "cx"
   ]
  },
  {
   "cell_type": "code",
   "execution_count": 100,
   "metadata": {},
   "outputs": [
    {
     "data": {
      "text/plain": [
       "9"
      ]
     },
     "execution_count": 100,
     "metadata": {},
     "output_type": "execute_result"
    }
   ],
   "source": [
    "cy"
   ]
  },
  {
   "cell_type": "code",
   "execution_count": 101,
   "metadata": {},
   "outputs": [],
   "source": [
    " top = np.zeros((14-cy, 20), dtype = np.int)"
   ]
  },
  {
   "cell_type": "code",
   "execution_count": 102,
   "metadata": {},
   "outputs": [],
   "source": [
    "f = np.concatenate((top, f), axis = 0)"
   ]
  },
  {
   "cell_type": "code",
   "execution_count": 103,
   "metadata": {},
   "outputs": [
    {
     "data": {
      "text/plain": [
       "<matplotlib.image.AxesImage at 0x27a01186d08>"
      ]
     },
     "execution_count": 103,
     "metadata": {},
     "output_type": "execute_result"
    },
    {
     "data": {
      "image/png": "[encoded data removed]",
      "text/plain": [
       "<Figure size 432x288 with 1 Axes>"
      ]
     },
     "metadata": {
      "needs_background": "light"
     },
     "output_type": "display_data"
    }
   ],
   "source": [
    "plt.imshow(f, cmap='gray')"
   ]
  },
  {
   "cell_type": "code",
   "execution_count": 104,
   "metadata": {},
   "outputs": [],
   "source": [
    " bot = np.zeros((28-((14-cy)+20), 20), dtype = np.int)"
   ]
  },
  {
   "cell_type": "code",
   "execution_count": 105,
   "metadata": {},
   "outputs": [],
   "source": [
    "f = np.concatenate((f, bot), axis = 0)"
   ]
  },
  {
   "cell_type": "code",
   "execution_count": 106,
   "metadata": {},
   "outputs": [
    {
     "data": {
      "text/plain": [
       "<matplotlib.image.AxesImage at 0x27a011f1388>"
      ]
     },
     "execution_count": 106,
     "metadata": {},
     "output_type": "execute_result"
    },
    {
     "data": {
      "image/png": "[encoded data removed]",
      "text/plain": [
       "<Figure size 432x288 with 1 Axes>"
      ]
     },
     "metadata": {
      "needs_background": "light"
     },
     "output_type": "display_data"
    }
   ],
   "source": [
    "plt.imshow(f, cmap='gray')"
   ]
  },
  {
   "cell_type": "code",
   "execution_count": 107,
   "metadata": {},
   "outputs": [
    {
     "data": {
      "text/plain": [
       "(28, 20)"
      ]
     },
     "execution_count": 107,
     "metadata": {},
     "output_type": "execute_result"
    }
   ],
   "source": [
    "f.shape"
   ]
  },
  {
   "cell_type": "code",
   "execution_count": 108,
   "metadata": {},
   "outputs": [],
   "source": [
    "left = np.zeros((28, 14-cx), dtype = np.int)"
   ]
  },
  {
   "cell_type": "code",
   "execution_count": 109,
   "metadata": {},
   "outputs": [
    {
     "data": {
      "text/plain": [
       "3"
      ]
     },
     "execution_count": 109,
     "metadata": {},
     "output_type": "execute_result"
    }
   ],
   "source": [
    "14-cx"
   ]
  },
  {
   "cell_type": "code",
   "execution_count": 110,
   "metadata": {},
   "outputs": [],
   "source": [
    "f = np.concatenate((left, f), axis = 1)"
   ]
  },
  {
   "cell_type": "code",
   "execution_count": 111,
   "metadata": {},
   "outputs": [
    {
     "data": {
      "text/plain": [
       "<matplotlib.image.AxesImage at 0x27a0124af88>"
      ]
     },
     "execution_count": 111,
     "metadata": {},
     "output_type": "execute_result"
    },
    {
     "data": {
      "image/png": "[encoded data removed]",
      "text/plain": [
       "<Figure size 432x288 with 1 Axes>"
      ]
     },
     "metadata": {
      "needs_background": "light"
     },
     "output_type": "display_data"
    }
   ],
   "source": [
    "plt.imshow(f, cmap='gray')"
   ]
  },
  {
   "cell_type": "code",
   "execution_count": 112,
   "metadata": {},
   "outputs": [],
   "source": [
    "right = np.zeros((28,28-((14-cx)+20)), dtype = np.int)#(28-((14-cx)+20)"
   ]
  },
  {
   "cell_type": "code",
   "execution_count": 113,
   "metadata": {},
   "outputs": [],
   "source": [
    "f = np.concatenate((f, right), axis = 1)"
   ]
  },
  {
   "cell_type": "code",
   "execution_count": 114,
   "metadata": {},
   "outputs": [
    {
     "data": {
      "text/plain": [
       "<matplotlib.image.AxesImage at 0x27a022793c8>"
      ]
     },
     "execution_count": 114,
     "metadata": {},
     "output_type": "execute_result"
    },
    {
     "data": {
      "image/png": "[encoded data removed]",
      "text/plain": [
       "<Figure size 432x288 with 1 Axes>"
      ]
     },
     "metadata": {
      "needs_background": "light"
     },
     "output_type": "display_data"
    }
   ],
   "source": [
    "plt.imshow(f, cmap='gray')"
   ]
  },
  {
   "cell_type": "code",
   "execution_count": 115,
   "metadata": {},
   "outputs": [
    {
     "data": {
      "text/plain": [
       "(28, 28)"
      ]
     },
     "execution_count": 115,
     "metadata": {},
     "output_type": "execute_result"
    }
   ],
   "source": [
    "f.shape"
   ]
  },
  {
   "cell_type": "code",
   "execution_count": null,
   "metadata": {},
   "outputs": [],
   "source": []
  }
 ],
 "metadata": {
  "kernelspec": {
   "display_name": "Python 3",
   "language": "python",
   "name": "python3"
  },
  "language_info": {
   "codemirror_mode": {
    "name": "ipython",
    "version": 3
   },
   "file_extension": ".py",
   "mimetype": "text/x-python",
   "name": "python",
   "nbconvert_exporter": "python",
   "pygments_lexer": "ipython3",
   "version": "3.7.4"
  }
 },
 "nbformat": 4,
 "nbformat_minor": 2
}
