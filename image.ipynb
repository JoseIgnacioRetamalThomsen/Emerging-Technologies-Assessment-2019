{
 "cells": [
  {
   "cell_type": "code",
   "execution_count": 2828,
   "metadata": {},
   "outputs": [],
   "source": [
    "img ='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'"
   ]
  },
  {
   "cell_type": "code",
   "execution_count": 2829,
   "metadata": {},
   "outputs": [
    {
     "data": {
      "text/plain": [
       "'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'"
      ]
     },
     "execution_count": 2829,
     "metadata": {},
     "output_type": "execute_result"
    }
   ],
   "source": [
    "img"
   ]
  },
  {
   "cell_type": "code",
   "execution_count": 2830,
   "metadata": {},
   "outputs": [],
   "source": [
    "import numpy as np"
   ]
  },
  {
   "cell_type": "code",
   "execution_count": 2831,
   "metadata": {},
   "outputs": [],
   "source": [
    "from matplotlib.backends.backend_agg import FigureCanvasAgg as FigureCanvas\n",
    "from matplotlib.figure import Figure\n",
    "\n",
    "import concurrent.futures\n",
    "import urllib.request\n",
    "import base64 as b64\n",
    "from PIL import Image \n",
    "from io import BytesIO\n",
    "import re\n",
    "import pandas as pd\n",
    "%matplotlib inline\n",
    "import matplotlib.pyplot as plt"
   ]
  },
  {
   "cell_type": "code",
   "execution_count": 2832,
   "metadata": {},
   "outputs": [],
   "source": [
    "img = Image.open(BytesIO(b64.b64decode(img))).convert('LA')"
   ]
  },
  {
   "cell_type": "code",
   "execution_count": 2833,
   "metadata": {},
   "outputs": [],
   "source": [
    "w,h = 200,200"
   ]
  },
  {
   "cell_type": "code",
   "execution_count": 2834,
   "metadata": {},
   "outputs": [],
   "source": [
    "img = img.resize((w,h))"
   ]
  },
  {
   "cell_type": "code",
   "execution_count": 2835,
   "metadata": {},
   "outputs": [],
   "source": [
    "a = np.asarray(img)\n",
    "n = []\n",
    "for number in a:\n",
    "    for j in number:\n",
    "        n.append(j[1])"
   ]
  },
  {
   "cell_type": "code",
   "execution_count": 2836,
   "metadata": {},
   "outputs": [],
   "source": [
    "n = np.array(n)\n",
    "n = n.reshape(w,h)"
   ]
  },
  {
   "cell_type": "code",
   "execution_count": 2837,
   "metadata": {},
   "outputs": [
    {
     "data": {
      "text/plain": [
       "<matplotlib.image.AxesImage at 0x211022fb688>"
      ]
     },
     "execution_count": 2837,
     "metadata": {},
     "output_type": "execute_result"
    },
    {
     "data": {
      "image/png": "[encoded data removed]",
      "text/plain": [
       "<Figure size 432x288 with 1 Axes>"
      ]
     },
     "metadata": {
      "needs_background": "light"
     },
     "output_type": "display_data"
    }
   ],
   "source": [
    "plt.imshow(n, cmap='gray')"
   ]
  },
  {
   "cell_type": "code",
   "execution_count": 2838,
   "metadata": {},
   "outputs": [],
   "source": [
    "x,y = n.shape"
   ]
  },
  {
   "cell_type": "code",
   "execution_count": 2839,
   "metadata": {},
   "outputs": [],
   "source": [
    "count = 0\n",
    "ib = 0\n",
    "for i in range(0,x):\n",
    "    for j in range(0,y):\n",
    "        if(n[i][j]==255):\n",
    "            ib = 1\n",
    "    if ib==1:\n",
    "        break\n",
    "    count +=1"
   ]
  },
  {
   "cell_type": "code",
   "execution_count": 2840,
   "metadata": {},
   "outputs": [],
   "source": [
    "count = count"
   ]
  },
  {
   "cell_type": "code",
   "execution_count": 2841,
   "metadata": {},
   "outputs": [],
   "source": [
    "if count >0:\n",
    "    count -= 1\n",
    "n = np.delete(n, range(0,count), 0)"
   ]
  },
  {
   "cell_type": "code",
   "execution_count": 2842,
   "metadata": {},
   "outputs": [
    {
     "data": {
      "text/plain": [
       "(200, 200)"
      ]
     },
     "execution_count": 2842,
     "metadata": {},
     "output_type": "execute_result"
    }
   ],
   "source": [
    "n.shape"
   ]
  },
  {
   "cell_type": "code",
   "execution_count": 2843,
   "metadata": {},
   "outputs": [],
   "source": [
    "x,y = n.shape"
   ]
  },
  {
   "cell_type": "code",
   "execution_count": 2844,
   "metadata": {},
   "outputs": [],
   "source": [
    "ib=0\n",
    "count2 =0\n",
    "for i in range(0,y):\n",
    "    for j in range(0,x):\n",
    "        if(n[j][i]==255):\n",
    "            ib=1\n",
    "    if ib==1:\n",
    "        break\n",
    "    count2+=1"
   ]
  },
  {
   "cell_type": "code",
   "execution_count": 2845,
   "metadata": {},
   "outputs": [],
   "source": [
    "count2 = count2"
   ]
  },
  {
   "cell_type": "code",
   "execution_count": 2846,
   "metadata": {},
   "outputs": [],
   "source": [
    "n = np.delete(n, range(0,count2), 1)"
   ]
  },
  {
   "cell_type": "code",
   "execution_count": 2847,
   "metadata": {},
   "outputs": [],
   "source": [
    "x,y = n.shape"
   ]
  },
  {
   "cell_type": "code",
   "execution_count": 2848,
   "metadata": {},
   "outputs": [],
   "source": [
    "ib=0\n",
    "count3 =0\n",
    "for i in range(x-1,0,-1):\n",
    "    for j in range(y-1,0,-1):\n",
    "        if(n[i][j]==255):\n",
    "            ib=1\n",
    "    if ib==1:\n",
    "        break\n",
    "    count3+=1"
   ]
  },
  {
   "cell_type": "code",
   "execution_count": 2849,
   "metadata": {},
   "outputs": [],
   "source": [
    "count3 = count3"
   ]
  },
  {
   "cell_type": "code",
   "execution_count": 2850,
   "metadata": {},
   "outputs": [],
   "source": [
    "n = np.delete(n, range(x-count3,x), 0)"
   ]
  },
  {
   "cell_type": "code",
   "execution_count": 2851,
   "metadata": {},
   "outputs": [],
   "source": [
    "x,y = n.shape"
   ]
  },
  {
   "cell_type": "code",
   "execution_count": 2852,
   "metadata": {},
   "outputs": [],
   "source": [
    "ib=0\n",
    "count4 =0\n",
    "for i in range(y-1,0,-1):\n",
    "    for j in range(x-1,0,-1):\n",
    "        if(n[j][i]==255):\n",
    "            ib=1\n",
    "    if ib==1:\n",
    "        break\n",
    "    count4+=1"
   ]
  },
  {
   "cell_type": "code",
   "execution_count": 2853,
   "metadata": {},
   "outputs": [],
   "source": [
    "count4 = count4"
   ]
  },
  {
   "cell_type": "code",
   "execution_count": 2854,
   "metadata": {},
   "outputs": [],
   "source": [
    "n = np.delete(n, range(y-count4,y), 1)"
   ]
  },
  {
   "cell_type": "code",
   "execution_count": 2855,
   "metadata": {},
   "outputs": [
    {
     "data": {
      "text/plain": [
       "<matplotlib.image.AxesImage at 0x2110229bf48>"
      ]
     },
     "execution_count": 2855,
     "metadata": {},
     "output_type": "execute_result"
    },
    {
     "data": {
      "image/png": "[encoded data removed]",
      "text/plain": [
       "<Figure size 432x288 with 1 Axes>"
      ]
     },
     "metadata": {
      "needs_background": "light"
     },
     "output_type": "display_data"
    }
   ],
   "source": [
    "plt.imshow(n, cmap='gray')"
   ]
  },
  {
   "cell_type": "code",
   "execution_count": 2856,
   "metadata": {},
   "outputs": [
    {
     "data": {
      "text/plain": [
       "(200, 200)"
      ]
     },
     "execution_count": 2856,
     "metadata": {},
     "output_type": "execute_result"
    }
   ],
   "source": [
    "n.shape"
   ]
  },
  {
   "cell_type": "code",
   "execution_count": 2857,
   "metadata": {},
   "outputs": [],
   "source": [
    "img1 = Image.fromarray(n)"
   ]
  },
  {
   "cell_type": "code",
   "execution_count": 2858,
   "metadata": {},
   "outputs": [],
   "source": [
    "i,j = n.shape"
   ]
  },
  {
   "cell_type": "code",
   "execution_count": 2859,
   "metadata": {},
   "outputs": [
    {
     "data": {
      "text/plain": [
       "(200, 200)"
      ]
     },
     "execution_count": 2859,
     "metadata": {},
     "output_type": "execute_result"
    }
   ],
   "source": [
    "n.shape"
   ]
  },
  {
   "cell_type": "code",
   "execution_count": 2860,
   "metadata": {},
   "outputs": [],
   "source": [
    "ish = i>j"
   ]
  },
  {
   "cell_type": "code",
   "execution_count": 2861,
   "metadata": {},
   "outputs": [
    {
     "data": {
      "text/plain": [
       "False"
      ]
     },
     "execution_count": 2861,
     "metadata": {},
     "output_type": "execute_result"
    }
   ],
   "source": [
    "ish"
   ]
  },
  {
   "cell_type": "code",
   "execution_count": 2862,
   "metadata": {},
   "outputs": [],
   "source": [
    "img2 =img1"
   ]
  },
  {
   "cell_type": "code",
   "execution_count": 2863,
   "metadata": {},
   "outputs": [],
   "source": [
    "if ish:\n",
    "    img2 = img2.resize( ((int(round((int(round(w/10))/i)*j))*10) ,h))\n",
    "else:\n",
    "    img2 = img2.resize( (w,(int(round((int(round(h/10))/j)*i))*10)))"
   ]
  },
  {
   "cell_type": "code",
   "execution_count": 2864,
   "metadata": {},
   "outputs": [],
   "source": [
    "l = np.asarray(img2)"
   ]
  },
  {
   "cell_type": "code",
   "execution_count": 2865,
   "metadata": {},
   "outputs": [],
   "source": [
    "x,y =l.shape"
   ]
  },
  {
   "cell_type": "code",
   "execution_count": 2866,
   "metadata": {},
   "outputs": [
    {
     "data": {
      "text/plain": [
       "200"
      ]
     },
     "execution_count": 2866,
     "metadata": {},
     "output_type": "execute_result"
    }
   ],
   "source": [
    "x"
   ]
  },
  {
   "cell_type": "code",
   "execution_count": 2867,
   "metadata": {},
   "outputs": [
    {
     "data": {
      "text/plain": [
       "200"
      ]
     },
     "execution_count": 2867,
     "metadata": {},
     "output_type": "execute_result"
    }
   ],
   "source": [
    "y"
   ]
  },
  {
   "cell_type": "code",
   "execution_count": 2868,
   "metadata": {},
   "outputs": [
    {
     "data": {
      "text/plain": [
       "0"
      ]
     },
     "execution_count": 2868,
     "metadata": {},
     "output_type": "execute_result"
    }
   ],
   "source": [
    "h-x"
   ]
  },
  {
   "cell_type": "code",
   "execution_count": 2869,
   "metadata": {},
   "outputs": [],
   "source": [
    "if ish:\n",
    "    res = w-y\n",
    "    p = np.zeros((h, int(res/2)), dtype = np.int)\n",
    "    l = np.concatenate((p, l), axis = 1)\n",
    "    l = np.concatenate((l,p),axis =1)\n",
    "else:\n",
    "    res = h-x\n",
    "    p = np.zeros((int(res/2),w), dtype = np.int)\n",
    "    l = np.concatenate((p, l), axis = 0)\n",
    "    l = np.concatenate((l,p),axis =0)\n",
    "    \n",
    "    "
   ]
  },
  {
   "cell_type": "code",
   "execution_count": 2870,
   "metadata": {},
   "outputs": [
    {
     "data": {
      "text/plain": [
       "<matplotlib.image.AxesImage at 0x21102340088>"
      ]
     },
     "execution_count": 2870,
     "metadata": {},
     "output_type": "execute_result"
    },
    {
     "data": {
      "image/png": "[encoded data removed]",
      "text/plain": [
       "<Figure size 432x288 with 1 Axes>"
      ]
     },
     "metadata": {
      "needs_background": "light"
     },
     "output_type": "display_data"
    }
   ],
   "source": [
    "plt.imshow(l, cmap='gray')"
   ]
  },
  {
   "cell_type": "code",
   "execution_count": 2871,
   "metadata": {},
   "outputs": [
    {
     "data": {
      "text/plain": [
       "(200, 200)"
      ]
     },
     "execution_count": 2871,
     "metadata": {},
     "output_type": "execute_result"
    }
   ],
   "source": [
    "l.shape"
   ]
  },
  {
   "cell_type": "code",
   "execution_count": 2872,
   "metadata": {},
   "outputs": [],
   "source": [
    "f = []\n",
    "sum =0\n",
    "for i0 in range(0,w,10):\n",
    "    for j0 in range(0,h,10):\n",
    "        sum=0\n",
    "        for i in range (i0,i0+10):\n",
    "            for j in range (j0,j0+10):\n",
    "                if l[i][j]==0:\n",
    "                    sum +=1\n",
    "        f.append((100-sum)/100)"
   ]
  },
  {
   "cell_type": "code",
   "execution_count": 2873,
   "metadata": {},
   "outputs": [],
   "source": [
    "f = np.array(f)"
   ]
  },
  {
   "cell_type": "code",
   "execution_count": 2874,
   "metadata": {},
   "outputs": [
    {
     "data": {
      "text/plain": [
       "(400,)"
      ]
     },
     "execution_count": 2874,
     "metadata": {},
     "output_type": "execute_result"
    }
   ],
   "source": [
    "f.shape"
   ]
  },
  {
   "cell_type": "code",
   "execution_count": 2801,
   "metadata": {},
   "outputs": [],
   "source": [
    "f = f.reshape(int(w/10),int(h/10))"
   ]
  },
  {
   "cell_type": "code",
   "execution_count": 2802,
   "metadata": {},
   "outputs": [
    {
     "data": {
      "text/plain": [
       "(20, 20)"
      ]
     },
     "execution_count": 2802,
     "metadata": {},
     "output_type": "execute_result"
    }
   ],
   "source": [
    "f.shape"
   ]
  },
  {
   "cell_type": "code",
   "execution_count": 2803,
   "metadata": {},
   "outputs": [
    {
     "data": {
      "text/plain": [
       "<matplotlib.image.AxesImage at 0x211010c9508>"
      ]
     },
     "execution_count": 2803,
     "metadata": {},
     "output_type": "execute_result"
    },
    {
     "data": {
      "image/png": "[encoded data removed]",
      "text/plain": [
       "<Figure size 432x288 with 1 Axes>"
      ]
     },
     "metadata": {
      "needs_background": "light"
     },
     "output_type": "display_data"
    }
   ],
   "source": [
    "plt.imshow(f, cmap='gray')"
   ]
  },
  {
   "cell_type": "code",
   "execution_count": 2804,
   "metadata": {},
   "outputs": [],
   "source": [
    "ii,jj = f.shape"
   ]
  },
  {
   "cell_type": "code",
   "execution_count": 2805,
   "metadata": {},
   "outputs": [
    {
     "data": {
      "text/plain": [
       "20"
      ]
     },
     "execution_count": 2805,
     "metadata": {},
     "output_type": "execute_result"
    }
   ],
   "source": [
    "ii"
   ]
  },
  {
   "cell_type": "code",
   "execution_count": 2806,
   "metadata": {},
   "outputs": [
    {
     "data": {
      "text/plain": [
       "20"
      ]
     },
     "execution_count": 2806,
     "metadata": {},
     "output_type": "execute_result"
    }
   ],
   "source": [
    "jj"
   ]
  },
  {
   "cell_type": "code",
   "execution_count": 2807,
   "metadata": {},
   "outputs": [],
   "source": [
    "totaly, totalx = 0 , 0\n",
    "cy,cx = 0 , 0 \n",
    "for i in range(0,ii):\n",
    "    for j in range(0,jj):\n",
    "        if f[i][j]!=0:\n",
    "            totaly += (i)\n",
    "            cy+=1\n",
    "        if f[i][j]!=0:\n",
    "            totalx += (j)\n",
    "            cx+=1"
   ]
  },
  {
   "cell_type": "code",
   "execution_count": 2808,
   "metadata": {},
   "outputs": [
    {
     "data": {
      "text/plain": [
       "7.852216748768473"
      ]
     },
     "execution_count": 2808,
     "metadata": {},
     "output_type": "execute_result"
    }
   ],
   "source": [
    "totalx/cx"
   ]
  },
  {
   "cell_type": "code",
   "execution_count": 2809,
   "metadata": {},
   "outputs": [
    {
     "data": {
      "text/plain": [
       "11.108374384236454"
      ]
     },
     "execution_count": 2809,
     "metadata": {},
     "output_type": "execute_result"
    }
   ],
   "source": [
    "totaly/cy"
   ]
  },
  {
   "cell_type": "code",
   "execution_count": 2810,
   "metadata": {},
   "outputs": [],
   "source": [
    "cx,cy = int(round(totalx/cx)),int(round(totaly/cy))"
   ]
  },
  {
   "cell_type": "code",
   "execution_count": 2811,
   "metadata": {},
   "outputs": [
    {
     "data": {
      "text/plain": [
       "8"
      ]
     },
     "execution_count": 2811,
     "metadata": {},
     "output_type": "execute_result"
    }
   ],
   "source": [
    "cx"
   ]
  },
  {
   "cell_type": "code",
   "execution_count": 2812,
   "metadata": {},
   "outputs": [
    {
     "data": {
      "text/plain": [
       "11"
      ]
     },
     "execution_count": 2812,
     "metadata": {},
     "output_type": "execute_result"
    }
   ],
   "source": [
    "cy"
   ]
  },
  {
   "cell_type": "code",
   "execution_count": 2813,
   "metadata": {},
   "outputs": [],
   "source": [
    " top = np.zeros((14-cy, 20), dtype = np.int)"
   ]
  },
  {
   "cell_type": "code",
   "execution_count": 2814,
   "metadata": {},
   "outputs": [],
   "source": [
    "f = np.concatenate((top, f), axis = 0)"
   ]
  },
  {
   "cell_type": "code",
   "execution_count": 2815,
   "metadata": {},
   "outputs": [
    {
     "data": {
      "text/plain": [
       "<matplotlib.image.AxesImage at 0x21101113f88>"
      ]
     },
     "execution_count": 2815,
     "metadata": {},
     "output_type": "execute_result"
    },
    {
     "data": {
      "image/png": "[encoded data removed]",
      "text/plain": [
       "<Figure size 432x288 with 1 Axes>"
      ]
     },
     "metadata": {
      "needs_background": "light"
     },
     "output_type": "display_data"
    }
   ],
   "source": [
    "plt.imshow(f, cmap='gray')"
   ]
  },
  {
   "cell_type": "code",
   "execution_count": 2816,
   "metadata": {},
   "outputs": [],
   "source": [
    " bot = np.zeros((28-((14-cy)+20), 20), dtype = np.int)"
   ]
  },
  {
   "cell_type": "code",
   "execution_count": 2817,
   "metadata": {},
   "outputs": [],
   "source": [
    "f = np.concatenate((f, bot), axis = 0)"
   ]
  },
  {
   "cell_type": "code",
   "execution_count": 2818,
   "metadata": {},
   "outputs": [
    {
     "data": {
      "text/plain": [
       "<matplotlib.image.AxesImage at 0x21101187248>"
      ]
     },
     "execution_count": 2818,
     "metadata": {},
     "output_type": "execute_result"
    },
    {
     "data": {
      "image/png": "[encoded data removed]",
      "text/plain": [
       "<Figure size 432x288 with 1 Axes>"
      ]
     },
     "metadata": {
      "needs_background": "light"
     },
     "output_type": "display_data"
    }
   ],
   "source": [
    "plt.imshow(f, cmap='gray')"
   ]
  },
  {
   "cell_type": "code",
   "execution_count": 2819,
   "metadata": {},
   "outputs": [
    {
     "data": {
      "text/plain": [
       "(28, 20)"
      ]
     },
     "execution_count": 2819,
     "metadata": {},
     "output_type": "execute_result"
    }
   ],
   "source": [
    "f.shape"
   ]
  },
  {
   "cell_type": "code",
   "execution_count": 2820,
   "metadata": {},
   "outputs": [],
   "source": [
    "left = np.zeros((28, 14-cx), dtype = np.int)"
   ]
  },
  {
   "cell_type": "code",
   "execution_count": 2821,
   "metadata": {},
   "outputs": [
    {
     "data": {
      "text/plain": [
       "6"
      ]
     },
     "execution_count": 2821,
     "metadata": {},
     "output_type": "execute_result"
    }
   ],
   "source": [
    "14-cx"
   ]
  },
  {
   "cell_type": "code",
   "execution_count": 2822,
   "metadata": {},
   "outputs": [],
   "source": [
    "f = np.concatenate((left, f), axis = 1)"
   ]
  },
  {
   "cell_type": "code",
   "execution_count": 2823,
   "metadata": {},
   "outputs": [
    {
     "data": {
      "text/plain": [
       "<matplotlib.image.AxesImage at 0x211011e0c48>"
      ]
     },
     "execution_count": 2823,
     "metadata": {},
     "output_type": "execute_result"
    },
    {
     "data": {
      "image/png": "[encoded data removed]",
      "text/plain": [
       "<Figure size 432x288 with 1 Axes>"
      ]
     },
     "metadata": {
      "needs_background": "light"
     },
     "output_type": "display_data"
    }
   ],
   "source": [
    "plt.imshow(f, cmap='gray')"
   ]
  },
  {
   "cell_type": "code",
   "execution_count": 2824,
   "metadata": {},
   "outputs": [],
   "source": [
    "right = np.zeros((28,28-((14-cx)+20)), dtype = np.int)#(28-((14-cx)+20)"
   ]
  },
  {
   "cell_type": "code",
   "execution_count": 2825,
   "metadata": {},
   "outputs": [],
   "source": [
    "f = np.concatenate((f, right), axis = 1)"
   ]
  },
  {
   "cell_type": "code",
   "execution_count": 2826,
   "metadata": {},
   "outputs": [
    {
     "data": {
      "text/plain": [
       "<matplotlib.image.AxesImage at 0x21101245208>"
      ]
     },
     "execution_count": 2826,
     "metadata": {},
     "output_type": "execute_result"
    },
    {
     "data": {
      "image/png": "[encoded data removed]",
      "text/plain": [
       "<Figure size 432x288 with 1 Axes>"
      ]
     },
     "metadata": {
      "needs_background": "light"
     },
     "output_type": "display_data"
    }
   ],
   "source": [
    "plt.imshow(f, cmap='gray')"
   ]
  },
  {
   "cell_type": "code",
   "execution_count": 2827,
   "metadata": {},
   "outputs": [
    {
     "data": {
      "text/plain": [
       "(28, 28)"
      ]
     },
     "execution_count": 2827,
     "metadata": {},
     "output_type": "execute_result"
    }
   ],
   "source": [
    "f.shape"
   ]
  },
  {
   "cell_type": "code",
   "execution_count": null,
   "metadata": {},
   "outputs": [],
   "source": []
  },
  {
   "cell_type": "code",
   "execution_count": null,
   "metadata": {},
   "outputs": [],
   "source": []
  },
  {
   "cell_type": "code",
   "execution_count": null,
   "metadata": {},
   "outputs": [],
   "source": []
  },
  {
   "cell_type": "code",
   "execution_count": null,
   "metadata": {},
   "outputs": [],
   "source": []
  }
 ],
 "metadata": {
  "kernelspec": {
   "display_name": "Python 3",
   "language": "python",
   "name": "python3"
  },
  "language_info": {
   "codemirror_mode": {
    "name": "ipython",
    "version": 3
   },
   "file_extension": ".py",
   "mimetype": "text/x-python",
   "name": "python",
   "nbconvert_exporter": "python",
   "pygments_lexer": "ipython3",
   "version": "3.7.4"
  }
 },
 "nbformat": 4,
 "nbformat_minor": 2
}
