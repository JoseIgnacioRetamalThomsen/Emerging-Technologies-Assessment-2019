{
 "cells": [
  {
   "cell_type": "code",
   "execution_count": 1655,
   "metadata": {},
   "outputs": [],
   "source": [
    "img ='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'"
   ]
  },
  {
   "cell_type": "code",
   "execution_count": 1656,
   "metadata": {},
   "outputs": [
    {
     "data": {
      "text/plain": [
       "'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'"
      ]
     },
     "execution_count": 1656,
     "metadata": {},
     "output_type": "execute_result"
    }
   ],
   "source": [
    "img"
   ]
  },
  {
   "cell_type": "code",
   "execution_count": 1657,
   "metadata": {},
   "outputs": [],
   "source": [
    "import numpy as np"
   ]
  },
  {
   "cell_type": "code",
   "execution_count": 1658,
   "metadata": {},
   "outputs": [],
   "source": [
    "from matplotlib.backends.backend_agg import FigureCanvasAgg as FigureCanvas\n",
    "from matplotlib.figure import Figure\n",
    "\n",
    "import concurrent.futures\n",
    "import urllib.request\n",
    "import base64 as b64\n",
    "from PIL import Image \n",
    "from io import BytesIO\n",
    "import re\n",
    "import pandas as pd\n",
    "%matplotlib inline\n",
    "import matplotlib.pyplot as plt"
   ]
  },
  {
   "cell_type": "code",
   "execution_count": 1659,
   "metadata": {},
   "outputs": [],
   "source": [
    "img = Image.open(BytesIO(b64.b64decode(img))).convert('LA')"
   ]
  },
  {
   "cell_type": "code",
   "execution_count": 1660,
   "metadata": {},
   "outputs": [],
   "source": [
    "w,h = 200,200"
   ]
  },
  {
   "cell_type": "code",
   "execution_count": 1661,
   "metadata": {},
   "outputs": [],
   "source": [
    "img = img.resize((w,h))"
   ]
  },
  {
   "cell_type": "code",
   "execution_count": 1662,
   "metadata": {},
   "outputs": [],
   "source": [
    "a = np.asarray(img)\n",
    "n = []\n",
    "for number in a:\n",
    "    for j in number:\n",
    "        n.append(j[1])"
   ]
  },
  {
   "cell_type": "code",
   "execution_count": 1663,
   "metadata": {},
   "outputs": [],
   "source": [
    "n = np.array(n)\n",
    "n = n.reshape(w,h)"
   ]
  },
  {
   "cell_type": "code",
   "execution_count": 1664,
   "metadata": {},
   "outputs": [
    {
     "data": {
      "text/plain": [
       "<matplotlib.image.AxesImage at 0x2117a14a148>"
      ]
     },
     "execution_count": 1664,
     "metadata": {},
     "output_type": "execute_result"
    },
    {
     "data": {
      "image/png": "[encoded data removed]",
      "text/plain": [
       "<Figure size 432x288 with 1 Axes>"
      ]
     },
     "metadata": {
      "needs_background": "light"
     },
     "output_type": "display_data"
    }
   ],
   "source": [
    "plt.imshow(n, cmap='gray')"
   ]
  },
  {
   "cell_type": "code",
   "execution_count": 1665,
   "metadata": {},
   "outputs": [],
   "source": [
    "x,y = n.shape"
   ]
  },
  {
   "cell_type": "code",
   "execution_count": 1666,
   "metadata": {},
   "outputs": [],
   "source": [
    "count = 0\n",
    "ib = 0\n",
    "for i in range(0,x):\n",
    "    for j in range(0,y):\n",
    "        if(n[i][j]==255):\n",
    "            ib = 1\n",
    "    if ib==1:\n",
    "        break\n",
    "    count +=1"
   ]
  },
  {
   "cell_type": "code",
   "execution_count": 1667,
   "metadata": {},
   "outputs": [],
   "source": [
    "count = count"
   ]
  },
  {
   "cell_type": "code",
   "execution_count": 1668,
   "metadata": {},
   "outputs": [],
   "source": [
    "if count >0:\n",
    "    count -= 1\n",
    "n = np.delete(n, range(0,count), 0)"
   ]
  },
  {
   "cell_type": "code",
   "execution_count": 1669,
   "metadata": {},
   "outputs": [
    {
     "data": {
      "text/plain": [
       "(106, 200)"
      ]
     },
     "execution_count": 1669,
     "metadata": {},
     "output_type": "execute_result"
    }
   ],
   "source": [
    "n.shape"
   ]
  },
  {
   "cell_type": "code",
   "execution_count": 1670,
   "metadata": {},
   "outputs": [],
   "source": [
    "x,y = n.shape"
   ]
  },
  {
   "cell_type": "code",
   "execution_count": 1671,
   "metadata": {},
   "outputs": [],
   "source": [
    "ib=0\n",
    "count2 =0\n",
    "for i in range(0,y):\n",
    "    for j in range(0,x):\n",
    "        if(n[j][i]==255):\n",
    "            ib=1\n",
    "    if ib==1:\n",
    "        break\n",
    "    count2+=1"
   ]
  },
  {
   "cell_type": "code",
   "execution_count": 1672,
   "metadata": {},
   "outputs": [],
   "source": [
    "count2 = count2"
   ]
  },
  {
   "cell_type": "code",
   "execution_count": 1673,
   "metadata": {},
   "outputs": [],
   "source": [
    "n = np.delete(n, range(0,count2), 1)"
   ]
  },
  {
   "cell_type": "code",
   "execution_count": 1674,
   "metadata": {},
   "outputs": [],
   "source": [
    "x,y = n.shape"
   ]
  },
  {
   "cell_type": "code",
   "execution_count": 1675,
   "metadata": {},
   "outputs": [],
   "source": [
    "ib=0\n",
    "count3 =0\n",
    "for i in range(x-1,0,-1):\n",
    "    for j in range(y-1,0,-1):\n",
    "        if(n[i][j]==255):\n",
    "            ib=1\n",
    "    if ib==1:\n",
    "        break\n",
    "    count3+=1"
   ]
  },
  {
   "cell_type": "code",
   "execution_count": 1676,
   "metadata": {},
   "outputs": [],
   "source": [
    "count3 = count3"
   ]
  },
  {
   "cell_type": "code",
   "execution_count": 1677,
   "metadata": {},
   "outputs": [],
   "source": [
    "n = np.delete(n, range(x-count3,x), 0)"
   ]
  },
  {
   "cell_type": "code",
   "execution_count": 1678,
   "metadata": {},
   "outputs": [],
   "source": [
    "x,y = n.shape"
   ]
  },
  {
   "cell_type": "code",
   "execution_count": 1679,
   "metadata": {},
   "outputs": [],
   "source": [
    "ib=0\n",
    "count4 =0\n",
    "for i in range(y-1,0,-1):\n",
    "    for j in range(x-1,0,-1):\n",
    "        if(n[j][i]==255):\n",
    "            ib=1\n",
    "    if ib==1:\n",
    "        break\n",
    "    count4+=1"
   ]
  },
  {
   "cell_type": "code",
   "execution_count": 1680,
   "metadata": {},
   "outputs": [],
   "source": [
    "count4 = count4"
   ]
  },
  {
   "cell_type": "code",
   "execution_count": 1681,
   "metadata": {},
   "outputs": [],
   "source": [
    "n = np.delete(n, range(y-count4,y), 1)"
   ]
  },
  {
   "cell_type": "code",
   "execution_count": 1682,
   "metadata": {},
   "outputs": [
    {
     "data": {
      "text/plain": [
       "<matplotlib.image.AxesImage at 0x2117a174348>"
      ]
     },
     "execution_count": 1682,
     "metadata": {},
     "output_type": "execute_result"
    },
    {
     "data": {
      "image/png": "[encoded data removed]",
      "text/plain": [
       "<Figure size 432x288 with 1 Axes>"
      ]
     },
     "metadata": {
      "needs_background": "light"
     },
     "output_type": "display_data"
    }
   ],
   "source": [
    "plt.imshow(n, cmap='gray')"
   ]
  },
  {
   "cell_type": "code",
   "execution_count": 1683,
   "metadata": {},
   "outputs": [
    {
     "data": {
      "text/plain": [
       "(88, 76)"
      ]
     },
     "execution_count": 1683,
     "metadata": {},
     "output_type": "execute_result"
    }
   ],
   "source": [
    "n.shape"
   ]
  },
  {
   "cell_type": "code",
   "execution_count": 1684,
   "metadata": {},
   "outputs": [],
   "source": [
    "img1 = Image.fromarray(n)"
   ]
  },
  {
   "cell_type": "code",
   "execution_count": 1685,
   "metadata": {},
   "outputs": [],
   "source": [
    "i,j = n.shape"
   ]
  },
  {
   "cell_type": "code",
   "execution_count": 1686,
   "metadata": {},
   "outputs": [
    {
     "data": {
      "text/plain": [
       "(88, 76)"
      ]
     },
     "execution_count": 1686,
     "metadata": {},
     "output_type": "execute_result"
    }
   ],
   "source": [
    "n.shape"
   ]
  },
  {
   "cell_type": "code",
   "execution_count": 1687,
   "metadata": {},
   "outputs": [],
   "source": [
    "ish = i>j"
   ]
  },
  {
   "cell_type": "code",
   "execution_count": 1688,
   "metadata": {},
   "outputs": [
    {
     "data": {
      "text/plain": [
       "True"
      ]
     },
     "execution_count": 1688,
     "metadata": {},
     "output_type": "execute_result"
    }
   ],
   "source": [
    "ish"
   ]
  },
  {
   "cell_type": "code",
   "execution_count": 1689,
   "metadata": {},
   "outputs": [],
   "source": [
    "img2 =img1"
   ]
  },
  {
   "cell_type": "code",
   "execution_count": 1690,
   "metadata": {},
   "outputs": [],
   "source": [
    "if ish:\n",
    "    img2 = img2.resize( ((int(round((int(round(w/10))/i)*j))*10) ,h))\n",
    "else:\n",
    "    img2 = img2.resize( (w,(int(round((int(round(h/10))/j)*i))*10)))"
   ]
  },
  {
   "cell_type": "code",
   "execution_count": 1691,
   "metadata": {},
   "outputs": [],
   "source": [
    "l = np.asarray(img2)"
   ]
  },
  {
   "cell_type": "code",
   "execution_count": 1692,
   "metadata": {},
   "outputs": [],
   "source": [
    "x,y =l.shape"
   ]
  },
  {
   "cell_type": "code",
   "execution_count": 1693,
   "metadata": {},
   "outputs": [
    {
     "data": {
      "text/plain": [
       "200"
      ]
     },
     "execution_count": 1693,
     "metadata": {},
     "output_type": "execute_result"
    }
   ],
   "source": [
    "x"
   ]
  },
  {
   "cell_type": "code",
   "execution_count": 1694,
   "metadata": {},
   "outputs": [
    {
     "data": {
      "text/plain": [
       "170"
      ]
     },
     "execution_count": 1694,
     "metadata": {},
     "output_type": "execute_result"
    }
   ],
   "source": [
    "y"
   ]
  },
  {
   "cell_type": "code",
   "execution_count": 1695,
   "metadata": {},
   "outputs": [
    {
     "data": {
      "text/plain": [
       "0"
      ]
     },
     "execution_count": 1695,
     "metadata": {},
     "output_type": "execute_result"
    }
   ],
   "source": [
    "h-x"
   ]
  },
  {
   "cell_type": "code",
   "execution_count": 1696,
   "metadata": {},
   "outputs": [],
   "source": [
    "if ish:\n",
    "    res = w-y\n",
    "    p = np.zeros((h, int(res/2)), dtype = np.int)\n",
    "    l = np.concatenate((p, l), axis = 1)\n",
    "    l = np.concatenate((l,p),axis =1)\n",
    "else:\n",
    "    res = h-x\n",
    "    p = np.zeros((int(res/2),w), dtype = np.int)\n",
    "    l = np.concatenate((p, l), axis = 0)\n",
    "    l = np.concatenate((l,p),axis =0)\n",
    "    \n",
    "    "
   ]
  },
  {
   "cell_type": "code",
   "execution_count": 1697,
   "metadata": {},
   "outputs": [
    {
     "data": {
      "text/plain": [
       "<matplotlib.image.AxesImage at 0x2117a220708>"
      ]
     },
     "execution_count": 1697,
     "metadata": {},
     "output_type": "execute_result"
    },
    {
     "data": {
      "image/png": "[encoded data removed]",
      "text/plain": [
       "<Figure size 432x288 with 1 Axes>"
      ]
     },
     "metadata": {
      "needs_background": "light"
     },
     "output_type": "display_data"
    }
   ],
   "source": [
    "plt.imshow(l, cmap='gray')"
   ]
  },
  {
   "cell_type": "code",
   "execution_count": 1698,
   "metadata": {},
   "outputs": [
    {
     "data": {
      "text/plain": [
       "(200, 200)"
      ]
     },
     "execution_count": 1698,
     "metadata": {},
     "output_type": "execute_result"
    }
   ],
   "source": [
    "l.shape"
   ]
  },
  {
   "cell_type": "code",
   "execution_count": 1699,
   "metadata": {},
   "outputs": [],
   "source": [
    "f = []\n",
    "sum =0\n",
    "for i0 in range(0,w,10):\n",
    "    for j0 in range(0,h,10):\n",
    "        sum=0\n",
    "        for i in range (i0,i0+10):\n",
    "            for j in range (j0,j0+10):\n",
    "                if l[i][j]==0:\n",
    "                    sum +=1\n",
    "        f.append((100-sum)/100)"
   ]
  },
  {
   "cell_type": "code",
   "execution_count": 1700,
   "metadata": {},
   "outputs": [],
   "source": [
    "f = np.array(f)"
   ]
  },
  {
   "cell_type": "code",
   "execution_count": 1701,
   "metadata": {},
   "outputs": [
    {
     "data": {
      "text/plain": [
       "(400,)"
      ]
     },
     "execution_count": 1701,
     "metadata": {},
     "output_type": "execute_result"
    }
   ],
   "source": [
    "f.shape"
   ]
  },
  {
   "cell_type": "code",
   "execution_count": 1702,
   "metadata": {},
   "outputs": [],
   "source": [
    "f = f.reshape(int(w/10),int(h/10))"
   ]
  },
  {
   "cell_type": "code",
   "execution_count": 1703,
   "metadata": {},
   "outputs": [
    {
     "data": {
      "text/plain": [
       "(20, 20)"
      ]
     },
     "execution_count": 1703,
     "metadata": {},
     "output_type": "execute_result"
    }
   ],
   "source": [
    "f.shape"
   ]
  },
  {
   "cell_type": "code",
   "execution_count": 1704,
   "metadata": {},
   "outputs": [
    {
     "data": {
      "text/plain": [
       "<matplotlib.image.AxesImage at 0x2117a27fd08>"
      ]
     },
     "execution_count": 1704,
     "metadata": {},
     "output_type": "execute_result"
    },
    {
     "data": {
      "image/png": "[encoded data removed]",
      "text/plain": [
       "<Figure size 432x288 with 1 Axes>"
      ]
     },
     "metadata": {
      "needs_background": "light"
     },
     "output_type": "display_data"
    }
   ],
   "source": [
    "plt.imshow(f, cmap='gray')"
   ]
  },
  {
   "cell_type": "code",
   "execution_count": 1705,
   "metadata": {},
   "outputs": [],
   "source": [
    "ii,jj = f.shape"
   ]
  },
  {
   "cell_type": "code",
   "execution_count": 1706,
   "metadata": {},
   "outputs": [
    {
     "data": {
      "text/plain": [
       "20"
      ]
     },
     "execution_count": 1706,
     "metadata": {},
     "output_type": "execute_result"
    }
   ],
   "source": [
    "ii"
   ]
  },
  {
   "cell_type": "code",
   "execution_count": 1707,
   "metadata": {},
   "outputs": [
    {
     "data": {
      "text/plain": [
       "20"
      ]
     },
     "execution_count": 1707,
     "metadata": {},
     "output_type": "execute_result"
    }
   ],
   "source": [
    "jj"
   ]
  },
  {
   "cell_type": "code",
   "execution_count": 1708,
   "metadata": {},
   "outputs": [],
   "source": [
    "totaly, totalx = 0 , 0\n",
    "cy,cx = 0 , 0 \n",
    "for i in range(0,ii):\n",
    "    for j in range(0,jj):\n",
    "        if f[i][j]==0:\n",
    "            totaly += (i+1)\n",
    "            cy+=1\n",
    "        if f[i][j]==0:\n",
    "            totalx += (j+1)\n",
    "            cx+=1"
   ]
  },
  {
   "cell_type": "code",
   "execution_count": 1709,
   "metadata": {},
   "outputs": [
    {
     "data": {
      "text/plain": [
       "9.741803278688524"
      ]
     },
     "execution_count": 1709,
     "metadata": {},
     "output_type": "execute_result"
    }
   ],
   "source": [
    "totalx/cx"
   ]
  },
  {
   "cell_type": "code",
   "execution_count": 1710,
   "metadata": {},
   "outputs": [
    {
     "data": {
      "text/plain": [
       "10.954918032786885"
      ]
     },
     "execution_count": 1710,
     "metadata": {},
     "output_type": "execute_result"
    }
   ],
   "source": [
    "totaly/cy"
   ]
  },
  {
   "cell_type": "code",
   "execution_count": 1711,
   "metadata": {},
   "outputs": [],
   "source": [
    "cx,cy = int(round(totalx/cx)),int(round(totaly/cy))"
   ]
  },
  {
   "cell_type": "code",
   "execution_count": 1712,
   "metadata": {},
   "outputs": [
    {
     "data": {
      "text/plain": [
       "10"
      ]
     },
     "execution_count": 1712,
     "metadata": {},
     "output_type": "execute_result"
    }
   ],
   "source": [
    "cx"
   ]
  },
  {
   "cell_type": "code",
   "execution_count": 1713,
   "metadata": {},
   "outputs": [
    {
     "data": {
      "text/plain": [
       "11"
      ]
     },
     "execution_count": 1713,
     "metadata": {},
     "output_type": "execute_result"
    }
   ],
   "source": [
    "cy"
   ]
  },
  {
   "cell_type": "code",
   "execution_count": 1714,
   "metadata": {},
   "outputs": [],
   "source": [
    " top = np.zeros((14-cy, 20), dtype = np.int)"
   ]
  },
  {
   "cell_type": "code",
   "execution_count": 1715,
   "metadata": {},
   "outputs": [],
   "source": [
    "f = np.concatenate((top, f), axis = 0)"
   ]
  },
  {
   "cell_type": "code",
   "execution_count": 1716,
   "metadata": {},
   "outputs": [
    {
     "data": {
      "text/plain": [
       "<matplotlib.image.AxesImage at 0x2117a2eb0c8>"
      ]
     },
     "execution_count": 1716,
     "metadata": {},
     "output_type": "execute_result"
    },
    {
     "data": {
      "image/png": "[encoded data removed]",
      "text/plain": [
       "<Figure size 432x288 with 1 Axes>"
      ]
     },
     "metadata": {
      "needs_background": "light"
     },
     "output_type": "display_data"
    }
   ],
   "source": [
    "plt.imshow(f, cmap='gray')"
   ]
  },
  {
   "cell_type": "code",
   "execution_count": 1717,
   "metadata": {},
   "outputs": [],
   "source": [
    " bot = np.zeros((28-((14-cy)+20), 20), dtype = np.int)"
   ]
  },
  {
   "cell_type": "code",
   "execution_count": 1718,
   "metadata": {},
   "outputs": [],
   "source": [
    "f = np.concatenate((f, bot), axis = 0)"
   ]
  },
  {
   "cell_type": "code",
   "execution_count": 1719,
   "metadata": {},
   "outputs": [
    {
     "data": {
      "text/plain": [
       "<matplotlib.image.AxesImage at 0x2117a351448>"
      ]
     },
     "execution_count": 1719,
     "metadata": {},
     "output_type": "execute_result"
    },
    {
     "data": {
      "image/png": "[encoded data removed]",
      "text/plain": [
       "<Figure size 432x288 with 1 Axes>"
      ]
     },
     "metadata": {
      "needs_background": "light"
     },
     "output_type": "display_data"
    }
   ],
   "source": [
    "plt.imshow(f, cmap='gray')"
   ]
  },
  {
   "cell_type": "code",
   "execution_count": 1720,
   "metadata": {},
   "outputs": [
    {
     "data": {
      "text/plain": [
       "(28, 20)"
      ]
     },
     "execution_count": 1720,
     "metadata": {},
     "output_type": "execute_result"
    }
   ],
   "source": [
    "f.shape"
   ]
  },
  {
   "cell_type": "code",
   "execution_count": 1721,
   "metadata": {},
   "outputs": [],
   "source": [
    "left = np.zeros((28, 14-cx), dtype = np.int)"
   ]
  },
  {
   "cell_type": "code",
   "execution_count": 1722,
   "metadata": {},
   "outputs": [],
   "source": [
    "f = np.concatenate((left, f), axis = 1)"
   ]
  },
  {
   "cell_type": "code",
   "execution_count": 1723,
   "metadata": {},
   "outputs": [
    {
     "data": {
      "text/plain": [
       "<matplotlib.image.AxesImage at 0x2117a3acf48>"
      ]
     },
     "execution_count": 1723,
     "metadata": {},
     "output_type": "execute_result"
    },
    {
     "data": {
      "image/png": "[encoded data removed]",
      "text/plain": [
       "<Figure size 432x288 with 1 Axes>"
      ]
     },
     "metadata": {
      "needs_background": "light"
     },
     "output_type": "display_data"
    }
   ],
   "source": [
    "plt.imshow(f, cmap='gray')"
   ]
  },
  {
   "cell_type": "code",
   "execution_count": 1724,
   "metadata": {},
   "outputs": [],
   "source": [
    "right = np.zeros((28, (28-((14-cx)+20))), dtype = np.int)"
   ]
  },
  {
   "cell_type": "code",
   "execution_count": 1725,
   "metadata": {},
   "outputs": [],
   "source": [
    "f = np.concatenate((f, right), axis = 1)"
   ]
  },
  {
   "cell_type": "code",
   "execution_count": 1726,
   "metadata": {},
   "outputs": [
    {
     "data": {
      "text/plain": [
       "<matplotlib.image.AxesImage at 0x2117a40bd08>"
      ]
     },
     "execution_count": 1726,
     "metadata": {},
     "output_type": "execute_result"
    },
    {
     "data": {
      "image/png": "[encoded data removed]",
      "text/plain": [
       "<Figure size 432x288 with 1 Axes>"
      ]
     },
     "metadata": {
      "needs_background": "light"
     },
     "output_type": "display_data"
    }
   ],
   "source": [
    "plt.imshow(f, cmap='gray')"
   ]
  },
  {
   "cell_type": "code",
   "execution_count": 1727,
   "metadata": {},
   "outputs": [
    {
     "data": {
      "text/plain": [
       "(28, 28)"
      ]
     },
     "execution_count": 1727,
     "metadata": {},
     "output_type": "execute_result"
    }
   ],
   "source": [
    "f.shape"
   ]
  }
 ],
 "metadata": {
  "kernelspec": {
   "display_name": "Python 3",
   "language": "python",
   "name": "python3"
  },
  "language_info": {
   "codemirror_mode": {
    "name": "ipython",
    "version": 3
   },
   "file_extension": ".py",
   "mimetype": "text/x-python",
   "name": "python",
   "nbconvert_exporter": "python",
   "pygments_lexer": "ipython3",
   "version": "3.7.4"
  }
 },
 "nbformat": 4,
 "nbformat_minor": 2
}
