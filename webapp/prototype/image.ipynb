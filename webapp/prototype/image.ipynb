{
 "cells": [
  {
   "cell_type": "code",
   "execution_count": 1,
   "metadata": {},
   "outputs": [],
   "source": [
    "img ='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'"
   ]
  },
  {
   "cell_type": "code",
   "execution_count": 2,
   "metadata": {},
   "outputs": [],
   "source": [
    "import numpy as np"
   ]
  },
  {
   "cell_type": "code",
   "execution_count": 3,
   "metadata": {},
   "outputs": [],
   "source": [
    "from matplotlib.backends.backend_agg import FigureCanvasAgg as FigureCanvas\n",
    "from matplotlib.figure import Figure\n",
    "\n",
    "import concurrent.futures\n",
    "import urllib.request\n",
    "import base64 as b64\n",
    "from PIL import Image \n",
    "from io import BytesIO\n",
    "import re\n",
    "import pandas as pd\n",
    "%matplotlib inline\n",
    "import matplotlib.pyplot as plt"
   ]
  },
  {
   "cell_type": "code",
   "execution_count": 4,
   "metadata": {},
   "outputs": [],
   "source": [
    "img = Image.open(BytesIO(b64.b64decode(img))).convert('LA')"
   ]
  },
  {
   "cell_type": "code",
   "execution_count": 5,
   "metadata": {},
   "outputs": [
    {
     "data": {
      "image/png": "[encoded data removed]",
      "text/plain": [
       "<PIL.Image.Image image mode=LA size=800x200 at 0x2E5F265AFC8>"
      ]
     },
     "execution_count": 5,
     "metadata": {},
     "output_type": "execute_result"
    }
   ],
   "source": [
    "img"
   ]
  },
  {
   "cell_type": "code",
   "execution_count": 6,
   "metadata": {},
   "outputs": [],
   "source": [
    "w,h = 200,800"
   ]
  },
  {
   "cell_type": "code",
   "execution_count": 7,
   "metadata": {},
   "outputs": [],
   "source": [
    "#img = img.resize((w,h))"
   ]
  },
  {
   "cell_type": "code",
   "execution_count": 8,
   "metadata": {},
   "outputs": [],
   "source": [
    "a = np.asarray(img)\n",
    "n = []\n",
    "for number in a:\n",
    "    for j in number:\n",
    "        n.append(j[1])"
   ]
  },
  {
   "cell_type": "code",
   "execution_count": 9,
   "metadata": {},
   "outputs": [],
   "source": [
    "n = np.array(n)\n",
    "n = n.reshape(w,h)"
   ]
  },
  {
   "cell_type": "code",
   "execution_count": 10,
   "metadata": {},
   "outputs": [
    {
     "data": {
      "text/plain": [
       "<matplotlib.image.AxesImage at 0x2e5f270fac8>"
      ]
     },
     "execution_count": 10,
     "metadata": {},
     "output_type": "execute_result"
    },
    {
     "data": {
      "image/png": "[encoded data removed]",
      "text/plain": [
       "<Figure size 432x288 with 1 Axes>"
      ]
     },
     "metadata": {
      "needs_background": "light"
     },
     "output_type": "display_data"
    }
   ],
   "source": [
    "plt.imshow(n, cmap='gray')"
   ]
  },
  {
   "cell_type": "code",
   "execution_count": 11,
   "metadata": {},
   "outputs": [],
   "source": [
    "x,y = n.shape"
   ]
  },
  {
   "cell_type": "markdown",
   "metadata": {},
   "source": [
    "Crop left reight"
   ]
  },
  {
   "cell_type": "code",
   "execution_count": 12,
   "metadata": {},
   "outputs": [],
   "source": [
    "count = 0\n",
    "ib = 0\n",
    "for i in range(0,x):\n",
    "    for j in range(0,y):\n",
    "        if(n[i][j]==255):\n",
    "            ib = 1\n",
    "    if ib==1:\n",
    "        break\n",
    "    count +=1"
   ]
  },
  {
   "cell_type": "code",
   "execution_count": 13,
   "metadata": {},
   "outputs": [],
   "source": [
    "if count >0:\n",
    "    count -= 1\n",
    "n = np.delete(n, range(0,count), 0)"
   ]
  },
  {
   "cell_type": "code",
   "execution_count": 14,
   "metadata": {},
   "outputs": [
    {
     "data": {
      "text/plain": [
       "(139, 800)"
      ]
     },
     "execution_count": 14,
     "metadata": {},
     "output_type": "execute_result"
    }
   ],
   "source": [
    "n.shape"
   ]
  },
  {
   "cell_type": "code",
   "execution_count": 15,
   "metadata": {},
   "outputs": [],
   "source": [
    "x,y = n.shape"
   ]
  },
  {
   "cell_type": "code",
   "execution_count": 16,
   "metadata": {},
   "outputs": [],
   "source": [
    "ib=0\n",
    "count2 =0\n",
    "for i in range(0,y):\n",
    "    for j in range(0,x):\n",
    "        if(n[j][i]==255):\n",
    "            ib=1\n",
    "    if ib==1:\n",
    "        break\n",
    "    count2+=1"
   ]
  },
  {
   "cell_type": "code",
   "execution_count": 17,
   "metadata": {},
   "outputs": [],
   "source": [
    "if count2 >0:\n",
    "    count2 -= 1\n",
    "n = np.delete(n, range(0,count2), 1)"
   ]
  },
  {
   "cell_type": "code",
   "execution_count": 18,
   "metadata": {},
   "outputs": [],
   "source": [
    "x,y = n.shape"
   ]
  },
  {
   "cell_type": "code",
   "execution_count": 19,
   "metadata": {},
   "outputs": [],
   "source": [
    "ib=0\n",
    "count3 =0\n",
    "for i in range(x-1,0,-1):\n",
    "    for j in range(y-1,0,-1):\n",
    "        if(n[i][j]==255):\n",
    "            ib=1\n",
    "    if ib==1:\n",
    "        break\n",
    "    count3+=1"
   ]
  },
  {
   "cell_type": "code",
   "execution_count": 20,
   "metadata": {},
   "outputs": [],
   "source": [
    "if count3 >0:\n",
    "    count3 -= 1"
   ]
  },
  {
   "cell_type": "code",
   "execution_count": 21,
   "metadata": {},
   "outputs": [],
   "source": [
    "n = np.delete(n, range(x-count3,x), 0)"
   ]
  },
  {
   "cell_type": "code",
   "execution_count": 22,
   "metadata": {},
   "outputs": [],
   "source": [
    "x,y = n.shape"
   ]
  },
  {
   "cell_type": "code",
   "execution_count": 23,
   "metadata": {},
   "outputs": [],
   "source": [
    "ib=0\n",
    "count4 =0\n",
    "for i in range(y-1,0,-1):\n",
    "    for j in range(x-1,0,-1):\n",
    "        if(n[j][i]==255):\n",
    "            ib=1\n",
    "    if ib==1:\n",
    "        break\n",
    "    count4+=1"
   ]
  },
  {
   "cell_type": "code",
   "execution_count": 24,
   "metadata": {},
   "outputs": [],
   "source": [
    "if count4 >0:\n",
    "    count4 -= 1"
   ]
  },
  {
   "cell_type": "code",
   "execution_count": 25,
   "metadata": {},
   "outputs": [],
   "source": [
    "n = np.delete(n, range(y-count4,y), 1)"
   ]
  },
  {
   "cell_type": "code",
   "execution_count": 26,
   "metadata": {},
   "outputs": [
    {
     "data": {
      "text/plain": [
       "<matplotlib.image.AxesImage at 0x2e5f29bd788>"
      ]
     },
     "execution_count": 26,
     "metadata": {},
     "output_type": "execute_result"
    },
    {
     "data": {
      "image/png": "[encoded data removed]",
      "text/plain": [
       "<Figure size 432x288 with 1 Axes>"
      ]
     },
     "metadata": {
      "needs_background": "light"
     },
     "output_type": "display_data"
    }
   ],
   "source": [
    "plt.imshow(n, cmap='gray')"
   ]
  },
  {
   "cell_type": "code",
   "execution_count": 253,
   "metadata": {},
   "outputs": [
    {
     "data": {
      "text/plain": [
       "(106, 60)"
      ]
     },
     "execution_count": 253,
     "metadata": {},
     "output_type": "execute_result"
    }
   ],
   "source": [
    "n.shape"
   ]
  },
  {
   "cell_type": "code",
   "execution_count": 254,
   "metadata": {},
   "outputs": [],
   "source": [
    "img1 = Image.fromarray(n)"
   ]
  },
  {
   "cell_type": "code",
   "execution_count": 255,
   "metadata": {},
   "outputs": [],
   "source": [
    "i,j = n.shape"
   ]
  },
  {
   "cell_type": "code",
   "execution_count": 256,
   "metadata": {},
   "outputs": [
    {
     "data": {
      "text/plain": [
       "(106, 60)"
      ]
     },
     "execution_count": 256,
     "metadata": {},
     "output_type": "execute_result"
    }
   ],
   "source": [
    "n.shape"
   ]
  },
  {
   "cell_type": "code",
   "execution_count": 257,
   "metadata": {},
   "outputs": [],
   "source": [
    "ish = i>j"
   ]
  },
  {
   "cell_type": "code",
   "execution_count": 258,
   "metadata": {},
   "outputs": [],
   "source": [
    "w,h = 200,200"
   ]
  },
  {
   "cell_type": "code",
   "execution_count": 259,
   "metadata": {},
   "outputs": [
    {
     "data": {
      "text/plain": [
       "True"
      ]
     },
     "execution_count": 259,
     "metadata": {},
     "output_type": "execute_result"
    }
   ],
   "source": [
    "ish"
   ]
  },
  {
   "cell_type": "code",
   "execution_count": 260,
   "metadata": {},
   "outputs": [],
   "source": [
    "img2 =img1"
   ]
  },
  {
   "cell_type": "code",
   "execution_count": 261,
   "metadata": {},
   "outputs": [],
   "source": [
    "if ish:\n",
    "    img2 = img2.resize( ((int(round((int(round(w/10))/i)*j))*10) ,h))\n",
    "else:\n",
    "    img2 = img2.resize( (w,(int(round((int(round(h/10))/j)*i))*10)))"
   ]
  },
  {
   "cell_type": "code",
   "execution_count": 262,
   "metadata": {},
   "outputs": [],
   "source": [
    "l = np.asarray(img2)"
   ]
  },
  {
   "cell_type": "code",
   "execution_count": 263,
   "metadata": {},
   "outputs": [],
   "source": [
    "x,y =l.shape"
   ]
  },
  {
   "cell_type": "code",
   "execution_count": 264,
   "metadata": {},
   "outputs": [
    {
     "data": {
      "text/plain": [
       "200"
      ]
     },
     "execution_count": 264,
     "metadata": {},
     "output_type": "execute_result"
    }
   ],
   "source": [
    "x"
   ]
  },
  {
   "cell_type": "code",
   "execution_count": 265,
   "metadata": {},
   "outputs": [
    {
     "data": {
      "text/plain": [
       "110"
      ]
     },
     "execution_count": 265,
     "metadata": {},
     "output_type": "execute_result"
    }
   ],
   "source": [
    "y"
   ]
  },
  {
   "cell_type": "code",
   "execution_count": 266,
   "metadata": {},
   "outputs": [
    {
     "data": {
      "text/plain": [
       "0"
      ]
     },
     "execution_count": 266,
     "metadata": {},
     "output_type": "execute_result"
    }
   ],
   "source": [
    "h-x"
   ]
  },
  {
   "cell_type": "code",
   "execution_count": 267,
   "metadata": {},
   "outputs": [],
   "source": [
    "if ish:\n",
    "    res = w-y\n",
    "    p = np.zeros((h, int(res/2)), dtype = np.int)\n",
    "    l = np.concatenate((p, l), axis = 1)\n",
    "    l = np.concatenate((l,p),axis =1)\n",
    "else:\n",
    "    res = h-x\n",
    "    p = np.zeros((int(res/2),w), dtype = np.int)\n",
    "    l = np.concatenate((p, l), axis = 0)\n",
    "    l = np.concatenate((l,p),axis =0)\n",
    "    \n",
    "    "
   ]
  },
  {
   "cell_type": "code",
   "execution_count": 268,
   "metadata": {},
   "outputs": [
    {
     "data": {
      "text/plain": [
       "<matplotlib.image.AxesImage at 0x1ac19a43a08>"
      ]
     },
     "execution_count": 268,
     "metadata": {},
     "output_type": "execute_result"
    },
    {
     "data": {
      "image/png": "[encoded data removed]",
      "text/plain": [
       "<Figure size 432x288 with 1 Axes>"
      ]
     },
     "metadata": {
      "needs_background": "light"
     },
     "output_type": "display_data"
    }
   ],
   "source": [
    "plt.imshow(l, cmap='gray')"
   ]
  },
  {
   "cell_type": "code",
   "execution_count": 269,
   "metadata": {},
   "outputs": [
    {
     "data": {
      "text/plain": [
       "(200, 200)"
      ]
     },
     "execution_count": 269,
     "metadata": {},
     "output_type": "execute_result"
    }
   ],
   "source": [
    "l.shape"
   ]
  },
  {
   "cell_type": "code",
   "execution_count": 270,
   "metadata": {},
   "outputs": [],
   "source": [
    "f = []\n",
    "sum =0\n",
    "for i0 in range(0,w,10):\n",
    "    for j0 in range(0,h,10):\n",
    "        sum=0\n",
    "        for i in range (i0,i0+10):\n",
    "            for j in range (j0,j0+10):\n",
    "                if l[i][j]==0:\n",
    "                    sum +=1\n",
    "        if(sum==0): sum= 0.01\n",
    "        f.append((sum)/100)"
   ]
  },
  {
   "cell_type": "code",
   "execution_count": 271,
   "metadata": {},
   "outputs": [],
   "source": [
    "f = np.array(f)"
   ]
  },
  {
   "cell_type": "code",
   "execution_count": 272,
   "metadata": {},
   "outputs": [
    {
     "data": {
      "text/plain": [
       "(400,)"
      ]
     },
     "execution_count": 272,
     "metadata": {},
     "output_type": "execute_result"
    }
   ],
   "source": [
    "f.shape"
   ]
  },
  {
   "cell_type": "code",
   "execution_count": 273,
   "metadata": {},
   "outputs": [],
   "source": [
    "f = f.reshape(int(w/10),int(h/10))"
   ]
  },
  {
   "cell_type": "code",
   "execution_count": 274,
   "metadata": {},
   "outputs": [
    {
     "data": {
      "text/plain": [
       "(20, 20)"
      ]
     },
     "execution_count": 274,
     "metadata": {},
     "output_type": "execute_result"
    }
   ],
   "source": [
    "f.shape"
   ]
  },
  {
   "cell_type": "code",
   "execution_count": 275,
   "metadata": {},
   "outputs": [
    {
     "data": {
      "text/plain": [
       "<matplotlib.image.AxesImage at 0x1ac19aaeb48>"
      ]
     },
     "execution_count": 275,
     "metadata": {},
     "output_type": "execute_result"
    },
    {
     "data": {
      "image/png": "[encoded data removed]",
      "text/plain": [
       "<Figure size 432x288 with 1 Axes>"
      ]
     },
     "metadata": {
      "needs_background": "light"
     },
     "output_type": "display_data"
    }
   ],
   "source": [
    "plt.imshow(f, cmap='gray')"
   ]
  },
  {
   "cell_type": "code",
   "execution_count": 276,
   "metadata": {},
   "outputs": [],
   "source": [
    "ii,jj = f.shape"
   ]
  },
  {
   "cell_type": "code",
   "execution_count": 277,
   "metadata": {},
   "outputs": [
    {
     "data": {
      "text/plain": [
       "20"
      ]
     },
     "execution_count": 277,
     "metadata": {},
     "output_type": "execute_result"
    }
   ],
   "source": [
    "ii"
   ]
  },
  {
   "cell_type": "code",
   "execution_count": 278,
   "metadata": {},
   "outputs": [
    {
     "data": {
      "text/plain": [
       "20"
      ]
     },
     "execution_count": 278,
     "metadata": {},
     "output_type": "execute_result"
    }
   ],
   "source": [
    "jj"
   ]
  },
  {
   "cell_type": "code",
   "execution_count": 279,
   "metadata": {},
   "outputs": [],
   "source": [
    "totaly, totalx = 0 , 0\n",
    "cy,cx = 0 , 0 \n",
    "for i in range(0,ii):\n",
    "    for j in range(0,jj):\n",
    "        if f[i][j]!=0:\n",
    "            totaly += (i)\n",
    "            cy+=1\n",
    "        if f[i][j]!=0:\n",
    "            totalx += (j)\n",
    "            cx+=1"
   ]
  },
  {
   "cell_type": "code",
   "execution_count": 280,
   "metadata": {},
   "outputs": [
    {
     "data": {
      "text/plain": [
       "9.5"
      ]
     },
     "execution_count": 280,
     "metadata": {},
     "output_type": "execute_result"
    }
   ],
   "source": [
    "totalx/cx"
   ]
  },
  {
   "cell_type": "code",
   "execution_count": 281,
   "metadata": {},
   "outputs": [
    {
     "data": {
      "text/plain": [
       "9.5"
      ]
     },
     "execution_count": 281,
     "metadata": {},
     "output_type": "execute_result"
    }
   ],
   "source": [
    "totaly/cy"
   ]
  },
  {
   "cell_type": "code",
   "execution_count": 282,
   "metadata": {},
   "outputs": [],
   "source": [
    "cx,cy = int(round(totalx/cx)),int(round(totaly/cy))"
   ]
  },
  {
   "cell_type": "code",
   "execution_count": 283,
   "metadata": {},
   "outputs": [
    {
     "data": {
      "text/plain": [
       "10"
      ]
     },
     "execution_count": 283,
     "metadata": {},
     "output_type": "execute_result"
    }
   ],
   "source": [
    "cx"
   ]
  },
  {
   "cell_type": "code",
   "execution_count": 284,
   "metadata": {},
   "outputs": [
    {
     "data": {
      "text/plain": [
       "10"
      ]
     },
     "execution_count": 284,
     "metadata": {},
     "output_type": "execute_result"
    }
   ],
   "source": [
    "cy"
   ]
  },
  {
   "cell_type": "code",
   "execution_count": 285,
   "metadata": {},
   "outputs": [],
   "source": [
    " top = np.ones((14-cy, 20), dtype = np.int)"
   ]
  },
  {
   "cell_type": "code",
   "execution_count": 286,
   "metadata": {},
   "outputs": [],
   "source": [
    "f = np.concatenate((top, f), axis = 0)"
   ]
  },
  {
   "cell_type": "code",
   "execution_count": 287,
   "metadata": {},
   "outputs": [
    {
     "data": {
      "text/plain": [
       "<matplotlib.image.AxesImage at 0x1ac19b13648>"
      ]
     },
     "execution_count": 287,
     "metadata": {},
     "output_type": "execute_result"
    },
    {
     "data": {
      "image/png": "[encoded data removed]",
      "text/plain": [
       "<Figure size 432x288 with 1 Axes>"
      ]
     },
     "metadata": {
      "needs_background": "light"
     },
     "output_type": "display_data"
    }
   ],
   "source": [
    "plt.imshow(f, cmap='gray')"
   ]
  },
  {
   "cell_type": "code",
   "execution_count": 288,
   "metadata": {},
   "outputs": [],
   "source": [
    " bot = np.ones((28-((14-cy)+20), 20), dtype = np.int)"
   ]
  },
  {
   "cell_type": "code",
   "execution_count": 289,
   "metadata": {},
   "outputs": [],
   "source": [
    "f = np.concatenate((f, bot), axis = 0)"
   ]
  },
  {
   "cell_type": "code",
   "execution_count": 290,
   "metadata": {},
   "outputs": [
    {
     "data": {
      "text/plain": [
       "<matplotlib.image.AxesImage at 0x1ac19bb6bc8>"
      ]
     },
     "execution_count": 290,
     "metadata": {},
     "output_type": "execute_result"
    },
    {
     "data": {
      "image/png": "[encoded data removed]",
      "text/plain": [
       "<Figure size 432x288 with 1 Axes>"
      ]
     },
     "metadata": {
      "needs_background": "light"
     },
     "output_type": "display_data"
    }
   ],
   "source": [
    "plt.imshow(f, cmap='gray')"
   ]
  },
  {
   "cell_type": "code",
   "execution_count": 291,
   "metadata": {},
   "outputs": [
    {
     "data": {
      "text/plain": [
       "(28, 20)"
      ]
     },
     "execution_count": 291,
     "metadata": {},
     "output_type": "execute_result"
    }
   ],
   "source": [
    "f.shape"
   ]
  },
  {
   "cell_type": "code",
   "execution_count": 292,
   "metadata": {},
   "outputs": [],
   "source": [
    "left = np.ones((28, 14-cx), dtype = np.int)"
   ]
  },
  {
   "cell_type": "code",
   "execution_count": 293,
   "metadata": {},
   "outputs": [
    {
     "data": {
      "text/plain": [
       "4"
      ]
     },
     "execution_count": 293,
     "metadata": {},
     "output_type": "execute_result"
    }
   ],
   "source": [
    "14-cx"
   ]
  },
  {
   "cell_type": "code",
   "execution_count": 294,
   "metadata": {},
   "outputs": [],
   "source": [
    "f = np.concatenate((left, f), axis = 1)"
   ]
  },
  {
   "cell_type": "code",
   "execution_count": 295,
   "metadata": {},
   "outputs": [
    {
     "data": {
      "text/plain": [
       "<matplotlib.image.AxesImage at 0x1ac19c172c8>"
      ]
     },
     "execution_count": 295,
     "metadata": {},
     "output_type": "execute_result"
    },
    {
     "data": {
      "image/png": "[encoded data removed]",
      "text/plain": [
       "<Figure size 432x288 with 1 Axes>"
      ]
     },
     "metadata": {
      "needs_background": "light"
     },
     "output_type": "display_data"
    }
   ],
   "source": [
    "plt.imshow(f, cmap='gray')"
   ]
  },
  {
   "cell_type": "code",
   "execution_count": 296,
   "metadata": {},
   "outputs": [],
   "source": [
    "right = np.ones((28,28-((14-cx)+20)), dtype = np.int)#(28-((14-cx)+20)"
   ]
  },
  {
   "cell_type": "code",
   "execution_count": 297,
   "metadata": {},
   "outputs": [],
   "source": [
    "f = np.concatenate((f, right), axis = 1)"
   ]
  },
  {
   "cell_type": "code",
   "execution_count": 298,
   "metadata": {},
   "outputs": [
    {
     "data": {
      "text/plain": [
       "<matplotlib.image.AxesImage at 0x1ac19c76608>"
      ]
     },
     "execution_count": 298,
     "metadata": {},
     "output_type": "execute_result"
    },
    {
     "data": {
      "image/png": "[encoded data removed]",
      "text/plain": [
       "<Figure size 432x288 with 1 Axes>"
      ]
     },
     "metadata": {
      "needs_background": "light"
     },
     "output_type": "display_data"
    }
   ],
   "source": [
    "plt.imshow(f, cmap='gray')"
   ]
  },
  {
   "cell_type": "code",
   "execution_count": 299,
   "metadata": {},
   "outputs": [
    {
     "data": {
      "text/plain": [
       "(28, 28)"
      ]
     },
     "execution_count": 299,
     "metadata": {},
     "output_type": "execute_result"
    }
   ],
   "source": [
    "f.shape"
   ]
  }
 ],
 "metadata": {
  "kernelspec": {
   "display_name": "Python 3",
   "language": "python",
   "name": "python3"
  },
  "language_info": {
   "codemirror_mode": {
    "name": "ipython",
    "version": 3
   },
   "file_extension": ".py",
   "mimetype": "text/x-python",
   "name": "python",
   "nbconvert_exporter": "python",
   "pygments_lexer": "ipython3",
   "version": "3.7.4"
  }
 },
 "nbformat": 4,
 "nbformat_minor": 2
}
