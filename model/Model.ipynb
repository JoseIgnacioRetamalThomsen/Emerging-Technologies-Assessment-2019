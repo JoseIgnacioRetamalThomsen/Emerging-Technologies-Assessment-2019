{
 "cells": [
  {
   "cell_type": "markdown",
   "metadata": {},
   "source": [
    "# Trainig a Model Using the MNIST datase for recgonise hand-writen digits\n",
    "   \n",
    "On this notebook we show how to create a model and train using  MNIST dataset for recognise handwritten digits.\n",
    "We start showing how to read the bits from the dataset, then we do a quick introduction to neural network what \n",
    "is useful for understand the model thath we will train.\n",
    "We start with a simple linear model, for then add convolutional and maxpooling layers.\n",
    "At the end we use data augmentation and train for several epoch our model to try to get a high hit on the test data set.\n",
    "\n"
   ]
  },
  {
   "cell_type": "markdown",
   "metadata": {},
   "source": [
    "# The Data\n",
    "\n",
    "  We will start by understanding how the data is formatted and see hot we can parse it in a  suitable way for train our model.\n",
    "  \n",
    "  Mnist provide 4 files:\n",
    "  \n",
    "  -   training set images \n",
    "  -   training set labels\n",
    "  -   test set images\n",
    "  -   test set labels \n",
    " \n",
    "   [http://yann.lecun.com/exdb/mnist/](http://yann.lecun.com/exdb/mnist/) \n",
    "\n"
   ]
  },
  {
   "cell_type": "markdown",
   "metadata": {},
   "source": [
    "## Little and Big Endian Architecture \n",
    "\n",
    "  There are 2 types of processors architecture(little and big endian). In little endian bits are store from left to right This is basically how the bytes are stored, in little they are stored from left to right and in big the other way around.(Look this is you want to know more about https://chortle.ccsu.edu/AssemblyTutorial/Chapter-15/ass15_3.html ).\n",
    "  This is relevant for us because we need to know read the bytes right for get the proper data.\n",
    "  \n",
    "  In python we can easily check using sys, since I am using a Intel processor I expected to be little.\n"
   ]
  },
  {
   "cell_type": "code",
   "execution_count": 1,
   "metadata": {},
   "outputs": [],
   "source": [
    "import numpy as np\n",
    "from sys import byteorder"
   ]
  },
  {
   "cell_type": "markdown",
   "metadata": {},
   "source": [
    "Now we can check  our architecture:"
   ]
  },
  {
   "cell_type": "code",
   "execution_count": 2,
   "metadata": {},
   "outputs": [
    {
     "name": "stdout",
     "output_type": "stream",
     "text": [
      "little\n"
     ]
    }
   ],
   "source": [
    "print(byteorder)"
   ]
  },
  {
   "cell_type": "markdown",
   "metadata": {},
   "source": [
    "## Reading Mnist\n",
    "\n",
    "  Now we can start reading the train images file. \n",
    "  From Mnist website we know what to expected from each bit read.\n"
   ]
  },
  {
   "cell_type": "code",
   "execution_count": 3,
   "metadata": {},
   "outputs": [],
   "source": [
    "import gzip\n",
    "\n",
    "with gzip.open('mnist/train-images-idx3-ubyte.gz', 'rb') as f:\n",
    "    fc_train_img = f.read()"
   ]
  },
  {
   "cell_type": "markdown",
   "metadata": {},
   "source": [
    "  The first 4 bytes is the magic number which is a 32 bit integer, for the image set this number is 2051. Note that we are setting the byte order as big."
   ]
  },
  {
   "cell_type": "code",
   "execution_count": 4,
   "metadata": {},
   "outputs": [
    {
     "data": {
      "text/plain": [
       "2051"
      ]
     },
     "execution_count": 4,
     "metadata": {},
     "output_type": "execute_result"
    }
   ],
   "source": [
    "int.from_bytes(fc_train_img[0:4], byteorder='big')"
   ]
  },
  {
   "cell_type": "markdown",
   "metadata": {},
   "source": [
    "Next is the number of images as a 32 bit integer:"
   ]
  },
  {
   "cell_type": "code",
   "execution_count": 5,
   "metadata": {},
   "outputs": [
    {
     "data": {
      "text/plain": [
       "60000"
      ]
     },
     "execution_count": 5,
     "metadata": {},
     "output_type": "execute_result"
    }
   ],
   "source": [
    "train_img_total = int.from_bytes(fc_train_img[4:8], byteorder='big')\n",
    "train_img_total"
   ]
  },
  {
   "cell_type": "markdown",
   "metadata": {},
   "source": [
    "Then number of rows as 32 bit integer."
   ]
  },
  {
   "cell_type": "code",
   "execution_count": 6,
   "metadata": {},
   "outputs": [
    {
     "data": {
      "text/plain": [
       "28"
      ]
     },
     "execution_count": 6,
     "metadata": {},
     "output_type": "execute_result"
    }
   ],
   "source": [
    "row = int.from_bytes(fc_train_img[8:12], byteorder='big')\n",
    "row"
   ]
  },
  {
   "cell_type": "markdown",
   "metadata": {},
   "source": [
    "And  columns  32 bit integer as well."
   ]
  },
  {
   "cell_type": "code",
   "execution_count": 7,
   "metadata": {},
   "outputs": [
    {
     "data": {
      "text/plain": [
       "28"
      ]
     },
     "execution_count": 7,
     "metadata": {},
     "output_type": "execute_result"
    }
   ],
   "source": [
    "col = int.from_bytes(fc_train_img[12:16], byteorder='big')\n",
    "col"
   ]
  },
  {
   "cell_type": "markdown",
   "metadata": {},
   "source": [
    "Then all next are  unsigned bytes(8 bits) , each byte represent a pixel. They are organized row-wise.\n",
    "\n",
    "The total of bits is: \n",
    "```python\n",
    "train_img_total*row*col\n",
    "```\n",
    "\n",
    "\n",
    "\n"
   ]
  },
  {
   "cell_type": "code",
   "execution_count": 8,
   "metadata": {},
   "outputs": [
    {
     "data": {
      "text/plain": [
       "47040016"
      ]
     },
     "execution_count": 8,
     "metadata": {},
     "output_type": "execute_result"
    }
   ],
   "source": [
    "last_byte = (train_img_total*row*col) + 16\n",
    "last_byte"
   ]
  },
  {
   "cell_type": "markdown",
   "metadata": {},
   "source": [
    "Now whe can read all bits:"
   ]
  },
  {
   "cell_type": "code",
   "execution_count": 9,
   "metadata": {},
   "outputs": [],
   "source": [
    "x_train = list(fc_train_img[16:last_byte])"
   ]
  },
  {
   "cell_type": "markdown",
   "metadata": {},
   "source": [
    "And reshape them ass 28*27 (784) array. That is the vector representation of the images.\n",
    "\n",
    "In Mnist pixel values are 0 to 255.0 , 0 representing the background. We want to invert this, because having a non zero value as background is better for the training."
   ]
  },
  {
   "cell_type": "code",
   "execution_count": 10,
   "metadata": {},
   "outputs": [
    {
     "data": {
      "text/plain": [
       "(60000, 784)"
      ]
     },
     "execution_count": 10,
     "metadata": {},
     "output_type": "execute_result"
    }
   ],
   "source": [
    "x_train = ~np.array(x_train).reshape(train_img_total,row*col).astype(np.uint8)\n",
    "x_train.shape"
   ]
  },
  {
   "cell_type": "markdown",
   "metadata": {},
   "source": [
    "We can see one image using pyplot:"
   ]
  },
  {
   "cell_type": "code",
   "execution_count": 11,
   "metadata": {},
   "outputs": [
    {
     "data": {
      "text/plain": [
       "<matplotlib.image.AxesImage at 0x1c25a8a9448>"
      ]
     },
     "execution_count": 11,
     "metadata": {},
     "output_type": "execute_result"
    }
   ],
   "source": [
    "import matplotlib.pyplot as plt\n",
    "plt.imshow(x_train[11].reshape(row,col), cmap='gray')"
   ]
  },
  {
   "cell_type": "markdown",
   "metadata": {},
   "source": [
    "Thats look like the image 11 is a 5. We can now read labels and check."
   ]
  },
  {
   "cell_type": "code",
   "execution_count": 12,
   "metadata": {},
   "outputs": [],
   "source": [
    "with gzip.open('mnist/train-labels-idx1-ubyte.gz', 'rb') as f:\n",
    "    fc_train_lbl = f.read()"
   ]
  },
  {
   "cell_type": "markdown",
   "metadata": {},
   "source": [
    "First 32 bits are the magic number : 2049"
   ]
  },
  {
   "cell_type": "code",
   "execution_count": 13,
   "metadata": {},
   "outputs": [
    {
     "data": {
      "text/plain": [
       "2049"
      ]
     },
     "execution_count": 13,
     "metadata": {},
     "output_type": "execute_result"
    }
   ],
   "source": [
    "int.from_bytes(fc_train_lbl[0:4], byteorder='big')\n"
   ]
  },
  {
   "cell_type": "markdown",
   "metadata": {},
   "source": [
    "Then a 32 bits integer, the total of labels. Must be 6000 as we got 6000 images."
   ]
  },
  {
   "cell_type": "code",
   "execution_count": 14,
   "metadata": {},
   "outputs": [
    {
     "data": {
      "text/plain": [
       "60000"
      ]
     },
     "execution_count": 14,
     "metadata": {},
     "output_type": "execute_result"
    }
   ],
   "source": [
    "train_lvl_total = int.from_bytes(fc_train_lbl[4:8], byteorder='big')\n",
    "train_lvl_total"
   ]
  },
  {
   "cell_type": "markdown",
   "metadata": {},
   "source": [
    "Now each unsigned byte is a label, so we can check that 11 is 5:"
   ]
  },
  {
   "cell_type": "code",
   "execution_count": 15,
   "metadata": {},
   "outputs": [
    {
     "name": "stdout",
     "output_type": "stream",
     "text": [
      "5\n"
     ]
    }
   ],
   "source": [
    "y_train = np.array(list(fc_train_lbl[8:train_lvl_total+8]))\n",
    "print(y_train[11])"
   ]
  },
  {
   "cell_type": "markdown",
   "metadata": {},
   "source": [
    "We now real the test images and labels:"
   ]
  },
  {
   "cell_type": "code",
   "execution_count": 16,
   "metadata": {},
   "outputs": [],
   "source": [
    "with gzip.open('mnist/t10k-images-idx3-ubyte.gz', 'rb') as f:\n",
    "    fc_test_img = f.read()\n",
    "with gzip.open('mnist/t10k-labels-idx1-ubyte.gz', 'rb') as f:\n",
    "    fc_test_lbl = f.read()\n",
    "    \n",
    "test_img_total = int.from_bytes(fc_test_img[4:8], byteorder='big')\n",
    "test_lbl_total = int.from_bytes(fc_test_lbl[4:8], byteorder='big')\n",
    "\n",
    "last_byte = (test_img_total*row*col) + 16\n",
    "x_test = list(fc_test_img[16:last_byte])\n",
    "x_test = ~np.array(x_test).reshape(test_img_total,row*col).astype(np.uint8)\n",
    "\n",
    "y_test = np.array(list(fc_test_lbl[8:test_lbl_total+8]))"
   ]
  },
  {
   "cell_type": "code",
   "execution_count": 17,
   "metadata": {},
   "outputs": [],
   "source": [
    "x_train = x_train.astype('float32')\n",
    "x_test = x_test.astype('float32')"
   ]
  },
  {
   "cell_type": "code",
   "execution_count": 18,
   "metadata": {},
   "outputs": [],
   "source": [
    "x_train =  x_train/255.0\n",
    "x_test = x_test/255.0"
   ]
  },
  {
   "cell_type": "code",
   "execution_count": 19,
   "metadata": {},
   "outputs": [
    {
     "data": {
      "text/plain": [
       "<matplotlib.image.AxesImage at 0x1c25a906e08>"
      ]
     },
     "execution_count": 19,
     "metadata": {},
     "output_type": "execute_result"
    },
    {
     "data": {
      "image/png": "[encoded data removed]",
      "text/plain": [
       "<Figure size 432x288 with 1 Axes>"
      ]
     },
     "metadata": {
      "needs_background": "light"
     },
     "output_type": "display_data"
    }
   ],
   "source": [
    "plt.imshow(x_test[11].reshape(row,col), cmap='gray')"
   ]
  },
  {
   "cell_type": "code",
   "execution_count": 20,
   "metadata": {},
   "outputs": [
    {
     "name": "stdout",
     "output_type": "stream",
     "text": [
      "6\n"
     ]
    }
   ],
   "source": [
    "print(y_test[11])"
   ]
  },
  {
   "cell_type": "markdown",
   "metadata": {},
   "source": [
    "# Neuron Network\n",
    "\n",
    "Most people can recognize handwrite digits with no problem(because we have a very complex brain). This is not a easy task for a computer. We will use the neural network approach, we will take a large number of labelled handwrite digits -the training examples- (x_train), and create a model that can learn from those examples.\n"
   ]
  },
  {
   "cell_type": "markdown",
   "metadata": {},
   "source": [
    "## Neurons\n",
    "\n",
    "The idea is simple, they take several inputs(  $ x_1, x_2 ... x_n $) and produce a single output.\n",
    "\n",
    "\n"
   ]
  },
  {
   "cell_type": "markdown",
   "metadata": {},
   "source": [
    "![Single neuron](img/SingleNeuron.png)"
   ]
  },
  {
   "cell_type": "markdown",
   "metadata": {},
   "source": [
    "Each input have  <i>weights</i>  $ w_1, w_2 ... w_n $ , a weight sum is calculated:${\\sum_n x_n w_n}$ then the results goes through a activation function."
   ]
  },
  {
   "cell_type": "markdown",
   "metadata": {},
   "source": [
    "[http://neuralnetworksanddeeplearning.com/chap1.html](http://neuralnetworksanddeeplearning.com/chap1.html/) \n",
    "\n",
    "[https://github.com/ianmcloughlin/jupyter-teaching-notebooks/blob/master/keras-neurons.ipynb](https://github.com/ianmcloughlin/jupyter-teaching-notebooks/blob/master/keras-neurons.ipynb) \n",
    "\n"
   ]
  },
  {
   "cell_type": "markdown",
   "metadata": {},
   "source": [
    "## Layers\n",
    "\n",
    "We create layers composed of neurons. at least one input layer and a output layer is required, there can be hidden layers between the input and output layer. \n",
    "\n",
    "Our images are 28x28, we can create a 784 vector that represent the image. So we will feed out network with 784 inputs, this is our input layer that is also know as hidden layer.\n",
    "Since we need to discriminate 10 numbers out output layer will have 10 neurons, each will represent a digit from 0 to 9. Then we can use SoftMax activation function for the output of each of our network to represent a probability of being a digit.\n"
   ]
  },
  {
   "cell_type": "markdown",
   "metadata": {},
   "source": [
    "## Activation : softmax\n",
    "   We want our result to represent a probability of being one of the 10 digits(0,1,3...).\n",
    "  The SoftMax activation function will do this for us, it will output our output for each neuron between 0 and 1.Then each \n",
    "  of our neuron can represent a digit so the one will bigger probability will be our prediction.\n",
    "\n",
    "  \n",
    "  $$\\sigma (z)_j = \\frac{e^{(z)_j}}{\\sum_{k=0}^{K}e^{(z)_k}} \\text{  where   j = 1,...,K}$$  \n",
    "  \n",
    "  In our case K = 10.\n",
    "  \n",
    "  https://www.analyticsvidhya.com/blog/2017/10/fundamentals-deep-learning-activation-functions-when-to-use-them/"
   ]
  },
  {
   "cell_type": "markdown",
   "metadata": {},
   "source": [
    "## First model\n",
    "\n",
    " We will start create a 2 layers model, input and output : the input layer will be the 784 vector created with the image data and the output a 10 neuros with activation SoftMax. \n",
    " "
   ]
  },
  {
   "cell_type": "markdown",
   "metadata": {},
   "source": [
    "![Single neuron](img/Model1.png)"
   ]
  },
  {
   "cell_type": "markdown",
   "metadata": {},
   "source": [
    "We will use keras and TensorFlow"
   ]
  },
  {
   "cell_type": "code",
   "execution_count": 21,
   "metadata": {},
   "outputs": [
    {
     "name": "stderr",
     "output_type": "stream",
     "text": [
      "Using TensorFlow backend.\n"
     ]
    }
   ],
   "source": [
    "import keras as kr"
   ]
  },
  {
   "cell_type": "code",
   "execution_count": 22,
   "metadata": {},
   "outputs": [],
   "source": [
    "# create sequeantial model\n",
    "model = kr.models.Sequential()\n",
    "\n",
    "# The input layer is added by keras when we set input = 784 \n",
    "# We add 10 neuroas with softmax for output\n",
    "model.add(kr.layers.Dense(units=10, input_dim=784, activation='softmax'))\n",
    "\n",
    "# Compile the model.\n",
    "model.compile(loss='categorical_crossentropy',optimizer='adam', metrics=['accuracy'])"
   ]
  },
  {
   "cell_type": "markdown",
   "metadata": {},
   "source": [
    "We can se a summary of our model:"
   ]
  },
  {
   "cell_type": "code",
   "execution_count": 23,
   "metadata": {},
   "outputs": [
    {
     "name": "stdout",
     "output_type": "stream",
     "text": [
      "Model: \"sequential_1\"\n",
      "_________________________________________________________________\n",
      "Layer (type)                 Output Shape              Param #   \n",
      "=================================================================\n",
      "dense_1 (Dense)              (None, 10)                7850      \n",
      "=================================================================\n",
      "Total params: 7,850\n",
      "Trainable params: 7,850\n",
      "Non-trainable params: 0\n",
      "_________________________________________________________________\n"
     ]
    }
   ],
   "source": [
    "model.summary()"
   ]
  },
  {
   "cell_type": "markdown",
   "metadata": {},
   "source": [
    "The 7850 parameters are:\n",
    " 10 weights from each input node to each output made 7840 plus 10 weights on the outputs nodes.\n"
   ]
  },
  {
   "cell_type": "markdown",
   "metadata": {},
   "source": [
    "We are missing few thinks to explain: loss, optimizer and metrics."
   ]
  },
  {
   "cell_type": "markdown",
   "metadata": {},
   "source": [
    "## Loss : categorical_crossentropy\n",
    "\n",
    "\n",
    " This is how we measure how well our algorithm model the dataset. \n",
    "   \n",
    " Categorical cross entropy is used when only one value can belong to each class (our 10 outputs), so just what we need for measure our model because we are looking for predicted one number. Our output should be the number prediction.\n",
    "\n",
    "   \n",
    "   [https://peltarion.com/knowledge-center/documentation/modeling-view/build-an-ai-model/loss-functions/categorical-crossentropy](https://peltarion.com/knowledge-center/documentation/modeling-view/build-an-ai-model/loss-functions/categorical-crossentropy)\n",
    "   \n",
    "   \n",
    "  [https://algorithmia.com/blog/introduction-to-loss-functions](https://algorithmia.com/blog/introduction-to-loss-functions)\n",
    "    "
   ]
  },
  {
   "cell_type": "markdown",
   "metadata": {},
   "source": [
    "## Optimazer : adam\n",
    "\n",
    "When we are training our model the weights are change acordally for make our prediction better. How much and how are they change is the job of the optimizer, is the optimizer who shape our model for a correct prediction.\n",
    "\n",
    "Adaptative moment estimation(ADAM) use gradient decent. This is how it work([literally taked from Algorithmia](https://algorithmia.com/blog/introduction-to-optimizers)  )\n",
    "\n",
    "\n",
    "1) Calculate what a small change in each individual weight would do to the loss function (i.e. which direction should the hiker walk in)\n",
    "\n",
    "2) Adjust each individual weight based on its gradient (i.e. take a small step in the determined direction)\n",
    "\n",
    "3) Keep doing steps #1 and #2 until the loss function gets as low as possible\n",
    "\n",
    "\n",
    "\n",
    "Adam use pas gradients to calculate current gradients and also utilizes the concept of [momentun](https://ruder.io/optimizing-gradient-descent/index.html#momentum).\n",
    "\n",
    "\n",
    "[https://keras.io/optimizers/](https://keras.io/optimizers/)\n",
    "\n",
    "\n",
    "[https://www.kdnuggets.com/2017/04/simple-understand-gradient-descent-algorithm.html](https://www.kdnuggets.com/2017/04/simple-understand-gradient-descent-algorithm.html)\n",
    "\n",
    "\n",
    "[https://https://algorithmia.com/blog/introduction-to-optimizers.com/blog/introduction-to-optimizers](https://https://algorithmia.com/blog/introduction-to-optimizers.com/blog/introduction-to-optimizers)"
   ]
  },
  {
   "cell_type": "markdown",
   "metadata": {},
   "source": [
    "## Preparing the labes\n",
    "    \n",
    "We are almost done for train our model for first time, the only problems is that our labels are a single digit. We need make them vectors with a 1 on the number position."
   ]
  },
  {
   "cell_type": "code",
   "execution_count": 25,
   "metadata": {},
   "outputs": [],
   "source": [
    "y_train = kr.utils.to_categorical(y_train, 10)\n",
    "y_test  = kr.utils.to_categorical(y_test, 10)"
   ]
  },
  {
   "cell_type": "code",
   "execution_count": 26,
   "metadata": {},
   "outputs": [
    {
     "data": {
      "text/plain": [
       "array([0., 0., 0., 0., 0., 1., 0., 0., 0., 0.], dtype=float32)"
      ]
     },
     "execution_count": 26,
     "metadata": {},
     "output_type": "execute_result"
    }
   ],
   "source": [
    "y_train[0]"
   ]
  },
  {
   "cell_type": "markdown",
   "metadata": {},
   "source": [
    "Now we are ready, we will start training this simple model with 10 epochs, batch of 100 (means we train the model with 100 images at a time)."
   ]
  },
  {
   "cell_type": "code",
   "execution_count": 30,
   "metadata": {
    "scrolled": true
   },
   "outputs": [
    {
     "name": "stdout",
     "output_type": "stream",
     "text": [
      "Train on 60000 samples, validate on 10000 samples\n",
      "Epoch 1/10\n",
      "60000/60000 [==============================] - 1s 20us/step - loss: 0.3037 - accuracy: 0.9138 - val_loss: 0.2951 - val_accuracy: 0.9153\n",
      "Epoch 2/10\n",
      "60000/60000 [==============================] - 1s 19us/step - loss: 0.3045 - accuracy: 0.9125 - val_loss: 0.2970 - val_accuracy: 0.9155\n",
      "Epoch 3/10\n",
      "60000/60000 [==============================] - 1s 19us/step - loss: 0.3004 - accuracy: 0.9140 - val_loss: 0.2994 - val_accuracy: 0.9145\n",
      "Epoch 4/10\n",
      "60000/60000 [==============================] - 1s 20us/step - loss: 0.2971 - accuracy: 0.9149 - val_loss: 0.3039 - val_accuracy: 0.9109\n",
      "Epoch 5/10\n",
      "60000/60000 [==============================] - 1s 19us/step - loss: 0.2959 - accuracy: 0.9160 - val_loss: 0.2906 - val_accuracy: 0.9129\n",
      "Epoch 6/10\n",
      "60000/60000 [==============================] - 1s 19us/step - loss: 0.2959 - accuracy: 0.9161 - val_loss: 0.2936 - val_accuracy: 0.9176\n",
      "Epoch 7/10\n",
      "60000/60000 [==============================] - 1s 19us/step - loss: 0.2924 - accuracy: 0.9175 - val_loss: 0.2824 - val_accuracy: 0.9166\n",
      "Epoch 8/10\n",
      "60000/60000 [==============================] - 1s 19us/step - loss: 0.2929 - accuracy: 0.9162 - val_loss: 0.3009 - val_accuracy: 0.9162\n",
      "Epoch 9/10\n",
      "60000/60000 [==============================] - 1s 20us/step - loss: 0.2911 - accuracy: 0.9172 - val_loss: 0.2830 - val_accuracy: 0.9207\n",
      "Epoch 10/10\n",
      "60000/60000 [==============================] - 1s 20us/step - loss: 0.2891 - accuracy: 0.9175 - val_loss: 0.2872 - val_accuracy: 0.9199\n"
     ]
    }
   ],
   "source": [
    "epoch = 10\n",
    "history_callback = model.fit(x_train, y_train, validation_data=(x_test,y_test), epochs=epoch, batch_size=100)"
   ]
  },
  {
   "cell_type": "markdown",
   "metadata": {},
   "source": [
    "## First results\n",
    "\n",
    "We have achieved a 99.67 accuracy with this very simple model, this is going to be our baseline and we change our model for improve the results."
   ]
  },
  {
   "cell_type": "markdown",
   "metadata": {},
   "source": [
    "We can get data history, since we will be doing this several times I also define a function for use later."
   ]
  },
  {
   "cell_type": "code",
   "execution_count": 31,
   "metadata": {},
   "outputs": [],
   "source": [
    "val_accuracy = np.array(history_callback.history['val_accuracy'])\n",
    "val_loss =  np.array(history_callback.history['val_loss'])\n",
    "accuracy =  np.array(history_callback.history['accuracy'])\n",
    "loss =  np.array(history_callback.history['loss'])"
   ]
  },
  {
   "cell_type": "code",
   "execution_count": 33,
   "metadata": {},
   "outputs": [
    {
     "data": {
      "text/plain": [
       "[<matplotlib.lines.Line2D at 0x228e5aa9148>,\n",
       " <matplotlib.lines.Line2D at 0x228e5ab8d88>,\n",
       " <matplotlib.lines.Line2D at 0x228e5ab8f48>,\n",
       " <matplotlib.lines.Line2D at 0x228e5ac1188>]"
      ]
     },
     "execution_count": 33,
     "metadata": {},
     "output_type": "execute_result"
    },
    {
     "data": {
      "image/png": "[encoded data removed]",
      "text/plain": [
       "<Figure size 432x288 with 1 Axes>"
      ]
     },
     "metadata": {
      "needs_background": "light"
     },
     "output_type": "display_data"
    }
   ],
   "source": [
    "x = np.arange(0.0, epoch, 1)\n",
    "plt.plot(x,val_accuracy,'b',x,accuracy,'r',x,loss,'g',x,val_loss,'y')"
   ]
  },
  {
   "cell_type": "markdown",
   "metadata": {},
   "source": [
    "- Red : Test accuracy.\n",
    "- Blue : Train accuracy.\n",
    "- Green : Train loss.\n",
    "- Yellow: Test loss."
   ]
  },
  {
   "cell_type": "markdown",
   "metadata": {},
   "source": [
    "# Adding more Layers and Relu activation function"
   ]
  },
  {
   "cell_type": "markdown",
   "metadata": {},
   "source": [
    "# Relu\n",
    "\n",
    "Rectified linear unit(Relu), is one of the most common activation functions in neural networks. Relu is very simple, linear for all positive values and 0 for all negative values:\n",
    "$$ f(x)       \\begin{cases}\n",
    "       \\text{0,} &\\quad\\text{if } x \\le0\\\\\n",
    "       f(x) &\\quad\\text{if } x  >0 \\\\\n",
    "       \\end{cases}$$\n"
   ]
  },
  {
   "cell_type": "markdown",
   "metadata": {},
   "source": [
    "![Relu](img/relu.png)"
   ]
  },
  {
   "cell_type": "markdown",
   "metadata": {},
   "source": [
    "# Some advantages of Relu:\n",
    "- Cheap to compute.\n",
    "- Good sparsity.\n",
    "- Converge faster."
   ]
  },
  {
   "cell_type": "markdown",
   "metadata": {},
   "source": [
    "[https://keras.io/activations/](https://keras.io/activations/)\n",
    "\n",
    "[https://medium.com/@danqing/a-practical-guide-to-relu-b83ca804f1f7](https://medium.com/@danqing/a-practical-guide-to-relu-b83ca804f1f7) \n",
    "\n",
    "[https://datascience.stackexchange.com/questions/14349/difference-of-activation-functions-in-neural-networks-in-general](https://datascience.stackexchange.com/questions/14349/difference-of-activation-functions-in-neural-networks-in-general)"
   ]
  },
  {
   "cell_type": "markdown",
   "metadata": {},
   "source": [
    "## Extra layers\n",
    "\n",
    "We can now add more layers using Relu activation function:\n",
    "- Same input layer.\n",
    "- Hidden layers  512 and 98 neurons, with Relu.\n",
    "- Same output layer, 10 neurons with SoftMax."
   ]
  },
  {
   "cell_type": "code",
   "execution_count": 34,
   "metadata": {},
   "outputs": [],
   "source": [
    "model = kr.models.Sequential()\n",
    "model.add(kr.layers.Dense(units=512, input_dim=784, activation='relu'))\n",
    "model.add(kr.layers.Dense(units=98, activation='relu'))\n",
    "model.add(kr.layers.Dense(units=10, activation='softmax'))\n",
    "model.compile(loss='categorical_crossentropy',optimizer='adam', metrics=['accuracy'])"
   ]
  },
  {
   "cell_type": "code",
   "execution_count": 35,
   "metadata": {},
   "outputs": [
    {
     "name": "stdout",
     "output_type": "stream",
     "text": [
      "Model: \"sequential_2\"\n",
      "_________________________________________________________________\n",
      "Layer (type)                 Output Shape              Param #   \n",
      "=================================================================\n",
      "dense_2 (Dense)              (None, 512)               401920    \n",
      "_________________________________________________________________\n",
      "dense_3 (Dense)              (None, 98)                50274     \n",
      "_________________________________________________________________\n",
      "dense_4 (Dense)              (None, 10)                990       \n",
      "=================================================================\n",
      "Total params: 453,184\n",
      "Trainable params: 453,184\n",
      "Non-trainable params: 0\n",
      "_________________________________________________________________\n"
     ]
    }
   ],
   "source": [
    "model.summary()"
   ]
  },
  {
   "cell_type": "code",
   "execution_count": 36,
   "metadata": {},
   "outputs": [
    {
     "name": "stdout",
     "output_type": "stream",
     "text": [
      "Train on 60000 samples, validate on 10000 samples\n",
      "Epoch 1/10\n",
      "60000/60000 [==============================] - 2s 28us/step - loss: 0.5423 - accuracy: 0.8394 - val_loss: 0.3316 - val_accuracy: 0.9021\n",
      "Epoch 2/10\n",
      "60000/60000 [==============================] - 2s 27us/step - loss: 0.3153 - accuracy: 0.9043 - val_loss: 0.2875 - val_accuracy: 0.9147\n",
      "Epoch 3/10\n",
      "60000/60000 [==============================] - 2s 25us/step - loss: 0.2428 - accuracy: 0.9259 - val_loss: 0.2030 - val_accuracy: 0.9377\n",
      "Epoch 4/10\n",
      "60000/60000 [==============================] - 2s 26us/step - loss: 0.1874 - accuracy: 0.9427 - val_loss: 0.1654 - val_accuracy: 0.9502\n",
      "Epoch 5/10\n",
      "60000/60000 [==============================] - 2s 26us/step - loss: 0.1652 - accuracy: 0.9490 - val_loss: 0.1600 - val_accuracy: 0.9511\n",
      "Epoch 6/10\n",
      "60000/60000 [==============================] - 2s 26us/step - loss: 0.1423 - accuracy: 0.9557 - val_loss: 0.1717 - val_accuracy: 0.9464\n",
      "Epoch 7/10\n",
      "60000/60000 [==============================] - 2s 26us/step - loss: 0.1296 - accuracy: 0.9599 - val_loss: 0.1283 - val_accuracy: 0.9604\n",
      "Epoch 8/10\n",
      "60000/60000 [==============================] - 2s 26us/step - loss: 0.1179 - accuracy: 0.9631 - val_loss: 0.1046 - val_accuracy: 0.9684\n",
      "Epoch 9/10\n",
      "60000/60000 [==============================] - 2s 26us/step - loss: 0.1087 - accuracy: 0.9661 - val_loss: 0.1240 - val_accuracy: 0.9597\n",
      "Epoch 10/10\n",
      "60000/60000 [==============================] - 2s 26us/step - loss: 0.1034 - accuracy: 0.9670 - val_loss: 0.1263 - val_accuracy: 0.9592\n"
     ]
    }
   ],
   "source": [
    "epoch = 10\n",
    "history_callback = model.fit(x_train, y_train, validation_data=(x_test,y_test), epochs=epoch, batch_size=100)"
   ]
  },
  {
   "cell_type": "code",
   "execution_count": null,
   "metadata": {},
   "outputs": [],
   "source": [
    "val_accuracy = np.array(history_callback.history['val_accuracy'])\n",
    "val_loss =  np.array(history_callback.history['val_loss'])\n",
    "accuracy =  np.array(history_callback.history['accuracy'])\n",
    "loss =  np.array(history_callback.history['loss'])"
   ]
  },
  {
   "cell_type": "code",
   "execution_count": 38,
   "metadata": {},
   "outputs": [
    {
     "data": {
      "text/plain": [
       "[<matplotlib.lines.Line2D at 0x228f33b5cc8>,\n",
       " <matplotlib.lines.Line2D at 0x228f33cc8c8>,\n",
       " <matplotlib.lines.Line2D at 0x228f33cca88>,\n",
       " <matplotlib.lines.Line2D at 0x228f33ccc48>]"
      ]
     },
     "execution_count": 38,
     "metadata": {},
     "output_type": "execute_result"
    },
    {
     "data": {
      "image/png": "[encoded data removed]",
      "text/plain": [
       "<Figure size 432x288 with 1 Axes>"
      ]
     },
     "metadata": {
      "needs_background": "light"
     },
     "output_type": "display_data"
    }
   ],
   "source": [
    "x = np.arange(0.0, epoch, 1)\n",
    "plt.plot(x,val_accuracy,'b',x,accuracy,'r',x,loss,'g',x,val_loss,'y')"
   ]
  },
  {
   "cell_type": "markdown",
   "metadata": {},
   "source": [
    "Relu and the extra layers have give a great improvement to our model, from 91% to 96.5%."
   ]
  },
  {
   "cell_type": "markdown",
   "metadata": {},
   "source": [
    "# Dropout\n",
    "\n",
    "Drop out is regularization technic, basically we drop some random neurons during training, \n",
    "they are temporary shutted down. \n",
    "\n",
    "Is believe that this make other neurons be more active so improve the learning rate.\n",
    "\n",
    "The effect is a network that is less sensitive to specific weights of neurons. The network is capable of a better generalization and avoid overfit.\n",
    "\n",
    "Drop out is very easily implemented with Keras, we just need to pick a percent of dropped out neurons for each epoch.\n"
   ]
  },
  {
   "cell_type": "markdown",
   "metadata": {},
   "source": [
    "[https://keras.io/layers/core/](https://keras.io/layers/core/)\n",
    "\n",
    "[https://machinelearningmastery.com/dropout-regularization-deep-learning-models-keras/](https://machinelearningmastery.com/dropout-regularization-deep-learning-models-keras/)"
   ]
  },
  {
   "cell_type": "code",
   "execution_count": null,
   "metadata": {},
   "outputs": [],
   "source": []
  },
  {
   "cell_type": "code",
   "execution_count": null,
   "metadata": {},
   "outputs": [],
   "source": []
  },
  {
   "cell_type": "code",
   "execution_count": 39,
   "metadata": {},
   "outputs": [],
   "source": [
    "model = kr.models.Sequential()\n",
    "model.add(kr.layers.Dense(units=512, input_dim=784, activation='relu'))\n",
    "model.add(kr.layers.Dropout(0.01))\n",
    "model.add(kr.layers.Dense(units=98, activation='relu'))\n",
    "model.add(kr.layers.Dropout(0.1))\n",
    "model.add(kr.layers.Dense(units=10, activation='softmax'))\n",
    "model.compile(loss='categorical_crossentropy',optimizer='adam', metrics=['accuracy'])"
   ]
  },
  {
   "cell_type": "code",
   "execution_count": 40,
   "metadata": {},
   "outputs": [
    {
     "name": "stdout",
     "output_type": "stream",
     "text": [
      "Model: \"sequential_3\"\n",
      "_________________________________________________________________\n",
      "Layer (type)                 Output Shape              Param #   \n",
      "=================================================================\n",
      "dense_5 (Dense)              (None, 512)               401920    \n",
      "_________________________________________________________________\n",
      "dropout_1 (Dropout)          (None, 512)               0         \n",
      "_________________________________________________________________\n",
      "dense_6 (Dense)              (None, 98)                50274     \n",
      "_________________________________________________________________\n",
      "dropout_2 (Dropout)          (None, 98)                0         \n",
      "_________________________________________________________________\n",
      "dense_7 (Dense)              (None, 10)                990       \n",
      "=================================================================\n",
      "Total params: 453,184\n",
      "Trainable params: 453,184\n",
      "Non-trainable params: 0\n",
      "_________________________________________________________________\n"
     ]
    }
   ],
   "source": [
    "model.summary()"
   ]
  },
  {
   "cell_type": "code",
   "execution_count": 41,
   "metadata": {},
   "outputs": [
    {
     "name": "stdout",
     "output_type": "stream",
     "text": [
      "Train on 60000 samples, validate on 10000 samples\n",
      "Epoch 1/10\n",
      "60000/60000 [==============================] - 2s 32us/step - loss: 0.6083 - accuracy: 0.8098 - val_loss: 0.3417 - val_accuracy: 0.9050\n",
      "Epoch 2/10\n",
      "60000/60000 [==============================] - 2s 29us/step - loss: 0.3152 - accuracy: 0.9043 - val_loss: 0.2256 - val_accuracy: 0.9320\n",
      "Epoch 3/10\n",
      "60000/60000 [==============================] - 2s 29us/step - loss: 0.2407 - accuracy: 0.9266 - val_loss: 0.1873 - val_accuracy: 0.9446\n",
      "Epoch 4/10\n",
      "60000/60000 [==============================] - 2s 30us/step - loss: 0.1991 - accuracy: 0.9383 - val_loss: 0.1517 - val_accuracy: 0.9516\n",
      "Epoch 5/10\n",
      "60000/60000 [==============================] - 2s 30us/step - loss: 0.1721 - accuracy: 0.9467 - val_loss: 0.1546 - val_accuracy: 0.9503\n",
      "Epoch 6/10\n",
      "60000/60000 [==============================] - 2s 29us/step - loss: 0.1562 - accuracy: 0.9513 - val_loss: 0.1414 - val_accuracy: 0.9537\n",
      "Epoch 7/10\n",
      "60000/60000 [==============================] - 2s 29us/step - loss: 0.1426 - accuracy: 0.9553 - val_loss: 0.1263 - val_accuracy: 0.9579\n",
      "Epoch 8/10\n",
      "60000/60000 [==============================] - 2s 30us/step - loss: 0.1336 - accuracy: 0.9579 - val_loss: 0.1015 - val_accuracy: 0.9665\n",
      "Epoch 9/10\n",
      "60000/60000 [==============================] - 2s 30us/step - loss: 0.1206 - accuracy: 0.9617 - val_loss: 0.1086 - val_accuracy: 0.9672\n",
      "Epoch 10/10\n",
      "60000/60000 [==============================] - 2s 30us/step - loss: 0.1131 - accuracy: 0.9649 - val_loss: 0.1190 - val_accuracy: 0.9605\n"
     ]
    }
   ],
   "source": [
    "epoch = 10\n",
    "history_callback = model.fit(x_train, y_train, validation_data=(x_test,y_test), epochs=epoch, batch_size=100)"
   ]
  },
  {
   "cell_type": "code",
   "execution_count": null,
   "metadata": {},
   "outputs": [],
   "source": [
    "val_accuracy = np.array(history_callback.history['val_accuracy'])\n",
    "val_loss =  np.array(history_callback.history['val_loss'])\n",
    "accuracy =  np.array(history_callback.history['accuracy'])\n",
    "loss =  np.array(history_callback.history['loss'])"
   ]
  },
  {
   "cell_type": "code",
   "execution_count": 42,
   "metadata": {},
   "outputs": [
    {
     "data": {
      "text/plain": [
       "[<matplotlib.lines.Line2D at 0x228fab6b208>,\n",
       " <matplotlib.lines.Line2D at 0x228fab79c08>,\n",
       " <matplotlib.lines.Line2D at 0x228fab79dc8>,\n",
       " <matplotlib.lines.Line2D at 0x228fab79f88>]"
      ]
     },
     "execution_count": 42,
     "metadata": {},
     "output_type": "execute_result"
    },
    {
     "data": {
      "image/png": "[encoded data removed]",
      "text/plain": [
       "<Figure size 432x288 with 1 Axes>"
      ]
     },
     "metadata": {
      "needs_background": "light"
     },
     "output_type": "display_data"
    }
   ],
   "source": [
    "\n",
    "x = np.arange(0.0, epoch, 1)\n",
    "plt.plot(x,val_accuracy,'b',x,accuracy,'r',x,loss,'g',x,val_loss,'y')"
   ]
  },
  {
   "cell_type": "markdown",
   "metadata": {},
   "source": [
    "Dropout improve our model from 96.5% to 97%, so now we are at 97%."
   ]
  },
  {
   "cell_type": "code",
   "execution_count": null,
   "metadata": {},
   "outputs": [],
   "source": []
  },
  {
   "cell_type": "markdown",
   "metadata": {},
   "source": [
    "# 2D Convolutional Neural Network\n",
    "\n",
    "We have achieve 97% accuracy on our model, but we are missing a very important point : shapes are 2D images and there is a relation between pixels. Transforming our image in a 1D vector we completely ignore the shape of the image.\n",
    "Using convolutional neurons we can feed neurons with 2D arrays of pixels and someone preserve the data on the shape of the image.\n",
    "\n",
    "In the image bellow we can see how a 3x3 convolutional networks works. Note that the image is just for illustrate how convolutional networks works, is not related with the one we will use.\n"
   ]
  },
  {
   "cell_type": "markdown",
   "metadata": {},
   "source": [
    "![Conv2d](img/conv2d.gif)\n",
    "\n",
    "### image from:  [https://www.pyimagesearch.com/2018/12/31/keras-conv2d-and-convolutional-layers/](https://www.pyimagesearch.com/2018/12/31/keras-conv2d-and-convolutional-layers/)"
   ]
  },
  {
   "cell_type": "markdown",
   "metadata": {},
   "source": [
    "[https://keras.io/layers/convolutional/](https://keras.io/layers/convolutional/)\n",
    "\n",
    "[https://towardsdatascience.com/a-comprehensive-guide-to-convolutional-neural-networks-the-eli5-way-3bd2b1164a53](https://towardsdatascience.com/a-comprehensive-guide-to-convolutional-neural-networks-the-eli5-way-3bd2b1164a53)"
   ]
  },
  {
   "cell_type": "markdown",
   "metadata": {},
   "source": [
    "## Reforating input data for convolutional network\n",
    "\n",
    "We now need to reshape our data for be a 28 by 28 array so it can be fit onto the convolutional network."
   ]
  },
  {
   "cell_type": "code",
   "execution_count": 27,
   "metadata": {},
   "outputs": [],
   "source": [
    "x_train = x_train.reshape(train_img_total,col,row,1)\n",
    "x_test = x_test.reshape(test_img_total,col,row,1)"
   ]
  },
  {
   "cell_type": "code",
   "execution_count": 28,
   "metadata": {},
   "outputs": [
    {
     "data": {
      "text/plain": [
       "(60000, 28, 28, 1)"
      ]
     },
     "execution_count": 28,
     "metadata": {},
     "output_type": "execute_result"
    }
   ],
   "source": [
    "x_train.shape"
   ]
  },
  {
   "cell_type": "code",
   "execution_count": null,
   "metadata": {},
   "outputs": [],
   "source": []
  },
  {
   "cell_type": "code",
   "execution_count": null,
   "metadata": {},
   "outputs": [],
   "source": []
  },
  {
   "cell_type": "code",
   "execution_count": null,
   "metadata": {},
   "outputs": [],
   "source": []
  },
  {
   "cell_type": "code",
   "execution_count": 45,
   "metadata": {},
   "outputs": [],
   "source": [
    "model = kr.models.Sequential()\n",
    "\n",
    "model.add(kr.layers.Conv2D(256,kernel_size=(3, 3),activation='relu'))\n",
    "model.add(kr.layers.Flatten())\n",
    "model.add(kr.layers.Dropout(0.25))\n",
    "model.add(kr.layers.Dense(units=98, activation='relu'))\n",
    "model.add(kr.layers.Dropout(0.1))\n",
    "model.add(kr.layers.Dense(units=10, activation='softmax'))\n",
    "model.compile(loss='categorical_crossentropy',optimizer='adam', metrics=['accuracy'])"
   ]
  },
  {
   "cell_type": "code",
   "execution_count": 46,
   "metadata": {},
   "outputs": [
    {
     "name": "stdout",
     "output_type": "stream",
     "text": [
      "Train on 60000 samples, validate on 10000 samples\n",
      "Epoch 1/10\n",
      "60000/60000 [==============================] - 13s 220us/step - loss: 0.3485 - accuracy: 0.9028 - val_loss: 0.0834 - val_accuracy: 0.9744\n",
      "Epoch 2/10\n",
      "60000/60000 [==============================] - 12s 194us/step - loss: 0.0840 - accuracy: 0.9750 - val_loss: 0.0625 - val_accuracy: 0.9796\n",
      "Epoch 3/10\n",
      "60000/60000 [==============================] - 12s 193us/step - loss: 0.0576 - accuracy: 0.9813 - val_loss: 0.0562 - val_accuracy: 0.9815\n",
      "Epoch 4/10\n",
      "60000/60000 [==============================] - 12s 194us/step - loss: 0.0412 - accuracy: 0.9865 - val_loss: 0.0636 - val_accuracy: 0.9817\n",
      "Epoch 5/10\n",
      "60000/60000 [==============================] - 12s 194us/step - loss: 0.0297 - accuracy: 0.9901 - val_loss: 0.0548 - val_accuracy: 0.9825\n",
      "Epoch 6/10\n",
      "60000/60000 [==============================] - 12s 194us/step - loss: 0.0231 - accuracy: 0.9924 - val_loss: 0.0645 - val_accuracy: 0.9816\n",
      "Epoch 7/10\n",
      "60000/60000 [==============================] - 12s 194us/step - loss: 0.0185 - accuracy: 0.9937 - val_loss: 0.0596 - val_accuracy: 0.9826\n",
      "Epoch 8/10\n",
      "60000/60000 [==============================] - 12s 194us/step - loss: 0.0165 - accuracy: 0.9945 - val_loss: 0.0622 - val_accuracy: 0.9838\n",
      "Epoch 9/10\n",
      "60000/60000 [==============================] - 12s 194us/step - loss: 0.0130 - accuracy: 0.9953 - val_loss: 0.0646 - val_accuracy: 0.9836\n",
      "Epoch 10/10\n",
      "60000/60000 [==============================] - 12s 194us/step - loss: 0.0118 - accuracy: 0.9957 - val_loss: 0.0632 - val_accuracy: 0.9836\n"
     ]
    }
   ],
   "source": [
    "epoch = 10\n",
    "history_callback = model.fit(x_train, y_train, validation_data=(x_test,y_test), epochs=epoch, batch_size=100)"
   ]
  },
  {
   "cell_type": "code",
   "execution_count": 47,
   "metadata": {},
   "outputs": [
    {
     "data": {
      "text/plain": [
       "[<matplotlib.lines.Line2D at 0x22772205dc8>,\n",
       " <matplotlib.lines.Line2D at 0x2277221a8c8>,\n",
       " <matplotlib.lines.Line2D at 0x2277221aa88>,\n",
       " <matplotlib.lines.Line2D at 0x2277221ac48>]"
      ]
     },
     "execution_count": 47,
     "metadata": {},
     "output_type": "execute_result"
    },
    {
     "data": {
      "image/png": "[encoded data removed]",
      "text/plain": [
       "<Figure size 432x288 with 1 Axes>"
      ]
     },
     "metadata": {
      "needs_background": "light"
     },
     "output_type": "display_data"
    }
   ],
   "source": [
    "get_stats()\n",
    "x = np.arange(0.0, epoch, 1)\n",
    "plt.plot(x,val_accuracy,'b',x,accuracy,'r',x,loss,'g',x,val_loss,'y')"
   ]
  },
  {
   "cell_type": "markdown",
   "metadata": {},
   "source": [
    "With just 1 convolutional layer we have improve our accuracy to 98%"
   ]
  },
  {
   "cell_type": "markdown",
   "metadata": {},
   "source": [
    "## More layers and max polling\n",
    "\n",
    "A polling layer is a layer that we add after a convolutional layer.  The polling layer will operate over each pixel for create a new set of pulled data. We will use max polling of size 2x2 pixels. This means that the maximum of each 2x2 patch will be calculated.\n",
    "\n",
    "### Benefits:\n",
    "\n",
    "- Model invariance to local translation.\n",
    "- Faster computations.\n",
    "\n"
   ]
  },
  {
   "cell_type": "markdown",
   "metadata": {},
   "source": [
    "![MAxPolling2d](img/maxpolling2d.png)\n",
    "\n",
    "image from: [https://www.geeksforgeeks.org/cnn-introduction-to-pooling-layer/](https://www.geeksforgeeks.org/cnn-introduction-to-pooling-layer/)"
   ]
  },
  {
   "cell_type": "markdown",
   "metadata": {},
   "source": [
    "[https://keras.io/layers/pooling/](https://keras.io/layers/pooling/)\n",
    "\n",
    "[https://machinelearningmastery.com/pooling-layers-for-convolutional-neural-networks/](https://machinelearningmastery.com/pooling-layers-for-convolutional-neural-networks/)"
   ]
  },
  {
   "cell_type": "code",
   "execution_count": 29,
   "metadata": {},
   "outputs": [],
   "source": [
    "model = kr.models.Sequential()\n",
    "model.add(kr.layers.Conv2D(64,kernel_size=(7, 7),activation='relu',input_shape=(28,28,1)))\n",
    "model.add(kr.layers.Conv2D(64,kernel_size=(7, 7),activation='relu'))\n",
    "model.add(kr.layers.MaxPooling2D(pool_size=(2, 2),))\n",
    "model.add(kr.layers.Conv2D(128,kernel_size=(5, 5),activation='relu'))\n",
    "model.add(kr.layers.Conv2D(256,kernel_size=(3, 3),activation='relu'))\n",
    "model.add(kr.layers.MaxPooling2D(pool_size=(2, 2),))\n",
    "model.add(kr.layers.Flatten())\n",
    "model.add(kr.layers.Dropout(0.25))\n",
    "model.add(kr.layers.Dense(units=98, activation='relu'))\n",
    "model.add(kr.layers.Dropout(0.1))\n",
    "model.add(kr.layers.Dense(units=10, activation='softmax'))\n",
    "model.compile(loss='categorical_crossentropy',optimizer='adam', metrics=['accuracy'])"
   ]
  },
  {
   "cell_type": "code",
   "execution_count": 49,
   "metadata": {},
   "outputs": [
    {
     "name": "stdout",
     "output_type": "stream",
     "text": [
      "Train on 60000 samples, validate on 10000 samples\n",
      "Epoch 1/10\n",
      "60000/60000 [==============================] - 6s 92us/step - loss: 0.2337 - accuracy: 0.9265 - val_loss: 0.0642 - val_accuracy: 0.9805\n",
      "Epoch 2/10\n",
      "60000/60000 [==============================] - 5s 88us/step - loss: 0.0605 - accuracy: 0.9825 - val_loss: 0.0342 - val_accuracy: 0.9896\n",
      "Epoch 3/10\n",
      "60000/60000 [==============================] - 5s 87us/step - loss: 0.0458 - accuracy: 0.9870 - val_loss: 0.0282 - val_accuracy: 0.9913\n",
      "Epoch 4/10\n",
      "60000/60000 [==============================] - 5s 87us/step - loss: 0.0368 - accuracy: 0.9894 - val_loss: 0.0287 - val_accuracy: 0.9916\n",
      "Epoch 5/10\n",
      "60000/60000 [==============================] - 5s 87us/step - loss: 0.0308 - accuracy: 0.9912 - val_loss: 0.0260 - val_accuracy: 0.9925\n",
      "Epoch 6/10\n",
      "60000/60000 [==============================] - 5s 87us/step - loss: 0.0264 - accuracy: 0.9924 - val_loss: 0.0280 - val_accuracy: 0.9913\n",
      "Epoch 7/10\n",
      "60000/60000 [==============================] - 5s 87us/step - loss: 0.0238 - accuracy: 0.9931 - val_loss: 0.0341 - val_accuracy: 0.9893\n",
      "Epoch 8/10\n",
      "60000/60000 [==============================] - 5s 87us/step - loss: 0.0203 - accuracy: 0.9937 - val_loss: 0.0303 - val_accuracy: 0.9926\n",
      "Epoch 9/10\n",
      "60000/60000 [==============================] - 5s 87us/step - loss: 0.0190 - accuracy: 0.9948 - val_loss: 0.0331 - val_accuracy: 0.9904\n",
      "Epoch 10/10\n",
      "60000/60000 [==============================] - 5s 87us/step - loss: 0.0189 - accuracy: 0.9947 - val_loss: 0.0387 - val_accuracy: 0.9908\n"
     ]
    }
   ],
   "source": [
    "epoch = 10\n",
    "history_callback = model.fit(x_train, y_train, validation_data=(x_test,y_test), epochs=epoch, batch_size=100)"
   ]
  },
  {
   "cell_type": "markdown",
   "metadata": {},
   "source": [
    "## Batch normalization"
   ]
  },
  {
   "cell_type": "code",
   "execution_count": 53,
   "metadata": {},
   "outputs": [],
   "source": [
    "val_accuracy = np.array(history_callback.history['val_accuracy'])\n",
    "val_loss =  np.array(history_callback.history['val_loss'])\n",
    "accuracy =  np.array(history_callback.history['accuracy'])\n",
    "loss =  np.array(history_callback.history['loss'])\n"
   ]
  },
  {
   "cell_type": "code",
   "execution_count": 54,
   "metadata": {},
   "outputs": [
    {
     "data": {
      "text/plain": [
       "[<matplotlib.lines.Line2D at 0x227740818c8>,\n",
       " <matplotlib.lines.Line2D at 0x227740984c8>,\n",
       " <matplotlib.lines.Line2D at 0x22774098688>,\n",
       " <matplotlib.lines.Line2D at 0x22774098848>]"
      ]
     },
     "execution_count": 54,
     "metadata": {},
     "output_type": "execute_result"
    },
    {
     "data": {
      "image/png": "[encoded data removed]",
      "text/plain": [
       "<Figure size 432x288 with 1 Axes>"
      ]
     },
     "metadata": {
      "needs_background": "light"
     },
     "output_type": "display_data"
    }
   ],
   "source": [
    "x = np.arange(0.0, epoch, 1)\n",
    "plt.plot(x,val_accuracy,'b',x,accuracy,'r',x,loss,'g',x,val_loss,'y')"
   ]
  },
  {
   "cell_type": "markdown",
   "metadata": {},
   "source": [
    "## Batch Normalization\n"
   ]
  },
  {
   "cell_type": "code",
   "execution_count": null,
   "metadata": {},
   "outputs": [],
   "source": []
  },
  {
   "cell_type": "code",
   "execution_count": null,
   "metadata": {},
   "outputs": [],
   "source": []
  },
  {
   "cell_type": "code",
   "execution_count": 55,
   "metadata": {},
   "outputs": [],
   "source": [
    "model = kr.models.Sequential()\n",
    "model.add(kr.layers.Conv2D(64,kernel_size=(7, 7),activation='relu',input_shape=(28,28,1)))\n",
    "kr.layers.BatchNormalization(axis=-1)\n",
    "model.add(kr.layers.Conv2D(64,kernel_size=(7, 7),activation='relu'))\n",
    "kr.layers.BatchNormalization(axis=-1)\n",
    "model.add(kr.layers.MaxPooling2D(pool_size=(2, 2),))\n",
    "model.add(kr.layers.Conv2D(128,kernel_size=(5, 5),activation='relu'))\n",
    "kr.layers.BatchNormalization(axis=-1)\n",
    "model.add(kr.layers.Conv2D(256,kernel_size=(3, 3),activation='relu'))\n",
    "model.add(kr.layers.MaxPooling2D(pool_size=(2, 2),))\n",
    "model.add(kr.layers.Flatten())\n",
    "model.add(kr.layers.Dropout(0.25))\n",
    "model.add(kr.layers.Dense(units=98, activation='relu'))\n",
    "model.add(kr.layers.Dropout(0.1))\n",
    "model.add(kr.layers.Dense(units=10, activation='softmax'))\n",
    "model.compile(loss='categorical_crossentropy',optimizer='adam', metrics=['accuracy'])"
   ]
  },
  {
   "cell_type": "code",
   "execution_count": 56,
   "metadata": {},
   "outputs": [
    {
     "name": "stdout",
     "output_type": "stream",
     "text": [
      "Train on 60000 samples, validate on 10000 samples\n",
      "Epoch 1/10\n",
      "60000/60000 [==============================] - 5s 89us/step - loss: 0.2251 - accuracy: 0.9283 - val_loss: 0.0612 - val_accuracy: 0.9821\n",
      "Epoch 2/10\n",
      "60000/60000 [==============================] - 5s 86us/step - loss: 0.0595 - accuracy: 0.9826 - val_loss: 0.0380 - val_accuracy: 0.9891\n",
      "Epoch 3/10\n",
      "60000/60000 [==============================] - 5s 86us/step - loss: 0.0444 - accuracy: 0.9873 - val_loss: 0.0290 - val_accuracy: 0.9912\n",
      "Epoch 4/10\n",
      "60000/60000 [==============================] - 5s 87us/step - loss: 0.0357 - accuracy: 0.9896 - val_loss: 0.0353 - val_accuracy: 0.9902\n",
      "Epoch 5/10\n",
      "60000/60000 [==============================] - 5s 86us/step - loss: 0.0306 - accuracy: 0.9912 - val_loss: 0.0315 - val_accuracy: 0.9895\n",
      "Epoch 6/10\n",
      "60000/60000 [==============================] - 5s 86us/step - loss: 0.0242 - accuracy: 0.9927 - val_loss: 0.0311 - val_accuracy: 0.9910\n",
      "Epoch 7/10\n",
      "60000/60000 [==============================] - 5s 86us/step - loss: 0.0238 - accuracy: 0.9932 - val_loss: 0.0308 - val_accuracy: 0.9917\n",
      "Epoch 8/10\n",
      "60000/60000 [==============================] - 5s 87us/step - loss: 0.0196 - accuracy: 0.9945 - val_loss: 0.0331 - val_accuracy: 0.9918\n",
      "Epoch 9/10\n",
      "60000/60000 [==============================] - 5s 88us/step - loss: 0.0200 - accuracy: 0.9944 - val_loss: 0.0291 - val_accuracy: 0.9927\n",
      "Epoch 10/10\n",
      "60000/60000 [==============================] - 5s 88us/step - loss: 0.0177 - accuracy: 0.9948 - val_loss: 0.0382 - val_accuracy: 0.9899\n"
     ]
    }
   ],
   "source": [
    "epoch = 10\n",
    "history_callback = model.fit(x_train, y_train, validation_data=(x_test,y_test), epochs=epoch, batch_size=100)"
   ]
  },
  {
   "cell_type": "code",
   "execution_count": 57,
   "metadata": {},
   "outputs": [],
   "source": [
    "val_accuracy = np.array(history_callback.history['val_accuracy'])\n",
    "val_loss =  np.array(history_callback.history['val_loss'])\n",
    "accuracy =  np.array(history_callback.history['accuracy'])\n",
    "loss =  np.array(history_callback.history['loss'])"
   ]
  },
  {
   "cell_type": "code",
   "execution_count": 58,
   "metadata": {},
   "outputs": [
    {
     "data": {
      "text/plain": [
       "[<matplotlib.lines.Line2D at 0x22774dbd088>,\n",
       " <matplotlib.lines.Line2D at 0x22774dccc48>,\n",
       " <matplotlib.lines.Line2D at 0x22774dcce08>,\n",
       " <matplotlib.lines.Line2D at 0x22774dccfc8>]"
      ]
     },
     "execution_count": 58,
     "metadata": {},
     "output_type": "execute_result"
    },
    {
     "data": {
      "image/png": "[encoded data removed]",
      "text/plain": [
       "<Figure size 432x288 with 1 Axes>"
      ]
     },
     "metadata": {
      "needs_background": "light"
     },
     "output_type": "display_data"
    }
   ],
   "source": [
    "x = np.arange(0.0, epoch, 1)\n",
    "plt.plot(x,val_accuracy,'b',x,accuracy,'r',x,loss,'g',x,val_loss,'y')"
   ]
  },
  {
   "cell_type": "markdown",
   "metadata": {},
   "source": []
  },
  {
   "cell_type": "code",
   "execution_count": null,
   "metadata": {},
   "outputs": [],
   "source": []
  },
  {
   "cell_type": "code",
   "execution_count": 48,
   "metadata": {},
   "outputs": [],
   "source": [
    "cbk = CustomModelCheckpoint()"
   ]
  },
  {
   "cell_type": "markdown",
   "metadata": {},
   "source": [
    "# Final Model"
   ]
  },
  {
   "cell_type": "markdown",
   "metadata": {},
   "source": [
    "![Final Model](img/finalmodel.png)\n",
    "\n",
    "* image created using : [NN-SVG](http://alexlenail.me/NN-SVG/LeNet.html)\n"
   ]
  },
  {
   "cell_type": "code",
   "execution_count": 30,
   "metadata": {},
   "outputs": [
    {
     "name": "stdout",
     "output_type": "stream",
     "text": [
      "Model: \"sequential_3\"\n",
      "_________________________________________________________________\n",
      "Layer (type)                 Output Shape              Param #   \n",
      "=================================================================\n",
      "conv2d_5 (Conv2D)            (None, 22, 22, 64)        3200      \n",
      "_________________________________________________________________\n",
      "conv2d_6 (Conv2D)            (None, 16, 16, 64)        200768    \n",
      "_________________________________________________________________\n",
      "max_pooling2d_3 (MaxPooling2 (None, 8, 8, 64)          0         \n",
      "_________________________________________________________________\n",
      "conv2d_7 (Conv2D)            (None, 4, 4, 128)         204928    \n",
      "_________________________________________________________________\n",
      "conv2d_8 (Conv2D)            (None, 2, 2, 256)         295168    \n",
      "_________________________________________________________________\n",
      "max_pooling2d_4 (MaxPooling2 (None, 1, 1, 256)         0         \n",
      "_________________________________________________________________\n",
      "dropout_3 (Dropout)          (None, 1, 1, 256)         0         \n",
      "_________________________________________________________________\n",
      "flatten_2 (Flatten)          (None, 256)               0         \n",
      "_________________________________________________________________\n",
      "dense_4 (Dense)              (None, 10)                2570      \n",
      "=================================================================\n",
      "Total params: 706,634\n",
      "Trainable params: 706,634\n",
      "Non-trainable params: 0\n",
      "_________________________________________________________________\n"
     ]
    }
   ],
   "source": [
    "model = kr.models.Sequential()\n",
    "model.add(kr.layers.Conv2D(64,kernel_size=(7, 7),activation='relu',input_shape=(28,28,1)))\n",
    "kr.layers.normalization.BatchNormalization(axis=-1)\n",
    "model.add(kr.layers.Conv2D(64,kernel_size=(7, 7),activation='relu',input_shape=(28,28,1)))\n",
    "kr.layers.normalization.BatchNormalization(axis=-1)\n",
    "model.add(kr.layers.MaxPooling2D(pool_size=(2, 2),))\n",
    "model.add(kr.layers.Conv2D(128,kernel_size=(5, 5),activation='relu'))\n",
    "model.add(kr.layers.Conv2D(256,kernel_size=(3, 3),activation='relu'))\n",
    "model.add(kr.layers.MaxPooling2D(pool_size=(2, 2),))\n",
    "model.add(kr.layers.Dropout(0.25))\n",
    "model.add(kr.layers.Flatten())\n",
    "#model.add(kr.layers.Dense(units=128, activation='relu'))\n",
    "model.add(kr.layers.Dense(units=10, activation='softmax'))\n",
    "model.compile(loss=kr.losses.categorical_crossentropy,optimizer='adadelta',metrics=['accuracy'])\n",
    "model.summary()\n",
    " \n",
    "\n"
   ]
  },
  {
   "cell_type": "markdown",
   "metadata": {},
   "source": [
    "# Data Augmentation Image Generator\n",
    "\n",
    "https://medium.com/nanonets/how-to-use-deep-learning-when-you-have-limited-data-part-2-data-augmentation-c26971dc8ced\n"
   ]
  },
  {
   "cell_type": "code",
   "execution_count": 31,
   "metadata": {},
   "outputs": [],
   "source": [
    "from keras.preprocessing.image import ImageDataGenerator"
   ]
  },
  {
   "cell_type": "code",
   "execution_count": 32,
   "metadata": {},
   "outputs": [],
   "source": [
    "gen = ImageDataGenerator(rotation_range=8, width_shift_range=0.08, shear_range=0.3,\n",
    "                         height_shift_range=0.08, zoom_range=0.08)\n",
    "test_gen = ImageDataGenerator()"
   ]
  },
  {
   "cell_type": "code",
   "execution_count": 33,
   "metadata": {},
   "outputs": [],
   "source": [
    "train_generator = gen.flow(x_train, y_train, batch_size=64)\n",
    "test_generator = test_gen.flow(x_test, y_test, batch_size=64)"
   ]
  },
  {
   "cell_type": "code",
   "execution_count": 34,
   "metadata": {
    "scrolled": false
   },
   "outputs": [
    {
     "name": "stdout",
     "output_type": "stream",
     "text": [
      "Epoch 1/10\n",
      "937/937 [==============================] - 12s 12ms/step - loss: 0.2851 - accuracy: 0.9073 - val_loss: 0.0039 - val_accuracy: 0.9880\n",
      "Epoch 2/10\n",
      "937/937 [==============================] - 10s 11ms/step - loss: 0.0711 - accuracy: 0.9786 - val_loss: 0.0776 - val_accuracy: 0.9915\n",
      "Epoch 3/10\n",
      "937/937 [==============================] - 9s 10ms/step - loss: 0.0543 - accuracy: 0.9845 - val_loss: 0.0011 - val_accuracy: 0.9941\n",
      "Epoch 4/10\n",
      "937/937 [==============================] - 9s 10ms/step - loss: 0.0459 - accuracy: 0.9866 - val_loss: 7.4667e-05 - val_accuracy: 0.9916\n",
      "Epoch 5/10\n",
      "937/937 [==============================] - 10s 11ms/step - loss: 0.0404 - accuracy: 0.9888 - val_loss: 6.6827e-05 - val_accuracy: 0.9938\n",
      "Epoch 6/10\n",
      "937/937 [==============================] - 10s 10ms/step - loss: 0.0359 - accuracy: 0.9899 - val_loss: 0.0013 - val_accuracy: 0.9948\n",
      "Epoch 7/10\n",
      "937/937 [==============================] - 10s 10ms/step - loss: 0.0324 - accuracy: 0.9909 - val_loss: 0.0059 - val_accuracy: 0.9932\n",
      "Epoch 8/10\n",
      "937/937 [==============================] - 10s 11ms/step - loss: 0.0303 - accuracy: 0.9912 - val_loss: 0.0033 - val_accuracy: 0.9934\n",
      "Epoch 9/10\n",
      "937/937 [==============================] - 10s 10ms/step - loss: 0.0287 - accuracy: 0.9917 - val_loss: 0.0035 - val_accuracy: 0.9930\n",
      "Epoch 10/10\n",
      "937/937 [==============================] - 10s 10ms/step - loss: 0.0266 - accuracy: 0.9927 - val_loss: 0.0723 - val_accuracy: 0.9938\n"
     ]
    }
   ],
   "source": [
    "epoch =10\n",
    "history_callback= model.fit_generator(train_generator, steps_per_epoch=60000//64, epochs=epoch, \n",
    "                    validation_data=test_generator, validation_steps=10000//64)"
   ]
  },
  {
   "cell_type": "code",
   "execution_count": 35,
   "metadata": {},
   "outputs": [],
   "source": [
    "val_accuracy = np.array(history_callback.history['val_accuracy'])\n",
    "val_loss =  np.array(history_callback.history['val_loss'])\n",
    "accuracy =  np.array(history_callback.history['accuracy'])\n",
    "loss =  np.array(history_callback.history['loss'])\n"
   ]
  },
  {
   "cell_type": "code",
   "execution_count": 36,
   "metadata": {},
   "outputs": [
    {
     "data": {
      "text/plain": [
       "[<matplotlib.lines.Line2D at 0x1c255438048>,\n",
       " <matplotlib.lines.Line2D at 0x1c255496c08>]"
      ]
     },
     "execution_count": 36,
     "metadata": {},
     "output_type": "execute_result"
    },
    {
     "data": {
      "image/png": "[encoded data removed]",
      "text/plain": [
       "<Figure size 432x288 with 1 Axes>"
      ]
     },
     "metadata": {
      "needs_background": "light"
     },
     "output_type": "display_data"
    }
   ],
   "source": [
    "x = np.arange(0.0, epoch, 1)\n",
    "plt.plot(x,val_accuracy,'b',x,accuracy,'r')"
   ]
  },
  {
   "cell_type": "markdown",
   "metadata": {},
   "source": [
    "# Looking for high hit"
   ]
  },
  {
   "cell_type": "markdown",
   "metadata": {},
   "source": [
    "## Custom Checkpoint\n"
   ]
  },
  {
   "cell_type": "code",
   "execution_count": 37,
   "metadata": {},
   "outputs": [],
   "source": [
    "class CustomModelCheckpoint(kr.callbacks.Callback):\n",
    "    minimun = 0.99\n",
    "   \n",
    "\n",
    "    def on_epoch_end(self, epoch, logs=None):\n",
    "        score = self.model.evaluate(x_test, y_test, verbose=0)\n",
    "        # logs is a dictionary\n",
    "        print(f\"epoch: {epoch},history_callback.{logs['val_accuracy']}\")\n",
    "        print(score[1])\n",
    "        if score[1] > self.minimun: # your custom condition\n",
    "    \n",
    "            self.model.save('model7.h5', overwrite=True)\n",
    "           \n",
    "            \n",
    "            \n",
    "           \n",
    "            \n",
    "            self.minimun = score[1]\n",
    "            print(self.minimun)\n",
    "            print(\"*****************************************************************************************************\")"
   ]
  },
  {
   "cell_type": "code",
   "execution_count": 38,
   "metadata": {},
   "outputs": [],
   "source": [
    "cbk = CustomModelCheckpoint()"
   ]
  },
  {
   "cell_type": "code",
   "execution_count": 56,
   "metadata": {
    "scrolled": true
   },
   "outputs": [
    {
     "name": "stdout",
     "output_type": "stream",
     "text": [
      "Epoch 1/100\n",
      "937/937 [==============================] - 10s 10ms/step - loss: 0.0091 - accuracy: 0.9990 - val_loss: 0.0000e+00 - val_accuracy: 0.9954\n",
      "epoch: 0,history_callback.0.9953926205635071\n",
      "0.9954000115394592\n",
      "Epoch 2/100\n",
      "937/937 [==============================] - 10s 11ms/step - loss: 0.0110 - accuracy: 0.9988 - val_loss: 0.0000e+00 - val_accuracy: 0.9950\n",
      "epoch: 1,history_callback.0.9949678182601929\n",
      "0.9950000047683716\n",
      "Epoch 3/100\n",
      "937/937 [==============================] - 10s 10ms/step - loss: 0.0128 - accuracy: 0.9987 - val_loss: 0.0000e+00 - val_accuracy: 0.9951\n",
      "epoch: 2,history_callback.0.9950684309005737\n",
      "0.9951000213623047\n",
      "Epoch 4/100\n",
      "937/937 [==============================] - 10s 10ms/step - loss: 0.0134 - accuracy: 0.9985 - val_loss: 0.1702 - val_accuracy: 0.9957\n",
      "epoch: 3,history_callback.0.9956722855567932\n",
      "0.9957000017166138\n",
      "Epoch 5/100\n",
      "937/937 [==============================] - 10s 11ms/step - loss: 0.0123 - accuracy: 0.9989 - val_loss: 0.0000e+00 - val_accuracy: 0.9950\n",
      "epoch: 4,history_callback.0.9949678182601929\n",
      "0.9948999881744385\n",
      "Epoch 6/100\n",
      "937/937 [==============================] - 10s 10ms/step - loss: 0.0198 - accuracy: 0.9983 - val_loss: 0.4738 - val_accuracy: 0.9955\n",
      "epoch: 5,history_callback.0.9954710006713867\n",
      "0.9955000281333923\n",
      "Epoch 7/100\n",
      "937/937 [==============================] - 10s 10ms/step - loss: 0.0119 - accuracy: 0.9988 - val_loss: 1.8005e-05 - val_accuracy: 0.9956\n",
      "epoch: 6,history_callback.0.9955716729164124\n",
      "0.9955000281333923\n",
      "Epoch 8/100\n",
      "937/937 [==============================] - 10s 11ms/step - loss: 0.0148 - accuracy: 0.9985 - val_loss: 0.0000e+00 - val_accuracy: 0.9957\n",
      "epoch: 7,history_callback.0.9956722855567932\n",
      "0.9955000281333923\n",
      "Epoch 9/100\n",
      "937/937 [==============================] - 10s 11ms/step - loss: 0.0087 - accuracy: 0.9989 - val_loss: 0.0000e+00 - val_accuracy: 0.9946\n",
      "epoch: 8,history_callback.0.9945651888847351\n",
      "0.9948999881744385\n",
      "Epoch 10/100\n",
      "937/937 [==============================] - 10s 10ms/step - loss: 0.0157 - accuracy: 0.9987 - val_loss: 0.0000e+00 - val_accuracy: 0.9959\n",
      "epoch: 9,history_callback.0.9958735704421997\n",
      "0.9959999918937683\n",
      "Epoch 11/100\n",
      "937/937 [==============================] - 10s 11ms/step - loss: 0.0128 - accuracy: 0.9987 - val_loss: 0.0000e+00 - val_accuracy: 0.9951\n",
      "epoch: 10,history_callback.0.9950684309005737\n",
      "0.9948999881744385\n",
      "Epoch 12/100\n",
      "937/937 [==============================] - 10s 10ms/step - loss: 0.0135 - accuracy: 0.9984 - val_loss: 0.0556 - val_accuracy: 0.9955\n",
      "epoch: 11,history_callback.0.9954710006713867\n",
      "0.9958000183105469\n",
      "Epoch 13/100\n",
      "937/937 [==============================] - 10s 10ms/step - loss: 0.0132 - accuracy: 0.9983 - val_loss: 0.1840 - val_accuracy: 0.9951\n",
      "epoch: 12,history_callback.0.9950684309005737\n",
      "0.9952999949455261\n",
      "Epoch 14/100\n",
      "937/937 [==============================] - 10s 11ms/step - loss: 0.0115 - accuracy: 0.9988 - val_loss: 0.0000e+00 - val_accuracy: 0.9951\n",
      "epoch: 13,history_callback.0.9950684309005737\n",
      "0.9947999715805054\n",
      "Epoch 15/100\n",
      "937/937 [==============================] - 10s 10ms/step - loss: 0.0123 - accuracy: 0.9985 - val_loss: 0.0000e+00 - val_accuracy: 0.9961\n",
      "epoch: 14,history_callback.0.9960748553276062\n",
      "0.9958999752998352\n",
      "Epoch 16/100\n",
      "937/937 [==============================] - 10s 10ms/step - loss: 0.0143 - accuracy: 0.9986 - val_loss: 0.0133 - val_accuracy: 0.9956\n",
      "epoch: 15,history_callback.0.9955716729164124\n",
      "0.9951000213623047\n",
      "Epoch 17/100\n",
      "937/937 [==============================] - 10s 11ms/step - loss: 0.0136 - accuracy: 0.9985 - val_loss: 0.0000e+00 - val_accuracy: 0.9957\n",
      "epoch: 16,history_callback.0.9956722855567932\n",
      "0.9958000183105469\n",
      "Epoch 18/100\n",
      "937/937 [==============================] - 10s 10ms/step - loss: 0.0102 - accuracy: 0.9990 - val_loss: 1.8626e-09 - val_accuracy: 0.9965\n",
      "epoch: 17,history_callback.0.996477484703064\n",
      "0.9958000183105469\n",
      "Epoch 19/100\n",
      "937/937 [==============================] - 10s 10ms/step - loss: 0.0165 - accuracy: 0.9985 - val_loss: 0.0000e+00 - val_accuracy: 0.9939\n",
      "epoch: 18,history_callback.0.9938607215881348\n",
      "0.9941999912261963\n",
      "Epoch 20/100\n",
      "937/937 [==============================] - 10s 11ms/step - loss: 0.0133 - accuracy: 0.9986 - val_loss: 0.6020 - val_accuracy: 0.9964\n",
      "epoch: 19,history_callback.0.9963768124580383\n",
      "0.9962000250816345\n",
      "Epoch 21/100\n",
      "937/937 [==============================] - 10s 10ms/step - loss: 0.0126 - accuracy: 0.9988 - val_loss: 0.0000e+00 - val_accuracy: 0.9956\n",
      "epoch: 20,history_callback.0.9955716729164124\n",
      "0.9957000017166138\n",
      "Epoch 22/100\n",
      "937/937 [==============================] - 9s 10ms/step - loss: 0.0110 - accuracy: 0.9986 - val_loss: 0.3970 - val_accuracy: 0.9954\n",
      "epoch: 21,history_callback.0.9953703880310059\n",
      "0.9951000213623047\n",
      "Epoch 23/100\n",
      "937/937 [==============================] - 10s 11ms/step - loss: 0.0109 - accuracy: 0.9989 - val_loss: 2.7863e-04 - val_accuracy: 0.9951\n",
      "epoch: 22,history_callback.0.9950684309005737\n",
      "0.9952999949455261\n",
      "Epoch 24/100\n",
      "937/937 [==============================] - 10s 10ms/step - loss: 0.0101 - accuracy: 0.9989 - val_loss: 0.0000e+00 - val_accuracy: 0.9954\n",
      "epoch: 23,history_callback.0.9953703880310059\n",
      "0.9954000115394592\n",
      "Epoch 25/100\n",
      "937/937 [==============================] - 10s 10ms/step - loss: 0.0143 - accuracy: 0.9987 - val_loss: 9.3132e-09 - val_accuracy: 0.9955\n",
      "epoch: 24,history_callback.0.9954710006713867\n",
      "0.9957000017166138\n",
      "Epoch 26/100\n",
      "937/937 [==============================] - 10s 11ms/step - loss: 0.0129 - accuracy: 0.9988 - val_loss: 0.0000e+00 - val_accuracy: 0.9957\n",
      "epoch: 25,history_callback.0.9956722855567932\n",
      "0.9951000213623047\n",
      "Epoch 27/100\n",
      "937/937 [==============================] - 10s 10ms/step - loss: 0.0101 - accuracy: 0.9988 - val_loss: 0.0000e+00 - val_accuracy: 0.9950\n",
      "epoch: 26,history_callback.0.9949678182601929\n",
      "0.9958000183105469\n",
      "Epoch 28/100\n",
      "937/937 [==============================] - 9s 10ms/step - loss: 0.0131 - accuracy: 0.9987 - val_loss: 0.4330 - val_accuracy: 0.9956\n",
      "epoch: 27,history_callback.0.9955716729164124\n",
      "0.9954000115394592\n",
      "Epoch 29/100\n",
      "937/937 [==============================] - 10s 11ms/step - loss: 0.0155 - accuracy: 0.9985 - val_loss: 3.7253e-09 - val_accuracy: 0.9955\n",
      "epoch: 28,history_callback.0.9954710006713867\n",
      "0.9952999949455261\n",
      "Epoch 30/100\n",
      "937/937 [==============================] - 10s 10ms/step - loss: 0.0107 - accuracy: 0.9990 - val_loss: 0.0000e+00 - val_accuracy: 0.9957\n",
      "epoch: 29,history_callback.0.9956722855567932\n",
      "0.9962000250816345\n",
      "Epoch 31/100\n",
      "937/937 [==============================] - 10s 10ms/step - loss: 0.0154 - accuracy: 0.9984 - val_loss: 2.5047e-05 - val_accuracy: 0.9961\n",
      "epoch: 30,history_callback.0.9960748553276062\n",
      "0.9958999752998352\n",
      "Epoch 32/100\n",
      "937/937 [==============================] - 10s 11ms/step - loss: 0.0213 - accuracy: 0.9982 - val_loss: 0.0000e+00 - val_accuracy: 0.9948\n",
      "epoch: 31,history_callback.0.9947665333747864\n",
      "0.994700014591217\n",
      "Epoch 33/100\n",
      "937/937 [==============================] - 10s 10ms/step - loss: 0.0145 - accuracy: 0.9986 - val_loss: 0.0000e+00 - val_accuracy: 0.9950\n",
      "epoch: 32,history_callback.0.9949678182601929\n",
      "0.9950000047683716\n",
      "Epoch 34/100\n",
      "937/937 [==============================] - 9s 10ms/step - loss: 0.0136 - accuracy: 0.9987 - val_loss: 0.4082 - val_accuracy: 0.9941\n",
      "epoch: 33,history_callback.0.9940620064735413\n",
      "0.9945999979972839\n",
      "Epoch 35/100\n",
      "937/937 [==============================] - 10s 11ms/step - loss: 0.0091 - accuracy: 0.9989 - val_loss: 0.0000e+00 - val_accuracy: 0.9956\n",
      "epoch: 34,history_callback.0.9955716729164124\n",
      "0.9952999949455261\n",
      "Epoch 36/100\n",
      "937/937 [==============================] - 10s 10ms/step - loss: 0.0150 - accuracy: 0.9986 - val_loss: 0.0000e+00 - val_accuracy: 0.9955\n",
      "epoch: 35,history_callback.0.9954710006713867\n",
      "0.9948999881744385\n",
      "Epoch 37/100\n",
      "937/937 [==============================] - 9s 10ms/step - loss: 0.0146 - accuracy: 0.9986 - val_loss: 0.0000e+00 - val_accuracy: 0.9963\n",
      "epoch: 36,history_callback.0.9962761402130127\n",
      "0.9962999820709229\n",
      "Epoch 38/100\n",
      "937/937 [==============================] - 10s 11ms/step - loss: 0.0132 - accuracy: 0.9986 - val_loss: 0.0050 - val_accuracy: 0.9953\n",
      "epoch: 37,history_callback.0.9952697157859802\n",
      "0.995199978351593\n",
      "Epoch 39/100\n"
     ]
    },
    {
     "name": "stdout",
     "output_type": "stream",
     "text": [
      "937/937 [==============================] - 10s 10ms/step - loss: 0.0114 - accuracy: 0.9986 - val_loss: 2.8126e-07 - val_accuracy: 0.9959\n",
      "epoch: 38,history_callback.0.9958735704421997\n",
      "0.9955999851226807\n",
      "Epoch 40/100\n",
      "937/937 [==============================] - 10s 10ms/step - loss: 0.0130 - accuracy: 0.9986 - val_loss: 0.0000e+00 - val_accuracy: 0.9950\n",
      "epoch: 39,history_callback.0.9949678182601929\n",
      "0.9955000281333923\n",
      "Epoch 41/100\n",
      "937/937 [==============================] - 10s 11ms/step - loss: 0.0105 - accuracy: 0.9988 - val_loss: 0.0000e+00 - val_accuracy: 0.9953\n",
      "epoch: 40,history_callback.0.9952697157859802\n",
      "0.9951000213623047\n",
      "Epoch 42/100\n",
      "937/937 [==============================] - 9s 10ms/step - loss: 0.0088 - accuracy: 0.9990 - val_loss: 0.5448 - val_accuracy: 0.9954\n",
      "epoch: 41,history_callback.0.9953703880310059\n",
      "0.995199978351593\n",
      "Epoch 43/100\n",
      "937/937 [==============================] - 10s 10ms/step - loss: 0.0133 - accuracy: 0.9986 - val_loss: 2.0489e-08 - val_accuracy: 0.9942\n",
      "epoch: 42,history_callback.0.9941626191139221\n",
      "0.9940999746322632\n",
      "Epoch 44/100\n",
      "937/937 [==============================] - 10s 11ms/step - loss: 0.0125 - accuracy: 0.9989 - val_loss: 0.3955 - val_accuracy: 0.9954\n",
      "epoch: 43,history_callback.0.9953703880310059\n",
      "0.9948999881744385\n",
      "Epoch 45/100\n",
      "937/937 [==============================] - 10s 10ms/step - loss: 0.0140 - accuracy: 0.9988 - val_loss: 5.2526e-07 - val_accuracy: 0.9951\n",
      "epoch: 44,history_callback.0.9950684309005737\n",
      "0.994700014591217\n",
      "Epoch 46/100\n",
      "937/937 [==============================] - 9s 10ms/step - loss: 0.0178 - accuracy: 0.9987 - val_loss: 0.8899 - val_accuracy: 0.9950\n",
      "epoch: 45,history_callback.0.9949678182601929\n",
      "0.9948999881744385\n",
      "Epoch 47/100\n",
      "937/937 [==============================] - 10s 11ms/step - loss: 0.0086 - accuracy: 0.9989 - val_loss: 0.0000e+00 - val_accuracy: 0.9957\n",
      "epoch: 46,history_callback.0.9956722855567932\n",
      "0.9955999851226807\n",
      "Epoch 48/100\n",
      "937/937 [==============================] - 10s 10ms/step - loss: 0.0157 - accuracy: 0.9987 - val_loss: 0.1446 - val_accuracy: 0.9953\n",
      "epoch: 47,history_callback.0.9952697157859802\n",
      "0.995199978351593\n",
      "Epoch 49/100\n",
      "937/937 [==============================] - 10s 10ms/step - loss: 0.0144 - accuracy: 0.9988 - val_loss: 0.2152 - val_accuracy: 0.9948\n",
      "epoch: 48,history_callback.0.9947665333747864\n",
      "0.9948999881744385\n",
      "Epoch 50/100\n",
      "937/937 [==============================] - 10s 11ms/step - loss: 0.0114 - accuracy: 0.9987 - val_loss: 0.3464 - val_accuracy: 0.9960\n",
      "epoch: 49,history_callback.0.9959742426872253\n",
      "0.9952999949455261\n",
      "Epoch 51/100\n",
      "937/937 [==============================] - 10s 10ms/step - loss: 0.0112 - accuracy: 0.9986 - val_loss: 0.0000e+00 - val_accuracy: 0.9947\n",
      "epoch: 50,history_callback.0.9946658611297607\n",
      "0.995199978351593\n",
      "Epoch 52/100\n",
      "937/937 [==============================] - 10s 10ms/step - loss: 0.0091 - accuracy: 0.9988 - val_loss: 0.0000e+00 - val_accuracy: 0.9959\n",
      "epoch: 51,history_callback.0.9958735704421997\n",
      "0.9958999752998352\n",
      "Epoch 53/100\n",
      "937/937 [==============================] - 10s 11ms/step - loss: 0.0155 - accuracy: 0.9986 - val_loss: 0.0000e+00 - val_accuracy: 0.9953\n",
      "epoch: 52,history_callback.0.9952697157859802\n",
      "0.9952999949455261\n",
      "Epoch 54/100\n",
      "937/937 [==============================] - 10s 10ms/step - loss: 0.0145 - accuracy: 0.9985 - val_loss: 0.0000e+00 - val_accuracy: 0.9969\n",
      "epoch: 53,history_callback.0.996880054473877\n",
      "0.996399998664856\n",
      "Epoch 55/100\n",
      "937/937 [==============================] - 9s 10ms/step - loss: 0.0100 - accuracy: 0.9989 - val_loss: 0.0000e+00 - val_accuracy: 0.9952\n",
      "epoch: 54,history_callback.0.9951691031455994\n",
      "0.9950000047683716\n",
      "Epoch 56/100\n",
      "937/937 [==============================] - 10s 11ms/step - loss: 0.0126 - accuracy: 0.9988 - val_loss: 0.0000e+00 - val_accuracy: 0.9953\n",
      "epoch: 55,history_callback.0.9952697157859802\n",
      "0.9958999752998352\n",
      "Epoch 57/100\n",
      "937/937 [==============================] - 10s 10ms/step - loss: 0.0120 - accuracy: 0.9987 - val_loss: 0.0000e+00 - val_accuracy: 0.9959\n",
      "epoch: 56,history_callback.0.9958735704421997\n",
      "0.9957000017166138\n",
      "Epoch 58/100\n",
      "937/937 [==============================] - 10s 10ms/step - loss: 0.0123 - accuracy: 0.9985 - val_loss: 0.0000e+00 - val_accuracy: 0.9962\n",
      "epoch: 57,history_callback.0.9961755275726318\n",
      "0.9958999752998352\n",
      "Epoch 59/100\n",
      "937/937 [==============================] - 10s 11ms/step - loss: 0.0125 - accuracy: 0.9989 - val_loss: 0.0090 - val_accuracy: 0.9949\n",
      "epoch: 58,history_callback.0.9948671460151672\n",
      "0.995199978351593\n",
      "Epoch 60/100\n",
      "937/937 [==============================] - 10s 10ms/step - loss: 0.0117 - accuracy: 0.9987 - val_loss: 0.0000e+00 - val_accuracy: 0.9961\n",
      "epoch: 59,history_callback.0.9960748553276062\n",
      "0.9957000017166138\n",
      "Epoch 61/100\n",
      "937/937 [==============================] - 10s 10ms/step - loss: 0.0112 - accuracy: 0.9988 - val_loss: 0.0000e+00 - val_accuracy: 0.9962\n",
      "epoch: 60,history_callback.0.9961755275726318\n",
      "0.9958000183105469\n",
      "Epoch 62/100\n",
      "937/937 [==============================] - 10s 11ms/step - loss: 0.0140 - accuracy: 0.9986 - val_loss: 0.0000e+00 - val_accuracy: 0.9961\n",
      "epoch: 61,history_callback.0.9960748553276062\n",
      "0.9955000281333923\n",
      "Epoch 63/100\n",
      "937/937 [==============================] - 10s 10ms/step - loss: 0.0157 - accuracy: 0.9984 - val_loss: 0.0000e+00 - val_accuracy: 0.9949\n",
      "epoch: 62,history_callback.0.9948671460151672\n",
      "0.9950000047683716\n",
      "Epoch 64/100\n",
      "937/937 [==============================] - 9s 10ms/step - loss: 0.0104 - accuracy: 0.9987 - val_loss: 0.0000e+00 - val_accuracy: 0.9953\n",
      "epoch: 63,history_callback.0.9952697157859802\n",
      "0.995199978351593\n",
      "Epoch 65/100\n",
      "937/937 [==============================] - 10s 11ms/step - loss: 0.0138 - accuracy: 0.9987 - val_loss: 0.0000e+00 - val_accuracy: 0.9960\n",
      "epoch: 64,history_callback.0.9959742426872253\n",
      "0.9954000115394592\n",
      "Epoch 66/100\n",
      "937/937 [==============================] - 9s 10ms/step - loss: 0.0115 - accuracy: 0.9988 - val_loss: 0.0000e+00 - val_accuracy: 0.9956\n",
      "epoch: 65,history_callback.0.9955716729164124\n",
      "0.9955000281333923\n",
      "Epoch 67/100\n",
      "937/937 [==============================] - 9s 10ms/step - loss: 0.0112 - accuracy: 0.9988 - val_loss: 0.0000e+00 - val_accuracy: 0.9953\n",
      "epoch: 66,history_callback.0.9952697157859802\n",
      "0.9955999851226807\n",
      "Epoch 68/100\n",
      "937/937 [==============================] - 10s 11ms/step - loss: 0.0125 - accuracy: 0.9988 - val_loss: 0.0000e+00 - val_accuracy: 0.9957\n",
      "epoch: 67,history_callback.0.9956722855567932\n",
      "0.995199978351593\n",
      "Epoch 69/100\n",
      "937/937 [==============================] - 10s 10ms/step - loss: 0.0126 - accuracy: 0.9986 - val_loss: 0.2151 - val_accuracy: 0.9955\n",
      "epoch: 68,history_callback.0.9954710006713867\n",
      "0.9955000281333923\n",
      "Epoch 70/100\n",
      "937/937 [==============================] - 9s 10ms/step - loss: 0.0136 - accuracy: 0.9988 - val_loss: 0.0000e+00 - val_accuracy: 0.9954\n",
      "epoch: 69,history_callback.0.9953703880310059\n",
      "0.9958999752998352\n",
      "Epoch 71/100\n",
      "937/937 [==============================] - 10s 11ms/step - loss: 0.0132 - accuracy: 0.9986 - val_loss: 0.0000e+00 - val_accuracy: 0.9947\n",
      "epoch: 70,history_callback.0.9946658611297607\n",
      "0.9944999814033508\n",
      "Epoch 72/100\n",
      "937/937 [==============================] - 10s 10ms/step - loss: 0.0145 - accuracy: 0.9987 - val_loss: 0.0000e+00 - val_accuracy: 0.9955\n",
      "epoch: 71,history_callback.0.9954710006713867\n",
      "0.9951000213623047\n",
      "Epoch 73/100\n",
      "937/937 [==============================] - 10s 10ms/step - loss: 0.0105 - accuracy: 0.9989 - val_loss: 3.7253e-09 - val_accuracy: 0.9940\n",
      "epoch: 72,history_callback.0.9939613342285156\n",
      "0.994700014591217\n",
      "Epoch 74/100\n",
      "937/937 [==============================] - 10s 11ms/step - loss: 0.0159 - accuracy: 0.9986 - val_loss: 0.0000e+00 - val_accuracy: 0.9961\n",
      "epoch: 73,history_callback.0.9960748553276062\n",
      "0.9957000017166138\n",
      "Epoch 75/100\n",
      "937/937 [==============================] - 10s 10ms/step - loss: 0.0107 - accuracy: 0.9989 - val_loss: 0.4646 - val_accuracy: 0.9945\n",
      "epoch: 74,history_callback.0.9944645762443542\n",
      "0.9941999912261963\n",
      "Epoch 76/100\n",
      "937/937 [==============================] - 10s 10ms/step - loss: 0.0128 - accuracy: 0.9988 - val_loss: 0.0729 - val_accuracy: 0.9945\n",
      "epoch: 75,history_callback.0.9944645762443542\n",
      "0.9944999814033508\n",
      "Epoch 77/100\n"
     ]
    },
    {
     "name": "stdout",
     "output_type": "stream",
     "text": [
      "937/937 [==============================] - 10s 11ms/step - loss: 0.0131 - accuracy: 0.9988 - val_loss: 0.7280 - val_accuracy: 0.9948\n",
      "epoch: 76,history_callback.0.9947665333747864\n",
      "0.9943000078201294\n",
      "Epoch 78/100\n",
      "937/937 [==============================] - 10s 10ms/step - loss: 0.0125 - accuracy: 0.9987 - val_loss: 3.7253e-09 - val_accuracy: 0.9936\n",
      "epoch: 77,history_callback.0.9935587644577026\n",
      "0.9944000244140625\n",
      "Epoch 79/100\n",
      "937/937 [==============================] - 9s 10ms/step - loss: 0.0107 - accuracy: 0.9988 - val_loss: 0.0000e+00 - val_accuracy: 0.9956\n",
      "epoch: 78,history_callback.0.9955716729164124\n",
      "0.995199978351593\n",
      "Epoch 80/100\n",
      "937/937 [==============================] - 10s 11ms/step - loss: 0.0120 - accuracy: 0.9987 - val_loss: 0.0000e+00 - val_accuracy: 0.9956\n",
      "epoch: 79,history_callback.0.9955716729164124\n",
      "0.9952999949455261\n",
      "Epoch 81/100\n",
      "937/937 [==============================] - 10s 10ms/step - loss: 0.0138 - accuracy: 0.9986 - val_loss: 0.0000e+00 - val_accuracy: 0.9950\n",
      "epoch: 80,history_callback.0.9949678182601929\n",
      "0.9955000281333923\n",
      "Epoch 82/100\n",
      "937/937 [==============================] - 10s 10ms/step - loss: 0.0094 - accuracy: 0.9990 - val_loss: 0.0000e+00 - val_accuracy: 0.9957\n",
      "epoch: 81,history_callback.0.9956722855567932\n",
      "0.9958000183105469\n",
      "Epoch 83/100\n",
      "937/937 [==============================] - 10s 11ms/step - loss: 0.0133 - accuracy: 0.9990 - val_loss: 0.5558 - val_accuracy: 0.9948\n",
      "epoch: 82,history_callback.0.9947665333747864\n",
      "0.995199978351593\n",
      "Epoch 84/100\n",
      "937/937 [==============================] - 10s 10ms/step - loss: 0.0148 - accuracy: 0.9984 - val_loss: 3.5123 - val_accuracy: 0.9960\n",
      "epoch: 83,history_callback.0.9959742426872253\n",
      "0.9952999949455261\n",
      "Epoch 85/100\n",
      "937/937 [==============================] - 10s 10ms/step - loss: 0.0140 - accuracy: 0.9986 - val_loss: 6.5086e-06 - val_accuracy: 0.9945\n",
      "epoch: 84,history_callback.0.9944645762443542\n",
      "0.9947999715805054\n",
      "Epoch 86/100\n",
      "937/937 [==============================] - 10s 11ms/step - loss: 0.0117 - accuracy: 0.9987 - val_loss: 0.0067 - val_accuracy: 0.9938\n",
      "epoch: 85,history_callback.0.9937600493431091\n",
      "0.9937999844551086\n",
      "Epoch 87/100\n",
      "937/937 [==============================] - 10s 10ms/step - loss: 0.0091 - accuracy: 0.9988 - val_loss: 0.7894 - val_accuracy: 0.9948\n",
      "epoch: 86,history_callback.0.9947665333747864\n",
      "0.9950000047683716\n",
      "Epoch 88/100\n",
      "937/937 [==============================] - 10s 10ms/step - loss: 0.0162 - accuracy: 0.9985 - val_loss: 0.0000e+00 - val_accuracy: 0.9947\n",
      "epoch: 87,history_callback.0.9946658611297607\n",
      "0.9950000047683716\n",
      "Epoch 89/100\n",
      "937/937 [==============================] - 10s 11ms/step - loss: 0.0144 - accuracy: 0.9985 - val_loss: 0.0000e+00 - val_accuracy: 0.9965\n",
      "epoch: 88,history_callback.0.996477484703064\n",
      "0.9957000017166138\n",
      "Epoch 90/100\n",
      "937/937 [==============================] - 10s 10ms/step - loss: 0.0128 - accuracy: 0.9988 - val_loss: 1.0798 - val_accuracy: 0.9949\n",
      "epoch: 89,history_callback.0.9948671460151672\n",
      "0.9951000213623047\n",
      "Epoch 91/100\n",
      "937/937 [==============================] - 9s 10ms/step - loss: 0.0126 - accuracy: 0.9987 - val_loss: 0.0000e+00 - val_accuracy: 0.9953\n",
      "epoch: 90,history_callback.0.9952697157859802\n",
      "0.995199978351593\n",
      "Epoch 92/100\n",
      "937/937 [==============================] - 10s 11ms/step - loss: 0.0106 - accuracy: 0.9989 - val_loss: 0.5438 - val_accuracy: 0.9960\n",
      "epoch: 91,history_callback.0.9959742426872253\n",
      "0.9957000017166138\n",
      "Epoch 93/100\n",
      "937/937 [==============================] - 10s 10ms/step - loss: 0.0121 - accuracy: 0.9988 - val_loss: 0.1107 - val_accuracy: 0.9955\n",
      "epoch: 92,history_callback.0.9954710006713867\n",
      "0.9950000047683716\n",
      "Epoch 94/100\n",
      "937/937 [==============================] - 10s 10ms/step - loss: 0.0135 - accuracy: 0.9987 - val_loss: 0.0000e+00 - val_accuracy: 0.9952\n",
      "epoch: 93,history_callback.0.9951691031455994\n",
      "0.9954000115394592\n",
      "Epoch 95/100\n",
      "937/937 [==============================] - 10s 11ms/step - loss: 0.0104 - accuracy: 0.9988 - val_loss: 0.0000e+00 - val_accuracy: 0.9945\n",
      "epoch: 94,history_callback.0.9944645762443542\n",
      "0.9951000213623047\n",
      "Epoch 96/100\n",
      "937/937 [==============================] - 9s 10ms/step - loss: 0.0113 - accuracy: 0.9987 - val_loss: 0.0000e+00 - val_accuracy: 0.9953\n",
      "epoch: 95,history_callback.0.9952697157859802\n",
      "0.9947999715805054\n",
      "Epoch 97/100\n",
      "937/937 [==============================] - 9s 10ms/step - loss: 0.0090 - accuracy: 0.9990 - val_loss: 0.0000e+00 - val_accuracy: 0.9956\n",
      "epoch: 96,history_callback.0.9955716729164124\n",
      "0.9958000183105469\n",
      "Epoch 98/100\n",
      "937/937 [==============================] - 10s 10ms/step - loss: 0.0132 - accuracy: 0.9988 - val_loss: 9.6857e-08 - val_accuracy: 0.9968\n",
      "epoch: 97,history_callback.0.9967793822288513\n",
      "0.9962000250816345\n",
      "Epoch 99/100\n",
      "937/937 [==============================] - 9s 10ms/step - loss: 0.0100 - accuracy: 0.9988 - val_loss: 0.0000e+00 - val_accuracy: 0.9957\n",
      "epoch: 98,history_callback.0.9956722855567932\n",
      "0.9962000250816345\n",
      "Epoch 100/100\n",
      "937/937 [==============================] - 9s 10ms/step - loss: 0.0144 - accuracy: 0.9988 - val_loss: 3.6400 - val_accuracy: 0.9967\n",
      "epoch: 99,history_callback.0.9966787695884705\n",
      "0.9958000183105469\n"
     ]
    }
   ],
   "source": [
    "epoch =100\n",
    "history_callback= model.fit_generator(train_generator, steps_per_epoch=60000//64, epochs=epoch, \n",
    "                    validation_data=test_generator, validation_steps=10000//64, callbacks=[cbk])"
   ]
  },
  {
   "cell_type": "code",
   "execution_count": null,
   "metadata": {},
   "outputs": [],
   "source": [
    "\n"
   ]
  },
  {
   "cell_type": "code",
   "execution_count": 46,
   "metadata": {},
   "outputs": [],
   "source": [
    "val_accuracy = np.array(history_callback.history['val_accuracy'])\n",
    "val_loss =  np.array(history_callback.history['val_loss'])\n",
    "accuracy =  np.array(history_callback.history['accuracy'])\n",
    "loss =  np.array(history_callback.history['loss'])\n"
   ]
  },
  {
   "cell_type": "code",
   "execution_count": 55,
   "metadata": {},
   "outputs": [
    {
     "data": {
      "text/plain": [
       "[<matplotlib.lines.Line2D at 0x1c459bd45c8>,\n",
       " <matplotlib.lines.Line2D at 0x1c459bd47c8>]"
      ]
     },
     "execution_count": 55,
     "metadata": {},
     "output_type": "execute_result"
    },
    {
     "data": {
      "image/png": "[encoded data removed]",
      "text/plain": [
       "<Figure size 432x288 with 1 Axes>"
      ]
     },
     "metadata": {
      "needs_background": "light"
     },
     "output_type": "display_data"
    }
   ],
   "source": [
    "x = np.arange(0.0, epoch, 1)\n",
    "plt.plot(x,val_accuracy,'b',x,accuracy,'r')#,x,loss,'g',x,val_loss,'y')"
   ]
  },
  {
   "cell_type": "code",
   "execution_count": 86,
   "metadata": {},
   "outputs": [
    {
     "data": {
      "text/plain": [
       "0.0099964409139225"
      ]
     },
     "execution_count": 86,
     "metadata": {},
     "output_type": "execute_result"
    }
   ],
   "source": [
    "loss[92]"
   ]
  },
  {
   "cell_type": "code",
   "execution_count": 57,
   "metadata": {},
   "outputs": [
    {
     "data": {
      "text/plain": [
       "[0.046948431885341146, 0.9968000054359436]"
      ]
     },
     "execution_count": 57,
     "metadata": {},
     "output_type": "execute_result"
    }
   ],
   "source": [
    "score = kr.models.load_model('./model7.h5').evaluate(x_test, y_test, verbose=0)\n",
    "score"
   ]
  },
  {
   "cell_type": "code",
   "execution_count": 141,
   "metadata": {},
   "outputs": [
    {
     "data": {
      "text/plain": [
       "[<matplotlib.lines.Line2D at 0x2296e5cc388>,\n",
       " <matplotlib.lines.Line2D at 0x2296eb4bd08>]"
      ]
     },
     "execution_count": 141,
     "metadata": {},
     "output_type": "execute_result"
    },
    {
     "data": {
      "image/png": "[encoded data removed]",
      "text/plain": [
       "<Figure size 432x288 with 1 Axes>"
      ]
     },
     "metadata": {
      "needs_background": "light"
     },
     "output_type": "display_data"
    }
   ],
   "source": [
    "x = np.arange(0.0, epoch, 1)\n",
    "plt.plot(x,loss,'g',x,val_loss,'y')"
   ]
  },
  {
   "cell_type": "code",
   "execution_count": null,
   "metadata": {},
   "outputs": [],
   "source": []
  }
 ],
 "metadata": {
  "kernelspec": {
   "display_name": "Python 3",
   "language": "python",
   "name": "python3"
  },
  "language_info": {
   "codemirror_mode": {
    "name": "ipython",
    "version": 3
   },
   "file_extension": ".py",
   "mimetype": "text/x-python",
   "name": "python",
   "nbconvert_exporter": "python",
   "pygments_lexer": "ipython3",
   "version": "3.7.4"
  }
 },
 "nbformat": 4,
 "nbformat_minor": 4
}
