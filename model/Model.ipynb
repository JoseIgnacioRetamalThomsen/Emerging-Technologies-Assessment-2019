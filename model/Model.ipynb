{
 "cells": [
  {
   "cell_type": "markdown",
   "metadata": {},
   "source": [
    "# Trainig a Model Using the MNIST datase for recgonise hand-writen digits\n",
    "   \n",
    "On this notebook we show how to create a model and train using  MNIST dataset for recognise handwritten digits.\n",
    "We start showing how to read the bits from the dataset, then we do a quick introduction to neural network what \n",
    "is useful for understand the model thath we will train.\n",
    "We start with a simple linear model, for then add convolutional and maxpooling layers.\n",
    "At the end we use data augmentation and train for several epoch our model to try to get a high hit on the test data set.\n",
    "\n"
   ]
  },
  {
   "cell_type": "markdown",
   "metadata": {},
   "source": [
    "# The Data\n",
    "\n",
    "  We will start by understanding how the data is formatted and see hot we can parse it in a  suitable way for train our model.\n",
    "  \n",
    "  Mnist provide 4 files:\n",
    "  \n",
    "  -   training set images \n",
    "  -   training set labels\n",
    "  -   test set images\n",
    "  -   test set labels \n",
    " \n",
    "   [http://yann.lecun.com/exdb/mnist/](http://yann.lecun.com/exdb/mnist/) \n",
    "\n"
   ]
  },
  {
   "cell_type": "markdown",
   "metadata": {},
   "source": [
    "## Little and Big Endian Architecture \n",
    "\n",
    "  There are 2 types of processors architecture(little and big endian). In little endian bits are store from left to right This is basically how the bytes are stored, in little they are stored from left to right and in big the other way around.(Look this is you want to know more about https://chortle.ccsu.edu/AssemblyTutorial/Chapter-15/ass15_3.html ).\n",
    "  This is relevant for us because we need to know read the bytes right for get the proper data.\n",
    "  \n",
    "  In python we can easily check using sys, since I am using a Intel processor I expected to be little.\n"
   ]
  },
  {
   "cell_type": "code",
   "execution_count": 1,
   "metadata": {},
   "outputs": [],
   "source": [
    "import numpy as np\n",
    "from sys import byteorder"
   ]
  },
  {
   "cell_type": "markdown",
   "metadata": {},
   "source": [
    "Now we can check  our architecture:"
   ]
  },
  {
   "cell_type": "code",
   "execution_count": 2,
   "metadata": {},
   "outputs": [
    {
     "name": "stdout",
     "output_type": "stream",
     "text": [
      "little\n"
     ]
    }
   ],
   "source": [
    "print(byteorder)"
   ]
  },
  {
   "cell_type": "markdown",
   "metadata": {},
   "source": [
    "## Reading Mnist\n",
    "\n",
    "  Now we can start reading the train images file. \n",
    "  From Mnist website we know what to expected from each bit read.\n"
   ]
  },
  {
   "cell_type": "code",
   "execution_count": 3,
   "metadata": {},
   "outputs": [],
   "source": [
    "import gzip\n",
    "\n",
    "with gzip.open('mnist/train-images-idx3-ubyte.gz', 'rb') as f:\n",
    "    fc_train_img = f.read()"
   ]
  },
  {
   "cell_type": "markdown",
   "metadata": {},
   "source": [
    "  The first 4 bytes is the magic number which is a 32 bit integer, for the image set this number is 2051. Note that we are setting the byte order as big."
   ]
  },
  {
   "cell_type": "code",
   "execution_count": 4,
   "metadata": {},
   "outputs": [
    {
     "data": {
      "text/plain": [
       "2051"
      ]
     },
     "execution_count": 4,
     "metadata": {},
     "output_type": "execute_result"
    }
   ],
   "source": [
    "int.from_bytes(fc_train_img[0:4], byteorder='big')"
   ]
  },
  {
   "cell_type": "markdown",
   "metadata": {},
   "source": [
    "Next is the number of images as a 32 bit integer:"
   ]
  },
  {
   "cell_type": "code",
   "execution_count": 5,
   "metadata": {},
   "outputs": [
    {
     "data": {
      "text/plain": [
       "60000"
      ]
     },
     "execution_count": 5,
     "metadata": {},
     "output_type": "execute_result"
    }
   ],
   "source": [
    "train_img_total = int.from_bytes(fc_train_img[4:8], byteorder='big')\n",
    "train_img_total"
   ]
  },
  {
   "cell_type": "markdown",
   "metadata": {},
   "source": [
    "Then number of rows as 32 bit integer."
   ]
  },
  {
   "cell_type": "code",
   "execution_count": 6,
   "metadata": {},
   "outputs": [
    {
     "data": {
      "text/plain": [
       "28"
      ]
     },
     "execution_count": 6,
     "metadata": {},
     "output_type": "execute_result"
    }
   ],
   "source": [
    "row = int.from_bytes(fc_train_img[8:12], byteorder='big')\n",
    "row"
   ]
  },
  {
   "cell_type": "markdown",
   "metadata": {},
   "source": [
    "And  columns  32 bit integer as well."
   ]
  },
  {
   "cell_type": "code",
   "execution_count": 7,
   "metadata": {},
   "outputs": [
    {
     "data": {
      "text/plain": [
       "28"
      ]
     },
     "execution_count": 7,
     "metadata": {},
     "output_type": "execute_result"
    }
   ],
   "source": [
    "col = int.from_bytes(fc_train_img[12:16], byteorder='big')\n",
    "col"
   ]
  },
  {
   "cell_type": "markdown",
   "metadata": {},
   "source": [
    "Then all next are  unsigned bytes(8 bits) , each byte represent a pixel. They are organized row-wise.\n",
    "\n",
    "The total of bits is: \n",
    "```python\n",
    "train_img_total*row*col\n",
    "```\n",
    "\n",
    "\n",
    "\n"
   ]
  },
  {
   "cell_type": "code",
   "execution_count": 8,
   "metadata": {},
   "outputs": [
    {
     "data": {
      "text/plain": [
       "47040016"
      ]
     },
     "execution_count": 8,
     "metadata": {},
     "output_type": "execute_result"
    }
   ],
   "source": [
    "last_byte = (train_img_total*row*col) + 16\n",
    "last_byte"
   ]
  },
  {
   "cell_type": "markdown",
   "metadata": {},
   "source": [
    "Now whe can read all bits:"
   ]
  },
  {
   "cell_type": "code",
   "execution_count": 9,
   "metadata": {},
   "outputs": [],
   "source": [
    "x_train = list(fc_train_img[16:last_byte])"
   ]
  },
  {
   "cell_type": "markdown",
   "metadata": {},
   "source": [
    "And reshape them ass 28*27 (784) array. That is the vector representation of the images.\n",
    "\n",
    "In Mnist pixel values are 0 to 255.0 , 0 representing the background. We want to invert this, because having a non zero value as background is better for the training."
   ]
  },
  {
   "cell_type": "code",
   "execution_count": 10,
   "metadata": {},
   "outputs": [
    {
     "data": {
      "text/plain": [
       "(60000, 784)"
      ]
     },
     "execution_count": 10,
     "metadata": {},
     "output_type": "execute_result"
    }
   ],
   "source": [
    "x_train = ~np.array(x_train).reshape(train_img_total,row*col).astype(np.uint8)\n",
    "x_train.shape"
   ]
  },
  {
   "cell_type": "markdown",
   "metadata": {},
   "source": [
    "We can see one image using pyplot:"
   ]
  },
  {
   "cell_type": "code",
   "execution_count": 11,
   "metadata": {},
   "outputs": [
    {
     "data": {
      "text/plain": [
       "<matplotlib.image.AxesImage at 0x2136d7649c8>"
      ]
     },
     "execution_count": 11,
     "metadata": {},
     "output_type": "execute_result"
    }
   ],
   "source": [
    "import matplotlib.pyplot as plt\n",
    "plt.imshow(x_train[11].reshape(row,col), cmap='gray')"
   ]
  },
  {
   "cell_type": "markdown",
   "metadata": {},
   "source": [
    "Thats look like the image 11 is a 5. We can now read labels and check."
   ]
  },
  {
   "cell_type": "code",
   "execution_count": 12,
   "metadata": {},
   "outputs": [],
   "source": [
    "with gzip.open('mnist/train-labels-idx1-ubyte.gz', 'rb') as f:\n",
    "    fc_train_lbl = f.read()"
   ]
  },
  {
   "cell_type": "markdown",
   "metadata": {},
   "source": [
    "First 32 bits are the magic number : 2049"
   ]
  },
  {
   "cell_type": "code",
   "execution_count": 13,
   "metadata": {},
   "outputs": [
    {
     "data": {
      "text/plain": [
       "2049"
      ]
     },
     "execution_count": 13,
     "metadata": {},
     "output_type": "execute_result"
    }
   ],
   "source": [
    "int.from_bytes(fc_train_lbl[0:4], byteorder='big')\n"
   ]
  },
  {
   "cell_type": "markdown",
   "metadata": {},
   "source": [
    "Then a 32 bits integer, the total of labels. Must be 6000 as we got 6000 images."
   ]
  },
  {
   "cell_type": "code",
   "execution_count": 14,
   "metadata": {},
   "outputs": [
    {
     "data": {
      "text/plain": [
       "60000"
      ]
     },
     "execution_count": 14,
     "metadata": {},
     "output_type": "execute_result"
    }
   ],
   "source": [
    "train_lvl_total = int.from_bytes(fc_train_lbl[4:8], byteorder='big')\n",
    "train_lvl_total"
   ]
  },
  {
   "cell_type": "markdown",
   "metadata": {},
   "source": [
    "Now each unsigned byte is a label, so we can check that 11 is 5:"
   ]
  },
  {
   "cell_type": "code",
   "execution_count": 15,
   "metadata": {},
   "outputs": [
    {
     "name": "stdout",
     "output_type": "stream",
     "text": [
      "5\n"
     ]
    }
   ],
   "source": [
    "y_train = np.array(list(fc_train_lbl[8:train_lvl_total+8]))\n",
    "print(y_train[11])"
   ]
  },
  {
   "cell_type": "markdown",
   "metadata": {},
   "source": [
    "We now real the test images and labels:"
   ]
  },
  {
   "cell_type": "code",
   "execution_count": 16,
   "metadata": {},
   "outputs": [],
   "source": [
    "with gzip.open('mnist/t10k-images-idx3-ubyte.gz', 'rb') as f:\n",
    "    fc_test_img = f.read()\n",
    "with gzip.open('mnist/t10k-labels-idx1-ubyte.gz', 'rb') as f:\n",
    "    fc_test_lbl = f.read()\n",
    "    \n",
    "test_img_total = int.from_bytes(fc_test_img[4:8], byteorder='big')\n",
    "test_lbl_total = int.from_bytes(fc_test_lbl[4:8], byteorder='big')\n",
    "\n",
    "last_byte = (test_img_total*row*col) + 16\n",
    "x_test = list(fc_test_img[16:last_byte])\n",
    "x_test = ~np.array(x_test).reshape(test_img_total,row*col).astype(np.uint8)\n",
    "\n",
    "y_test = np.array(list(fc_test_lbl[8:test_lbl_total+8]))"
   ]
  },
  {
   "cell_type": "code",
   "execution_count": 17,
   "metadata": {},
   "outputs": [],
   "source": [
    "x_train = x_train.astype('float32')\n",
    "x_test = x_test.astype('float32')"
   ]
  },
  {
   "cell_type": "code",
   "execution_count": 18,
   "metadata": {},
   "outputs": [],
   "source": [
    "x_train =  x_train/255.0\n",
    "x_test = x_test/255.0"
   ]
  },
  {
   "cell_type": "code",
   "execution_count": 19,
   "metadata": {},
   "outputs": [
    {
     "data": {
      "text/plain": [
       "<matplotlib.image.AxesImage at 0x21301e05348>"
      ]
     },
     "execution_count": 19,
     "metadata": {},
     "output_type": "execute_result"
    },
    {
     "data": {
      "image/png": "[encoded data removed]",
      "text/plain": [
       "<Figure size 432x288 with 1 Axes>"
      ]
     },
     "metadata": {
      "needs_background": "light"
     },
     "output_type": "display_data"
    }
   ],
   "source": [
    "plt.imshow(x_test[11].reshape(row,col), cmap='gray')"
   ]
  },
  {
   "cell_type": "code",
   "execution_count": 20,
   "metadata": {},
   "outputs": [
    {
     "name": "stdout",
     "output_type": "stream",
     "text": [
      "6\n"
     ]
    }
   ],
   "source": [
    "print(y_test[11])"
   ]
  },
  {
   "cell_type": "markdown",
   "metadata": {},
   "source": [
    "# Neuron Network\n",
    "\n",
    "Most people can recognize handwrite digits with no problem(because we have a very complex brain). This is not a easy task for a computer. We will use the neural network approach, we will take a large number of labelled handwrite digits -the training examples- (x_train), and create a model that can learn from those examples.\n"
   ]
  },
  {
   "cell_type": "markdown",
   "metadata": {},
   "source": [
    "## Neurons\n",
    "\n",
    "The idea is simple, they take several inputs(  $ x_1, x_2 ... x_n $) and produce a single output.\n",
    "\n",
    "\n"
   ]
  },
  {
   "cell_type": "markdown",
   "metadata": {},
   "source": [
    "![Single neuron](img/SingleNeuron.png)"
   ]
  },
  {
   "cell_type": "markdown",
   "metadata": {},
   "source": [
    "Each input have  <i>weights</i>  $ w_1, w_2 ... w_n $ , a weight sum is calculated:${\\sum_n x_n w_n}$ then the results goes through a activation function."
   ]
  },
  {
   "cell_type": "markdown",
   "metadata": {},
   "source": [
    "[http://neuralnetworksanddeeplearning.com/chap1.html](http://neuralnetworksanddeeplearning.com/chap1.html/) \n",
    "\n",
    "[https://github.com/ianmcloughlin/jupyter-teaching-notebooks/blob/master/keras-neurons.ipynb](https://github.com/ianmcloughlin/jupyter-teaching-notebooks/blob/master/keras-neurons.ipynb) \n",
    "\n"
   ]
  },
  {
   "cell_type": "markdown",
   "metadata": {},
   "source": [
    "## Layers\n",
    "\n",
    "We create layers composed of neurons. at least one input layer and a output layer is required, there can be hidden layers between the input and output layer. \n",
    "\n",
    "Our images are 28x28, we can create a 784 vector that represent the image. So we will feed out network with 784 inputs, this is our input layer that is also know as hidden layer.\n",
    "Since we need to discriminate 10 numbers out output layer will have 10 neurons, each will represent a digit from 0 to 9. Then we can use SoftMax activation function for the output of each of our network to represent a probability of being a digit.\n"
   ]
  },
  {
   "cell_type": "markdown",
   "metadata": {},
   "source": [
    "## Activation : softmax\n",
    "   We want our result to represent a probability of being one of the 10 digits(0,1,3...).\n",
    "  The SoftMax activation function will do this for us, it will output our output for each neuron between 0 and 1.Then each \n",
    "  of our neuron can represent a digit so the one will bigger probability will be our prediction.\n",
    "\n",
    "  \n",
    "  $$\\sigma (z)_j = \\frac{e^{(z)_j}}{\\sum_{k=0}^{K}e^{(z)_k}} \\text{  where   j = 1,...,K}$$  \n",
    "  \n",
    "  In our case K = 10.\n",
    "  \n",
    "  https://www.analyticsvidhya.com/blog/2017/10/fundamentals-deep-learning-activation-functions-when-to-use-them/"
   ]
  },
  {
   "cell_type": "markdown",
   "metadata": {},
   "source": [
    "## First model\n",
    "\n",
    " We will start create a 2 layers model, input and output : the input layer will be the 784 vector created with the image data and the output a 10 neuros with activation SoftMax. \n",
    " "
   ]
  },
  {
   "cell_type": "markdown",
   "metadata": {},
   "source": [
    "![Single neuron](img/Model1.png)"
   ]
  },
  {
   "cell_type": "markdown",
   "metadata": {},
   "source": [
    "We will use keras and TensorFlow"
   ]
  },
  {
   "cell_type": "code",
   "execution_count": 21,
   "metadata": {},
   "outputs": [
    {
     "name": "stderr",
     "output_type": "stream",
     "text": [
      "Using TensorFlow backend.\n"
     ]
    }
   ],
   "source": [
    "import keras as kr"
   ]
  },
  {
   "cell_type": "code",
   "execution_count": 22,
   "metadata": {},
   "outputs": [],
   "source": [
    "# create sequeantial model\n",
    "model = kr.models.Sequential()\n",
    "\n",
    "# The input layer is added by keras when we set input = 784 \n",
    "# We add 10 neuroas with softmax for output\n",
    "model.add(kr.layers.Dense(units=10, input_dim=784, activation='softmax'))\n",
    "\n",
    "# Compile the model.\n",
    "model.compile(loss='categorical_crossentropy',optimizer='adam', metrics=['accuracy'])"
   ]
  },
  {
   "cell_type": "markdown",
   "metadata": {},
   "source": [
    "We can se a summary of our model:"
   ]
  },
  {
   "cell_type": "code",
   "execution_count": 23,
   "metadata": {},
   "outputs": [
    {
     "name": "stdout",
     "output_type": "stream",
     "text": [
      "Model: \"sequential_1\"\n",
      "_________________________________________________________________\n",
      "Layer (type)                 Output Shape              Param #   \n",
      "=================================================================\n",
      "dense_1 (Dense)              (None, 10)                7850      \n",
      "=================================================================\n",
      "Total params: 7,850\n",
      "Trainable params: 7,850\n",
      "Non-trainable params: 0\n",
      "_________________________________________________________________\n"
     ]
    }
   ],
   "source": [
    "model.summary()"
   ]
  },
  {
   "cell_type": "markdown",
   "metadata": {},
   "source": [
    "The 7850 parameters are:\n",
    " 10 weights from each input node to each output made 7840 plus 10 weights on the outputs nodes.\n"
   ]
  },
  {
   "cell_type": "markdown",
   "metadata": {},
   "source": [
    "We are missing few thinks to explain: loss, optimizer and metrics."
   ]
  },
  {
   "cell_type": "markdown",
   "metadata": {},
   "source": [
    "## Loss : categorical_crossentropy\n",
    "\n",
    "\n",
    " This is how we measure how well our algorithm model the dataset. \n",
    "   \n",
    " Categorical cross entropy is used when only one value can belong to each class (our 10 outputs), so just what we need for measure our model because we are looking for predicted one number. Our output should be the number prediction.\n",
    "\n",
    "   \n",
    "   [https://peltarion.com/knowledge-center/documentation/modeling-view/build-an-ai-model/loss-functions/categorical-crossentropy](https://peltarion.com/knowledge-center/documentation/modeling-view/build-an-ai-model/loss-functions/categorical-crossentropy)\n",
    "   \n",
    "   \n",
    "  [https://algorithmia.com/blog/introduction-to-loss-functions](https://algorithmia.com/blog/introduction-to-loss-functions)\n",
    "    "
   ]
  },
  {
   "cell_type": "markdown",
   "metadata": {},
   "source": [
    "## Optimazer : adam\n",
    "\n",
    "When we are training our model the weights are change acordally for make our prediction better. How much and how are they change is the job of the optimizer, is the optimizer who shape our model for a correct prediction.\n",
    "\n",
    "Adaptative moment estimation(ADAM) use gradient decent. This is how it work([literally taked from Algorithmia](https://algorithmia.com/blog/introduction-to-optimizers)  )\n",
    "\n",
    "\n",
    "1) Calculate what a small change in each individual weight would do to the loss function (i.e. which direction should the hiker walk in)\n",
    "\n",
    "2) Adjust each individual weight based on its gradient (i.e. take a small step in the determined direction)\n",
    "\n",
    "3) Keep doing steps #1 and #2 until the loss function gets as low as possible\n",
    "\n",
    "\n",
    "\n",
    "Adam use pas gradients to calculate current gradients and also utilizes the concept of [momentun](https://ruder.io/optimizing-gradient-descent/index.html#momentum).\n",
    "\n",
    "\n",
    "[https://keras.io/optimizers/](https://keras.io/optimizers/)\n",
    "\n",
    "\n",
    "[https://www.kdnuggets.com/2017/04/simple-understand-gradient-descent-algorithm.html](https://www.kdnuggets.com/2017/04/simple-understand-gradient-descent-algorithm.html)\n",
    "\n",
    "\n",
    "[https://https://algorithmia.com/blog/introduction-to-optimizers.com/blog/introduction-to-optimizers](https://https://algorithmia.com/blog/introduction-to-optimizers.com/blog/introduction-to-optimizers)"
   ]
  },
  {
   "cell_type": "markdown",
   "metadata": {},
   "source": [
    "## Preparing the labes\n",
    "    \n",
    "We are almost done for train our model for first time, the only problems is that our labels are a single digit. We need make them vectors with a 1 on the number position."
   ]
  },
  {
   "cell_type": "code",
   "execution_count": 24,
   "metadata": {},
   "outputs": [],
   "source": [
    "y_train = kr.utils.to_categorical(y_train, 10)\n",
    "y_test  = kr.utils.to_categorical(y_test, 10)"
   ]
  },
  {
   "cell_type": "code",
   "execution_count": 25,
   "metadata": {},
   "outputs": [
    {
     "data": {
      "text/plain": [
       "array([0., 0., 0., 0., 0., 1., 0., 0., 0., 0.], dtype=float32)"
      ]
     },
     "execution_count": 25,
     "metadata": {},
     "output_type": "execute_result"
    }
   ],
   "source": [
    "y_train[0]"
   ]
  },
  {
   "cell_type": "markdown",
   "metadata": {},
   "source": [
    "Now we are ready, we will start training this simple model with 10 epochs, batch of 100 (means we train the model with 100 images at a time)."
   ]
  },
  {
   "cell_type": "code",
   "execution_count": 26,
   "metadata": {
    "scrolled": true
   },
   "outputs": [
    {
     "name": "stdout",
     "output_type": "stream",
     "text": [
      "Train on 60000 samples, validate on 10000 samples\n",
      "Epoch 1/10\n",
      "60000/60000 [==============================] - 2s 26us/step - loss: 0.7960 - accuracy: 0.7913 - val_loss: 0.4495 - val_accuracy: 0.8787\n",
      "Epoch 2/10\n",
      "60000/60000 [==============================] - 1s 21us/step - loss: 0.4266 - accuracy: 0.8804 - val_loss: 0.3650 - val_accuracy: 0.8991\n",
      "Epoch 3/10\n",
      "60000/60000 [==============================] - 1s 21us/step - loss: 0.3763 - accuracy: 0.8921 - val_loss: 0.3453 - val_accuracy: 0.9007\n",
      "Epoch 4/10\n",
      "60000/60000 [==============================] - 1s 21us/step - loss: 0.3538 - accuracy: 0.8979 - val_loss: 0.3477 - val_accuracy: 0.8978\n",
      "Epoch 5/10\n",
      "60000/60000 [==============================] - 1s 21us/step - loss: 0.3398 - accuracy: 0.9010 - val_loss: 0.3213 - val_accuracy: 0.9035\n",
      "Epoch 6/10\n",
      "60000/60000 [==============================] - 1s 21us/step - loss: 0.3303 - accuracy: 0.9046 - val_loss: 0.3160 - val_accuracy: 0.9083\n",
      "Epoch 7/10\n",
      "60000/60000 [==============================] - 1s 21us/step - loss: 0.3225 - accuracy: 0.9069 - val_loss: 0.2980 - val_accuracy: 0.9144\n",
      "Epoch 8/10\n",
      "60000/60000 [==============================] - 1s 21us/step - loss: 0.3161 - accuracy: 0.9087 - val_loss: 0.3009 - val_accuracy: 0.9122\n",
      "Epoch 9/10\n",
      "60000/60000 [==============================] - 1s 21us/step - loss: 0.3138 - accuracy: 0.9094 - val_loss: 0.3091 - val_accuracy: 0.9091\n",
      "Epoch 10/10\n",
      "60000/60000 [==============================] - 1s 21us/step - loss: 0.3095 - accuracy: 0.9116 - val_loss: 0.2928 - val_accuracy: 0.9157\n"
     ]
    }
   ],
   "source": [
    "epoch = 10\n",
    "history_callback = model.fit(x_train, y_train, validation_data=(x_test,y_test), epochs=epoch, batch_size=100)"
   ]
  },
  {
   "cell_type": "markdown",
   "metadata": {},
   "source": [
    "## First results\n",
    "\n",
    "We have achieved a 99.67 accuracy with this very simple model, this is going to be our baseline and we change our model for improve the results."
   ]
  },
  {
   "cell_type": "markdown",
   "metadata": {},
   "source": [
    "We can get data history, since we will be doing this several times I also define a function for use later."
   ]
  },
  {
   "cell_type": "code",
   "execution_count": 27,
   "metadata": {},
   "outputs": [],
   "source": [
    "val_accuracy = np.array(history_callback.history['val_accuracy'])\n",
    "val_loss =  np.array(history_callback.history['val_loss'])\n",
    "accuracy =  np.array(history_callback.history['accuracy'])\n",
    "loss =  np.array(history_callback.history['loss'])"
   ]
  },
  {
   "cell_type": "markdown",
   "metadata": {},
   "source": [
    "Blue is test accuracy on training set and red is the accuracy on the test set. We want to improve red."
   ]
  },
  {
   "cell_type": "code",
   "execution_count": 28,
   "metadata": {},
   "outputs": [
    {
     "data": {
      "text/plain": [
       "[<matplotlib.lines.Line2D at 0x213682cf188>,\n",
       " <matplotlib.lines.Line2D at 0x213682e7688>]"
      ]
     },
     "execution_count": 28,
     "metadata": {},
     "output_type": "execute_result"
    },
    {
     "data": {
      "image/png": "[encoded data removed]",
      "text/plain": [
       "<Figure size 432x288 with 1 Axes>"
      ]
     },
     "metadata": {
      "needs_background": "light"
     },
     "output_type": "display_data"
    }
   ],
   "source": [
    "x = np.arange(0.0, epoch, 1)\n",
    "plt.title('Train vs Test Accuracy')\n",
    "plt.plot(x,val_accuracy,'r',x,accuracy,'b')"
   ]
  },
  {
   "cell_type": "code",
   "execution_count": 29,
   "metadata": {},
   "outputs": [
    {
     "data": {
      "text/plain": [
       "[<matplotlib.lines.Line2D at 0x2136848b388>,\n",
       " <matplotlib.lines.Line2D at 0x213684a3948>]"
      ]
     },
     "execution_count": 29,
     "metadata": {},
     "output_type": "execute_result"
    },
    {
     "data": {
      "image/png": "[encoded data removed]",
      "text/plain": [
       "<Figure size 432x288 with 1 Axes>"
      ]
     },
     "metadata": {
      "needs_background": "light"
     },
     "output_type": "display_data"
    }
   ],
   "source": [
    "x = np.arange(0.0, epoch, 1)\n",
    "plt.title('Train vs Test Loss')\n",
    "plt.plot(x,val_loss,'r',x,loss,'b')"
   ]
  },
  {
   "cell_type": "markdown",
   "metadata": {},
   "source": [
    "We got to 89% accuracy with just 10 simple neurons, this is our output layer and we can of course improve our model."
   ]
  },
  {
   "cell_type": "markdown",
   "metadata": {},
   "source": [
    "# Adding more Layers and Relu activation function"
   ]
  },
  {
   "cell_type": "markdown",
   "metadata": {},
   "source": [
    "# Relu\n",
    "\n",
    "Rectified linear unit(Relu), is one of the most common activation functions in neural networks. Relu is very simple, linear for all positive values and 0 for all negative values:\n",
    "$$ f(x)       \\begin{cases}\n",
    "       \\text{0,} &\\quad\\text{if } x \\le0\\\\\n",
    "       f(x) &\\quad\\text{if } x  >0 \\\\\n",
    "       \\end{cases}$$\n"
   ]
  },
  {
   "cell_type": "markdown",
   "metadata": {},
   "source": [
    "![Relu](img/relu.png)"
   ]
  },
  {
   "cell_type": "markdown",
   "metadata": {},
   "source": [
    "# Some advantages of Relu:\n",
    "- Cheap to compute.\n",
    "- Good sparsity.\n",
    "- Converge faster."
   ]
  },
  {
   "cell_type": "markdown",
   "metadata": {},
   "source": [
    "[https://keras.io/activations/](https://keras.io/activations/)\n",
    "\n",
    "[https://medium.com/@danqing/a-practical-guide-to-relu-b83ca804f1f7](https://medium.com/@danqing/a-practical-guide-to-relu-b83ca804f1f7) \n",
    "\n",
    "[https://datascience.stackexchange.com/questions/14349/difference-of-activation-functions-in-neural-networks-in-general](https://datascience.stackexchange.com/questions/14349/difference-of-activation-functions-in-neural-networks-in-general)"
   ]
  },
  {
   "cell_type": "markdown",
   "metadata": {},
   "source": [
    "## Extra layers\n",
    "\n",
    "We can now add more layers using Relu activation function:\n",
    "- Same input layer.\n",
    "- Hidden layers  512 and 98 neurons, with Relu.\n",
    "- Same output layer, 10 neurons with SoftMax."
   ]
  },
  {
   "cell_type": "code",
   "execution_count": 30,
   "metadata": {},
   "outputs": [],
   "source": [
    "model = kr.models.Sequential()\n",
    "model.add(kr.layers.Dense(units=512, input_dim=784, activation='relu'))\n",
    "model.add(kr.layers.Dense(units=98, activation='relu'))\n",
    "model.add(kr.layers.Dense(units=10, activation='softmax'))\n",
    "model.compile(loss='categorical_crossentropy',optimizer='adam', metrics=['accuracy'])"
   ]
  },
  {
   "cell_type": "code",
   "execution_count": 31,
   "metadata": {},
   "outputs": [
    {
     "name": "stdout",
     "output_type": "stream",
     "text": [
      "Model: \"sequential_2\"\n",
      "_________________________________________________________________\n",
      "Layer (type)                 Output Shape              Param #   \n",
      "=================================================================\n",
      "dense_2 (Dense)              (None, 512)               401920    \n",
      "_________________________________________________________________\n",
      "dense_3 (Dense)              (None, 98)                50274     \n",
      "_________________________________________________________________\n",
      "dense_4 (Dense)              (None, 10)                990       \n",
      "=================================================================\n",
      "Total params: 453,184\n",
      "Trainable params: 453,184\n",
      "Non-trainable params: 0\n",
      "_________________________________________________________________\n"
     ]
    }
   ],
   "source": [
    "model.summary()"
   ]
  },
  {
   "cell_type": "code",
   "execution_count": 32,
   "metadata": {
    "scrolled": true
   },
   "outputs": [
    {
     "name": "stdout",
     "output_type": "stream",
     "text": [
      "Train on 60000 samples, validate on 10000 samples\n",
      "Epoch 1/10\n",
      "60000/60000 [==============================] - 2s 29us/step - loss: 0.5582 - accuracy: 0.8306 - val_loss: 0.3202 - val_accuracy: 0.9074\n",
      "Epoch 2/10\n",
      "60000/60000 [==============================] - 2s 28us/step - loss: 0.2952 - accuracy: 0.9110 - val_loss: 0.2701 - val_accuracy: 0.9198\n",
      "Epoch 3/10\n",
      "60000/60000 [==============================] - 2s 28us/step - loss: 0.2320 - accuracy: 0.9299 - val_loss: 0.1794 - val_accuracy: 0.9470\n",
      "Epoch 4/10\n",
      "60000/60000 [==============================] - 2s 28us/step - loss: 0.1857 - accuracy: 0.9428 - val_loss: 0.1647 - val_accuracy: 0.9507\n",
      "Epoch 5/10\n",
      "60000/60000 [==============================] - 2s 28us/step - loss: 0.1649 - accuracy: 0.9492 - val_loss: 0.1398 - val_accuracy: 0.9576\n",
      "Epoch 6/10\n",
      "60000/60000 [==============================] - 2s 28us/step - loss: 0.1434 - accuracy: 0.9553 - val_loss: 0.1574 - val_accuracy: 0.9487\n",
      "Epoch 7/10\n",
      "60000/60000 [==============================] - 2s 28us/step - loss: 0.1293 - accuracy: 0.9589 - val_loss: 0.1552 - val_accuracy: 0.9494\n",
      "Epoch 8/10\n",
      "60000/60000 [==============================] - 2s 28us/step - loss: 0.1177 - accuracy: 0.9636 - val_loss: 0.1272 - val_accuracy: 0.9592\n",
      "Epoch 9/10\n",
      "60000/60000 [==============================] - 2s 28us/step - loss: 0.1134 - accuracy: 0.9637 - val_loss: 0.1239 - val_accuracy: 0.9632\n",
      "Epoch 10/10\n",
      "60000/60000 [==============================] - 2s 28us/step - loss: 0.1048 - accuracy: 0.9672 - val_loss: 0.0975 - val_accuracy: 0.9679\n"
     ]
    }
   ],
   "source": [
    "epoch = 10\n",
    "history_callback = model.fit(x_train, y_train, validation_data=(x_test,y_test), epochs=epoch, batch_size=100)"
   ]
  },
  {
   "cell_type": "code",
   "execution_count": 33,
   "metadata": {},
   "outputs": [],
   "source": [
    "val_accuracy = np.array(history_callback.history['val_accuracy'])\n",
    "val_loss =  np.array(history_callback.history['val_loss'])\n",
    "accuracy =  np.array(history_callback.history['accuracy'])\n",
    "loss =  np.array(history_callback.history['loss'])"
   ]
  },
  {
   "cell_type": "code",
   "execution_count": 34,
   "metadata": {},
   "outputs": [
    {
     "data": {
      "text/plain": [
       "[<matplotlib.lines.Line2D at 0x214f8a8d4c8>,\n",
       " <matplotlib.lines.Line2D at 0x214f8aa2c48>]"
      ]
     },
     "execution_count": 34,
     "metadata": {},
     "output_type": "execute_result"
    },
    {
     "data": {
      "image/png": "[encoded data removed]",
      "text/plain": [
       "<Figure size 432x288 with 1 Axes>"
      ]
     },
     "metadata": {
      "needs_background": "light"
     },
     "output_type": "display_data"
    }
   ],
   "source": [
    "x = np.arange(0.0, epoch, 1)\n",
    "plt.title('Train vs Test Accuracy')\n",
    "plt.plot(x,val_accuracy,'r',x,accuracy,'b')"
   ]
  },
  {
   "cell_type": "code",
   "execution_count": 35,
   "metadata": {},
   "outputs": [
    {
     "data": {
      "text/plain": [
       "[<matplotlib.lines.Line2D at 0x214f8aeb908>,\n",
       " <matplotlib.lines.Line2D at 0x214f8b00e48>]"
      ]
     },
     "execution_count": 35,
     "metadata": {},
     "output_type": "execute_result"
    },
    {
     "data": {
      "image/png": "[encoded data removed]",
      "text/plain": [
       "<Figure size 432x288 with 1 Axes>"
      ]
     },
     "metadata": {
      "needs_background": "light"
     },
     "output_type": "display_data"
    }
   ],
   "source": [
    "x = np.arange(0.0, epoch, 1)\n",
    "plt.title('Train vs Test Loss')\n",
    "plt.plot(x,val_loss,'r',x,loss,'b')"
   ]
  },
  {
   "cell_type": "markdown",
   "metadata": {},
   "source": [
    "Relu and the extra layers have give a great improvement to our model, from 89% to 96%."
   ]
  },
  {
   "cell_type": "markdown",
   "metadata": {},
   "source": [
    "# Dropout\n",
    "\n",
    "Drop out is regularization technic, basically we drop some random neurons during training, \n",
    "they are temporary shutted down. \n",
    "\n",
    "Is believe that this make other neurons be more active so improve the learning rate.\n",
    "\n",
    "The effect is a network that is less sensitive to specific weights of neurons. The network is capable of a better generalization and avoid overfit.\n",
    "\n",
    "Drop out is very easily implemented with Keras, we just need to pick a percent of dropped out neurons for each epoch.\n"
   ]
  },
  {
   "cell_type": "markdown",
   "metadata": {},
   "source": [
    "[https://keras.io/layers/core/](https://keras.io/layers/core/)\n",
    "\n",
    "[https://machinelearningmastery.com/dropout-regularization-deep-learning-models-keras/](https://machinelearningmastery.com/dropout-regularization-deep-learning-models-keras/)"
   ]
  },
  {
   "cell_type": "code",
   "execution_count": 36,
   "metadata": {},
   "outputs": [],
   "source": [
    "model = kr.models.Sequential()\n",
    "model.add(kr.layers.Dense(units=512, input_dim=784, activation='relu'))\n",
    "model.add(kr.layers.Dropout(0.01))\n",
    "model.add(kr.layers.Dense(units=98, activation='relu'))\n",
    "model.add(kr.layers.Dropout(0.1))\n",
    "model.add(kr.layers.Dense(units=10, activation='softmax'))\n",
    "model.compile(loss='categorical_crossentropy',optimizer='adam', metrics=['accuracy'])"
   ]
  },
  {
   "cell_type": "code",
   "execution_count": 37,
   "metadata": {},
   "outputs": [
    {
     "name": "stdout",
     "output_type": "stream",
     "text": [
      "Model: \"sequential_3\"\n",
      "_________________________________________________________________\n",
      "Layer (type)                 Output Shape              Param #   \n",
      "=================================================================\n",
      "dense_5 (Dense)              (None, 512)               401920    \n",
      "_________________________________________________________________\n",
      "dropout_1 (Dropout)          (None, 512)               0         \n",
      "_________________________________________________________________\n",
      "dense_6 (Dense)              (None, 98)                50274     \n",
      "_________________________________________________________________\n",
      "dropout_2 (Dropout)          (None, 98)                0         \n",
      "_________________________________________________________________\n",
      "dense_7 (Dense)              (None, 10)                990       \n",
      "=================================================================\n",
      "Total params: 453,184\n",
      "Trainable params: 453,184\n",
      "Non-trainable params: 0\n",
      "_________________________________________________________________\n"
     ]
    }
   ],
   "source": [
    "model.summary()"
   ]
  },
  {
   "cell_type": "code",
   "execution_count": 38,
   "metadata": {
    "scrolled": true
   },
   "outputs": [
    {
     "name": "stdout",
     "output_type": "stream",
     "text": [
      "Train on 60000 samples, validate on 10000 samples\n",
      "Epoch 1/10\n",
      "60000/60000 [==============================] - 2s 32us/step - loss: 0.6149 - accuracy: 0.8094 - val_loss: 0.3248 - val_accuracy: 0.9016\n",
      "Epoch 2/10\n",
      "60000/60000 [==============================] - 2s 31us/step - loss: 0.3152 - accuracy: 0.9020 - val_loss: 0.2211 - val_accuracy: 0.9328\n",
      "Epoch 3/10\n",
      "60000/60000 [==============================] - 2s 31us/step - loss: 0.2399 - accuracy: 0.9263 - val_loss: 0.1863 - val_accuracy: 0.9411\n",
      "Epoch 4/10\n",
      "60000/60000 [==============================] - 2s 31us/step - loss: 0.2069 - accuracy: 0.9369 - val_loss: 0.1629 - val_accuracy: 0.9501\n",
      "Epoch 5/10\n",
      "60000/60000 [==============================] - 2s 30us/step - loss: 0.1812 - accuracy: 0.9430 - val_loss: 0.1525 - val_accuracy: 0.9509\n",
      "Epoch 6/10\n",
      "60000/60000 [==============================] - 2s 31us/step - loss: 0.1638 - accuracy: 0.9493 - val_loss: 0.1239 - val_accuracy: 0.9619\n",
      "Epoch 7/10\n",
      "60000/60000 [==============================] - 2s 31us/step - loss: 0.1484 - accuracy: 0.9528 - val_loss: 0.1245 - val_accuracy: 0.9587\n",
      "Epoch 8/10\n",
      "60000/60000 [==============================] - 2s 31us/step - loss: 0.1377 - accuracy: 0.9570 - val_loss: 0.1310 - val_accuracy: 0.9559\n",
      "Epoch 9/10\n",
      "60000/60000 [==============================] - 2s 31us/step - loss: 0.1274 - accuracy: 0.9604 - val_loss: 0.1128 - val_accuracy: 0.9611\n",
      "Epoch 10/10\n",
      "60000/60000 [==============================] - 2s 34us/step - loss: 0.1239 - accuracy: 0.9612 - val_loss: 0.1049 - val_accuracy: 0.9651\n"
     ]
    }
   ],
   "source": [
    "epoch = 10\n",
    "history_callback = model.fit(x_train, y_train, validation_data=(x_test,y_test), epochs=epoch, batch_size=100)"
   ]
  },
  {
   "cell_type": "code",
   "execution_count": 39,
   "metadata": {},
   "outputs": [],
   "source": [
    "val_accuracy = np.array(history_callback.history['val_accuracy'])\n",
    "val_loss =  np.array(history_callback.history['val_loss'])\n",
    "accuracy =  np.array(history_callback.history['accuracy'])\n",
    "loss =  np.array(history_callback.history['loss'])"
   ]
  },
  {
   "cell_type": "code",
   "execution_count": 40,
   "metadata": {},
   "outputs": [
    {
     "data": {
      "text/plain": [
       "[<matplotlib.lines.Line2D at 0x214fa8505c8>,\n",
       " <matplotlib.lines.Line2D at 0x214fa865c48>]"
      ]
     },
     "execution_count": 40,
     "metadata": {},
     "output_type": "execute_result"
    },
    {
     "data": {
      "image/png": "[encoded data removed]",
      "text/plain": [
       "<Figure size 432x288 with 1 Axes>"
      ]
     },
     "metadata": {
      "needs_background": "light"
     },
     "output_type": "display_data"
    }
   ],
   "source": [
    "x = np.arange(0.0, epoch, 1)\n",
    "plt.title('Train vs Test Accuracy')\n",
    "plt.plot(x,val_accuracy,'r',x,accuracy,'b')"
   ]
  },
  {
   "cell_type": "code",
   "execution_count": 41,
   "metadata": {},
   "outputs": [
    {
     "data": {
      "text/plain": [
       "[<matplotlib.lines.Line2D at 0x214fa8b9788>,\n",
       " <matplotlib.lines.Line2D at 0x214fa8cadc8>]"
      ]
     },
     "execution_count": 41,
     "metadata": {},
     "output_type": "execute_result"
    },
    {
     "data": {
      "image/png": "[encoded data removed]",
      "text/plain": [
       "<Figure size 432x288 with 1 Axes>"
      ]
     },
     "metadata": {
      "needs_background": "light"
     },
     "output_type": "display_data"
    }
   ],
   "source": [
    "x = np.arange(0.0, epoch, 1)\n",
    "plt.title('Train vs Test Loss')\n",
    "plt.plot(x,val_loss,'r',x,loss,'b')"
   ]
  },
  {
   "cell_type": "markdown",
   "metadata": {},
   "source": [
    "Dropout improve our model from 96% to 96.5%, litle improvement but relevant."
   ]
  },
  {
   "cell_type": "markdown",
   "metadata": {},
   "source": [
    "# 2D Convolutional Neural Network\n",
    "\n",
    "We have achieve 97% accuracy on our model, but we are missing a very important point : shapes are 2D images and there is a relation between pixels. Transforming our image in a 1D vector we completely ignore the shape of the image.\n",
    "Using convolutional neurons we can feed neurons with 2D arrays of pixels and someone preserve the data on the shape of the image.\n",
    "\n",
    "In the image bellow we can see how a 3x3 convolutional networks works. Note that the image is just for illustrate how convolutional networks works, is not related with the one we will use.\n"
   ]
  },
  {
   "cell_type": "markdown",
   "metadata": {},
   "source": [
    "![Conv2d](img/conv2d.gif)\n",
    "\n",
    "### image from:  [https://www.pyimagesearch.com/2018/12/31/keras-conv2d-and-convolutional-layers/](https://www.pyimagesearch.com/2018/12/31/keras-conv2d-and-convolutional-layers/)"
   ]
  },
  {
   "cell_type": "markdown",
   "metadata": {},
   "source": [
    "[https://keras.io/layers/convolutional/](https://keras.io/layers/convolutional/)\n",
    "\n",
    "[https://towardsdatascience.com/a-comprehensive-guide-to-convolutional-neural-networks-the-eli5-way-3bd2b1164a53](https://towardsdatascience.com/a-comprehensive-guide-to-convolutional-neural-networks-the-eli5-way-3bd2b1164a53)"
   ]
  },
  {
   "cell_type": "markdown",
   "metadata": {},
   "source": [
    "## Reforating input data for convolutional network\n",
    "\n",
    "We now need to reshape our data for be a 28 by 28 array so it can be fit onto the convolutional network."
   ]
  },
  {
   "cell_type": "code",
   "execution_count": 42,
   "metadata": {},
   "outputs": [],
   "source": [
    "x_train = x_train.reshape(train_img_total,col,row,1)\n",
    "x_test = x_test.reshape(test_img_total,col,row,1)"
   ]
  },
  {
   "cell_type": "code",
   "execution_count": 43,
   "metadata": {},
   "outputs": [
    {
     "data": {
      "text/plain": [
       "(60000, 28, 28, 1)"
      ]
     },
     "execution_count": 43,
     "metadata": {},
     "output_type": "execute_result"
    }
   ],
   "source": [
    "x_train.shape"
   ]
  },
  {
   "cell_type": "code",
   "execution_count": 44,
   "metadata": {},
   "outputs": [],
   "source": [
    "model = kr.models.Sequential()\n",
    "\n",
    "model.add(kr.layers.Conv2D(256,kernel_size=(3, 3),activation='relu'))\n",
    "model.add(kr.layers.Flatten())\n",
    "model.add(kr.layers.Dropout(0.25))\n",
    "model.add(kr.layers.Dense(units=98, activation='relu'))\n",
    "model.add(kr.layers.Dropout(0.1))\n",
    "model.add(kr.layers.Dense(units=10, activation='softmax'))\n",
    "model.compile(loss='categorical_crossentropy',optimizer='adam', metrics=['accuracy'])"
   ]
  },
  {
   "cell_type": "code",
   "execution_count": 45,
   "metadata": {},
   "outputs": [
    {
     "name": "stdout",
     "output_type": "stream",
     "text": [
      "Train on 60000 samples, validate on 10000 samples\n",
      "Epoch 1/10\n",
      "60000/60000 [==============================] - 13s 223us/step - loss: 0.3743 - accuracy: 0.8954 - val_loss: 0.0923 - val_accuracy: 0.9719\n",
      "Epoch 2/10\n",
      "60000/60000 [==============================] - 12s 197us/step - loss: 0.0962 - accuracy: 0.9719 - val_loss: 0.0632 - val_accuracy: 0.9807\n",
      "Epoch 3/10\n",
      "60000/60000 [==============================] - 12s 196us/step - loss: 0.0651 - accuracy: 0.9799 - val_loss: 0.0596 - val_accuracy: 0.9823\n",
      "Epoch 4/10\n",
      "60000/60000 [==============================] - 12s 196us/step - loss: 0.0468 - accuracy: 0.9849 - val_loss: 0.0555 - val_accuracy: 0.9839\n",
      "Epoch 5/10\n",
      "60000/60000 [==============================] - 12s 197us/step - loss: 0.0368 - accuracy: 0.9880 - val_loss: 0.0573 - val_accuracy: 0.9818\n",
      "Epoch 6/10\n",
      "60000/60000 [==============================] - 12s 196us/step - loss: 0.0303 - accuracy: 0.9898 - val_loss: 0.0584 - val_accuracy: 0.9837\n",
      "Epoch 7/10\n",
      "60000/60000 [==============================] - 12s 196us/step - loss: 0.0257 - accuracy: 0.9910 - val_loss: 0.0600 - val_accuracy: 0.9833\n",
      "Epoch 8/10\n",
      "60000/60000 [==============================] - 12s 196us/step - loss: 0.0210 - accuracy: 0.9929 - val_loss: 0.0683 - val_accuracy: 0.9831\n",
      "Epoch 9/10\n",
      "60000/60000 [==============================] - 12s 196us/step - loss: 0.0185 - accuracy: 0.9937 - val_loss: 0.0577 - val_accuracy: 0.9849\n",
      "Epoch 10/10\n",
      "60000/60000 [==============================] - 12s 196us/step - loss: 0.0147 - accuracy: 0.9950 - val_loss: 0.0756 - val_accuracy: 0.9831\n"
     ]
    }
   ],
   "source": [
    "epoch = 10\n",
    "history_callback = model.fit(x_train, y_train, validation_data=(x_test,y_test), epochs=epoch, batch_size=100)"
   ]
  },
  {
   "cell_type": "code",
   "execution_count": 46,
   "metadata": {},
   "outputs": [
    {
     "data": {
      "text/plain": [
       "[<matplotlib.lines.Line2D at 0x21321410708>,\n",
       " <matplotlib.lines.Line2D at 0x21321425d08>]"
      ]
     },
     "execution_count": 46,
     "metadata": {},
     "output_type": "execute_result"
    },
    {
     "data": {
      "image/png": "[encoded data removed]",
      "text/plain": [
       "<Figure size 432x288 with 1 Axes>"
      ]
     },
     "metadata": {
      "needs_background": "light"
     },
     "output_type": "display_data"
    }
   ],
   "source": [
    "x = np.arange(0.0, epoch, 1)\n",
    "plt.title('Train vs Test Accuracy')\n",
    "plt.plot(x,val_accuracy,'r',x,accuracy,'b')"
   ]
  },
  {
   "cell_type": "code",
   "execution_count": 47,
   "metadata": {},
   "outputs": [
    {
     "data": {
      "text/plain": [
       "[<matplotlib.lines.Line2D at 0x21321473748>,\n",
       " <matplotlib.lines.Line2D at 0x21321488d08>]"
      ]
     },
     "execution_count": 47,
     "metadata": {},
     "output_type": "execute_result"
    },
    {
     "data": {
      "image/png": "[encoded data removed]",
      "text/plain": [
       "<Figure size 432x288 with 1 Axes>"
      ]
     },
     "metadata": {
      "needs_background": "light"
     },
     "output_type": "display_data"
    }
   ],
   "source": [
    "x = np.arange(0.0, epoch, 1)\n",
    "plt.title('Train vs Test Loss')\n",
    "plt.plot(x,val_loss,'r',x,loss,'b')"
   ]
  },
  {
   "cell_type": "markdown",
   "metadata": {},
   "source": [
    "With just 1 convolutional layer we have improve our accuracy to 98%. Great improvement but there is still place for more..."
   ]
  },
  {
   "cell_type": "markdown",
   "metadata": {},
   "source": [
    "## More layers and max polling\n",
    "\n",
    "A polling layer is a layer that we add after a convolutional layer.  The polling layer will operate over each pixel for create a new set of pulled data. We will use max polling of size 2x2 pixels. This means that the maximum of each 2x2 patch will be calculated.\n",
    "\n",
    "### Benefits:\n",
    "\n",
    "- Model invariance to local translation.\n",
    "- Faster computations.\n",
    "\n"
   ]
  },
  {
   "cell_type": "markdown",
   "metadata": {},
   "source": [
    "![MAxPolling2d](img/maxpolling2d.png)\n",
    "\n",
    "image from: [https://www.geeksforgeeks.org/cnn-introduction-to-pooling-layer/](https://www.geeksforgeeks.org/cnn-introduction-to-pooling-layer/)"
   ]
  },
  {
   "cell_type": "markdown",
   "metadata": {},
   "source": [
    "[https://keras.io/layers/pooling/](https://keras.io/layers/pooling/)\n",
    "\n",
    "[https://machinelearningmastery.com/pooling-layers-for-convolutional-neural-networks/](https://machinelearningmastery.com/pooling-layers-for-convolutional-neural-networks/)"
   ]
  },
  {
   "cell_type": "code",
   "execution_count": 48,
   "metadata": {},
   "outputs": [],
   "source": [
    "model = kr.models.Sequential()\n",
    "model.add(kr.layers.Conv2D(64,kernel_size=(7, 7),activation='relu',input_shape=(28,28,1)))\n",
    "model.add(kr.layers.Conv2D(64,kernel_size=(7, 7),activation='relu'))\n",
    "model.add(kr.layers.MaxPooling2D(pool_size=(2, 2),))\n",
    "model.add(kr.layers.Conv2D(128,kernel_size=(5, 5),activation='relu'))\n",
    "model.add(kr.layers.Conv2D(256,kernel_size=(3, 3),activation='relu'))\n",
    "model.add(kr.layers.MaxPooling2D(pool_size=(2, 2),))\n",
    "model.add(kr.layers.Flatten())\n",
    "model.add(kr.layers.Dropout(0.25))\n",
    "model.add(kr.layers.Dense(units=98, activation='relu'))\n",
    "model.add(kr.layers.Dropout(0.1))\n",
    "model.add(kr.layers.Dense(units=10, activation='softmax'))\n",
    "model.compile(loss='categorical_crossentropy',optimizer='adam', metrics=['accuracy'])"
   ]
  },
  {
   "cell_type": "code",
   "execution_count": 49,
   "metadata": {},
   "outputs": [
    {
     "name": "stdout",
     "output_type": "stream",
     "text": [
      "Train on 60000 samples, validate on 10000 samples\n",
      "Epoch 1/10\n",
      "60000/60000 [==============================] - 5s 91us/step - loss: 0.2291 - accuracy: 0.9247 - val_loss: 0.0981 - val_accuracy: 0.9697\n",
      "Epoch 2/10\n",
      "60000/60000 [==============================] - 5s 85us/step - loss: 0.0624 - accuracy: 0.9817 - val_loss: 0.0329 - val_accuracy: 0.9896\n",
      "Epoch 3/10\n",
      "60000/60000 [==============================] - 5s 85us/step - loss: 0.0432 - accuracy: 0.9875 - val_loss: 0.0326 - val_accuracy: 0.9896\n",
      "Epoch 4/10\n",
      "60000/60000 [==============================] - 5s 86us/step - loss: 0.0345 - accuracy: 0.9901 - val_loss: 0.0346 - val_accuracy: 0.9908\n",
      "Epoch 5/10\n",
      "60000/60000 [==============================] - 5s 86us/step - loss: 0.0321 - accuracy: 0.9906 - val_loss: 0.0331 - val_accuracy: 0.9914\n",
      "Epoch 6/10\n",
      "60000/60000 [==============================] - 5s 87us/step - loss: 0.0251 - accuracy: 0.9929 - val_loss: 0.0281 - val_accuracy: 0.9918\n",
      "Epoch 7/10\n",
      "60000/60000 [==============================] - 5s 88us/step - loss: 0.0222 - accuracy: 0.9937 - val_loss: 0.0387 - val_accuracy: 0.9904\n",
      "Epoch 8/10\n",
      "60000/60000 [==============================] - 5s 85us/step - loss: 0.0216 - accuracy: 0.9936 - val_loss: 0.0335 - val_accuracy: 0.9911\n",
      "Epoch 9/10\n",
      "60000/60000 [==============================] - 5s 85us/step - loss: 0.0204 - accuracy: 0.9940 - val_loss: 0.0366 - val_accuracy: 0.9907\n",
      "Epoch 10/10\n",
      "60000/60000 [==============================] - 5s 87us/step - loss: 0.0201 - accuracy: 0.9941 - val_loss: 0.0287 - val_accuracy: 0.9928\n"
     ]
    }
   ],
   "source": [
    "epoch = 10\n",
    "history_callback = model.fit(x_train, y_train, validation_data=(x_test,y_test), epochs=epoch, batch_size=100)"
   ]
  },
  {
   "cell_type": "code",
   "execution_count": 50,
   "metadata": {},
   "outputs": [
    {
     "data": {
      "text/plain": [
       "[<matplotlib.lines.Line2D at 0x213222aa408>,\n",
       " <matplotlib.lines.Line2D at 0x21323290888>]"
      ]
     },
     "execution_count": 50,
     "metadata": {},
     "output_type": "execute_result"
    },
    {
     "data": {
      "image/png": "[encoded data removed]",
      "text/plain": [
       "<Figure size 432x288 with 1 Axes>"
      ]
     },
     "metadata": {
      "needs_background": "light"
     },
     "output_type": "display_data"
    }
   ],
   "source": [
    "x = np.arange(0.0, epoch, 1)\n",
    "plt.title('Train vs Test Accuracy')\n",
    "plt.plot(x,val_accuracy,'r',x,accuracy,'b')"
   ]
  },
  {
   "cell_type": "code",
   "execution_count": 51,
   "metadata": {},
   "outputs": [
    {
     "data": {
      "text/plain": [
       "[<matplotlib.lines.Line2D at 0x213232da988>,\n",
       " <matplotlib.lines.Line2D at 0x213232eef08>]"
      ]
     },
     "execution_count": 51,
     "metadata": {},
     "output_type": "execute_result"
    },
    {
     "data": {
      "image/png": "[encoded data removed]",
      "text/plain": [
       "<Figure size 432x288 with 1 Axes>"
      ]
     },
     "metadata": {
      "needs_background": "light"
     },
     "output_type": "display_data"
    }
   ],
   "source": [
    "x = np.arange(0.0, epoch, 1)\n",
    "plt.title('Train vs Test Loss')\n",
    "plt.plot(x,val_loss,'r',x,loss,'b')"
   ]
  },
  {
   "cell_type": "markdown",
   "metadata": {},
   "source": [
    "Great improvement , we are at 99.5% now. \n",
    "\n"
   ]
  },
  {
   "cell_type": "markdown",
   "metadata": {},
   "source": [
    "## Batch normalization"
   ]
  },
  {
   "cell_type": "markdown",
   "metadata": {},
   "source": [
    "## Batch Normalization\n"
   ]
  },
  {
   "cell_type": "markdown",
   "metadata": {},
   "source": [
    "We can normalize beetwen layers for speed up training. Normalization function will keep values at same range, mean that we will not have very high values.\n",
    "\n",
    "Some advatages:\n",
    "\n",
    "- Layers can learn  a bit more independently.\n",
    "- Allow higher rate of leanrning.\n",
    "- Reduce overfit.\n",
    "\n",
    "https://stackoverflow.com/questions/34716454/where-do-i-call-the-batchnormalization-function-in-keras\n",
    "\n",
    "https://arxiv.org/pdf/1502.03167v2.pdf\n",
    "\n",
    "https://towardsdatascience.com/batch-normalization-in-neural-networks-1ac91516821c\n",
    "    "
   ]
  },
  {
   "cell_type": "code",
   "execution_count": 52,
   "metadata": {},
   "outputs": [],
   "source": [
    "model = kr.models.Sequential()\n",
    "model.add(kr.layers.Conv2D(64,kernel_size=(7, 7),activation='relu',input_shape=(28,28,1)))\n",
    "kr.layers.BatchNormalization(axis=-1)\n",
    "model.add(kr.layers.Conv2D(64,kernel_size=(7, 7),activation='relu'))\n",
    "kr.layers.BatchNormalization(axis=-1)\n",
    "model.add(kr.layers.MaxPooling2D(pool_size=(2, 2),))\n",
    "model.add(kr.layers.Conv2D(128,kernel_size=(5, 5),activation='relu'))\n",
    "kr.layers.BatchNormalization(axis=-1)\n",
    "model.add(kr.layers.Conv2D(256,kernel_size=(3, 3),activation='relu'))\n",
    "model.add(kr.layers.MaxPooling2D(pool_size=(2, 2),))\n",
    "model.add(kr.layers.Flatten())\n",
    "model.add(kr.layers.Dropout(0.25))\n",
    "model.add(kr.layers.Dense(units=98, activation='relu'))\n",
    "model.add(kr.layers.Dropout(0.1))\n",
    "model.add(kr.layers.Dense(units=10, activation='softmax'))\n",
    "model.compile(loss='categorical_crossentropy',optimizer='adam', metrics=['accuracy'])"
   ]
  },
  {
   "cell_type": "code",
   "execution_count": 53,
   "metadata": {},
   "outputs": [
    {
     "name": "stdout",
     "output_type": "stream",
     "text": [
      "Train on 60000 samples, validate on 10000 samples\n",
      "Epoch 1/10\n",
      "60000/60000 [==============================] - 5s 90us/step - loss: 0.2119 - accuracy: 0.9313 - val_loss: 0.0610 - val_accuracy: 0.9817\n",
      "Epoch 2/10\n",
      "60000/60000 [==============================] - 5s 87us/step - loss: 0.0590 - accuracy: 0.9835 - val_loss: 0.0335 - val_accuracy: 0.9895\n",
      "Epoch 3/10\n",
      "60000/60000 [==============================] - 5s 86us/step - loss: 0.0443 - accuracy: 0.9873 - val_loss: 0.0354 - val_accuracy: 0.9896\n",
      "Epoch 4/10\n",
      "60000/60000 [==============================] - 5s 86us/step - loss: 0.0339 - accuracy: 0.9899 - val_loss: 0.0523 - val_accuracy: 0.9861\n",
      "Epoch 5/10\n",
      "60000/60000 [==============================] - 5s 86us/step - loss: 0.0302 - accuracy: 0.9912 - val_loss: 0.0317 - val_accuracy: 0.9909\n",
      "Epoch 6/10\n",
      "60000/60000 [==============================] - 5s 86us/step - loss: 0.0277 - accuracy: 0.9923 - val_loss: 0.0291 - val_accuracy: 0.9913\n",
      "Epoch 7/10\n",
      "60000/60000 [==============================] - 5s 86us/step - loss: 0.0213 - accuracy: 0.9934 - val_loss: 0.0300 - val_accuracy: 0.9912\n",
      "Epoch 8/10\n",
      "60000/60000 [==============================] - 5s 86us/step - loss: 0.0194 - accuracy: 0.9941 - val_loss: 0.0450 - val_accuracy: 0.9884\n",
      "Epoch 9/10\n",
      "60000/60000 [==============================] - 5s 86us/step - loss: 0.0190 - accuracy: 0.9945 - val_loss: 0.0365 - val_accuracy: 0.9896\n",
      "Epoch 10/10\n",
      "60000/60000 [==============================] - 5s 86us/step - loss: 0.0187 - accuracy: 0.9948 - val_loss: 0.0287 - val_accuracy: 0.9921\n"
     ]
    }
   ],
   "source": [
    "epoch = 10\n",
    "history_callback = model.fit(x_train, y_train, validation_data=(x_test,y_test), epochs=epoch, batch_size=100)"
   ]
  },
  {
   "cell_type": "code",
   "execution_count": 54,
   "metadata": {},
   "outputs": [],
   "source": [
    "val_accuracy = np.array(history_callback.history['val_accuracy'])\n",
    "val_loss =  np.array(history_callback.history['val_loss'])\n",
    "accuracy =  np.array(history_callback.history['accuracy'])\n",
    "loss =  np.array(history_callback.history['loss'])"
   ]
  },
  {
   "cell_type": "code",
   "execution_count": 55,
   "metadata": {},
   "outputs": [
    {
     "data": {
      "text/plain": [
       "[<matplotlib.lines.Line2D at 0x21324175e88>,\n",
       " <matplotlib.lines.Line2D at 0x2132417dec8>,\n",
       " <matplotlib.lines.Line2D at 0x213241870c8>,\n",
       " <matplotlib.lines.Line2D at 0x21324187288>]"
      ]
     },
     "execution_count": 55,
     "metadata": {},
     "output_type": "execute_result"
    },
    {
     "data": {
      "image/png": "[encoded data removed]",
      "text/plain": [
       "<Figure size 432x288 with 1 Axes>"
      ]
     },
     "metadata": {
      "needs_background": "light"
     },
     "output_type": "display_data"
    }
   ],
   "source": [
    "x = np.arange(0.0, epoch, 1)\n",
    "plt.plot(x,val_accuracy,'b',x,accuracy,'r',x,loss,'g',x,val_loss,'y')"
   ]
  },
  {
   "cell_type": "code",
   "execution_count": 56,
   "metadata": {},
   "outputs": [
    {
     "data": {
      "text/plain": [
       "[<matplotlib.lines.Line2D at 0x214f96a6288>,\n",
       " <matplotlib.lines.Line2D at 0x2132218b408>]"
      ]
     },
     "execution_count": 56,
     "metadata": {},
     "output_type": "execute_result"
    },
    {
     "data": {
      "image/png": "[encoded data removed]",
      "text/plain": [
       "<Figure size 432x288 with 1 Axes>"
      ]
     },
     "metadata": {
      "needs_background": "light"
     },
     "output_type": "display_data"
    }
   ],
   "source": [
    "x = np.arange(0.0, epoch, 1)\n",
    "plt.title('Train vs Test Accuracy')\n",
    "plt.plot(x,val_accuracy,'r',x,accuracy,'b')"
   ]
  },
  {
   "cell_type": "code",
   "execution_count": 57,
   "metadata": {},
   "outputs": [
    {
     "data": {
      "text/plain": [
       "[<matplotlib.lines.Line2D at 0x21321a1d948>,\n",
       " <matplotlib.lines.Line2D at 0x213219b7bc8>]"
      ]
     },
     "execution_count": 57,
     "metadata": {},
     "output_type": "execute_result"
    },
    {
     "data": {
      "image/png": "[encoded data removed]",
      "text/plain": [
       "<Figure size 432x288 with 1 Axes>"
      ]
     },
     "metadata": {
      "needs_background": "light"
     },
     "output_type": "display_data"
    }
   ],
   "source": [
    "x = np.arange(0.0, epoch, 1)\n",
    "plt.title('Train vs Test Loss')\n",
    "plt.plot(x,val_loss,'r',x,loss,'b')"
   ]
  },
  {
   "cell_type": "markdown",
   "metadata": {},
   "source": [
    "# Final Model"
   ]
  },
  {
   "cell_type": "markdown",
   "metadata": {},
   "source": [
    "![Final Model](img/finalmodel.png)\n",
    "\n",
    "* image created using : [NN-SVG](http://alexlenail.me/NN-SVG/LeNet.html)\n"
   ]
  },
  {
   "cell_type": "code",
   "execution_count": 58,
   "metadata": {},
   "outputs": [
    {
     "name": "stdout",
     "output_type": "stream",
     "text": [
      "Model: \"sequential_7\"\n",
      "_________________________________________________________________\n",
      "Layer (type)                 Output Shape              Param #   \n",
      "=================================================================\n",
      "conv2d_10 (Conv2D)           (None, 22, 22, 64)        3200      \n",
      "_________________________________________________________________\n",
      "conv2d_11 (Conv2D)           (None, 16, 16, 64)        200768    \n",
      "_________________________________________________________________\n",
      "max_pooling2d_5 (MaxPooling2 (None, 8, 8, 64)          0         \n",
      "_________________________________________________________________\n",
      "conv2d_12 (Conv2D)           (None, 4, 4, 128)         204928    \n",
      "_________________________________________________________________\n",
      "dropout_9 (Dropout)          (None, 4, 4, 128)         0         \n",
      "_________________________________________________________________\n",
      "conv2d_13 (Conv2D)           (None, 2, 2, 256)         295168    \n",
      "_________________________________________________________________\n",
      "max_pooling2d_6 (MaxPooling2 (None, 1, 1, 256)         0         \n",
      "_________________________________________________________________\n",
      "dropout_10 (Dropout)         (None, 1, 1, 256)         0         \n",
      "_________________________________________________________________\n",
      "flatten_4 (Flatten)          (None, 256)               0         \n",
      "_________________________________________________________________\n",
      "dense_14 (Dense)             (None, 128)               32896     \n",
      "_________________________________________________________________\n",
      "dense_15 (Dense)             (None, 10)                1290      \n",
      "=================================================================\n",
      "Total params: 738,250\n",
      "Trainable params: 738,250\n",
      "Non-trainable params: 0\n",
      "_________________________________________________________________\n"
     ]
    }
   ],
   "source": [
    "model = kr.models.Sequential()\n",
    "model.add(kr.layers.Conv2D(64,kernel_size=(7, 7),activation='relu',input_shape=(28,28,1)))\n",
    "kr.layers.normalization.BatchNormalization(axis=-1)\n",
    "model.add(kr.layers.Conv2D(64,kernel_size=(7, 7),activation='relu'))\n",
    "kr.layers.normalization.BatchNormalization(axis=-1)\n",
    "model.add(kr.layers.MaxPooling2D(pool_size=(2, 2),))\n",
    "model.add(kr.layers.Conv2D(128,kernel_size=(5, 5),activation='relu'))\n",
    "model.add(kr.layers.Dropout(0.01))\n",
    "model.add(kr.layers.Conv2D(256,kernel_size=(3, 3),activation='relu'))\n",
    "model.add(kr.layers.MaxPooling2D(pool_size=(2, 2),))\n",
    "model.add(kr.layers.Dropout(0.25))\n",
    "model.add(kr.layers.Flatten())\n",
    "kr.layers.normalization.BatchNormalization()\n",
    "model.add(kr.layers.Dense(units=128, activation='relu'))\n",
    "model.add(kr.layers.Dense(units=10, activation='softmax'))\n",
    "model.compile(loss=kr.losses.categorical_crossentropy,optimizer='adadelta',metrics=['accuracy'])\n",
    "model.summary()"
   ]
  },
  {
   "cell_type": "markdown",
   "metadata": {},
   "source": [
    "# Data Augmentation Image Generator\n",
    "\n",
    "We we able to reach  maximun of 99.5% on our test data. Could be great if we can have more data for train the model, the great news are that we can generate more data and keras has librarys that do it for us...\n",
    "\n",
    "\n",
    "https://medium.com/nanonets/how-to-use-deep-learning-when-you-have-limited-data-part-2-data-augmentation-c26971dc8ced\n"
   ]
  },
  {
   "cell_type": "code",
   "execution_count": 59,
   "metadata": {},
   "outputs": [],
   "source": [
    "from keras.preprocessing.image import ImageDataGenerator"
   ]
  },
  {
   "cell_type": "markdown",
   "metadata": {},
   "source": [
    "We just need to set parameters of our image generator generate images with litle variations."
   ]
  },
  {
   "cell_type": "code",
   "execution_count": 60,
   "metadata": {},
   "outputs": [],
   "source": [
    "#modified from https://github.com/yashk2810/MNIST-Keras/blob/master/Notebook/MNIST_keras_CNN-99.55%25.ipynb\n",
    "gen = ImageDataGenerator(rotation_range=8, width_shift_range=0.08, shear_range=0.3,\n",
    "                         height_shift_range=0.08, zoom_range=0.08)\n",
    "test_gen = ImageDataGenerator()"
   ]
  },
  {
   "cell_type": "code",
   "execution_count": 61,
   "metadata": {},
   "outputs": [],
   "source": [
    "train_generator = gen.flow(x_train, y_train, batch_size=64)\n",
    "test_generator = test_gen.flow(x_test, y_test, batch_size=64)"
   ]
  },
  {
   "cell_type": "markdown",
   "metadata": {},
   "source": [
    "Code below will generate a batch of 64 images in x1 and 64 labels in y1"
   ]
  },
  {
   "cell_type": "code",
   "execution_count": 62,
   "metadata": {},
   "outputs": [],
   "source": [
    "x1,y1 = train_generator.next()"
   ]
  },
  {
   "cell_type": "code",
   "execution_count": 63,
   "metadata": {},
   "outputs": [
    {
     "data": {
      "text/plain": [
       "<matplotlib.image.AxesImage at 0x21321b61fc8>"
      ]
     },
     "execution_count": 63,
     "metadata": {},
     "output_type": "execute_result"
    },
    {
     "data": {
      "image/png": "[encoded data removed]",
      "text/plain": [
       "<Figure size 432x288 with 1 Axes>"
      ]
     },
     "metadata": {
      "needs_background": "light"
     },
     "output_type": "display_data"
    }
   ],
   "source": [
    "plt.imshow(x1[3].reshape(28,28), cmap='gray')"
   ]
  },
  {
   "cell_type": "code",
   "execution_count": 64,
   "metadata": {},
   "outputs": [
    {
     "data": {
      "text/plain": [
       "array([0., 1., 0., 0., 0., 0., 0., 0., 0., 0.], dtype=float32)"
      ]
     },
     "execution_count": 64,
     "metadata": {},
     "output_type": "execute_result"
    }
   ],
   "source": [
    "y1[3]"
   ]
  },
  {
   "cell_type": "markdown",
   "metadata": {},
   "source": [
    "They look very similar but this will give a great improvement to our model performance..."
   ]
  },
  {
   "cell_type": "code",
   "execution_count": 65,
   "metadata": {
    "scrolled": false
   },
   "outputs": [
    {
     "name": "stdout",
     "output_type": "stream",
     "text": [
      "Epoch 1/10\n",
      "937/937 [==============================] - 10s 10ms/step - loss: 0.3499 - accuracy: 0.8871 - val_loss: 0.0381 - val_accuracy: 0.9850\n",
      "Epoch 2/10\n",
      "937/937 [==============================] - 10s 11ms/step - loss: 0.0801 - accuracy: 0.9768 - val_loss: 0.0848 - val_accuracy: 0.9909\n",
      "Epoch 3/10\n",
      "937/937 [==============================] - 9s 10ms/step - loss: 0.0570 - accuracy: 0.9840 - val_loss: 0.0022 - val_accuracy: 0.9909\n",
      "Epoch 4/10\n",
      "937/937 [==============================] - 9s 10ms/step - loss: 0.0483 - accuracy: 0.9862 - val_loss: 0.0046 - val_accuracy: 0.9941\n",
      "Epoch 5/10\n",
      "937/937 [==============================] - 10s 11ms/step - loss: 0.0416 - accuracy: 0.9883 - val_loss: 6.3042e-04 - val_accuracy: 0.9938\n",
      "Epoch 6/10\n",
      "937/937 [==============================] - 10s 10ms/step - loss: 0.0390 - accuracy: 0.9892 - val_loss: 4.2203e-04 - val_accuracy: 0.9945\n",
      "Epoch 7/10\n",
      "937/937 [==============================] - 10s 10ms/step - loss: 0.0347 - accuracy: 0.9903 - val_loss: 0.0380 - val_accuracy: 0.9948\n",
      "Epoch 8/10\n",
      "937/937 [==============================] - 10s 11ms/step - loss: 0.0326 - accuracy: 0.9914 - val_loss: 0.0265 - val_accuracy: 0.9950\n",
      "Epoch 9/10\n",
      "937/937 [==============================] - 10s 10ms/step - loss: 0.0319 - accuracy: 0.9916 - val_loss: 0.0021 - val_accuracy: 0.9936\n",
      "Epoch 10/10\n",
      "937/937 [==============================] - 9s 10ms/step - loss: 0.0284 - accuracy: 0.9924 - val_loss: 0.0456 - val_accuracy: 0.9942\n"
     ]
    }
   ],
   "source": [
    "epoch =10\n",
    "history_callback= model.fit_generator(train_generator, steps_per_epoch=60000//64, epochs=epoch, \n",
    "                    validation_data=test_generator, validation_steps=10000//64)"
   ]
  },
  {
   "cell_type": "code",
   "execution_count": 66,
   "metadata": {},
   "outputs": [],
   "source": [
    "val_accuracy = np.array(history_callback.history['val_accuracy'])\n",
    "val_loss =  np.array(history_callback.history['val_loss'])\n",
    "accuracy =  np.array(history_callback.history['accuracy'])\n",
    "loss =  np.array(history_callback.history['loss'])\n"
   ]
  },
  {
   "cell_type": "code",
   "execution_count": 67,
   "metadata": {},
   "outputs": [
    {
     "data": {
      "text/plain": [
       "[<matplotlib.lines.Line2D at 0x21515f51b08>,\n",
       " <matplotlib.lines.Line2D at 0x21515f7ed48>]"
      ]
     },
     "execution_count": 67,
     "metadata": {},
     "output_type": "execute_result"
    },
    {
     "data": {
      "image/png": "[encoded data removed]",
      "text/plain": [
       "<Figure size 432x288 with 1 Axes>"
      ]
     },
     "metadata": {
      "needs_background": "light"
     },
     "output_type": "display_data"
    }
   ],
   "source": [
    "x = np.arange(0.0, epoch, 1)\n",
    "plt.title('Train vs Test Accuracy')\n",
    "plt.plot(x,val_accuracy,'r',x,accuracy,'b')"
   ]
  },
  {
   "cell_type": "code",
   "execution_count": 68,
   "metadata": {},
   "outputs": [
    {
     "data": {
      "text/plain": [
       "[<matplotlib.lines.Line2D at 0x2151b32d248>,\n",
       " <matplotlib.lines.Line2D at 0x2151b338b08>]"
      ]
     },
     "execution_count": 68,
     "metadata": {},
     "output_type": "execute_result"
    },
    {
     "data": {
      "image/png": "[encoded data removed]",
      "text/plain": [
       "<Figure size 432x288 with 1 Axes>"
      ]
     },
     "metadata": {
      "needs_background": "light"
     },
     "output_type": "display_data"
    }
   ],
   "source": [
    "x = np.arange(0.0, epoch, 1)\n",
    "plt.title('Train vs Test Loss')\n",
    "plt.plot(x,val_loss,'r',x,loss,'b')"
   ]
  },
  {
   "cell_type": "markdown",
   "metadata": {},
   "source": [
    "# Looking for high hit\n",
    "\n",
    "As we want a static model with high accuracy on the original Mnist train set. We can notice that the accuracy vary from epoch going up and down, also there is a little variation on the accuracy on the original train set and the generated train set. So we will add a call back function that check accuracy against original test set after each epoch, then if the accuracy is higher than the minimum or the last high model we save the model.\n",
    "\n",
    "In this way we are looking for a \"lucky\" hit."
   ]
  },
  {
   "cell_type": "markdown",
   "metadata": {},
   "source": [
    "## Custom Checkpoint\n"
   ]
  },
  {
   "cell_type": "code",
   "execution_count": 69,
   "metadata": {},
   "outputs": [],
   "source": [
    "test_acc =[]"
   ]
  },
  {
   "cell_type": "code",
   "execution_count": 70,
   "metadata": {},
   "outputs": [],
   "source": [
    "# code medified from https://www.tensorflow.org/guide/keras/custom_callback\n",
    "class CustomModelCheckpoint(kr.callbacks.Callback):\n",
    "    minimun = 0.995\n",
    "    def on_epoch_end(self, epoch, logs=None):\n",
    "        # calculate accuracy again original test set\n",
    "        score = self.model.evaluate(x_test, y_test, verbose=0)\n",
    "        print(score[1])\n",
    "        test_acc.append(score[1])\n",
    "        if score[1] > self.minimun: # your custom conditio\n",
    "            #save the model if is higher\n",
    "            self.model.save('static/model.h5', overwrite=True)\n",
    "            self.minimun = score[1]\n",
    "            # print the real acurracy\n",
    "            print(\"*******************************************************************************************************\")\n",
    "            print(self.minimun)\n",
    "            print(\"*******************************************************************************************************\")"
   ]
  },
  {
   "cell_type": "code",
   "execution_count": 71,
   "metadata": {},
   "outputs": [],
   "source": [
    "cbk = CustomModelCheckpoint()"
   ]
  },
  {
   "cell_type": "code",
   "execution_count": 72,
   "metadata": {
    "scrolled": true
   },
   "outputs": [
    {
     "name": "stdout",
     "output_type": "stream",
     "text": [
      "Epoch 1/700\n",
      "937/937 [==============================] - 10s 10ms/step - loss: 0.0257 - accuracy: 0.9927 - val_loss: 1.5349e-04 - val_accuracy: 0.9942\n",
      "0.9941999912261963\n",
      "Epoch 2/700\n",
      "937/937 [==============================] - 10s 10ms/step - loss: 0.0264 - accuracy: 0.9928 - val_loss: 3.3959e-05 - val_accuracy: 0.9936\n",
      "0.9936000108718872\n",
      "Epoch 3/700\n",
      "937/937 [==============================] - 10s 11ms/step - loss: 0.0247 - accuracy: 0.9928 - val_loss: 0.0071 - val_accuracy: 0.9937\n",
      "0.9937999844551086\n",
      "Epoch 4/700\n",
      "937/937 [==============================] - 9s 10ms/step - loss: 0.0227 - accuracy: 0.9938 - val_loss: 0.0265 - val_accuracy: 0.9932\n",
      "0.9932000041007996\n",
      "Epoch 5/700\n",
      "937/937 [==============================] - 9s 10ms/step - loss: 0.0219 - accuracy: 0.9940 - val_loss: 4.6882e-06 - val_accuracy: 0.9953\n",
      "0.995199978351593\n",
      "*******************************************************************************************************\n",
      "0.995199978351593\n",
      "*******************************************************************************************************\n",
      "Epoch 6/700\n",
      "937/937 [==============================] - 10s 11ms/step - loss: 0.0216 - accuracy: 0.9944 - val_loss: 0.0124 - val_accuracy: 0.9950\n",
      "0.9948999881744385\n",
      "Epoch 7/700\n",
      "937/937 [==============================] - 10s 10ms/step - loss: 0.0200 - accuracy: 0.9948 - val_loss: 1.4435e-06 - val_accuracy: 0.9955\n",
      "0.9955000281333923\n",
      "*******************************************************************************************************\n",
      "0.9955000281333923\n",
      "*******************************************************************************************************\n",
      "Epoch 8/700\n",
      "937/937 [==============================] - 9s 10ms/step - loss: 0.0230 - accuracy: 0.9936 - val_loss: 1.2348e-04 - val_accuracy: 0.9950\n",
      "0.994700014591217\n",
      "Epoch 9/700\n",
      "937/937 [==============================] - 10s 11ms/step - loss: 0.0180 - accuracy: 0.9945 - val_loss: 2.8365e-05 - val_accuracy: 0.9956\n",
      "0.9955000281333923\n",
      "Epoch 10/700\n",
      "937/937 [==============================] - 9s 10ms/step - loss: 0.0183 - accuracy: 0.9948 - val_loss: 1.1274e-04 - val_accuracy: 0.9937\n",
      "0.9934999942779541\n",
      "Epoch 11/700\n",
      "937/937 [==============================] - 9s 10ms/step - loss: 0.0197 - accuracy: 0.9944 - val_loss: 9.6267e-04 - val_accuracy: 0.9955\n",
      "0.9954000115394592\n",
      "Epoch 12/700\n",
      "937/937 [==============================] - 10s 10ms/step - loss: 0.0167 - accuracy: 0.9951 - val_loss: 0.1048 - val_accuracy: 0.9954\n",
      "0.995199978351593\n",
      "Epoch 13/700\n",
      "937/937 [==============================] - 9s 10ms/step - loss: 0.0166 - accuracy: 0.9955 - val_loss: 1.8455e-04 - val_accuracy: 0.9955\n",
      "0.995199978351593\n",
      "Epoch 14/700\n",
      "937/937 [==============================] - 9s 10ms/step - loss: 0.0168 - accuracy: 0.9957 - val_loss: 1.5453e-05 - val_accuracy: 0.9957\n",
      "0.9957000017166138\n",
      "*******************************************************************************************************\n",
      "0.9957000017166138\n",
      "*******************************************************************************************************\n",
      "Epoch 15/700\n",
      "937/937 [==============================] - 10s 11ms/step - loss: 0.0156 - accuracy: 0.9955 - val_loss: 6.4288e-05 - val_accuracy: 0.9966\n",
      "0.9962999820709229\n",
      "*******************************************************************************************************\n",
      "0.9962999820709229\n",
      "*******************************************************************************************************\n",
      "Epoch 16/700\n",
      "937/937 [==============================] - 9s 10ms/step - loss: 0.0169 - accuracy: 0.9956 - val_loss: 0.0039 - val_accuracy: 0.9952\n",
      "0.9955000281333923\n",
      "Epoch 17/700\n",
      "937/937 [==============================] - 10s 10ms/step - loss: 0.0157 - accuracy: 0.9957 - val_loss: 2.2540e-05 - val_accuracy: 0.9958\n",
      "0.995199978351593\n",
      "Epoch 18/700\n",
      "937/937 [==============================] - 10s 11ms/step - loss: 0.0149 - accuracy: 0.9959 - val_loss: 1.0066e-05 - val_accuracy: 0.9959\n",
      "0.9959999918937683\n",
      "Epoch 19/700\n",
      "937/937 [==============================] - 10s 10ms/step - loss: 0.0143 - accuracy: 0.9961 - val_loss: 1.5018e-04 - val_accuracy: 0.9948\n",
      "0.9948999881744385\n",
      "Epoch 20/700\n",
      "937/937 [==============================] - 10s 10ms/step - loss: 0.0153 - accuracy: 0.9959 - val_loss: 3.0714e-06 - val_accuracy: 0.9953\n",
      "0.9954000115394592\n",
      "Epoch 21/700\n",
      "937/937 [==============================] - 10s 11ms/step - loss: 0.0140 - accuracy: 0.9962 - val_loss: 0.0062 - val_accuracy: 0.9945\n",
      "0.994700014591217\n",
      "Epoch 22/700\n",
      "937/937 [==============================] - 9s 10ms/step - loss: 0.0157 - accuracy: 0.9961 - val_loss: 3.1292e-07 - val_accuracy: 0.9952\n",
      "0.995199978351593\n",
      "Epoch 23/700\n",
      "937/937 [==============================] - 10s 10ms/step - loss: 0.0165 - accuracy: 0.9961 - val_loss: 0.0037 - val_accuracy: 0.9957\n",
      "0.9959999918937683\n",
      "Epoch 24/700\n",
      "937/937 [==============================] - 10s 11ms/step - loss: 0.0136 - accuracy: 0.9961 - val_loss: 7.8044e-07 - val_accuracy: 0.9952\n",
      "0.9952999949455261\n",
      "Epoch 25/700\n",
      "937/937 [==============================] - 9s 10ms/step - loss: 0.0146 - accuracy: 0.9962 - val_loss: 0.1016 - val_accuracy: 0.9963\n",
      "0.9958999752998352\n",
      "Epoch 26/700\n",
      "937/937 [==============================] - 9s 10ms/step - loss: 0.0154 - accuracy: 0.9962 - val_loss: 3.1028e-04 - val_accuracy: 0.9931\n",
      "0.9937999844551086\n",
      "Epoch 27/700\n",
      "937/937 [==============================] - 10s 11ms/step - loss: 0.0139 - accuracy: 0.9963 - val_loss: 5.0303e-05 - val_accuracy: 0.9953\n",
      "0.9951000213623047\n",
      "Epoch 28/700\n",
      "937/937 [==============================] - 9s 10ms/step - loss: 0.0133 - accuracy: 0.9964 - val_loss: 0.0100 - val_accuracy: 0.9948\n",
      "0.9951000213623047\n",
      "Epoch 29/700\n",
      "937/937 [==============================] - 9s 10ms/step - loss: 0.0150 - accuracy: 0.9965 - val_loss: 0.0234 - val_accuracy: 0.9946\n",
      "0.9945999979972839\n",
      "Epoch 30/700\n",
      "937/937 [==============================] - 10s 11ms/step - loss: 0.0130 - accuracy: 0.9968 - val_loss: 1.0654e-06 - val_accuracy: 0.9935\n",
      "0.9939000010490417\n",
      "Epoch 31/700\n",
      "937/937 [==============================] - 9s 10ms/step - loss: 0.0122 - accuracy: 0.9969 - val_loss: 1.3573e-04 - val_accuracy: 0.9964\n",
      "0.9962999820709229\n",
      "Epoch 32/700\n",
      "937/937 [==============================] - 9s 10ms/step - loss: 0.0135 - accuracy: 0.9967 - val_loss: 7.0965e-07 - val_accuracy: 0.9935\n",
      "0.9930999875068665\n",
      "Epoch 33/700\n",
      "937/937 [==============================] - 10s 11ms/step - loss: 0.0136 - accuracy: 0.9965 - val_loss: 8.6052e-07 - val_accuracy: 0.9943\n",
      "0.9937000274658203\n",
      "Epoch 34/700\n",
      "937/937 [==============================] - 9s 10ms/step - loss: 0.0129 - accuracy: 0.9967 - val_loss: 1.6310e-05 - val_accuracy: 0.9944\n",
      "0.9940000176429749\n",
      "Epoch 35/700\n",
      "937/937 [==============================] - 9s 10ms/step - loss: 0.0145 - accuracy: 0.9962 - val_loss: 7.4506e-09 - val_accuracy: 0.9940\n",
      "0.9947999715805054\n",
      "Epoch 36/700\n",
      "937/937 [==============================] - 10s 11ms/step - loss: 0.0135 - accuracy: 0.9968 - val_loss: 1.4757e-04 - val_accuracy: 0.9955\n",
      "0.9952999949455261\n",
      "Epoch 37/700\n",
      "937/937 [==============================] - 10s 10ms/step - loss: 0.0129 - accuracy: 0.9970 - val_loss: 5.4450e-05 - val_accuracy: 0.9950\n",
      "0.9941999912261963\n",
      "Epoch 38/700\n",
      "937/937 [==============================] - 10s 10ms/step - loss: 0.0127 - accuracy: 0.9967 - val_loss: 0.0033 - val_accuracy: 0.9956\n",
      "0.9955000281333923\n",
      "Epoch 39/700\n",
      "937/937 [==============================] - 10s 11ms/step - loss: 0.0127 - accuracy: 0.9970 - val_loss: 6.2405e-05 - val_accuracy: 0.9963\n",
      "0.9959999918937683\n",
      "Epoch 40/700\n",
      "937/937 [==============================] - 9s 10ms/step - loss: 0.0132 - accuracy: 0.9966 - val_loss: 3.8954e-04 - val_accuracy: 0.9961\n",
      "0.9962000250816345\n",
      "Epoch 41/700\n",
      "937/937 [==============================] - 9s 10ms/step - loss: 0.0137 - accuracy: 0.9968 - val_loss: 4.8255e-06 - val_accuracy: 0.9953\n",
      "0.995199978351593\n",
      "Epoch 42/700\n",
      "937/937 [==============================] - 10s 10ms/step - loss: 0.0122 - accuracy: 0.9969 - val_loss: 2.5845e-05 - val_accuracy: 0.9961\n",
      "0.9961000084877014\n",
      "Epoch 43/700\n",
      "937/937 [==============================] - 9s 10ms/step - loss: 0.0136 - accuracy: 0.9971 - val_loss: 5.5879e-09 - val_accuracy: 0.9955\n",
      "0.9959999918937683\n",
      "Epoch 44/700\n",
      "937/937 [==============================] - 10s 10ms/step - loss: 0.0119 - accuracy: 0.9971 - val_loss: 3.7253e-09 - val_accuracy: 0.9949\n"
     ]
    },
    {
     "name": "stdout",
     "output_type": "stream",
     "text": [
      "0.994700014591217\n",
      "Epoch 45/700\n",
      "937/937 [==============================] - 10s 11ms/step - loss: 0.0153 - accuracy: 0.9965 - val_loss: 1.4342e-07 - val_accuracy: 0.9952\n",
      "0.9955000281333923\n",
      "Epoch 46/700\n",
      "937/937 [==============================] - 9s 10ms/step - loss: 0.0111 - accuracy: 0.9970 - val_loss: 0.0692 - val_accuracy: 0.9960\n",
      "0.9961000084877014\n",
      "Epoch 47/700\n",
      "937/937 [==============================] - 9s 10ms/step - loss: 0.0130 - accuracy: 0.9971 - val_loss: 1.3597e-07 - val_accuracy: 0.9951\n",
      "0.9947999715805054\n",
      "Epoch 48/700\n",
      "937/937 [==============================] - 10s 11ms/step - loss: 0.0143 - accuracy: 0.9970 - val_loss: 9.8700e-05 - val_accuracy: 0.9943\n",
      "0.9950000047683716\n",
      "Epoch 49/700\n",
      "937/937 [==============================] - 10s 10ms/step - loss: 0.0136 - accuracy: 0.9969 - val_loss: 0.1341 - val_accuracy: 0.9951\n",
      "0.995199978351593\n",
      "Epoch 50/700\n",
      "937/937 [==============================] - 9s 10ms/step - loss: 0.0118 - accuracy: 0.9971 - val_loss: 1.8574e-05 - val_accuracy: 0.9948\n",
      "0.9951000213623047\n",
      "Epoch 51/700\n",
      "937/937 [==============================] - 10s 11ms/step - loss: 0.0122 - accuracy: 0.9970 - val_loss: 2.9243e-07 - val_accuracy: 0.9948\n",
      "0.9951000213623047\n",
      "Epoch 52/700\n",
      "937/937 [==============================] - 10s 11ms/step - loss: 0.0139 - accuracy: 0.9969 - val_loss: 0.0000e+00 - val_accuracy: 0.9937\n",
      "0.9940999746322632\n",
      "Epoch 53/700\n",
      "937/937 [==============================] - 9s 10ms/step - loss: 0.0138 - accuracy: 0.9968 - val_loss: 1.6764e-08 - val_accuracy: 0.9959\n",
      "0.9958000183105469\n",
      "Epoch 54/700\n",
      "937/937 [==============================] - 10s 11ms/step - loss: 0.0142 - accuracy: 0.9969 - val_loss: 0.0959 - val_accuracy: 0.9949\n",
      "0.995199978351593\n",
      "Epoch 55/700\n",
      "937/937 [==============================] - 10s 10ms/step - loss: 0.0135 - accuracy: 0.9969 - val_loss: 2.4604e-06 - val_accuracy: 0.9947\n",
      "0.9944000244140625\n",
      "Epoch 56/700\n",
      "937/937 [==============================] - 9s 10ms/step - loss: 0.0121 - accuracy: 0.9971 - val_loss: 5.7002e-04 - val_accuracy: 0.9950\n",
      "0.9957000017166138\n",
      "Epoch 57/700\n",
      "937/937 [==============================] - 10s 11ms/step - loss: 0.0121 - accuracy: 0.9971 - val_loss: 3.3747e-06 - val_accuracy: 0.9969\n",
      "0.9958999752998352\n",
      "Epoch 58/700\n",
      "937/937 [==============================] - 9s 10ms/step - loss: 0.0134 - accuracy: 0.9970 - val_loss: 1.3139e-05 - val_accuracy: 0.9937\n",
      "0.9943000078201294\n",
      "Epoch 59/700\n",
      "937/937 [==============================] - 9s 10ms/step - loss: 0.0154 - accuracy: 0.9967 - val_loss: 0.0179 - val_accuracy: 0.9924\n",
      "0.993399977684021\n",
      "Epoch 60/700\n",
      "937/937 [==============================] - 10s 11ms/step - loss: 0.0128 - accuracy: 0.9971 - val_loss: 0.0092 - val_accuracy: 0.9947\n",
      "0.9950000047683716\n",
      "Epoch 61/700\n",
      "937/937 [==============================] - 9s 10ms/step - loss: 0.0121 - accuracy: 0.9973 - val_loss: 9.4636e-05 - val_accuracy: 0.9955\n",
      "0.9950000047683716\n",
      "Epoch 62/700\n",
      "937/937 [==============================] - 9s 10ms/step - loss: 0.0115 - accuracy: 0.9974 - val_loss: 2.5365e-04 - val_accuracy: 0.9959\n",
      "0.9955999851226807\n",
      "Epoch 63/700\n",
      "937/937 [==============================] - 10s 11ms/step - loss: 0.0118 - accuracy: 0.9977 - val_loss: 0.0012 - val_accuracy: 0.9947\n",
      "0.9952999949455261\n",
      "Epoch 64/700\n",
      "937/937 [==============================] - 9s 10ms/step - loss: 0.0150 - accuracy: 0.9968 - val_loss: 2.2490e-05 - val_accuracy: 0.9957\n",
      "0.9950000047683716\n",
      "Epoch 65/700\n",
      "937/937 [==============================] - 9s 10ms/step - loss: 0.0124 - accuracy: 0.9969 - val_loss: 7.8747e-05 - val_accuracy: 0.9960\n",
      "0.9955999851226807\n",
      "Epoch 66/700\n",
      "937/937 [==============================] - 10s 10ms/step - loss: 0.0137 - accuracy: 0.9970 - val_loss: 0.0620 - val_accuracy: 0.9951\n",
      "0.9952999949455261\n",
      "Epoch 67/700\n",
      "937/937 [==============================] - 10s 10ms/step - loss: 0.0118 - accuracy: 0.9972 - val_loss: 4.7263e-04 - val_accuracy: 0.9945\n",
      "0.9941999912261963\n",
      "Epoch 68/700\n",
      "937/937 [==============================] - 9s 10ms/step - loss: 0.0112 - accuracy: 0.9972 - val_loss: 0.0289 - val_accuracy: 0.9949\n",
      "0.9948999881744385\n",
      "Epoch 69/700\n",
      "937/937 [==============================] - 10s 11ms/step - loss: 0.0128 - accuracy: 0.9968 - val_loss: 0.1923 - val_accuracy: 0.9960\n",
      "0.9962999820709229\n",
      "Epoch 70/700\n",
      "937/937 [==============================] - 10s 10ms/step - loss: 0.0126 - accuracy: 0.9971 - val_loss: 0.1206 - val_accuracy: 0.9964\n",
      "0.9952999949455261\n",
      "Epoch 71/700\n",
      "937/937 [==============================] - 9s 10ms/step - loss: 0.0104 - accuracy: 0.9976 - val_loss: 6.3243e-06 - val_accuracy: 0.9950\n",
      "0.9954000115394592\n",
      "Epoch 72/700\n",
      "937/937 [==============================] - 10s 10ms/step - loss: 0.0131 - accuracy: 0.9973 - val_loss: 1.6327e-04 - val_accuracy: 0.9941\n",
      "0.9939000010490417\n",
      "Epoch 73/700\n",
      "937/937 [==============================] - 9s 10ms/step - loss: 0.0122 - accuracy: 0.9974 - val_loss: 5.5879e-08 - val_accuracy: 0.9959\n",
      "0.9958000183105469\n",
      "Epoch 74/700\n",
      "937/937 [==============================] - 9s 10ms/step - loss: 0.0124 - accuracy: 0.9973 - val_loss: 3.3521e-04 - val_accuracy: 0.9955\n",
      "0.9962000250816345\n",
      "Epoch 75/700\n",
      "937/937 [==============================] - 10s 10ms/step - loss: 0.0110 - accuracy: 0.9973 - val_loss: 0.0012 - val_accuracy: 0.9953\n",
      "0.9958000183105469\n",
      "Epoch 76/700\n",
      "937/937 [==============================] - 9s 10ms/step - loss: 0.0122 - accuracy: 0.9971 - val_loss: 6.4533e-04 - val_accuracy: 0.9950\n",
      "0.994700014591217\n",
      "Epoch 77/700\n",
      "937/937 [==============================] - 9s 10ms/step - loss: 0.0112 - accuracy: 0.9973 - val_loss: 0.0000e+00 - val_accuracy: 0.9957\n",
      "0.9952999949455261\n",
      "Epoch 78/700\n",
      "937/937 [==============================] - 10s 11ms/step - loss: 0.0126 - accuracy: 0.9974 - val_loss: 6.3142e-07 - val_accuracy: 0.9948\n",
      "0.9947999715805054\n",
      "Epoch 79/700\n",
      "937/937 [==============================] - 9s 10ms/step - loss: 0.0111 - accuracy: 0.9976 - val_loss: 0.0000e+00 - val_accuracy: 0.9957\n",
      "0.9955999851226807\n",
      "Epoch 80/700\n",
      "937/937 [==============================] - 9s 10ms/step - loss: 0.0117 - accuracy: 0.9974 - val_loss: 5.4641e-04 - val_accuracy: 0.9958\n",
      "0.996399998664856\n",
      "*******************************************************************************************************\n",
      "0.996399998664856\n",
      "*******************************************************************************************************\n",
      "Epoch 81/700\n",
      "937/937 [==============================] - 10s 11ms/step - loss: 0.0128 - accuracy: 0.9972 - val_loss: 1.8626e-08 - val_accuracy: 0.9956\n",
      "0.9954000115394592\n",
      "Epoch 82/700\n",
      "937/937 [==============================] - 9s 10ms/step - loss: 0.0106 - accuracy: 0.9974 - val_loss: 1.6595e-06 - val_accuracy: 0.9935\n",
      "0.9945999979972839\n",
      "Epoch 83/700\n",
      "937/937 [==============================] - 10s 10ms/step - loss: 0.0129 - accuracy: 0.9975 - val_loss: 0.0021 - val_accuracy: 0.9966\n",
      "0.9958000183105469\n",
      "Epoch 84/700\n",
      "937/937 [==============================] - 10s 11ms/step - loss: 0.0122 - accuracy: 0.9976 - val_loss: 0.0018 - val_accuracy: 0.9950\n",
      "0.9943000078201294\n",
      "Epoch 85/700\n",
      "937/937 [==============================] - 9s 10ms/step - loss: 0.0124 - accuracy: 0.9972 - val_loss: 0.3717 - val_accuracy: 0.9942\n",
      "0.9950000047683716\n",
      "Epoch 86/700\n",
      "937/937 [==============================] - 9s 10ms/step - loss: 0.0134 - accuracy: 0.9970 - val_loss: 0.0000e+00 - val_accuracy: 0.9967\n",
      "0.9962000250816345\n",
      "Epoch 87/700\n",
      "937/937 [==============================] - 10s 11ms/step - loss: 0.0131 - accuracy: 0.9972 - val_loss: 3.3245e-06 - val_accuracy: 0.9943\n",
      "0.9945999979972839\n",
      "Epoch 88/700\n",
      "937/937 [==============================] - 10s 10ms/step - loss: 0.0131 - accuracy: 0.9971 - val_loss: 0.1704 - val_accuracy: 0.9962\n",
      "0.9955999851226807\n",
      "Epoch 89/700\n",
      "937/937 [==============================] - 10s 10ms/step - loss: 0.0116 - accuracy: 0.9976 - val_loss: 5.5879e-09 - val_accuracy: 0.9956\n",
      "0.9955999851226807\n",
      "Epoch 90/700\n",
      "937/937 [==============================] - 10s 10ms/step - loss: 0.0106 - accuracy: 0.9976 - val_loss: 0.0027 - val_accuracy: 0.9942\n",
      "0.9944000244140625\n",
      "Epoch 91/700\n",
      "937/937 [==============================] - 10s 10ms/step - loss: 0.0145 - accuracy: 0.9971 - val_loss: 0.0570 - val_accuracy: 0.9945\n",
      "0.9943000078201294\n",
      "Epoch 92/700\n"
     ]
    },
    {
     "name": "stdout",
     "output_type": "stream",
     "text": [
      "937/937 [==============================] - 9s 10ms/step - loss: 0.0118 - accuracy: 0.9978 - val_loss: 0.0053 - val_accuracy: 0.9958\n",
      "0.9955999851226807\n",
      "Epoch 93/700\n",
      "937/937 [==============================] - 10s 11ms/step - loss: 0.0131 - accuracy: 0.9973 - val_loss: 1.6764e-08 - val_accuracy: 0.9952\n",
      "0.9951000213623047\n",
      "Epoch 94/700\n",
      "937/937 [==============================] - 10s 10ms/step - loss: 0.0126 - accuracy: 0.9976 - val_loss: 3.7253e-09 - val_accuracy: 0.9957\n",
      "0.9954000115394592\n",
      "Epoch 95/700\n",
      "937/937 [==============================] - 9s 10ms/step - loss: 0.0109 - accuracy: 0.9977 - val_loss: 7.0780e-08 - val_accuracy: 0.9952\n",
      "0.995199978351593\n",
      "Epoch 96/700\n",
      "937/937 [==============================] - 10s 11ms/step - loss: 0.0086 - accuracy: 0.9982 - val_loss: 0.0000e+00 - val_accuracy: 0.9957\n",
      "0.9950000047683716\n",
      "Epoch 97/700\n",
      "937/937 [==============================] - 10s 10ms/step - loss: 0.0105 - accuracy: 0.9977 - val_loss: 1.6763e-06 - val_accuracy: 0.9954\n",
      "0.9952999949455261\n",
      "Epoch 98/700\n",
      "937/937 [==============================] - 9s 10ms/step - loss: 0.0103 - accuracy: 0.9979 - val_loss: 0.0698 - val_accuracy: 0.9962\n",
      "0.9968000054359436\n",
      "*******************************************************************************************************\n",
      "0.9968000054359436\n",
      "*******************************************************************************************************\n",
      "Epoch 99/700\n",
      "937/937 [==============================] - 10s 11ms/step - loss: 0.0109 - accuracy: 0.9978 - val_loss: 8.6328e-06 - val_accuracy: 0.9964\n",
      "0.9965999722480774\n",
      "Epoch 100/700\n",
      "937/937 [==============================] - 10s 10ms/step - loss: 0.0106 - accuracy: 0.9978 - val_loss: 4.9054e-06 - val_accuracy: 0.9962\n",
      "0.9959999918937683\n",
      "Epoch 101/700\n",
      "937/937 [==============================] - 10s 10ms/step - loss: 0.0140 - accuracy: 0.9972 - val_loss: 0.0025 - val_accuracy: 0.9958\n",
      "0.9952999949455261\n",
      "Epoch 102/700\n",
      "937/937 [==============================] - 10s 11ms/step - loss: 0.0095 - accuracy: 0.9979 - val_loss: 1.2328e-05 - val_accuracy: 0.9942\n",
      "0.995199978351593\n",
      "Epoch 103/700\n",
      "937/937 [==============================] - 10s 10ms/step - loss: 0.0125 - accuracy: 0.9976 - val_loss: 6.3803e-05 - val_accuracy: 0.9964\n",
      "0.9958999752998352\n",
      "Epoch 104/700\n",
      "937/937 [==============================] - 9s 10ms/step - loss: 0.0104 - accuracy: 0.9977 - val_loss: 0.0000e+00 - val_accuracy: 0.9946\n",
      "0.9944000244140625\n",
      "Epoch 105/700\n",
      "937/937 [==============================] - 10s 10ms/step - loss: 0.0127 - accuracy: 0.9974 - val_loss: 0.0025 - val_accuracy: 0.9952\n",
      "0.9955000281333923\n",
      "Epoch 106/700\n",
      "937/937 [==============================] - 9s 10ms/step - loss: 0.0102 - accuracy: 0.9977 - val_loss: 0.0011 - val_accuracy: 0.9956\n",
      "0.9961000084877014\n",
      "Epoch 107/700\n",
      "937/937 [==============================] - 9s 10ms/step - loss: 0.0137 - accuracy: 0.9974 - val_loss: 1.4161e-04 - val_accuracy: 0.9945\n",
      "0.9945999979972839\n",
      "Epoch 108/700\n",
      "937/937 [==============================] - 10s 10ms/step - loss: 0.0117 - accuracy: 0.9975 - val_loss: 0.2792 - val_accuracy: 0.9947\n",
      "0.9948999881744385\n",
      "Epoch 109/700\n",
      "937/937 [==============================] - 10s 10ms/step - loss: 0.0088 - accuracy: 0.9980 - val_loss: 0.2712 - val_accuracy: 0.9948\n",
      "0.9948999881744385\n",
      "Epoch 110/700\n",
      "937/937 [==============================] - 9s 10ms/step - loss: 0.0119 - accuracy: 0.9979 - val_loss: 0.0840 - val_accuracy: 0.9960\n",
      "0.9959999918937683\n",
      "Epoch 111/700\n",
      "937/937 [==============================] - 10s 10ms/step - loss: 0.0093 - accuracy: 0.9978 - val_loss: 0.0021 - val_accuracy: 0.9946\n",
      "0.994700014591217\n",
      "Epoch 112/700\n",
      "937/937 [==============================] - 10s 10ms/step - loss: 0.0099 - accuracy: 0.9980 - val_loss: 4.4703e-08 - val_accuracy: 0.9947\n",
      "0.9955999851226807\n",
      "Epoch 113/700\n",
      "937/937 [==============================] - 9s 10ms/step - loss: 0.0116 - accuracy: 0.9977 - val_loss: 0.0000e+00 - val_accuracy: 0.9958\n",
      "0.9952999949455261\n",
      "Epoch 114/700\n",
      "937/937 [==============================] - 10s 11ms/step - loss: 0.0110 - accuracy: 0.9978 - val_loss: 0.0672 - val_accuracy: 0.9942\n",
      "0.9943000078201294\n",
      "Epoch 115/700\n",
      "937/937 [==============================] - 10s 11ms/step - loss: 0.0105 - accuracy: 0.9977 - val_loss: 0.3213 - val_accuracy: 0.9959\n",
      "0.9958000183105469\n",
      "Epoch 116/700\n",
      "937/937 [==============================] - 9s 10ms/step - loss: 0.0122 - accuracy: 0.9975 - val_loss: 3.7253e-09 - val_accuracy: 0.9945\n",
      "0.9944999814033508\n",
      "Epoch 117/700\n",
      "937/937 [==============================] - 10s 11ms/step - loss: 0.0108 - accuracy: 0.9977 - val_loss: 4.1536e-07 - val_accuracy: 0.9965\n",
      "0.9965999722480774\n",
      "Epoch 118/700\n",
      "937/937 [==============================] - 10s 10ms/step - loss: 0.0098 - accuracy: 0.9977 - val_loss: 0.8106 - val_accuracy: 0.9916\n",
      "0.9912999868392944\n",
      "Epoch 119/700\n",
      "937/937 [==============================] - 9s 10ms/step - loss: 0.0101 - accuracy: 0.9978 - val_loss: 4.9948e-06 - val_accuracy: 0.9942\n",
      "0.9940999746322632\n",
      "Epoch 120/700\n",
      "937/937 [==============================] - 10s 11ms/step - loss: 0.0138 - accuracy: 0.9972 - val_loss: 0.0212 - val_accuracy: 0.9954\n",
      "0.9951000213623047\n",
      "Epoch 121/700\n",
      "937/937 [==============================] - 10s 10ms/step - loss: 0.0095 - accuracy: 0.9980 - val_loss: 4.9918e-07 - val_accuracy: 0.9950\n",
      "0.9952999949455261\n",
      "Epoch 122/700\n",
      "937/937 [==============================] - 9s 10ms/step - loss: 0.0105 - accuracy: 0.9980 - val_loss: 1.0844e-05 - val_accuracy: 0.9963\n",
      "0.9955999851226807\n",
      "Epoch 123/700\n",
      "937/937 [==============================] - 10s 10ms/step - loss: 0.0126 - accuracy: 0.9975 - val_loss: 5.5879e-09 - val_accuracy: 0.9956\n",
      "0.9954000115394592\n",
      "Epoch 124/700\n",
      "937/937 [==============================] - 10s 10ms/step - loss: 0.0114 - accuracy: 0.9978 - val_loss: 5.7369e-07 - val_accuracy: 0.9959\n",
      "0.9955000281333923\n",
      "Epoch 125/700\n",
      "937/937 [==============================] - 9s 10ms/step - loss: 0.0116 - accuracy: 0.9979 - val_loss: 3.7253e-09 - val_accuracy: 0.9955\n",
      "0.9962000250816345\n",
      "Epoch 126/700\n",
      "937/937 [==============================] - 10s 10ms/step - loss: 0.0122 - accuracy: 0.9975 - val_loss: 7.9291e-06 - val_accuracy: 0.9962\n",
      "0.9952999949455261\n",
      "Epoch 127/700\n",
      "937/937 [==============================] - 10s 10ms/step - loss: 0.0129 - accuracy: 0.9975 - val_loss: 9.3132e-09 - val_accuracy: 0.9952\n",
      "0.995199978351593\n",
      "Epoch 128/700\n",
      "937/937 [==============================] - 9s 10ms/step - loss: 0.0102 - accuracy: 0.9979 - val_loss: 0.0021 - val_accuracy: 0.9963\n",
      "0.9959999918937683\n",
      "Epoch 129/700\n",
      "937/937 [==============================] - 10s 10ms/step - loss: 0.0101 - accuracy: 0.9981 - val_loss: 9.5042e-06 - val_accuracy: 0.9966\n",
      "0.996399998664856\n",
      "Epoch 130/700\n",
      "937/937 [==============================] - 9s 10ms/step - loss: 0.0102 - accuracy: 0.9980 - val_loss: 0.1083 - val_accuracy: 0.9953\n",
      "0.9958000183105469\n",
      "Epoch 131/700\n",
      "937/937 [==============================] - 9s 10ms/step - loss: 0.0098 - accuracy: 0.9979 - val_loss: 0.0000e+00 - val_accuracy: 0.9960\n",
      "0.9958000183105469\n",
      "Epoch 132/700\n",
      "937/937 [==============================] - 10s 10ms/step - loss: 0.0112 - accuracy: 0.9977 - val_loss: 0.0456 - val_accuracy: 0.9947\n",
      "0.9952999949455261\n",
      "Epoch 133/700\n",
      "937/937 [==============================] - 9s 10ms/step - loss: 0.0112 - accuracy: 0.9977 - val_loss: 0.1408 - val_accuracy: 0.9959\n",
      "0.9962000250816345\n",
      "Epoch 134/700\n",
      "937/937 [==============================] - 9s 10ms/step - loss: 0.0096 - accuracy: 0.9979 - val_loss: 0.4288 - val_accuracy: 0.9953\n",
      "0.9954000115394592\n",
      "Epoch 135/700\n",
      "937/937 [==============================] - 10s 11ms/step - loss: 0.0127 - accuracy: 0.9978 - val_loss: 0.0505 - val_accuracy: 0.9948\n",
      "0.9943000078201294\n",
      "Epoch 136/700\n",
      "937/937 [==============================] - 9s 10ms/step - loss: 0.0118 - accuracy: 0.9977 - val_loss: 0.0104 - val_accuracy: 0.9949\n",
      "0.9951000213623047\n",
      "Epoch 137/700\n",
      "937/937 [==============================] - 9s 10ms/step - loss: 0.0120 - accuracy: 0.9976 - val_loss: 2.0489e-08 - val_accuracy: 0.9954\n",
      "0.9957000017166138\n",
      "Epoch 138/700\n",
      "937/937 [==============================] - 10s 10ms/step - loss: 0.0105 - accuracy: 0.9980 - val_loss: 1.1176e-08 - val_accuracy: 0.9953\n",
      "0.9952999949455261\n",
      "Epoch 139/700\n"
     ]
    },
    {
     "name": "stdout",
     "output_type": "stream",
     "text": [
      "937/937 [==============================] - 10s 10ms/step - loss: 0.0113 - accuracy: 0.9976 - val_loss: 0.0790 - val_accuracy: 0.9952\n",
      "0.994700014591217\n",
      "Epoch 140/700\n",
      "937/937 [==============================] - 9s 10ms/step - loss: 0.0130 - accuracy: 0.9976 - val_loss: 2.5704e-07 - val_accuracy: 0.9952\n",
      "0.9948999881744385\n",
      "Epoch 141/700\n",
      "937/937 [==============================] - 10s 10ms/step - loss: 0.0104 - accuracy: 0.9980 - val_loss: 0.0000e+00 - val_accuracy: 0.9955\n",
      "0.9952999949455261\n",
      "Epoch 142/700\n",
      "937/937 [==============================] - 10s 10ms/step - loss: 0.0099 - accuracy: 0.9980 - val_loss: 0.0962 - val_accuracy: 0.9950\n",
      "0.9951000213623047\n",
      "Epoch 143/700\n",
      "937/937 [==============================] - 9s 10ms/step - loss: 0.0097 - accuracy: 0.9980 - val_loss: 0.0532 - val_accuracy: 0.9956\n",
      "0.995199978351593\n",
      "Epoch 144/700\n",
      "937/937 [==============================] - 10s 10ms/step - loss: 0.0092 - accuracy: 0.9982 - val_loss: 1.4342e-06 - val_accuracy: 0.9951\n",
      "0.9952999949455261\n",
      "Epoch 145/700\n",
      "937/937 [==============================] - 10s 10ms/step - loss: 0.0111 - accuracy: 0.9978 - val_loss: 0.0000e+00 - val_accuracy: 0.9951\n",
      "0.9950000047683716\n",
      "Epoch 146/700\n",
      "937/937 [==============================] - 9s 10ms/step - loss: 0.0103 - accuracy: 0.9979 - val_loss: 0.2098 - val_accuracy: 0.9947\n",
      "0.9950000047683716\n",
      "Epoch 147/700\n",
      "937/937 [==============================] - 10s 10ms/step - loss: 0.0102 - accuracy: 0.9980 - val_loss: 7.6739e-07 - val_accuracy: 0.9964\n",
      "0.9962000250816345\n",
      "Epoch 148/700\n",
      "937/937 [==============================] - 9s 10ms/step - loss: 0.0095 - accuracy: 0.9980 - val_loss: 3.7705e-05 - val_accuracy: 0.9947\n",
      "0.9948999881744385\n",
      "Epoch 149/700\n",
      "937/937 [==============================] - 9s 10ms/step - loss: 0.0088 - accuracy: 0.9979 - val_loss: 0.0128 - val_accuracy: 0.9953\n",
      "0.9952999949455261\n",
      "Epoch 150/700\n",
      "937/937 [==============================] - 10s 11ms/step - loss: 0.0103 - accuracy: 0.9978 - val_loss: 0.0092 - val_accuracy: 0.9948\n",
      "0.9948999881744385\n",
      "Epoch 151/700\n",
      "937/937 [==============================] - 10s 11ms/step - loss: 0.0097 - accuracy: 0.9981 - val_loss: 0.0036 - val_accuracy: 0.9955\n",
      "0.9952999949455261\n",
      "Epoch 152/700\n",
      "937/937 [==============================] - 10s 10ms/step - loss: 0.0105 - accuracy: 0.9979 - val_loss: 0.0010 - val_accuracy: 0.9956\n",
      "0.9955000281333923\n",
      "Epoch 153/700\n",
      "937/937 [==============================] - 10s 11ms/step - loss: 0.0097 - accuracy: 0.9980 - val_loss: 1.8626e-08 - val_accuracy: 0.9953\n",
      "0.9954000115394592\n",
      "Epoch 154/700\n",
      "937/937 [==============================] - 10s 11ms/step - loss: 0.0087 - accuracy: 0.9983 - val_loss: 0.5765 - val_accuracy: 0.9953\n",
      "0.9954000115394592\n",
      "Epoch 155/700\n",
      "937/937 [==============================] - 10s 10ms/step - loss: 0.0089 - accuracy: 0.9984 - val_loss: 0.0000e+00 - val_accuracy: 0.9957\n",
      "0.9955999851226807\n",
      "Epoch 156/700\n",
      "937/937 [==============================] - 10s 11ms/step - loss: 0.0115 - accuracy: 0.9979 - val_loss: 0.0102 - val_accuracy: 0.9959\n",
      "0.9958999752998352\n",
      "Epoch 157/700\n",
      "937/937 [==============================] - 10s 10ms/step - loss: 0.0104 - accuracy: 0.9977 - val_loss: 0.0000e+00 - val_accuracy: 0.9964\n",
      "0.996399998664856\n",
      "Epoch 158/700\n",
      "937/937 [==============================] - 9s 10ms/step - loss: 0.0076 - accuracy: 0.9983 - val_loss: 0.0244 - val_accuracy: 0.9948\n",
      "0.9947999715805054\n",
      "Epoch 159/700\n",
      "937/937 [==============================] - 9s 10ms/step - loss: 0.0100 - accuracy: 0.9981 - val_loss: 0.0000e+00 - val_accuracy: 0.9954\n",
      "0.9954000115394592\n",
      "Epoch 160/700\n",
      "937/937 [==============================] - 9s 10ms/step - loss: 0.0110 - accuracy: 0.9979 - val_loss: 1.0617e-07 - val_accuracy: 0.9956\n",
      "0.9955999851226807\n",
      "Epoch 161/700\n",
      "937/937 [==============================] - 10s 11ms/step - loss: 0.0095 - accuracy: 0.9980 - val_loss: 0.0000e+00 - val_accuracy: 0.9948\n",
      "0.9948999881744385\n",
      "Epoch 162/700\n",
      "937/937 [==============================] - 10s 10ms/step - loss: 0.0090 - accuracy: 0.9981 - val_loss: 3.7253e-09 - val_accuracy: 0.9954\n",
      "0.9955000281333923\n",
      "Epoch 163/700\n",
      "937/937 [==============================] - 9s 10ms/step - loss: 0.0084 - accuracy: 0.9985 - val_loss: 5.1781e-07 - val_accuracy: 0.9951\n",
      "0.9950000047683716\n",
      "Epoch 164/700\n",
      "937/937 [==============================] - 10s 11ms/step - loss: 0.0106 - accuracy: 0.9978 - val_loss: 0.0034 - val_accuracy: 0.9957\n",
      "0.9957000017166138\n",
      "Epoch 165/700\n",
      "937/937 [==============================] - 10s 10ms/step - loss: 0.0115 - accuracy: 0.9981 - val_loss: 0.0000e+00 - val_accuracy: 0.9955\n",
      "0.9954000115394592\n",
      "Epoch 166/700\n",
      "937/937 [==============================] - 9s 10ms/step - loss: 0.0092 - accuracy: 0.9981 - val_loss: 1.3039e-08 - val_accuracy: 0.9953\n",
      "0.995199978351593\n",
      "Epoch 167/700\n",
      "937/937 [==============================] - 10s 11ms/step - loss: 0.0091 - accuracy: 0.9984 - val_loss: 0.2103 - val_accuracy: 0.9960\n",
      "0.9962000250816345\n",
      "Epoch 168/700\n",
      "937/937 [==============================] - 10s 10ms/step - loss: 0.0095 - accuracy: 0.9983 - val_loss: 0.0000e+00 - val_accuracy: 0.9961\n",
      "0.9958999752998352\n",
      "Epoch 169/700\n",
      "937/937 [==============================] - 10s 10ms/step - loss: 0.0077 - accuracy: 0.9986 - val_loss: 0.0000e+00 - val_accuracy: 0.9964\n",
      "0.9961000084877014\n",
      "Epoch 170/700\n",
      "937/937 [==============================] - 10s 11ms/step - loss: 0.0092 - accuracy: 0.9980 - val_loss: 0.0000e+00 - val_accuracy: 0.9956\n",
      "0.9954000115394592\n",
      "Epoch 171/700\n",
      "937/937 [==============================] - 10s 10ms/step - loss: 0.0073 - accuracy: 0.9983 - val_loss: 1.4472e-06 - val_accuracy: 0.9958\n",
      "0.9958000183105469\n",
      "Epoch 172/700\n",
      "937/937 [==============================] - 9s 10ms/step - loss: 0.0088 - accuracy: 0.9982 - val_loss: 0.0000e+00 - val_accuracy: 0.9963\n",
      "0.9962000250816345\n",
      "Epoch 173/700\n",
      "937/937 [==============================] - 10s 11ms/step - loss: 0.0090 - accuracy: 0.9983 - val_loss: 0.5169 - val_accuracy: 0.9955\n",
      "0.9955000281333923\n",
      "Epoch 174/700\n",
      "937/937 [==============================] - 10s 10ms/step - loss: 0.0114 - accuracy: 0.9981 - val_loss: 9.9000e-04 - val_accuracy: 0.9957\n",
      "0.9955000281333923\n",
      "Epoch 175/700\n",
      "937/937 [==============================] - 9s 10ms/step - loss: 0.0103 - accuracy: 0.9980 - val_loss: 1.8626e-09 - val_accuracy: 0.9957\n",
      "0.9954000115394592\n",
      "Epoch 176/700\n",
      "937/937 [==============================] - 10s 11ms/step - loss: 0.0093 - accuracy: 0.9980 - val_loss: 0.0000e+00 - val_accuracy: 0.9960\n",
      "0.9958999752998352\n",
      "Epoch 177/700\n",
      "937/937 [==============================] - 10s 10ms/step - loss: 0.0104 - accuracy: 0.9984 - val_loss: 0.1006 - val_accuracy: 0.9950\n",
      "0.9948999881744385\n",
      "Epoch 178/700\n",
      "937/937 [==============================] - 9s 10ms/step - loss: 0.0092 - accuracy: 0.9981 - val_loss: 0.0000e+00 - val_accuracy: 0.9962\n",
      "0.9958000183105469\n",
      "Epoch 179/700\n",
      "937/937 [==============================] - 10s 11ms/step - loss: 0.0090 - accuracy: 0.9981 - val_loss: 0.0036 - val_accuracy: 0.9954\n",
      "0.9957000017166138\n",
      "Epoch 180/700\n",
      "937/937 [==============================] - 10s 10ms/step - loss: 0.0114 - accuracy: 0.9979 - val_loss: 0.0121 - val_accuracy: 0.9959\n",
      "0.9957000017166138\n",
      "Epoch 181/700\n",
      "937/937 [==============================] - 9s 10ms/step - loss: 0.0111 - accuracy: 0.9981 - val_loss: 0.0021 - val_accuracy: 0.9955\n",
      "0.9958000183105469\n",
      "Epoch 182/700\n",
      "937/937 [==============================] - 10s 10ms/step - loss: 0.0102 - accuracy: 0.9981 - val_loss: 0.3453 - val_accuracy: 0.9945\n",
      "0.9948999881744385\n",
      "Epoch 183/700\n",
      "937/937 [==============================] - 10s 10ms/step - loss: 0.0097 - accuracy: 0.9982 - val_loss: 0.0000e+00 - val_accuracy: 0.9951\n",
      "0.9948999881744385\n",
      "Epoch 184/700\n",
      "937/937 [==============================] - 9s 10ms/step - loss: 0.0102 - accuracy: 0.9982 - val_loss: 0.0085 - val_accuracy: 0.9953\n",
      "0.9952999949455261\n",
      "Epoch 185/700\n",
      "937/937 [==============================] - 10s 10ms/step - loss: 0.0097 - accuracy: 0.9982 - val_loss: 0.7201 - val_accuracy: 0.9955\n",
      "0.9952999949455261\n",
      "Epoch 186/700\n",
      "937/937 [==============================] - 10s 10ms/step - loss: 0.0100 - accuracy: 0.9981 - val_loss: 0.5235 - val_accuracy: 0.9954\n",
      "0.9957000017166138\n",
      "Epoch 187/700\n",
      "937/937 [==============================] - 9s 10ms/step - loss: 0.0131 - accuracy: 0.9977 - val_loss: 1.1865e-06 - val_accuracy: 0.9950\n",
      "0.9951000213623047\n",
      "Epoch 188/700\n"
     ]
    },
    {
     "name": "stdout",
     "output_type": "stream",
     "text": [
      "937/937 [==============================] - 10s 11ms/step - loss: 0.0104 - accuracy: 0.9980 - val_loss: 0.0000e+00 - val_accuracy: 0.9962\n",
      "0.9962000250816345\n",
      "Epoch 189/700\n",
      "937/937 [==============================] - 10s 10ms/step - loss: 0.0115 - accuracy: 0.9978 - val_loss: 0.0000e+00 - val_accuracy: 0.9954\n",
      "0.9952999949455261\n",
      "Epoch 190/700\n",
      "937/937 [==============================] - 10s 10ms/step - loss: 0.0086 - accuracy: 0.9983 - val_loss: 2.0581e-06 - val_accuracy: 0.9953\n",
      "0.9954000115394592\n",
      "Epoch 191/700\n",
      "937/937 [==============================] - 10s 11ms/step - loss: 0.0089 - accuracy: 0.9983 - val_loss: 0.6333 - val_accuracy: 0.9962\n",
      "0.9955000281333923\n",
      "Epoch 192/700\n",
      "937/937 [==============================] - 10s 10ms/step - loss: 0.0101 - accuracy: 0.9984 - val_loss: 0.0000e+00 - val_accuracy: 0.9962\n",
      "0.9961000084877014\n",
      "Epoch 193/700\n",
      "937/937 [==============================] - 10s 10ms/step - loss: 0.0095 - accuracy: 0.9983 - val_loss: 0.2097 - val_accuracy: 0.9946\n",
      "0.9951000213623047\n",
      "Epoch 194/700\n",
      "937/937 [==============================] - 10s 11ms/step - loss: 0.0127 - accuracy: 0.9983 - val_loss: 0.0044 - val_accuracy: 0.9961\n",
      "0.9958999752998352\n",
      "Epoch 195/700\n",
      "937/937 [==============================] - 9s 10ms/step - loss: 0.0087 - accuracy: 0.9983 - val_loss: 0.0000e+00 - val_accuracy: 0.9958\n",
      "0.9952999949455261\n",
      "Epoch 196/700\n",
      "937/937 [==============================] - 9s 10ms/step - loss: 0.0117 - accuracy: 0.9981 - val_loss: 0.1442 - val_accuracy: 0.9945\n",
      "0.9945999979972839\n",
      "Epoch 197/700\n",
      "937/937 [==============================] - 10s 10ms/step - loss: 0.0119 - accuracy: 0.9978 - val_loss: 0.0000e+00 - val_accuracy: 0.9969\n",
      "0.9961000084877014\n",
      "Epoch 198/700\n",
      "937/937 [==============================] - 10s 10ms/step - loss: 0.0099 - accuracy: 0.9979 - val_loss: 0.0000e+00 - val_accuracy: 0.9953\n",
      "0.995199978351593\n",
      "Epoch 199/700\n",
      "937/937 [==============================] - 9s 10ms/step - loss: 0.0084 - accuracy: 0.9985 - val_loss: 0.0022 - val_accuracy: 0.9952\n",
      "0.9955999851226807\n",
      "Epoch 200/700\n",
      "937/937 [==============================] - 10s 10ms/step - loss: 0.0102 - accuracy: 0.9982 - val_loss: 0.0000e+00 - val_accuracy: 0.9962\n",
      "0.9961000084877014\n",
      "Epoch 201/700\n",
      "937/937 [==============================] - 10s 10ms/step - loss: 0.0088 - accuracy: 0.9984 - val_loss: 2.1793e-07 - val_accuracy: 0.9957\n",
      "0.9958000183105469\n",
      "Epoch 202/700\n",
      "937/937 [==============================] - 9s 10ms/step - loss: 0.0104 - accuracy: 0.9980 - val_loss: 1.1176e-06 - val_accuracy: 0.9962\n",
      "0.9957000017166138\n",
      "Epoch 203/700\n",
      "937/937 [==============================] - 10s 11ms/step - loss: 0.0110 - accuracy: 0.9982 - val_loss: 0.0000e+00 - val_accuracy: 0.9958\n",
      "0.9958000183105469\n",
      "Epoch 204/700\n",
      "937/937 [==============================] - 10s 10ms/step - loss: 0.0095 - accuracy: 0.9984 - val_loss: 0.0000e+00 - val_accuracy: 0.9957\n",
      "0.9958000183105469\n",
      "Epoch 205/700\n",
      "937/937 [==============================] - 10s 10ms/step - loss: 0.0085 - accuracy: 0.9985 - val_loss: 0.0000e+00 - val_accuracy: 0.9950\n",
      "0.9958000183105469\n",
      "Epoch 206/700\n",
      "937/937 [==============================] - 11s 11ms/step - loss: 0.0095 - accuracy: 0.9984 - val_loss: 1.2965e-04 - val_accuracy: 0.9968\n",
      "0.9958999752998352\n",
      "Epoch 207/700\n",
      "937/937 [==============================] - 10s 10ms/step - loss: 0.0094 - accuracy: 0.9985 - val_loss: 0.0000e+00 - val_accuracy: 0.9953\n",
      "0.9955999851226807\n",
      "Epoch 208/700\n",
      "937/937 [==============================] - 9s 10ms/step - loss: 0.0099 - accuracy: 0.9983 - val_loss: 4.7937e-06 - val_accuracy: 0.9954\n",
      "0.9955000281333923\n",
      "Epoch 209/700\n",
      "937/937 [==============================] - 10s 10ms/step - loss: 0.0106 - accuracy: 0.9981 - val_loss: 0.0532 - val_accuracy: 0.9959\n",
      "0.9945999979972839\n",
      "Epoch 210/700\n",
      "937/937 [==============================] - 10s 10ms/step - loss: 0.0082 - accuracy: 0.9986 - val_loss: 0.0014 - val_accuracy: 0.9946\n",
      "0.9952999949455261\n",
      "Epoch 211/700\n",
      "937/937 [==============================] - 9s 10ms/step - loss: 0.0101 - accuracy: 0.9983 - val_loss: 0.0000e+00 - val_accuracy: 0.9951\n",
      "0.9951000213623047\n",
      "Epoch 212/700\n",
      "937/937 [==============================] - 10s 10ms/step - loss: 0.0129 - accuracy: 0.9979 - val_loss: 0.2024 - val_accuracy: 0.9958\n",
      "0.9965000152587891\n",
      "Epoch 213/700\n",
      "937/937 [==============================] - 10s 10ms/step - loss: 0.0090 - accuracy: 0.9980 - val_loss: 0.0000e+00 - val_accuracy: 0.9962\n",
      "0.995199978351593\n",
      "Epoch 214/700\n",
      "937/937 [==============================] - 9s 10ms/step - loss: 0.0113 - accuracy: 0.9976 - val_loss: 0.0000e+00 - val_accuracy: 0.9956\n",
      "0.9959999918937683\n",
      "Epoch 215/700\n",
      "937/937 [==============================] - 10s 10ms/step - loss: 0.0091 - accuracy: 0.9983 - val_loss: 0.1158 - val_accuracy: 0.9957\n",
      "0.9954000115394592\n",
      "Epoch 216/700\n",
      "937/937 [==============================] - 10s 10ms/step - loss: 0.0094 - accuracy: 0.9984 - val_loss: 1.5646e-07 - val_accuracy: 0.9952\n",
      "0.9958999752998352\n",
      "Epoch 217/700\n",
      "937/937 [==============================] - 9s 10ms/step - loss: 0.0110 - accuracy: 0.9983 - val_loss: 0.2133 - val_accuracy: 0.9962\n",
      "0.9959999918937683\n",
      "Epoch 218/700\n",
      "937/937 [==============================] - 10s 10ms/step - loss: 0.0105 - accuracy: 0.9984 - val_loss: 0.0000e+00 - val_accuracy: 0.9957\n",
      "0.9952999949455261\n",
      "Epoch 219/700\n",
      "937/937 [==============================] - 10s 10ms/step - loss: 0.0108 - accuracy: 0.9981 - val_loss: 0.0731 - val_accuracy: 0.9955\n",
      "0.9957000017166138\n",
      "Epoch 220/700\n",
      "937/937 [==============================] - 9s 10ms/step - loss: 0.0093 - accuracy: 0.9982 - val_loss: 0.7261 - val_accuracy: 0.9953\n",
      "0.9952999949455261\n",
      "Epoch 221/700\n",
      "937/937 [==============================] - 10s 10ms/step - loss: 0.0102 - accuracy: 0.9981 - val_loss: 1.3339e-04 - val_accuracy: 0.9956\n",
      "0.9955999851226807\n",
      "Epoch 222/700\n",
      "937/937 [==============================] - 10s 10ms/step - loss: 0.0108 - accuracy: 0.9981 - val_loss: 7.4506e-09 - val_accuracy: 0.9963\n",
      "0.9961000084877014\n",
      "Epoch 223/700\n",
      "937/937 [==============================] - 9s 10ms/step - loss: 0.0079 - accuracy: 0.9988 - val_loss: 0.2835 - val_accuracy: 0.9964\n",
      "0.9962000250816345\n",
      "Epoch 224/700\n",
      "937/937 [==============================] - 10s 11ms/step - loss: 0.0082 - accuracy: 0.9986 - val_loss: 0.0000e+00 - val_accuracy: 0.9960\n",
      "0.9961000084877014\n",
      "Epoch 225/700\n",
      "937/937 [==============================] - 10s 10ms/step - loss: 0.0110 - accuracy: 0.9981 - val_loss: 1.8626e-09 - val_accuracy: 0.9970\n",
      "0.9965000152587891\n",
      "Epoch 226/700\n",
      "937/937 [==============================] - 9s 10ms/step - loss: 0.0118 - accuracy: 0.9980 - val_loss: 7.1915e-05 - val_accuracy: 0.9950\n",
      "0.995199978351593\n",
      "Epoch 227/700\n",
      "937/937 [==============================] - 10s 11ms/step - loss: 0.0090 - accuracy: 0.9984 - val_loss: 5.5879e-09 - val_accuracy: 0.9967\n",
      "0.9962999820709229\n",
      "Epoch 228/700\n",
      "937/937 [==============================] - 10s 10ms/step - loss: 0.0089 - accuracy: 0.9985 - val_loss: 0.0000e+00 - val_accuracy: 0.9960\n",
      "0.9957000017166138\n",
      "Epoch 229/700\n",
      "937/937 [==============================] - 9s 10ms/step - loss: 0.0102 - accuracy: 0.9981 - val_loss: 3.0356e-05 - val_accuracy: 0.9956\n",
      "0.9954000115394592\n",
      "Epoch 230/700\n",
      "937/937 [==============================] - 10s 10ms/step - loss: 0.0113 - accuracy: 0.9979 - val_loss: 6.5953e-04 - val_accuracy: 0.9953\n",
      "0.9955000281333923\n",
      "Epoch 231/700\n",
      "937/937 [==============================] - 10s 10ms/step - loss: 0.0113 - accuracy: 0.9979 - val_loss: 0.0034 - val_accuracy: 0.9953\n",
      "0.9954000115394592\n",
      "Epoch 232/700\n",
      "937/937 [==============================] - 9s 10ms/step - loss: 0.0095 - accuracy: 0.9984 - val_loss: 0.1065 - val_accuracy: 0.9948\n",
      "0.9951000213623047\n",
      "Epoch 233/700\n",
      "937/937 [==============================] - 10s 10ms/step - loss: 0.0104 - accuracy: 0.9983 - val_loss: 4.8645e-06 - val_accuracy: 0.9963\n",
      "0.9959999918937683\n",
      "Epoch 234/700\n",
      "937/937 [==============================] - 10s 10ms/step - loss: 0.0079 - accuracy: 0.9986 - val_loss: 1.8135e-05 - val_accuracy: 0.9954\n",
      "0.9957000017166138\n",
      "Epoch 235/700\n",
      "937/937 [==============================] - 9s 10ms/step - loss: 0.0070 - accuracy: 0.9986 - val_loss: 6.7055e-08 - val_accuracy: 0.9949\n",
      "0.9944999814033508\n",
      "Epoch 236/700\n",
      "937/937 [==============================] - 10s 10ms/step - loss: 0.0081 - accuracy: 0.9987 - val_loss: 9.1269e-08 - val_accuracy: 0.9963\n"
     ]
    },
    {
     "name": "stdout",
     "output_type": "stream",
     "text": [
      "0.9957000017166138\n",
      "Epoch 237/700\n",
      "937/937 [==============================] - 9s 10ms/step - loss: 0.0084 - accuracy: 0.9985 - val_loss: 0.0014 - val_accuracy: 0.9962\n",
      "0.9957000017166138\n",
      "Epoch 238/700\n",
      "937/937 [==============================] - 9s 10ms/step - loss: 0.0107 - accuracy: 0.9984 - val_loss: 7.7214e-06 - val_accuracy: 0.9951\n",
      "0.9944999814033508\n",
      "Epoch 239/700\n",
      "937/937 [==============================] - 10s 10ms/step - loss: 0.0102 - accuracy: 0.9984 - val_loss: 0.0198 - val_accuracy: 0.9963\n",
      "0.9958999752998352\n",
      "Epoch 240/700\n",
      "937/937 [==============================] - 10s 10ms/step - loss: 0.0085 - accuracy: 0.9984 - val_loss: 0.0000e+00 - val_accuracy: 0.9954\n",
      "0.9958000183105469\n",
      "Epoch 241/700\n",
      "937/937 [==============================] - 9s 10ms/step - loss: 0.0111 - accuracy: 0.9982 - val_loss: 0.0000e+00 - val_accuracy: 0.9949\n",
      "0.995199978351593\n",
      "Epoch 242/700\n",
      "937/937 [==============================] - 10s 11ms/step - loss: 0.0081 - accuracy: 0.9985 - val_loss: 0.0069 - val_accuracy: 0.9946\n",
      "0.994700014591217\n",
      "Epoch 243/700\n",
      "937/937 [==============================] - 10s 10ms/step - loss: 0.0107 - accuracy: 0.9982 - val_loss: 0.0000e+00 - val_accuracy: 0.9968\n",
      "0.9958000183105469\n",
      "Epoch 244/700\n",
      "937/937 [==============================] - 9s 10ms/step - loss: 0.0088 - accuracy: 0.9984 - val_loss: 0.1505 - val_accuracy: 0.9950\n",
      "0.9950000047683716\n",
      "Epoch 245/700\n",
      "937/937 [==============================] - 10s 10ms/step - loss: 0.0103 - accuracy: 0.9984 - val_loss: 1.9262e-04 - val_accuracy: 0.9957\n",
      "0.995199978351593\n",
      "Epoch 246/700\n",
      "937/937 [==============================] - 10s 10ms/step - loss: 0.0084 - accuracy: 0.9984 - val_loss: 0.1442 - val_accuracy: 0.9958\n",
      "0.9959999918937683\n",
      "Epoch 247/700\n",
      "937/937 [==============================] - 9s 10ms/step - loss: 0.0125 - accuracy: 0.9982 - val_loss: 0.0226 - val_accuracy: 0.9942\n",
      "0.9954000115394592\n",
      "Epoch 248/700\n",
      "937/937 [==============================] - 10s 10ms/step - loss: 0.0075 - accuracy: 0.9984 - val_loss: 0.0000e+00 - val_accuracy: 0.9946\n",
      "0.9952999949455261\n",
      "Epoch 249/700\n",
      "937/937 [==============================] - 10s 10ms/step - loss: 0.0105 - accuracy: 0.9981 - val_loss: 0.0000e+00 - val_accuracy: 0.9961\n",
      "0.9954000115394592\n",
      "Epoch 250/700\n",
      "937/937 [==============================] - 9s 10ms/step - loss: 0.0073 - accuracy: 0.9987 - val_loss: 3.3528e-08 - val_accuracy: 0.9947\n",
      "0.9951000213623047\n",
      "Epoch 251/700\n",
      "937/937 [==============================] - 10s 10ms/step - loss: 0.0137 - accuracy: 0.9980 - val_loss: 1.5209e-05 - val_accuracy: 0.9950\n",
      "0.995199978351593\n",
      "Epoch 252/700\n",
      "937/937 [==============================] - 10s 10ms/step - loss: 0.0098 - accuracy: 0.9982 - val_loss: 2.5378e-04 - val_accuracy: 0.9962\n",
      "0.9958000183105469\n",
      "Epoch 253/700\n",
      "937/937 [==============================] - 9s 10ms/step - loss: 0.0090 - accuracy: 0.9988 - val_loss: 0.0000e+00 - val_accuracy: 0.9949\n",
      "0.9951000213623047\n",
      "Epoch 254/700\n",
      "937/937 [==============================] - 10s 11ms/step - loss: 0.0131 - accuracy: 0.9979 - val_loss: 0.2253 - val_accuracy: 0.9970\n",
      "0.9962999820709229\n",
      "Epoch 255/700\n",
      "937/937 [==============================] - 10s 10ms/step - loss: 0.0105 - accuracy: 0.9985 - val_loss: 1.4901e-08 - val_accuracy: 0.9954\n",
      "0.9947999715805054\n",
      "Epoch 256/700\n",
      "937/937 [==============================] - 9s 10ms/step - loss: 0.0081 - accuracy: 0.9985 - val_loss: 0.0395 - val_accuracy: 0.9962\n",
      "0.9962000250816345\n",
      "Epoch 257/700\n",
      "937/937 [==============================] - 10s 11ms/step - loss: 0.0111 - accuracy: 0.9983 - val_loss: 0.0018 - val_accuracy: 0.9960\n",
      "0.9962999820709229\n",
      "Epoch 258/700\n",
      "937/937 [==============================] - 10s 10ms/step - loss: 0.0116 - accuracy: 0.9981 - val_loss: 0.4003 - val_accuracy: 0.9961\n",
      "0.9959999918937683\n",
      "Epoch 259/700\n",
      "937/937 [==============================] - 9s 10ms/step - loss: 0.0080 - accuracy: 0.9988 - val_loss: 0.0000e+00 - val_accuracy: 0.9962\n",
      "0.9952999949455261\n",
      "Epoch 260/700\n",
      "937/937 [==============================] - 10s 10ms/step - loss: 0.0099 - accuracy: 0.9985 - val_loss: 0.0000e+00 - val_accuracy: 0.9960\n",
      "0.9958999752998352\n",
      "Epoch 261/700\n",
      "937/937 [==============================] - 10s 10ms/step - loss: 0.0103 - accuracy: 0.9985 - val_loss: 1.8626e-09 - val_accuracy: 0.9952\n",
      "0.9952999949455261\n",
      "Epoch 262/700\n",
      "937/937 [==============================] - 9s 10ms/step - loss: 0.0092 - accuracy: 0.9984 - val_loss: 4.1817e-05 - val_accuracy: 0.9957\n",
      "0.9947999715805054\n",
      "Epoch 263/700\n",
      "937/937 [==============================] - 10s 10ms/step - loss: 0.0122 - accuracy: 0.9981 - val_loss: 0.0936 - val_accuracy: 0.9941\n",
      "0.994700014591217\n",
      "Epoch 264/700\n",
      "937/937 [==============================] - 10s 10ms/step - loss: 0.0109 - accuracy: 0.9984 - val_loss: 0.2236 - val_accuracy: 0.9959\n",
      "0.9957000017166138\n",
      "Epoch 265/700\n",
      "937/937 [==============================] - 9s 10ms/step - loss: 0.0073 - accuracy: 0.9986 - val_loss: 5.5134e-07 - val_accuracy: 0.9954\n",
      "0.9955000281333923\n",
      "Epoch 266/700\n",
      "937/937 [==============================] - 10s 10ms/step - loss: 0.0091 - accuracy: 0.9986 - val_loss: 0.2823 - val_accuracy: 0.9960\n",
      "0.9958999752998352\n",
      "Epoch 267/700\n",
      "937/937 [==============================] - 10s 10ms/step - loss: 0.0107 - accuracy: 0.9984 - val_loss: 4.3635e-04 - val_accuracy: 0.9952\n",
      "0.9957000017166138\n",
      "Epoch 268/700\n",
      "937/937 [==============================] - 9s 10ms/step - loss: 0.0105 - accuracy: 0.9983 - val_loss: 5.1408e-07 - val_accuracy: 0.9962\n",
      "0.9957000017166138\n",
      "Epoch 269/700\n",
      "937/937 [==============================] - 10s 10ms/step - loss: 0.0109 - accuracy: 0.9983 - val_loss: 0.0000e+00 - val_accuracy: 0.9944\n",
      "0.9950000047683716\n",
      "Epoch 270/700\n",
      "937/937 [==============================] - 10s 10ms/step - loss: 0.0088 - accuracy: 0.9985 - val_loss: 4.5634e-07 - val_accuracy: 0.9949\n",
      "0.9954000115394592\n",
      "Epoch 271/700\n",
      "937/937 [==============================] - 9s 10ms/step - loss: 0.0108 - accuracy: 0.9984 - val_loss: 0.2782 - val_accuracy: 0.9948\n",
      "0.995199978351593\n",
      "Epoch 272/700\n",
      "937/937 [==============================] - 10s 10ms/step - loss: 0.0118 - accuracy: 0.9983 - val_loss: 0.0000e+00 - val_accuracy: 0.9953\n",
      "0.995199978351593\n",
      "Epoch 273/700\n",
      "937/937 [==============================] - 10s 10ms/step - loss: 0.0109 - accuracy: 0.9980 - val_loss: 0.0011 - val_accuracy: 0.9951\n",
      "0.9948999881744385\n",
      "Epoch 274/700\n",
      "937/937 [==============================] - 9s 10ms/step - loss: 0.0078 - accuracy: 0.9986 - val_loss: 7.0055e-05 - val_accuracy: 0.9956\n",
      "0.9948999881744385\n",
      "Epoch 275/700\n",
      "937/937 [==============================] - 10s 10ms/step - loss: 0.0103 - accuracy: 0.9982 - val_loss: 0.1630 - val_accuracy: 0.9947\n",
      "0.995199978351593\n",
      "Epoch 276/700\n",
      "937/937 [==============================] - 9s 10ms/step - loss: 0.0084 - accuracy: 0.9985 - val_loss: 0.0000e+00 - val_accuracy: 0.9940\n",
      "0.9940000176429749\n",
      "Epoch 277/700\n",
      "937/937 [==============================] - 9s 10ms/step - loss: 0.0098 - accuracy: 0.9985 - val_loss: 1.8626e-09 - val_accuracy: 0.9959\n",
      "0.9951000213623047\n",
      "Epoch 278/700\n",
      "937/937 [==============================] - 10s 10ms/step - loss: 0.0128 - accuracy: 0.9982 - val_loss: 3.3528e-08 - val_accuracy: 0.9951\n",
      "0.9952999949455261\n",
      "Epoch 279/700\n",
      "937/937 [==============================] - 10s 10ms/step - loss: 0.0088 - accuracy: 0.9984 - val_loss: 4.8183e-04 - val_accuracy: 0.9936\n",
      "0.9945999979972839\n",
      "Epoch 280/700\n",
      "937/937 [==============================] - 10s 10ms/step - loss: 0.0104 - accuracy: 0.9986 - val_loss: 5.4017e-08 - val_accuracy: 0.9959\n",
      "0.9950000047683716\n",
      "Epoch 281/700\n",
      "937/937 [==============================] - 10s 10ms/step - loss: 0.0100 - accuracy: 0.9985 - val_loss: 0.0000e+00 - val_accuracy: 0.9951\n",
      "0.9954000115394592\n",
      "Epoch 282/700\n",
      "937/937 [==============================] - 10s 10ms/step - loss: 0.0092 - accuracy: 0.9986 - val_loss: 2.7084e-05 - val_accuracy: 0.9957\n",
      "0.995199978351593\n",
      "Epoch 283/700\n",
      "937/937 [==============================] - 10s 10ms/step - loss: 0.0125 - accuracy: 0.9985 - val_loss: 0.0038 - val_accuracy: 0.9956\n",
      "0.9962000250816345\n",
      "Epoch 284/700\n",
      "937/937 [==============================] - 10s 11ms/step - loss: 0.0105 - accuracy: 0.9982 - val_loss: 0.1178 - val_accuracy: 0.9951\n",
      "0.995199978351593\n",
      "Epoch 285/700\n",
      "937/937 [==============================] - 10s 10ms/step - loss: 0.0105 - accuracy: 0.9985 - val_loss: 0.0723 - val_accuracy: 0.9956\n"
     ]
    },
    {
     "name": "stdout",
     "output_type": "stream",
     "text": [
      "0.9954000115394592\n",
      "Epoch 286/700\n",
      "937/937 [==============================] - 9s 10ms/step - loss: 0.0097 - accuracy: 0.9985 - val_loss: 0.0000e+00 - val_accuracy: 0.9950\n",
      "0.995199978351593\n",
      "Epoch 287/700\n",
      "937/937 [==============================] - 10s 11ms/step - loss: 0.0110 - accuracy: 0.9982 - val_loss: 3.8049e-06 - val_accuracy: 0.9950\n",
      "0.9950000047683716\n",
      "Epoch 288/700\n",
      "937/937 [==============================] - 10s 10ms/step - loss: 0.0101 - accuracy: 0.9983 - val_loss: 0.0000e+00 - val_accuracy: 0.9954\n",
      "0.9950000047683716\n",
      "Epoch 289/700\n",
      "937/937 [==============================] - 10s 10ms/step - loss: 0.0100 - accuracy: 0.9980 - val_loss: 3.6800e-05 - val_accuracy: 0.9952\n",
      "0.9957000017166138\n",
      "Epoch 290/700\n",
      "937/937 [==============================] - 10s 11ms/step - loss: 0.0135 - accuracy: 0.9977 - val_loss: 5.5685e-04 - val_accuracy: 0.9968\n",
      "0.9965000152587891\n",
      "Epoch 291/700\n",
      "937/937 [==============================] - 10s 10ms/step - loss: 0.0129 - accuracy: 0.9978 - val_loss: 0.0000e+00 - val_accuracy: 0.9968\n",
      "0.9965999722480774\n",
      "Epoch 292/700\n",
      "937/937 [==============================] - 10s 10ms/step - loss: 0.0094 - accuracy: 0.9983 - val_loss: 0.0284 - val_accuracy: 0.9948\n",
      "0.9948999881744385\n",
      "Epoch 293/700\n",
      "937/937 [==============================] - 10s 11ms/step - loss: 0.0115 - accuracy: 0.9983 - val_loss: 0.2129 - val_accuracy: 0.9937\n",
      "0.9944000244140625\n",
      "Epoch 294/700\n",
      "937/937 [==============================] - 10s 11ms/step - loss: 0.0104 - accuracy: 0.9984 - val_loss: 0.0675 - val_accuracy: 0.9957\n",
      "0.9954000115394592\n",
      "Epoch 295/700\n",
      "937/937 [==============================] - 9s 10ms/step - loss: 0.0108 - accuracy: 0.9985 - val_loss: 5.5879e-09 - val_accuracy: 0.9958\n",
      "0.995199978351593\n",
      "Epoch 296/700\n",
      "937/937 [==============================] - 10s 10ms/step - loss: 0.0084 - accuracy: 0.9988 - val_loss: 8.9407e-08 - val_accuracy: 0.9969\n",
      "0.9966999888420105\n",
      "Epoch 297/700\n",
      "937/937 [==============================] - 10s 10ms/step - loss: 0.0083 - accuracy: 0.9986 - val_loss: 0.0000e+00 - val_accuracy: 0.9950\n",
      "0.9952999949455261\n",
      "Epoch 298/700\n",
      "937/937 [==============================] - 9s 10ms/step - loss: 0.0097 - accuracy: 0.9986 - val_loss: 0.0000e+00 - val_accuracy: 0.9959\n",
      "0.9958999752998352\n",
      "Epoch 299/700\n",
      "937/937 [==============================] - 10s 10ms/step - loss: 0.0120 - accuracy: 0.9982 - val_loss: 0.0014 - val_accuracy: 0.9955\n",
      "0.995199978351593\n",
      "Epoch 300/700\n",
      "937/937 [==============================] - 10s 10ms/step - loss: 0.0074 - accuracy: 0.9987 - val_loss: 0.0000e+00 - val_accuracy: 0.9956\n",
      "0.9958000183105469\n",
      "Epoch 301/700\n",
      "937/937 [==============================] - 9s 10ms/step - loss: 0.0100 - accuracy: 0.9986 - val_loss: 0.0000e+00 - val_accuracy: 0.9966\n",
      "0.9965999722480774\n",
      "Epoch 302/700\n",
      "937/937 [==============================] - 10s 11ms/step - loss: 0.0119 - accuracy: 0.9982 - val_loss: 0.0000e+00 - val_accuracy: 0.9953\n",
      "0.994700014591217\n",
      "Epoch 303/700\n",
      "937/937 [==============================] - 10s 10ms/step - loss: 0.0086 - accuracy: 0.9984 - val_loss: 1.4901e-08 - val_accuracy: 0.9963\n",
      "0.9962000250816345\n",
      "Epoch 304/700\n",
      "937/937 [==============================] - 9s 10ms/step - loss: 0.0117 - accuracy: 0.9983 - val_loss: 0.0219 - val_accuracy: 0.9949\n",
      "0.9954000115394592\n",
      "Epoch 305/700\n",
      "937/937 [==============================] - 10s 10ms/step - loss: 0.0102 - accuracy: 0.9984 - val_loss: 1.0617e-07 - val_accuracy: 0.9960\n",
      "0.9958000183105469\n",
      "Epoch 306/700\n",
      "937/937 [==============================] - 10s 10ms/step - loss: 0.0086 - accuracy: 0.9985 - val_loss: 0.2603 - val_accuracy: 0.9958\n",
      "0.9961000084877014\n",
      "Epoch 307/700\n",
      "937/937 [==============================] - 9s 10ms/step - loss: 0.0086 - accuracy: 0.9983 - val_loss: 1.8626e-09 - val_accuracy: 0.9950\n",
      "0.9944000244140625\n",
      "Epoch 308/700\n",
      "937/937 [==============================] - 10s 10ms/step - loss: 0.0117 - accuracy: 0.9981 - val_loss: 0.0000e+00 - val_accuracy: 0.9951\n",
      "0.9948999881744385\n",
      "Epoch 309/700\n",
      "937/937 [==============================] - 10s 10ms/step - loss: 0.0112 - accuracy: 0.9984 - val_loss: 0.0000e+00 - val_accuracy: 0.9954\n",
      "0.9952999949455261\n",
      "Epoch 310/700\n",
      "937/937 [==============================] - 9s 10ms/step - loss: 0.0110 - accuracy: 0.9982 - val_loss: 0.0000e+00 - val_accuracy: 0.9966\n",
      "0.9965000152587891\n",
      "Epoch 311/700\n",
      "937/937 [==============================] - 10s 10ms/step - loss: 0.0106 - accuracy: 0.9984 - val_loss: 0.0000e+00 - val_accuracy: 0.9956\n",
      "0.9957000017166138\n",
      "Epoch 312/700\n",
      "937/937 [==============================] - 10s 10ms/step - loss: 0.0095 - accuracy: 0.9986 - val_loss: 0.2007 - val_accuracy: 0.9951\n",
      "0.9951000213623047\n",
      "Epoch 313/700\n",
      "937/937 [==============================] - 9s 10ms/step - loss: 0.0091 - accuracy: 0.9988 - val_loss: 0.0000e+00 - val_accuracy: 0.9948\n",
      "0.994700014591217\n",
      "Epoch 314/700\n",
      "937/937 [==============================] - 10s 11ms/step - loss: 0.0087 - accuracy: 0.9985 - val_loss: 0.0000e+00 - val_accuracy: 0.9955\n",
      "0.9955000281333923\n",
      "Epoch 315/700\n",
      "937/937 [==============================] - 10s 10ms/step - loss: 0.0070 - accuracy: 0.9987 - val_loss: 1.3882e-05 - val_accuracy: 0.9958\n",
      "0.9958000183105469\n",
      "Epoch 316/700\n",
      "937/937 [==============================] - 10s 11ms/step - loss: 0.0099 - accuracy: 0.9984 - val_loss: 0.0000e+00 - val_accuracy: 0.9958\n",
      "0.9957000017166138\n",
      "Epoch 317/700\n",
      "937/937 [==============================] - 10s 10ms/step - loss: 0.0070 - accuracy: 0.9987 - val_loss: 5.6251e-07 - val_accuracy: 0.9959\n",
      "0.9958999752998352\n",
      "Epoch 318/700\n",
      "937/937 [==============================] - 10s 10ms/step - loss: 0.0121 - accuracy: 0.9984 - val_loss: 0.0000e+00 - val_accuracy: 0.9954\n",
      "0.9954000115394592\n",
      "Epoch 319/700\n",
      "937/937 [==============================] - 10s 11ms/step - loss: 0.0107 - accuracy: 0.9984 - val_loss: 0.0000e+00 - val_accuracy: 0.9957\n",
      "0.9955999851226807\n",
      "Epoch 320/700\n",
      "937/937 [==============================] - 10s 10ms/step - loss: 0.0084 - accuracy: 0.9985 - val_loss: 3.7253e-09 - val_accuracy: 0.9958\n",
      "0.9958999752998352\n",
      "Epoch 321/700\n",
      "937/937 [==============================] - 10s 10ms/step - loss: 0.0072 - accuracy: 0.9988 - val_loss: 0.1385 - val_accuracy: 0.9958\n",
      "0.9954000115394592\n",
      "Epoch 322/700\n",
      "937/937 [==============================] - 10s 10ms/step - loss: 0.0072 - accuracy: 0.9987 - val_loss: 1.1238e-04 - val_accuracy: 0.9961\n",
      "0.9961000084877014\n",
      "Epoch 323/700\n",
      "937/937 [==============================] - 10s 11ms/step - loss: 0.0106 - accuracy: 0.9985 - val_loss: 0.0043 - val_accuracy: 0.9954\n",
      "0.9952999949455261\n",
      "Epoch 324/700\n",
      "937/937 [==============================] - 9s 10ms/step - loss: 0.0069 - accuracy: 0.9986 - val_loss: 0.1934 - val_accuracy: 0.9953\n",
      "0.9950000047683716\n",
      "Epoch 325/700\n",
      "937/937 [==============================] - 10s 11ms/step - loss: 0.0079 - accuracy: 0.9988 - val_loss: 0.0000e+00 - val_accuracy: 0.9966\n",
      "0.9965000152587891\n",
      "Epoch 326/700\n",
      "937/937 [==============================] - 10s 11ms/step - loss: 0.0102 - accuracy: 0.9983 - val_loss: 0.0000e+00 - val_accuracy: 0.9957\n",
      "0.9955999851226807\n",
      "Epoch 327/700\n",
      "937/937 [==============================] - 10s 11ms/step - loss: 0.0122 - accuracy: 0.9984 - val_loss: 0.0000e+00 - val_accuracy: 0.9951\n",
      "0.9947999715805054\n",
      "Epoch 328/700\n",
      "937/937 [==============================] - 10s 10ms/step - loss: 0.0091 - accuracy: 0.9984 - val_loss: 0.4224 - val_accuracy: 0.9953\n",
      "0.9955000281333923\n",
      "Epoch 329/700\n",
      "937/937 [==============================] - 10s 10ms/step - loss: 0.0092 - accuracy: 0.9984 - val_loss: 0.0062 - val_accuracy: 0.9954\n",
      "0.9955000281333923\n",
      "Epoch 330/700\n",
      "937/937 [==============================] - 10s 10ms/step - loss: 0.0093 - accuracy: 0.9986 - val_loss: 0.0000e+00 - val_accuracy: 0.9938\n",
      "0.9937000274658203\n",
      "Epoch 331/700\n",
      "937/937 [==============================] - 10s 11ms/step - loss: 0.0091 - accuracy: 0.9986 - val_loss: 9.3132e-09 - val_accuracy: 0.9948\n",
      "0.9951000213623047\n",
      "Epoch 332/700\n",
      "937/937 [==============================] - 10s 10ms/step - loss: 0.0109 - accuracy: 0.9984 - val_loss: 0.0000e+00 - val_accuracy: 0.9946\n",
      "0.9944000244140625\n",
      "Epoch 333/700\n",
      "937/937 [==============================] - 9s 10ms/step - loss: 0.0103 - accuracy: 0.9984 - val_loss: 0.3521 - val_accuracy: 0.9959\n",
      "0.9958999752998352\n",
      "Epoch 334/700\n"
     ]
    },
    {
     "name": "stdout",
     "output_type": "stream",
     "text": [
      "937/937 [==============================] - 10s 10ms/step - loss: 0.0092 - accuracy: 0.9983 - val_loss: 2.5747e-05 - val_accuracy: 0.9947\n",
      "0.9950000047683716\n",
      "Epoch 335/700\n",
      "937/937 [==============================] - 10s 10ms/step - loss: 0.0119 - accuracy: 0.9982 - val_loss: 2.2538e-07 - val_accuracy: 0.9955\n",
      "0.9955000281333923\n",
      "Epoch 336/700\n",
      "937/937 [==============================] - 9s 10ms/step - loss: 0.0111 - accuracy: 0.9983 - val_loss: 1.1735e-07 - val_accuracy: 0.9962\n",
      "0.9955999851226807\n",
      "Epoch 337/700\n",
      "937/937 [==============================] - 10s 10ms/step - loss: 0.0098 - accuracy: 0.9984 - val_loss: 0.0000e+00 - val_accuracy: 0.9956\n",
      "0.9957000017166138\n",
      "Epoch 338/700\n",
      "937/937 [==============================] - 10s 10ms/step - loss: 0.0104 - accuracy: 0.9985 - val_loss: 6.2956e-07 - val_accuracy: 0.9953\n",
      "0.9951000213623047\n",
      "Epoch 339/700\n",
      "937/937 [==============================] - 9s 10ms/step - loss: 0.0098 - accuracy: 0.9985 - val_loss: 0.0000e+00 - val_accuracy: 0.9955\n",
      "0.9955999851226807\n",
      "Epoch 340/700\n",
      "937/937 [==============================] - 10s 11ms/step - loss: 0.0085 - accuracy: 0.9985 - val_loss: 0.0000e+00 - val_accuracy: 0.9944\n",
      "0.9947999715805054\n",
      "Epoch 341/700\n",
      "937/937 [==============================] - 10s 10ms/step - loss: 0.0110 - accuracy: 0.9983 - val_loss: 3.7253e-09 - val_accuracy: 0.9961\n",
      "0.9957000017166138\n",
      "Epoch 342/700\n",
      "937/937 [==============================] - 9s 10ms/step - loss: 0.0064 - accuracy: 0.9991 - val_loss: 0.0000e+00 - val_accuracy: 0.9967\n",
      "0.9966999888420105\n",
      "Epoch 343/700\n",
      "937/937 [==============================] - 10s 10ms/step - loss: 0.0081 - accuracy: 0.9988 - val_loss: 0.3437 - val_accuracy: 0.9955\n",
      "0.9955999851226807\n",
      "Epoch 344/700\n",
      "937/937 [==============================] - 10s 10ms/step - loss: 0.0071 - accuracy: 0.9988 - val_loss: 0.0000e+00 - val_accuracy: 0.9952\n",
      "0.9955999851226807\n",
      "Epoch 345/700\n",
      "937/937 [==============================] - 10s 10ms/step - loss: 0.0104 - accuracy: 0.9985 - val_loss: 2.1048e-07 - val_accuracy: 0.9959\n",
      "0.9958000183105469\n",
      "Epoch 346/700\n",
      "937/937 [==============================] - 10s 11ms/step - loss: 0.0092 - accuracy: 0.9986 - val_loss: 0.0000e+00 - val_accuracy: 0.9951\n",
      "0.9950000047683716\n",
      "Epoch 347/700\n",
      "937/937 [==============================] - 10s 10ms/step - loss: 0.0083 - accuracy: 0.9987 - val_loss: 8.2939e-04 - val_accuracy: 0.9954\n",
      "0.9954000115394592\n",
      "Epoch 348/700\n",
      "937/937 [==============================] - 10s 10ms/step - loss: 0.0064 - accuracy: 0.9989 - val_loss: 0.0000e+00 - val_accuracy: 0.9956\n",
      "0.9951000213623047\n",
      "Epoch 349/700\n",
      "937/937 [==============================] - 10s 11ms/step - loss: 0.0086 - accuracy: 0.9986 - val_loss: 0.0000e+00 - val_accuracy: 0.9950\n",
      "0.9948999881744385\n",
      "Epoch 350/700\n",
      "937/937 [==============================] - 10s 11ms/step - loss: 0.0090 - accuracy: 0.9988 - val_loss: 1.5763e-04 - val_accuracy: 0.9949\n",
      "0.995199978351593\n",
      "Epoch 351/700\n",
      "937/937 [==============================] - 10s 10ms/step - loss: 0.0080 - accuracy: 0.9987 - val_loss: 0.0012 - val_accuracy: 0.9956\n",
      "0.9955999851226807\n",
      "Epoch 352/700\n",
      "937/937 [==============================] - 10s 11ms/step - loss: 0.0099 - accuracy: 0.9984 - val_loss: 0.0041 - val_accuracy: 0.9953\n",
      "0.9952999949455261\n",
      "Epoch 353/700\n",
      "937/937 [==============================] - 10s 11ms/step - loss: 0.0073 - accuracy: 0.9987 - val_loss: 0.1809 - val_accuracy: 0.9953\n",
      "0.9954000115394592\n",
      "Epoch 354/700\n",
      "937/937 [==============================] - 10s 10ms/step - loss: 0.0103 - accuracy: 0.9986 - val_loss: 0.0025 - val_accuracy: 0.9956\n",
      "0.9955000281333923\n",
      "Epoch 355/700\n",
      "937/937 [==============================] - 10s 11ms/step - loss: 0.0074 - accuracy: 0.9988 - val_loss: 0.2689 - val_accuracy: 0.9962\n",
      "0.9951000213623047\n",
      "Epoch 356/700\n",
      "937/937 [==============================] - 10s 11ms/step - loss: 0.0084 - accuracy: 0.9986 - val_loss: 0.0182 - val_accuracy: 0.9961\n",
      "0.9962999820709229\n",
      "Epoch 357/700\n",
      "937/937 [==============================] - 10s 10ms/step - loss: 0.0124 - accuracy: 0.9983 - val_loss: 0.0000e+00 - val_accuracy: 0.9954\n",
      "0.9954000115394592\n",
      "Epoch 358/700\n",
      "937/937 [==============================] - 10s 11ms/step - loss: 0.0072 - accuracy: 0.9988 - val_loss: 0.3025 - val_accuracy: 0.9960\n",
      "0.9959999918937683\n",
      "Epoch 359/700\n",
      "937/937 [==============================] - 10s 11ms/step - loss: 0.0091 - accuracy: 0.9985 - val_loss: 1.2073e-05 - val_accuracy: 0.9956\n",
      "0.9958999752998352\n",
      "Epoch 360/700\n",
      "937/937 [==============================] - 10s 10ms/step - loss: 0.0091 - accuracy: 0.9986 - val_loss: 0.3413 - val_accuracy: 0.9955\n",
      "0.9958000183105469\n",
      "Epoch 361/700\n",
      "937/937 [==============================] - 10s 10ms/step - loss: 0.0092 - accuracy: 0.9985 - val_loss: 4.4703e-08 - val_accuracy: 0.9960\n",
      "0.9965999722480774\n",
      "Epoch 362/700\n",
      "937/937 [==============================] - 10s 10ms/step - loss: 0.0104 - accuracy: 0.9986 - val_loss: 7.6368e-06 - val_accuracy: 0.9948\n",
      "0.9943000078201294\n",
      "Epoch 363/700\n",
      "937/937 [==============================] - 9s 10ms/step - loss: 0.0106 - accuracy: 0.9984 - val_loss: 0.0686 - val_accuracy: 0.9963\n",
      "0.9968000054359436\n",
      "Epoch 364/700\n",
      "937/937 [==============================] - 10s 10ms/step - loss: 0.0102 - accuracy: 0.9985 - val_loss: 1.0058e-07 - val_accuracy: 0.9950\n",
      "0.9950000047683716\n",
      "Epoch 365/700\n",
      "937/937 [==============================] - 10s 10ms/step - loss: 0.0116 - accuracy: 0.9987 - val_loss: 0.0012 - val_accuracy: 0.9961\n",
      "0.9959999918937683\n",
      "Epoch 366/700\n",
      "937/937 [==============================] - 9s 10ms/step - loss: 0.0119 - accuracy: 0.9984 - val_loss: 3.5390e-08 - val_accuracy: 0.9945\n",
      "0.9948999881744385\n",
      "Epoch 367/700\n",
      "937/937 [==============================] - 10s 10ms/step - loss: 0.0088 - accuracy: 0.9986 - val_loss: 0.5361 - val_accuracy: 0.9958\n",
      "0.9962999820709229\n",
      "Epoch 368/700\n",
      "937/937 [==============================] - 10s 10ms/step - loss: 0.0100 - accuracy: 0.9988 - val_loss: 0.0000e+00 - val_accuracy: 0.9969\n",
      "0.9966999888420105\n",
      "Epoch 369/700\n",
      "937/937 [==============================] - 10s 10ms/step - loss: 0.0106 - accuracy: 0.9984 - val_loss: 0.0734 - val_accuracy: 0.9957\n",
      "0.995199978351593\n",
      "Epoch 370/700\n",
      "937/937 [==============================] - 10s 10ms/step - loss: 0.0123 - accuracy: 0.9984 - val_loss: 0.0012 - val_accuracy: 0.9934\n",
      "0.9940999746322632\n",
      "Epoch 371/700\n",
      "937/937 [==============================] - 10s 11ms/step - loss: 0.0090 - accuracy: 0.9985 - val_loss: 1.8626e-09 - val_accuracy: 0.9949\n",
      "0.9950000047683716\n",
      "Epoch 372/700\n",
      "937/937 [==============================] - 10s 10ms/step - loss: 0.0105 - accuracy: 0.9985 - val_loss: 1.9979e-05 - val_accuracy: 0.9949\n",
      "0.9945999979972839\n",
      "Epoch 373/700\n",
      "937/937 [==============================] - 10s 10ms/step - loss: 0.0074 - accuracy: 0.9989 - val_loss: 7.5960e-05 - val_accuracy: 0.9962\n",
      "0.9958999752998352\n",
      "Epoch 374/700\n",
      "937/937 [==============================] - 10s 10ms/step - loss: 0.0098 - accuracy: 0.9984 - val_loss: 0.0391 - val_accuracy: 0.9945\n",
      "0.9947999715805054\n",
      "Epoch 375/700\n",
      "937/937 [==============================] - 10s 10ms/step - loss: 0.0109 - accuracy: 0.9984 - val_loss: 0.0000e+00 - val_accuracy: 0.9960\n",
      "0.9957000017166138\n",
      "Epoch 376/700\n",
      "937/937 [==============================] - 10s 10ms/step - loss: 0.0106 - accuracy: 0.9985 - val_loss: 0.1086 - val_accuracy: 0.9967\n",
      "0.9955000281333923\n",
      "Epoch 377/700\n",
      "937/937 [==============================] - 10s 10ms/step - loss: 0.0102 - accuracy: 0.9986 - val_loss: 2.4104e-04 - val_accuracy: 0.9958\n",
      "0.9962999820709229\n",
      "Epoch 378/700\n",
      "937/937 [==============================] - 9s 10ms/step - loss: 0.0078 - accuracy: 0.9987 - val_loss: 0.0000e+00 - val_accuracy: 0.9960\n",
      "0.9961000084877014\n",
      "Epoch 379/700\n",
      "937/937 [==============================] - 10s 10ms/step - loss: 0.0098 - accuracy: 0.9986 - val_loss: 0.0054 - val_accuracy: 0.9953\n",
      "0.9954000115394592\n",
      "Epoch 380/700\n",
      "937/937 [==============================] - 10s 10ms/step - loss: 0.0105 - accuracy: 0.9986 - val_loss: 0.0000e+00 - val_accuracy: 0.9954\n",
      "0.9958000183105469\n",
      "Epoch 381/700\n",
      "937/937 [==============================] - 10s 10ms/step - loss: 0.0096 - accuracy: 0.9986 - val_loss: 0.0877 - val_accuracy: 0.9949\n",
      "0.9948999881744385\n",
      "Epoch 382/700\n",
      "937/937 [==============================] - 10s 11ms/step - loss: 0.0107 - accuracy: 0.9987 - val_loss: 0.2487 - val_accuracy: 0.9957\n"
     ]
    },
    {
     "name": "stdout",
     "output_type": "stream",
     "text": [
      "0.9958000183105469\n",
      "Epoch 383/700\n",
      "937/937 [==============================] - 10s 11ms/step - loss: 0.0115 - accuracy: 0.9984 - val_loss: 0.0000e+00 - val_accuracy: 0.9960\n",
      "0.9955999851226807\n",
      "Epoch 384/700\n",
      "937/937 [==============================] - 10s 10ms/step - loss: 0.0092 - accuracy: 0.9986 - val_loss: 0.3350 - val_accuracy: 0.9956\n",
      "0.9952999949455261\n",
      "Epoch 385/700\n",
      "937/937 [==============================] - 10s 11ms/step - loss: 0.0075 - accuracy: 0.9990 - val_loss: 0.0000e+00 - val_accuracy: 0.9941\n",
      "0.9947999715805054\n",
      "Epoch 386/700\n",
      "937/937 [==============================] - 10s 11ms/step - loss: 0.0102 - accuracy: 0.9987 - val_loss: 0.0000e+00 - val_accuracy: 0.9947\n",
      "0.9948999881744385\n",
      "Epoch 387/700\n",
      "937/937 [==============================] - 10s 11ms/step - loss: 0.0118 - accuracy: 0.9982 - val_loss: 1.3039e-08 - val_accuracy: 0.9953\n",
      "0.9954000115394592\n",
      "Epoch 388/700\n",
      "937/937 [==============================] - 11s 11ms/step - loss: 0.0086 - accuracy: 0.9985 - val_loss: 3.3714e-07 - val_accuracy: 0.9956\n",
      "0.9948999881744385\n",
      "Epoch 389/700\n",
      "937/937 [==============================] - 10s 11ms/step - loss: 0.0089 - accuracy: 0.9987 - val_loss: 0.0000e+00 - val_accuracy: 0.9967\n",
      "0.9962999820709229\n",
      "Epoch 390/700\n",
      "937/937 [==============================] - 10s 11ms/step - loss: 0.0110 - accuracy: 0.9985 - val_loss: 2.0533e-05 - val_accuracy: 0.9961\n",
      "0.9962999820709229\n",
      "Epoch 391/700\n",
      "937/937 [==============================] - 10s 11ms/step - loss: 0.0090 - accuracy: 0.9986 - val_loss: 0.0000e+00 - val_accuracy: 0.9958\n",
      "0.9959999918937683\n",
      "Epoch 392/700\n",
      "937/937 [==============================] - 10s 11ms/step - loss: 0.0092 - accuracy: 0.9988 - val_loss: 0.0000e+00 - val_accuracy: 0.9958\n",
      "0.9957000017166138\n",
      "Epoch 393/700\n",
      "937/937 [==============================] - 10s 11ms/step - loss: 0.0066 - accuracy: 0.9991 - val_loss: 0.6646 - val_accuracy: 0.9961\n",
      "0.9962000250816345\n",
      "Epoch 394/700\n",
      "937/937 [==============================] - 10s 11ms/step - loss: 0.0085 - accuracy: 0.9987 - val_loss: 0.0000e+00 - val_accuracy: 0.9943\n",
      "0.9944000244140625\n",
      "Epoch 395/700\n",
      "937/937 [==============================] - 10s 11ms/step - loss: 0.0094 - accuracy: 0.9988 - val_loss: 8.8510e-05 - val_accuracy: 0.9948\n",
      "0.994700014591217\n",
      "Epoch 396/700\n",
      "937/937 [==============================] - 10s 10ms/step - loss: 0.0071 - accuracy: 0.9989 - val_loss: 1.3597e-07 - val_accuracy: 0.9963\n",
      "0.9957000017166138\n",
      "Epoch 397/700\n",
      "937/937 [==============================] - 10s 11ms/step - loss: 0.0075 - accuracy: 0.9987 - val_loss: 0.0000e+00 - val_accuracy: 0.9951\n",
      "0.9955000281333923\n",
      "Epoch 398/700\n",
      "937/937 [==============================] - 10s 10ms/step - loss: 0.0084 - accuracy: 0.9989 - val_loss: 1.0911e-05 - val_accuracy: 0.9958\n",
      "0.9961000084877014\n",
      "Epoch 399/700\n",
      "937/937 [==============================] - 10s 10ms/step - loss: 0.0104 - accuracy: 0.9984 - val_loss: 0.0000e+00 - val_accuracy: 0.9953\n",
      "0.9947999715805054\n",
      "Epoch 400/700\n",
      "937/937 [==============================] - 10s 10ms/step - loss: 0.0093 - accuracy: 0.9986 - val_loss: 0.0000e+00 - val_accuracy: 0.9958\n",
      "0.9957000017166138\n",
      "Epoch 401/700\n",
      "937/937 [==============================] - 10s 11ms/step - loss: 0.0115 - accuracy: 0.9984 - val_loss: 0.0000e+00 - val_accuracy: 0.9943\n",
      "0.9951000213623047\n",
      "Epoch 402/700\n",
      "937/937 [==============================] - 10s 10ms/step - loss: 0.0104 - accuracy: 0.9985 - val_loss: 0.0000e+00 - val_accuracy: 0.9966\n",
      "0.996399998664856\n",
      "Epoch 403/700\n",
      "937/937 [==============================] - 10s 10ms/step - loss: 0.0088 - accuracy: 0.9985 - val_loss: 2.1793e-07 - val_accuracy: 0.9958\n",
      "0.9959999918937683\n",
      "Epoch 404/700\n",
      "937/937 [==============================] - 10s 11ms/step - loss: 0.0131 - accuracy: 0.9983 - val_loss: 6.5564e-07 - val_accuracy: 0.9948\n",
      "0.9944000244140625\n",
      "Epoch 405/700\n",
      "937/937 [==============================] - 10s 11ms/step - loss: 0.0112 - accuracy: 0.9983 - val_loss: 0.0000e+00 - val_accuracy: 0.9966\n",
      "0.9961000084877014\n",
      "Epoch 406/700\n",
      "937/937 [==============================] - 10s 11ms/step - loss: 0.0094 - accuracy: 0.9987 - val_loss: 0.0108 - val_accuracy: 0.9967\n",
      "0.9962000250816345\n",
      "Epoch 407/700\n",
      "937/937 [==============================] - 10s 11ms/step - loss: 0.0067 - accuracy: 0.9991 - val_loss: 0.2651 - val_accuracy: 0.9952\n",
      "0.9955999851226807\n",
      "Epoch 408/700\n",
      "937/937 [==============================] - 10s 10ms/step - loss: 0.0081 - accuracy: 0.9989 - val_loss: 0.0853 - val_accuracy: 0.9946\n",
      "0.9951000213623047\n",
      "Epoch 409/700\n",
      "937/937 [==============================] - 10s 10ms/step - loss: 0.0085 - accuracy: 0.9989 - val_loss: 8.7544e-08 - val_accuracy: 0.9950\n",
      "0.9950000047683716\n",
      "Epoch 410/700\n",
      "937/937 [==============================] - 10s 11ms/step - loss: 0.0070 - accuracy: 0.9988 - val_loss: 0.1041 - val_accuracy: 0.9969\n",
      "0.9961000084877014\n",
      "Epoch 411/700\n",
      "937/937 [==============================] - 10s 10ms/step - loss: 0.0093 - accuracy: 0.9988 - val_loss: 0.0202 - val_accuracy: 0.9953\n",
      "0.9958999752998352\n",
      "Epoch 412/700\n",
      "937/937 [==============================] - 10s 10ms/step - loss: 0.0090 - accuracy: 0.9987 - val_loss: 0.1222 - val_accuracy: 0.9960\n",
      "0.9962000250816345\n",
      "Epoch 413/700\n",
      "937/937 [==============================] - 10s 10ms/step - loss: 0.0114 - accuracy: 0.9987 - val_loss: 2.6881e-05 - val_accuracy: 0.9963\n",
      "0.9959999918937683\n",
      "Epoch 414/700\n",
      "937/937 [==============================] - 10s 10ms/step - loss: 0.0089 - accuracy: 0.9987 - val_loss: 0.0518 - val_accuracy: 0.9960\n",
      "0.9958000183105469\n",
      "Epoch 415/700\n",
      "937/937 [==============================] - 10s 10ms/step - loss: 0.0102 - accuracy: 0.9985 - val_loss: 0.0000e+00 - val_accuracy: 0.9958\n",
      "0.996399998664856\n",
      "Epoch 416/700\n",
      "937/937 [==============================] - 10s 10ms/step - loss: 0.0103 - accuracy: 0.9987 - val_loss: 0.4283 - val_accuracy: 0.9954\n",
      "0.9948999881744385\n",
      "Epoch 417/700\n",
      "937/937 [==============================] - 10s 10ms/step - loss: 0.0102 - accuracy: 0.9985 - val_loss: 0.0000e+00 - val_accuracy: 0.9950\n",
      "0.9952999949455261\n",
      "Epoch 418/700\n",
      "937/937 [==============================] - 10s 10ms/step - loss: 0.0132 - accuracy: 0.9982 - val_loss: 0.0000e+00 - val_accuracy: 0.9956\n",
      "0.9952999949455261\n",
      "Epoch 419/700\n",
      "937/937 [==============================] - 10s 11ms/step - loss: 0.0080 - accuracy: 0.9987 - val_loss: 2.2352e-08 - val_accuracy: 0.9952\n",
      "0.9954000115394592\n",
      "Epoch 420/700\n",
      "937/937 [==============================] - 10s 10ms/step - loss: 0.0082 - accuracy: 0.9986 - val_loss: 0.0536 - val_accuracy: 0.9936\n",
      "0.9940999746322632\n",
      "Epoch 421/700\n",
      "937/937 [==============================] - 10s 11ms/step - loss: 0.0096 - accuracy: 0.9988 - val_loss: 6.4257e-05 - val_accuracy: 0.9967\n",
      "0.9962000250816345\n",
      "Epoch 422/700\n",
      "937/937 [==============================] - 10s 11ms/step - loss: 0.0051 - accuracy: 0.9993 - val_loss: 1.2478e-04 - val_accuracy: 0.9956\n",
      "0.9958000183105469\n",
      "Epoch 423/700\n",
      "937/937 [==============================] - 10s 11ms/step - loss: 0.0097 - accuracy: 0.9987 - val_loss: 9.6120e-06 - val_accuracy: 0.9952\n",
      "0.9951000213623047\n",
      "Epoch 424/700\n",
      "937/937 [==============================] - 10s 11ms/step - loss: 0.0094 - accuracy: 0.9986 - val_loss: 1.1176e-08 - val_accuracy: 0.9949\n",
      "0.9952999949455261\n",
      "Epoch 425/700\n",
      "937/937 [==============================] - 10s 11ms/step - loss: 0.0117 - accuracy: 0.9986 - val_loss: 1.0990e-07 - val_accuracy: 0.9949\n",
      "0.995199978351593\n",
      "Epoch 426/700\n",
      "937/937 [==============================] - 10s 11ms/step - loss: 0.0084 - accuracy: 0.9987 - val_loss: 0.0000e+00 - val_accuracy: 0.9946\n",
      "0.9951000213623047\n",
      "Epoch 427/700\n",
      "937/937 [==============================] - 10s 11ms/step - loss: 0.0097 - accuracy: 0.9987 - val_loss: 1.6764e-08 - val_accuracy: 0.9960\n",
      "0.9954000115394592\n",
      "Epoch 428/700\n",
      "937/937 [==============================] - 10s 11ms/step - loss: 0.0129 - accuracy: 0.9982 - val_loss: 8.4376e-07 - val_accuracy: 0.9956\n",
      "0.995199978351593\n",
      "Epoch 429/700\n",
      "937/937 [==============================] - 10s 11ms/step - loss: 0.0119 - accuracy: 0.9987 - val_loss: 0.1341 - val_accuracy: 0.9956\n",
      "0.9954000115394592\n",
      "Epoch 430/700\n",
      "937/937 [==============================] - 10s 10ms/step - loss: 0.0083 - accuracy: 0.9988 - val_loss: 0.0254 - val_accuracy: 0.9948\n",
      "0.9948999881744385\n",
      "Epoch 431/700\n"
     ]
    },
    {
     "name": "stdout",
     "output_type": "stream",
     "text": [
      "937/937 [==============================] - 10s 11ms/step - loss: 0.0120 - accuracy: 0.9984 - val_loss: 0.0000e+00 - val_accuracy: 0.9959\n",
      "0.9958999752998352\n",
      "Epoch 432/700\n",
      "937/937 [==============================] - 10s 11ms/step - loss: 0.0066 - accuracy: 0.9989 - val_loss: 0.0726 - val_accuracy: 0.9960\n",
      "0.9959999918937683\n",
      "Epoch 433/700\n",
      "937/937 [==============================] - 10s 11ms/step - loss: 0.0098 - accuracy: 0.9987 - val_loss: 0.0447 - val_accuracy: 0.9948\n",
      "0.9957000017166138\n",
      "Epoch 434/700\n",
      "937/937 [==============================] - 10s 11ms/step - loss: 0.0082 - accuracy: 0.9989 - val_loss: 0.0000e+00 - val_accuracy: 0.9958\n",
      "0.9955999851226807\n",
      "Epoch 435/700\n",
      "937/937 [==============================] - 10s 10ms/step - loss: 0.0070 - accuracy: 0.9990 - val_loss: 9.4995e-08 - val_accuracy: 0.9958\n",
      "0.9955000281333923\n",
      "Epoch 436/700\n",
      "937/937 [==============================] - 10s 11ms/step - loss: 0.0091 - accuracy: 0.9987 - val_loss: 2.4762e-04 - val_accuracy: 0.9957\n",
      "0.9958999752998352\n",
      "Epoch 437/700\n",
      "937/937 [==============================] - 10s 11ms/step - loss: 0.0057 - accuracy: 0.9990 - val_loss: 0.0000e+00 - val_accuracy: 0.9963\n",
      "0.9958000183105469\n",
      "Epoch 438/700\n",
      "937/937 [==============================] - 10s 10ms/step - loss: 0.0096 - accuracy: 0.9988 - val_loss: 4.0889e-04 - val_accuracy: 0.9938\n",
      "0.9943000078201294\n",
      "Epoch 439/700\n",
      "937/937 [==============================] - 10s 10ms/step - loss: 0.0089 - accuracy: 0.9987 - val_loss: 0.0000e+00 - val_accuracy: 0.9945\n",
      "0.9952999949455261\n",
      "Epoch 440/700\n",
      "937/937 [==============================] - 10s 10ms/step - loss: 0.0112 - accuracy: 0.9984 - val_loss: 0.0000e+00 - val_accuracy: 0.9963\n",
      "0.9962000250816345\n",
      "Epoch 441/700\n",
      "937/937 [==============================] - 9s 10ms/step - loss: 0.0100 - accuracy: 0.9984 - val_loss: 0.3541 - val_accuracy: 0.9946\n",
      "0.9952999949455261\n",
      "Epoch 442/700\n",
      "937/937 [==============================] - 10s 10ms/step - loss: 0.0074 - accuracy: 0.9988 - val_loss: 0.0000e+00 - val_accuracy: 0.9953\n",
      "0.9944999814033508\n",
      "Epoch 443/700\n",
      "937/937 [==============================] - 10s 11ms/step - loss: 0.0092 - accuracy: 0.9990 - val_loss: 0.0000e+00 - val_accuracy: 0.9948\n",
      "0.9951000213623047\n",
      "Epoch 444/700\n",
      "937/937 [==============================] - 10s 10ms/step - loss: 0.0122 - accuracy: 0.9984 - val_loss: 0.2017 - val_accuracy: 0.9951\n",
      "0.9951000213623047\n",
      "Epoch 445/700\n",
      "937/937 [==============================] - 10s 10ms/step - loss: 0.0081 - accuracy: 0.9988 - val_loss: 0.0000e+00 - val_accuracy: 0.9951\n",
      "0.9951000213623047\n",
      "Epoch 446/700\n",
      "937/937 [==============================] - 10s 11ms/step - loss: 0.0133 - accuracy: 0.9982 - val_loss: 0.2382 - val_accuracy: 0.9957\n",
      "0.9955000281333923\n",
      "Epoch 447/700\n",
      "937/937 [==============================] - 10s 10ms/step - loss: 0.0077 - accuracy: 0.9988 - val_loss: 0.1146 - val_accuracy: 0.9954\n",
      "0.995199978351593\n",
      "Epoch 448/700\n",
      "937/937 [==============================] - 10s 10ms/step - loss: 0.0120 - accuracy: 0.9984 - val_loss: 0.0113 - val_accuracy: 0.9963\n",
      "0.9962999820709229\n",
      "Epoch 449/700\n",
      "937/937 [==============================] - 10s 11ms/step - loss: 0.0081 - accuracy: 0.9987 - val_loss: 0.0088 - val_accuracy: 0.9962\n",
      "0.9957000017166138\n",
      "Epoch 450/700\n",
      "937/937 [==============================] - 10s 10ms/step - loss: 0.0088 - accuracy: 0.9986 - val_loss: 3.8004e-05 - val_accuracy: 0.9954\n",
      "0.9955000281333923\n",
      "Epoch 451/700\n",
      "937/937 [==============================] - 10s 10ms/step - loss: 0.0097 - accuracy: 0.9985 - val_loss: 0.0000e+00 - val_accuracy: 0.9958\n",
      "0.9955000281333923\n",
      "Epoch 452/700\n",
      "937/937 [==============================] - 10s 11ms/step - loss: 0.0092 - accuracy: 0.9988 - val_loss: 1.7509e-07 - val_accuracy: 0.9950\n",
      "0.9950000047683716\n",
      "Epoch 453/700\n",
      "937/937 [==============================] - 10s 10ms/step - loss: 0.0083 - accuracy: 0.9989 - val_loss: 1.8626e-09 - val_accuracy: 0.9957\n",
      "0.9958000183105469\n",
      "Epoch 454/700\n",
      "937/937 [==============================] - 10s 10ms/step - loss: 0.0069 - accuracy: 0.9988 - val_loss: 0.0000e+00 - val_accuracy: 0.9955\n",
      "0.9955000281333923\n",
      "Epoch 455/700\n",
      "937/937 [==============================] - 10s 11ms/step - loss: 0.0050 - accuracy: 0.9992 - val_loss: 0.1926 - val_accuracy: 0.9956\n",
      "0.995199978351593\n",
      "Epoch 456/700\n",
      "937/937 [==============================] - 10s 10ms/step - loss: 0.0076 - accuracy: 0.9990 - val_loss: 3.7253e-09 - val_accuracy: 0.9954\n",
      "0.9955000281333923\n",
      "Epoch 457/700\n",
      "937/937 [==============================] - 10s 11ms/step - loss: 0.0112 - accuracy: 0.9987 - val_loss: 3.8347e-06 - val_accuracy: 0.9953\n",
      "0.9957000017166138\n",
      "Epoch 458/700\n",
      "937/937 [==============================] - 10s 11ms/step - loss: 0.0079 - accuracy: 0.9989 - val_loss: 0.0000e+00 - val_accuracy: 0.9953\n",
      "0.9950000047683716\n",
      "Epoch 459/700\n",
      "937/937 [==============================] - 10s 10ms/step - loss: 0.0103 - accuracy: 0.9986 - val_loss: 0.0000e+00 - val_accuracy: 0.9947\n",
      "0.9945999979972839\n",
      "Epoch 460/700\n",
      "937/937 [==============================] - 10s 10ms/step - loss: 0.0093 - accuracy: 0.9988 - val_loss: 0.6372 - val_accuracy: 0.9954\n",
      "0.9952999949455261\n",
      "Epoch 461/700\n",
      "937/937 [==============================] - 10s 11ms/step - loss: 0.0075 - accuracy: 0.9988 - val_loss: 0.0000e+00 - val_accuracy: 0.9955\n",
      "0.9955000281333923\n",
      "Epoch 462/700\n",
      "937/937 [==============================] - 10s 10ms/step - loss: 0.0087 - accuracy: 0.9988 - val_loss: 0.0000e+00 - val_accuracy: 0.9952\n",
      "0.9954000115394592\n",
      "Epoch 463/700\n",
      "937/937 [==============================] - 10s 11ms/step - loss: 0.0096 - accuracy: 0.9988 - val_loss: 0.0000e+00 - val_accuracy: 0.9951\n",
      "0.9954000115394592\n",
      "Epoch 464/700\n",
      "937/937 [==============================] - 10s 11ms/step - loss: 0.0083 - accuracy: 0.9987 - val_loss: 0.0000e+00 - val_accuracy: 0.9957\n",
      "0.9952999949455261\n",
      "Epoch 465/700\n",
      "937/937 [==============================] - 10s 10ms/step - loss: 0.0080 - accuracy: 0.9988 - val_loss: 0.5611 - val_accuracy: 0.9950\n",
      "0.995199978351593\n",
      "Epoch 466/700\n",
      "937/937 [==============================] - 10s 11ms/step - loss: 0.0084 - accuracy: 0.9989 - val_loss: 2.2910e-07 - val_accuracy: 0.9940\n",
      "0.9940000176429749\n",
      "Epoch 467/700\n",
      "937/937 [==============================] - 10s 11ms/step - loss: 0.0079 - accuracy: 0.9989 - val_loss: 0.0000e+00 - val_accuracy: 0.9950\n",
      "0.9951000213623047\n",
      "Epoch 468/700\n",
      "937/937 [==============================] - 10s 10ms/step - loss: 0.0087 - accuracy: 0.9988 - val_loss: 0.0000e+00 - val_accuracy: 0.9953\n",
      "0.9951000213623047\n",
      "Epoch 469/700\n",
      "937/937 [==============================] - 10s 10ms/step - loss: 0.0091 - accuracy: 0.9987 - val_loss: 0.8006 - val_accuracy: 0.9953\n",
      "0.9954000115394592\n",
      "Epoch 470/700\n",
      "937/937 [==============================] - 10s 11ms/step - loss: 0.0095 - accuracy: 0.9988 - val_loss: 0.8282 - val_accuracy: 0.9961\n",
      "0.9962000250816345\n",
      "Epoch 471/700\n",
      "937/937 [==============================] - 10s 10ms/step - loss: 0.0084 - accuracy: 0.9989 - val_loss: 0.0000e+00 - val_accuracy: 0.9956\n",
      "0.9955000281333923\n",
      "Epoch 472/700\n",
      "937/937 [==============================] - 10s 11ms/step - loss: 0.0120 - accuracy: 0.9985 - val_loss: 0.0091 - val_accuracy: 0.9947\n",
      "0.994700014591217\n",
      "Epoch 473/700\n",
      "937/937 [==============================] - 10s 11ms/step - loss: 0.0098 - accuracy: 0.9986 - val_loss: 0.1503 - val_accuracy: 0.9947\n",
      "0.994700014591217\n",
      "Epoch 474/700\n",
      "937/937 [==============================] - 10s 10ms/step - loss: 0.0091 - accuracy: 0.9986 - val_loss: 0.0000e+00 - val_accuracy: 0.9958\n",
      "0.9958000183105469\n",
      "Epoch 475/700\n",
      "937/937 [==============================] - 10s 11ms/step - loss: 0.0084 - accuracy: 0.9988 - val_loss: 0.1051 - val_accuracy: 0.9961\n",
      "0.9959999918937683\n",
      "Epoch 476/700\n",
      "937/937 [==============================] - 9s 10ms/step - loss: 0.0068 - accuracy: 0.9990 - val_loss: 0.0000e+00 - val_accuracy: 0.9956\n",
      "0.9955999851226807\n",
      "Epoch 477/700\n",
      "937/937 [==============================] - 10s 10ms/step - loss: 0.0072 - accuracy: 0.9990 - val_loss: 0.0000e+00 - val_accuracy: 0.9945\n",
      "0.9945999979972839\n",
      "Epoch 478/700\n",
      "937/937 [==============================] - 10s 10ms/step - loss: 0.0098 - accuracy: 0.9986 - val_loss: 0.0000e+00 - val_accuracy: 0.9962\n",
      "0.9958999752998352\n",
      "Epoch 479/700\n",
      "937/937 [==============================] - 9s 10ms/step - loss: 0.0102 - accuracy: 0.9987 - val_loss: 0.0000e+00 - val_accuracy: 0.9954\n"
     ]
    },
    {
     "name": "stdout",
     "output_type": "stream",
     "text": [
      "0.9958000183105469\n",
      "Epoch 480/700\n",
      "937/937 [==============================] - 10s 11ms/step - loss: 0.0095 - accuracy: 0.9989 - val_loss: 3.0377e-06 - val_accuracy: 0.9957\n",
      "0.9954000115394592\n",
      "Epoch 481/700\n",
      "937/937 [==============================] - 10s 11ms/step - loss: 0.0082 - accuracy: 0.9988 - val_loss: 1.0245e-07 - val_accuracy: 0.9955\n",
      "0.9955000281333923\n",
      "Epoch 482/700\n",
      "937/937 [==============================] - 9s 10ms/step - loss: 0.0073 - accuracy: 0.9989 - val_loss: 0.0000e+00 - val_accuracy: 0.9961\n",
      "0.9958999752998352\n",
      "Epoch 483/700\n",
      "937/937 [==============================] - 10s 10ms/step - loss: 0.0065 - accuracy: 0.9989 - val_loss: 0.0207 - val_accuracy: 0.9956\n",
      "0.9957000017166138\n",
      "Epoch 484/700\n",
      "937/937 [==============================] - 10s 10ms/step - loss: 0.0088 - accuracy: 0.9990 - val_loss: 0.0000e+00 - val_accuracy: 0.9954\n",
      "0.9954000115394592\n",
      "Epoch 485/700\n",
      "937/937 [==============================] - 10s 10ms/step - loss: 0.0073 - accuracy: 0.9987 - val_loss: 0.0628 - val_accuracy: 0.9958\n",
      "0.9958000183105469\n",
      "Epoch 486/700\n",
      "937/937 [==============================] - 10s 10ms/step - loss: 0.0091 - accuracy: 0.9989 - val_loss: 0.1720 - val_accuracy: 0.9958\n",
      "0.9955000281333923\n",
      "Epoch 487/700\n",
      "937/937 [==============================] - 10s 11ms/step - loss: 0.0100 - accuracy: 0.9986 - val_loss: 0.1764 - val_accuracy: 0.9958\n",
      "0.9958999752998352\n",
      "Epoch 488/700\n",
      "937/937 [==============================] - 9s 10ms/step - loss: 0.0107 - accuracy: 0.9987 - val_loss: 0.0000e+00 - val_accuracy: 0.9961\n",
      "0.9958000183105469\n",
      "Epoch 489/700\n",
      "937/937 [==============================] - 10s 10ms/step - loss: 0.0116 - accuracy: 0.9986 - val_loss: 1.8626e-09 - val_accuracy: 0.9958\n",
      "0.9961000084877014\n",
      "Epoch 490/700\n",
      "937/937 [==============================] - 10s 10ms/step - loss: 0.0111 - accuracy: 0.9988 - val_loss: 1.0507 - val_accuracy: 0.9956\n",
      "0.9952999949455261\n",
      "Epoch 491/700\n",
      "937/937 [==============================] - 9s 10ms/step - loss: 0.0107 - accuracy: 0.9986 - val_loss: 0.0000e+00 - val_accuracy: 0.9962\n",
      "0.9961000084877014\n",
      "Epoch 492/700\n",
      "937/937 [==============================] - 10s 10ms/step - loss: 0.0107 - accuracy: 0.9986 - val_loss: 0.0000e+00 - val_accuracy: 0.9949\n",
      "0.9954000115394592\n",
      "Epoch 493/700\n",
      "937/937 [==============================] - 10s 10ms/step - loss: 0.0096 - accuracy: 0.9988 - val_loss: 0.0113 - val_accuracy: 0.9963\n",
      "0.9962000250816345\n",
      "Epoch 494/700\n",
      "937/937 [==============================] - 9s 10ms/step - loss: 0.0090 - accuracy: 0.9986 - val_loss: 0.0000e+00 - val_accuracy: 0.9962\n",
      "0.9958000183105469\n",
      "Epoch 495/700\n",
      "937/937 [==============================] - 10s 10ms/step - loss: 0.0120 - accuracy: 0.9984 - val_loss: 1.8626e-09 - val_accuracy: 0.9962\n",
      "0.9958999752998352\n",
      "Epoch 496/700\n",
      "937/937 [==============================] - 10s 11ms/step - loss: 0.0102 - accuracy: 0.9987 - val_loss: 1.9744e-07 - val_accuracy: 0.9959\n",
      "0.9959999918937683\n",
      "Epoch 497/700\n",
      "937/937 [==============================] - 10s 10ms/step - loss: 0.0079 - accuracy: 0.9986 - val_loss: 5.9775e-05 - val_accuracy: 0.9955\n",
      "0.9957000017166138\n",
      "Epoch 498/700\n",
      "937/937 [==============================] - 10s 11ms/step - loss: 0.0090 - accuracy: 0.9986 - val_loss: 0.0000e+00 - val_accuracy: 0.9952\n",
      "0.995199978351593\n",
      "Epoch 499/700\n",
      "937/937 [==============================] - 10s 11ms/step - loss: 0.0094 - accuracy: 0.9986 - val_loss: 2.6077e-08 - val_accuracy: 0.9954\n",
      "0.9952999949455261\n",
      "Epoch 500/700\n",
      "937/937 [==============================] - 10s 10ms/step - loss: 0.0087 - accuracy: 0.9989 - val_loss: 0.0000e+00 - val_accuracy: 0.9963\n",
      "0.9958999752998352\n",
      "Epoch 501/700\n",
      "937/937 [==============================] - 10s 10ms/step - loss: 0.0099 - accuracy: 0.9989 - val_loss: 0.0000e+00 - val_accuracy: 0.9952\n",
      "0.9955000281333923\n",
      "Epoch 502/700\n",
      "937/937 [==============================] - 10s 11ms/step - loss: 0.0088 - accuracy: 0.9989 - val_loss: 0.0000e+00 - val_accuracy: 0.9950\n",
      "0.9952999949455261\n",
      "Epoch 503/700\n",
      "937/937 [==============================] - 10s 10ms/step - loss: 0.0075 - accuracy: 0.9988 - val_loss: 0.0000e+00 - val_accuracy: 0.9954\n",
      "0.995199978351593\n",
      "Epoch 504/700\n",
      "937/937 [==============================] - 10s 10ms/step - loss: 0.0079 - accuracy: 0.9990 - val_loss: 0.4149 - val_accuracy: 0.9953\n",
      "0.9951000213623047\n",
      "Epoch 505/700\n",
      "937/937 [==============================] - 10s 10ms/step - loss: 0.0090 - accuracy: 0.9990 - val_loss: 0.1206 - val_accuracy: 0.9959\n",
      "0.9955999851226807\n",
      "Epoch 506/700\n",
      "937/937 [==============================] - 10s 10ms/step - loss: 0.0092 - accuracy: 0.9988 - val_loss: 0.0000e+00 - val_accuracy: 0.9954\n",
      "0.9955000281333923\n",
      "Epoch 507/700\n",
      "937/937 [==============================] - 10s 10ms/step - loss: 0.0071 - accuracy: 0.9991 - val_loss: 1.8626e-09 - val_accuracy: 0.9954\n",
      "0.9955000281333923\n",
      "Epoch 508/700\n",
      "937/937 [==============================] - 10s 11ms/step - loss: 0.0107 - accuracy: 0.9988 - val_loss: 0.3171 - val_accuracy: 0.9959\n",
      "0.9955999851226807\n",
      "Epoch 509/700\n",
      "937/937 [==============================] - 10s 10ms/step - loss: 0.0065 - accuracy: 0.9989 - val_loss: 0.0000e+00 - val_accuracy: 0.9959\n",
      "0.9955000281333923\n",
      "Epoch 510/700\n",
      "937/937 [==============================] - 10s 11ms/step - loss: 0.0075 - accuracy: 0.9990 - val_loss: 0.0073 - val_accuracy: 0.9948\n",
      "0.9951000213623047\n",
      "Epoch 511/700\n",
      "937/937 [==============================] - 10s 11ms/step - loss: 0.0110 - accuracy: 0.9986 - val_loss: 0.0010 - val_accuracy: 0.9964\n",
      "0.9959999918937683\n",
      "Epoch 512/700\n",
      "937/937 [==============================] - 10s 10ms/step - loss: 0.0078 - accuracy: 0.9989 - val_loss: 0.0000e+00 - val_accuracy: 0.9955\n",
      "0.9954000115394592\n",
      "Epoch 513/700\n",
      "937/937 [==============================] - 10s 10ms/step - loss: 0.0090 - accuracy: 0.9989 - val_loss: 1.8626e-09 - val_accuracy: 0.9948\n",
      "0.9951000213623047\n",
      "Epoch 514/700\n",
      "937/937 [==============================] - 10s 10ms/step - loss: 0.0114 - accuracy: 0.9986 - val_loss: 0.0000e+00 - val_accuracy: 0.9961\n",
      "0.9955999851226807\n",
      "Epoch 515/700\n",
      "937/937 [==============================] - 9s 10ms/step - loss: 0.0074 - accuracy: 0.9991 - val_loss: 0.0000e+00 - val_accuracy: 0.9965\n",
      "0.9965000152587891\n",
      "Epoch 516/700\n",
      "937/937 [==============================] - 10s 10ms/step - loss: 0.0110 - accuracy: 0.9989 - val_loss: 0.0137 - val_accuracy: 0.9941\n",
      "0.9944999814033508\n",
      "Epoch 517/700\n",
      "937/937 [==============================] - 10s 11ms/step - loss: 0.0080 - accuracy: 0.9989 - val_loss: 4.4889e-07 - val_accuracy: 0.9947\n",
      "0.9948999881744385\n",
      "Epoch 518/700\n",
      "937/937 [==============================] - 10s 10ms/step - loss: 0.0062 - accuracy: 0.9991 - val_loss: 0.0000e+00 - val_accuracy: 0.9960\n",
      "0.9958999752998352\n",
      "Epoch 519/700\n",
      "937/937 [==============================] - 10s 10ms/step - loss: 0.0070 - accuracy: 0.9990 - val_loss: 0.0793 - val_accuracy: 0.9946\n",
      "0.9948999881744385\n",
      "Epoch 520/700\n",
      "937/937 [==============================] - 10s 10ms/step - loss: 0.0072 - accuracy: 0.9991 - val_loss: 0.0000e+00 - val_accuracy: 0.9950\n",
      "0.9955999851226807\n",
      "Epoch 521/700\n",
      "937/937 [==============================] - 9s 10ms/step - loss: 0.0094 - accuracy: 0.9989 - val_loss: 0.0000e+00 - val_accuracy: 0.9953\n",
      "0.9948999881744385\n",
      "Epoch 522/700\n",
      "937/937 [==============================] - 10s 10ms/step - loss: 0.0070 - accuracy: 0.9991 - val_loss: 3.7253e-09 - val_accuracy: 0.9946\n",
      "0.9947999715805054\n",
      "Epoch 523/700\n",
      "937/937 [==============================] - 10s 10ms/step - loss: 0.0102 - accuracy: 0.9988 - val_loss: 0.0000e+00 - val_accuracy: 0.9955\n",
      "0.9954000115394592\n",
      "Epoch 524/700\n",
      "937/937 [==============================] - 9s 10ms/step - loss: 0.0087 - accuracy: 0.9989 - val_loss: 0.0000e+00 - val_accuracy: 0.9944\n",
      "0.9947999715805054\n",
      "Epoch 525/700\n",
      "937/937 [==============================] - 10s 10ms/step - loss: 0.0113 - accuracy: 0.9986 - val_loss: 3.7253e-09 - val_accuracy: 0.9950\n",
      "0.9948999881744385\n",
      "Epoch 526/700\n",
      "937/937 [==============================] - 10s 10ms/step - loss: 0.0085 - accuracy: 0.9991 - val_loss: 8.7911e-06 - val_accuracy: 0.9952\n",
      "0.995199978351593\n",
      "Epoch 527/700\n",
      "937/937 [==============================] - 9s 10ms/step - loss: 0.0078 - accuracy: 0.9988 - val_loss: 1.8626e-09 - val_accuracy: 0.9950\n",
      "0.9957000017166138\n",
      "Epoch 528/700\n"
     ]
    },
    {
     "name": "stdout",
     "output_type": "stream",
     "text": [
      "937/937 [==============================] - 10s 11ms/step - loss: 0.0089 - accuracy: 0.9987 - val_loss: 0.0000e+00 - val_accuracy: 0.9959\n",
      "0.9957000017166138\n",
      "Epoch 529/700\n",
      "937/937 [==============================] - 10s 11ms/step - loss: 0.0093 - accuracy: 0.9988 - val_loss: 9.7195e-05 - val_accuracy: 0.9961\n",
      "0.9957000017166138\n",
      "Epoch 530/700\n",
      "937/937 [==============================] - 9s 10ms/step - loss: 0.0102 - accuracy: 0.9988 - val_loss: 2.7192e-06 - val_accuracy: 0.9954\n",
      "0.995199978351593\n",
      "Epoch 531/700\n",
      "937/937 [==============================] - 10s 10ms/step - loss: 0.0119 - accuracy: 0.9987 - val_loss: 0.0000e+00 - val_accuracy: 0.9942\n",
      "0.9950000047683716\n",
      "Epoch 532/700\n",
      "937/937 [==============================] - 10s 11ms/step - loss: 0.0071 - accuracy: 0.9989 - val_loss: 0.3115 - val_accuracy: 0.9943\n",
      "0.9944999814033508\n",
      "Epoch 533/700\n",
      "937/937 [==============================] - 9s 10ms/step - loss: 0.0074 - accuracy: 0.9990 - val_loss: 0.0000e+00 - val_accuracy: 0.9953\n",
      "0.9959999918937683\n",
      "Epoch 534/700\n",
      "937/937 [==============================] - 10s 10ms/step - loss: 0.0094 - accuracy: 0.9986 - val_loss: 0.0000e+00 - val_accuracy: 0.9959\n",
      "0.9952999949455261\n",
      "Epoch 535/700\n",
      "937/937 [==============================] - 10s 11ms/step - loss: 0.0104 - accuracy: 0.9986 - val_loss: 1.4334e-05 - val_accuracy: 0.9954\n",
      "0.9957000017166138\n",
      "Epoch 536/700\n",
      "937/937 [==============================] - 9s 10ms/step - loss: 0.0084 - accuracy: 0.9988 - val_loss: 0.9960 - val_accuracy: 0.9965\n",
      "0.9962000250816345\n",
      "Epoch 537/700\n",
      "937/937 [==============================] - 10s 10ms/step - loss: 0.0071 - accuracy: 0.9989 - val_loss: 0.3210 - val_accuracy: 0.9958\n",
      "0.9955999851226807\n",
      "Epoch 538/700\n",
      "937/937 [==============================] - 10s 10ms/step - loss: 0.0104 - accuracy: 0.9986 - val_loss: 0.2488 - val_accuracy: 0.9954\n",
      "0.9957000017166138\n",
      "Epoch 539/700\n",
      "937/937 [==============================] - 10s 10ms/step - loss: 0.0106 - accuracy: 0.9988 - val_loss: 0.0000e+00 - val_accuracy: 0.9962\n",
      "0.9958000183105469\n",
      "Epoch 540/700\n",
      "937/937 [==============================] - 10s 10ms/step - loss: 0.0102 - accuracy: 0.9988 - val_loss: 1.9185e-07 - val_accuracy: 0.9961\n",
      "0.9955000281333923\n",
      "Epoch 541/700\n",
      "937/937 [==============================] - 10s 11ms/step - loss: 0.0110 - accuracy: 0.9987 - val_loss: 0.0000e+00 - val_accuracy: 0.9961\n",
      "0.9958999752998352\n",
      "Epoch 542/700\n",
      "937/937 [==============================] - 10s 10ms/step - loss: 0.0110 - accuracy: 0.9986 - val_loss: 0.0056 - val_accuracy: 0.9952\n",
      "0.9950000047683716\n",
      "Epoch 543/700\n",
      "937/937 [==============================] - 10s 10ms/step - loss: 0.0100 - accuracy: 0.9988 - val_loss: 0.0000e+00 - val_accuracy: 0.9955\n",
      "0.9955000281333923\n",
      "Epoch 544/700\n",
      "937/937 [==============================] - 10s 11ms/step - loss: 0.0097 - accuracy: 0.9988 - val_loss: 0.4479 - val_accuracy: 0.9949\n",
      "0.9950000047683716\n",
      "Epoch 545/700\n",
      "937/937 [==============================] - 9s 10ms/step - loss: 0.0118 - accuracy: 0.9984 - val_loss: 0.0063 - val_accuracy: 0.9962\n",
      "0.9962000250816345\n",
      "Epoch 546/700\n",
      "937/937 [==============================] - 10s 10ms/step - loss: 0.0138 - accuracy: 0.9984 - val_loss: 5.4202e-07 - val_accuracy: 0.9949\n",
      "0.9937999844551086\n",
      "Epoch 547/700\n",
      "937/937 [==============================] - 10s 11ms/step - loss: 0.0079 - accuracy: 0.9988 - val_loss: 0.0000e+00 - val_accuracy: 0.9955\n",
      "0.9957000017166138\n",
      "Epoch 548/700\n",
      "937/937 [==============================] - 9s 10ms/step - loss: 0.0124 - accuracy: 0.9984 - val_loss: 0.0000e+00 - val_accuracy: 0.9924\n",
      "0.9936000108718872\n",
      "Epoch 549/700\n",
      "937/937 [==============================] - 10s 10ms/step - loss: 0.0078 - accuracy: 0.9987 - val_loss: 6.0684e-05 - val_accuracy: 0.9956\n",
      "0.9952999949455261\n",
      "Epoch 550/700\n",
      "937/937 [==============================] - 10s 11ms/step - loss: 0.0123 - accuracy: 0.9985 - val_loss: 0.3349 - val_accuracy: 0.9950\n",
      "0.994700014591217\n",
      "Epoch 551/700\n",
      "937/937 [==============================] - 9s 10ms/step - loss: 0.0129 - accuracy: 0.9984 - val_loss: 0.0041 - val_accuracy: 0.9943\n",
      "0.9951000213623047\n",
      "Epoch 552/700\n",
      "937/937 [==============================] - 10s 10ms/step - loss: 0.0083 - accuracy: 0.9991 - val_loss: 0.0000e+00 - val_accuracy: 0.9959\n",
      "0.9958000183105469\n",
      "Epoch 553/700\n",
      "937/937 [==============================] - 10s 10ms/step - loss: 0.0108 - accuracy: 0.9988 - val_loss: 0.1514 - val_accuracy: 0.9946\n",
      "0.9947999715805054\n",
      "Epoch 554/700\n",
      "937/937 [==============================] - 9s 10ms/step - loss: 0.0090 - accuracy: 0.9989 - val_loss: 0.0000e+00 - val_accuracy: 0.9971\n",
      "0.996399998664856\n",
      "Epoch 555/700\n",
      "937/937 [==============================] - 10s 10ms/step - loss: 0.0115 - accuracy: 0.9986 - val_loss: 0.0215 - val_accuracy: 0.9947\n",
      "0.9945999979972839\n",
      "Epoch 556/700\n",
      "937/937 [==============================] - 10s 11ms/step - loss: 0.0132 - accuracy: 0.9986 - val_loss: 0.5563 - val_accuracy: 0.9959\n",
      "0.9955999851226807\n",
      "Epoch 557/700\n",
      "937/937 [==============================] - 10s 10ms/step - loss: 0.0088 - accuracy: 0.9990 - val_loss: 0.0000e+00 - val_accuracy: 0.9949\n",
      "0.9955999851226807\n",
      "Epoch 558/700\n",
      "937/937 [==============================] - 10s 10ms/step - loss: 0.0086 - accuracy: 0.9987 - val_loss: 0.0000e+00 - val_accuracy: 0.9959\n",
      "0.9958000183105469\n",
      "Epoch 559/700\n",
      "937/937 [==============================] - 10s 11ms/step - loss: 0.0106 - accuracy: 0.9988 - val_loss: 5.9859e-05 - val_accuracy: 0.9958\n",
      "0.9962999820709229\n",
      "Epoch 560/700\n",
      "937/937 [==============================] - 10s 10ms/step - loss: 0.0061 - accuracy: 0.9990 - val_loss: 0.1777 - val_accuracy: 0.9950\n",
      "0.9951000213623047\n",
      "Epoch 561/700\n",
      "937/937 [==============================] - 10s 10ms/step - loss: 0.0084 - accuracy: 0.9989 - val_loss: 0.3376 - val_accuracy: 0.9960\n",
      "0.9957000017166138\n",
      "Epoch 562/700\n",
      "937/937 [==============================] - 10s 11ms/step - loss: 0.0091 - accuracy: 0.9989 - val_loss: 8.3833e-04 - val_accuracy: 0.9957\n",
      "0.9957000017166138\n",
      "Epoch 563/700\n",
      "937/937 [==============================] - 9s 10ms/step - loss: 0.0106 - accuracy: 0.9987 - val_loss: 0.0136 - val_accuracy: 0.9958\n",
      "0.9959999918937683\n",
      "Epoch 564/700\n",
      "937/937 [==============================] - 10s 10ms/step - loss: 0.0098 - accuracy: 0.9987 - val_loss: 0.0000e+00 - val_accuracy: 0.9960\n",
      "0.9955000281333923\n",
      "Epoch 565/700\n",
      "937/937 [==============================] - 10s 11ms/step - loss: 0.0073 - accuracy: 0.9988 - val_loss: 0.0043 - val_accuracy: 0.9964\n",
      "0.9959999918937683\n",
      "Epoch 566/700\n",
      "937/937 [==============================] - 10s 10ms/step - loss: 0.0105 - accuracy: 0.9988 - val_loss: 0.0000e+00 - val_accuracy: 0.9948\n",
      "0.9955999851226807\n",
      "Epoch 567/700\n",
      "937/937 [==============================] - 10s 10ms/step - loss: 0.0126 - accuracy: 0.9985 - val_loss: 0.1339 - val_accuracy: 0.9959\n",
      "0.9954000115394592\n",
      "Epoch 568/700\n",
      "937/937 [==============================] - 10s 11ms/step - loss: 0.0096 - accuracy: 0.9988 - val_loss: 0.0000e+00 - val_accuracy: 0.9956\n",
      "0.9950000047683716\n",
      "Epoch 569/700\n",
      "937/937 [==============================] - 10s 10ms/step - loss: 0.0108 - accuracy: 0.9988 - val_loss: 3.9474e-04 - val_accuracy: 0.9954\n",
      "0.9955999851226807\n",
      "Epoch 570/700\n",
      "937/937 [==============================] - 10s 10ms/step - loss: 0.0108 - accuracy: 0.9988 - val_loss: 0.9490 - val_accuracy: 0.9958\n",
      "0.9955999851226807\n",
      "Epoch 571/700\n",
      "937/937 [==============================] - 10s 10ms/step - loss: 0.0093 - accuracy: 0.9988 - val_loss: 0.0000e+00 - val_accuracy: 0.9960\n",
      "0.9962000250816345\n",
      "Epoch 572/700\n",
      "937/937 [==============================] - 10s 10ms/step - loss: 0.0092 - accuracy: 0.9986 - val_loss: 6.8855e-04 - val_accuracy: 0.9950\n",
      "0.9958999752998352\n",
      "Epoch 573/700\n",
      "937/937 [==============================] - 10s 10ms/step - loss: 0.0121 - accuracy: 0.9991 - val_loss: 3.1665e-07 - val_accuracy: 0.9971\n",
      "0.9962000250816345\n",
      "Epoch 574/700\n",
      "937/937 [==============================] - 10s 11ms/step - loss: 0.0068 - accuracy: 0.9991 - val_loss: 8.7544e-08 - val_accuracy: 0.9951\n",
      "0.9958999752998352\n",
      "Epoch 575/700\n",
      "937/937 [==============================] - 10s 10ms/step - loss: 0.0075 - accuracy: 0.9991 - val_loss: 0.0000e+00 - val_accuracy: 0.9956\n",
      "0.9958999752998352\n",
      "Epoch 576/700\n",
      "937/937 [==============================] - 10s 10ms/step - loss: 0.0115 - accuracy: 0.9987 - val_loss: 0.4066 - val_accuracy: 0.9959\n"
     ]
    },
    {
     "name": "stdout",
     "output_type": "stream",
     "text": [
      "0.9955000281333923\n",
      "Epoch 577/700\n",
      "937/937 [==============================] - 10s 10ms/step - loss: 0.0089 - accuracy: 0.9988 - val_loss: 0.0040 - val_accuracy: 0.9952\n",
      "0.9958999752998352\n",
      "Epoch 578/700\n",
      "937/937 [==============================] - 9s 10ms/step - loss: 0.0091 - accuracy: 0.9990 - val_loss: 0.0000e+00 - val_accuracy: 0.9957\n",
      "0.9954000115394592\n",
      "Epoch 579/700\n",
      "937/937 [==============================] - 10s 10ms/step - loss: 0.0112 - accuracy: 0.9987 - val_loss: 0.0000e+00 - val_accuracy: 0.9961\n",
      "0.9955000281333923\n",
      "Epoch 580/700\n",
      "937/937 [==============================] - 10s 11ms/step - loss: 0.0079 - accuracy: 0.9988 - val_loss: 9.7722e-04 - val_accuracy: 0.9960\n",
      "0.9958000183105469\n",
      "Epoch 581/700\n",
      "937/937 [==============================] - 9s 10ms/step - loss: 0.0102 - accuracy: 0.9987 - val_loss: 0.0000e+00 - val_accuracy: 0.9960\n",
      "0.9961000084877014\n",
      "Epoch 582/700\n",
      "937/937 [==============================] - 10s 10ms/step - loss: 0.0040 - accuracy: 0.9993 - val_loss: 3.7253e-09 - val_accuracy: 0.9954\n",
      "0.9955000281333923\n",
      "Epoch 583/700\n",
      "937/937 [==============================] - 10s 11ms/step - loss: 0.0095 - accuracy: 0.9989 - val_loss: 0.0000e+00 - val_accuracy: 0.9959\n",
      "0.9955999851226807\n",
      "Epoch 584/700\n",
      "937/937 [==============================] - 10s 10ms/step - loss: 0.0083 - accuracy: 0.9989 - val_loss: 0.0000e+00 - val_accuracy: 0.9954\n",
      "0.9955000281333923\n",
      "Epoch 585/700\n",
      "937/937 [==============================] - 10s 10ms/step - loss: 0.0103 - accuracy: 0.9988 - val_loss: 1.9734e-04 - val_accuracy: 0.9970\n",
      "0.9961000084877014\n",
      "Epoch 586/700\n",
      "937/937 [==============================] - 10s 11ms/step - loss: 0.0078 - accuracy: 0.9990 - val_loss: 0.0000e+00 - val_accuracy: 0.9941\n",
      "0.9948999881744385\n",
      "Epoch 587/700\n",
      "937/937 [==============================] - 10s 10ms/step - loss: 0.0066 - accuracy: 0.9991 - val_loss: 0.0000e+00 - val_accuracy: 0.9964\n",
      "0.9962000250816345\n",
      "Epoch 588/700\n",
      "937/937 [==============================] - 10s 10ms/step - loss: 0.0071 - accuracy: 0.9991 - val_loss: 0.0000e+00 - val_accuracy: 0.9967\n",
      "0.9962999820709229\n",
      "Epoch 589/700\n",
      "937/937 [==============================] - 10s 11ms/step - loss: 0.0116 - accuracy: 0.9985 - val_loss: 0.4749 - val_accuracy: 0.9954\n",
      "0.9955000281333923\n",
      "Epoch 590/700\n",
      "937/937 [==============================] - 10s 10ms/step - loss: 0.0071 - accuracy: 0.9991 - val_loss: 4.5075e-07 - val_accuracy: 0.9961\n",
      "0.9959999918937683\n",
      "Epoch 591/700\n",
      "937/937 [==============================] - 10s 10ms/step - loss: 0.0124 - accuracy: 0.9985 - val_loss: 0.3063 - val_accuracy: 0.9957\n",
      "0.9952999949455261\n",
      "Epoch 592/700\n",
      "937/937 [==============================] - 10s 11ms/step - loss: 0.0096 - accuracy: 0.9987 - val_loss: 0.0000e+00 - val_accuracy: 0.9948\n",
      "0.9950000047683716\n",
      "Epoch 593/700\n",
      "937/937 [==============================] - 10s 10ms/step - loss: 0.0103 - accuracy: 0.9988 - val_loss: 0.3713 - val_accuracy: 0.9948\n",
      "0.9955000281333923\n",
      "Epoch 594/700\n",
      "937/937 [==============================] - 10s 10ms/step - loss: 0.0081 - accuracy: 0.9988 - val_loss: 9.1269e-08 - val_accuracy: 0.9962\n",
      "0.9955999851226807\n",
      "Epoch 595/700\n",
      "937/937 [==============================] - 10s 11ms/step - loss: 0.0095 - accuracy: 0.9988 - val_loss: 0.0000e+00 - val_accuracy: 0.9967\n",
      "0.9962999820709229\n",
      "Epoch 596/700\n",
      "937/937 [==============================] - 10s 10ms/step - loss: 0.0086 - accuracy: 0.9988 - val_loss: 0.0000e+00 - val_accuracy: 0.9955\n",
      "0.9957000017166138\n",
      "Epoch 597/700\n",
      "937/937 [==============================] - 10s 10ms/step - loss: 0.0113 - accuracy: 0.9989 - val_loss: 0.0311 - val_accuracy: 0.9943\n",
      "0.9947999715805054\n",
      "Epoch 598/700\n",
      "937/937 [==============================] - 10s 11ms/step - loss: 0.0107 - accuracy: 0.9986 - val_loss: 0.2540 - val_accuracy: 0.9958\n",
      "0.9957000017166138\n",
      "Epoch 599/700\n",
      "937/937 [==============================] - 10s 10ms/step - loss: 0.0073 - accuracy: 0.9989 - val_loss: 6.5567e-04 - val_accuracy: 0.9943\n",
      "0.9944000244140625\n",
      "Epoch 600/700\n",
      "937/937 [==============================] - 10s 10ms/step - loss: 0.0067 - accuracy: 0.9991 - val_loss: 0.9567 - val_accuracy: 0.9957\n",
      "0.9954000115394592\n",
      "Epoch 601/700\n",
      "937/937 [==============================] - 10s 11ms/step - loss: 0.0102 - accuracy: 0.9990 - val_loss: 0.0000e+00 - val_accuracy: 0.9946\n",
      "0.994700014591217\n",
      "Epoch 602/700\n",
      "937/937 [==============================] - 10s 10ms/step - loss: 0.0083 - accuracy: 0.9991 - val_loss: 0.0000e+00 - val_accuracy: 0.9953\n",
      "0.9951000213623047\n",
      "Epoch 603/700\n",
      "937/937 [==============================] - 10s 10ms/step - loss: 0.0082 - accuracy: 0.9989 - val_loss: 0.0000e+00 - val_accuracy: 0.9958\n",
      "0.9955000281333923\n",
      "Epoch 604/700\n",
      "937/937 [==============================] - 10s 11ms/step - loss: 0.0115 - accuracy: 0.9987 - val_loss: 5.3643e-07 - val_accuracy: 0.9953\n",
      "0.9957000017166138\n",
      "Epoch 605/700\n",
      "937/937 [==============================] - 10s 10ms/step - loss: 0.0085 - accuracy: 0.9991 - val_loss: 0.0000e+00 - val_accuracy: 0.9952\n",
      "0.9947999715805054\n",
      "Epoch 606/700\n",
      "937/937 [==============================] - 10s 10ms/step - loss: 0.0116 - accuracy: 0.9985 - val_loss: 0.0000e+00 - val_accuracy: 0.9962\n",
      "0.9965000152587891\n",
      "Epoch 607/700\n",
      "937/937 [==============================] - 10s 11ms/step - loss: 0.0103 - accuracy: 0.9987 - val_loss: 5.6962e-05 - val_accuracy: 0.9949\n",
      "0.9951000213623047\n",
      "Epoch 608/700\n",
      "937/937 [==============================] - 10s 10ms/step - loss: 0.0092 - accuracy: 0.9988 - val_loss: 9.3132e-09 - val_accuracy: 0.9939\n",
      "0.9939000010490417\n",
      "Epoch 609/700\n",
      "937/937 [==============================] - 10s 11ms/step - loss: 0.0090 - accuracy: 0.9989 - val_loss: 0.0000e+00 - val_accuracy: 0.9953\n",
      "0.995199978351593\n",
      "Epoch 610/700\n",
      "937/937 [==============================] - 10s 11ms/step - loss: 0.0119 - accuracy: 0.9989 - val_loss: 0.0000e+00 - val_accuracy: 0.9954\n",
      "0.9952999949455261\n",
      "Epoch 611/700\n",
      "937/937 [==============================] - 9s 10ms/step - loss: 0.0082 - accuracy: 0.9989 - val_loss: 0.0012 - val_accuracy: 0.9955\n",
      "0.9955999851226807\n",
      "Epoch 612/700\n",
      "937/937 [==============================] - 10s 10ms/step - loss: 0.0079 - accuracy: 0.9989 - val_loss: 0.0000e+00 - val_accuracy: 0.9952\n",
      "0.9955000281333923\n",
      "Epoch 613/700\n",
      "937/937 [==============================] - 10s 10ms/step - loss: 0.0069 - accuracy: 0.9988 - val_loss: 0.0000e+00 - val_accuracy: 0.9953\n",
      "0.9948999881744385\n",
      "Epoch 614/700\n",
      "937/937 [==============================] - 9s 10ms/step - loss: 0.0091 - accuracy: 0.9989 - val_loss: 0.3829 - val_accuracy: 0.9956\n",
      "0.9958000183105469\n",
      "Epoch 615/700\n",
      "937/937 [==============================] - 10s 10ms/step - loss: 0.0083 - accuracy: 0.9991 - val_loss: 0.0000e+00 - val_accuracy: 0.9960\n",
      "0.9961000084877014\n",
      "Epoch 616/700\n",
      "937/937 [==============================] - 10s 10ms/step - loss: 0.0115 - accuracy: 0.9987 - val_loss: 0.0000e+00 - val_accuracy: 0.9956\n",
      "0.9957000017166138\n",
      "Epoch 617/700\n",
      "937/937 [==============================] - 9s 10ms/step - loss: 0.0073 - accuracy: 0.9988 - val_loss: 0.0000e+00 - val_accuracy: 0.9962\n",
      "0.9961000084877014\n",
      "Epoch 618/700\n",
      "937/937 [==============================] - 10s 10ms/step - loss: 0.0133 - accuracy: 0.9987 - val_loss: 8.3819e-08 - val_accuracy: 0.9955\n",
      "0.9955999851226807\n",
      "Epoch 619/700\n",
      "937/937 [==============================] - 10s 11ms/step - loss: 0.0146 - accuracy: 0.9984 - val_loss: 2.6628e-05 - val_accuracy: 0.9944\n",
      "0.9944999814033508\n",
      "Epoch 620/700\n",
      "937/937 [==============================] - 9s 10ms/step - loss: 0.0088 - accuracy: 0.9988 - val_loss: 0.2170 - val_accuracy: 0.9960\n",
      "0.9962000250816345\n",
      "Epoch 621/700\n",
      "937/937 [==============================] - 10s 11ms/step - loss: 0.0098 - accuracy: 0.9988 - val_loss: 0.0047 - val_accuracy: 0.9952\n",
      "0.9951000213623047\n",
      "Epoch 622/700\n",
      "937/937 [==============================] - 10s 11ms/step - loss: 0.0121 - accuracy: 0.9988 - val_loss: 7.3200e-07 - val_accuracy: 0.9961\n",
      "0.9958999752998352\n",
      "Epoch 623/700\n",
      "937/937 [==============================] - 10s 10ms/step - loss: 0.0088 - accuracy: 0.9989 - val_loss: 0.0000e+00 - val_accuracy: 0.9961\n",
      "0.9961000084877014\n",
      "Epoch 624/700\n",
      "937/937 [==============================] - 10s 10ms/step - loss: 0.0094 - accuracy: 0.9992 - val_loss: 6.8180e-05 - val_accuracy: 0.9956\n",
      "0.9955999851226807\n",
      "Epoch 625/700\n"
     ]
    },
    {
     "name": "stdout",
     "output_type": "stream",
     "text": [
      "937/937 [==============================] - 10s 11ms/step - loss: 0.0144 - accuracy: 0.9987 - val_loss: 0.1265 - val_accuracy: 0.9949\n",
      "0.9950000047683716\n",
      "Epoch 626/700\n",
      "937/937 [==============================] - 9s 10ms/step - loss: 0.0094 - accuracy: 0.9990 - val_loss: 1.5318 - val_accuracy: 0.9954\n",
      "0.9955000281333923\n",
      "Epoch 627/700\n",
      "937/937 [==============================] - 10s 10ms/step - loss: 0.0093 - accuracy: 0.9988 - val_loss: 0.0000e+00 - val_accuracy: 0.9957\n",
      "0.9955999851226807\n",
      "Epoch 628/700\n",
      "937/937 [==============================] - 10s 10ms/step - loss: 0.0086 - accuracy: 0.9990 - val_loss: 0.0239 - val_accuracy: 0.9964\n",
      "0.996399998664856\n",
      "Epoch 629/700\n",
      "937/937 [==============================] - 9s 10ms/step - loss: 0.0107 - accuracy: 0.9988 - val_loss: 0.0444 - val_accuracy: 0.9947\n",
      "0.994700014591217\n",
      "Epoch 630/700\n",
      "937/937 [==============================] - 9s 10ms/step - loss: 0.0124 - accuracy: 0.9988 - val_loss: 9.3132e-09 - val_accuracy: 0.9950\n",
      "0.9950000047683716\n",
      "Epoch 631/700\n",
      "937/937 [==============================] - 9s 10ms/step - loss: 0.0084 - accuracy: 0.9989 - val_loss: 0.0000e+00 - val_accuracy: 0.9953\n",
      "0.995199978351593\n",
      "Epoch 632/700\n",
      "937/937 [==============================] - 10s 10ms/step - loss: 0.0114 - accuracy: 0.9988 - val_loss: 0.7593 - val_accuracy: 0.9952\n",
      "0.9950000047683716\n",
      "Epoch 633/700\n",
      "937/937 [==============================] - 10s 10ms/step - loss: 0.0092 - accuracy: 0.9988 - val_loss: 1.0168 - val_accuracy: 0.9954\n",
      "0.9954000115394592\n",
      "Epoch 634/700\n",
      "937/937 [==============================] - 9s 10ms/step - loss: 0.0100 - accuracy: 0.9985 - val_loss: 0.0000e+00 - val_accuracy: 0.9941\n",
      "0.9941999912261963\n",
      "Epoch 635/700\n",
      "937/937 [==============================] - 10s 10ms/step - loss: 0.0114 - accuracy: 0.9986 - val_loss: 0.3417 - val_accuracy: 0.9955\n",
      "0.9955999851226807\n",
      "Epoch 636/700\n",
      "937/937 [==============================] - 10s 11ms/step - loss: 0.0092 - accuracy: 0.9989 - val_loss: 0.5050 - val_accuracy: 0.9951\n",
      "0.9954000115394592\n",
      "Epoch 637/700\n",
      "937/937 [==============================] - 9s 10ms/step - loss: 0.0090 - accuracy: 0.9990 - val_loss: 0.0000e+00 - val_accuracy: 0.9957\n",
      "0.9957000017166138\n",
      "Epoch 638/700\n",
      "937/937 [==============================] - 10s 10ms/step - loss: 0.0113 - accuracy: 0.9986 - val_loss: 0.0000e+00 - val_accuracy: 0.9956\n",
      "0.9954000115394592\n",
      "Epoch 639/700\n",
      "937/937 [==============================] - 10s 11ms/step - loss: 0.0128 - accuracy: 0.9986 - val_loss: 0.2233 - val_accuracy: 0.9946\n",
      "0.9950000047683716\n",
      "Epoch 640/700\n",
      "937/937 [==============================] - 9s 10ms/step - loss: 0.0097 - accuracy: 0.9987 - val_loss: 0.0000e+00 - val_accuracy: 0.9953\n",
      "0.995199978351593\n",
      "Epoch 641/700\n",
      "937/937 [==============================] - 10s 10ms/step - loss: 0.0100 - accuracy: 0.9988 - val_loss: 0.0430 - val_accuracy: 0.9954\n",
      "0.9957000017166138\n",
      "Epoch 642/700\n",
      "937/937 [==============================] - 10s 11ms/step - loss: 0.0091 - accuracy: 0.9990 - val_loss: 1.8626e-09 - val_accuracy: 0.9954\n",
      "0.9955000281333923\n",
      "Epoch 643/700\n",
      "937/937 [==============================] - 9s 10ms/step - loss: 0.0123 - accuracy: 0.9988 - val_loss: 0.2959 - val_accuracy: 0.9960\n",
      "0.9958000183105469\n",
      "Epoch 644/700\n",
      "937/937 [==============================] - 10s 10ms/step - loss: 0.0074 - accuracy: 0.9991 - val_loss: 0.0000e+00 - val_accuracy: 0.9960\n",
      "0.9958000183105469\n",
      "Epoch 645/700\n",
      "937/937 [==============================] - 10s 11ms/step - loss: 0.0112 - accuracy: 0.9986 - val_loss: 2.8272e-06 - val_accuracy: 0.9960\n",
      "0.9958000183105469\n",
      "Epoch 646/700\n",
      "937/937 [==============================] - 9s 10ms/step - loss: 0.0090 - accuracy: 0.9989 - val_loss: 1.1999 - val_accuracy: 0.9954\n",
      "0.9954000115394592\n",
      "Epoch 647/700\n",
      "937/937 [==============================] - 10s 10ms/step - loss: 0.0094 - accuracy: 0.9990 - val_loss: 0.5391 - val_accuracy: 0.9955\n",
      "0.9954000115394592\n",
      "Epoch 648/700\n",
      "937/937 [==============================] - 10s 11ms/step - loss: 0.0103 - accuracy: 0.9988 - val_loss: 0.0000e+00 - val_accuracy: 0.9955\n",
      "0.9952999949455261\n",
      "Epoch 649/700\n",
      "937/937 [==============================] - 10s 10ms/step - loss: 0.0091 - accuracy: 0.9990 - val_loss: 0.0000e+00 - val_accuracy: 0.9952\n",
      "0.9948999881744385\n",
      "Epoch 650/700\n",
      "937/937 [==============================] - 10s 11ms/step - loss: 0.0073 - accuracy: 0.9991 - val_loss: 2.3579e-06 - val_accuracy: 0.9960\n",
      "0.9959999918937683\n",
      "Epoch 651/700\n",
      "937/937 [==============================] - 10s 11ms/step - loss: 0.0090 - accuracy: 0.9988 - val_loss: 3.3445e-05 - val_accuracy: 0.9966\n",
      "0.9962999820709229\n",
      "Epoch 652/700\n",
      "937/937 [==============================] - 10s 10ms/step - loss: 0.0072 - accuracy: 0.9990 - val_loss: 0.0000e+00 - val_accuracy: 0.9950\n",
      "0.9950000047683716\n",
      "Epoch 653/700\n",
      "937/937 [==============================] - 10s 10ms/step - loss: 0.0132 - accuracy: 0.9985 - val_loss: 0.0000e+00 - val_accuracy: 0.9956\n",
      "0.9954000115394592\n",
      "Epoch 654/700\n",
      "937/937 [==============================] - 10s 11ms/step - loss: 0.0062 - accuracy: 0.9990 - val_loss: 0.0000e+00 - val_accuracy: 0.9956\n",
      "0.9961000084877014\n",
      "Epoch 655/700\n",
      "937/937 [==============================] - 10s 10ms/step - loss: 0.0074 - accuracy: 0.9991 - val_loss: 0.0000e+00 - val_accuracy: 0.9959\n",
      "0.9961000084877014\n",
      "Epoch 656/700\n",
      "937/937 [==============================] - 10s 10ms/step - loss: 0.0121 - accuracy: 0.9988 - val_loss: 0.5951 - val_accuracy: 0.9957\n",
      "0.995199978351593\n",
      "Epoch 657/700\n",
      "937/937 [==============================] - 10s 11ms/step - loss: 0.0068 - accuracy: 0.9992 - val_loss: 0.0000e+00 - val_accuracy: 0.9948\n",
      "0.9955000281333923\n",
      "Epoch 658/700\n",
      "937/937 [==============================] - 10s 10ms/step - loss: 0.0090 - accuracy: 0.9989 - val_loss: 0.0000e+00 - val_accuracy: 0.9956\n",
      "0.9958000183105469\n",
      "Epoch 659/700\n",
      "937/937 [==============================] - 10s 10ms/step - loss: 0.0092 - accuracy: 0.9989 - val_loss: 2.1009e-06 - val_accuracy: 0.9954\n",
      "0.9954000115394592\n",
      "Epoch 660/700\n",
      "937/937 [==============================] - 10s 11ms/step - loss: 0.0071 - accuracy: 0.9991 - val_loss: 1.2293e-07 - val_accuracy: 0.9952\n",
      "0.9955999851226807\n",
      "Epoch 661/700\n",
      "937/937 [==============================] - 10s 10ms/step - loss: 0.0091 - accuracy: 0.9990 - val_loss: 3.9918e-05 - val_accuracy: 0.9964\n",
      "0.9961000084877014\n",
      "Epoch 662/700\n",
      "937/937 [==============================] - 10s 10ms/step - loss: 0.0078 - accuracy: 0.9991 - val_loss: 1.4457 - val_accuracy: 0.9960\n",
      "0.9958999752998352\n",
      "Epoch 663/700\n",
      "937/937 [==============================] - 10s 11ms/step - loss: 0.0112 - accuracy: 0.9987 - val_loss: 7.4506e-09 - val_accuracy: 0.9960\n",
      "0.9962999820709229\n",
      "Epoch 664/700\n",
      "937/937 [==============================] - 10s 10ms/step - loss: 0.0097 - accuracy: 0.9988 - val_loss: 0.0000e+00 - val_accuracy: 0.9960\n",
      "0.9955000281333923\n",
      "Epoch 665/700\n",
      "937/937 [==============================] - 10s 10ms/step - loss: 0.0090 - accuracy: 0.9988 - val_loss: 0.0017 - val_accuracy: 0.9962\n",
      "0.996399998664856\n",
      "Epoch 666/700\n",
      "937/937 [==============================] - 10s 11ms/step - loss: 0.0138 - accuracy: 0.9986 - val_loss: 0.0000e+00 - val_accuracy: 0.9962\n",
      "0.9958999752998352\n",
      "Epoch 667/700\n",
      "937/937 [==============================] - 10s 10ms/step - loss: 0.0089 - accuracy: 0.9989 - val_loss: 4.1982e-05 - val_accuracy: 0.9960\n",
      "0.9965999722480774\n",
      "Epoch 668/700\n",
      "937/937 [==============================] - 10s 10ms/step - loss: 0.0095 - accuracy: 0.9989 - val_loss: 0.1625 - val_accuracy: 0.9958\n",
      "0.9954000115394592\n",
      "Epoch 669/700\n",
      "937/937 [==============================] - 10s 11ms/step - loss: 0.0073 - accuracy: 0.9990 - val_loss: 0.0000e+00 - val_accuracy: 0.9965\n",
      "0.9958999752998352\n",
      "Epoch 670/700\n",
      "937/937 [==============================] - 10s 10ms/step - loss: 0.0091 - accuracy: 0.9989 - val_loss: 0.0000e+00 - val_accuracy: 0.9959\n",
      "0.9961000084877014\n",
      "Epoch 671/700\n",
      "937/937 [==============================] - 10s 10ms/step - loss: 0.0124 - accuracy: 0.9986 - val_loss: 0.1219 - val_accuracy: 0.9935\n",
      "0.9939000010490417\n",
      "Epoch 672/700\n",
      "937/937 [==============================] - 10s 11ms/step - loss: 0.0081 - accuracy: 0.9991 - val_loss: 0.0000e+00 - val_accuracy: 0.9959\n",
      "0.9955000281333923\n",
      "Epoch 673/700\n",
      "937/937 [==============================] - 10s 10ms/step - loss: 0.0092 - accuracy: 0.9989 - val_loss: 0.8091 - val_accuracy: 0.9963\n"
     ]
    },
    {
     "name": "stdout",
     "output_type": "stream",
     "text": [
      "0.9965999722480774\n",
      "Epoch 674/700\n",
      "937/937 [==============================] - 10s 10ms/step - loss: 0.0098 - accuracy: 0.9990 - val_loss: 3.4401e-06 - val_accuracy: 0.9961\n",
      "0.9954000115394592\n",
      "Epoch 675/700\n",
      "937/937 [==============================] - 10s 11ms/step - loss: 0.0090 - accuracy: 0.9989 - val_loss: 0.0000e+00 - val_accuracy: 0.9959\n",
      "0.9958000183105469\n",
      "Epoch 676/700\n",
      "937/937 [==============================] - 9s 10ms/step - loss: 0.0105 - accuracy: 0.9991 - val_loss: 1.7843e-06 - val_accuracy: 0.9955\n",
      "0.9951000213623047\n",
      "Epoch 677/700\n",
      "937/937 [==============================] - 10s 10ms/step - loss: 0.0086 - accuracy: 0.9990 - val_loss: 0.0000e+00 - val_accuracy: 0.9964\n",
      "0.9966999888420105\n",
      "Epoch 678/700\n",
      "937/937 [==============================] - 10s 11ms/step - loss: 0.0096 - accuracy: 0.9989 - val_loss: 0.0000e+00 - val_accuracy: 0.9962\n",
      "0.9962999820709229\n",
      "Epoch 679/700\n",
      "937/937 [==============================] - 9s 10ms/step - loss: 0.0070 - accuracy: 0.9991 - val_loss: 2.1813e-04 - val_accuracy: 0.9968\n",
      "0.9959999918937683\n",
      "Epoch 680/700\n",
      "937/937 [==============================] - 10s 10ms/step - loss: 0.0065 - accuracy: 0.9991 - val_loss: 0.0000e+00 - val_accuracy: 0.9960\n",
      "0.9965000152587891\n",
      "Epoch 681/700\n",
      "937/937 [==============================] - 10s 11ms/step - loss: 0.0128 - accuracy: 0.9984 - val_loss: 0.0000e+00 - val_accuracy: 0.9959\n",
      "0.9962999820709229\n",
      "Epoch 682/700\n",
      "937/937 [==============================] - 10s 10ms/step - loss: 0.0079 - accuracy: 0.9991 - val_loss: 0.0000e+00 - val_accuracy: 0.9971\n",
      "0.9970999956130981\n",
      "*******************************************************************************************************\n",
      "0.9970999956130981\n",
      "*******************************************************************************************************\n",
      "Epoch 683/700\n",
      "937/937 [==============================] - 10s 10ms/step - loss: 0.0098 - accuracy: 0.9990 - val_loss: 2.6751e-05 - val_accuracy: 0.9959\n",
      "0.9965000152587891\n",
      "Epoch 684/700\n",
      "937/937 [==============================] - 10s 11ms/step - loss: 0.0076 - accuracy: 0.9991 - val_loss: 0.0000e+00 - val_accuracy: 0.9959\n",
      "0.9959999918937683\n",
      "Epoch 685/700\n",
      "937/937 [==============================] - 10s 10ms/step - loss: 0.0086 - accuracy: 0.9990 - val_loss: 0.0000e+00 - val_accuracy: 0.9962\n",
      "0.9962000250816345\n",
      "Epoch 686/700\n",
      "937/937 [==============================] - 10s 10ms/step - loss: 0.0095 - accuracy: 0.9989 - val_loss: 1.4600e-04 - val_accuracy: 0.9958\n",
      "0.9961000084877014\n",
      "Epoch 687/700\n",
      "937/937 [==============================] - 10s 11ms/step - loss: 0.0092 - accuracy: 0.9990 - val_loss: 0.0000e+00 - val_accuracy: 0.9958\n",
      "0.9954000115394592\n",
      "Epoch 688/700\n",
      "937/937 [==============================] - 10s 10ms/step - loss: 0.0080 - accuracy: 0.9990 - val_loss: 0.3058 - val_accuracy: 0.9949\n",
      "0.9950000047683716\n",
      "Epoch 689/700\n",
      "937/937 [==============================] - 10s 10ms/step - loss: 0.0095 - accuracy: 0.9988 - val_loss: 0.0000e+00 - val_accuracy: 0.9956\n",
      "0.9957000017166138\n",
      "Epoch 690/700\n",
      "937/937 [==============================] - 10s 11ms/step - loss: 0.0076 - accuracy: 0.9991 - val_loss: 1.8626e-09 - val_accuracy: 0.9962\n",
      "0.9955999851226807\n",
      "Epoch 691/700\n",
      "937/937 [==============================] - 10s 10ms/step - loss: 0.0113 - accuracy: 0.9988 - val_loss: 0.0000e+00 - val_accuracy: 0.9961\n",
      "0.9962999820709229\n",
      "Epoch 692/700\n",
      "937/937 [==============================] - 10s 10ms/step - loss: 0.0110 - accuracy: 0.9989 - val_loss: 0.0298 - val_accuracy: 0.9956\n",
      "0.9955999851226807\n",
      "Epoch 693/700\n",
      "937/937 [==============================] - 10s 11ms/step - loss: 0.0090 - accuracy: 0.9988 - val_loss: 0.5862 - val_accuracy: 0.9962\n",
      "0.9957000017166138\n",
      "Epoch 694/700\n",
      "937/937 [==============================] - 10s 10ms/step - loss: 0.0076 - accuracy: 0.9990 - val_loss: 0.0000e+00 - val_accuracy: 0.9963\n",
      "0.996399998664856\n",
      "Epoch 695/700\n",
      "937/937 [==============================] - 10s 10ms/step - loss: 0.0105 - accuracy: 0.9988 - val_loss: 0.0000e+00 - val_accuracy: 0.9963\n",
      "0.9961000084877014\n",
      "Epoch 696/700\n",
      "937/937 [==============================] - 10s 11ms/step - loss: 0.0088 - accuracy: 0.9990 - val_loss: 0.0000e+00 - val_accuracy: 0.9971\n",
      "0.9968000054359436\n",
      "Epoch 697/700\n",
      "937/937 [==============================] - 10s 10ms/step - loss: 0.0119 - accuracy: 0.9987 - val_loss: 0.0000e+00 - val_accuracy: 0.9954\n",
      "0.9952999949455261\n",
      "Epoch 698/700\n",
      "937/937 [==============================] - 10s 10ms/step - loss: 0.0157 - accuracy: 0.9983 - val_loss: 0.0000e+00 - val_accuracy: 0.9956\n",
      "0.9958999752998352\n",
      "Epoch 699/700\n",
      "937/937 [==============================] - 10s 11ms/step - loss: 0.0112 - accuracy: 0.9987 - val_loss: 7.4506e-09 - val_accuracy: 0.9960\n",
      "0.9952999949455261\n",
      "Epoch 700/700\n",
      "937/937 [==============================] - 10s 10ms/step - loss: 0.0119 - accuracy: 0.9988 - val_loss: 0.0000e+00 - val_accuracy: 0.9960\n",
      "0.9961000084877014\n"
     ]
    }
   ],
   "source": [
    "epoch =700\n",
    "history_callback= model.fit_generator(train_generator, steps_per_epoch=60000//64, epochs=epoch, \n",
    "                    validation_data=test_generator, validation_steps=10000//64, callbacks=[cbk])"
   ]
  },
  {
   "cell_type": "code",
   "execution_count": 73,
   "metadata": {},
   "outputs": [],
   "source": [
    "val_accuracy = np.array(history_callback.history['val_accuracy'])\n",
    "val_loss =  np.array(history_callback.history['val_loss'])\n",
    "accuracy =  np.array(history_callback.history['accuracy'])\n",
    "loss =  np.array(history_callback.history['loss'])\n"
   ]
  },
  {
   "cell_type": "code",
   "execution_count": 74,
   "metadata": {},
   "outputs": [
    {
     "data": {
      "text/plain": [
       "[<matplotlib.lines.Line2D at 0x2152200fcc8>,\n",
       " <matplotlib.lines.Line2D at 0x2152200ff08>,\n",
       " <matplotlib.lines.Line2D at 0x2151b376d08>]"
      ]
     },
     "execution_count": 74,
     "metadata": {},
     "output_type": "execute_result"
    },
    {
     "data": {
      "image/png": "[encoded data removed]",
      "text/plain": [
       "<Figure size 432x288 with 1 Axes>"
      ]
     },
     "metadata": {
      "needs_background": "light"
     },
     "output_type": "display_data"
    }
   ],
   "source": [
    "x = np.arange(0.0, epoch, 1)\n",
    "plt.plot(x,val_accuracy,'r',x,accuracy,'b',test_acc,'g')"
   ]
  },
  {
   "cell_type": "code",
   "execution_count": 75,
   "metadata": {},
   "outputs": [
    {
     "data": {
      "text/plain": [
       "0.013091701849016516"
      ]
     },
     "execution_count": 75,
     "metadata": {},
     "output_type": "execute_result"
    }
   ],
   "source": [
    "loss[92]"
   ]
  },
  {
   "cell_type": "code",
   "execution_count": 76,
   "metadata": {},
   "outputs": [
    {
     "data": {
      "text/plain": [
       "[0.06513460730101481, 0.9970999956130981]"
      ]
     },
     "execution_count": 76,
     "metadata": {},
     "output_type": "execute_result"
    }
   ],
   "source": [
    "score = kr.models.load_model('./static/model.h5').evaluate(x_test, y_test, verbose=0)\n",
    "score"
   ]
  },
  {
   "cell_type": "code",
   "execution_count": 77,
   "metadata": {},
   "outputs": [
    {
     "data": {
      "text/plain": [
       "[<matplotlib.lines.Line2D at 0x21547f6c3c8>,\n",
       " <matplotlib.lines.Line2D at 0x21547f6c5c8>]"
      ]
     },
     "execution_count": 77,
     "metadata": {},
     "output_type": "execute_result"
    },
    {
     "data": {
      "image/png": "[encoded data removed]",
      "text/plain": [
       "<Figure size 432x288 with 1 Axes>"
      ]
     },
     "metadata": {
      "needs_background": "light"
     },
     "output_type": "display_data"
    }
   ],
   "source": [
    "x = np.arange(0.0, epoch, 1)\n",
    "plt.plot(x,loss,'g',x,val_loss,'y')"
   ]
  },
  {
   "cell_type": "code",
   "execution_count": null,
   "metadata": {},
   "outputs": [],
   "source": []
  }
 ],
 "metadata": {
  "kernelspec": {
   "display_name": "Python 3",
   "language": "python",
   "name": "python3"
  },
  "language_info": {
   "codemirror_mode": {
    "name": "ipython",
    "version": 3
   },
   "file_extension": ".py",
   "mimetype": "text/x-python",
   "name": "python",
   "nbconvert_exporter": "python",
   "pygments_lexer": "ipython3",
   "version": "3.7.4"
  }
 },
 "nbformat": 4,
 "nbformat_minor": 4
}
