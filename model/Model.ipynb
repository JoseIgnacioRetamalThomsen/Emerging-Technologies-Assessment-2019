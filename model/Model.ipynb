{
 "cells": [
  {
   "cell_type": "markdown",
   "metadata": {},
   "source": [
    "# Trainig a Model Using the MNIST datase for recgonise hand-writen digits\n",
    "    On this notebook we show how to create a model using  MNIST dataset.\n",
    "    We start showing how to read the bits from the dataset, then we do a quick introduction to neural network what \n",
    "    is useful for understand the model thath we will train.\n",
    "    We start with a simple linear model, \n",
    "\n"
   ]
  },
  {
   "cell_type": "markdown",
   "metadata": {},
   "source": [
    "  [http://yann.lecun.com/exdb/mnist/](http://yann.lecun.com/exdb/mnist/) "
   ]
  },
  {
   "cell_type": "markdown",
   "metadata": {},
   "source": [
    "# The Data\n",
    "\n",
    "  We will start by undertandig how the data is formated and parsing it i a suuitable way for train our model.\n",
    "  \n",
    "  Mnist provide 4 files: \n",
    "\n"
   ]
  },
  {
   "cell_type": "markdown",
   "metadata": {},
   "source": [
    "## Little and Big Endian Architecture \n",
    "\n",
    "  There are 2 types of processors architecture(litle and big endian). In litle endian bits are store from left to righ This is basically how the bytes are stored, in litle they are stored from left to right and in big the other way around.(Look this is you want to know more about https://chortle.ccsu.edu/AssemblyTutorial/Chapter-15/ass15_3.html ).\n",
    "  This is relevant for us because we need to know read the bytes right for get the proper data.\n",
    "  In python we can easyle check using sys, since I am using a Intel processor i expected to be litle."
   ]
  },
  {
   "cell_type": "code",
   "execution_count": 1,
   "metadata": {},
   "outputs": [],
   "source": [
    "import numpy as np\n",
    "from sys import byteorder"
   ]
  },
  {
   "cell_type": "markdown",
   "metadata": {},
   "source": [
    "Now we can check  our architecture:"
   ]
  },
  {
   "cell_type": "code",
   "execution_count": 2,
   "metadata": {},
   "outputs": [
    {
     "name": "stdout",
     "output_type": "stream",
     "text": [
      "little\n"
     ]
    }
   ],
   "source": [
    "print(byteorder)"
   ]
  },
  {
   "cell_type": "markdown",
   "metadata": {},
   "source": [
    "## Reading Mnist\n",
    "\n",
    "  Now we can start reading the train images file. \n",
    "  From Mnist webstie we know what to expected from each bit readed.\n",
    "   "
   ]
  },
  {
   "cell_type": "code",
   "execution_count": 3,
   "metadata": {},
   "outputs": [],
   "source": [
    "import gzip\n",
    "\n",
    "with gzip.open('mnist/train-images-idx3-ubyte.gz', 'rb') as f:\n",
    "    fc_train_img = f.read()"
   ]
  },
  {
   "cell_type": "markdown",
   "metadata": {},
   "source": [
    "  The first 4 bytes is the magic number which is a 32 bit integer, for the image set this number is 2051. Note that we are setting the byteorder as big."
   ]
  },
  {
   "cell_type": "code",
   "execution_count": 4,
   "metadata": {},
   "outputs": [
    {
     "data": {
      "text/plain": [
       "2051"
      ]
     },
     "execution_count": 4,
     "metadata": {},
     "output_type": "execute_result"
    }
   ],
   "source": [
    "int.from_bytes(fc_train_img[0:4], byteorder='big')"
   ]
  },
  {
   "cell_type": "markdown",
   "metadata": {},
   "source": [
    " Next is the the number of images as a 32 bit integer:"
   ]
  },
  {
   "cell_type": "code",
   "execution_count": 5,
   "metadata": {},
   "outputs": [
    {
     "data": {
      "text/plain": [
       "60000"
      ]
     },
     "execution_count": 5,
     "metadata": {},
     "output_type": "execute_result"
    }
   ],
   "source": [
    "train_img_total = int.from_bytes(fc_train_img[4:8], byteorder='big')\n",
    "train_img_total"
   ]
  },
  {
   "cell_type": "markdown",
   "metadata": {},
   "source": [
    "Then number of rows as 32 bit integer."
   ]
  },
  {
   "cell_type": "code",
   "execution_count": 6,
   "metadata": {},
   "outputs": [
    {
     "data": {
      "text/plain": [
       "28"
      ]
     },
     "execution_count": 6,
     "metadata": {},
     "output_type": "execute_result"
    }
   ],
   "source": [
    "row = int.from_bytes(fc_train_img[8:12], byteorder='big')\n",
    "row"
   ]
  },
  {
   "cell_type": "markdown",
   "metadata": {},
   "source": [
    "And a columns as 32 bit integer."
   ]
  },
  {
   "cell_type": "code",
   "execution_count": 7,
   "metadata": {},
   "outputs": [
    {
     "data": {
      "text/plain": [
       "28"
      ]
     },
     "execution_count": 7,
     "metadata": {},
     "output_type": "execute_result"
    }
   ],
   "source": [
    "col = int.from_bytes(fc_train_img[12:16], byteorder='big')\n",
    "col"
   ]
  },
  {
   "cell_type": "markdown",
   "metadata": {},
   "source": [
    "Then unsigned bytes(8 bits) , each byte represent a pixel. They are orginezed row-wise.\n",
    "\n",
    "The total of bits is : \n",
    "```python\n",
    "train_img_total*row*col\n",
    "```\n",
    "\n",
    "\n",
    "\n"
   ]
  },
  {
   "cell_type": "code",
   "execution_count": 8,
   "metadata": {},
   "outputs": [
    {
     "data": {
      "text/plain": [
       "47040016"
      ]
     },
     "execution_count": 8,
     "metadata": {},
     "output_type": "execute_result"
    }
   ],
   "source": [
    "last_byte = (train_img_total*row*col) + 16\n",
    "last_byte"
   ]
  },
  {
   "cell_type": "markdown",
   "metadata": {},
   "source": [
    "Now whe can read all bits:"
   ]
  },
  {
   "cell_type": "code",
   "execution_count": 9,
   "metadata": {},
   "outputs": [],
   "source": [
    "x_train = list(fc_train_img[16:last_byte])"
   ]
  },
  {
   "cell_type": "markdown",
   "metadata": {},
   "source": [
    "And reshape them ass 28*27 (784) array. They represent our vector.\n",
    "\n",
    "Also in Mnist pixel values are 0 to 255.0 , 0 representing the background. We want ot invert this, because having a non zero value as background is better for the trainig. "
   ]
  },
  {
   "cell_type": "code",
   "execution_count": 10,
   "metadata": {},
   "outputs": [
    {
     "data": {
      "text/plain": [
       "(60000, 784)"
      ]
     },
     "execution_count": 10,
     "metadata": {},
     "output_type": "execute_result"
    }
   ],
   "source": [
    "x_train = ~np.array(x_train).reshape(train_img_total,row*col).astype(np.uint8)\n",
    "x_train.shape"
   ]
  },
  {
   "cell_type": "markdown",
   "metadata": {},
   "source": [
    "We can see one image using pyplot:"
   ]
  },
  {
   "cell_type": "code",
   "execution_count": 11,
   "metadata": {},
   "outputs": [
    {
     "data": {
      "text/plain": [
       "<matplotlib.image.AxesImage at 0x134c4e37ec8>"
      ]
     },
     "execution_count": 11,
     "metadata": {},
     "output_type": "execute_result"
    }
   ],
   "source": [
    "import matplotlib.pyplot as plt\n",
    "plt.imshow(x_train[11].reshape(row,col), cmap='gray')"
   ]
  },
  {
   "cell_type": "markdown",
   "metadata": {},
   "source": [
    "Thats look like the image 11 is a 5. We can now read labels and check."
   ]
  },
  {
   "cell_type": "code",
   "execution_count": 12,
   "metadata": {},
   "outputs": [],
   "source": [
    "with gzip.open('mnist/train-labels-idx1-ubyte.gz', 'rb') as f:\n",
    "    fc_train_lbl = f.read()"
   ]
  },
  {
   "cell_type": "markdown",
   "metadata": {},
   "source": [
    "First 32 bits are magin number : 2049"
   ]
  },
  {
   "cell_type": "code",
   "execution_count": 13,
   "metadata": {},
   "outputs": [
    {
     "data": {
      "text/plain": [
       "2049"
      ]
     },
     "execution_count": 13,
     "metadata": {},
     "output_type": "execute_result"
    }
   ],
   "source": [
    "int.from_bytes(fc_train_lbl[0:4], byteorder='big')\n"
   ]
  },
  {
   "cell_type": "markdown",
   "metadata": {},
   "source": [
    "Then a 32 bits intiger, the total of labels. Must be 6000 as we got 6000 images. "
   ]
  },
  {
   "cell_type": "code",
   "execution_count": 14,
   "metadata": {},
   "outputs": [
    {
     "data": {
      "text/plain": [
       "60000"
      ]
     },
     "execution_count": 14,
     "metadata": {},
     "output_type": "execute_result"
    }
   ],
   "source": [
    "train_lvl_total = int.from_bytes(fc_train_lbl[4:8], byteorder='big')\n",
    "train_lvl_total"
   ]
  },
  {
   "cell_type": "markdown",
   "metadata": {},
   "source": [
    "Now each unsigned byte is a label, so we can check that 11 is 5:"
   ]
  },
  {
   "cell_type": "code",
   "execution_count": 15,
   "metadata": {},
   "outputs": [
    {
     "name": "stdout",
     "output_type": "stream",
     "text": [
      "5\n"
     ]
    }
   ],
   "source": [
    "y_train = np.array(list(fc_train_lbl[8:train_lvl_total+8]))\n",
    "print(y_train[11])"
   ]
  },
  {
   "cell_type": "markdown",
   "metadata": {},
   "source": [
    "We now real the test images and labels:"
   ]
  },
  {
   "cell_type": "code",
   "execution_count": 16,
   "metadata": {},
   "outputs": [],
   "source": [
    "with gzip.open('mnist/t10k-images-idx3-ubyte.gz', 'rb') as f:\n",
    "    fc_test_img = f.read()\n",
    "with gzip.open('mnist/t10k-labels-idx1-ubyte.gz', 'rb') as f:\n",
    "    fc_test_lbl = f.read()\n",
    "    \n",
    "test_img_total = int.from_bytes(fc_test_img[4:8], byteorder='big')\n",
    "test_lbl_total = int.from_bytes(fc_test_lbl[4:8], byteorder='big')\n",
    "\n",
    "last_byte = (test_img_total*row*col) + 16\n",
    "x_test = list(fc_test_img[16:last_byte])\n",
    "x_test = ~np.array(x_test).reshape(test_img_total,row*col).astype(np.uint8)\n",
    "\n",
    "y_test = np.array(list(fc_test_lbl[8:test_lbl_total+8]))"
   ]
  },
  {
   "cell_type": "code",
   "execution_count": 17,
   "metadata": {},
   "outputs": [],
   "source": [
    "x_train = x_train.astype('float32')\n",
    "x_test = x_test.astype('float32')"
   ]
  },
  {
   "cell_type": "code",
   "execution_count": 18,
   "metadata": {},
   "outputs": [],
   "source": [
    "x_train =  x_train/255.0\n",
    "x_test = x_test/255.0"
   ]
  },
  {
   "cell_type": "code",
   "execution_count": 19,
   "metadata": {},
   "outputs": [
    {
     "data": {
      "text/plain": [
       "<matplotlib.image.AxesImage at 0x134ce6a10c8>"
      ]
     },
     "execution_count": 19,
     "metadata": {},
     "output_type": "execute_result"
    },
    {
     "data": {
      "image/png": "[encoded data removed]",
      "text/plain": [
       "<Figure size 432x288 with 1 Axes>"
      ]
     },
     "metadata": {
      "needs_background": "light"
     },
     "output_type": "display_data"
    }
   ],
   "source": [
    "plt.imshow(x_test[11].reshape(row,col), cmap='gray')"
   ]
  },
  {
   "cell_type": "code",
   "execution_count": 20,
   "metadata": {},
   "outputs": [
    {
     "name": "stdout",
     "output_type": "stream",
     "text": [
      "6\n"
     ]
    }
   ],
   "source": [
    "print(y_test[11])"
   ]
  },
  {
   "cell_type": "markdown",
   "metadata": {},
   "source": [
    "# Neuron Network\n",
    "\n",
    "Most peope can recognize handwrite digits with no problem(beacuse we have a very complex brain). This is not a easy task for a computer. We will use the neural netwok aproach, we will take a large number of labeled handwrite digits -the training examples- (<b>x_train</b>), and create a model that can learn from those examples.\n"
   ]
  },
  {
   "cell_type": "markdown",
   "metadata": {},
   "source": [
    "## Neurons\n",
    "\n",
    " The idea is simple, they take several imputs(  $ x_1, x_2 ... x_n $) and produce a single output.\n",
    "\n",
    "\n"
   ]
  },
  {
   "cell_type": "markdown",
   "metadata": {},
   "source": [
    "![Single neuron](img/SingleNeuron.png)"
   ]
  },
  {
   "cell_type": "markdown",
   "metadata": {},
   "source": [
    "Each input have  <i>weights</i>  $ w_1, w_2 ... w_n $ , a weight sum is calculated:${\\sum_n x_n w_n}$ then the results goes through a activation function."
   ]
  },
  {
   "cell_type": "markdown",
   "metadata": {},
   "source": [
    "[http://neuralnetworksanddeeplearning.com/chap1.html](http://neuralnetworksanddeeplearning.com/chap1.html/) \n",
    "\n",
    "[https://github.com/ianmcloughlin/jupyter-teaching-notebooks/blob/master/keras-neurons.ipynb](https://github.com/ianmcloughlin/jupyter-teaching-notebooks/blob/master/keras-neurons.ipynb) \n",
    "\n"
   ]
  },
  {
   "cell_type": "markdown",
   "metadata": {},
   "source": [
    "## Layers\n",
    "\n",
    "We create layers composed of neurons. at least one input layer and a output layer is required, there can be hidden layers between the input and output layer. \n",
    "\n",
    "Our images are 28x28, we can create a 784 vector that represent the image. So we will feed out network with 784 inputs, this is our input layer that is also know as hidden layer.\n",
    "Since we need to discriminate 10 numbers out output layer will have 10 neurons, each will represent a digit from 0 to 9. Then we can use SoftMax activation function for the output of each of our network to represent a probability of being a digit.\n"
   ]
  },
  {
   "cell_type": "markdown",
   "metadata": {},
   "source": [
    "## Activation : softmax\n",
    "  We want our result to represent a probablility of being one of the 10 digits(0,1,3...).\n",
    "  The softmax activation function will do this for us, it will output our output for each neuron beetwen 0 and 1.Then each \n",
    "  of our neuron can represent a a digit so the one will bigger probability will be our prediction.\n",
    "  \n",
    "  $$\\sigma (z)_j = \\frac{e^{(z)_j}}{\\sum_{k=0}^{K}e^{(z)_k}} \\text{  where   j = 1,...,K}$$  \n",
    "  \n",
    "  In our case K = 10.\n",
    "  \n",
    "  https://www.analyticsvidhya.com/blog/2017/10/fundamentals-deep-learning-activation-functions-when-to-use-them/"
   ]
  },
  {
   "cell_type": "markdown",
   "metadata": {},
   "source": [
    "## First model\n",
    "\n",
    " We will start create a 2 layers model, input and output : the input layer will be the 784 vector created with the image data and the output a 10 neuros with activation softmax. \n",
    " "
   ]
  },
  {
   "cell_type": "markdown",
   "metadata": {},
   "source": [
    "![Single neuron](img/Model1.png)"
   ]
  },
  {
   "cell_type": "code",
   "execution_count": 21,
   "metadata": {},
   "outputs": [
    {
     "name": "stderr",
     "output_type": "stream",
     "text": [
      "Using TensorFlow backend.\n"
     ]
    }
   ],
   "source": [
    "import keras as kr"
   ]
  },
  {
   "cell_type": "code",
   "execution_count": 22,
   "metadata": {},
   "outputs": [],
   "source": [
    "# create sequeantial model\n",
    "model = kr.models.Sequential()\n",
    "\n",
    "# The input layer is added by keras when we set input = 784 \n",
    "# We add 10 neuroas with softmax for output\n",
    "model.add(kr.layers.Dense(units=10, input_dim=784, activation='softmax'))\n",
    "\n",
    "# Compile the model.\n",
    "model.compile(loss='categorical_crossentropy',optimizer='adam', metrics=['accuracy'])"
   ]
  },
  {
   "cell_type": "markdown",
   "metadata": {},
   "source": [
    "We can se a summary of our model:"
   ]
  },
  {
   "cell_type": "code",
   "execution_count": 23,
   "metadata": {},
   "outputs": [
    {
     "name": "stdout",
     "output_type": "stream",
     "text": [
      "Model: \"sequential_1\"\n",
      "_________________________________________________________________\n",
      "Layer (type)                 Output Shape              Param #   \n",
      "=================================================================\n",
      "dense_1 (Dense)              (None, 10)                7850      \n",
      "=================================================================\n",
      "Total params: 7,850\n",
      "Trainable params: 7,850\n",
      "Non-trainable params: 0\n",
      "_________________________________________________________________\n"
     ]
    }
   ],
   "source": [
    "model.summary()"
   ]
  },
  {
   "cell_type": "markdown",
   "metadata": {},
   "source": [
    "The 7850 parameters are:\n",
    " 10 weights from each input node to each output made 7840 plus 10 weightns on the outputs nodes."
   ]
  },
  {
   "cell_type": "markdown",
   "metadata": {},
   "source": [
    "We are missing few thinks to explain: loss,optimizer and metrics. "
   ]
  },
  {
   "cell_type": "code",
   "execution_count": 24,
   "metadata": {},
   "outputs": [],
   "source": [
    "#np.argmax(result, axis=-1)[0]"
   ]
  },
  {
   "cell_type": "markdown",
   "metadata": {},
   "source": [
    "## Loss : categorical_crossentropy\n",
    "\n",
    "    After we calculate our result we need to calculate the distance beetween our prediction and our epected result.\n",
    "    https://algorithmia.com/blog/introduction-to-loss-functions\n",
    "    "
   ]
  },
  {
   "cell_type": "markdown",
   "metadata": {},
   "source": [
    "## Optimazer : adam\n",
    "https://algorithmia.com/blog/introduction-to-optimizers"
   ]
  },
  {
   "cell_type": "markdown",
   "metadata": {},
   "source": [
    "## Preparing the labes\n",
    "    \n",
    "We are almost done for train our model for first time, the only problems is that our labels are a single digit. We need make theem vectors with a 1 on the number position. "
   ]
  },
  {
   "cell_type": "code",
   "execution_count": 25,
   "metadata": {},
   "outputs": [],
   "source": [
    "y_train = kr.utils.to_categorical(y_train, 10)\n",
    "y_test  = kr.utils.to_categorical(y_test, 10)"
   ]
  },
  {
   "cell_type": "code",
   "execution_count": 26,
   "metadata": {},
   "outputs": [
    {
     "data": {
      "text/plain": [
       "array([0., 0., 0., 0., 0., 1., 0., 0., 0., 0.], dtype=float32)"
      ]
     },
     "execution_count": 26,
     "metadata": {},
     "output_type": "execute_result"
    }
   ],
   "source": [
    "y_train[0]"
   ]
  },
  {
   "cell_type": "markdown",
   "metadata": {},
   "source": [
    "Now we are ready, we will start training this simple model with 10 epochs, batch of 100 (means we train the model with 100 images at a time)."
   ]
  },
  {
   "cell_type": "code",
   "execution_count": 27,
   "metadata": {
    "scrolled": true
   },
   "outputs": [
    {
     "name": "stdout",
     "output_type": "stream",
     "text": [
      "Train on 60000 samples, validate on 10000 samples\n",
      "Epoch 1/10\n",
      "60000/60000 [==============================] - 2s 29us/step - loss: 0.8113 - accuracy: 0.7871 - val_loss: 0.4456 - val_accuracy: 0.8807\n",
      "Epoch 2/10\n",
      "60000/60000 [==============================] - 1s 23us/step - loss: 0.4293 - accuracy: 0.8788 - val_loss: 0.3864 - val_accuracy: 0.8940\n",
      "Epoch 3/10\n",
      "60000/60000 [==============================] - 1s 23us/step - loss: 0.3759 - accuracy: 0.8918 - val_loss: 0.3393 - val_accuracy: 0.9068\n",
      "Epoch 4/10\n",
      "60000/60000 [==============================] - 1s 23us/step - loss: 0.3529 - accuracy: 0.8987 - val_loss: 0.3245 - val_accuracy: 0.9051\n",
      "Epoch 5/10\n",
      "60000/60000 [==============================] - 1s 23us/step - loss: 0.3406 - accuracy: 0.9018 - val_loss: 0.3265 - val_accuracy: 0.9065\n",
      "Epoch 6/10\n",
      "60000/60000 [==============================] - 1s 23us/step - loss: 0.3287 - accuracy: 0.9041 - val_loss: 0.3094 - val_accuracy: 0.9130\n",
      "Epoch 7/10\n",
      "60000/60000 [==============================] - 1s 23us/step - loss: 0.3243 - accuracy: 0.9055 - val_loss: 0.3058 - val_accuracy: 0.9131\n",
      "Epoch 8/10\n",
      "60000/60000 [==============================] - 1s 24us/step - loss: 0.3168 - accuracy: 0.9090 - val_loss: 0.3012 - val_accuracy: 0.9125\n",
      "Epoch 9/10\n",
      "60000/60000 [==============================] - 1s 24us/step - loss: 0.3136 - accuracy: 0.9097 - val_loss: 0.2972 - val_accuracy: 0.9146\n",
      "Epoch 10/10\n",
      "60000/60000 [==============================] - 1s 24us/step - loss: 0.3097 - accuracy: 0.9100 - val_loss: 0.2954 - val_accuracy: 0.9146\n"
     ]
    }
   ],
   "source": [
    "epoch = 10\n",
    "history_callback = model.fit(x_train, y_train, validation_data=(x_test,y_test), epochs=epoch, batch_size=100)"
   ]
  },
  {
   "cell_type": "markdown",
   "metadata": {},
   "source": [
    "## First results\n",
    "\n",
    " We have achived a 99.67 accuracy with this very simple model, this is going to be our baseline and we change our model for improve the results"
   ]
  },
  {
   "cell_type": "markdown",
   "metadata": {},
   "source": [
    "We can get data history, since we will be doing this several times i also define a function for use later."
   ]
  },
  {
   "cell_type": "code",
   "execution_count": 28,
   "metadata": {},
   "outputs": [],
   "source": [
    "val_accuracy = np.array(history_callback.history['val_accuracy'])\n",
    "val_loss =  np.array(history_callback.history['val_loss'])\n",
    "accuracy =  np.array(history_callback.history['accuracy'])\n",
    "loss =  np.array(history_callback.history['loss'])\n",
    "\n",
    "def get_stats():\n",
    "    val_accuracy = np.array(history_callback.history['val_accuracy'])\n",
    "    val_loss =  np.array(history_callback.history['val_loss'])\n",
    "    accuracy =  np.array(history_callback.history['accuracy'])\n",
    "    loss =  np.array(history_callback.history['loss'])\n",
    "              "
   ]
  },
  {
   "cell_type": "code",
   "execution_count": 29,
   "metadata": {},
   "outputs": [],
   "source": [
    "get_stats()"
   ]
  },
  {
   "cell_type": "code",
   "execution_count": 30,
   "metadata": {},
   "outputs": [
    {
     "data": {
      "text/plain": [
       "[<matplotlib.lines.Line2D at 0x13665a76dc8>,\n",
       " <matplotlib.lines.Line2D at 0x13665a7ed08>,\n",
       " <matplotlib.lines.Line2D at 0x13665a7eec8>,\n",
       " <matplotlib.lines.Line2D at 0x13665a870c8>]"
      ]
     },
     "execution_count": 30,
     "metadata": {},
     "output_type": "execute_result"
    },
    {
     "data": {
      "image/png": "[encoded data removed]",
      "text/plain": [
       "<Figure size 432x288 with 1 Axes>"
      ]
     },
     "metadata": {
      "needs_background": "light"
     },
     "output_type": "display_data"
    }
   ],
   "source": [
    "x = np.arange(0.0, epoch, 1)\n",
    "plt.plot(x,val_accuracy,'b',x,accuracy,'r',x,loss,'g',x,val_loss,'y')"
   ]
  },
  {
   "cell_type": "markdown",
   "metadata": {},
   "source": [
    "- Red : Test accuracy.\n",
    "- Blue : Train accuracy.\n",
    "- Green : Train loss.\n",
    "- Yellow: Test loss."
   ]
  },
  {
   "cell_type": "markdown",
   "metadata": {},
   "source": [
    "# Adding more Layers and Relu activation function"
   ]
  },
  {
   "cell_type": "markdown",
   "metadata": {},
   "source": [
    "# Relu\n",
    "\n",
    "Rectified linea unit(Relu), is one of the most common activation functions in neural networks. Relu is very simple, linear for all positive valueas and 0 for all negative values:\n",
    "$$ f(x)       \\begin{cases}\n",
    "       \\text{0,} &\\quad\\text{if } x \\le0\\\\\n",
    "       f(x) &\\quad\\text{if } x  >0 \\\\\n",
    "       \\end{cases}$$\n"
   ]
  },
  {
   "cell_type": "markdown",
   "metadata": {},
   "source": [
    "![Relu](img/relu.png)"
   ]
  },
  {
   "cell_type": "markdown",
   "metadata": {},
   "source": [
    "# Some advantages of Relu:\n",
    "- Cheap to compute.\n",
    "- Good sparsity.\n",
    "- Converge faster."
   ]
  },
  {
   "cell_type": "markdown",
   "metadata": {},
   "source": [
    "[https://keras.io/activations/](https://keras.io/activations/)\n",
    "\n",
    "[https://medium.com/@danqing/a-practical-guide-to-relu-b83ca804f1f7](https://medium.com/@danqing/a-practical-guide-to-relu-b83ca804f1f7) \n",
    "\n",
    "[https://datascience.stackexchange.com/questions/14349/difference-of-activation-functions-in-neural-networks-in-general](https://datascience.stackexchange.com/questions/14349/difference-of-activation-functions-in-neural-networks-in-general)"
   ]
  },
  {
   "cell_type": "markdown",
   "metadata": {},
   "source": [
    "## Extra layers\n",
    "\n",
    "We can now add more layers using relu activation function:\n",
    "- Same input layer.\n",
    "- \" hiddens laters  512 and 98 neuors, with relu.\n",
    "- Same output layer, 10 neurons with softmax."
   ]
  },
  {
   "cell_type": "code",
   "execution_count": 31,
   "metadata": {},
   "outputs": [],
   "source": [
    "model = kr.models.Sequential()\n",
    "model.add(kr.layers.Dense(units=512, input_dim=784, activation='relu'))\n",
    "model.add(kr.layers.Dense(units=98, activation='relu'))\n",
    "model.add(kr.layers.Dense(units=10, activation='softmax'))\n",
    "model.compile(loss='categorical_crossentropy',optimizer='adam', metrics=['accuracy'])"
   ]
  },
  {
   "cell_type": "code",
   "execution_count": 32,
   "metadata": {},
   "outputs": [
    {
     "name": "stdout",
     "output_type": "stream",
     "text": [
      "Model: \"sequential_2\"\n",
      "_________________________________________________________________\n",
      "Layer (type)                 Output Shape              Param #   \n",
      "=================================================================\n",
      "dense_2 (Dense)              (None, 512)               401920    \n",
      "_________________________________________________________________\n",
      "dense_3 (Dense)              (None, 98)                50274     \n",
      "_________________________________________________________________\n",
      "dense_4 (Dense)              (None, 10)                990       \n",
      "=================================================================\n",
      "Total params: 453,184\n",
      "Trainable params: 453,184\n",
      "Non-trainable params: 0\n",
      "_________________________________________________________________\n"
     ]
    }
   ],
   "source": [
    "model.summary()"
   ]
  },
  {
   "cell_type": "code",
   "execution_count": 33,
   "metadata": {},
   "outputs": [
    {
     "name": "stdout",
     "output_type": "stream",
     "text": [
      "Train on 60000 samples, validate on 10000 samples\n",
      "Epoch 1/10\n",
      "60000/60000 [==============================] - 2s 32us/step - loss: 0.5445 - accuracy: 0.8364 - val_loss: 0.2995 - val_accuracy: 0.9098\n",
      "Epoch 2/10\n",
      "60000/60000 [==============================] - 2s 30us/step - loss: 0.3117 - accuracy: 0.9057 - val_loss: 0.2763 - val_accuracy: 0.9190\n",
      "Epoch 3/10\n",
      "60000/60000 [==============================] - 2s 31us/step - loss: 0.2409 - accuracy: 0.9268 - val_loss: 0.2205 - val_accuracy: 0.9303\n",
      "Epoch 4/10\n",
      "60000/60000 [==============================] - 2s 30us/step - loss: 0.1940 - accuracy: 0.9399 - val_loss: 0.1986 - val_accuracy: 0.9370\n",
      "Epoch 5/10\n",
      "60000/60000 [==============================] - 2s 30us/step - loss: 0.1698 - accuracy: 0.9474 - val_loss: 0.1394 - val_accuracy: 0.9585\n",
      "Epoch 6/10\n",
      "60000/60000 [==============================] - 2s 30us/step - loss: 0.1514 - accuracy: 0.9528 - val_loss: 0.1459 - val_accuracy: 0.9538\n",
      "Epoch 7/10\n",
      "60000/60000 [==============================] - 2s 30us/step - loss: 0.1334 - accuracy: 0.9589 - val_loss: 0.1231 - val_accuracy: 0.9620\n",
      "Epoch 8/10\n",
      "60000/60000 [==============================] - 2s 30us/step - loss: 0.1233 - accuracy: 0.9613 - val_loss: 0.1124 - val_accuracy: 0.9639\n",
      "Epoch 9/10\n",
      "60000/60000 [==============================] - 2s 30us/step - loss: 0.1117 - accuracy: 0.9654 - val_loss: 0.1237 - val_accuracy: 0.9598\n",
      "Epoch 10/10\n",
      "60000/60000 [==============================] - 2s 30us/step - loss: 0.1032 - accuracy: 0.9678 - val_loss: 0.1193 - val_accuracy: 0.9615\n"
     ]
    }
   ],
   "source": [
    "epoch = 10\n",
    "history_callback = model.fit(x_train, y_train, validation_data=(x_test,y_test), epochs=epoch, batch_size=100)"
   ]
  },
  {
   "cell_type": "code",
   "execution_count": 34,
   "metadata": {},
   "outputs": [
    {
     "data": {
      "text/plain": [
       "[<matplotlib.lines.Line2D at 0x13678deb4c8>,\n",
       " <matplotlib.lines.Line2D at 0x13678df5548>,\n",
       " <matplotlib.lines.Line2D at 0x13678df5708>,\n",
       " <matplotlib.lines.Line2D at 0x13678df5908>]"
      ]
     },
     "execution_count": 34,
     "metadata": {},
     "output_type": "execute_result"
    },
    {
     "data": {
      "image/png": "[encoded data removed]",
      "text/plain": [
       "<Figure size 432x288 with 1 Axes>"
      ]
     },
     "metadata": {
      "needs_background": "light"
     },
     "output_type": "display_data"
    }
   ],
   "source": [
    "get_stats()\n",
    "x = np.arange(0.0, epoch, 1)\n",
    "plt.plot(x,val_accuracy,'b',x,accuracy,'r',x,loss,'g',x,val_loss,'y')"
   ]
  },
  {
   "cell_type": "markdown",
   "metadata": {},
   "source": [
    "Relu and the extra layers have give a greeat improvement to our model, from 91% to 96.5%. "
   ]
  },
  {
   "cell_type": "markdown",
   "metadata": {},
   "source": [
    "# Dropout\n",
    "\n",
    "Drop out is regularization technic, basically we drop some random neurons during trainig, \n",
    "they are temporary shuttend down. \n",
    "\n",
    "Is belive that this make other neurons be more active so improve the learning rate.\n",
    "\n",
    "The effect is a network taht is less sensitive to specific weights of neurons. The netwoek is capable of a better generalizaion and avoid overfit.\n",
    "\n",
    "Drop out is very easily implemented with keras, we just need to pick a percent of dropped out neurons for each epoch."
   ]
  },
  {
   "cell_type": "markdown",
   "metadata": {},
   "source": [
    "[https://keras.io/layers/core/](https://keras.io/layers/core/)\n",
    "\n",
    "[https://machinelearningmastery.com/dropout-regularization-deep-learning-models-keras/](https://machinelearningmastery.com/dropout-regularization-deep-learning-models-keras/)"
   ]
  },
  {
   "cell_type": "code",
   "execution_count": null,
   "metadata": {},
   "outputs": [],
   "source": []
  },
  {
   "cell_type": "code",
   "execution_count": null,
   "metadata": {},
   "outputs": [],
   "source": []
  },
  {
   "cell_type": "code",
   "execution_count": 35,
   "metadata": {},
   "outputs": [],
   "source": [
    "model = kr.models.Sequential()\n",
    "model.add(kr.layers.Dense(units=512, input_dim=784, activation='relu'))\n",
    "model.add(kr.layers.Dropout(0.01))\n",
    "model.add(kr.layers.Dense(units=98, activation='relu'))\n",
    "model.add(kr.layers.Dropout(0.1))\n",
    "model.add(kr.layers.Dense(units=10, activation='softmax'))\n",
    "model.compile(loss='categorical_crossentropy',optimizer='adam', metrics=['accuracy'])"
   ]
  },
  {
   "cell_type": "code",
   "execution_count": 36,
   "metadata": {},
   "outputs": [
    {
     "name": "stdout",
     "output_type": "stream",
     "text": [
      "Model: \"sequential_3\"\n",
      "_________________________________________________________________\n",
      "Layer (type)                 Output Shape              Param #   \n",
      "=================================================================\n",
      "dense_5 (Dense)              (None, 512)               401920    \n",
      "_________________________________________________________________\n",
      "dropout_1 (Dropout)          (None, 512)               0         \n",
      "_________________________________________________________________\n",
      "dense_6 (Dense)              (None, 98)                50274     \n",
      "_________________________________________________________________\n",
      "dropout_2 (Dropout)          (None, 98)                0         \n",
      "_________________________________________________________________\n",
      "dense_7 (Dense)              (None, 10)                990       \n",
      "=================================================================\n",
      "Total params: 453,184\n",
      "Trainable params: 453,184\n",
      "Non-trainable params: 0\n",
      "_________________________________________________________________\n"
     ]
    }
   ],
   "source": [
    "model.summary()"
   ]
  },
  {
   "cell_type": "code",
   "execution_count": null,
   "metadata": {},
   "outputs": [
    {
     "name": "stdout",
     "output_type": "stream",
     "text": [
      "Train on 60000 samples, validate on 10000 samples\n",
      "Epoch 1/10\n",
      "29300/60000 [=============>................] - ETA: 1:06 - loss: 0.0011 - accuracy: 0.9999"
     ]
    }
   ],
   "source": [
    "epoch = 10\n",
    "history_callback = model.fit(x_train, y_train, validation_data=(x_test,y_test), epochs=epoch, batch_size=100)"
   ]
  },
  {
   "cell_type": "code",
   "execution_count": 38,
   "metadata": {},
   "outputs": [
    {
     "data": {
      "text/plain": [
       "[<matplotlib.lines.Line2D at 0x1367ab51ac8>,\n",
       " <matplotlib.lines.Line2D at 0x1367ab599c8>,\n",
       " <matplotlib.lines.Line2D at 0x1367ab59b88>,\n",
       " <matplotlib.lines.Line2D at 0x1367ab59d48>]"
      ]
     },
     "execution_count": 38,
     "metadata": {},
     "output_type": "execute_result"
    },
    {
     "data": {
      "image/png": "[encoded data removed]",
      "text/plain": [
       "<Figure size 432x288 with 1 Axes>"
      ]
     },
     "metadata": {
      "needs_background": "light"
     },
     "output_type": "display_data"
    }
   ],
   "source": [
    "get_stats()\n",
    "x = np.arange(0.0, epoch, 1)\n",
    "plt.plot(x,val_accuracy,'b',x,accuracy,'r',x,loss,'g',x,val_loss,'y')"
   ]
  },
  {
   "cell_type": "markdown",
   "metadata": {},
   "source": [
    "Dropout improve our model from 96.5% to 97%, so now we are at 97%."
   ]
  },
  {
   "cell_type": "code",
   "execution_count": null,
   "metadata": {},
   "outputs": [],
   "source": []
  },
  {
   "cell_type": "markdown",
   "metadata": {},
   "source": [
    "# 2D Convolutional Neural Network\n",
    "\n",
    "We have achiave 97% accuracy on our model, but we are missing a very importan point : shapes are 2D images and there is a relation beetween pixels. Transforming our image in a 1D vector we completaly ignore the shape of the image.\n",
    "Using convolutional neurons we can feed neurons with 2D arrays of pixels and someone preserve the data on the shape of the image.\n",
    "\n",
    "In the image bellow we can see how a 3x3 convolutional networds works.Note that the image is just for ilustrate how convolutional networls works, is not related with the one we will use."
   ]
  },
  {
   "cell_type": "markdown",
   "metadata": {},
   "source": [
    "![Conv2d](img/conv2d.gif)\n",
    "\n",
    "### image from:  [https://www.pyimagesearch.com/2018/12/31/keras-conv2d-and-convolutional-layers/](https://www.pyimagesearch.com/2018/12/31/keras-conv2d-and-convolutional-layers/)"
   ]
  },
  {
   "cell_type": "markdown",
   "metadata": {},
   "source": [
    "[https://keras.io/layers/convolutional/](https://keras.io/layers/convolutional/)\n",
    "\n",
    "[https://towardsdatascience.com/a-comprehensive-guide-to-convolutional-neural-networks-the-eli5-way-3bd2b1164a53](https://towardsdatascience.com/a-comprehensive-guide-to-convolutional-neural-networks-the-eli5-way-3bd2b1164a53)"
   ]
  },
  {
   "cell_type": "markdown",
   "metadata": {},
   "source": [
    "## Reforating input data for convolutional network\n",
    "\n",
    "We now need to reshape our data for be a 28 by 28 array so it can be fit onto the convolutional network."
   ]
  },
  {
   "cell_type": "code",
   "execution_count": 39,
   "metadata": {},
   "outputs": [],
   "source": [
    "x_train = x_train.reshape(train_img_total,col,row,1)\n",
    "x_test = x_test.reshape(test_img_total,col,row,1)"
   ]
  },
  {
   "cell_type": "code",
   "execution_count": null,
   "metadata": {},
   "outputs": [],
   "source": []
  },
  {
   "cell_type": "code",
   "execution_count": null,
   "metadata": {},
   "outputs": [],
   "source": []
  },
  {
   "cell_type": "code",
   "execution_count": null,
   "metadata": {},
   "outputs": [],
   "source": []
  },
  {
   "cell_type": "code",
   "execution_count": null,
   "metadata": {},
   "outputs": [],
   "source": []
  },
  {
   "cell_type": "code",
   "execution_count": 40,
   "metadata": {},
   "outputs": [],
   "source": [
    "model = kr.models.Sequential()\n",
    "\n",
    "model.add(kr.layers.Conv2D(256,kernel_size=(3, 3),activation='relu'))\n",
    "model.add(kr.layers.Flatten())\n",
    "model.add(kr.layers.Dropout(0.25))\n",
    "model.add(kr.layers.Dense(units=98, activation='relu'))\n",
    "model.add(kr.layers.Dropout(0.1))\n",
    "model.add(kr.layers.Dense(units=10, activation='softmax'))\n",
    "model.compile(loss='categorical_crossentropy',optimizer='adam', metrics=['accuracy'])"
   ]
  },
  {
   "cell_type": "code",
   "execution_count": 41,
   "metadata": {},
   "outputs": [
    {
     "name": "stdout",
     "output_type": "stream",
     "text": [
      "Train on 60000 samples, validate on 10000 samples\n",
      "Epoch 1/10\n",
      "60000/60000 [==============================] - 14s 230us/step - loss: 0.3644 - accuracy: 0.8997 - val_loss: 0.0887 - val_accuracy: 0.9728\n",
      "Epoch 2/10\n",
      "60000/60000 [==============================] - 12s 202us/step - loss: 0.1030 - accuracy: 0.9684 - val_loss: 0.0738 - val_accuracy: 0.9757\n",
      "Epoch 3/10\n",
      "60000/60000 [==============================] - 12s 201us/step - loss: 0.0674 - accuracy: 0.9785 - val_loss: 0.0640 - val_accuracy: 0.9787\n",
      "Epoch 4/10\n",
      "60000/60000 [==============================] - 12s 201us/step - loss: 0.0482 - accuracy: 0.9849 - val_loss: 0.0546 - val_accuracy: 0.9821\n",
      "Epoch 5/10\n",
      "60000/60000 [==============================] - 12s 200us/step - loss: 0.0361 - accuracy: 0.9882 - val_loss: 0.0593 - val_accuracy: 0.9808\n",
      "Epoch 6/10\n",
      "60000/60000 [==============================] - 12s 202us/step - loss: 0.0291 - accuracy: 0.9905 - val_loss: 0.0641 - val_accuracy: 0.9806\n",
      "Epoch 7/10\n",
      "60000/60000 [==============================] - 12s 201us/step - loss: 0.0247 - accuracy: 0.9917 - val_loss: 0.0584 - val_accuracy: 0.9834\n",
      "Epoch 8/10\n",
      "60000/60000 [==============================] - 12s 203us/step - loss: 0.0222 - accuracy: 0.9926 - val_loss: 0.0565 - val_accuracy: 0.9826\n",
      "Epoch 9/10\n",
      "60000/60000 [==============================] - 12s 202us/step - loss: 0.0193 - accuracy: 0.9935 - val_loss: 0.0539 - val_accuracy: 0.9842\n",
      "Epoch 10/10\n",
      "60000/60000 [==============================] - 12s 201us/step - loss: 0.0157 - accuracy: 0.9946 - val_loss: 0.0589 - val_accuracy: 0.9825\n"
     ]
    }
   ],
   "source": [
    "epoch = 10\n",
    "history_callback = model.fit(x_train, y_train, validation_data=(x_test,y_test), epochs=epoch, batch_size=100)"
   ]
  },
  {
   "cell_type": "code",
   "execution_count": 42,
   "metadata": {},
   "outputs": [
    {
     "data": {
      "text/plain": [
       "[<matplotlib.lines.Line2D at 0x134efde4cc8>,\n",
       " <matplotlib.lines.Line2D at 0x134efdecc48>,\n",
       " <matplotlib.lines.Line2D at 0x134efdece08>,\n",
       " <matplotlib.lines.Line2D at 0x134efdecfc8>]"
      ]
     },
     "execution_count": 42,
     "metadata": {},
     "output_type": "execute_result"
    },
    {
     "data": {
      "image/png": "[encoded data removed]",
      "text/plain": [
       "<Figure size 432x288 with 1 Axes>"
      ]
     },
     "metadata": {
      "needs_background": "light"
     },
     "output_type": "display_data"
    }
   ],
   "source": [
    "get_stats()\n",
    "x = np.arange(0.0, epoch, 1)\n",
    "plt.plot(x,val_accuracy,'b',x,accuracy,'r',x,loss,'g',x,val_loss,'y')"
   ]
  },
  {
   "cell_type": "markdown",
   "metadata": {},
   "source": [
    "With just 1 convolutional layer we have improve our accuracy to 98%"
   ]
  },
  {
   "cell_type": "markdown",
   "metadata": {},
   "source": [
    "## More layers and max polling\n",
    "\n",
    "A polling layer is a layer that we add aftter a convolutional layer.  The polling layer will operate over each pixel for create a new set of pulled data. We will use max polling of size 2x2 pixels. This means that the maximun of each 2x2 patch will be calculated.\n",
    "\n",
    "### Benefits:\n",
    "\n",
    "- Model invariance to local translation.\n",
    "- Faster computations.\n",
    "\n"
   ]
  },
  {
   "cell_type": "markdown",
   "metadata": {},
   "source": [
    "![MAxPolling2d](img/maxpolling2d.png)\n",
    "\n",
    "image from: [https://www.geeksforgeeks.org/cnn-introduction-to-pooling-layer/](https://www.geeksforgeeks.org/cnn-introduction-to-pooling-layer/)"
   ]
  },
  {
   "cell_type": "markdown",
   "metadata": {},
   "source": [
    "[https://keras.io/layers/pooling/](https://keras.io/layers/pooling/)\n",
    "\n",
    "[https://machinelearningmastery.com/pooling-layers-for-convolutional-neural-networks/](https://machinelearningmastery.com/pooling-layers-for-convolutional-neural-networks/)"
   ]
  },
  {
   "cell_type": "code",
   "execution_count": 43,
   "metadata": {},
   "outputs": [],
   "source": [
    "model = kr.models.Sequential()\n",
    "model.add(kr.layers.Conv2D(64,kernel_size=(7, 7),activation='relu',input_shape=(28,28,1)))\n",
    "model.add(kr.layers.Conv2D(64,kernel_size=(7, 7),activation='relu'))\n",
    "model.add(kr.layers.MaxPooling2D(pool_size=(2, 2),))\n",
    "model.add(kr.layers.Conv2D(128,kernel_size=(5, 5),activation='relu'))\n",
    "model.add(kr.layers.Conv2D(256,kernel_size=(3, 3),activation='relu'))\n",
    "model.add(kr.layers.MaxPooling2D(pool_size=(2, 2),))\n",
    "model.add(kr.layers.Flatten())\n",
    "model.add(kr.layers.Dropout(0.25))\n",
    "model.add(kr.layers.Dense(units=98, activation='relu'))\n",
    "model.add(kr.layers.Dropout(0.1))\n",
    "model.add(kr.layers.Dense(units=10, activation='softmax'))\n",
    "model.compile(loss='categorical_crossentropy',optimizer='adam', metrics=['accuracy'])"
   ]
  },
  {
   "cell_type": "code",
   "execution_count": 44,
   "metadata": {},
   "outputs": [
    {
     "name": "stdout",
     "output_type": "stream",
     "text": [
      "Train on 60000 samples, validate on 10000 samples\n",
      "Epoch 1/10\n",
      "60000/60000 [==============================] - 6s 96us/step - loss: 0.2336 - accuracy: 0.9256 - val_loss: 0.0472 - val_accuracy: 0.9851\n",
      "Epoch 2/10\n",
      "60000/60000 [==============================] - 5s 90us/step - loss: 0.0620 - accuracy: 0.9819 - val_loss: 0.0491 - val_accuracy: 0.9856\n",
      "Epoch 3/10\n",
      "60000/60000 [==============================] - 5s 90us/step - loss: 0.0474 - accuracy: 0.9859 - val_loss: 0.0323 - val_accuracy: 0.9893\n",
      "Epoch 4/10\n",
      "60000/60000 [==============================] - 5s 90us/step - loss: 0.0368 - accuracy: 0.9895 - val_loss: 0.0353 - val_accuracy: 0.9894\n",
      "Epoch 5/10\n",
      "60000/60000 [==============================] - 5s 90us/step - loss: 0.0314 - accuracy: 0.9906 - val_loss: 0.0352 - val_accuracy: 0.9894\n",
      "Epoch 6/10\n",
      "60000/60000 [==============================] - 5s 90us/step - loss: 0.0272 - accuracy: 0.9920 - val_loss: 0.0253 - val_accuracy: 0.9925\n",
      "Epoch 7/10\n",
      "60000/60000 [==============================] - 5s 91us/step - loss: 0.0241 - accuracy: 0.9926 - val_loss: 0.0308 - val_accuracy: 0.9915\n",
      "Epoch 8/10\n",
      "60000/60000 [==============================] - 5s 90us/step - loss: 0.0201 - accuracy: 0.9943 - val_loss: 0.0287 - val_accuracy: 0.9922\n",
      "Epoch 9/10\n",
      "60000/60000 [==============================] - 5s 90us/step - loss: 0.0204 - accuracy: 0.9941 - val_loss: 0.0312 - val_accuracy: 0.9922\n",
      "Epoch 10/10\n",
      "60000/60000 [==============================] - 5s 90us/step - loss: 0.0174 - accuracy: 0.9951 - val_loss: 0.0258 - val_accuracy: 0.9926\n"
     ]
    }
   ],
   "source": [
    "epoch = 10\n",
    "history_callback = model.fit(x_train, y_train, validation_data=(x_test,y_test), epochs=epoch, batch_size=100)"
   ]
  },
  {
   "cell_type": "markdown",
   "metadata": {},
   "source": [
    "## Batch normalization"
   ]
  },
  {
   "cell_type": "code",
   "execution_count": 45,
   "metadata": {},
   "outputs": [],
   "source": [
    "model = kr.models.Sequential()\n",
    "model.add(kr.layers.Conv2D(64,kernel_size=(7, 7),activation='relu',input_shape=(28,28,1)))\n",
    "kr.layers.BatchNormalization(axis=-1)\n",
    "model.add(kr.layers.Conv2D(64,kernel_size=(7, 7),activation='relu',input_shape=(28,28,1)))\n",
    "kr.layers.BatchNormalization(axis=-1)\n",
    "model.add(kr.layers.MaxPooling2D(pool_size=(2, 2),))\n",
    "model.add(kr.layers.Conv2D(128,kernel_size=(5, 5),activation='relu'))\n",
    "kr.layers.BatchNormalization(axis=-1)\n",
    "model.add(kr.layers.Conv2D(256,kernel_size=(3, 3),activation='relu'))\n",
    "model.add(kr.layers.MaxPooling2D(pool_size=(2, 2),))\n",
    "model.add(kr.layers.Flatten())\n",
    "model.add(kr.layers.Dropout(0.25))\n",
    "model.add(kr.layers.Dense(units=98, activation='relu'))\n",
    "model.add(kr.layers.Dropout(0.1))\n",
    "model.add(kr.layers.Dense(units=10, activation='softmax'))\n",
    "model.compile(loss='categorical_crossentropy',optimizer='adam', metrics=['accuracy'])"
   ]
  },
  {
   "cell_type": "code",
   "execution_count": 46,
   "metadata": {},
   "outputs": [
    {
     "name": "stdout",
     "output_type": "stream",
     "text": [
      "Train on 60000 samples, validate on 10000 samples\n",
      "Epoch 1/10\n",
      "60000/60000 [==============================] - 6s 94us/step - loss: 0.2207 - accuracy: 0.9298 - val_loss: 0.0666 - val_accuracy: 0.9789\n",
      "Epoch 2/10\n",
      "60000/60000 [==============================] - 5s 90us/step - loss: 0.0571 - accuracy: 0.9833 - val_loss: 0.0341 - val_accuracy: 0.9893\n",
      "Epoch 3/10\n",
      "60000/60000 [==============================] - 5s 90us/step - loss: 0.0425 - accuracy: 0.9880 - val_loss: 0.0389 - val_accuracy: 0.9882\n",
      "Epoch 4/10\n",
      "60000/60000 [==============================] - 5s 90us/step - loss: 0.0346 - accuracy: 0.9895 - val_loss: 0.0262 - val_accuracy: 0.9924\n",
      "Epoch 5/10\n",
      "60000/60000 [==============================] - 5s 90us/step - loss: 0.0281 - accuracy: 0.9917 - val_loss: 0.0339 - val_accuracy: 0.9903\n",
      "Epoch 6/10\n",
      "60000/60000 [==============================] - 5s 90us/step - loss: 0.0254 - accuracy: 0.9924 - val_loss: 0.0476 - val_accuracy: 0.9874\n",
      "Epoch 7/10\n",
      "60000/60000 [==============================] - 5s 90us/step - loss: 0.0228 - accuracy: 0.9936 - val_loss: 0.0271 - val_accuracy: 0.9924\n",
      "Epoch 8/10\n",
      "60000/60000 [==============================] - 5s 90us/step - loss: 0.0210 - accuracy: 0.9937 - val_loss: 0.0380 - val_accuracy: 0.9895\n",
      "Epoch 9/10\n",
      "60000/60000 [==============================] - 5s 90us/step - loss: 0.0187 - accuracy: 0.9943 - val_loss: 0.0277 - val_accuracy: 0.9923\n",
      "Epoch 10/10\n",
      "60000/60000 [==============================] - 5s 90us/step - loss: 0.0185 - accuracy: 0.9949 - val_loss: 0.0352 - val_accuracy: 0.9914\n"
     ]
    }
   ],
   "source": [
    "epoch = 10\n",
    "history_callback = model.fit(x_train, y_train, validation_data=(x_test,y_test), epochs=epoch, batch_size=100)"
   ]
  },
  {
   "cell_type": "code",
   "execution_count": null,
   "metadata": {},
   "outputs": [],
   "source": []
  },
  {
   "cell_type": "code",
   "execution_count": null,
   "metadata": {},
   "outputs": [],
   "source": []
  },
  {
   "cell_type": "markdown",
   "metadata": {},
   "source": []
  },
  {
   "cell_type": "code",
   "execution_count": null,
   "metadata": {},
   "outputs": [],
   "source": []
  },
  {
   "cell_type": "code",
   "execution_count": null,
   "metadata": {},
   "outputs": [],
   "source": []
  },
  {
   "cell_type": "markdown",
   "metadata": {},
   "source": [
    "## Custom Checkpoint"
   ]
  },
  {
   "cell_type": "code",
   "execution_count": 47,
   "metadata": {},
   "outputs": [],
   "source": [
    "class CustomModelCheckpoint(kr.callbacks.Callback):\n",
    "    minimun = 0.99\n",
    "   \n",
    "\n",
    "    def on_epoch_end(self, epoch, logs=None):\n",
    "        score = self.model.evaluate(x_test, y_test, verbose=0)\n",
    "        # logs is a dictionary\n",
    "        print(f\"epoch: {epoch},history_callback.{logs['val_accuracy']}\")\n",
    "        print(score[1])\n",
    "        if score[1] > self.minimun: # your custom condition\n",
    "    \n",
    "            self.model.save('model7.h5', overwrite=True)\n",
    "           \n",
    "            \n",
    "            \n",
    "           \n",
    "            \n",
    "            self.minimun = score[1]\n",
    "            print(self.minimun)"
   ]
  },
  {
   "cell_type": "code",
   "execution_count": 48,
   "metadata": {},
   "outputs": [],
   "source": [
    "cbk = CustomModelCheckpoint()"
   ]
  },
  {
   "cell_type": "code",
   "execution_count": 49,
   "metadata": {},
   "outputs": [
    {
     "name": "stdout",
     "output_type": "stream",
     "text": [
      "Model: \"sequential_7\"\n",
      "_________________________________________________________________\n",
      "Layer (type)                 Output Shape              Param #   \n",
      "=================================================================\n",
      "conv2d_10 (Conv2D)           (None, 22, 22, 64)        3200      \n",
      "_________________________________________________________________\n",
      "conv2d_11 (Conv2D)           (None, 16, 16, 64)        200768    \n",
      "_________________________________________________________________\n",
      "max_pooling2d_5 (MaxPooling2 (None, 8, 8, 64)          0         \n",
      "_________________________________________________________________\n",
      "conv2d_12 (Conv2D)           (None, 4, 4, 128)         204928    \n",
      "_________________________________________________________________\n",
      "conv2d_13 (Conv2D)           (None, 2, 2, 256)         295168    \n",
      "_________________________________________________________________\n",
      "max_pooling2d_6 (MaxPooling2 (None, 1, 1, 256)         0         \n",
      "_________________________________________________________________\n",
      "dropout_9 (Dropout)          (None, 1, 1, 256)         0         \n",
      "_________________________________________________________________\n",
      "flatten_4 (Flatten)          (None, 256)               0         \n",
      "_________________________________________________________________\n",
      "dense_14 (Dense)             (None, 10)                2570      \n",
      "=================================================================\n",
      "Total params: 706,634\n",
      "Trainable params: 706,634\n",
      "Non-trainable params: 0\n",
      "_________________________________________________________________\n"
     ]
    }
   ],
   "source": [
    "model = kr.models.Sequential()\n",
    "model.add(kr.layers.Conv2D(64,kernel_size=(7, 7),activation='relu',input_shape=(28,28,1)))\n",
    "kr.layers.normalization.BatchNormalization(axis=-1)\n",
    "model.add(kr.layers.Conv2D(64,kernel_size=(7, 7),activation='relu',input_shape=(28,28,1)))\n",
    "kr.layers.normalization.BatchNormalization(axis=-1)\n",
    "model.add(kr.layers.MaxPooling2D(pool_size=(2, 2),))\n",
    "model.add(kr.layers.Conv2D(128,kernel_size=(5, 5),activation='relu'))\n",
    "model.add(kr.layers.Conv2D(256,kernel_size=(3, 3),activation='relu'))\n",
    "model.add(kr.layers.MaxPooling2D(pool_size=(2, 2),))\n",
    "model.add(kr.layers.Dropout(0.25))\n",
    "model.add(kr.layers.Flatten())\n",
    "model.add(kr.layers.Dense(units=10, activation='softmax'))\n",
    "model.compile(loss=kr.losses.categorical_crossentropy,optimizer='adadelta',metrics=['accuracy'])\n",
    "model.summary()\n",
    " \n",
    "\n"
   ]
  },
  {
   "cell_type": "markdown",
   "metadata": {},
   "source": [
    "# Data Augmentation Image Generator\n",
    "\n",
    "https://medium.com/nanonets/how-to-use-deep-learning-when-you-have-limited-data-part-2-data-augmentation-c26971dc8ced\n"
   ]
  },
  {
   "cell_type": "code",
   "execution_count": 50,
   "metadata": {},
   "outputs": [],
   "source": [
    "from keras.preprocessing.image import ImageDataGenerator"
   ]
  },
  {
   "cell_type": "code",
   "execution_count": 51,
   "metadata": {},
   "outputs": [],
   "source": [
    "gen = ImageDataGenerator(rotation_range=8, width_shift_range=0.08, shear_range=0.3,\n",
    "                         height_shift_range=0.08, zoom_range=0.08)\n",
    "test_gen = ImageDataGenerator()"
   ]
  },
  {
   "cell_type": "code",
   "execution_count": 52,
   "metadata": {},
   "outputs": [],
   "source": [
    "train_generator = gen.flow(x_train, y_train, batch_size=64)\n",
    "test_generator = test_gen.flow(x_test, y_test, batch_size=64)"
   ]
  },
  {
   "cell_type": "code",
   "execution_count": 78,
   "metadata": {
    "scrolled": false
   },
   "outputs": [
    {
     "name": "stdout",
     "output_type": "stream",
     "text": [
      "Epoch 1/50\n",
      "937/937 [==============================] - 11s 11ms/step - loss: 0.0076 - accuracy: 0.9992 - val_loss: 0.0000e+00 - val_accuracy: 0.9964\n",
      "epoch: 0,history_callback.0.9963942170143127\n",
      "0.996399998664856\n",
      "Epoch 2/50\n",
      "937/937 [==============================] - 11s 12ms/step - loss: 0.0134 - accuracy: 0.9989 - val_loss: 0.0000e+00 - val_accuracy: 0.9959\n",
      "epoch: 1,history_callback.0.9958735704421997\n",
      "0.9957000017166138\n",
      "Epoch 3/50\n",
      "937/937 [==============================] - 11s 11ms/step - loss: 0.0135 - accuracy: 0.9988 - val_loss: 0.0000e+00 - val_accuracy: 0.9958\n",
      "epoch: 2,history_callback.0.9957729578018188\n",
      "0.9958999752998352\n",
      "Epoch 4/50\n",
      "937/937 [==============================] - 10s 11ms/step - loss: 0.0103 - accuracy: 0.9990 - val_loss: 0.0000e+00 - val_accuracy: 0.9964\n",
      "epoch: 3,history_callback.0.9963768124580383\n",
      "0.9962999820709229\n",
      "Epoch 5/50\n",
      "937/937 [==============================] - 11s 12ms/step - loss: 0.0147 - accuracy: 0.9986 - val_loss: 1.8626e-09 - val_accuracy: 0.9954\n",
      "epoch: 4,history_callback.0.9953703880310059\n",
      "0.9952999949455261\n",
      "Epoch 6/50\n",
      "937/937 [==============================] - 10s 11ms/step - loss: 0.0107 - accuracy: 0.9989 - val_loss: 0.0000e+00 - val_accuracy: 0.9962\n",
      "epoch: 5,history_callback.0.9961755275726318\n",
      "0.9962999820709229\n",
      "Epoch 7/50\n",
      "937/937 [==============================] - 10s 11ms/step - loss: 0.0125 - accuracy: 0.9987 - val_loss: 1.5181 - val_accuracy: 0.9957\n",
      "epoch: 6,history_callback.0.9956722855567932\n",
      "0.9955999851226807\n",
      "Epoch 8/50\n",
      "937/937 [==============================] - 11s 11ms/step - loss: 0.0082 - accuracy: 0.9990 - val_loss: 0.0000e+00 - val_accuracy: 0.9957\n",
      "epoch: 7,history_callback.0.9956722855567932\n",
      "0.9958999752998352\n",
      "Epoch 9/50\n",
      "937/937 [==============================] - 10s 11ms/step - loss: 0.0121 - accuracy: 0.9987 - val_loss: 0.0000e+00 - val_accuracy: 0.9954\n",
      "epoch: 8,history_callback.0.9953703880310059\n",
      "0.9957000017166138\n",
      "Epoch 10/50\n",
      "937/937 [==============================] - 10s 11ms/step - loss: 0.0078 - accuracy: 0.9992 - val_loss: 0.0000e+00 - val_accuracy: 0.9960\n",
      "epoch: 9,history_callback.0.9959742426872253\n",
      "0.9958999752998352\n",
      "Epoch 11/50\n",
      "937/937 [==============================] - 11s 12ms/step - loss: 0.0087 - accuracy: 0.9993 - val_loss: 0.0000e+00 - val_accuracy: 0.9952\n",
      "epoch: 10,history_callback.0.9951691031455994\n",
      "0.995199978351593\n",
      "Epoch 12/50\n",
      "937/937 [==============================] - 10s 11ms/step - loss: 0.0122 - accuracy: 0.9987 - val_loss: 6.0395e-05 - val_accuracy: 0.9961\n",
      "epoch: 11,history_callback.0.9960748553276062\n",
      "0.9958999752998352\n",
      "Epoch 13/50\n",
      "937/937 [==============================] - 10s 11ms/step - loss: 0.0120 - accuracy: 0.9989 - val_loss: 0.0000e+00 - val_accuracy: 0.9958\n",
      "epoch: 12,history_callback.0.9957729578018188\n",
      "0.9957000017166138\n",
      "Epoch 14/50\n",
      "937/937 [==============================] - 11s 12ms/step - loss: 0.0082 - accuracy: 0.9990 - val_loss: 2.0206e-04 - val_accuracy: 0.9961\n",
      "epoch: 13,history_callback.0.9960748553276062\n",
      "0.9955999851226807\n",
      "Epoch 15/50\n",
      "937/937 [==============================] - 10s 11ms/step - loss: 0.0122 - accuracy: 0.9990 - val_loss: 0.0000e+00 - val_accuracy: 0.9963\n",
      "epoch: 14,history_callback.0.9962761402130127\n",
      "0.9961000084877014\n",
      "Epoch 16/50\n",
      "937/937 [==============================] - 10s 11ms/step - loss: 0.0133 - accuracy: 0.9989 - val_loss: 0.0000e+00 - val_accuracy: 0.9953\n",
      "epoch: 15,history_callback.0.9952697157859802\n",
      "0.9955999851226807\n",
      "Epoch 17/50\n",
      "937/937 [==============================] - 11s 12ms/step - loss: 0.0097 - accuracy: 0.9991 - val_loss: 0.0000e+00 - val_accuracy: 0.9956\n",
      "epoch: 16,history_callback.0.9955716729164124\n",
      "0.9955000281333923\n",
      "Epoch 18/50\n",
      "937/937 [==============================] - 10s 11ms/step - loss: 0.0102 - accuracy: 0.9990 - val_loss: 3.3528e-08 - val_accuracy: 0.9962\n",
      "epoch: 17,history_callback.0.9961755275726318\n",
      "0.9958999752998352\n",
      "Epoch 19/50\n",
      "937/937 [==============================] - 10s 11ms/step - loss: 0.0099 - accuracy: 0.9988 - val_loss: 1.1472 - val_accuracy: 0.9951\n",
      "epoch: 18,history_callback.0.9950684309005737\n",
      "0.995199978351593\n",
      "Epoch 20/50\n",
      "937/937 [==============================] - 11s 12ms/step - loss: 0.0110 - accuracy: 0.9988 - val_loss: 0.0000e+00 - val_accuracy: 0.9952\n",
      "epoch: 19,history_callback.0.9951691031455994\n",
      "0.9948999881744385\n",
      "Epoch 21/50\n",
      "937/937 [==============================] - 10s 11ms/step - loss: 0.0148 - accuracy: 0.9984 - val_loss: 0.0000e+00 - val_accuracy: 0.9951\n",
      "epoch: 20,history_callback.0.9950684309005737\n",
      "0.9955999851226807\n",
      "Epoch 22/50\n",
      "937/937 [==============================] - 10s 11ms/step - loss: 0.0145 - accuracy: 0.9987 - val_loss: 0.0000e+00 - val_accuracy: 0.9961\n",
      "epoch: 21,history_callback.0.9960748553276062\n",
      "0.9962999820709229\n",
      "Epoch 23/50\n",
      "937/937 [==============================] - 11s 11ms/step - loss: 0.0115 - accuracy: 0.9988 - val_loss: 0.0000e+00 - val_accuracy: 0.9953\n",
      "epoch: 22,history_callback.0.9952697157859802\n",
      "0.9957000017166138\n",
      "Epoch 24/50\n",
      "937/937 [==============================] - 10s 11ms/step - loss: 0.0138 - accuracy: 0.9986 - val_loss: 0.0000e+00 - val_accuracy: 0.9961\n",
      "epoch: 23,history_callback.0.9960748553276062\n",
      "0.9958999752998352\n",
      "Epoch 25/50\n",
      "937/937 [==============================] - 10s 11ms/step - loss: 0.0092 - accuracy: 0.9989 - val_loss: 0.9269 - val_accuracy: 0.9955\n",
      "epoch: 24,history_callback.0.9954710006713867\n",
      "0.9958999752998352\n",
      "Epoch 26/50\n",
      "937/937 [==============================] - 11s 12ms/step - loss: 0.0100 - accuracy: 0.9990 - val_loss: 0.0280 - val_accuracy: 0.9951\n",
      "epoch: 25,history_callback.0.9950684309005737\n",
      "0.9951000213623047\n",
      "Epoch 27/50\n",
      "937/937 [==============================] - 10s 11ms/step - loss: 0.0107 - accuracy: 0.9989 - val_loss: 0.0257 - val_accuracy: 0.9964\n",
      "epoch: 26,history_callback.0.9963768124580383\n",
      "0.9958000183105469\n",
      "Epoch 28/50\n",
      "937/937 [==============================] - 10s 11ms/step - loss: 0.0105 - accuracy: 0.9988 - val_loss: 0.0000e+00 - val_accuracy: 0.9960\n",
      "epoch: 27,history_callback.0.9959742426872253\n",
      "0.9958999752998352\n",
      "Epoch 29/50\n",
      "937/937 [==============================] - 11s 11ms/step - loss: 0.0160 - accuracy: 0.9986 - val_loss: 0.0000e+00 - val_accuracy: 0.9957\n",
      "epoch: 28,history_callback.0.9956722855567932\n",
      "0.9961000084877014\n",
      "Epoch 30/50\n",
      "937/937 [==============================] - 10s 11ms/step - loss: 0.0126 - accuracy: 0.9988 - val_loss: 0.0000e+00 - val_accuracy: 0.9953\n",
      "epoch: 29,history_callback.0.9952697157859802\n",
      "0.9947999715805054\n",
      "Epoch 31/50\n",
      "937/937 [==============================] - 10s 11ms/step - loss: 0.0137 - accuracy: 0.9989 - val_loss: 0.0000e+00 - val_accuracy: 0.9961\n",
      "epoch: 30,history_callback.0.9960748553276062\n",
      "0.9958000183105469\n",
      "Epoch 32/50\n",
      "937/937 [==============================] - 11s 11ms/step - loss: 0.0115 - accuracy: 0.9989 - val_loss: 0.1588 - val_accuracy: 0.9961\n",
      "epoch: 31,history_callback.0.9960748553276062\n",
      "0.9959999918937683\n",
      "Epoch 33/50\n",
      "937/937 [==============================] - 10s 11ms/step - loss: 0.0127 - accuracy: 0.9987 - val_loss: 0.0000e+00 - val_accuracy: 0.9965\n",
      "epoch: 32,history_callback.0.996477484703064\n",
      "0.9959999918937683\n",
      "Epoch 34/50\n",
      "937/937 [==============================] - 10s 11ms/step - loss: 0.0139 - accuracy: 0.9990 - val_loss: 0.1625 - val_accuracy: 0.9958\n",
      "epoch: 33,history_callback.0.9957729578018188\n",
      "0.9958000183105469\n",
      "Epoch 35/50\n",
      "937/937 [==============================] - 11s 11ms/step - loss: 0.0160 - accuracy: 0.9986 - val_loss: 0.0000e+00 - val_accuracy: 0.9948\n",
      "epoch: 34,history_callback.0.9947665333747864\n",
      "0.9955000281333923\n",
      "Epoch 36/50\n",
      "937/937 [==============================] - 10s 11ms/step - loss: 0.0151 - accuracy: 0.9987 - val_loss: 0.0000e+00 - val_accuracy: 0.9960\n",
      "epoch: 35,history_callback.0.9959742426872253\n",
      "0.9959999918937683\n",
      "Epoch 37/50\n",
      "937/937 [==============================] - 10s 11ms/step - loss: 0.0112 - accuracy: 0.9990 - val_loss: 0.0000e+00 - val_accuracy: 0.9946\n",
      "epoch: 36,history_callback.0.9945651888847351\n",
      "0.9954000115394592\n",
      "Epoch 38/50\n",
      "937/937 [==============================] - 11s 12ms/step - loss: 0.0082 - accuracy: 0.9988 - val_loss: 0.0000e+00 - val_accuracy: 0.9961\n",
      "epoch: 37,history_callback.0.9960748553276062\n",
      "0.9962000250816345\n",
      "Epoch 39/50\n",
      "937/937 [==============================] - 11s 11ms/step - loss: 0.0126 - accuracy: 0.9988 - val_loss: 0.0000e+00 - val_accuracy: 0.9958\n"
     ]
    },
    {
     "name": "stdout",
     "output_type": "stream",
     "text": [
      "epoch: 38,history_callback.0.9957729578018188\n",
      "0.9958999752998352\n",
      "Epoch 40/50\n",
      "937/937 [==============================] - 10s 11ms/step - loss: 0.0094 - accuracy: 0.9990 - val_loss: 0.0000e+00 - val_accuracy: 0.9953\n",
      "epoch: 39,history_callback.0.9952697157859802\n",
      "0.9951000213623047\n",
      "Epoch 41/50\n",
      "937/937 [==============================] - 11s 11ms/step - loss: 0.0117 - accuracy: 0.9988 - val_loss: 0.0000e+00 - val_accuracy: 0.9963\n",
      "epoch: 40,history_callback.0.9962761402130127\n",
      "0.9961000084877014\n",
      "Epoch 42/50\n",
      "937/937 [==============================] - 10s 11ms/step - loss: 0.0144 - accuracy: 0.9987 - val_loss: 0.0000e+00 - val_accuracy: 0.9956\n",
      "epoch: 41,history_callback.0.9955716729164124\n",
      "0.9961000084877014\n",
      "Epoch 43/50\n",
      "937/937 [==============================] - 10s 11ms/step - loss: 0.0121 - accuracy: 0.9990 - val_loss: 0.2177 - val_accuracy: 0.9957\n",
      "epoch: 42,history_callback.0.9956722855567932\n",
      "0.9958999752998352\n",
      "Epoch 44/50\n",
      "937/937 [==============================] - 11s 12ms/step - loss: 0.0103 - accuracy: 0.9988 - val_loss: 0.0000e+00 - val_accuracy: 0.9954\n",
      "epoch: 43,history_callback.0.9953703880310059\n",
      "0.995199978351593\n",
      "Epoch 45/50\n",
      "937/937 [==============================] - 11s 11ms/step - loss: 0.0114 - accuracy: 0.9989 - val_loss: 0.0000e+00 - val_accuracy: 0.9970\n",
      "epoch: 44,history_callback.0.9969806671142578\n",
      "0.9958999752998352\n",
      "Epoch 46/50\n",
      "937/937 [==============================] - 10s 11ms/step - loss: 0.0147 - accuracy: 0.9985 - val_loss: 1.1157e-06 - val_accuracy: 0.9949\n",
      "epoch: 45,history_callback.0.9948671460151672\n",
      "0.9958000183105469\n",
      "Epoch 47/50\n",
      "937/937 [==============================] - 11s 12ms/step - loss: 0.0125 - accuracy: 0.9990 - val_loss: 0.0000e+00 - val_accuracy: 0.9955\n",
      "epoch: 46,history_callback.0.9954710006713867\n",
      "0.9957000017166138\n",
      "Epoch 48/50\n",
      "937/937 [==============================] - 11s 11ms/step - loss: 0.0115 - accuracy: 0.9989 - val_loss: 0.0000e+00 - val_accuracy: 0.9962\n",
      "epoch: 47,history_callback.0.9961755275726318\n",
      "0.9955000281333923\n",
      "Epoch 49/50\n",
      "937/937 [==============================] - 10s 11ms/step - loss: 0.0084 - accuracy: 0.9990 - val_loss: 0.0000e+00 - val_accuracy: 0.9956\n",
      "epoch: 48,history_callback.0.9955716729164124\n",
      "0.9958000183105469\n",
      "Epoch 50/50\n",
      "937/937 [==============================] - 11s 12ms/step - loss: 0.0117 - accuracy: 0.9988 - val_loss: 0.3742 - val_accuracy: 0.9955\n",
      "epoch: 49,history_callback.0.9954710006713867\n",
      "0.9952999949455261\n"
     ]
    }
   ],
   "source": [
    "epoch =50\n",
    "history_callback= model.fit_generator(train_generator, steps_per_epoch=60000//64, epochs=epoch, \n",
    "                    validation_data=test_generator, validation_steps=10000//64, callbacks=[cbk])"
   ]
  },
  {
   "cell_type": "code",
   "execution_count": 79,
   "metadata": {},
   "outputs": [
    {
     "data": {
      "text/plain": [
       "[0.12931552760398501, 0.9968000054359436]"
      ]
     },
     "execution_count": 79,
     "metadata": {},
     "output_type": "execute_result"
    }
   ],
   "source": [
    "score = kr.models.load_model('./model7.h5').evaluate(x_test, y_test, verbose=0)\n",
    "score"
   ]
  },
  {
   "cell_type": "code",
   "execution_count": null,
   "metadata": {},
   "outputs": [],
   "source": []
  }
 ],
 "metadata": {
  "kernelspec": {
   "display_name": "Python 3",
   "language": "python",
   "name": "python3"
  },
  "language_info": {
   "codemirror_mode": {
    "name": "ipython",
    "version": 3
   },
   "file_extension": ".py",
   "mimetype": "text/x-python",
   "name": "python",
   "nbconvert_exporter": "python",
   "pygments_lexer": "ipython3",
   "version": "3.7.4"
  }
 },
 "nbformat": 4,
 "nbformat_minor": 4
}
