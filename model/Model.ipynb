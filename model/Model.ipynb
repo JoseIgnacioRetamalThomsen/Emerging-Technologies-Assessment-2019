{
 "cells": [
  {
   "cell_type": "markdown",
   "metadata": {},
   "source": [
    "# Trainig a Model Using the MNIST datase for recgonise hand-writen digits\n",
    "   \n",
    "On this notebook we show how to create a model and train using  MNIST dataset for recognise handwritten digits.\n",
    "We start showing how to read the bits from the dataset, then we do a quick introduction to neural network what \n",
    "is useful for understand the model thath we will train.\n",
    "We start with a simple linear model, for then add convolutional and maxpooling layers.\n",
    "At the end we use data augmentation and train for several epoch our model to try to get a high hit on the test data set.\n",
    "\n"
   ]
  },
  {
   "cell_type": "markdown",
   "metadata": {},
   "source": [
    "# The Data\n",
    "\n",
    "  We will start by understanding how the data is formatted and see hot we can parse it in a  suitable way for train our model.\n",
    "  \n",
    "  Mnist provide 4 files:\n",
    "  \n",
    "  -   training set images \n",
    "  -   training set labels\n",
    "  -   test set images\n",
    "  -   test set labels \n",
    " \n",
    "   [http://yann.lecun.com/exdb/mnist/](http://yann.lecun.com/exdb/mnist/) \n",
    "\n"
   ]
  },
  {
   "cell_type": "markdown",
   "metadata": {},
   "source": [
    "## Little and Big Endian Architecture \n",
    "\n",
    "  There are 2 types of processors architecture(little and big endian). In little endian bits are store from left to right This is basically how the bytes are stored, in little they are stored from left to right and in big the other way around.(Look this is you want to know more about https://chortle.ccsu.edu/AssemblyTutorial/Chapter-15/ass15_3.html ).\n",
    "  This is relevant for us because we need to know read the bytes right for get the proper data.\n",
    "  \n",
    "  In python we can easily check using sys, since I am using a Intel processor I expected to be little.\n"
   ]
  },
  {
   "cell_type": "code",
   "execution_count": 1,
   "metadata": {},
   "outputs": [],
   "source": [
    "import numpy as np\n",
    "from sys import byteorder"
   ]
  },
  {
   "cell_type": "markdown",
   "metadata": {},
   "source": [
    "Now we can check  our architecture:"
   ]
  },
  {
   "cell_type": "code",
   "execution_count": 2,
   "metadata": {},
   "outputs": [
    {
     "name": "stdout",
     "output_type": "stream",
     "text": [
      "little\n"
     ]
    }
   ],
   "source": [
    "print(byteorder)"
   ]
  },
  {
   "cell_type": "markdown",
   "metadata": {},
   "source": [
    "## Reading Mnist\n",
    "\n",
    "  Now we can start reading the train images file. \n",
    "  From Mnist website we know what to expected from each bit read.\n"
   ]
  },
  {
   "cell_type": "code",
   "execution_count": 3,
   "metadata": {},
   "outputs": [],
   "source": [
    "import gzip\n",
    "\n",
    "with gzip.open('mnist/train-images-idx3-ubyte.gz', 'rb') as f:\n",
    "    fc_train_img = f.read()"
   ]
  },
  {
   "cell_type": "markdown",
   "metadata": {},
   "source": [
    "  The first 4 bytes is the magic number which is a 32 bit integer, for the image set this number is 2051. Note that we are setting the byte order as big."
   ]
  },
  {
   "cell_type": "code",
   "execution_count": 4,
   "metadata": {},
   "outputs": [
    {
     "data": {
      "text/plain": [
       "2051"
      ]
     },
     "execution_count": 4,
     "metadata": {},
     "output_type": "execute_result"
    }
   ],
   "source": [
    "int.from_bytes(fc_train_img[0:4], byteorder='big')"
   ]
  },
  {
   "cell_type": "markdown",
   "metadata": {},
   "source": [
    "Next is the number of images as a 32 bit integer:"
   ]
  },
  {
   "cell_type": "code",
   "execution_count": 5,
   "metadata": {},
   "outputs": [
    {
     "data": {
      "text/plain": [
       "60000"
      ]
     },
     "execution_count": 5,
     "metadata": {},
     "output_type": "execute_result"
    }
   ],
   "source": [
    "train_img_total = int.from_bytes(fc_train_img[4:8], byteorder='big')\n",
    "train_img_total"
   ]
  },
  {
   "cell_type": "markdown",
   "metadata": {},
   "source": [
    "Then number of rows as 32 bit integer."
   ]
  },
  {
   "cell_type": "code",
   "execution_count": 6,
   "metadata": {},
   "outputs": [
    {
     "data": {
      "text/plain": [
       "28"
      ]
     },
     "execution_count": 6,
     "metadata": {},
     "output_type": "execute_result"
    }
   ],
   "source": [
    "row = int.from_bytes(fc_train_img[8:12], byteorder='big')\n",
    "row"
   ]
  },
  {
   "cell_type": "markdown",
   "metadata": {},
   "source": [
    "And  columns  32 bit integer as well."
   ]
  },
  {
   "cell_type": "code",
   "execution_count": 7,
   "metadata": {},
   "outputs": [
    {
     "data": {
      "text/plain": [
       "28"
      ]
     },
     "execution_count": 7,
     "metadata": {},
     "output_type": "execute_result"
    }
   ],
   "source": [
    "col = int.from_bytes(fc_train_img[12:16], byteorder='big')\n",
    "col"
   ]
  },
  {
   "cell_type": "markdown",
   "metadata": {},
   "source": [
    "Then all next are  unsigned bytes(8 bits) , each byte represent a pixel. They are organized row-wise.\n",
    "\n",
    "The total of bits is: \n",
    "```python\n",
    "train_img_total*row*col\n",
    "```\n",
    "\n",
    "\n",
    "\n"
   ]
  },
  {
   "cell_type": "code",
   "execution_count": 8,
   "metadata": {},
   "outputs": [
    {
     "data": {
      "text/plain": [
       "47040016"
      ]
     },
     "execution_count": 8,
     "metadata": {},
     "output_type": "execute_result"
    }
   ],
   "source": [
    "last_byte = (train_img_total*row*col) + 16\n",
    "last_byte"
   ]
  },
  {
   "cell_type": "markdown",
   "metadata": {},
   "source": [
    "Now whe can read all bits:"
   ]
  },
  {
   "cell_type": "code",
   "execution_count": 9,
   "metadata": {},
   "outputs": [],
   "source": [
    "x_train = list(fc_train_img[16:last_byte])"
   ]
  },
  {
   "cell_type": "markdown",
   "metadata": {},
   "source": [
    "And reshape them ass 28*27 (784) array. That is the vector representation of the images.\n",
    "\n",
    "In Mnist pixel values are 0 to 255.0 , 0 representing the background. We want to invert this, because having a non zero value as background is better for the training."
   ]
  },
  {
   "cell_type": "code",
   "execution_count": 10,
   "metadata": {},
   "outputs": [
    {
     "data": {
      "text/plain": [
       "(60000, 784)"
      ]
     },
     "execution_count": 10,
     "metadata": {},
     "output_type": "execute_result"
    }
   ],
   "source": [
    "x_train = ~np.array(x_train).reshape(train_img_total,row*col).astype(np.uint8)\n",
    "x_train.shape"
   ]
  },
  {
   "cell_type": "markdown",
   "metadata": {},
   "source": [
    "We can see one image using pyplot:"
   ]
  },
  {
   "cell_type": "code",
   "execution_count": 11,
   "metadata": {},
   "outputs": [
    {
     "data": {
      "text/plain": [
       "<matplotlib.image.AxesImage at 0x21ce2179948>"
      ]
     },
     "execution_count": 11,
     "metadata": {},
     "output_type": "execute_result"
    }
   ],
   "source": [
    "import matplotlib.pyplot as plt\n",
    "plt.imshow(x_train[11].reshape(row,col), cmap='gray')"
   ]
  },
  {
   "cell_type": "markdown",
   "metadata": {},
   "source": [
    "Thats look like the image 11 is a 5. We can now read labels and check."
   ]
  },
  {
   "cell_type": "code",
   "execution_count": 12,
   "metadata": {},
   "outputs": [],
   "source": [
    "with gzip.open('mnist/train-labels-idx1-ubyte.gz', 'rb') as f:\n",
    "    fc_train_lbl = f.read()"
   ]
  },
  {
   "cell_type": "markdown",
   "metadata": {},
   "source": [
    "First 32 bits are the magic number : 2049"
   ]
  },
  {
   "cell_type": "code",
   "execution_count": 13,
   "metadata": {},
   "outputs": [
    {
     "data": {
      "text/plain": [
       "2049"
      ]
     },
     "execution_count": 13,
     "metadata": {},
     "output_type": "execute_result"
    }
   ],
   "source": [
    "int.from_bytes(fc_train_lbl[0:4], byteorder='big')\n"
   ]
  },
  {
   "cell_type": "markdown",
   "metadata": {},
   "source": [
    "Then a 32 bits integer, the total of labels. Must be 6000 as we got 6000 images."
   ]
  },
  {
   "cell_type": "code",
   "execution_count": 14,
   "metadata": {},
   "outputs": [
    {
     "data": {
      "text/plain": [
       "60000"
      ]
     },
     "execution_count": 14,
     "metadata": {},
     "output_type": "execute_result"
    }
   ],
   "source": [
    "train_lvl_total = int.from_bytes(fc_train_lbl[4:8], byteorder='big')\n",
    "train_lvl_total"
   ]
  },
  {
   "cell_type": "markdown",
   "metadata": {},
   "source": [
    "Now each unsigned byte is a label, so we can check that 11 is 5:"
   ]
  },
  {
   "cell_type": "code",
   "execution_count": 15,
   "metadata": {},
   "outputs": [
    {
     "name": "stdout",
     "output_type": "stream",
     "text": [
      "5\n"
     ]
    }
   ],
   "source": [
    "y_train = np.array(list(fc_train_lbl[8:train_lvl_total+8]))\n",
    "print(y_train[11])"
   ]
  },
  {
   "cell_type": "markdown",
   "metadata": {},
   "source": [
    "We now real the test images and labels:"
   ]
  },
  {
   "cell_type": "code",
   "execution_count": 16,
   "metadata": {},
   "outputs": [],
   "source": [
    "with gzip.open('mnist/t10k-images-idx3-ubyte.gz', 'rb') as f:\n",
    "    fc_test_img = f.read()\n",
    "with gzip.open('mnist/t10k-labels-idx1-ubyte.gz', 'rb') as f:\n",
    "    fc_test_lbl = f.read()\n",
    "    \n",
    "test_img_total = int.from_bytes(fc_test_img[4:8], byteorder='big')\n",
    "test_lbl_total = int.from_bytes(fc_test_lbl[4:8], byteorder='big')\n",
    "\n",
    "last_byte = (test_img_total*row*col) + 16\n",
    "x_test = list(fc_test_img[16:last_byte])\n",
    "x_test = ~np.array(x_test).reshape(test_img_total,row*col).astype(np.uint8)\n",
    "\n",
    "y_test = np.array(list(fc_test_lbl[8:test_lbl_total+8]))"
   ]
  },
  {
   "cell_type": "code",
   "execution_count": 17,
   "metadata": {},
   "outputs": [],
   "source": [
    "x_train = x_train.astype('float32')\n",
    "x_test = x_test.astype('float32')"
   ]
  },
  {
   "cell_type": "code",
   "execution_count": 18,
   "metadata": {},
   "outputs": [],
   "source": [
    "x_train =  x_train/255.0\n",
    "x_test = x_test/255.0"
   ]
  },
  {
   "cell_type": "code",
   "execution_count": 19,
   "metadata": {},
   "outputs": [
    {
     "data": {
      "text/plain": [
       "<matplotlib.image.AxesImage at 0x21cea1eb988>"
      ]
     },
     "execution_count": 19,
     "metadata": {},
     "output_type": "execute_result"
    },
    {
     "data": {
      "image/png": "[encoded data removed]",
      "text/plain": [
       "<Figure size 432x288 with 1 Axes>"
      ]
     },
     "metadata": {
      "needs_background": "light"
     },
     "output_type": "display_data"
    }
   ],
   "source": [
    "plt.imshow(x_test[11].reshape(row,col), cmap='gray')"
   ]
  },
  {
   "cell_type": "code",
   "execution_count": 20,
   "metadata": {},
   "outputs": [
    {
     "name": "stdout",
     "output_type": "stream",
     "text": [
      "6\n"
     ]
    }
   ],
   "source": [
    "print(y_test[11])"
   ]
  },
  {
   "cell_type": "markdown",
   "metadata": {},
   "source": [
    "# Neuron Network\n",
    "\n",
    "Most people can recognize handwrite digits with no problem(because we have a very complex brain). This is not a easy task for a computer. We will use the neural network approach, we will take a large number of labelled handwrite digits -the training examples- (x_train), and create a model that can learn from those examples.\n"
   ]
  },
  {
   "cell_type": "markdown",
   "metadata": {},
   "source": [
    "## Neurons\n",
    "\n",
    "The idea is simple, they take several inputs(  $ x_1, x_2 ... x_n $) and produce a single output.\n",
    "\n",
    "\n"
   ]
  },
  {
   "cell_type": "markdown",
   "metadata": {},
   "source": [
    "![Single neuron](img/SingleNeuron.png)"
   ]
  },
  {
   "cell_type": "markdown",
   "metadata": {},
   "source": [
    "Each input have  <i>weights</i>  $ w_1, w_2 ... w_n $ , a weight sum is calculated:${\\sum_n x_n w_n}$ then the results goes through a activation function."
   ]
  },
  {
   "cell_type": "markdown",
   "metadata": {},
   "source": [
    "[http://neuralnetworksanddeeplearning.com/chap1.html](http://neuralnetworksanddeeplearning.com/chap1.html/) \n",
    "\n",
    "[https://github.com/ianmcloughlin/jupyter-teaching-notebooks/blob/master/keras-neurons.ipynb](https://github.com/ianmcloughlin/jupyter-teaching-notebooks/blob/master/keras-neurons.ipynb) \n",
    "\n"
   ]
  },
  {
   "cell_type": "markdown",
   "metadata": {},
   "source": [
    "## Layers\n",
    "\n",
    "We create layers composed of neurons. at least one input layer and a output layer is required, there can be hidden layers between the input and output layer. \n",
    "\n",
    "Our images are 28x28, we can create a 784 vector that represent the image. So we will feed out network with 784 inputs, this is our input layer that is also know as hidden layer.\n",
    "Since we need to discriminate 10 numbers out output layer will have 10 neurons, each will represent a digit from 0 to 9. Then we can use SoftMax activation function for the output of each of our network to represent a probability of being a digit.\n"
   ]
  },
  {
   "cell_type": "markdown",
   "metadata": {},
   "source": [
    "## Activation : softmax\n",
    "   We want our result to represent a probability of being one of the 10 digits(0,1,3...).\n",
    "  The SoftMax activation function will do this for us, it will output our output for each neuron between 0 and 1.Then each \n",
    "  of our neuron can represent a digit so the one will bigger probability will be our prediction.\n",
    "\n",
    "  \n",
    "  $$\\sigma (z)_j = \\frac{e^{(z)_j}}{\\sum_{k=0}^{K}e^{(z)_k}} \\text{  where   j = 1,...,K}$$  \n",
    "  \n",
    "  In our case K = 10.\n",
    "  \n",
    "  https://www.analyticsvidhya.com/blog/2017/10/fundamentals-deep-learning-activation-functions-when-to-use-them/"
   ]
  },
  {
   "cell_type": "markdown",
   "metadata": {},
   "source": [
    "## First model\n",
    "\n",
    " We will start create a 2 layers model, input and output : the input layer will be the 784 vector created with the image data and the output a 10 neuros with activation SoftMax. \n",
    " "
   ]
  },
  {
   "cell_type": "markdown",
   "metadata": {},
   "source": [
    "![Single neuron](img/Model1.png)"
   ]
  },
  {
   "cell_type": "markdown",
   "metadata": {},
   "source": [
    "We will use keras and TensorFlow"
   ]
  },
  {
   "cell_type": "code",
   "execution_count": 21,
   "metadata": {},
   "outputs": [
    {
     "name": "stderr",
     "output_type": "stream",
     "text": [
      "Using TensorFlow backend.\n"
     ]
    }
   ],
   "source": [
    "import keras as kr"
   ]
  },
  {
   "cell_type": "code",
   "execution_count": 22,
   "metadata": {},
   "outputs": [],
   "source": [
    "# create sequeantial model\n",
    "model = kr.models.Sequential()\n",
    "\n",
    "# The input layer is added by keras when we set input = 784 \n",
    "# We add 10 neuroas with softmax for output\n",
    "model.add(kr.layers.Dense(units=10, input_dim=784, activation='softmax'))\n",
    "\n",
    "# Compile the model.\n",
    "model.compile(loss='categorical_crossentropy',optimizer='adam', metrics=['accuracy'])"
   ]
  },
  {
   "cell_type": "markdown",
   "metadata": {},
   "source": [
    "We can se a summary of our model:"
   ]
  },
  {
   "cell_type": "code",
   "execution_count": 23,
   "metadata": {},
   "outputs": [
    {
     "name": "stdout",
     "output_type": "stream",
     "text": [
      "Model: \"sequential_1\"\n",
      "_________________________________________________________________\n",
      "Layer (type)                 Output Shape              Param #   \n",
      "=================================================================\n",
      "dense_1 (Dense)              (None, 10)                7850      \n",
      "=================================================================\n",
      "Total params: 7,850\n",
      "Trainable params: 7,850\n",
      "Non-trainable params: 0\n",
      "_________________________________________________________________\n"
     ]
    }
   ],
   "source": [
    "model.summary()"
   ]
  },
  {
   "cell_type": "markdown",
   "metadata": {},
   "source": [
    "The 7850 parameters are:\n",
    " 10 weights from each input node to each output made 7840 plus 10 weights on the outputs nodes.\n"
   ]
  },
  {
   "cell_type": "markdown",
   "metadata": {},
   "source": [
    "We are missing few thinks to explain: loss, optimizer and metrics."
   ]
  },
  {
   "cell_type": "markdown",
   "metadata": {},
   "source": [
    "## Loss : categorical_crossentropy\n",
    "\n",
    "\n",
    " This is how we measure how well our algorithm model the dataset. \n",
    "   \n",
    " Categorical cross entropy is used when only one value can belong to each class (our 10 outputs), so just what we need for measure our model because we are looking for predicted one number. Our output should be the number prediction.\n",
    "\n",
    "   \n",
    "   [https://peltarion.com/knowledge-center/documentation/modeling-view/build-an-ai-model/loss-functions/categorical-crossentropy](https://peltarion.com/knowledge-center/documentation/modeling-view/build-an-ai-model/loss-functions/categorical-crossentropy)\n",
    "   \n",
    "   \n",
    "  [https://algorithmia.com/blog/introduction-to-loss-functions](https://algorithmia.com/blog/introduction-to-loss-functions)\n",
    "    "
   ]
  },
  {
   "cell_type": "markdown",
   "metadata": {},
   "source": [
    "## Optimazer : adam\n",
    "\n",
    "When we are training our model the weights are change acordally for make our prediction better. How much and how are they change is the job of the optimizer, is the optimizer who shape our model for a correct prediction.\n",
    "\n",
    "Adaptative moment estimation(ADAM) use gradient decent. This is how it work([literally taked from Algorithmia](https://algorithmia.com/blog/introduction-to-optimizers)  )\n",
    "\n",
    "\n",
    "1) Calculate what a small change in each individual weight would do to the loss function (i.e. which direction should the hiker walk in)\n",
    "\n",
    "2) Adjust each individual weight based on its gradient (i.e. take a small step in the determined direction)\n",
    "\n",
    "3) Keep doing steps #1 and #2 until the loss function gets as low as possible\n",
    "\n",
    "\n",
    "\n",
    "Adam use pas gradients to calculate current gradients and also utilizes the concept of [momentun](https://ruder.io/optimizing-gradient-descent/index.html#momentum).\n",
    "\n",
    "\n",
    "[https://keras.io/optimizers/](https://keras.io/optimizers/)\n",
    "\n",
    "\n",
    "[https://www.kdnuggets.com/2017/04/simple-understand-gradient-descent-algorithm.html](https://www.kdnuggets.com/2017/04/simple-understand-gradient-descent-algorithm.html)\n",
    "\n",
    "\n",
    "[https://https://algorithmia.com/blog/introduction-to-optimizers.com/blog/introduction-to-optimizers](https://https://algorithmia.com/blog/introduction-to-optimizers.com/blog/introduction-to-optimizers)"
   ]
  },
  {
   "cell_type": "markdown",
   "metadata": {},
   "source": [
    "## Preparing the labes\n",
    "    \n",
    "We are almost done for train our model for first time, the only problems is that our labels are a single digit. We need make them vectors with a 1 on the number position."
   ]
  },
  {
   "cell_type": "code",
   "execution_count": 24,
   "metadata": {},
   "outputs": [],
   "source": [
    "y_train = kr.utils.to_categorical(y_train, 10)\n",
    "y_test  = kr.utils.to_categorical(y_test, 10)"
   ]
  },
  {
   "cell_type": "code",
   "execution_count": 25,
   "metadata": {},
   "outputs": [
    {
     "data": {
      "text/plain": [
       "array([0., 0., 0., 0., 0., 1., 0., 0., 0., 0.], dtype=float32)"
      ]
     },
     "execution_count": 25,
     "metadata": {},
     "output_type": "execute_result"
    }
   ],
   "source": [
    "y_train[0]"
   ]
  },
  {
   "cell_type": "markdown",
   "metadata": {},
   "source": [
    "Now we are ready, we will start training this simple model with 10 epochs, batch of 100 (means we train the model with 100 images at a time)."
   ]
  },
  {
   "cell_type": "code",
   "execution_count": 26,
   "metadata": {
    "scrolled": true
   },
   "outputs": [
    {
     "name": "stdout",
     "output_type": "stream",
     "text": [
      "Train on 60000 samples, validate on 10000 samples\n",
      "Epoch 1/10\n",
      "60000/60000 [==============================] - 2s 32us/step - loss: 0.8062 - accuracy: 0.7910 - val_loss: 0.4506 - val_accuracy: 0.8833\n",
      "Epoch 2/10\n",
      "60000/60000 [==============================] - 1s 22us/step - loss: 0.4284 - accuracy: 0.8801 - val_loss: 0.3739 - val_accuracy: 0.8932\n",
      "Epoch 3/10\n",
      "60000/60000 [==============================] - 1s 22us/step - loss: 0.3769 - accuracy: 0.8913 - val_loss: 0.3539 - val_accuracy: 0.8952\n",
      "Epoch 4/10\n",
      "60000/60000 [==============================] - 1s 21us/step - loss: 0.3538 - accuracy: 0.8974 - val_loss: 0.3234 - val_accuracy: 0.9075\n",
      "Epoch 5/10\n",
      "60000/60000 [==============================] - 1s 21us/step - loss: 0.3396 - accuracy: 0.9011 - val_loss: 0.3126 - val_accuracy: 0.9114\n",
      "Epoch 6/10\n",
      "60000/60000 [==============================] - 1s 21us/step - loss: 0.3289 - accuracy: 0.9051 - val_loss: 0.3046 - val_accuracy: 0.9145\n",
      "Epoch 7/10\n",
      "60000/60000 [==============================] - 1s 22us/step - loss: 0.3212 - accuracy: 0.9071 - val_loss: 0.3199 - val_accuracy: 0.9075\n",
      "Epoch 8/10\n",
      "60000/60000 [==============================] - 1s 21us/step - loss: 0.3180 - accuracy: 0.9084 - val_loss: 0.3002 - val_accuracy: 0.9160\n",
      "Epoch 9/10\n",
      "60000/60000 [==============================] - 1s 21us/step - loss: 0.3105 - accuracy: 0.9114 - val_loss: 0.3053 - val_accuracy: 0.9128\n",
      "Epoch 10/10\n",
      "60000/60000 [==============================] - 1s 21us/step - loss: 0.3086 - accuracy: 0.9109 - val_loss: 0.2915 - val_accuracy: 0.9164\n"
     ]
    }
   ],
   "source": [
    "epoch = 10\n",
    "history_callback = model.fit(x_train, y_train, validation_data=(x_test,y_test), epochs=epoch, batch_size=100)"
   ]
  },
  {
   "cell_type": "markdown",
   "metadata": {},
   "source": [
    "## First results\n",
    "\n",
    "We have achieved a 99.67 accuracy with this very simple model, this is going to be our baseline and we change our model for improve the results."
   ]
  },
  {
   "cell_type": "markdown",
   "metadata": {},
   "source": [
    "We can get data history, since we will be doing this several times I also define a function for use later."
   ]
  },
  {
   "cell_type": "code",
   "execution_count": 27,
   "metadata": {},
   "outputs": [],
   "source": [
    "val_accuracy = np.array(history_callback.history['val_accuracy'])\n",
    "val_loss =  np.array(history_callback.history['val_loss'])\n",
    "accuracy =  np.array(history_callback.history['accuracy'])\n",
    "loss =  np.array(history_callback.history['loss'])"
   ]
  },
  {
   "cell_type": "markdown",
   "metadata": {},
   "source": [
    "Blue is test accuracy on training set and red is the accuracy on the test set. We want to improve red."
   ]
  },
  {
   "cell_type": "code",
   "execution_count": 28,
   "metadata": {},
   "outputs": [
    {
     "data": {
      "text/plain": [
       "[<matplotlib.lines.Line2D at 0x21e65720688>,\n",
       " <matplotlib.lines.Line2D at 0x21e65735bc8>]"
      ]
     },
     "execution_count": 28,
     "metadata": {},
     "output_type": "execute_result"
    },
    {
     "data": {
      "image/png": "[encoded data removed]",
      "text/plain": [
       "<Figure size 432x288 with 1 Axes>"
      ]
     },
     "metadata": {
      "needs_background": "light"
     },
     "output_type": "display_data"
    }
   ],
   "source": [
    "x = np.arange(0.0, epoch, 1)\n",
    "plt.title('Train vs Test Accuracy')\n",
    "plt.plot(x,val_accuracy,'r',x,accuracy,'b')"
   ]
  },
  {
   "cell_type": "code",
   "execution_count": 30,
   "metadata": {},
   "outputs": [
    {
     "data": {
      "text/plain": [
       "[<matplotlib.lines.Line2D at 0x21e65789708>,\n",
       " <matplotlib.lines.Line2D at 0x21e6579fa88>]"
      ]
     },
     "execution_count": 30,
     "metadata": {},
     "output_type": "execute_result"
    },
    {
     "data": {
      "image/png": "[encoded data removed]",
      "text/plain": [
       "<Figure size 432x288 with 1 Axes>"
      ]
     },
     "metadata": {
      "needs_background": "light"
     },
     "output_type": "display_data"
    }
   ],
   "source": [
    "x = np.arange(0.0, epoch, 1)\n",
    "plt.title('Train vs Test Loss')\n",
    "plt.plot(x,val_loss,'r',x,loss,'b')"
   ]
  },
  {
   "cell_type": "markdown",
   "metadata": {},
   "source": [
    "We got to 89% accuracy with just 10 simple neurons, this is our output layer and we can of course improve our model."
   ]
  },
  {
   "cell_type": "markdown",
   "metadata": {},
   "source": [
    "# Adding more Layers and Relu activation function"
   ]
  },
  {
   "cell_type": "markdown",
   "metadata": {},
   "source": [
    "# Relu\n",
    "\n",
    "Rectified linear unit(Relu), is one of the most common activation functions in neural networks. Relu is very simple, linear for all positive values and 0 for all negative values:\n",
    "$$ f(x)       \\begin{cases}\n",
    "       \\text{0,} &\\quad\\text{if } x \\le0\\\\\n",
    "       f(x) &\\quad\\text{if } x  >0 \\\\\n",
    "       \\end{cases}$$\n"
   ]
  },
  {
   "cell_type": "markdown",
   "metadata": {},
   "source": [
    "![Relu](img/relu.png)"
   ]
  },
  {
   "cell_type": "markdown",
   "metadata": {},
   "source": [
    "# Some advantages of Relu:\n",
    "- Cheap to compute.\n",
    "- Good sparsity.\n",
    "- Converge faster."
   ]
  },
  {
   "cell_type": "markdown",
   "metadata": {},
   "source": [
    "[https://keras.io/activations/](https://keras.io/activations/)\n",
    "\n",
    "[https://medium.com/@danqing/a-practical-guide-to-relu-b83ca804f1f7](https://medium.com/@danqing/a-practical-guide-to-relu-b83ca804f1f7) \n",
    "\n",
    "[https://datascience.stackexchange.com/questions/14349/difference-of-activation-functions-in-neural-networks-in-general](https://datascience.stackexchange.com/questions/14349/difference-of-activation-functions-in-neural-networks-in-general)"
   ]
  },
  {
   "cell_type": "markdown",
   "metadata": {},
   "source": [
    "## Extra layers\n",
    "\n",
    "We can now add more layers using Relu activation function:\n",
    "- Same input layer.\n",
    "- Hidden layers  512 and 98 neurons, with Relu.\n",
    "- Same output layer, 10 neurons with SoftMax."
   ]
  },
  {
   "cell_type": "code",
   "execution_count": 31,
   "metadata": {},
   "outputs": [],
   "source": [
    "model = kr.models.Sequential()\n",
    "model.add(kr.layers.Dense(units=512, input_dim=784, activation='relu'))\n",
    "model.add(kr.layers.Dense(units=98, activation='relu'))\n",
    "model.add(kr.layers.Dense(units=10, activation='softmax'))\n",
    "model.compile(loss='categorical_crossentropy',optimizer='adam', metrics=['accuracy'])"
   ]
  },
  {
   "cell_type": "code",
   "execution_count": 32,
   "metadata": {},
   "outputs": [
    {
     "name": "stdout",
     "output_type": "stream",
     "text": [
      "Model: \"sequential_2\"\n",
      "_________________________________________________________________\n",
      "Layer (type)                 Output Shape              Param #   \n",
      "=================================================================\n",
      "dense_2 (Dense)              (None, 512)               401920    \n",
      "_________________________________________________________________\n",
      "dense_3 (Dense)              (None, 98)                50274     \n",
      "_________________________________________________________________\n",
      "dense_4 (Dense)              (None, 10)                990       \n",
      "=================================================================\n",
      "Total params: 453,184\n",
      "Trainable params: 453,184\n",
      "Non-trainable params: 0\n",
      "_________________________________________________________________\n"
     ]
    }
   ],
   "source": [
    "model.summary()"
   ]
  },
  {
   "cell_type": "code",
   "execution_count": 33,
   "metadata": {
    "scrolled": true
   },
   "outputs": [
    {
     "name": "stdout",
     "output_type": "stream",
     "text": [
      "Train on 60000 samples, validate on 10000 samples\n",
      "Epoch 1/10\n",
      "60000/60000 [==============================] - 2s 30us/step - loss: 0.5613 - accuracy: 0.8298 - val_loss: 0.3411 - val_accuracy: 0.9002\n",
      "Epoch 2/10\n",
      "60000/60000 [==============================] - 2s 28us/step - loss: 0.2981 - accuracy: 0.9098 - val_loss: 0.2652 - val_accuracy: 0.9159\n",
      "Epoch 3/10\n",
      "60000/60000 [==============================] - 2s 28us/step - loss: 0.2402 - accuracy: 0.9270 - val_loss: 0.1969 - val_accuracy: 0.9397\n",
      "Epoch 4/10\n",
      "60000/60000 [==============================] - 2s 28us/step - loss: 0.1895 - accuracy: 0.9423 - val_loss: 0.1636 - val_accuracy: 0.9475\n",
      "Epoch 5/10\n",
      "60000/60000 [==============================] - 2s 28us/step - loss: 0.1657 - accuracy: 0.9501 - val_loss: 0.1644 - val_accuracy: 0.9513\n",
      "Epoch 6/10\n",
      "60000/60000 [==============================] - 2s 28us/step - loss: 0.1500 - accuracy: 0.9542 - val_loss: 0.1439 - val_accuracy: 0.9565\n",
      "Epoch 7/10\n",
      "60000/60000 [==============================] - 2s 28us/step - loss: 0.1378 - accuracy: 0.9564 - val_loss: 0.1196 - val_accuracy: 0.9641\n",
      "Epoch 8/10\n",
      "60000/60000 [==============================] - 2s 28us/step - loss: 0.1232 - accuracy: 0.9612 - val_loss: 0.1319 - val_accuracy: 0.9579\n",
      "Epoch 9/10\n",
      "60000/60000 [==============================] - 2s 28us/step - loss: 0.1125 - accuracy: 0.9654 - val_loss: 0.1240 - val_accuracy: 0.9601\n",
      "Epoch 10/10\n",
      "60000/60000 [==============================] - 2s 28us/step - loss: 0.1049 - accuracy: 0.9660 - val_loss: 0.1062 - val_accuracy: 0.9675\n"
     ]
    }
   ],
   "source": [
    "epoch = 10\n",
    "history_callback = model.fit(x_train, y_train, validation_data=(x_test,y_test), epochs=epoch, batch_size=100)"
   ]
  },
  {
   "cell_type": "code",
   "execution_count": 35,
   "metadata": {},
   "outputs": [],
   "source": [
    "val_accuracy = np.array(history_callback.history['val_accuracy'])\n",
    "val_loss =  np.array(history_callback.history['val_loss'])\n",
    "accuracy =  np.array(history_callback.history['accuracy'])\n",
    "loss =  np.array(history_callback.history['loss'])"
   ]
  },
  {
   "cell_type": "code",
   "execution_count": 36,
   "metadata": {},
   "outputs": [
    {
     "data": {
      "text/plain": [
       "[<matplotlib.lines.Line2D at 0x21e789a1088>,\n",
       " <matplotlib.lines.Line2D at 0x21e789b8508>]"
      ]
     },
     "execution_count": 36,
     "metadata": {},
     "output_type": "execute_result"
    },
    {
     "data": {
      "image/png": "[encoded data removed]",
      "text/plain": [
       "<Figure size 432x288 with 1 Axes>"
      ]
     },
     "metadata": {
      "needs_background": "light"
     },
     "output_type": "display_data"
    }
   ],
   "source": [
    "x = np.arange(0.0, epoch, 1)\n",
    "plt.title('Train vs Test Accuracy')\n",
    "plt.plot(x,val_accuracy,'r',x,accuracy,'b')"
   ]
  },
  {
   "cell_type": "code",
   "execution_count": 37,
   "metadata": {},
   "outputs": [
    {
     "data": {
      "text/plain": [
       "[<matplotlib.lines.Line2D at 0x21e789fd788>,\n",
       " <matplotlib.lines.Line2D at 0x21e78a14b48>]"
      ]
     },
     "execution_count": 37,
     "metadata": {},
     "output_type": "execute_result"
    },
    {
     "data": {
      "image/png": "[encoded data removed]",
      "text/plain": [
       "<Figure size 432x288 with 1 Axes>"
      ]
     },
     "metadata": {
      "needs_background": "light"
     },
     "output_type": "display_data"
    }
   ],
   "source": [
    "x = np.arange(0.0, epoch, 1)\n",
    "plt.title('Train vs Test Loss')\n",
    "plt.plot(x,val_loss,'r',x,loss,'b')"
   ]
  },
  {
   "cell_type": "markdown",
   "metadata": {},
   "source": [
    "Relu and the extra layers have give a great improvement to our model, from 89% to 96%."
   ]
  },
  {
   "cell_type": "markdown",
   "metadata": {},
   "source": [
    "# Dropout\n",
    "\n",
    "Drop out is regularization technic, basically we drop some random neurons during training, \n",
    "they are temporary shutted down. \n",
    "\n",
    "Is believe that this make other neurons be more active so improve the learning rate.\n",
    "\n",
    "The effect is a network that is less sensitive to specific weights of neurons. The network is capable of a better generalization and avoid overfit.\n",
    "\n",
    "Drop out is very easily implemented with Keras, we just need to pick a percent of dropped out neurons for each epoch.\n"
   ]
  },
  {
   "cell_type": "markdown",
   "metadata": {},
   "source": [
    "[https://keras.io/layers/core/](https://keras.io/layers/core/)\n",
    "\n",
    "[https://machinelearningmastery.com/dropout-regularization-deep-learning-models-keras/](https://machinelearningmastery.com/dropout-regularization-deep-learning-models-keras/)"
   ]
  },
  {
   "cell_type": "code",
   "execution_count": 38,
   "metadata": {},
   "outputs": [],
   "source": [
    "model = kr.models.Sequential()\n",
    "model.add(kr.layers.Dense(units=512, input_dim=784, activation='relu'))\n",
    "model.add(kr.layers.Dropout(0.01))\n",
    "model.add(kr.layers.Dense(units=98, activation='relu'))\n",
    "model.add(kr.layers.Dropout(0.1))\n",
    "model.add(kr.layers.Dense(units=10, activation='softmax'))\n",
    "model.compile(loss='categorical_crossentropy',optimizer='adam', metrics=['accuracy'])"
   ]
  },
  {
   "cell_type": "code",
   "execution_count": 39,
   "metadata": {},
   "outputs": [
    {
     "name": "stdout",
     "output_type": "stream",
     "text": [
      "Model: \"sequential_3\"\n",
      "_________________________________________________________________\n",
      "Layer (type)                 Output Shape              Param #   \n",
      "=================================================================\n",
      "dense_5 (Dense)              (None, 512)               401920    \n",
      "_________________________________________________________________\n",
      "dropout_1 (Dropout)          (None, 512)               0         \n",
      "_________________________________________________________________\n",
      "dense_6 (Dense)              (None, 98)                50274     \n",
      "_________________________________________________________________\n",
      "dropout_2 (Dropout)          (None, 98)                0         \n",
      "_________________________________________________________________\n",
      "dense_7 (Dense)              (None, 10)                990       \n",
      "=================================================================\n",
      "Total params: 453,184\n",
      "Trainable params: 453,184\n",
      "Non-trainable params: 0\n",
      "_________________________________________________________________\n"
     ]
    }
   ],
   "source": [
    "model.summary()"
   ]
  },
  {
   "cell_type": "code",
   "execution_count": 40,
   "metadata": {
    "scrolled": true
   },
   "outputs": [
    {
     "name": "stdout",
     "output_type": "stream",
     "text": [
      "Train on 60000 samples, validate on 10000 samples\n",
      "Epoch 1/10\n",
      "60000/60000 [==============================] - 2s 33us/step - loss: 0.6175 - accuracy: 0.8092 - val_loss: 0.3019 - val_accuracy: 0.9085\n",
      "Epoch 2/10\n",
      "60000/60000 [==============================] - 2s 31us/step - loss: 0.3136 - accuracy: 0.9030 - val_loss: 0.2314 - val_accuracy: 0.9305\n",
      "Epoch 3/10\n",
      "60000/60000 [==============================] - 2s 31us/step - loss: 0.2428 - accuracy: 0.9263 - val_loss: 0.1639 - val_accuracy: 0.9491\n",
      "Epoch 4/10\n",
      "60000/60000 [==============================] - 2s 31us/step - loss: 0.2002 - accuracy: 0.9385 - val_loss: 0.1434 - val_accuracy: 0.9547\n",
      "Epoch 5/10\n",
      "60000/60000 [==============================] - 2s 31us/step - loss: 0.1748 - accuracy: 0.9463 - val_loss: 0.1680 - val_accuracy: 0.9444\n",
      "Epoch 6/10\n",
      "60000/60000 [==============================] - 2s 31us/step - loss: 0.1608 - accuracy: 0.9498 - val_loss: 0.1430 - val_accuracy: 0.9531\n",
      "Epoch 7/10\n",
      "60000/60000 [==============================] - 2s 31us/step - loss: 0.1444 - accuracy: 0.9549 - val_loss: 0.1439 - val_accuracy: 0.9537\n",
      "Epoch 8/10\n",
      "60000/60000 [==============================] - 2s 30us/step - loss: 0.1336 - accuracy: 0.9585 - val_loss: 0.1159 - val_accuracy: 0.9644\n",
      "Epoch 9/10\n",
      "60000/60000 [==============================] - 2s 30us/step - loss: 0.1239 - accuracy: 0.9608 - val_loss: 0.1031 - val_accuracy: 0.9678\n",
      "Epoch 10/10\n",
      "60000/60000 [==============================] - 2s 30us/step - loss: 0.1203 - accuracy: 0.9624 - val_loss: 0.1210 - val_accuracy: 0.9634\n"
     ]
    }
   ],
   "source": [
    "epoch = 10\n",
    "history_callback = model.fit(x_train, y_train, validation_data=(x_test,y_test), epochs=epoch, batch_size=100)"
   ]
  },
  {
   "cell_type": "code",
   "execution_count": 44,
   "metadata": {},
   "outputs": [],
   "source": [
    "val_accuracy = np.array(history_callback.history['val_accuracy'])\n",
    "val_loss =  np.array(history_callback.history['val_loss'])\n",
    "accuracy =  np.array(history_callback.history['accuracy'])\n",
    "loss =  np.array(history_callback.history['loss'])"
   ]
  },
  {
   "cell_type": "code",
   "execution_count": 45,
   "metadata": {},
   "outputs": [
    {
     "data": {
      "text/plain": [
       "[<matplotlib.lines.Line2D at 0x21e7a79b0c8>,\n",
       " <matplotlib.lines.Line2D at 0x21e7a7b2348>]"
      ]
     },
     "execution_count": 45,
     "metadata": {},
     "output_type": "execute_result"
    },
    {
     "data": {
      "image/png": "[encoded data removed]",
      "text/plain": [
       "<Figure size 432x288 with 1 Axes>"
      ]
     },
     "metadata": {
      "needs_background": "light"
     },
     "output_type": "display_data"
    }
   ],
   "source": [
    "x = np.arange(0.0, epoch, 1)\n",
    "plt.title('Train vs Test Accuracy')\n",
    "plt.plot(x,val_accuracy,'r',x,accuracy,'b')"
   ]
  },
  {
   "cell_type": "code",
   "execution_count": 46,
   "metadata": {},
   "outputs": [
    {
     "data": {
      "text/plain": [
       "[<matplotlib.lines.Line2D at 0x21e7a7fe288>,\n",
       " <matplotlib.lines.Line2D at 0x21e7a815888>]"
      ]
     },
     "execution_count": 46,
     "metadata": {},
     "output_type": "execute_result"
    },
    {
     "data": {
      "image/png": "[encoded data removed]",
      "text/plain": [
       "<Figure size 432x288 with 1 Axes>"
      ]
     },
     "metadata": {
      "needs_background": "light"
     },
     "output_type": "display_data"
    }
   ],
   "source": [
    "x = np.arange(0.0, epoch, 1)\n",
    "plt.title('Train vs Test Loss')\n",
    "plt.plot(x,val_loss,'r',x,loss,'b')"
   ]
  },
  {
   "cell_type": "markdown",
   "metadata": {},
   "source": [
    "Dropout improve our model from 96% to 96.5%, litle improvement but relevant."
   ]
  },
  {
   "cell_type": "markdown",
   "metadata": {},
   "source": [
    "# 2D Convolutional Neural Network\n",
    "\n",
    "We have achieve 97% accuracy on our model, but we are missing a very important point : shapes are 2D images and there is a relation between pixels. Transforming our image in a 1D vector we completely ignore the shape of the image.\n",
    "Using convolutional neurons we can feed neurons with 2D arrays of pixels and someone preserve the data on the shape of the image.\n",
    "\n",
    "In the image bellow we can see how a 3x3 convolutional networks works. Note that the image is just for illustrate how convolutional networks works, is not related with the one we will use.\n"
   ]
  },
  {
   "cell_type": "markdown",
   "metadata": {},
   "source": [
    "![Conv2d](img/conv2d.gif)\n",
    "\n",
    "### image from:  [https://www.pyimagesearch.com/2018/12/31/keras-conv2d-and-convolutional-layers/](https://www.pyimagesearch.com/2018/12/31/keras-conv2d-and-convolutional-layers/)"
   ]
  },
  {
   "cell_type": "markdown",
   "metadata": {},
   "source": [
    "[https://keras.io/layers/convolutional/](https://keras.io/layers/convolutional/)\n",
    "\n",
    "[https://towardsdatascience.com/a-comprehensive-guide-to-convolutional-neural-networks-the-eli5-way-3bd2b1164a53](https://towardsdatascience.com/a-comprehensive-guide-to-convolutional-neural-networks-the-eli5-way-3bd2b1164a53)"
   ]
  },
  {
   "cell_type": "markdown",
   "metadata": {},
   "source": [
    "## Reforating input data for convolutional network\n",
    "\n",
    "We now need to reshape our data for be a 28 by 28 array so it can be fit onto the convolutional network."
   ]
  },
  {
   "cell_type": "code",
   "execution_count": 47,
   "metadata": {},
   "outputs": [],
   "source": [
    "x_train = x_train.reshape(train_img_total,col,row,1)\n",
    "x_test = x_test.reshape(test_img_total,col,row,1)"
   ]
  },
  {
   "cell_type": "code",
   "execution_count": 48,
   "metadata": {},
   "outputs": [
    {
     "data": {
      "text/plain": [
       "(60000, 28, 28, 1)"
      ]
     },
     "execution_count": 48,
     "metadata": {},
     "output_type": "execute_result"
    }
   ],
   "source": [
    "x_train.shape"
   ]
  },
  {
   "cell_type": "code",
   "execution_count": 49,
   "metadata": {},
   "outputs": [],
   "source": [
    "model = kr.models.Sequential()\n",
    "\n",
    "model.add(kr.layers.Conv2D(256,kernel_size=(3, 3),activation='relu'))\n",
    "model.add(kr.layers.Flatten())\n",
    "model.add(kr.layers.Dropout(0.25))\n",
    "model.add(kr.layers.Dense(units=98, activation='relu'))\n",
    "model.add(kr.layers.Dropout(0.1))\n",
    "model.add(kr.layers.Dense(units=10, activation='softmax'))\n",
    "model.compile(loss='categorical_crossentropy',optimizer='adam', metrics=['accuracy'])"
   ]
  },
  {
   "cell_type": "code",
   "execution_count": 50,
   "metadata": {},
   "outputs": [
    {
     "name": "stdout",
     "output_type": "stream",
     "text": [
      "Train on 60000 samples, validate on 10000 samples\n",
      "Epoch 1/10\n",
      "60000/60000 [==============================] - 14s 235us/step - loss: 0.3592 - accuracy: 0.9028 - val_loss: 0.0852 - val_accuracy: 0.9738\n",
      "Epoch 2/10\n",
      "60000/60000 [==============================] - 12s 196us/step - loss: 0.1007 - accuracy: 0.9700 - val_loss: 0.0670 - val_accuracy: 0.9793\n",
      "Epoch 3/10\n",
      "60000/60000 [==============================] - 12s 197us/step - loss: 0.0706 - accuracy: 0.9786 - val_loss: 0.0613 - val_accuracy: 0.9798\n",
      "Epoch 4/10\n",
      "60000/60000 [==============================] - 12s 206us/step - loss: 0.0524 - accuracy: 0.9837 - val_loss: 0.0649 - val_accuracy: 0.9805\n",
      "Epoch 5/10\n",
      "60000/60000 [==============================] - 12s 206us/step - loss: 0.0411 - accuracy: 0.9867 - val_loss: 0.0572 - val_accuracy: 0.9806\n",
      "Epoch 6/10\n",
      "60000/60000 [==============================] - 12s 199us/step - loss: 0.0329 - accuracy: 0.9895 - val_loss: 0.0563 - val_accuracy: 0.9834\n",
      "Epoch 7/10\n",
      "60000/60000 [==============================] - 12s 197us/step - loss: 0.0254 - accuracy: 0.9917 - val_loss: 0.0762 - val_accuracy: 0.9792\n",
      "Epoch 8/10\n",
      "60000/60000 [==============================] - 12s 197us/step - loss: 0.0232 - accuracy: 0.9919 - val_loss: 0.0622 - val_accuracy: 0.9826\n",
      "Epoch 9/10\n",
      "60000/60000 [==============================] - 12s 197us/step - loss: 0.0195 - accuracy: 0.9932 - val_loss: 0.0605 - val_accuracy: 0.9836\n",
      "Epoch 10/10\n",
      "60000/60000 [==============================] - 12s 197us/step - loss: 0.0156 - accuracy: 0.9948 - val_loss: 0.0712 - val_accuracy: 0.9824\n"
     ]
    }
   ],
   "source": [
    "epoch = 10\n",
    "history_callback = model.fit(x_train, y_train, validation_data=(x_test,y_test), epochs=epoch, batch_size=100)"
   ]
  },
  {
   "cell_type": "code",
   "execution_count": 51,
   "metadata": {},
   "outputs": [
    {
     "data": {
      "text/plain": [
       "[<matplotlib.lines.Line2D at 0x21e7ac4b288>,\n",
       " <matplotlib.lines.Line2D at 0x21e7ac617c8>]"
      ]
     },
     "execution_count": 51,
     "metadata": {},
     "output_type": "execute_result"
    },
    {
     "data": {
      "image/png": "[encoded data removed]",
      "text/plain": [
       "<Figure size 432x288 with 1 Axes>"
      ]
     },
     "metadata": {
      "needs_background": "light"
     },
     "output_type": "display_data"
    }
   ],
   "source": [
    "x = np.arange(0.0, epoch, 1)\n",
    "plt.title('Train vs Test Accuracy')\n",
    "plt.plot(x,val_accuracy,'r',x,accuracy,'b')"
   ]
  },
  {
   "cell_type": "code",
   "execution_count": 52,
   "metadata": {},
   "outputs": [
    {
     "data": {
      "text/plain": [
       "[<matplotlib.lines.Line2D at 0x21e7afbd408>,\n",
       " <matplotlib.lines.Line2D at 0x21e7afd3a08>]"
      ]
     },
     "execution_count": 52,
     "metadata": {},
     "output_type": "execute_result"
    },
    {
     "data": {
      "image/png": "[encoded data removed]",
      "text/plain": [
       "<Figure size 432x288 with 1 Axes>"
      ]
     },
     "metadata": {
      "needs_background": "light"
     },
     "output_type": "display_data"
    }
   ],
   "source": [
    "x = np.arange(0.0, epoch, 1)\n",
    "plt.title('Train vs Test Loss')\n",
    "plt.plot(x,val_loss,'r',x,loss,'b')"
   ]
  },
  {
   "cell_type": "markdown",
   "metadata": {},
   "source": [
    "With just 1 convolutional layer we have improve our accuracy to 98%. Great improvement but there is still place for more..."
   ]
  },
  {
   "cell_type": "markdown",
   "metadata": {},
   "source": [
    "## More layers and max polling\n",
    "\n",
    "A polling layer is a layer that we add after a convolutional layer.  The polling layer will operate over each pixel for create a new set of pulled data. We will use max polling of size 2x2 pixels. This means that the maximum of each 2x2 patch will be calculated.\n",
    "\n",
    "### Benefits:\n",
    "\n",
    "- Model invariance to local translation.\n",
    "- Faster computations.\n",
    "\n"
   ]
  },
  {
   "cell_type": "markdown",
   "metadata": {},
   "source": [
    "![MAxPolling2d](img/maxpolling2d.png)\n",
    "\n",
    "image from: [https://www.geeksforgeeks.org/cnn-introduction-to-pooling-layer/](https://www.geeksforgeeks.org/cnn-introduction-to-pooling-layer/)"
   ]
  },
  {
   "cell_type": "markdown",
   "metadata": {},
   "source": [
    "[https://keras.io/layers/pooling/](https://keras.io/layers/pooling/)\n",
    "\n",
    "[https://machinelearningmastery.com/pooling-layers-for-convolutional-neural-networks/](https://machinelearningmastery.com/pooling-layers-for-convolutional-neural-networks/)"
   ]
  },
  {
   "cell_type": "code",
   "execution_count": 53,
   "metadata": {},
   "outputs": [],
   "source": [
    "model = kr.models.Sequential()\n",
    "model.add(kr.layers.Conv2D(64,kernel_size=(7, 7),activation='relu',input_shape=(28,28,1)))\n",
    "model.add(kr.layers.Conv2D(64,kernel_size=(7, 7),activation='relu'))\n",
    "model.add(kr.layers.MaxPooling2D(pool_size=(2, 2),))\n",
    "model.add(kr.layers.Conv2D(128,kernel_size=(5, 5),activation='relu'))\n",
    "model.add(kr.layers.Conv2D(256,kernel_size=(3, 3),activation='relu'))\n",
    "model.add(kr.layers.MaxPooling2D(pool_size=(2, 2),))\n",
    "model.add(kr.layers.Flatten())\n",
    "model.add(kr.layers.Dropout(0.25))\n",
    "model.add(kr.layers.Dense(units=98, activation='relu'))\n",
    "model.add(kr.layers.Dropout(0.1))\n",
    "model.add(kr.layers.Dense(units=10, activation='softmax'))\n",
    "model.compile(loss='categorical_crossentropy',optimizer='adam', metrics=['accuracy'])"
   ]
  },
  {
   "cell_type": "code",
   "execution_count": 54,
   "metadata": {},
   "outputs": [
    {
     "name": "stdout",
     "output_type": "stream",
     "text": [
      "Train on 60000 samples, validate on 10000 samples\n",
      "Epoch 1/10\n",
      "60000/60000 [==============================] - 6s 93us/step - loss: 0.2164 - accuracy: 0.9304 - val_loss: 0.0632 - val_accuracy: 0.9809\n",
      "Epoch 2/10\n",
      "60000/60000 [==============================] - 5s 86us/step - loss: 0.0615 - accuracy: 0.9825 - val_loss: 0.0319 - val_accuracy: 0.9907\n",
      "Epoch 3/10\n",
      "60000/60000 [==============================] - 5s 88us/step - loss: 0.0451 - accuracy: 0.9866 - val_loss: 0.0312 - val_accuracy: 0.9904\n",
      "Epoch 4/10\n",
      "60000/60000 [==============================] - 6s 92us/step - loss: 0.0348 - accuracy: 0.9900 - val_loss: 0.0373 - val_accuracy: 0.9893\n",
      "Epoch 5/10\n",
      "60000/60000 [==============================] - 5s 90us/step - loss: 0.0301 - accuracy: 0.9913 - val_loss: 0.0342 - val_accuracy: 0.9902\n",
      "Epoch 6/10\n",
      "60000/60000 [==============================] - 6s 92us/step - loss: 0.0275 - accuracy: 0.9925 - val_loss: 0.0363 - val_accuracy: 0.9897\n",
      "Epoch 7/10\n",
      "60000/60000 [==============================] - 5s 91us/step - loss: 0.0221 - accuracy: 0.9935 - val_loss: 0.0323 - val_accuracy: 0.9918\n",
      "Epoch 8/10\n",
      "60000/60000 [==============================] - 5s 91us/step - loss: 0.0217 - accuracy: 0.9934 - val_loss: 0.0412 - val_accuracy: 0.9898\n",
      "Epoch 9/10\n",
      "60000/60000 [==============================] - 5s 90us/step - loss: 0.0201 - accuracy: 0.9941 - val_loss: 0.0329 - val_accuracy: 0.9916\n",
      "Epoch 10/10\n",
      "60000/60000 [==============================] - 5s 88us/step - loss: 0.0161 - accuracy: 0.9952 - val_loss: 0.0292 - val_accuracy: 0.9925\n"
     ]
    }
   ],
   "source": [
    "epoch = 10\n",
    "history_callback = model.fit(x_train, y_train, validation_data=(x_test,y_test), epochs=epoch, batch_size=100)"
   ]
  },
  {
   "cell_type": "code",
   "execution_count": 59,
   "metadata": {},
   "outputs": [
    {
     "data": {
      "text/plain": [
       "[<matplotlib.lines.Line2D at 0x21ed5fdc248>,\n",
       " <matplotlib.lines.Line2D at 0x21ed5ff3588>]"
      ]
     },
     "execution_count": 59,
     "metadata": {},
     "output_type": "execute_result"
    },
    {
     "data": {
      "image/png": "[encoded data removed]",
      "text/plain": [
       "<Figure size 432x288 with 1 Axes>"
      ]
     },
     "metadata": {
      "needs_background": "light"
     },
     "output_type": "display_data"
    }
   ],
   "source": [
    "x = np.arange(0.0, epoch, 1)\n",
    "plt.title('Train vs Test Accuracy')\n",
    "plt.plot(x,val_accuracy,'r',x,accuracy,'b')"
   ]
  },
  {
   "cell_type": "code",
   "execution_count": 60,
   "metadata": {},
   "outputs": [
    {
     "data": {
      "text/plain": [
       "[<matplotlib.lines.Line2D at 0x21ed603f0c8>,\n",
       " <matplotlib.lines.Line2D at 0x21ed6054548>]"
      ]
     },
     "execution_count": 60,
     "metadata": {},
     "output_type": "execute_result"
    },
    {
     "data": {
      "image/png": "[encoded data removed]",
      "text/plain": [
       "<Figure size 432x288 with 1 Axes>"
      ]
     },
     "metadata": {
      "needs_background": "light"
     },
     "output_type": "display_data"
    }
   ],
   "source": [
    "x = np.arange(0.0, epoch, 1)\n",
    "plt.title('Train vs Test Loss')\n",
    "plt.plot(x,val_loss,'r',x,loss,'b')"
   ]
  },
  {
   "cell_type": "markdown",
   "metadata": {},
   "source": [
    "Great improvement , we are at 99.5% now. \n",
    "\n"
   ]
  },
  {
   "cell_type": "markdown",
   "metadata": {},
   "source": [
    "## Batch normalization"
   ]
  },
  {
   "cell_type": "markdown",
   "metadata": {},
   "source": [
    "## Batch Normalization\n"
   ]
  },
  {
   "cell_type": "markdown",
   "metadata": {},
   "source": [
    "We can normalize beetwen layers for speed up training. Normalization function will keep values at same range, mean that we will not have very high values.\n",
    "\n",
    "Some advatages:\n",
    "\n",
    "- Layers can learn  a bit more independently.\n",
    "- Allow higher rate of leanrning.\n",
    "- Reduce overfit.\n",
    "\n",
    "https://stackoverflow.com/questions/34716454/where-do-i-call-the-batchnormalization-function-in-keras\n",
    "\n",
    "https://arxiv.org/pdf/1502.03167v2.pdf\n",
    "\n",
    "https://towardsdatascience.com/batch-normalization-in-neural-networks-1ac91516821c\n",
    "    "
   ]
  },
  {
   "cell_type": "code",
   "execution_count": 61,
   "metadata": {},
   "outputs": [],
   "source": [
    "model = kr.models.Sequential()\n",
    "model.add(kr.layers.Conv2D(64,kernel_size=(7, 7),activation='relu',input_shape=(28,28,1)))\n",
    "kr.layers.BatchNormalization(axis=-1)\n",
    "model.add(kr.layers.Conv2D(64,kernel_size=(7, 7),activation='relu'))\n",
    "kr.layers.BatchNormalization(axis=-1)\n",
    "model.add(kr.layers.MaxPooling2D(pool_size=(2, 2),))\n",
    "model.add(kr.layers.Conv2D(128,kernel_size=(5, 5),activation='relu'))\n",
    "kr.layers.BatchNormalization(axis=-1)\n",
    "model.add(kr.layers.Conv2D(256,kernel_size=(3, 3),activation='relu'))\n",
    "model.add(kr.layers.MaxPooling2D(pool_size=(2, 2),))\n",
    "model.add(kr.layers.Flatten())\n",
    "model.add(kr.layers.Dropout(0.25))\n",
    "model.add(kr.layers.Dense(units=98, activation='relu'))\n",
    "model.add(kr.layers.Dropout(0.1))\n",
    "model.add(kr.layers.Dense(units=10, activation='softmax'))\n",
    "model.compile(loss='categorical_crossentropy',optimizer='adam', metrics=['accuracy'])"
   ]
  },
  {
   "cell_type": "code",
   "execution_count": 62,
   "metadata": {},
   "outputs": [
    {
     "name": "stdout",
     "output_type": "stream",
     "text": [
      "Train on 60000 samples, validate on 10000 samples\n",
      "Epoch 1/10\n",
      "60000/60000 [==============================] - 5s 91us/step - loss: 0.2262 - accuracy: 0.9270 - val_loss: 0.0650 - val_accuracy: 0.9804\n",
      "Epoch 2/10\n",
      "60000/60000 [==============================] - 5s 86us/step - loss: 0.0634 - accuracy: 0.9815 - val_loss: 0.0449 - val_accuracy: 0.9873\n",
      "Epoch 3/10\n",
      "60000/60000 [==============================] - 5s 87us/step - loss: 0.0480 - accuracy: 0.9860 - val_loss: 0.0387 - val_accuracy: 0.9884\n",
      "Epoch 4/10\n",
      "60000/60000 [==============================] - 5s 89us/step - loss: 0.0366 - accuracy: 0.9891 - val_loss: 0.0298 - val_accuracy: 0.9923\n",
      "Epoch 5/10\n",
      "60000/60000 [==============================] - 6s 92us/step - loss: 0.0315 - accuracy: 0.9907 - val_loss: 0.0274 - val_accuracy: 0.9916\n",
      "Epoch 6/10\n",
      "60000/60000 [==============================] - 5s 91us/step - loss: 0.0263 - accuracy: 0.9920 - val_loss: 0.0397 - val_accuracy: 0.9891\n",
      "Epoch 7/10\n",
      "60000/60000 [==============================] - 5s 90us/step - loss: 0.0246 - accuracy: 0.9925 - val_loss: 0.0381 - val_accuracy: 0.9887\n",
      "Epoch 8/10\n",
      "60000/60000 [==============================] - 5s 90us/step - loss: 0.0220 - accuracy: 0.9934 - val_loss: 0.0290 - val_accuracy: 0.9924\n",
      "Epoch 9/10\n",
      "60000/60000 [==============================] - 5s 90us/step - loss: 0.0202 - accuracy: 0.9940 - val_loss: 0.0330 - val_accuracy: 0.9908\n",
      "Epoch 10/10\n",
      "60000/60000 [==============================] - 5s 91us/step - loss: 0.0186 - accuracy: 0.9947 - val_loss: 0.0302 - val_accuracy: 0.9921\n"
     ]
    }
   ],
   "source": [
    "epoch = 10\n",
    "history_callback = model.fit(x_train, y_train, validation_data=(x_test,y_test), epochs=epoch, batch_size=100)"
   ]
  },
  {
   "cell_type": "code",
   "execution_count": 63,
   "metadata": {},
   "outputs": [],
   "source": [
    "val_accuracy = np.array(history_callback.history['val_accuracy'])\n",
    "val_loss =  np.array(history_callback.history['val_loss'])\n",
    "accuracy =  np.array(history_callback.history['accuracy'])\n",
    "loss =  np.array(history_callback.history['loss'])"
   ]
  },
  {
   "cell_type": "code",
   "execution_count": 64,
   "metadata": {},
   "outputs": [
    {
     "data": {
      "text/plain": [
       "[<matplotlib.lines.Line2D at 0x21edd5aee48>,\n",
       " <matplotlib.lines.Line2D at 0x21edd5aef88>,\n",
       " <matplotlib.lines.Line2D at 0x21ede589208>,\n",
       " <matplotlib.lines.Line2D at 0x21ede589408>]"
      ]
     },
     "execution_count": 64,
     "metadata": {},
     "output_type": "execute_result"
    },
    {
     "data": {
      "image/png": "[encoded data removed]",
      "text/plain": [
       "<Figure size 432x288 with 1 Axes>"
      ]
     },
     "metadata": {
      "needs_background": "light"
     },
     "output_type": "display_data"
    }
   ],
   "source": [
    "x = np.arange(0.0, epoch, 1)\n",
    "plt.plot(x,val_accuracy,'b',x,accuracy,'r',x,loss,'g',x,val_loss,'y')"
   ]
  },
  {
   "cell_type": "code",
   "execution_count": 65,
   "metadata": {},
   "outputs": [
    {
     "data": {
      "text/plain": [
       "[<matplotlib.lines.Line2D at 0x21ede5cf748>,\n",
       " <matplotlib.lines.Line2D at 0x21ede5e1ec8>]"
      ]
     },
     "execution_count": 65,
     "metadata": {},
     "output_type": "execute_result"
    },
    {
     "data": {
      "image/png": "[encoded data removed]",
      "text/plain": [
       "<Figure size 432x288 with 1 Axes>"
      ]
     },
     "metadata": {
      "needs_background": "light"
     },
     "output_type": "display_data"
    }
   ],
   "source": [
    "x = np.arange(0.0, epoch, 1)\n",
    "plt.title('Train vs Test Accuracy')\n",
    "plt.plot(x,val_accuracy,'r',x,accuracy,'b')"
   ]
  },
  {
   "cell_type": "code",
   "execution_count": 66,
   "metadata": {},
   "outputs": [
    {
     "data": {
      "text/plain": [
       "[<matplotlib.lines.Line2D at 0x21ede632c88>,\n",
       " <matplotlib.lines.Line2D at 0x21ede64f288>]"
      ]
     },
     "execution_count": 66,
     "metadata": {},
     "output_type": "execute_result"
    },
    {
     "data": {
      "image/png": "[encoded data removed]",
      "text/plain": [
       "<Figure size 432x288 with 1 Axes>"
      ]
     },
     "metadata": {
      "needs_background": "light"
     },
     "output_type": "display_data"
    }
   ],
   "source": [
    "x = np.arange(0.0, epoch, 1)\n",
    "plt.title('Train vs Test Loss')\n",
    "plt.plot(x,val_loss,'r',x,loss,'b')"
   ]
  },
  {
   "cell_type": "markdown",
   "metadata": {},
   "source": [
    "# Final Model"
   ]
  },
  {
   "cell_type": "markdown",
   "metadata": {},
   "source": [
    "![Final Model](img/finalmodel.png)\n",
    "\n",
    "* image created using : [NN-SVG](http://alexlenail.me/NN-SVG/LeNet.html)\n"
   ]
  },
  {
   "cell_type": "code",
   "execution_count": 91,
   "metadata": {},
   "outputs": [
    {
     "name": "stdout",
     "output_type": "stream",
     "text": [
      "Model: \"sequential_9\"\n",
      "_________________________________________________________________\n",
      "Layer (type)                 Output Shape              Param #   \n",
      "=================================================================\n",
      "conv2d_18 (Conv2D)           (None, 22, 22, 64)        3200      \n",
      "_________________________________________________________________\n",
      "conv2d_19 (Conv2D)           (None, 16, 16, 64)        200768    \n",
      "_________________________________________________________________\n",
      "max_pooling2d_9 (MaxPooling2 (None, 8, 8, 64)          0         \n",
      "_________________________________________________________________\n",
      "conv2d_20 (Conv2D)           (None, 4, 4, 128)         204928    \n",
      "_________________________________________________________________\n",
      "conv2d_21 (Conv2D)           (None, 2, 2, 256)         295168    \n",
      "_________________________________________________________________\n",
      "max_pooling2d_10 (MaxPooling (None, 1, 1, 256)         0         \n",
      "_________________________________________________________________\n",
      "dropout_12 (Dropout)         (None, 1, 1, 256)         0         \n",
      "_________________________________________________________________\n",
      "flatten_6 (Flatten)          (None, 256)               0         \n",
      "_________________________________________________________________\n",
      "dense_18 (Dense)             (None, 128)               32896     \n",
      "_________________________________________________________________\n",
      "dense_19 (Dense)             (None, 10)                1290      \n",
      "=================================================================\n",
      "Total params: 738,250\n",
      "Trainable params: 738,250\n",
      "Non-trainable params: 0\n",
      "_________________________________________________________________\n"
     ]
    }
   ],
   "source": [
    "model = kr.models.Sequential()\n",
    "model.add(kr.layers.Conv2D(64,kernel_size=(7, 7),activation='relu',input_shape=(28,28,1)))\n",
    "kr.layers.normalization.BatchNormalization(axis=-1)\n",
    "model.add(kr.layers.Conv2D(64,kernel_size=(7, 7),activation='relu'))\n",
    "kr.layers.normalization.BatchNormalization(axis=-1)\n",
    "model.add(kr.layers.MaxPooling2D(pool_size=(2, 2),))\n",
    "model.add(kr.layers.Conv2D(128,kernel_size=(5, 5),activation='relu'))\n",
    "model.add(kr.layers.Conv2D(256,kernel_size=(3, 3),activation='relu'))\n",
    "model.add(kr.layers.MaxPooling2D(pool_size=(2, 2),))\n",
    "model.add(kr.layers.Dropout(0.25))\n",
    "model.add(kr.layers.Flatten())\n",
    "kr.layers.normalization.BatchNormalization()\n",
    "model.add(kr.layers.Dense(units=128, activation='relu'))\n",
    "model.add(kr.layers.Dense(units=10, activation='softmax'))\n",
    "model.compile(loss=kr.losses.categorical_crossentropy,optimizer='adadelta',metrics=['accuracy'])\n",
    "model.summary()"
   ]
  },
  {
   "cell_type": "markdown",
   "metadata": {},
   "source": [
    "# Data Augmentation Image Generator\n",
    "\n",
    "We we able to reach  maximun of 99.5% on our test data. Could be great if we can have more data for train the model, the great news are that we can generate more data and keras has librarys that do it for us...\n",
    "\n",
    "\n",
    "https://medium.com/nanonets/how-to-use-deep-learning-when-you-have-limited-data-part-2-data-augmentation-c26971dc8ced\n"
   ]
  },
  {
   "cell_type": "code",
   "execution_count": 92,
   "metadata": {},
   "outputs": [],
   "source": [
    "from keras.preprocessing.image import ImageDataGenerator"
   ]
  },
  {
   "cell_type": "markdown",
   "metadata": {},
   "source": [
    "We just need to set parameters of our image generator generate images with litle variations."
   ]
  },
  {
   "cell_type": "code",
   "execution_count": 93,
   "metadata": {},
   "outputs": [],
   "source": [
    "gen = ImageDataGenerator(rotation_range=8, width_shift_range=0.08, shear_range=0.3,\n",
    "                         height_shift_range=0.08, zoom_range=0.08)\n",
    "test_gen = ImageDataGenerator()"
   ]
  },
  {
   "cell_type": "code",
   "execution_count": 94,
   "metadata": {},
   "outputs": [],
   "source": [
    "train_generator = gen.flow(x_train, y_train, batch_size=64)\n",
    "test_generator = test_gen.flow(x_test, y_test, batch_size=64)"
   ]
  },
  {
   "cell_type": "markdown",
   "metadata": {},
   "source": [
    "Code below will generate a batch of 64 images in x1 and 64 labels in y1"
   ]
  },
  {
   "cell_type": "code",
   "execution_count": 95,
   "metadata": {},
   "outputs": [],
   "source": [
    "x1,y1 = train_generator.next()"
   ]
  },
  {
   "cell_type": "code",
   "execution_count": 96,
   "metadata": {},
   "outputs": [
    {
     "data": {
      "text/plain": [
       "<matplotlib.image.AxesImage at 0x21ee350c388>"
      ]
     },
     "execution_count": 96,
     "metadata": {},
     "output_type": "execute_result"
    },
    {
     "data": {
      "image/png": "[encoded data removed]",
      "text/plain": [
       "<Figure size 432x288 with 1 Axes>"
      ]
     },
     "metadata": {
      "needs_background": "light"
     },
     "output_type": "display_data"
    }
   ],
   "source": [
    "plt.imshow(x1[3].reshape(28,28), cmap='gray')"
   ]
  },
  {
   "cell_type": "code",
   "execution_count": 97,
   "metadata": {},
   "outputs": [
    {
     "data": {
      "text/plain": [
       "array([0., 0., 0., 0., 0., 1., 0., 0., 0., 0.], dtype=float32)"
      ]
     },
     "execution_count": 97,
     "metadata": {},
     "output_type": "execute_result"
    }
   ],
   "source": [
    "y1[3]"
   ]
  },
  {
   "cell_type": "markdown",
   "metadata": {},
   "source": [
    "They look very similar but this will give a great improvement to our model performance..."
   ]
  },
  {
   "cell_type": "code",
   "execution_count": 98,
   "metadata": {
    "scrolled": false
   },
   "outputs": [
    {
     "name": "stdout",
     "output_type": "stream",
     "text": [
      "Epoch 1/10\n",
      "937/937 [==============================] - 9s 10ms/step - loss: 0.3561 - accuracy: 0.8844 - val_loss: 0.0272 - val_accuracy: 0.9862\n",
      "Epoch 2/10\n",
      "937/937 [==============================] - 9s 10ms/step - loss: 0.0807 - accuracy: 0.9771 - val_loss: 0.1172 - val_accuracy: 0.9906\n",
      "Epoch 3/10\n",
      "937/937 [==============================] - 9s 10ms/step - loss: 0.0597 - accuracy: 0.9827 - val_loss: 0.0011 - val_accuracy: 0.9936\n",
      "Epoch 4/10\n",
      "937/937 [==============================] - 10s 11ms/step - loss: 0.0474 - accuracy: 0.9868 - val_loss: 1.7362e-04 - val_accuracy: 0.9926\n",
      "Epoch 5/10\n",
      "937/937 [==============================] - 9s 10ms/step - loss: 0.0432 - accuracy: 0.9879 - val_loss: 4.6153e-04 - val_accuracy: 0.9932\n",
      "Epoch 6/10\n",
      "937/937 [==============================] - 9s 10ms/step - loss: 0.0391 - accuracy: 0.9886 - val_loss: 5.0968e-04 - val_accuracy: 0.9931\n",
      "Epoch 7/10\n",
      "937/937 [==============================] - 10s 11ms/step - loss: 0.0352 - accuracy: 0.9902 - val_loss: 1.7088e-04 - val_accuracy: 0.9931\n",
      "Epoch 8/10\n",
      "937/937 [==============================] - 9s 10ms/step - loss: 0.0334 - accuracy: 0.9907 - val_loss: 5.3048e-05 - val_accuracy: 0.9943\n",
      "Epoch 9/10\n",
      "937/937 [==============================] - 9s 10ms/step - loss: 0.0314 - accuracy: 0.9911 - val_loss: 0.0012 - val_accuracy: 0.9950\n",
      "Epoch 10/10\n",
      "937/937 [==============================] - 10s 11ms/step - loss: 0.0284 - accuracy: 0.9922 - val_loss: 2.0506e-04 - val_accuracy: 0.9954\n"
     ]
    }
   ],
   "source": [
    "epoch =10\n",
    "history_callback= model.fit_generator(train_generator, steps_per_epoch=60000//64, epochs=epoch, \n",
    "                    validation_data=test_generator, validation_steps=10000//64)"
   ]
  },
  {
   "cell_type": "code",
   "execution_count": 99,
   "metadata": {},
   "outputs": [],
   "source": [
    "val_accuracy = np.array(history_callback.history['val_accuracy'])\n",
    "val_loss =  np.array(history_callback.history['val_loss'])\n",
    "accuracy =  np.array(history_callback.history['accuracy'])\n",
    "loss =  np.array(history_callback.history['loss'])\n"
   ]
  },
  {
   "cell_type": "code",
   "execution_count": 100,
   "metadata": {},
   "outputs": [
    {
     "data": {
      "text/plain": [
       "[<matplotlib.lines.Line2D at 0x21ee2cf7288>,\n",
       " <matplotlib.lines.Line2D at 0x21ee2134348>]"
      ]
     },
     "execution_count": 100,
     "metadata": {},
     "output_type": "execute_result"
    },
    {
     "data": {
      "image/png": "[encoded data removed]",
      "text/plain": [
       "<Figure size 432x288 with 1 Axes>"
      ]
     },
     "metadata": {
      "needs_background": "light"
     },
     "output_type": "display_data"
    }
   ],
   "source": [
    "x = np.arange(0.0, epoch, 1)\n",
    "plt.title('Train vs Test Accuracy')\n",
    "plt.plot(x,val_accuracy,'r',x,accuracy,'b')"
   ]
  },
  {
   "cell_type": "code",
   "execution_count": 101,
   "metadata": {},
   "outputs": [
    {
     "data": {
      "text/plain": [
       "[<matplotlib.lines.Line2D at 0x21ee2adae48>,\n",
       " <matplotlib.lines.Line2D at 0x21ee2ab7588>]"
      ]
     },
     "execution_count": 101,
     "metadata": {},
     "output_type": "execute_result"
    },
    {
     "data": {
      "image/png": "[encoded data removed]",
      "text/plain": [
       "<Figure size 432x288 with 1 Axes>"
      ]
     },
     "metadata": {
      "needs_background": "light"
     },
     "output_type": "display_data"
    }
   ],
   "source": [
    "x = np.arange(0.0, epoch, 1)\n",
    "plt.title('Train vs Test Loss')\n",
    "plt.plot(x,val_loss,'r',x,loss,'b')"
   ]
  },
  {
   "cell_type": "markdown",
   "metadata": {},
   "source": [
    "# Looking for high hit\n",
    "\n",
    "As we want a static model with high acuracy on the original Mnist train set. We can notice that the accuracy vary from epoch going up and down, also there is a litle variation on the accuracy on the original train set and the generated train set. So we will add a callback fucntion that check accurracy against original test set after each epoch,  then if the accuaracy is higher than the minimun or the last high model we save the model. \n",
    "\n",
    "In this way we are looking for a \"lucky\" hit."
   ]
  },
  {
   "cell_type": "markdown",
   "metadata": {},
   "source": [
    "## Custom Checkpoint\n"
   ]
  },
  {
   "cell_type": "code",
   "execution_count": 102,
   "metadata": {},
   "outputs": [],
   "source": [
    "class CustomModelCheckpoint(kr.callbacks.Callback):\n",
    "    minimun = 0.995\n",
    "    def on_epoch_end(self, epoch, logs=None):\n",
    "        # calculate accuracy again original test set\n",
    "        score = self.model.evaluate(x_test, y_test, verbose=0)\n",
    "        print(score[1])\n",
    "        if score[1] > self.minimun: # your custom conditio\n",
    "            #save the model if is higher\n",
    "            self.model.save('static/model.h5', overwrite=True)\n",
    "            self.minimun = score[1]\n",
    "            # print the real acurracy\n",
    "            print(\"*******************************************************************************************************\")\n",
    "            print(self.minimun)\n",
    "            print(\"*******************************************************************************************************\")"
   ]
  },
  {
   "cell_type": "code",
   "execution_count": 103,
   "metadata": {},
   "outputs": [],
   "source": [
    "cbk = CustomModelCheckpoint()"
   ]
  },
  {
   "cell_type": "code",
   "execution_count": 104,
   "metadata": {
    "scrolled": true
   },
   "outputs": [
    {
     "name": "stdout",
     "output_type": "stream",
     "text": [
      "Epoch 1/150\n",
      "937/937 [==============================] - 10s 10ms/step - loss: 0.0288 - accuracy: 0.9921 - val_loss: 0.1085 - val_accuracy: 0.9950\n",
      "0.9950000047683716\n",
      "*******************************************************************************************************\n",
      "0.9950000047683716\n",
      "*******************************************************************************************************\n",
      "Epoch 2/150\n",
      "937/937 [==============================] - 10s 11ms/step - loss: 0.0261 - accuracy: 0.9926 - val_loss: 0.0092 - val_accuracy: 0.9945\n",
      "0.9944999814033508\n",
      "Epoch 3/150\n",
      "937/937 [==============================] - 9s 10ms/step - loss: 0.0243 - accuracy: 0.9930 - val_loss: 3.5448e-05 - val_accuracy: 0.9950\n",
      "0.9948999881744385\n",
      "Epoch 4/150\n",
      "937/937 [==============================] - 10s 10ms/step - loss: 0.0250 - accuracy: 0.9934 - val_loss: 0.0556 - val_accuracy: 0.9944\n",
      "0.9944999814033508\n",
      "Epoch 5/150\n",
      "937/937 [==============================] - 10s 11ms/step - loss: 0.0240 - accuracy: 0.9933 - val_loss: 1.3522e-04 - val_accuracy: 0.9951\n",
      "0.9950000047683716\n",
      "Epoch 6/150\n",
      "937/937 [==============================] - 9s 10ms/step - loss: 0.0213 - accuracy: 0.9940 - val_loss: 0.2087 - val_accuracy: 0.9956\n",
      "0.9955999851226807\n",
      "*******************************************************************************************************\n",
      "0.9955999851226807\n",
      "*******************************************************************************************************\n",
      "Epoch 7/150\n",
      "937/937 [==============================] - 10s 10ms/step - loss: 0.0216 - accuracy: 0.9942 - val_loss: 2.6064e-04 - val_accuracy: 0.9947\n",
      "0.9944999814033508\n",
      "Epoch 8/150\n",
      "937/937 [==============================] - 10s 11ms/step - loss: 0.0218 - accuracy: 0.9942 - val_loss: 0.0558 - val_accuracy: 0.9952\n",
      "0.9948999881744385\n",
      "Epoch 9/150\n",
      "937/937 [==============================] - 10s 10ms/step - loss: 0.0216 - accuracy: 0.9942 - val_loss: 0.1741 - val_accuracy: 0.9936\n",
      "0.9934999942779541\n",
      "Epoch 10/150\n",
      "937/937 [==============================] - 10s 10ms/step - loss: 0.0212 - accuracy: 0.9942 - val_loss: 2.8640e-05 - val_accuracy: 0.9951\n",
      "0.9948999881744385\n",
      "Epoch 11/150\n",
      "937/937 [==============================] - 10s 11ms/step - loss: 0.0191 - accuracy: 0.9951 - val_loss: 0.0012 - val_accuracy: 0.9952\n",
      "0.995199978351593\n",
      "Epoch 12/150\n",
      "937/937 [==============================] - 9s 10ms/step - loss: 0.0194 - accuracy: 0.9945 - val_loss: 4.7569e-05 - val_accuracy: 0.9945\n",
      "0.9944000244140625\n",
      "Epoch 13/150\n",
      "937/937 [==============================] - 10s 10ms/step - loss: 0.0180 - accuracy: 0.9950 - val_loss: 4.0821e-05 - val_accuracy: 0.9944\n",
      "0.994700014591217\n",
      "Epoch 14/150\n",
      "937/937 [==============================] - 10s 11ms/step - loss: 0.0162 - accuracy: 0.9957 - val_loss: 3.0069e-04 - val_accuracy: 0.9956\n",
      "0.9957000017166138\n",
      "*******************************************************************************************************\n",
      "0.9957000017166138\n",
      "*******************************************************************************************************\n",
      "Epoch 15/150\n",
      "937/937 [==============================] - 9s 10ms/step - loss: 0.0174 - accuracy: 0.9952 - val_loss: 0.0016 - val_accuracy: 0.9949\n",
      "0.9951000213623047\n",
      "Epoch 16/150\n",
      "937/937 [==============================] - 10s 10ms/step - loss: 0.0178 - accuracy: 0.9953 - val_loss: 1.4349e-05 - val_accuracy: 0.9954\n",
      "0.9950000047683716\n",
      "Epoch 17/150\n",
      "937/937 [==============================] - 10s 11ms/step - loss: 0.0159 - accuracy: 0.9953 - val_loss: 0.2482 - val_accuracy: 0.9948\n",
      "0.9951000213623047\n",
      "Epoch 18/150\n",
      "937/937 [==============================] - 9s 10ms/step - loss: 0.0152 - accuracy: 0.9957 - val_loss: 0.0280 - val_accuracy: 0.9947\n",
      "0.9951000213623047\n",
      "Epoch 19/150\n",
      "937/937 [==============================] - 10s 10ms/step - loss: 0.0175 - accuracy: 0.9954 - val_loss: 0.0048 - val_accuracy: 0.9956\n",
      "0.9952999949455261\n",
      "Epoch 20/150\n",
      "937/937 [==============================] - 10s 11ms/step - loss: 0.0164 - accuracy: 0.9958 - val_loss: 1.2480e-06 - val_accuracy: 0.9954\n",
      "0.9951000213623047\n",
      "Epoch 21/150\n",
      "937/937 [==============================] - 9s 10ms/step - loss: 0.0148 - accuracy: 0.9960 - val_loss: 9.5653e-05 - val_accuracy: 0.9950\n",
      "0.9951000213623047\n",
      "Epoch 22/150\n",
      "937/937 [==============================] - 9s 10ms/step - loss: 0.0157 - accuracy: 0.9958 - val_loss: 1.7207e-04 - val_accuracy: 0.9953\n",
      "0.9951000213623047\n",
      "Epoch 23/150\n",
      "937/937 [==============================] - 10s 11ms/step - loss: 0.0137 - accuracy: 0.9961 - val_loss: 4.2083e-05 - val_accuracy: 0.9945\n",
      "0.9944999814033508\n",
      "Epoch 24/150\n",
      "937/937 [==============================] - 9s 10ms/step - loss: 0.0150 - accuracy: 0.9961 - val_loss: 4.6342e-05 - val_accuracy: 0.9953\n",
      "0.9947999715805054\n",
      "Epoch 25/150\n",
      "937/937 [==============================] - 9s 10ms/step - loss: 0.0149 - accuracy: 0.9961 - val_loss: 1.5527e-05 - val_accuracy: 0.9942\n",
      "0.994700014591217\n",
      "Epoch 26/150\n",
      "937/937 [==============================] - 10s 11ms/step - loss: 0.0138 - accuracy: 0.9961 - val_loss: 0.1476 - val_accuracy: 0.9945\n",
      "0.9944999814033508\n",
      "Epoch 27/150\n",
      "937/937 [==============================] - 9s 10ms/step - loss: 0.0156 - accuracy: 0.9958 - val_loss: 0.0089 - val_accuracy: 0.9950\n",
      "0.9944000244140625\n",
      "Epoch 28/150\n",
      "937/937 [==============================] - 9s 10ms/step - loss: 0.0153 - accuracy: 0.9961 - val_loss: 2.3208e-06 - val_accuracy: 0.9947\n",
      "0.9948999881744385\n",
      "Epoch 29/150\n",
      "937/937 [==============================] - 10s 10ms/step - loss: 0.0122 - accuracy: 0.9968 - val_loss: 3.2835e-06 - val_accuracy: 0.9951\n",
      "0.9948999881744385\n",
      "Epoch 30/150\n",
      "937/937 [==============================] - 9s 10ms/step - loss: 0.0148 - accuracy: 0.9960 - val_loss: 3.9006e-04 - val_accuracy: 0.9956\n",
      "0.995199978351593\n",
      "Epoch 31/150\n",
      "937/937 [==============================] - 9s 10ms/step - loss: 0.0134 - accuracy: 0.9967 - val_loss: 3.6815e-04 - val_accuracy: 0.9952\n",
      "0.9945999979972839\n",
      "Epoch 32/150\n",
      "937/937 [==============================] - 10s 11ms/step - loss: 0.0141 - accuracy: 0.9962 - val_loss: 0.1916 - val_accuracy: 0.9945\n",
      "0.9952999949455261\n",
      "Epoch 33/150\n",
      "937/937 [==============================] - 9s 10ms/step - loss: 0.0133 - accuracy: 0.9964 - val_loss: 3.8850e-06 - val_accuracy: 0.9958\n",
      "0.9955000281333923\n",
      "Epoch 34/150\n",
      "937/937 [==============================] - 9s 10ms/step - loss: 0.0123 - accuracy: 0.9966 - val_loss: 7.9161e-07 - val_accuracy: 0.9953\n",
      "0.9948999881744385\n",
      "Epoch 35/150\n",
      "937/937 [==============================] - 10s 11ms/step - loss: 0.0139 - accuracy: 0.9964 - val_loss: 1.5713e-04 - val_accuracy: 0.9958\n",
      "0.996399998664856\n",
      "*******************************************************************************************************\n",
      "0.996399998664856\n",
      "*******************************************************************************************************\n",
      "Epoch 36/150\n",
      "937/937 [==============================] - 9s 10ms/step - loss: 0.0125 - accuracy: 0.9967 - val_loss: 0.0818 - val_accuracy: 0.9942\n",
      "0.9945999979972839\n",
      "Epoch 37/150\n",
      "937/937 [==============================] - 9s 10ms/step - loss: 0.0133 - accuracy: 0.9969 - val_loss: 9.9465e-04 - val_accuracy: 0.9934\n",
      "0.9934999942779541\n",
      "Epoch 38/150\n",
      "937/937 [==============================] - 10s 11ms/step - loss: 0.0122 - accuracy: 0.9970 - val_loss: 0.1486 - val_accuracy: 0.9963\n",
      "0.9961000084877014\n",
      "Epoch 39/150\n",
      "937/937 [==============================] - 9s 10ms/step - loss: 0.0126 - accuracy: 0.9965 - val_loss: 1.6092e-06 - val_accuracy: 0.9958\n",
      "0.9957000017166138\n",
      "Epoch 40/150\n",
      "937/937 [==============================] - 9s 10ms/step - loss: 0.0123 - accuracy: 0.9969 - val_loss: 0.0160 - val_accuracy: 0.9941\n",
      "0.9939000010490417\n",
      "Epoch 41/150\n",
      "937/937 [==============================] - 10s 11ms/step - loss: 0.0123 - accuracy: 0.9969 - val_loss: 4.1649e-05 - val_accuracy: 0.9951\n",
      "0.9954000115394592\n",
      "Epoch 42/150\n",
      "937/937 [==============================] - 9s 10ms/step - loss: 0.0127 - accuracy: 0.9967 - val_loss: 0.0026 - val_accuracy: 0.9951\n",
      "0.995199978351593\n",
      "Epoch 43/150\n",
      "937/937 [==============================] - 9s 10ms/step - loss: 0.0124 - accuracy: 0.9968 - val_loss: 0.1739 - val_accuracy: 0.9947\n",
      "0.9947999715805054\n",
      "Epoch 44/150\n",
      "937/937 [==============================] - 10s 11ms/step - loss: 0.0133 - accuracy: 0.9968 - val_loss: 0.0053 - val_accuracy: 0.9945\n"
     ]
    },
    {
     "name": "stdout",
     "output_type": "stream",
     "text": [
      "0.9955000281333923\n",
      "Epoch 45/150\n",
      "937/937 [==============================] - 9s 10ms/step - loss: 0.0102 - accuracy: 0.9973 - val_loss: 3.5502e-04 - val_accuracy: 0.9959\n",
      "0.9951000213623047\n",
      "Epoch 46/150\n",
      "937/937 [==============================] - 9s 10ms/step - loss: 0.0130 - accuracy: 0.9967 - val_loss: 0.0810 - val_accuracy: 0.9950\n",
      "0.9951000213623047\n",
      "Epoch 47/150\n",
      "937/937 [==============================] - 10s 11ms/step - loss: 0.0113 - accuracy: 0.9972 - val_loss: 0.0000e+00 - val_accuracy: 0.9949\n",
      "0.9951000213623047\n",
      "Epoch 48/150\n",
      "937/937 [==============================] - 9s 10ms/step - loss: 0.0132 - accuracy: 0.9970 - val_loss: 1.4901e-08 - val_accuracy: 0.9955\n",
      "0.9947999715805054\n",
      "Epoch 49/150\n",
      "937/937 [==============================] - 9s 10ms/step - loss: 0.0122 - accuracy: 0.9969 - val_loss: 0.0017 - val_accuracy: 0.9954\n",
      "0.9955000281333923\n",
      "Epoch 50/150\n",
      "937/937 [==============================] - 10s 11ms/step - loss: 0.0118 - accuracy: 0.9971 - val_loss: 5.8486e-07 - val_accuracy: 0.9953\n",
      "0.9957000017166138\n",
      "Epoch 51/150\n",
      "937/937 [==============================] - 9s 10ms/step - loss: 0.0129 - accuracy: 0.9970 - val_loss: 0.2246 - val_accuracy: 0.9955\n",
      "0.9950000047683716\n",
      "Epoch 52/150\n",
      "937/937 [==============================] - 9s 10ms/step - loss: 0.0123 - accuracy: 0.9973 - val_loss: 1.9064e-05 - val_accuracy: 0.9952\n",
      "0.994700014591217\n",
      "Epoch 53/150\n",
      "937/937 [==============================] - 10s 11ms/step - loss: 0.0132 - accuracy: 0.9969 - val_loss: 0.2809 - val_accuracy: 0.9963\n",
      "0.996399998664856\n",
      "Epoch 54/150\n",
      "937/937 [==============================] - 9s 10ms/step - loss: 0.0129 - accuracy: 0.9970 - val_loss: 6.3826e-06 - val_accuracy: 0.9950\n",
      "0.9951000213623047\n",
      "Epoch 55/150\n",
      "937/937 [==============================] - 9s 10ms/step - loss: 0.0139 - accuracy: 0.9965 - val_loss: 0.0024 - val_accuracy: 0.9959\n",
      "0.9955999851226807\n",
      "Epoch 56/150\n",
      "937/937 [==============================] - 10s 11ms/step - loss: 0.0106 - accuracy: 0.9973 - val_loss: 6.3312e-05 - val_accuracy: 0.9943\n",
      "0.9944999814033508\n",
      "Epoch 57/150\n",
      "937/937 [==============================] - 9s 10ms/step - loss: 0.0121 - accuracy: 0.9972 - val_loss: 4.5181e-06 - val_accuracy: 0.9961\n",
      "0.9954000115394592\n",
      "Epoch 58/150\n",
      "937/937 [==============================] - 9s 10ms/step - loss: 0.0119 - accuracy: 0.9973 - val_loss: 4.5019e-04 - val_accuracy: 0.9951\n",
      "0.9952999949455261\n",
      "Epoch 59/150\n",
      "937/937 [==============================] - 10s 10ms/step - loss: 0.0135 - accuracy: 0.9969 - val_loss: 0.0014 - val_accuracy: 0.9954\n",
      "0.9951000213623047\n",
      "Epoch 60/150\n",
      "937/937 [==============================] - 9s 10ms/step - loss: 0.0133 - accuracy: 0.9970 - val_loss: 0.1053 - val_accuracy: 0.9958\n",
      "0.9958999752998352\n",
      "Epoch 61/150\n",
      "937/937 [==============================] - 9s 10ms/step - loss: 0.0115 - accuracy: 0.9971 - val_loss: 0.0000e+00 - val_accuracy: 0.9957\n",
      "0.9952999949455261\n",
      "Epoch 62/150\n",
      "937/937 [==============================] - 10s 11ms/step - loss: 0.0111 - accuracy: 0.9974 - val_loss: 2.2352e-07 - val_accuracy: 0.9956\n",
      "0.9954000115394592\n",
      "Epoch 63/150\n",
      "937/937 [==============================] - 9s 10ms/step - loss: 0.0129 - accuracy: 0.9969 - val_loss: 0.0629 - val_accuracy: 0.9966\n",
      "0.9961000084877014\n",
      "Epoch 64/150\n",
      "937/937 [==============================] - 9s 10ms/step - loss: 0.0120 - accuracy: 0.9972 - val_loss: 1.8420e-05 - val_accuracy: 0.9963\n",
      "0.996399998664856\n",
      "Epoch 65/150\n",
      "937/937 [==============================] - 10s 11ms/step - loss: 0.0129 - accuracy: 0.9972 - val_loss: 3.5366e-05 - val_accuracy: 0.9949\n",
      "0.9947999715805054\n",
      "Epoch 66/150\n",
      "937/937 [==============================] - 9s 10ms/step - loss: 0.0126 - accuracy: 0.9972 - val_loss: 0.2880 - val_accuracy: 0.9955\n",
      "0.9955999851226807\n",
      "Epoch 67/150\n",
      "937/937 [==============================] - 9s 10ms/step - loss: 0.0118 - accuracy: 0.9972 - val_loss: 7.4506e-09 - val_accuracy: 0.9956\n",
      "0.9962000250816345\n",
      "Epoch 68/150\n",
      "937/937 [==============================] - 10s 10ms/step - loss: 0.0110 - accuracy: 0.9971 - val_loss: 0.2801 - val_accuracy: 0.9959\n",
      "0.9957000017166138\n",
      "Epoch 69/150\n",
      "937/937 [==============================] - 9s 10ms/step - loss: 0.0139 - accuracy: 0.9968 - val_loss: 3.6448e-06 - val_accuracy: 0.9960\n",
      "0.9959999918937683\n",
      "Epoch 70/150\n",
      "937/937 [==============================] - 9s 10ms/step - loss: 0.0142 - accuracy: 0.9965 - val_loss: 5.3702e-04 - val_accuracy: 0.9962\n",
      "0.996399998664856\n",
      "Epoch 71/150\n",
      "937/937 [==============================] - 10s 11ms/step - loss: 0.0146 - accuracy: 0.9970 - val_loss: 0.1842 - val_accuracy: 0.9962\n",
      "0.9958999752998352\n",
      "Epoch 72/150\n",
      "937/937 [==============================] - 10s 10ms/step - loss: 0.0126 - accuracy: 0.9969 - val_loss: 1.4529e-07 - val_accuracy: 0.9961\n",
      "0.9958000183105469\n",
      "Epoch 73/150\n",
      "937/937 [==============================] - 9s 10ms/step - loss: 0.0108 - accuracy: 0.9972 - val_loss: 0.1124 - val_accuracy: 0.9958\n",
      "0.9955999851226807\n",
      "Epoch 74/150\n",
      "937/937 [==============================] - 10s 11ms/step - loss: 0.0103 - accuracy: 0.9975 - val_loss: 0.0026 - val_accuracy: 0.9947\n",
      "0.995199978351593\n",
      "Epoch 75/150\n",
      "937/937 [==============================] - 10s 10ms/step - loss: 0.0122 - accuracy: 0.9972 - val_loss: 0.0000e+00 - val_accuracy: 0.9968\n",
      "0.9959999918937683\n",
      "Epoch 76/150\n",
      "937/937 [==============================] - 9s 10ms/step - loss: 0.0133 - accuracy: 0.9971 - val_loss: 1.5808e-05 - val_accuracy: 0.9953\n",
      "0.9947999715805054\n",
      "Epoch 77/150\n",
      "937/937 [==============================] - 10s 11ms/step - loss: 0.0117 - accuracy: 0.9975 - val_loss: 2.6077e-08 - val_accuracy: 0.9963\n",
      "0.9961000084877014\n",
      "Epoch 78/150\n",
      "937/937 [==============================] - 9s 10ms/step - loss: 0.0096 - accuracy: 0.9976 - val_loss: 0.1386 - val_accuracy: 0.9963\n",
      "0.9957000017166138\n",
      "Epoch 79/150\n",
      "937/937 [==============================] - 9s 10ms/step - loss: 0.0136 - accuracy: 0.9974 - val_loss: 1.4149e-05 - val_accuracy: 0.9946\n",
      "0.9947999715805054\n",
      "Epoch 80/150\n",
      "937/937 [==============================] - 10s 11ms/step - loss: 0.0110 - accuracy: 0.9977 - val_loss: 2.7940e-08 - val_accuracy: 0.9949\n",
      "0.9944000244140625\n",
      "Epoch 81/150\n",
      "937/937 [==============================] - 9s 10ms/step - loss: 0.0122 - accuracy: 0.9974 - val_loss: 1.1444e-04 - val_accuracy: 0.9958\n",
      "0.9955999851226807\n",
      "Epoch 82/150\n",
      "937/937 [==============================] - 9s 10ms/step - loss: 0.0113 - accuracy: 0.9976 - val_loss: 1.0787e-05 - val_accuracy: 0.9963\n",
      "0.9957000017166138\n",
      "Epoch 83/150\n",
      "937/937 [==============================] - 10s 11ms/step - loss: 0.0158 - accuracy: 0.9967 - val_loss: 0.0461 - val_accuracy: 0.9950\n",
      "0.9951000213623047\n",
      "Epoch 84/150\n",
      "937/937 [==============================] - 9s 10ms/step - loss: 0.0120 - accuracy: 0.9973 - val_loss: 4.9398e-05 - val_accuracy: 0.9950\n",
      "0.9943000078201294\n",
      "Epoch 85/150\n",
      "937/937 [==============================] - 9s 10ms/step - loss: 0.0134 - accuracy: 0.9972 - val_loss: 0.0000e+00 - val_accuracy: 0.9953\n",
      "0.9959999918937683\n",
      "Epoch 86/150\n",
      "937/937 [==============================] - 10s 11ms/step - loss: 0.0132 - accuracy: 0.9971 - val_loss: 0.0000e+00 - val_accuracy: 0.9954\n",
      "0.9954000115394592\n",
      "Epoch 87/150\n",
      "937/937 [==============================] - 10s 10ms/step - loss: 0.0137 - accuracy: 0.9971 - val_loss: 3.4645e-07 - val_accuracy: 0.9948\n",
      "0.9952999949455261\n",
      "Epoch 88/150\n",
      "937/937 [==============================] - 9s 10ms/step - loss: 0.0109 - accuracy: 0.9975 - val_loss: 1.4901e-08 - val_accuracy: 0.9943\n",
      "0.9945999979972839\n",
      "Epoch 89/150\n",
      "937/937 [==============================] - 10s 11ms/step - loss: 0.0110 - accuracy: 0.9976 - val_loss: 1.8309e-06 - val_accuracy: 0.9950\n",
      "0.9955000281333923\n",
      "Epoch 90/150\n",
      "937/937 [==============================] - 9s 10ms/step - loss: 0.0133 - accuracy: 0.9969 - val_loss: 0.0000e+00 - val_accuracy: 0.9964\n",
      "0.9958999752998352\n",
      "Epoch 91/150\n",
      "937/937 [==============================] - 9s 10ms/step - loss: 0.0120 - accuracy: 0.9977 - val_loss: 1.8626e-09 - val_accuracy: 0.9966\n",
      "0.9955999851226807\n",
      "Epoch 92/150\n",
      "937/937 [==============================] - 10s 10ms/step - loss: 0.0112 - accuracy: 0.9978 - val_loss: 2.4269e-06 - val_accuracy: 0.9945\n",
      "0.9944999814033508\n",
      "Epoch 93/150\n",
      "937/937 [==============================] - 9s 10ms/step - loss: 0.0120 - accuracy: 0.9975 - val_loss: 0.0000e+00 - val_accuracy: 0.9958\n",
      "0.9955000281333923\n",
      "Epoch 94/150\n"
     ]
    },
    {
     "name": "stdout",
     "output_type": "stream",
     "text": [
      "937/937 [==============================] - 9s 10ms/step - loss: 0.0122 - accuracy: 0.9978 - val_loss: 1.5403e-06 - val_accuracy: 0.9957\n",
      "0.9962999820709229\n",
      "Epoch 95/150\n",
      "937/937 [==============================] - 10s 11ms/step - loss: 0.0132 - accuracy: 0.9973 - val_loss: 0.3830 - val_accuracy: 0.9952\n",
      "0.9948999881744385\n",
      "Epoch 96/150\n",
      "937/937 [==============================] - 9s 10ms/step - loss: 0.0099 - accuracy: 0.9978 - val_loss: 0.1167 - val_accuracy: 0.9953\n",
      "0.9957000017166138\n",
      "Epoch 97/150\n",
      "937/937 [==============================] - 9s 10ms/step - loss: 0.0138 - accuracy: 0.9975 - val_loss: 1.9382e-04 - val_accuracy: 0.9957\n",
      "0.9954000115394592\n",
      "Epoch 98/150\n",
      "937/937 [==============================] - 10s 11ms/step - loss: 0.0122 - accuracy: 0.9973 - val_loss: 3.7253e-08 - val_accuracy: 0.9957\n",
      "0.9955000281333923\n",
      "Epoch 99/150\n",
      "937/937 [==============================] - 10s 10ms/step - loss: 0.0110 - accuracy: 0.9976 - val_loss: 1.1660e-06 - val_accuracy: 0.9957\n",
      "0.9958000183105469\n",
      "Epoch 100/150\n",
      "937/937 [==============================] - 9s 10ms/step - loss: 0.0124 - accuracy: 0.9975 - val_loss: 5.1222e-07 - val_accuracy: 0.9964\n",
      "0.9958000183105469\n",
      "Epoch 101/150\n",
      "937/937 [==============================] - 10s 11ms/step - loss: 0.0127 - accuracy: 0.9971 - val_loss: 0.0000e+00 - val_accuracy: 0.9951\n",
      "0.9944000244140625\n",
      "Epoch 102/150\n",
      "937/937 [==============================] - 10s 10ms/step - loss: 0.0122 - accuracy: 0.9975 - val_loss: 8.5681e-08 - val_accuracy: 0.9958\n",
      "0.9961000084877014\n",
      "Epoch 103/150\n",
      "937/937 [==============================] - 9s 10ms/step - loss: 0.0118 - accuracy: 0.9973 - val_loss: 0.0226 - val_accuracy: 0.9957\n",
      "0.9957000017166138\n",
      "Epoch 104/150\n",
      "937/937 [==============================] - 10s 11ms/step - loss: 0.0133 - accuracy: 0.9974 - val_loss: 1.3504e-06 - val_accuracy: 0.9956\n",
      "0.9955999851226807\n",
      "Epoch 105/150\n",
      "937/937 [==============================] - 10s 10ms/step - loss: 0.0126 - accuracy: 0.9976 - val_loss: 1.3820e-04 - val_accuracy: 0.9959\n",
      "0.9958999752998352\n",
      "Epoch 106/150\n",
      "937/937 [==============================] - 10s 10ms/step - loss: 0.0107 - accuracy: 0.9977 - val_loss: 0.0000e+00 - val_accuracy: 0.9958\n",
      "0.9951000213623047\n",
      "Epoch 107/150\n",
      "937/937 [==============================] - 10s 11ms/step - loss: 0.0106 - accuracy: 0.9979 - val_loss: 0.0097 - val_accuracy: 0.9952\n",
      "0.9954000115394592\n",
      "Epoch 108/150\n",
      "937/937 [==============================] - 9s 10ms/step - loss: 0.0115 - accuracy: 0.9974 - val_loss: 5.3562e-06 - val_accuracy: 0.9957\n",
      "0.9955000281333923\n",
      "Epoch 109/150\n",
      "937/937 [==============================] - 9s 10ms/step - loss: 0.0120 - accuracy: 0.9974 - val_loss: 5.5879e-08 - val_accuracy: 0.9949\n",
      "0.9951000213623047\n",
      "Epoch 110/150\n",
      "937/937 [==============================] - 10s 10ms/step - loss: 0.0114 - accuracy: 0.9978 - val_loss: 3.5017e-07 - val_accuracy: 0.9958\n",
      "0.9958999752998352\n",
      "Epoch 111/150\n",
      "937/937 [==============================] - 9s 10ms/step - loss: 0.0137 - accuracy: 0.9975 - val_loss: 0.0016 - val_accuracy: 0.9963\n",
      "0.9955999851226807\n",
      "Epoch 112/150\n",
      "937/937 [==============================] - 9s 10ms/step - loss: 0.0125 - accuracy: 0.9971 - val_loss: 0.0000e+00 - val_accuracy: 0.9948\n",
      "0.9958999752998352\n",
      "Epoch 113/150\n",
      "937/937 [==============================] - 10s 10ms/step - loss: 0.0094 - accuracy: 0.9981 - val_loss: 1.5171e-04 - val_accuracy: 0.9959\n",
      "0.9954000115394592\n",
      "Epoch 114/150\n",
      "937/937 [==============================] - 9s 10ms/step - loss: 0.0112 - accuracy: 0.9978 - val_loss: 1.0271e-05 - val_accuracy: 0.9957\n",
      "0.9955000281333923\n",
      "Epoch 115/150\n",
      "937/937 [==============================] - 9s 10ms/step - loss: 0.0097 - accuracy: 0.9980 - val_loss: 0.0000e+00 - val_accuracy: 0.9936\n",
      "0.9940999746322632\n",
      "Epoch 116/150\n",
      "937/937 [==============================] - 10s 10ms/step - loss: 0.0124 - accuracy: 0.9974 - val_loss: 3.3150e-05 - val_accuracy: 0.9949\n",
      "0.9948999881744385\n",
      "Epoch 117/150\n",
      "937/937 [==============================] - 9s 10ms/step - loss: 0.0110 - accuracy: 0.9976 - val_loss: 4.1388e-05 - val_accuracy: 0.9961\n",
      "0.9959999918937683\n",
      "Epoch 118/150\n",
      "937/937 [==============================] - 9s 10ms/step - loss: 0.0114 - accuracy: 0.9978 - val_loss: 0.1678 - val_accuracy: 0.9961\n",
      "0.9954000115394592\n",
      "Epoch 119/150\n",
      "937/937 [==============================] - 10s 11ms/step - loss: 0.0108 - accuracy: 0.9976 - val_loss: 0.1903 - val_accuracy: 0.9951\n",
      "0.9951000213623047\n",
      "Epoch 120/150\n",
      "937/937 [==============================] - 9s 10ms/step - loss: 0.0093 - accuracy: 0.9980 - val_loss: 7.1151e-07 - val_accuracy: 0.9962\n",
      "0.9955999851226807\n",
      "Epoch 121/150\n",
      "937/937 [==============================] - 9s 10ms/step - loss: 0.0137 - accuracy: 0.9975 - val_loss: 1.1176e-08 - val_accuracy: 0.9958\n",
      "0.9955999851226807\n",
      "Epoch 122/150\n",
      "937/937 [==============================] - 10s 10ms/step - loss: 0.0117 - accuracy: 0.9975 - val_loss: 2.5880e-04 - val_accuracy: 0.9943\n",
      "0.9947999715805054\n",
      "Epoch 123/150\n",
      "937/937 [==============================] - 9s 10ms/step - loss: 0.0099 - accuracy: 0.9978 - val_loss: 0.0324 - val_accuracy: 0.9956\n",
      "0.9957000017166138\n",
      "Epoch 124/150\n",
      "937/937 [==============================] - 9s 10ms/step - loss: 0.0120 - accuracy: 0.9975 - val_loss: 0.1728 - val_accuracy: 0.9955\n",
      "0.9952999949455261\n",
      "Epoch 125/150\n",
      "937/937 [==============================] - 10s 10ms/step - loss: 0.0123 - accuracy: 0.9979 - val_loss: 6.4260e-07 - val_accuracy: 0.9951\n",
      "0.9955000281333923\n",
      "Epoch 126/150\n",
      "937/937 [==============================] - 9s 10ms/step - loss: 0.0115 - accuracy: 0.9978 - val_loss: 4.3884e-04 - val_accuracy: 0.9961\n",
      "0.9959999918937683\n",
      "Epoch 127/150\n",
      "937/937 [==============================] - 9s 10ms/step - loss: 0.0112 - accuracy: 0.9975 - val_loss: 1.1735e-07 - val_accuracy: 0.9945\n",
      "0.9947999715805054\n",
      "Epoch 128/150\n",
      "937/937 [==============================] - 10s 10ms/step - loss: 0.0130 - accuracy: 0.9975 - val_loss: 0.0019 - val_accuracy: 0.9950\n",
      "0.995199978351593\n",
      "Epoch 129/150\n",
      "937/937 [==============================] - 9s 10ms/step - loss: 0.0104 - accuracy: 0.9976 - val_loss: 0.2407 - val_accuracy: 0.9947\n",
      "0.9948999881744385\n",
      "Epoch 130/150\n",
      "937/937 [==============================] - 9s 10ms/step - loss: 0.0119 - accuracy: 0.9978 - val_loss: 0.1621 - val_accuracy: 0.9946\n",
      "0.9944000244140625\n",
      "Epoch 131/150\n",
      "937/937 [==============================] - 10s 10ms/step - loss: 0.0121 - accuracy: 0.9979 - val_loss: 9.9648e-07 - val_accuracy: 0.9955\n",
      "0.9955999851226807\n",
      "Epoch 132/150\n",
      "937/937 [==============================] - 9s 10ms/step - loss: 0.0139 - accuracy: 0.9975 - val_loss: 9.8134e-05 - val_accuracy: 0.9946\n",
      "0.9947999715805054\n",
      "Epoch 133/150\n",
      "937/937 [==============================] - 9s 10ms/step - loss: 0.0102 - accuracy: 0.9979 - val_loss: 0.0736 - val_accuracy: 0.9955\n",
      "0.995199978351593\n",
      "Epoch 134/150\n",
      "937/937 [==============================] - 10s 11ms/step - loss: 0.0131 - accuracy: 0.9975 - val_loss: 0.0000e+00 - val_accuracy: 0.9961\n",
      "0.9957000017166138\n",
      "Epoch 135/150\n",
      "937/937 [==============================] - 10s 10ms/step - loss: 0.0093 - accuracy: 0.9978 - val_loss: 0.0000e+00 - val_accuracy: 0.9957\n",
      "0.9958999752998352\n",
      "Epoch 136/150\n",
      "937/937 [==============================] - 9s 10ms/step - loss: 0.0105 - accuracy: 0.9981 - val_loss: 0.1455 - val_accuracy: 0.9959\n",
      "0.9961000084877014\n",
      "Epoch 137/150\n",
      "937/937 [==============================] - 10s 11ms/step - loss: 0.0093 - accuracy: 0.9981 - val_loss: 0.2266 - val_accuracy: 0.9964\n",
      "0.9959999918937683\n",
      "Epoch 138/150\n",
      "937/937 [==============================] - 10s 10ms/step - loss: 0.0121 - accuracy: 0.9980 - val_loss: 8.5453e-06 - val_accuracy: 0.9957\n",
      "0.9958999752998352\n",
      "Epoch 139/150\n",
      "937/937 [==============================] - 10s 10ms/step - loss: 0.0105 - accuracy: 0.9978 - val_loss: 3.6105e-05 - val_accuracy: 0.9953\n",
      "0.995199978351593\n",
      "Epoch 140/150\n",
      "937/937 [==============================] - 10s 11ms/step - loss: 0.0130 - accuracy: 0.9978 - val_loss: 0.0000e+00 - val_accuracy: 0.9949\n",
      "0.9951000213623047\n",
      "Epoch 141/150\n",
      "937/937 [==============================] - 9s 10ms/step - loss: 0.0132 - accuracy: 0.9976 - val_loss: 0.0000e+00 - val_accuracy: 0.9951\n",
      "0.9951000213623047\n",
      "Epoch 142/150\n",
      "937/937 [==============================] - 9s 10ms/step - loss: 0.0123 - accuracy: 0.9974 - val_loss: 2.5402e-05 - val_accuracy: 0.9958\n"
     ]
    },
    {
     "name": "stdout",
     "output_type": "stream",
     "text": [
      "0.9955999851226807\n",
      "Epoch 143/150\n",
      "937/937 [==============================] - 10s 11ms/step - loss: 0.0122 - accuracy: 0.9975 - val_loss: 3.4430e-04 - val_accuracy: 0.9954\n",
      "0.9957000017166138\n",
      "Epoch 144/150\n",
      "937/937 [==============================] - 10s 10ms/step - loss: 0.0141 - accuracy: 0.9974 - val_loss: 0.0000e+00 - val_accuracy: 0.9960\n",
      "0.9955999851226807\n",
      "Epoch 145/150\n",
      "937/937 [==============================] - 9s 10ms/step - loss: 0.0096 - accuracy: 0.9981 - val_loss: 0.0000e+00 - val_accuracy: 0.9950\n",
      "0.9952999949455261\n",
      "Epoch 146/150\n",
      "937/937 [==============================] - 53s 57ms/step - loss: 0.0119 - accuracy: 0.9975 - val_loss: 1.6987e-06 - val_accuracy: 0.9955\n",
      "0.9951000213623047\n",
      "Epoch 147/150\n",
      "937/937 [==============================] - 9s 10ms/step - loss: 0.0111 - accuracy: 0.9978 - val_loss: 0.0011 - val_accuracy: 0.9959\n",
      "0.9955999851226807\n",
      "Epoch 148/150\n",
      "937/937 [==============================] - 9s 10ms/step - loss: 0.0110 - accuracy: 0.9976 - val_loss: 0.0015 - val_accuracy: 0.9962\n",
      "0.9962999820709229\n",
      "Epoch 149/150\n",
      "937/937 [==============================] - 10s 10ms/step - loss: 0.0109 - accuracy: 0.9980 - val_loss: 5.9604e-07 - val_accuracy: 0.9964\n",
      "0.9962999820709229\n",
      "Epoch 150/150\n",
      "937/937 [==============================] - 9s 10ms/step - loss: 0.0133 - accuracy: 0.9977 - val_loss: 0.0000e+00 - val_accuracy: 0.9963\n",
      "0.9962000250816345\n"
     ]
    }
   ],
   "source": [
    "epoch =150\n",
    "history_callback= model.fit_generator(train_generator, steps_per_epoch=60000//64, epochs=epoch, \n",
    "                    validation_data=test_generator, validation_steps=10000//64, callbacks=[cbk])"
   ]
  },
  {
   "cell_type": "code",
   "execution_count": 84,
   "metadata": {},
   "outputs": [],
   "source": [
    "val_accuracy = np.array(history_callback.history['val_accuracy'])\n",
    "val_loss =  np.array(history_callback.history['val_loss'])\n",
    "accuracy =  np.array(history_callback.history['accuracy'])\n",
    "loss =  np.array(history_callback.history['loss'])\n"
   ]
  },
  {
   "cell_type": "code",
   "execution_count": 85,
   "metadata": {},
   "outputs": [
    {
     "data": {
      "text/plain": [
       "[<matplotlib.lines.Line2D at 0x21ee0d828c8>,\n",
       " <matplotlib.lines.Line2D at 0x21ee0d82a88>]"
      ]
     },
     "execution_count": 85,
     "metadata": {},
     "output_type": "execute_result"
    },
    {
     "data": {
      "image/png": "[encoded data removed]",
      "text/plain": [
       "<Figure size 432x288 with 1 Axes>"
      ]
     },
     "metadata": {
      "needs_background": "light"
     },
     "output_type": "display_data"
    }
   ],
   "source": [
    "x = np.arange(0.0, epoch, 1)\n",
    "plt.plot(x,val_accuracy,'r',x,accuracy,'b')#,x,loss,'g',x,val_loss,'y')"
   ]
  },
  {
   "cell_type": "code",
   "execution_count": 86,
   "metadata": {},
   "outputs": [
    {
     "data": {
      "text/plain": [
       "0.013674805246103823"
      ]
     },
     "execution_count": 86,
     "metadata": {},
     "output_type": "execute_result"
    }
   ],
   "source": [
    "loss[92]"
   ]
  },
  {
   "cell_type": "code",
   "execution_count": 90,
   "metadata": {},
   "outputs": [
    {
     "data": {
      "text/plain": [
       "[0.02925015318478716, 0.9965999722480774]"
      ]
     },
     "execution_count": 90,
     "metadata": {},
     "output_type": "execute_result"
    }
   ],
   "source": [
    "score = kr.models.load_model('./static/model.h5').evaluate(x_test, y_test, verbose=0)\n",
    "score"
   ]
  },
  {
   "cell_type": "code",
   "execution_count": 88,
   "metadata": {},
   "outputs": [
    {
     "data": {
      "text/plain": [
       "[<matplotlib.lines.Line2D at 0x21ee0f64388>,\n",
       " <matplotlib.lines.Line2D at 0x21ee0f64548>]"
      ]
     },
     "execution_count": 88,
     "metadata": {},
     "output_type": "execute_result"
    },
    {
     "data": {
      "image/png": "[encoded data removed]",
      "text/plain": [
       "<Figure size 432x288 with 1 Axes>"
      ]
     },
     "metadata": {
      "needs_background": "light"
     },
     "output_type": "display_data"
    }
   ],
   "source": [
    "x = np.arange(0.0, epoch, 1)\n",
    "plt.plot(x,loss,'g',x,val_loss,'y')"
   ]
  },
  {
   "cell_type": "code",
   "execution_count": null,
   "metadata": {},
   "outputs": [],
   "source": []
  }
 ],
 "metadata": {
  "kernelspec": {
   "display_name": "Python 3",
   "language": "python",
   "name": "python3"
  },
  "language_info": {
   "codemirror_mode": {
    "name": "ipython",
    "version": 3
   },
   "file_extension": ".py",
   "mimetype": "text/x-python",
   "name": "python",
   "nbconvert_exporter": "python",
   "pygments_lexer": "ipython3",
   "version": "3.7.4"
  }
 },
 "nbformat": 4,
 "nbformat_minor": 4
}
