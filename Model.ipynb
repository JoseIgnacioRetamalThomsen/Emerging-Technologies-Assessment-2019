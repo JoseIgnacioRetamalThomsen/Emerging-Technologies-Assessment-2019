{
 "cells": [
  {
   "cell_type": "markdown",
   "metadata": {},
   "source": [
    "# Trainig a Model Using the MNIST datase for recgonise hand-writen digits\n",
    "    On this notebook we show how to create a model using  MNIST dataset.\n",
    "    We start showing how to read the bits from the dataset\n",
    "\n"
   ]
  },
  {
   "cell_type": "markdown",
   "metadata": {},
   "source": [
    "  [http://yann.lecun.com/exdb/mnist/](http://yann.lecun.com/exdb/mnist/) "
   ]
  },
  {
   "cell_type": "markdown",
   "metadata": {},
   "source": [
    "# The Data\n",
    "\n",
    "  We will start by undertandig how the data is formated and parsing it i a suuitable way for train our model.\n",
    "  \n",
    "  Mnist provide 4 files: \n",
    "\n"
   ]
  },
  {
   "cell_type": "markdown",
   "metadata": {},
   "source": [
    "## Little and Big Endian Architecture \n",
    "\n",
    "  There are 2 types of processors architecture(litle and big endian). In litle endian bits are store from left to righ This is basically how the bytes are stored, in litle they are stored from left to right and in big the other way around.(Look this is you want to know more about https://chortle.ccsu.edu/AssemblyTutorial/Chapter-15/ass15_3.html ).\n",
    "  This is relevant for us because we need to know read the bytes right for get the proper data.\n",
    "  In python we can easyle check using sys, since I am using a Intel processor i expected to be litle."
   ]
  },
  {
   "cell_type": "code",
   "execution_count": 1,
   "metadata": {},
   "outputs": [],
   "source": [
    "import numpy as np\n",
    "from sys import byteorder"
   ]
  },
  {
   "cell_type": "markdown",
   "metadata": {},
   "source": [
    "Now we can check  our architecture:"
   ]
  },
  {
   "cell_type": "code",
   "execution_count": 2,
   "metadata": {},
   "outputs": [
    {
     "name": "stdout",
     "output_type": "stream",
     "text": [
      "little\n"
     ]
    }
   ],
   "source": [
    "print(byteorder)"
   ]
  },
  {
   "cell_type": "markdown",
   "metadata": {},
   "source": [
    "## Reading Mnist\n",
    "    Now we can start reading the train images file. \n",
    "    For the tain images we espected (this data can be found in the Mnist website).\n",
    "   "
   ]
  },
  {
   "cell_type": "code",
   "execution_count": 3,
   "metadata": {},
   "outputs": [],
   "source": [
    "import gzip\n",
    "\n",
    "with gzip.open('mnist/train-images-idx3-ubyte.gz', 'rb') as f:\n",
    "    fc_train_img = f.read()"
   ]
  },
  {
   "cell_type": "markdown",
   "metadata": {},
   "source": [
    " The first 4 bytes is the magic number which is a 32 bit integer, for the image set this number is 2051. Note that we are setting the byteorder as big."
   ]
  },
  {
   "cell_type": "code",
   "execution_count": 4,
   "metadata": {},
   "outputs": [
    {
     "data": {
      "text/plain": [
       "2051"
      ]
     },
     "execution_count": 4,
     "metadata": {},
     "output_type": "execute_result"
    }
   ],
   "source": [
    "int.from_bytes(fc_train_img[0:4], byteorder='big')"
   ]
  },
  {
   "cell_type": "markdown",
   "metadata": {},
   "source": [
    " Next is the the number of images as a 32 bit integer:"
   ]
  },
  {
   "cell_type": "code",
   "execution_count": 5,
   "metadata": {},
   "outputs": [
    {
     "data": {
      "text/plain": [
       "60000"
      ]
     },
     "execution_count": 5,
     "metadata": {},
     "output_type": "execute_result"
    }
   ],
   "source": [
    "train_img_total = int.from_bytes(fc_train_img[4:8], byteorder='big')\n",
    "train_img_total"
   ]
  },
  {
   "cell_type": "markdown",
   "metadata": {},
   "source": [
    "Then number of rows as 32 bit integer."
   ]
  },
  {
   "cell_type": "code",
   "execution_count": 6,
   "metadata": {},
   "outputs": [
    {
     "data": {
      "text/plain": [
       "28"
      ]
     },
     "execution_count": 6,
     "metadata": {},
     "output_type": "execute_result"
    }
   ],
   "source": [
    "row = int.from_bytes(fc_train_img[8:12], byteorder='big')\n",
    "row"
   ]
  },
  {
   "cell_type": "markdown",
   "metadata": {},
   "source": [
    "And a columns as 32 bit integer."
   ]
  },
  {
   "cell_type": "code",
   "execution_count": 7,
   "metadata": {},
   "outputs": [
    {
     "data": {
      "text/plain": [
       "28"
      ]
     },
     "execution_count": 7,
     "metadata": {},
     "output_type": "execute_result"
    }
   ],
   "source": [
    "col = int.from_bytes(fc_train_img[12:16], byteorder='big')\n",
    "col"
   ]
  },
  {
   "cell_type": "markdown",
   "metadata": {},
   "source": [
    "Then unsigned bytes(8 bits) , each byte represent a pixel. They are orginezed row-wise.\n",
    "\n",
    "The total of bits is : \n",
    "```python\n",
    "train_img_total*row*col\n",
    "```\n",
    "\n",
    "\n",
    "\n"
   ]
  },
  {
   "cell_type": "code",
   "execution_count": 8,
   "metadata": {},
   "outputs": [
    {
     "data": {
      "text/plain": [
       "47040016"
      ]
     },
     "execution_count": 8,
     "metadata": {},
     "output_type": "execute_result"
    }
   ],
   "source": [
    "last_byte = (train_img_total*row*col) + 16\n",
    "last_byte"
   ]
  },
  {
   "cell_type": "markdown",
   "metadata": {},
   "source": [
    "Now whe can read all bits:"
   ]
  },
  {
   "cell_type": "code",
   "execution_count": 9,
   "metadata": {},
   "outputs": [],
   "source": [
    "x_train = list(fc_train_img[16:last_byte])"
   ]
  },
  {
   "cell_type": "markdown",
   "metadata": {},
   "source": [
    "And reshape them ass 28*27 (784) array. They represent our vector.\n",
    "\n",
    "Also in Mnist pixel values are 0 to 255.0 , 0 representing the background. We want ot invert this, because having a non zero value as background is better for the trainig. "
   ]
  },
  {
   "cell_type": "code",
   "execution_count": 10,
   "metadata": {},
   "outputs": [
    {
     "data": {
      "text/plain": [
       "(60000, 784)"
      ]
     },
     "execution_count": 10,
     "metadata": {},
     "output_type": "execute_result"
    }
   ],
   "source": [
    "x_train = ~np.array(x_train).reshape(train_img_total,row*col).astype(np.uint8)\n",
    "x_train.shape"
   ]
  },
  {
   "cell_type": "markdown",
   "metadata": {},
   "source": [
    "We can see one image using pyplot:"
   ]
  },
  {
   "cell_type": "code",
   "execution_count": 11,
   "metadata": {},
   "outputs": [
    {
     "data": {
      "text/plain": [
       "<matplotlib.image.AxesImage at 0x166aa2c74c8>"
      ]
     },
     "execution_count": 11,
     "metadata": {},
     "output_type": "execute_result"
    },
    {
     "data": {
      "image/png": "[encoded data removed]",
      "text/plain": [
       "<Figure size 432x288 with 1 Axes>"
      ]
     },
     "metadata": {
      "needs_background": "light"
     },
     "output_type": "display_data"
    }
   ],
   "source": [
    "%matplotlib inline\n",
    "import matplotlib.pyplot as plt\n",
    "plt.imshow(x_train[11].reshape(row,col), cmap='gray')"
   ]
  },
  {
   "cell_type": "markdown",
   "metadata": {},
   "source": [
    "Thats look like the image 11 is a 5. We can now read labels and check."
   ]
  },
  {
   "cell_type": "code",
   "execution_count": 12,
   "metadata": {},
   "outputs": [],
   "source": [
    "with gzip.open('mnist/train-labels-idx1-ubyte.gz', 'rb') as f:\n",
    "    fc_train_lbl = f.read()"
   ]
  },
  {
   "cell_type": "markdown",
   "metadata": {},
   "source": [
    "First 32 bits are magin number : 2049"
   ]
  },
  {
   "cell_type": "code",
   "execution_count": 13,
   "metadata": {},
   "outputs": [
    {
     "data": {
      "text/plain": [
       "2049"
      ]
     },
     "execution_count": 13,
     "metadata": {},
     "output_type": "execute_result"
    }
   ],
   "source": [
    "int.from_bytes(fc_train_lbl[0:4], byteorder='big')\n"
   ]
  },
  {
   "cell_type": "markdown",
   "metadata": {},
   "source": [
    "Then a 32 bits intiger, the total of labels. Must be 6000 as we got 6000 images. "
   ]
  },
  {
   "cell_type": "code",
   "execution_count": 14,
   "metadata": {},
   "outputs": [
    {
     "data": {
      "text/plain": [
       "60000"
      ]
     },
     "execution_count": 14,
     "metadata": {},
     "output_type": "execute_result"
    }
   ],
   "source": [
    "train_lvl_total = int.from_bytes(fc_train_lbl[4:8], byteorder='big')\n",
    "train_lvl_total"
   ]
  },
  {
   "cell_type": "markdown",
   "metadata": {},
   "source": [
    "Now each unsigned byte is a label, so we can check that 11 is 5:"
   ]
  },
  {
   "cell_type": "code",
   "execution_count": 16,
   "metadata": {},
   "outputs": [
    {
     "name": "stdout",
     "output_type": "stream",
     "text": [
      "5\n"
     ]
    }
   ],
   "source": [
    "y_train = np.array(list(fc_train_lbl[8:train_lvl_total+8]))\n",
    "print(y_train[11])"
   ]
  },
  {
   "cell_type": "markdown",
   "metadata": {},
   "source": [
    "We now real the test images and labels:"
   ]
  },
  {
   "cell_type": "code",
   "execution_count": 17,
   "metadata": {},
   "outputs": [],
   "source": [
    "with gzip.open('mnist/t10k-images-idx3-ubyte.gz', 'rb') as f:\n",
    "    fc_test_img = f.read()\n",
    "with gzip.open('mnist/t10k-labels-idx1-ubyte.gz', 'rb') as f:\n",
    "    fc_test_lbl = f.read()\n",
    "    \n",
    "test_img_total = int.from_bytes(fc_test_img[4:8], byteorder='big')\n",
    "test_lbl_total = int.from_bytes(fc_test_lbl[4:8], byteorder='big')\n",
    "\n",
    "last_byte = (test_img_total*row*col) + 16\n",
    "x_test = list(fc_test_img[16:last_byte])\n",
    "x_test = ~np.array(x_test).reshape(test_img_total,row*col).astype(np.uint8)\n",
    "\n",
    "y_test = np.array(list(fc_test_lbl[8:test_lbl_total+8]))"
   ]
  },
  {
   "cell_type": "code",
   "execution_count": 18,
   "metadata": {},
   "outputs": [
    {
     "data": {
      "text/plain": [
       "<matplotlib.image.AxesImage at 0x166aa91fa08>"
      ]
     },
     "execution_count": 18,
     "metadata": {},
     "output_type": "execute_result"
    },
    {
     "data": {
      "image/png": "[encoded data removed]",
      "text/plain": [
       "<Figure size 432x288 with 1 Axes>"
      ]
     },
     "metadata": {
      "needs_background": "light"
     },
     "output_type": "display_data"
    }
   ],
   "source": [
    "plt.imshow(x_test[11].reshape(row,col), cmap='gray')"
   ]
  },
  {
   "cell_type": "code",
   "execution_count": 19,
   "metadata": {},
   "outputs": [
    {
     "name": "stdout",
     "output_type": "stream",
     "text": [
      "6\n"
     ]
    }
   ],
   "source": [
    "print(y_test[11])"
   ]
  },
  {
   "cell_type": "code",
   "execution_count": 20,
   "metadata": {},
   "outputs": [
    {
     "name": "stderr",
     "output_type": "stream",
     "text": [
      "Using TensorFlow backend.\n"
     ]
    }
   ],
   "source": [
    "import keras as kr"
   ]
  },
  {
   "cell_type": "code",
   "execution_count": 21,
   "metadata": {},
   "outputs": [],
   "source": [
    "model = kr.models.Sequential()"
   ]
  },
  {
   "cell_type": "code",
   "execution_count": 22,
   "metadata": {},
   "outputs": [],
   "source": [
    "model.add(kr.layers.Dense(units=10, input_dim=784, activation='softmax'))"
   ]
  },
  {
   "cell_type": "code",
   "execution_count": 23,
   "metadata": {},
   "outputs": [],
   "source": [
    "model.compile(loss='categorical_crossentropy',optimizer='adam', metrics=['accuracy'])"
   ]
  },
  {
   "cell_type": "markdown",
   "metadata": {},
   "source": [
    "## Activation : softmax\n",
    "  We want our result to represent a probablility of being one of the 10 digits(0,1,3...).\n",
    "  The softmax activation function will do this for us, it will output our output for each neuron beetwen 0 and 1.Then each \n",
    "  of our neuron can represent a a digit so the one will bigger probability will be our prediction.\n",
    "  \n",
    "  $$\\sigma (z)_j = \\frac{e^{(z)_j}}{\\sum_{k=0}^{K}e^{(z)_k}} \\text{  where   j = 1,...,K}$$  \n",
    "  \n",
    "  In our case K = 10.\n",
    "  \n",
    "  https://www.analyticsvidhya.com/blog/2017/10/fundamentals-deep-learning-activation-functions-when-to-use-them/\n",
    "\n"
   ]
  },
  {
   "cell_type": "code",
   "execution_count": 24,
   "metadata": {},
   "outputs": [
    {
     "data": {
      "text/plain": [
       "array([[4.791266e-04, 0.000000e+00, 9.995209e-01, 0.000000e+00,\n",
       "        0.000000e+00, 0.000000e+00, 0.000000e+00, 0.000000e+00,\n",
       "        0.000000e+00, 0.000000e+00]], dtype=float32)"
      ]
     },
     "execution_count": 24,
     "metadata": {},
     "output_type": "execute_result"
    }
   ],
   "source": [
    "test = np.arange(0.0, 784, 1).reshape(1,784)\n",
    "result = model.predict(test)\n",
    "result\n"
   ]
  },
  {
   "cell_type": "code",
   "execution_count": 25,
   "metadata": {},
   "outputs": [
    {
     "data": {
      "text/plain": [
       "1.0000000244763214"
      ]
     },
     "execution_count": 25,
     "metadata": {},
     "output_type": "execute_result"
    }
   ],
   "source": [
    "sum = 0 \n",
    "for i in result[0]:\n",
    "    sum += i\n",
    "sum"
   ]
  },
  {
   "cell_type": "markdown",
   "metadata": {},
   "source": [
    "## Loss : categorical_crossentropy\n",
    "\n",
    "    After we calculate our result we need to calculate the distance beetween our prediction and our epected result.\n",
    "    https://algorithmia.com/blog/introduction-to-loss-functions\n",
    "    "
   ]
  },
  {
   "cell_type": "markdown",
   "metadata": {},
   "source": [
    "## Optimazer : adam\n",
    "https://algorithmia.com/blog/introduction-to-optimizers"
   ]
  },
  {
   "cell_type": "code",
   "execution_count": 26,
   "metadata": {},
   "outputs": [],
   "source": [
    "y_train = kr.utils.to_categorical(y_train, 10)\n",
    "y_test  = kr.utils.to_categorical(y_test, 10)"
   ]
  },
  {
   "cell_type": "code",
   "execution_count": 27,
   "metadata": {},
   "outputs": [
    {
     "data": {
      "text/plain": [
       "array([0., 0., 0., 0., 0., 1., 0., 0., 0., 0.], dtype=float32)"
      ]
     },
     "execution_count": 27,
     "metadata": {},
     "output_type": "execute_result"
    }
   ],
   "source": [
    "y_train[0]"
   ]
  },
  {
   "cell_type": "code",
   "execution_count": 29,
   "metadata": {},
   "outputs": [],
   "source": [
    "x_train =  x_train/255.0\n",
    "y_test = y_test/255.0"
   ]
  },
  {
   "cell_type": "code",
   "execution_count": 33,
   "metadata": {
    "scrolled": true
   },
   "outputs": [
    {
     "name": "stdout",
     "output_type": "stream",
     "text": [
      "Train on 60000 samples, validate on 10000 samples\n",
      "Epoch 1/10\n",
      "60000/60000 [==============================] - 1s 25us/step - loss: 0.7976 - accuracy: 0.7894 - val_loss: 0.1663 - val_accuracy: 0.8682\n",
      "Epoch 2/10\n",
      "60000/60000 [==============================] - 1s 23us/step - loss: 0.4282 - accuracy: 0.8796 - val_loss: 0.1603 - val_accuracy: 0.8936\n",
      "Epoch 3/10\n",
      "60000/60000 [==============================] - 1s 24us/step - loss: 0.3773 - accuracy: 0.8913 - val_loss: 0.1666 - val_accuracy: 0.8986\n",
      "Epoch 4/10\n",
      "60000/60000 [==============================] - 1s 24us/step - loss: 0.3538 - accuracy: 0.8978 - val_loss: 0.1542 - val_accuracy: 0.9085\n",
      "Epoch 5/10\n",
      "60000/60000 [==============================] - 1s 24us/step - loss: 0.3380 - accuracy: 0.9015 - val_loss: 0.1659 - val_accuracy: 0.9080\n",
      "Epoch 6/10\n",
      "60000/60000 [==============================] - 1s 23us/step - loss: 0.3299 - accuracy: 0.9043 - val_loss: 0.1575 - val_accuracy: 0.9123\n",
      "Epoch 7/10\n",
      "60000/60000 [==============================] - 1s 23us/step - loss: 0.3206 - accuracy: 0.9074 - val_loss: 0.1716 - val_accuracy: 0.9106\n",
      "Epoch 8/10\n",
      "60000/60000 [==============================] - 1s 24us/step - loss: 0.3160 - accuracy: 0.9088 - val_loss: 0.1706 - val_accuracy: 0.9121\n",
      "Epoch 9/10\n",
      "60000/60000 [==============================] - 1s 24us/step - loss: 0.3114 - accuracy: 0.9107 - val_loss: 0.1644 - val_accuracy: 0.9126\n",
      "Epoch 10/10\n",
      "60000/60000 [==============================] - 1s 23us/step - loss: 0.3093 - accuracy: 0.9112 - val_loss: 0.1710 - val_accuracy: 0.9143\n"
     ]
    }
   ],
   "source": [
    "epoch = 10\n",
    "history_callback = model.fit(x_train, y_train, validation_data=(x_test,y_test), epochs=epoch, batch_size=100)"
   ]
  },
  {
   "cell_type": "code",
   "execution_count": 34,
   "metadata": {},
   "outputs": [],
   "source": [
    "val_accuracy = np.array(history_callback.history['val_accuracy'])\n",
    "val_loss =  np.array(history_callback.history['val_loss'])\n",
    "accuracy =  np.array(history_callback.history['accuracy'])\n",
    "loss =  np.array(history_callback.history['loss'])"
   ]
  },
  {
   "cell_type": "code",
   "execution_count": 35,
   "metadata": {},
   "outputs": [
    {
     "data": {
      "text/plain": [
       "[<matplotlib.lines.Line2D at 0x166c5ed3b48>,\n",
       " <matplotlib.lines.Line2D at 0x166c5edb9c8>,\n",
       " <matplotlib.lines.Line2D at 0x166c5edbb88>,\n",
       " <matplotlib.lines.Line2D at 0x166c5edbd48>]"
      ]
     },
     "execution_count": 35,
     "metadata": {},
     "output_type": "execute_result"
    },
    {
     "data": {
      "image/png": "[encoded data removed]",
      "text/plain": [
       "<Figure size 432x288 with 1 Axes>"
      ]
     },
     "metadata": {
      "needs_background": "light"
     },
     "output_type": "display_data"
    }
   ],
   "source": [
    "x = np.arange(0.0, epoch, 1)\n",
    "plt.plot(x,val_accuracy,x,accuracy,x,loss,x,val_loss)"
   ]
  },
  {
   "cell_type": "code",
   "execution_count": 36,
   "metadata": {},
   "outputs": [],
   "source": [
    "model_final  = kr.models.Sequential()\n",
    "class CustomModelCheckpoint(kr.callbacks.Callback):\n",
    "    minimun = 0.8\n",
    "          \n",
    "    def on_epoch_end(self, epoch, logs=None):\n",
    "       \n",
    "        # logs is a dictionary\n",
    "        print(f\"epoch: {epoch},history_callback.{logs['val_accuracy']}\")\n",
    "       \n",
    "        if logs['val_accuracy'] > self.minimun: # your custom condition\n",
    "    \n",
    "          \n",
    "            model.save('model1.h5', overwrite=True)\n",
    "                     \n",
    "            self.minimun = logs['val_accuracy']\n",
    "            print(self.minimun)\n",
    "            print(\"saved\")"
   ]
  },
  {
   "cell_type": "code",
   "execution_count": 37,
   "metadata": {
    "scrolled": true
   },
   "outputs": [
    {
     "name": "stdout",
     "output_type": "stream",
     "text": [
      "Train on 60000 samples, validate on 10000 samples\n",
      "Epoch 1/10\n",
      "60000/60000 [==============================] - 1s 24us/step - loss: 0.3053 - accuracy: 0.9135 - val_loss: 0.1748 - val_accuracy: 0.9146\n",
      "epoch: 0,history_callback.0.9146000146865845\n",
      "0.9146000146865845\n",
      "saved\n",
      "Epoch 2/10\n",
      "60000/60000 [==============================] - 1s 23us/step - loss: 0.3033 - accuracy: 0.9131 - val_loss: 0.1647 - val_accuracy: 0.9187\n",
      "epoch: 1,history_callback.0.9186999797821045\n",
      "0.9186999797821045\n",
      "saved\n",
      "Epoch 3/10\n",
      "60000/60000 [==============================] - 1s 23us/step - loss: 0.3009 - accuracy: 0.9139 - val_loss: 0.1780 - val_accuracy: 0.9145\n",
      "epoch: 2,history_callback.0.9144999980926514\n",
      "Epoch 4/10\n",
      "60000/60000 [==============================] - 1s 23us/step - loss: 0.2972 - accuracy: 0.9159 - val_loss: 0.1754 - val_accuracy: 0.9125\n",
      "epoch: 3,history_callback.0.9125000238418579\n",
      "Epoch 5/10\n",
      "60000/60000 [==============================] - 1s 23us/step - loss: 0.2953 - accuracy: 0.9156 - val_loss: 0.1747 - val_accuracy: 0.9118\n",
      "epoch: 4,history_callback.0.9118000268936157\n",
      "Epoch 6/10\n",
      "60000/60000 [==============================] - 1s 24us/step - loss: 0.2963 - accuracy: 0.9154 - val_loss: 0.1739 - val_accuracy: 0.9178\n",
      "epoch: 5,history_callback.0.9178000092506409\n",
      "Epoch 7/10\n",
      "60000/60000 [==============================] - 1s 23us/step - loss: 0.2923 - accuracy: 0.9166 - val_loss: 0.1759 - val_accuracy: 0.9167\n",
      "epoch: 6,history_callback.0.916700005531311\n",
      "Epoch 8/10\n",
      "60000/60000 [==============================] - 1s 24us/step - loss: 0.2915 - accuracy: 0.9165 - val_loss: 0.1733 - val_accuracy: 0.9167\n",
      "epoch: 7,history_callback.0.916700005531311\n",
      "Epoch 9/10\n",
      "60000/60000 [==============================] - 1s 23us/step - loss: 0.2887 - accuracy: 0.9177 - val_loss: 0.1805 - val_accuracy: 0.9163\n",
      "epoch: 8,history_callback.0.9162999987602234\n",
      "Epoch 10/10\n",
      "60000/60000 [==============================] - 1s 23us/step - loss: 0.2879 - accuracy: 0.9177 - val_loss: 0.1781 - val_accuracy: 0.9140\n",
      "epoch: 9,history_callback.0.9139999747276306\n"
     ]
    }
   ],
   "source": [
    "cbk = CustomModelCheckpoint()\n",
    "history_callback = model.fit(x_train, y_train, validation_data=(x_test,y_test), epochs=epoch, batch_size=100, callbacks=[cbk])"
   ]
  },
  {
   "cell_type": "code",
   "execution_count": 38,
   "metadata": {},
   "outputs": [],
   "source": [
    "model = kr.models.Sequential()\n",
    "model.add(kr.layers.Dense(units=512, input_dim=784, activation='relu'))\n",
    "model.add(kr.layers.Dense(units=10, activation='softmax'))\n",
    "model.compile(loss='categorical_crossentropy',optimizer='adam', metrics=['accuracy'])\n"
   ]
  },
  {
   "cell_type": "code",
   "execution_count": 40,
   "metadata": {
    "scrolled": true
   },
   "outputs": [
    {
     "name": "stdout",
     "output_type": "stream",
     "text": [
      "Train on 60000 samples, validate on 10000 samples\n",
      "Epoch 1/10\n",
      "60000/60000 [==============================] - 2s 29us/step - loss: 0.5493 - accuracy: 0.8390 - val_loss: 0.2087 - val_accuracy: 0.8895\n",
      "epoch: 0,history_callback.0.8895000219345093\n",
      "Epoch 2/10\n",
      "60000/60000 [==============================] - 2s 28us/step - loss: 0.3203 - accuracy: 0.9055 - val_loss: 0.1665 - val_accuracy: 0.9093\n",
      "epoch: 1,history_callback.0.9093000292778015\n",
      "Epoch 3/10\n",
      "60000/60000 [==============================] - 2s 28us/step - loss: 0.2536 - accuracy: 0.9248 - val_loss: 0.1459 - val_accuracy: 0.9211\n",
      "epoch: 2,history_callback.0.9211000204086304\n",
      "0.9211000204086304\n",
      "saved\n",
      "Epoch 4/10\n",
      "60000/60000 [==============================] - 2s 28us/step - loss: 0.2042 - accuracy: 0.9387 - val_loss: 0.0962 - val_accuracy: 0.9466\n",
      "epoch: 3,history_callback.0.9466000199317932\n",
      "0.9466000199317932\n",
      "saved\n",
      "Epoch 5/10\n",
      "60000/60000 [==============================] - 2s 28us/step - loss: 0.1738 - accuracy: 0.9482 - val_loss: 0.0793 - val_accuracy: 0.9558\n",
      "epoch: 4,history_callback.0.9557999968528748\n",
      "0.9557999968528748\n",
      "saved\n",
      "Epoch 6/10\n",
      "60000/60000 [==============================] - 2s 28us/step - loss: 0.1528 - accuracy: 0.9538 - val_loss: 0.0689 - val_accuracy: 0.9594\n",
      "epoch: 5,history_callback.0.9593999981880188\n",
      "0.9593999981880188\n",
      "saved\n",
      "Epoch 7/10\n",
      "60000/60000 [==============================] - 2s 28us/step - loss: 0.1376 - accuracy: 0.9582 - val_loss: 0.0981 - val_accuracy: 0.9481\n",
      "epoch: 6,history_callback.0.9480999708175659\n",
      "Epoch 8/10\n",
      "60000/60000 [==============================] - 2s 28us/step - loss: 0.1272 - accuracy: 0.9613 - val_loss: 0.0676 - val_accuracy: 0.9634\n",
      "epoch: 7,history_callback.0.9634000062942505\n",
      "0.9634000062942505\n",
      "saved\n",
      "Epoch 9/10\n",
      "60000/60000 [==============================] - 2s 28us/step - loss: 0.1123 - accuracy: 0.9655 - val_loss: 0.0588 - val_accuracy: 0.9692\n",
      "epoch: 8,history_callback.0.9692000150680542\n",
      "0.9692000150680542\n",
      "saved\n",
      "Epoch 10/10\n",
      "60000/60000 [==============================] - 2s 28us/step - loss: 0.1083 - accuracy: 0.9660 - val_loss: 0.0699 - val_accuracy: 0.9669\n",
      "epoch: 9,history_callback.0.9668999910354614\n"
     ]
    }
   ],
   "source": [
    "history_callback = model.fit(x_train, y_train, validation_data=(x_test,y_test), epochs=epoch, batch_size=100,\n",
    "                             callbacks=[cbk])"
   ]
  },
  {
   "cell_type": "code",
   "execution_count": 41,
   "metadata": {},
   "outputs": [],
   "source": [
    "val_accuracy = np.array(history_callback.history['val_accuracy'])\n",
    "val_loss =  np.array(history_callback.history['val_loss'])\n",
    "accuracy =  np.array(history_callback.history['accuracy'])\n",
    "loss =  np.array(history_callback.history['loss'])"
   ]
  },
  {
   "cell_type": "code",
   "execution_count": 42,
   "metadata": {},
   "outputs": [
    {
     "data": {
      "text/plain": [
       "[<matplotlib.lines.Line2D at 0x166c7646b88>,\n",
       " <matplotlib.lines.Line2D at 0x166c7658248>,\n",
       " <matplotlib.lines.Line2D at 0x166c7658408>,\n",
       " <matplotlib.lines.Line2D at 0x166c7658608>]"
      ]
     },
     "execution_count": 42,
     "metadata": {},
     "output_type": "execute_result"
    },
    {
     "data": {
      "image/png": "[encoded data removed]",
      "text/plain": [
       "<Figure size 432x288 with 1 Axes>"
      ]
     },
     "metadata": {
      "needs_background": "light"
     },
     "output_type": "display_data"
    }
   ],
   "source": [
    "x = np.arange(0.0, epoch, 1)\n",
    "plt.plot(x,val_accuracy,x,accuracy,x,loss,x,val_loss)"
   ]
  },
  {
   "cell_type": "code",
   "execution_count": 43,
   "metadata": {},
   "outputs": [],
   "source": [
    "model = kr.models.Sequential()\n",
    "model.add(kr.layers.Dense(units=512, input_dim=784, activation='relu'))\n",
    "model.add(kr.layers.Dropout(0.01))\n",
    "model.add(kr.layers.Dense(units=98, activation='relu'))\n",
    "model.add(kr.layers.Dropout(0.1))\n",
    "model.add(kr.layers.Dense(units=10, activation='softmax'))\n",
    "model.compile(loss='categorical_crossentropy',optimizer='adam', metrics=['accuracy'])"
   ]
  },
  {
   "cell_type": "code",
   "execution_count": 44,
   "metadata": {
    "scrolled": true
   },
   "outputs": [
    {
     "name": "stdout",
     "output_type": "stream",
     "text": [
      "Train on 60000 samples, validate on 10000 samples\n",
      "Epoch 1/10\n",
      "60000/60000 [==============================] - 2s 36us/step - loss: 0.5926 - accuracy: 0.8178 - val_loss: 0.1656 - val_accuracy: 0.9029\n",
      "epoch: 0,history_callback.0.902899980545044\n",
      "Epoch 2/10\n",
      "60000/60000 [==============================] - 2s 35us/step - loss: 0.3114 - accuracy: 0.9050 - val_loss: 0.1338 - val_accuracy: 0.9227\n",
      "epoch: 1,history_callback.0.9226999878883362\n",
      "Epoch 3/10\n",
      "60000/60000 [==============================] - 2s 34us/step - loss: 0.2394 - accuracy: 0.9267 - val_loss: 0.1123 - val_accuracy: 0.9424\n",
      "epoch: 2,history_callback.0.9423999786376953\n",
      "Epoch 4/10\n",
      "60000/60000 [==============================] - 2s 34us/step - loss: 0.2047 - accuracy: 0.9371 - val_loss: 0.1118 - val_accuracy: 0.9420\n",
      "epoch: 3,history_callback.0.9419999718666077\n",
      "Epoch 5/10\n",
      "60000/60000 [==============================] - 2s 34us/step - loss: 0.1768 - accuracy: 0.9463 - val_loss: 0.0893 - val_accuracy: 0.9544\n",
      "epoch: 4,history_callback.0.9544000029563904\n",
      "Epoch 6/10\n",
      "60000/60000 [==============================] - 2s 34us/step - loss: 0.1570 - accuracy: 0.9514 - val_loss: 0.0897 - val_accuracy: 0.9538\n",
      "epoch: 5,history_callback.0.9538000226020813\n",
      "Epoch 7/10\n",
      "60000/60000 [==============================] - 2s 35us/step - loss: 0.1491 - accuracy: 0.9539 - val_loss: 0.0751 - val_accuracy: 0.9631\n",
      "epoch: 6,history_callback.0.963100016117096\n",
      "Epoch 8/10\n",
      "60000/60000 [==============================] - 2s 35us/step - loss: 0.1323 - accuracy: 0.9581 - val_loss: 0.0666 - val_accuracy: 0.9656\n",
      "epoch: 7,history_callback.0.9656000137329102\n",
      "Epoch 9/10\n",
      "60000/60000 [==============================] - 2s 34us/step - loss: 0.1270 - accuracy: 0.9599 - val_loss: 0.0794 - val_accuracy: 0.9618\n",
      "epoch: 8,history_callback.0.9617999792098999\n",
      "Epoch 10/10\n",
      "60000/60000 [==============================] - 2s 35us/step - loss: 0.1189 - accuracy: 0.9624 - val_loss: 0.0626 - val_accuracy: 0.9657\n",
      "epoch: 9,history_callback.0.9656999707221985\n"
     ]
    }
   ],
   "source": [
    "epoch = 10\n",
    "history_callback = model.fit(x_train, y_train, validation_data=(x_test,y_test), epochs=epoch, batch_size=100\n",
    "                             , callbacks=[cbk])"
   ]
  },
  {
   "cell_type": "code",
   "execution_count": 45,
   "metadata": {},
   "outputs": [],
   "source": [
    "val_accuracy = np.array(history_callback.history['val_accuracy'])\n",
    "val_loss =  np.array(history_callback.history['val_loss'])\n",
    "accuracy =  np.array(history_callback.history['accuracy'])\n",
    "loss =  np.array(history_callback.history['loss'])"
   ]
  },
  {
   "cell_type": "code",
   "execution_count": 46,
   "metadata": {},
   "outputs": [
    {
     "data": {
      "text/plain": [
       "[<matplotlib.lines.Line2D at 0x166c834fac8>,\n",
       " <matplotlib.lines.Line2D at 0x166c8358988>,\n",
       " <matplotlib.lines.Line2D at 0x166c8358b48>,\n",
       " <matplotlib.lines.Line2D at 0x166c8358d08>]"
      ]
     },
     "execution_count": 46,
     "metadata": {},
     "output_type": "execute_result"
    },
    {
     "data": {
      "image/png": "[encoded data removed]",
      "text/plain": [
       "<Figure size 432x288 with 1 Axes>"
      ]
     },
     "metadata": {
      "needs_background": "light"
     },
     "output_type": "display_data"
    }
   ],
   "source": [
    "\n",
    "x = np.arange(0.0, epoch, 1)\n",
    "plt.plot(x,val_accuracy,x,accuracy,x,loss,x,val_loss)"
   ]
  },
  {
   "cell_type": "code",
   "execution_count": 48,
   "metadata": {},
   "outputs": [
    {
     "data": {
      "text/plain": [
       "[0.05882273079205245, 0.9692000150680542]"
      ]
     },
     "execution_count": 48,
     "metadata": {},
     "output_type": "execute_result"
    }
   ],
   "source": [
    "score = kr.models.load_model('./model1.h5').evaluate(x_test, y_test, verbose=0)\n",
    "score"
   ]
  },
  {
   "cell_type": "code",
   "execution_count": 50,
   "metadata": {},
   "outputs": [],
   "source": [
    "x_train = x_train.reshape(train_img_total,col,row,1)\n",
    "x_test = x_test.reshape(test_img_total,col,row,1)"
   ]
  },
  {
   "cell_type": "code",
   "execution_count": 52,
   "metadata": {},
   "outputs": [
    {
     "data": {
      "text/plain": [
       "array([[[1.        ],\n",
       "        [1.        ],\n",
       "        [1.        ],\n",
       "        [1.        ],\n",
       "        [1.        ],\n",
       "        [1.        ],\n",
       "        [1.        ],\n",
       "        [1.        ],\n",
       "        [1.        ],\n",
       "        [1.        ],\n",
       "        [1.        ],\n",
       "        [1.        ],\n",
       "        [1.        ],\n",
       "        [1.        ],\n",
       "        [1.        ],\n",
       "        [1.        ],\n",
       "        [1.        ],\n",
       "        [1.        ],\n",
       "        [1.        ],\n",
       "        [1.        ],\n",
       "        [1.        ],\n",
       "        [1.        ],\n",
       "        [1.        ],\n",
       "        [1.        ],\n",
       "        [1.        ],\n",
       "        [1.        ],\n",
       "        [1.        ],\n",
       "        [1.        ]],\n",
       "\n",
       "       [[1.        ],\n",
       "        [1.        ],\n",
       "        [1.        ],\n",
       "        [1.        ],\n",
       "        [1.        ],\n",
       "        [1.        ],\n",
       "        [1.        ],\n",
       "        [1.        ],\n",
       "        [1.        ],\n",
       "        [1.        ],\n",
       "        [1.        ],\n",
       "        [1.        ],\n",
       "        [1.        ],\n",
       "        [1.        ],\n",
       "        [1.        ],\n",
       "        [1.        ],\n",
       "        [1.        ],\n",
       "        [1.        ],\n",
       "        [1.        ],\n",
       "        [1.        ],\n",
       "        [1.        ],\n",
       "        [1.        ],\n",
       "        [1.        ],\n",
       "        [1.        ],\n",
       "        [1.        ],\n",
       "        [1.        ],\n",
       "        [1.        ],\n",
       "        [1.        ]],\n",
       "\n",
       "       [[1.        ],\n",
       "        [1.        ],\n",
       "        [1.        ],\n",
       "        [1.        ],\n",
       "        [1.        ],\n",
       "        [1.        ],\n",
       "        [1.        ],\n",
       "        [1.        ],\n",
       "        [1.        ],\n",
       "        [1.        ],\n",
       "        [1.        ],\n",
       "        [1.        ],\n",
       "        [1.        ],\n",
       "        [1.        ],\n",
       "        [1.        ],\n",
       "        [1.        ],\n",
       "        [1.        ],\n",
       "        [1.        ],\n",
       "        [1.        ],\n",
       "        [1.        ],\n",
       "        [1.        ],\n",
       "        [1.        ],\n",
       "        [1.        ],\n",
       "        [1.        ],\n",
       "        [1.        ],\n",
       "        [1.        ],\n",
       "        [1.        ],\n",
       "        [1.        ]],\n",
       "\n",
       "       [[1.        ],\n",
       "        [1.        ],\n",
       "        [1.        ],\n",
       "        [1.        ],\n",
       "        [1.        ],\n",
       "        [1.        ],\n",
       "        [1.        ],\n",
       "        [1.        ],\n",
       "        [1.        ],\n",
       "        [1.        ],\n",
       "        [1.        ],\n",
       "        [1.        ],\n",
       "        [1.        ],\n",
       "        [1.        ],\n",
       "        [1.        ],\n",
       "        [1.        ],\n",
       "        [1.        ],\n",
       "        [1.        ],\n",
       "        [1.        ],\n",
       "        [1.        ],\n",
       "        [1.        ],\n",
       "        [1.        ],\n",
       "        [1.        ],\n",
       "        [1.        ],\n",
       "        [1.        ],\n",
       "        [1.        ],\n",
       "        [1.        ],\n",
       "        [1.        ]],\n",
       "\n",
       "       [[1.        ],\n",
       "        [1.        ],\n",
       "        [1.        ],\n",
       "        [1.        ],\n",
       "        [1.        ],\n",
       "        [1.        ],\n",
       "        [1.        ],\n",
       "        [1.        ],\n",
       "        [1.        ],\n",
       "        [1.        ],\n",
       "        [1.        ],\n",
       "        [1.        ],\n",
       "        [1.        ],\n",
       "        [1.        ],\n",
       "        [1.        ],\n",
       "        [1.        ],\n",
       "        [1.        ],\n",
       "        [1.        ],\n",
       "        [1.        ],\n",
       "        [1.        ],\n",
       "        [1.        ],\n",
       "        [1.        ],\n",
       "        [1.        ],\n",
       "        [1.        ],\n",
       "        [1.        ],\n",
       "        [1.        ],\n",
       "        [1.        ],\n",
       "        [1.        ]],\n",
       "\n",
       "       [[1.        ],\n",
       "        [1.        ],\n",
       "        [1.        ],\n",
       "        [1.        ],\n",
       "        [1.        ],\n",
       "        [1.        ],\n",
       "        [1.        ],\n",
       "        [1.        ],\n",
       "        [1.        ],\n",
       "        [1.        ],\n",
       "        [1.        ],\n",
       "        [1.        ],\n",
       "        [0.98823529],\n",
       "        [0.92941176],\n",
       "        [0.92941176],\n",
       "        [0.92941176],\n",
       "        [0.50588235],\n",
       "        [0.46666667],\n",
       "        [0.31372549],\n",
       "        [0.89803922],\n",
       "        [0.34901961],\n",
       "        [0.        ],\n",
       "        [0.03137255],\n",
       "        [0.50196078],\n",
       "        [1.        ],\n",
       "        [1.        ],\n",
       "        [1.        ],\n",
       "        [1.        ]],\n",
       "\n",
       "       [[1.        ],\n",
       "        [1.        ],\n",
       "        [1.        ],\n",
       "        [1.        ],\n",
       "        [1.        ],\n",
       "        [1.        ],\n",
       "        [1.        ],\n",
       "        [1.        ],\n",
       "        [0.88235294],\n",
       "        [0.85882353],\n",
       "        [0.63137255],\n",
       "        [0.39607843],\n",
       "        [0.33333333],\n",
       "        [0.00784314],\n",
       "        [0.00784314],\n",
       "        [0.00784314],\n",
       "        [0.00784314],\n",
       "        [0.00784314],\n",
       "        [0.11764706],\n",
       "        [0.3254902 ],\n",
       "        [0.00784314],\n",
       "        [0.05098039],\n",
       "        [0.23529412],\n",
       "        [0.74901961],\n",
       "        [1.        ],\n",
       "        [1.        ],\n",
       "        [1.        ],\n",
       "        [1.        ]],\n",
       "\n",
       "       [[1.        ],\n",
       "        [1.        ],\n",
       "        [1.        ],\n",
       "        [1.        ],\n",
       "        [1.        ],\n",
       "        [1.        ],\n",
       "        [1.        ],\n",
       "        [0.80784314],\n",
       "        [0.06666667],\n",
       "        [0.00784314],\n",
       "        [0.00784314],\n",
       "        [0.00784314],\n",
       "        [0.00784314],\n",
       "        [0.00784314],\n",
       "        [0.00784314],\n",
       "        [0.00784314],\n",
       "        [0.00784314],\n",
       "        [0.01568627],\n",
       "        [0.63529412],\n",
       "        [0.67843137],\n",
       "        [0.67843137],\n",
       "        [0.78039216],\n",
       "        [0.84705882],\n",
       "        [1.        ],\n",
       "        [1.        ],\n",
       "        [1.        ],\n",
       "        [1.        ],\n",
       "        [1.        ]],\n",
       "\n",
       "       [[1.        ],\n",
       "        [1.        ],\n",
       "        [1.        ],\n",
       "        [1.        ],\n",
       "        [1.        ],\n",
       "        [1.        ],\n",
       "        [1.        ],\n",
       "        [0.92941176],\n",
       "        [0.14117647],\n",
       "        [0.00784314],\n",
       "        [0.00784314],\n",
       "        [0.00784314],\n",
       "        [0.00784314],\n",
       "        [0.00784314],\n",
       "        [0.22352941],\n",
       "        [0.28627451],\n",
       "        [0.03137255],\n",
       "        [0.05490196],\n",
       "        [1.        ],\n",
       "        [1.        ],\n",
       "        [1.        ],\n",
       "        [1.        ],\n",
       "        [1.        ],\n",
       "        [1.        ],\n",
       "        [1.        ],\n",
       "        [1.        ],\n",
       "        [1.        ],\n",
       "        [1.        ]],\n",
       "\n",
       "       [[1.        ],\n",
       "        [1.        ],\n",
       "        [1.        ],\n",
       "        [1.        ],\n",
       "        [1.        ],\n",
       "        [1.        ],\n",
       "        [1.        ],\n",
       "        [1.        ],\n",
       "        [0.68627451],\n",
       "        [0.38823529],\n",
       "        [0.58039216],\n",
       "        [0.00784314],\n",
       "        [0.00784314],\n",
       "        [0.19607843],\n",
       "        [0.95686275],\n",
       "        [1.        ],\n",
       "        [0.83137255],\n",
       "        [0.39607843],\n",
       "        [1.        ],\n",
       "        [1.        ],\n",
       "        [1.        ],\n",
       "        [1.        ],\n",
       "        [1.        ],\n",
       "        [1.        ],\n",
       "        [1.        ],\n",
       "        [1.        ],\n",
       "        [1.        ],\n",
       "        [1.        ]],\n",
       "\n",
       "       [[1.        ],\n",
       "        [1.        ],\n",
       "        [1.        ],\n",
       "        [1.        ],\n",
       "        [1.        ],\n",
       "        [1.        ],\n",
       "        [1.        ],\n",
       "        [1.        ],\n",
       "        [1.        ],\n",
       "        [0.94509804],\n",
       "        [0.99607843],\n",
       "        [0.39607843],\n",
       "        [0.00784314],\n",
       "        [0.64705882],\n",
       "        [1.        ],\n",
       "        [1.        ],\n",
       "        [1.        ],\n",
       "        [1.        ],\n",
       "        [1.        ],\n",
       "        [1.        ],\n",
       "        [1.        ],\n",
       "        [1.        ],\n",
       "        [1.        ],\n",
       "        [1.        ],\n",
       "        [1.        ],\n",
       "        [1.        ],\n",
       "        [1.        ],\n",
       "        [1.        ]],\n",
       "\n",
       "       [[1.        ],\n",
       "        [1.        ],\n",
       "        [1.        ],\n",
       "        [1.        ],\n",
       "        [1.        ],\n",
       "        [1.        ],\n",
       "        [1.        ],\n",
       "        [1.        ],\n",
       "        [1.        ],\n",
       "        [1.        ],\n",
       "        [1.        ],\n",
       "        [0.45490196],\n",
       "        [0.00784314],\n",
       "        [0.25490196],\n",
       "        [0.99215686],\n",
       "        [1.        ],\n",
       "        [1.        ],\n",
       "        [1.        ],\n",
       "        [1.        ],\n",
       "        [1.        ],\n",
       "        [1.        ],\n",
       "        [1.        ],\n",
       "        [1.        ],\n",
       "        [1.        ],\n",
       "        [1.        ],\n",
       "        [1.        ],\n",
       "        [1.        ],\n",
       "        [1.        ]],\n",
       "\n",
       "       [[1.        ],\n",
       "        [1.        ],\n",
       "        [1.        ],\n",
       "        [1.        ],\n",
       "        [1.        ],\n",
       "        [1.        ],\n",
       "        [1.        ],\n",
       "        [1.        ],\n",
       "        [1.        ],\n",
       "        [1.        ],\n",
       "        [1.        ],\n",
       "        [0.95686275],\n",
       "        [0.25490196],\n",
       "        [0.00784314],\n",
       "        [0.7254902 ],\n",
       "        [1.        ],\n",
       "        [1.        ],\n",
       "        [1.        ],\n",
       "        [1.        ],\n",
       "        [1.        ],\n",
       "        [1.        ],\n",
       "        [1.        ],\n",
       "        [1.        ],\n",
       "        [1.        ],\n",
       "        [1.        ],\n",
       "        [1.        ],\n",
       "        [1.        ],\n",
       "        [1.        ]],\n",
       "\n",
       "       [[1.        ],\n",
       "        [1.        ],\n",
       "        [1.        ],\n",
       "        [1.        ],\n",
       "        [1.        ],\n",
       "        [1.        ],\n",
       "        [1.        ],\n",
       "        [1.        ],\n",
       "        [1.        ],\n",
       "        [1.        ],\n",
       "        [1.        ],\n",
       "        [1.        ],\n",
       "        [0.8627451 ],\n",
       "        [0.05490196],\n",
       "        [0.11764706],\n",
       "        [0.37254902],\n",
       "        [0.57647059],\n",
       "        [0.99607843],\n",
       "        [1.        ],\n",
       "        [1.        ],\n",
       "        [1.        ],\n",
       "        [1.        ],\n",
       "        [1.        ],\n",
       "        [1.        ],\n",
       "        [1.        ],\n",
       "        [1.        ],\n",
       "        [1.        ],\n",
       "        [1.        ]],\n",
       "\n",
       "       [[1.        ],\n",
       "        [1.        ],\n",
       "        [1.        ],\n",
       "        [1.        ],\n",
       "        [1.        ],\n",
       "        [1.        ],\n",
       "        [1.        ],\n",
       "        [1.        ],\n",
       "        [1.        ],\n",
       "        [1.        ],\n",
       "        [1.        ],\n",
       "        [1.        ],\n",
       "        [1.        ],\n",
       "        [0.68235294],\n",
       "        [0.05882353],\n",
       "        [0.00784314],\n",
       "        [0.00784314],\n",
       "        [0.53333333],\n",
       "        [0.90196078],\n",
       "        [1.        ],\n",
       "        [1.        ],\n",
       "        [1.        ],\n",
       "        [1.        ],\n",
       "        [1.        ],\n",
       "        [1.        ],\n",
       "        [1.        ],\n",
       "        [1.        ],\n",
       "        [1.        ]],\n",
       "\n",
       "       [[1.        ],\n",
       "        [1.        ],\n",
       "        [1.        ],\n",
       "        [1.        ],\n",
       "        [1.        ],\n",
       "        [1.        ],\n",
       "        [1.        ],\n",
       "        [1.        ],\n",
       "        [1.        ],\n",
       "        [1.        ],\n",
       "        [1.        ],\n",
       "        [1.        ],\n",
       "        [1.        ],\n",
       "        [1.        ],\n",
       "        [0.82352941],\n",
       "        [0.27058824],\n",
       "        [0.00784314],\n",
       "        [0.00784314],\n",
       "        [0.41176471],\n",
       "        [0.89411765],\n",
       "        [1.        ],\n",
       "        [1.        ],\n",
       "        [1.        ],\n",
       "        [1.        ],\n",
       "        [1.        ],\n",
       "        [1.        ],\n",
       "        [1.        ],\n",
       "        [1.        ]],\n",
       "\n",
       "       [[1.        ],\n",
       "        [1.        ],\n",
       "        [1.        ],\n",
       "        [1.        ],\n",
       "        [1.        ],\n",
       "        [1.        ],\n",
       "        [1.        ],\n",
       "        [1.        ],\n",
       "        [1.        ],\n",
       "        [1.        ],\n",
       "        [1.        ],\n",
       "        [1.        ],\n",
       "        [1.        ],\n",
       "        [1.        ],\n",
       "        [1.        ],\n",
       "        [0.9372549 ],\n",
       "        [0.63529412],\n",
       "        [0.01176471],\n",
       "        [0.00784314],\n",
       "        [0.26666667],\n",
       "        [1.        ],\n",
       "        [1.        ],\n",
       "        [1.        ],\n",
       "        [1.        ],\n",
       "        [1.        ],\n",
       "        [1.        ],\n",
       "        [1.        ],\n",
       "        [1.        ]],\n",
       "\n",
       "       [[1.        ],\n",
       "        [1.        ],\n",
       "        [1.        ],\n",
       "        [1.        ],\n",
       "        [1.        ],\n",
       "        [1.        ],\n",
       "        [1.        ],\n",
       "        [1.        ],\n",
       "        [1.        ],\n",
       "        [1.        ],\n",
       "        [1.        ],\n",
       "        [1.        ],\n",
       "        [1.        ],\n",
       "        [1.        ],\n",
       "        [1.        ],\n",
       "        [1.        ],\n",
       "        [1.        ],\n",
       "        [0.02352941],\n",
       "        [0.00784314],\n",
       "        [0.02352941],\n",
       "        [0.74901961],\n",
       "        [1.        ],\n",
       "        [1.        ],\n",
       "        [1.        ],\n",
       "        [1.        ],\n",
       "        [1.        ],\n",
       "        [1.        ],\n",
       "        [1.        ]],\n",
       "\n",
       "       [[1.        ],\n",
       "        [1.        ],\n",
       "        [1.        ],\n",
       "        [1.        ],\n",
       "        [1.        ],\n",
       "        [1.        ],\n",
       "        [1.        ],\n",
       "        [1.        ],\n",
       "        [1.        ],\n",
       "        [1.        ],\n",
       "        [1.        ],\n",
       "        [1.        ],\n",
       "        [1.        ],\n",
       "        [1.        ],\n",
       "        [0.81960784],\n",
       "        [0.49019608],\n",
       "        [0.28235294],\n",
       "        [0.00784314],\n",
       "        [0.00784314],\n",
       "        [0.18823529],\n",
       "        [0.99215686],\n",
       "        [1.        ],\n",
       "        [1.        ],\n",
       "        [1.        ],\n",
       "        [1.        ],\n",
       "        [1.        ],\n",
       "        [1.        ],\n",
       "        [1.        ]],\n",
       "\n",
       "       [[1.        ],\n",
       "        [1.        ],\n",
       "        [1.        ],\n",
       "        [1.        ],\n",
       "        [1.        ],\n",
       "        [1.        ],\n",
       "        [1.        ],\n",
       "        [1.        ],\n",
       "        [1.        ],\n",
       "        [1.        ],\n",
       "        [1.        ],\n",
       "        [1.        ],\n",
       "        [0.84705882],\n",
       "        [0.41960784],\n",
       "        [0.10196078],\n",
       "        [0.00784314],\n",
       "        [0.00784314],\n",
       "        [0.00784314],\n",
       "        [0.01960784],\n",
       "        [0.28627451],\n",
       "        [1.        ],\n",
       "        [1.        ],\n",
       "        [1.        ],\n",
       "        [1.        ],\n",
       "        [1.        ],\n",
       "        [1.        ],\n",
       "        [1.        ],\n",
       "        [1.        ]],\n",
       "\n",
       "       [[1.        ],\n",
       "        [1.        ],\n",
       "        [1.        ],\n",
       "        [1.        ],\n",
       "        [1.        ],\n",
       "        [1.        ],\n",
       "        [1.        ],\n",
       "        [1.        ],\n",
       "        [1.        ],\n",
       "        [1.        ],\n",
       "        [0.90588235],\n",
       "        [0.55294118],\n",
       "        [0.13333333],\n",
       "        [0.00784314],\n",
       "        [0.00784314],\n",
       "        [0.00784314],\n",
       "        [0.00784314],\n",
       "        [0.21176471],\n",
       "        [0.69411765],\n",
       "        [1.        ],\n",
       "        [1.        ],\n",
       "        [1.        ],\n",
       "        [1.        ],\n",
       "        [1.        ],\n",
       "        [1.        ],\n",
       "        [1.        ],\n",
       "        [1.        ],\n",
       "        [1.        ]],\n",
       "\n",
       "       [[1.        ],\n",
       "        [1.        ],\n",
       "        [1.        ],\n",
       "        [1.        ],\n",
       "        [1.        ],\n",
       "        [1.        ],\n",
       "        [1.        ],\n",
       "        [1.        ],\n",
       "        [0.90980392],\n",
       "        [0.74117647],\n",
       "        [0.16470588],\n",
       "        [0.00784314],\n",
       "        [0.00784314],\n",
       "        [0.00784314],\n",
       "        [0.00784314],\n",
       "        [0.22352941],\n",
       "        [0.68235294],\n",
       "        [0.99215686],\n",
       "        [1.        ],\n",
       "        [1.        ],\n",
       "        [1.        ],\n",
       "        [1.        ],\n",
       "        [1.        ],\n",
       "        [1.        ],\n",
       "        [1.        ],\n",
       "        [1.        ],\n",
       "        [1.        ],\n",
       "        [1.        ]],\n",
       "\n",
       "       [[1.        ],\n",
       "        [1.        ],\n",
       "        [1.        ],\n",
       "        [1.        ],\n",
       "        [1.        ],\n",
       "        [1.        ],\n",
       "        [0.92941176],\n",
       "        [0.32941176],\n",
       "        [0.14117647],\n",
       "        [0.00784314],\n",
       "        [0.00784314],\n",
       "        [0.00784314],\n",
       "        [0.00784314],\n",
       "        [0.23529412],\n",
       "        [0.68627451],\n",
       "        [0.96470588],\n",
       "        [1.        ],\n",
       "        [1.        ],\n",
       "        [1.        ],\n",
       "        [1.        ],\n",
       "        [1.        ],\n",
       "        [1.        ],\n",
       "        [1.        ],\n",
       "        [1.        ],\n",
       "        [1.        ],\n",
       "        [1.        ],\n",
       "        [1.        ],\n",
       "        [1.        ]],\n",
       "\n",
       "       [[1.        ],\n",
       "        [1.        ],\n",
       "        [1.        ],\n",
       "        [1.        ],\n",
       "        [0.78431373],\n",
       "        [0.3254902 ],\n",
       "        [0.11372549],\n",
       "        [0.00784314],\n",
       "        [0.00784314],\n",
       "        [0.00784314],\n",
       "        [0.00784314],\n",
       "        [0.04313725],\n",
       "        [0.47843137],\n",
       "        [0.95686275],\n",
       "        [1.        ],\n",
       "        [1.        ],\n",
       "        [1.        ],\n",
       "        [1.        ],\n",
       "        [1.        ],\n",
       "        [1.        ],\n",
       "        [1.        ],\n",
       "        [1.        ],\n",
       "        [1.        ],\n",
       "        [1.        ],\n",
       "        [1.        ],\n",
       "        [1.        ],\n",
       "        [1.        ],\n",
       "        [1.        ]],\n",
       "\n",
       "       [[1.        ],\n",
       "        [1.        ],\n",
       "        [1.        ],\n",
       "        [1.        ],\n",
       "        [0.46666667],\n",
       "        [0.00784314],\n",
       "        [0.00784314],\n",
       "        [0.00784314],\n",
       "        [0.16862745],\n",
       "        [0.47058824],\n",
       "        [0.48235294],\n",
       "        [0.9372549 ],\n",
       "        [1.        ],\n",
       "        [1.        ],\n",
       "        [1.        ],\n",
       "        [1.        ],\n",
       "        [1.        ],\n",
       "        [1.        ],\n",
       "        [1.        ],\n",
       "        [1.        ],\n",
       "        [1.        ],\n",
       "        [1.        ],\n",
       "        [1.        ],\n",
       "        [1.        ],\n",
       "        [1.        ],\n",
       "        [1.        ],\n",
       "        [1.        ],\n",
       "        [1.        ]],\n",
       "\n",
       "       [[1.        ],\n",
       "        [1.        ],\n",
       "        [1.        ],\n",
       "        [1.        ],\n",
       "        [1.        ],\n",
       "        [1.        ],\n",
       "        [1.        ],\n",
       "        [1.        ],\n",
       "        [1.        ],\n",
       "        [1.        ],\n",
       "        [1.        ],\n",
       "        [1.        ],\n",
       "        [1.        ],\n",
       "        [1.        ],\n",
       "        [1.        ],\n",
       "        [1.        ],\n",
       "        [1.        ],\n",
       "        [1.        ],\n",
       "        [1.        ],\n",
       "        [1.        ],\n",
       "        [1.        ],\n",
       "        [1.        ],\n",
       "        [1.        ],\n",
       "        [1.        ],\n",
       "        [1.        ],\n",
       "        [1.        ],\n",
       "        [1.        ],\n",
       "        [1.        ]],\n",
       "\n",
       "       [[1.        ],\n",
       "        [1.        ],\n",
       "        [1.        ],\n",
       "        [1.        ],\n",
       "        [1.        ],\n",
       "        [1.        ],\n",
       "        [1.        ],\n",
       "        [1.        ],\n",
       "        [1.        ],\n",
       "        [1.        ],\n",
       "        [1.        ],\n",
       "        [1.        ],\n",
       "        [1.        ],\n",
       "        [1.        ],\n",
       "        [1.        ],\n",
       "        [1.        ],\n",
       "        [1.        ],\n",
       "        [1.        ],\n",
       "        [1.        ],\n",
       "        [1.        ],\n",
       "        [1.        ],\n",
       "        [1.        ],\n",
       "        [1.        ],\n",
       "        [1.        ],\n",
       "        [1.        ],\n",
       "        [1.        ],\n",
       "        [1.        ],\n",
       "        [1.        ]],\n",
       "\n",
       "       [[1.        ],\n",
       "        [1.        ],\n",
       "        [1.        ],\n",
       "        [1.        ],\n",
       "        [1.        ],\n",
       "        [1.        ],\n",
       "        [1.        ],\n",
       "        [1.        ],\n",
       "        [1.        ],\n",
       "        [1.        ],\n",
       "        [1.        ],\n",
       "        [1.        ],\n",
       "        [1.        ],\n",
       "        [1.        ],\n",
       "        [1.        ],\n",
       "        [1.        ],\n",
       "        [1.        ],\n",
       "        [1.        ],\n",
       "        [1.        ],\n",
       "        [1.        ],\n",
       "        [1.        ],\n",
       "        [1.        ],\n",
       "        [1.        ],\n",
       "        [1.        ],\n",
       "        [1.        ],\n",
       "        [1.        ],\n",
       "        [1.        ],\n",
       "        [1.        ]]])"
      ]
     },
     "execution_count": 52,
     "metadata": {},
     "output_type": "execute_result"
    }
   ],
   "source": [
    "x_train[0]"
   ]
  },
  {
   "cell_type": "code",
   "execution_count": 53,
   "metadata": {},
   "outputs": [],
   "source": [
    "model = kr.models.Sequential()\n",
    "model.add(kr.layers.Conv2D(64,kernel_size=(7, 7),activation='relu',input_shape=(28,28,1)))\n",
    "model.add(kr.layers.Conv2D(64,kernel_size=(7, 7),activation='relu',input_shape=(28,28,1)))\n",
    "model.add(kr.layers.MaxPooling2D(pool_size=(2, 2),))\n",
    "model.add(kr.layers.Conv2D(128,kernel_size=(5, 5),activation='relu'))\n",
    "model.add(kr.layers.Conv2D(256,kernel_size=(3, 3),activation='relu'))\n",
    "model.add(kr.layers.MaxPooling2D(pool_size=(2, 2),))\n",
    "model.add(kr.layers.Flatten())\n",
    "model.add(kr.layers.Dropout(0.25))\n",
    "model.add(kr.layers.Dense(units=98, activation='relu'))\n",
    "model.add(kr.layers.Dropout(0.1))\n",
    "model.add(kr.layers.Dense(units=10, activation='softmax'))\n",
    "model.compile(loss='categorical_crossentropy',optimizer='adam', metrics=['accuracy'])"
   ]
  },
  {
   "cell_type": "code",
   "execution_count": 54,
   "metadata": {
    "scrolled": true
   },
   "outputs": [
    {
     "name": "stdout",
     "output_type": "stream",
     "text": [
      "Train on 60000 samples, validate on 10000 samples\n",
      "Epoch 1/10\n",
      "60000/60000 [==============================] - 8s 133us/step - loss: 0.2215 - accuracy: 0.9296 - val_loss: 0.0321 - val_accuracy: 0.9855\n",
      "epoch: 0,history_callback.0.9854999780654907\n",
      "0.9854999780654907\n",
      "saved\n",
      "Epoch 2/10\n",
      "60000/60000 [==============================] - 5s 90us/step - loss: 0.0592 - accuracy: 0.9828 - val_loss: 0.0429 - val_accuracy: 0.9844\n",
      "epoch: 1,history_callback.0.9843999743461609\n",
      "Epoch 3/10\n",
      "60000/60000 [==============================] - 5s 90us/step - loss: 0.0439 - accuracy: 0.9872 - val_loss: 0.0250 - val_accuracy: 0.9873\n",
      "epoch: 2,history_callback.0.9872999787330627\n",
      "0.9872999787330627\n",
      "saved\n",
      "Epoch 4/10\n",
      "60000/60000 [==============================] - 5s 90us/step - loss: 0.0355 - accuracy: 0.9900 - val_loss: 0.0194 - val_accuracy: 0.9905\n",
      "epoch: 3,history_callback.0.9904999732971191\n",
      "0.9904999732971191\n",
      "saved\n",
      "Epoch 5/10\n",
      "60000/60000 [==============================] - 5s 91us/step - loss: 0.0279 - accuracy: 0.9926 - val_loss: 0.0311 - val_accuracy: 0.9899\n",
      "epoch: 4,history_callback.0.9898999929428101\n",
      "Epoch 6/10\n",
      "60000/60000 [==============================] - 5s 91us/step - loss: 0.0253 - accuracy: 0.9926 - val_loss: 0.0290 - val_accuracy: 0.9885\n",
      "epoch: 5,history_callback.0.9884999990463257\n",
      "Epoch 7/10\n",
      "60000/60000 [==============================] - 5s 91us/step - loss: 0.0236 - accuracy: 0.9930 - val_loss: 0.0267 - val_accuracy: 0.9908\n",
      "epoch: 6,history_callback.0.9908000230789185\n",
      "0.9908000230789185\n",
      "saved\n",
      "Epoch 8/10\n",
      "60000/60000 [==============================] - 5s 90us/step - loss: 0.0182 - accuracy: 0.9946 - val_loss: 0.0259 - val_accuracy: 0.9923\n",
      "epoch: 7,history_callback.0.9922999739646912\n",
      "0.9922999739646912\n",
      "saved\n",
      "Epoch 9/10\n",
      "60000/60000 [==============================] - 5s 91us/step - loss: 0.0184 - accuracy: 0.9947 - val_loss: 0.0233 - val_accuracy: 0.9920\n",
      "epoch: 8,history_callback.0.9919999837875366\n",
      "Epoch 10/10\n",
      "60000/60000 [==============================] - 5s 90us/step - loss: 0.0146 - accuracy: 0.9956 - val_loss: 0.0244 - val_accuracy: 0.9910\n",
      "epoch: 9,history_callback.0.9909999966621399\n"
     ]
    }
   ],
   "source": [
    "epoch = 10\n",
    "history_callback = model.fit(x_train, y_train, validation_data=(x_test,y_test), epochs=epoch, batch_size=100\n",
    "                             , callbacks=[cbk])"
   ]
  },
  {
   "cell_type": "code",
   "execution_count": 55,
   "metadata": {},
   "outputs": [
    {
     "data": {
      "text/plain": [
       "[0.02594072594717145, 0.9922999739646912]"
      ]
     },
     "execution_count": 55,
     "metadata": {},
     "output_type": "execute_result"
    }
   ],
   "source": [
    "score = kr.models.load_model('./model1.h5').evaluate(x_test, y_test, verbose=0)\n",
    "score"
   ]
  },
  {
   "cell_type": "code",
   "execution_count": 56,
   "metadata": {},
   "outputs": [],
   "source": [
    "model = kr.models.Sequential()\n",
    "model.add(kr.layers.Conv2D(64,kernel_size=(7, 7),activation='relu',input_shape=(28,28,1)))\n",
    "kr.layers.BatchNormalization(axis=-1)\n",
    "model.add(kr.layers.Conv2D(64,kernel_size=(7, 7),activation='relu',input_shape=(28,28,1)))\n",
    "kr.layers.BatchNormalization(axis=-1)\n",
    "model.add(kr.layers.MaxPooling2D(pool_size=(2, 2),))\n",
    "model.add(kr.layers.Conv2D(128,kernel_size=(5, 5),activation='relu'))\n",
    "kr.layers.BatchNormalization(axis=-1)\n",
    "model.add(kr.layers.Conv2D(256,kernel_size=(3, 3),activation='relu'))\n",
    "model.add(kr.layers.MaxPooling2D(pool_size=(2, 2),))\n",
    "model.add(kr.layers.Flatten())\n",
    "model.add(kr.layers.Dropout(0.25))\n",
    "model.add(kr.layers.Dense(units=98, activation='relu'))\n",
    "model.add(kr.layers.Dropout(0.1))\n",
    "model.add(kr.layers.Dense(units=10, activation='softmax'))\n",
    "model.compile(loss='categorical_crossentropy',optimizer='adam', metrics=['accuracy'])"
   ]
  },
  {
   "cell_type": "code",
   "execution_count": 57,
   "metadata": {},
   "outputs": [
    {
     "name": "stdout",
     "output_type": "stream",
     "text": [
      "Train on 60000 samples, validate on 10000 samples\n",
      "Epoch 1/10\n",
      "60000/60000 [==============================] - 6s 94us/step - loss: 0.2180 - accuracy: 0.9316 - val_loss: 0.0312 - val_accuracy: 0.9838\n",
      "epoch: 0,history_callback.0.9837999939918518\n",
      "Epoch 2/10\n",
      "60000/60000 [==============================] - 5s 90us/step - loss: 0.0618 - accuracy: 0.9826 - val_loss: 0.0265 - val_accuracy: 0.9877\n",
      "epoch: 1,history_callback.0.9876999855041504\n",
      "Epoch 3/10\n",
      "60000/60000 [==============================] - 5s 90us/step - loss: 0.0448 - accuracy: 0.9867 - val_loss: 0.0336 - val_accuracy: 0.9870\n",
      "epoch: 2,history_callback.0.9869999885559082\n",
      "Epoch 4/10\n",
      "60000/60000 [==============================] - 5s 90us/step - loss: 0.0366 - accuracy: 0.9889 - val_loss: 0.0195 - val_accuracy: 0.9924\n",
      "epoch: 3,history_callback.0.9923999905586243\n",
      "0.9923999905586243\n",
      "saved\n",
      "Epoch 5/10\n",
      "60000/60000 [==============================] - 5s 90us/step - loss: 0.0305 - accuracy: 0.9908 - val_loss: 0.0461 - val_accuracy: 0.9851\n",
      "epoch: 4,history_callback.0.9850999712944031\n",
      "Epoch 6/10\n",
      "60000/60000 [==============================] - 5s 90us/step - loss: 0.0288 - accuracy: 0.9921 - val_loss: 0.0329 - val_accuracy: 0.9904\n",
      "epoch: 5,history_callback.0.9904000163078308\n",
      "Epoch 7/10\n",
      "60000/60000 [==============================] - 5s 91us/step - loss: 0.0232 - accuracy: 0.9930 - val_loss: 0.0232 - val_accuracy: 0.9915\n",
      "epoch: 6,history_callback.0.9915000200271606\n",
      "Epoch 8/10\n",
      "60000/60000 [==============================] - 5s 91us/step - loss: 0.0208 - accuracy: 0.9941 - val_loss: 0.0192 - val_accuracy: 0.9933\n",
      "epoch: 7,history_callback.0.9933000206947327\n",
      "0.9933000206947327\n",
      "saved\n",
      "Epoch 9/10\n",
      "60000/60000 [==============================] - 5s 90us/step - loss: 0.0194 - accuracy: 0.9942 - val_loss: 0.0206 - val_accuracy: 0.9926\n",
      "epoch: 8,history_callback.0.9926000237464905\n",
      "Epoch 10/10\n",
      "60000/60000 [==============================] - 5s 90us/step - loss: 0.0160 - accuracy: 0.9953 - val_loss: 0.0249 - val_accuracy: 0.9920\n",
      "epoch: 9,history_callback.0.9919999837875366\n"
     ]
    }
   ],
   "source": [
    "epoch = 10\n",
    "history_callback = model.fit(x_train, y_train, validation_data=(x_test,y_test), epochs=epoch, batch_size=100\n",
    "                             , callbacks=[cbk])"
   ]
  },
  {
   "cell_type": "code",
   "execution_count": 60,
   "metadata": {},
   "outputs": [
    {
     "data": {
      "text/plain": [
       "[0.019230645605176688, 0.9933000206947327]"
      ]
     },
     "execution_count": 60,
     "metadata": {},
     "output_type": "execute_result"
    }
   ],
   "source": [
    "score = kr.models.load_model('./model1.h5').evaluate(x_test, y_test, verbose=0)\n",
    "score"
   ]
  },
  {
   "cell_type": "code",
   "execution_count": 70,
   "metadata": {},
   "outputs": [
    {
     "name": "stdout",
     "output_type": "stream",
     "text": [
      "Model: \"sequential_10\"\n",
      "_________________________________________________________________\n",
      "Layer (type)                 Output Shape              Param #   \n",
      "=================================================================\n",
      "conv2d_19 (Conv2D)           (None, 22, 22, 64)        3200      \n",
      "_________________________________________________________________\n",
      "conv2d_20 (Conv2D)           (None, 16, 16, 128)       401536    \n",
      "_________________________________________________________________\n",
      "conv2d_21 (Conv2D)           (None, 10, 10, 256)       1605888   \n",
      "_________________________________________________________________\n",
      "max_pooling2d_9 (MaxPooling2 (None, 1, 1, 256)         0         \n",
      "_________________________________________________________________\n",
      "dropout_10 (Dropout)         (None, 1, 1, 256)         0         \n",
      "_________________________________________________________________\n",
      "flatten_4 (Flatten)          (None, 256)               0         \n",
      "_________________________________________________________________\n",
      "dense_13 (Dense)             (None, 10)                2570      \n",
      "=================================================================\n",
      "Total params: 2,013,194\n",
      "Trainable params: 2,013,194\n",
      "Non-trainable params: 0\n",
      "_________________________________________________________________\n"
     ]
    }
   ],
   "source": [
    "model = kr.models.Sequential()\n",
    "model.add(kr.layers.Conv2D(32,kernel_size=(3, 3),activation='relu',input_shape=(28,28,1)))\n",
    "model.add(kr.layers.Conv2D(64,kernel_size=(3, 3),activation='relu'))\n",
    "model.add(kr.layers.Conv2D(128,kernel_size=(3, 3),activation='relu'))\n",
    "model.add(kr.layers.Conv2D(256,kernel_size=(5, 3),activation='relu'))\n",
    "model.add(Dropout(0.05))\n",
    "model.add(kr.layers.Conv2D(128, (3, 3), activation='relu'))\n",
    "model.add(kr.layers.MaxPooling2D(pool_size=(2, 2),))\n",
    "model.add(kr.layers.Dropout(0.25))\n",
    "model.add(kr.layers.Flatten())\n",
    "model.add(kr.layers.Dense(units=10, activation='softmax'))\n",
    " \n",
    "model.compile(loss=kr.losses.categorical_crossentropy,optimizer='adadelta',metrics=['accuracy'])\n",
    "model.summary()\n",
    " \n",
    "\n"
   ]
  },
  {
   "cell_type": "code",
   "execution_count": 71,
   "metadata": {},
   "outputs": [],
   "source": [
    "from keras.preprocessing.image import ImageDataGenerator"
   ]
  },
  {
   "cell_type": "code",
   "execution_count": 72,
   "metadata": {},
   "outputs": [],
   "source": [
    "gen = ImageDataGenerator(rotation_range=8, width_shift_range=0.08, shear_range=0.3,\n",
    "                         height_shift_range=0.08, zoom_range=0.08)\n",
    "test_gen = ImageDataGenerator()"
   ]
  },
  {
   "cell_type": "code",
   "execution_count": 73,
   "metadata": {},
   "outputs": [],
   "source": [
    "train_generator = gen.flow(x_train, y_train, batch_size=64)\n",
    "test_generator = test_gen.flow(x_test, y_test, batch_size=64)"
   ]
  },
  {
   "cell_type": "code",
   "execution_count": 74,
   "metadata": {},
   "outputs": [
    {
     "name": "stdout",
     "output_type": "stream",
     "text": [
      "Epoch 1/60\n",
      "937/937 [==============================] - 12s 13ms/step - loss: 0.3090 - accuracy: 0.9024 - val_loss: 0.0084 - val_accuracy: 0.9865\n",
      "epoch: 0,history_callback.0.9864783883094788\n",
      "Epoch 2/60\n",
      "937/937 [==============================] - 12s 13ms/step - loss: 0.0849 - accuracy: 0.9744 - val_loss: 0.0000e+00 - val_accuracy: 0.9935\n",
      "epoch: 1,history_callback.0.9934581518173218\n",
      "Epoch 3/60\n",
      "937/937 [==============================] - 12s 13ms/step - loss: 0.0634 - accuracy: 0.9812 - val_loss: 0.0000e+00 - val_accuracy: 0.9923\n",
      "epoch: 2,history_callback.0.992250382900238\n",
      "Epoch 4/60\n",
      "937/937 [==============================] - 12s 13ms/step - loss: 0.0521 - accuracy: 0.9847 - val_loss: 0.0000e+00 - val_accuracy: 0.9933\n",
      "epoch: 3,history_callback.0.9932568669319153\n",
      "Epoch 5/60\n",
      "937/937 [==============================] - 12s 13ms/step - loss: 0.0444 - accuracy: 0.9873 - val_loss: 0.0000e+00 - val_accuracy: 0.9918\n",
      "epoch: 4,history_callback.0.991847813129425\n",
      "Epoch 6/60\n",
      "937/937 [==============================] - 12s 13ms/step - loss: 0.0414 - accuracy: 0.9883 - val_loss: 0.0000e+00 - val_accuracy: 0.9931\n",
      "epoch: 5,history_callback.0.9930555820465088\n",
      "Epoch 7/60\n",
      "937/937 [==============================] - 12s 13ms/step - loss: 0.0387 - accuracy: 0.9886 - val_loss: 0.0000e+00 - val_accuracy: 0.9929\n",
      "epoch: 6,history_callback.0.9928542375564575\n",
      "Epoch 8/60\n",
      "937/937 [==============================] - 12s 13ms/step - loss: 0.0338 - accuracy: 0.9900 - val_loss: 0.2301 - val_accuracy: 0.9952\n",
      "epoch: 7,history_callback.0.9951691031455994\n",
      "Epoch 9/60\n",
      "937/937 [==============================] - 12s 13ms/step - loss: 0.0326 - accuracy: 0.9901 - val_loss: 0.0238 - val_accuracy: 0.9936\n",
      "epoch: 8,history_callback.0.9935587644577026\n",
      "Epoch 10/60\n",
      "937/937 [==============================] - 12s 13ms/step - loss: 0.0295 - accuracy: 0.9917 - val_loss: 0.0179 - val_accuracy: 0.9920\n",
      "epoch: 9,history_callback.0.9920490980148315\n",
      "Epoch 11/60\n",
      "937/937 [==============================] - 12s 13ms/step - loss: 0.0294 - accuracy: 0.9918 - val_loss: 0.0000e+00 - val_accuracy: 0.9947\n",
      "epoch: 10,history_callback.0.9946658611297607\n",
      "Epoch 12/60\n",
      "937/937 [==============================] - 12s 13ms/step - loss: 0.0267 - accuracy: 0.9921 - val_loss: 0.0584 - val_accuracy: 0.9921\n",
      "epoch: 11,history_callback.0.9921497702598572\n",
      "Epoch 13/60\n",
      "937/937 [==============================] - 12s 13ms/step - loss: 0.0252 - accuracy: 0.9927 - val_loss: 0.0000e+00 - val_accuracy: 0.9955\n",
      "epoch: 12,history_callback.0.9954710006713867\n",
      "Epoch 14/60\n",
      "937/937 [==============================] - 12s 13ms/step - loss: 0.0227 - accuracy: 0.9931 - val_loss: 0.0000e+00 - val_accuracy: 0.9939\n",
      "epoch: 13,history_callback.0.9938607215881348\n",
      "Epoch 15/60\n",
      "937/937 [==============================] - 12s 13ms/step - loss: 0.0235 - accuracy: 0.9934 - val_loss: 0.0143 - val_accuracy: 0.9949\n",
      "epoch: 14,history_callback.0.9948671460151672\n",
      "Epoch 16/60\n",
      "937/937 [==============================] - 12s 12ms/step - loss: 0.0222 - accuracy: 0.9938 - val_loss: 0.0000e+00 - val_accuracy: 0.9947\n",
      "epoch: 15,history_callback.0.9946658611297607\n",
      "Epoch 17/60\n",
      "937/937 [==============================] - 12s 13ms/step - loss: 0.0210 - accuracy: 0.9939 - val_loss: 0.0000e+00 - val_accuracy: 0.9948\n",
      "epoch: 16,history_callback.0.9947665333747864\n",
      "Epoch 18/60\n",
      "937/937 [==============================] - 12s 13ms/step - loss: 0.0221 - accuracy: 0.9938 - val_loss: 0.0000e+00 - val_accuracy: 0.9952\n",
      "epoch: 17,history_callback.0.9951691031455994\n",
      "Epoch 19/60\n",
      "937/937 [==============================] - 12s 12ms/step - loss: 0.0209 - accuracy: 0.9943 - val_loss: 0.0000e+00 - val_accuracy: 0.9943\n",
      "epoch: 18,history_callback.0.9942632913589478\n",
      "Epoch 20/60\n",
      "937/937 [==============================] - 12s 13ms/step - loss: 0.0196 - accuracy: 0.9946 - val_loss: 0.0000e+00 - val_accuracy: 0.9944\n",
      "epoch: 19,history_callback.0.9943639039993286\n",
      "Epoch 21/60\n",
      "937/937 [==============================] - 12s 13ms/step - loss: 0.0195 - accuracy: 0.9942 - val_loss: 0.0000e+00 - val_accuracy: 0.9930\n",
      "epoch: 20,history_callback.0.9929549098014832\n",
      "Epoch 22/60\n",
      "937/937 [==============================] - 12s 13ms/step - loss: 0.0189 - accuracy: 0.9949 - val_loss: 0.0000e+00 - val_accuracy: 0.9940\n",
      "epoch: 21,history_callback.0.9939613342285156\n",
      "Epoch 23/60\n",
      "937/937 [==============================] - 12s 13ms/step - loss: 0.0187 - accuracy: 0.9949 - val_loss: 0.0000e+00 - val_accuracy: 0.9947\n",
      "epoch: 22,history_callback.0.9946658611297607\n",
      "Epoch 24/60\n",
      "937/937 [==============================] - 12s 13ms/step - loss: 0.0177 - accuracy: 0.9948 - val_loss: 0.0000e+00 - val_accuracy: 0.9938\n",
      "epoch: 23,history_callback.0.9937600493431091\n",
      "Epoch 25/60\n",
      "937/937 [==============================] - 12s 13ms/step - loss: 0.0179 - accuracy: 0.9950 - val_loss: 0.0058 - val_accuracy: 0.9935\n",
      "epoch: 24,history_callback.0.9934581518173218\n",
      "Epoch 26/60\n",
      "937/937 [==============================] - 12s 13ms/step - loss: 0.0175 - accuracy: 0.9950 - val_loss: 0.0000e+00 - val_accuracy: 0.9950\n",
      "epoch: 25,history_callback.0.9949678182601929\n",
      "Epoch 27/60\n",
      "937/937 [==============================] - 12s 13ms/step - loss: 0.0168 - accuracy: 0.9954 - val_loss: 0.0000e+00 - val_accuracy: 0.9944\n",
      "epoch: 26,history_callback.0.9943639039993286\n",
      "Epoch 28/60\n",
      "937/937 [==============================] - 12s 13ms/step - loss: 0.0158 - accuracy: 0.9960 - val_loss: 0.0000e+00 - val_accuracy: 0.9936\n",
      "epoch: 27,history_callback.0.9935587644577026\n",
      "Epoch 29/60\n",
      "937/937 [==============================] - 12s 13ms/step - loss: 0.0156 - accuracy: 0.9955 - val_loss: 0.0000e+00 - val_accuracy: 0.9911\n",
      "epoch: 28,history_callback.0.9911433458328247\n",
      "Epoch 30/60\n",
      "937/937 [==============================] - 12s 13ms/step - loss: 0.0145 - accuracy: 0.9958 - val_loss: 0.0000e+00 - val_accuracy: 0.9949\n",
      "epoch: 29,history_callback.0.9948671460151672\n",
      "Epoch 31/60\n",
      "937/937 [==============================] - 12s 13ms/step - loss: 0.0151 - accuracy: 0.9957 - val_loss: 0.0367 - val_accuracy: 0.9926\n",
      "epoch: 30,history_callback.0.9925523400306702\n",
      "Epoch 32/60\n",
      "937/937 [==============================] - 12s 13ms/step - loss: 0.0135 - accuracy: 0.9961 - val_loss: 0.0000e+00 - val_accuracy: 0.9944\n",
      "epoch: 31,history_callback.0.9943639039993286\n",
      "Epoch 33/60\n",
      "937/937 [==============================] - 12s 13ms/step - loss: 0.0140 - accuracy: 0.9958 - val_loss: 0.0000e+00 - val_accuracy: 0.9941\n",
      "epoch: 32,history_callback.0.9940620064735413\n",
      "Epoch 34/60\n",
      "937/937 [==============================] - 12s 13ms/step - loss: 0.0143 - accuracy: 0.9963 - val_loss: 0.0000e+00 - val_accuracy: 0.9959\n",
      "epoch: 33,history_callback.0.9958735704421997\n",
      "0.9958735704421997\n",
      "saved\n",
      "Epoch 35/60\n",
      "937/937 [==============================] - 13s 13ms/step - loss: 0.0146 - accuracy: 0.9961 - val_loss: 0.0737 - val_accuracy: 0.9931\n",
      "epoch: 34,history_callback.0.9930555820465088\n",
      "Epoch 36/60\n",
      "937/937 [==============================] - 12s 13ms/step - loss: 0.0145 - accuracy: 0.9960 - val_loss: 0.0000e+00 - val_accuracy: 0.9933\n",
      "epoch: 35,history_callback.0.9932568669319153\n",
      "Epoch 37/60\n",
      "937/937 [==============================] - 12s 13ms/step - loss: 0.0139 - accuracy: 0.9959 - val_loss: 0.0000e+00 - val_accuracy: 0.9937\n",
      "epoch: 36,history_callback.0.9936594367027283\n",
      "Epoch 38/60\n",
      "937/937 [==============================] - 12s 13ms/step - loss: 0.0138 - accuracy: 0.9968 - val_loss: 0.0996 - val_accuracy: 0.9930\n",
      "epoch: 37,history_callback.0.9929549098014832\n",
      "Epoch 39/60\n",
      "937/937 [==============================] - 12s 13ms/step - loss: 0.0147 - accuracy: 0.9960 - val_loss: 0.0000e+00 - val_accuracy: 0.9942\n",
      "epoch: 38,history_callback.0.9941626191139221\n",
      "Epoch 40/60\n",
      "937/937 [==============================] - 12s 13ms/step - loss: 0.0120 - accuracy: 0.9967 - val_loss: 0.0191 - val_accuracy: 0.9926\n",
      "epoch: 39,history_callback.0.9925523400306702\n",
      "Epoch 41/60\n",
      "937/937 [==============================] - 12s 13ms/step - loss: 0.0135 - accuracy: 0.9964 - val_loss: 0.0000e+00 - val_accuracy: 0.9928\n",
      "epoch: 40,history_callback.0.9927536249160767\n",
      "Epoch 42/60\n",
      "937/937 [==============================] - 12s 13ms/step - loss: 0.0140 - accuracy: 0.9962 - val_loss: 0.0000e+00 - val_accuracy: 0.9932\n",
      "epoch: 41,history_callback.0.9931561946868896\n",
      "Epoch 43/60\n"
     ]
    },
    {
     "name": "stdout",
     "output_type": "stream",
     "text": [
      "937/937 [==============================] - 12s 13ms/step - loss: 0.0126 - accuracy: 0.9965 - val_loss: 0.0000e+00 - val_accuracy: 0.9952\n",
      "epoch: 42,history_callback.0.9951691031455994\n",
      "Epoch 44/60\n",
      "937/937 [==============================] - 12s 13ms/step - loss: 0.0121 - accuracy: 0.9966 - val_loss: 0.0000e+00 - val_accuracy: 0.9935\n",
      "epoch: 43,history_callback.0.9934581518173218\n",
      "Epoch 45/60\n",
      "937/937 [==============================] - 12s 13ms/step - loss: 0.0133 - accuracy: 0.9968 - val_loss: 0.1511 - val_accuracy: 0.9943\n",
      "epoch: 44,history_callback.0.9942632913589478\n",
      "Epoch 46/60\n",
      "937/937 [==============================] - 13s 13ms/step - loss: 0.0128 - accuracy: 0.9969 - val_loss: 0.0223 - val_accuracy: 0.9932\n",
      "epoch: 45,history_callback.0.9931561946868896\n",
      "Epoch 47/60\n",
      "937/937 [==============================] - 12s 13ms/step - loss: 0.0122 - accuracy: 0.9968 - val_loss: 0.0000e+00 - val_accuracy: 0.9926\n",
      "epoch: 46,history_callback.0.9925523400306702\n",
      "Epoch 48/60\n",
      "937/937 [==============================] - 12s 13ms/step - loss: 0.0129 - accuracy: 0.9963 - val_loss: 0.0295 - val_accuracy: 0.9945\n",
      "epoch: 47,history_callback.0.9944645762443542\n",
      "Epoch 49/60\n",
      "937/937 [==============================] - 12s 13ms/step - loss: 0.0118 - accuracy: 0.9968 - val_loss: 0.0488 - val_accuracy: 0.9934\n",
      "epoch: 48,history_callback.0.9933574795722961\n",
      "Epoch 50/60\n",
      "937/937 [==============================] - 12s 13ms/step - loss: 0.0115 - accuracy: 0.9968 - val_loss: 0.0000e+00 - val_accuracy: 0.9938\n",
      "epoch: 49,history_callback.0.9937600493431091\n",
      "Epoch 51/60\n",
      "937/937 [==============================] - 12s 13ms/step - loss: 0.0136 - accuracy: 0.9964 - val_loss: 0.0000e+00 - val_accuracy: 0.9930\n",
      "epoch: 50,history_callback.0.9929549098014832\n",
      "Epoch 52/60\n",
      "937/937 [==============================] - 12s 13ms/step - loss: 0.0122 - accuracy: 0.9970 - val_loss: 0.0687 - val_accuracy: 0.9908\n",
      "epoch: 51,history_callback.0.9908413887023926\n",
      "Epoch 53/60\n",
      "937/937 [==============================] - 12s 13ms/step - loss: 0.0111 - accuracy: 0.9973 - val_loss: 0.0000e+00 - val_accuracy: 0.9937\n",
      "epoch: 52,history_callback.0.9936594367027283\n",
      "Epoch 54/60\n",
      "937/937 [==============================] - 12s 13ms/step - loss: 0.0114 - accuracy: 0.9968 - val_loss: 0.6625 - val_accuracy: 0.9903\n",
      "epoch: 53,history_callback.0.990338146686554\n",
      "Epoch 55/60\n",
      "937/937 [==============================] - 12s 13ms/step - loss: 0.0114 - accuracy: 0.9968 - val_loss: 0.0000e+00 - val_accuracy: 0.9910\n",
      "epoch: 54,history_callback.0.9910426735877991\n",
      "Epoch 56/60\n",
      "937/937 [==============================] - 12s 13ms/step - loss: 0.0130 - accuracy: 0.9967 - val_loss: 0.0000e+00 - val_accuracy: 0.9939\n",
      "epoch: 55,history_callback.0.9938607215881348\n",
      "Epoch 57/60\n",
      "937/937 [==============================] - 12s 13ms/step - loss: 0.0119 - accuracy: 0.9967 - val_loss: 0.0000e+00 - val_accuracy: 0.9945\n",
      "epoch: 56,history_callback.0.9944645762443542\n",
      "Epoch 58/60\n",
      "937/937 [==============================] - 12s 13ms/step - loss: 0.0104 - accuracy: 0.9976 - val_loss: 0.0000e+00 - val_accuracy: 0.9929\n",
      "epoch: 57,history_callback.0.9928542375564575\n",
      "Epoch 59/60\n",
      "937/937 [==============================] - 12s 13ms/step - loss: 0.0121 - accuracy: 0.9969 - val_loss: 0.1404 - val_accuracy: 0.9940\n",
      "epoch: 58,history_callback.0.9939613342285156\n",
      "Epoch 60/60\n",
      "937/937 [==============================] - 12s 13ms/step - loss: 0.0112 - accuracy: 0.9975 - val_loss: 0.0185 - val_accuracy: 0.9937\n",
      "epoch: 59,history_callback.0.9936594367027283\n"
     ]
    }
   ],
   "source": [
    "epoch =60\n",
    "history_callback= model.fit_generator(train_generator, steps_per_epoch=60000//64, epochs=epoch, \n",
    "                    validation_data=test_generator, validation_steps=10000//64, callbacks=[cbk])"
   ]
  },
  {
   "cell_type": "code",
   "execution_count": 75,
   "metadata": {},
   "outputs": [
    {
     "data": {
      "text/plain": [
       "[0.02317712261080742, 0.9957000017166138]"
      ]
     },
     "execution_count": 75,
     "metadata": {},
     "output_type": "execute_result"
    }
   ],
   "source": [
    "score = kr.models.load_model('./model1.h5').evaluate(x_test, y_test, verbose=0)\n",
    "score"
   ]
  },
  {
   "cell_type": "code",
   "execution_count": null,
   "metadata": {},
   "outputs": [],
   "source": []
  }
 ],
 "metadata": {
  "kernelspec": {
   "display_name": "Python 3",
   "language": "python",
   "name": "python3"
  },
  "language_info": {
   "codemirror_mode": {
    "name": "ipython",
    "version": 3
   },
   "file_extension": ".py",
   "mimetype": "text/x-python",
   "name": "python",
   "nbconvert_exporter": "python",
   "pygments_lexer": "ipython3",
   "version": "3.7.4"
  }
 },
 "nbformat": 4,
 "nbformat_minor": 4
}
