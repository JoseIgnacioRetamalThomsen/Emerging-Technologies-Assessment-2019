{
 "cells": [
  {
   "cell_type": "markdown",
   "metadata": {},
   "source": [
    "# Trainig a Model Using the MNIST datase for recgonise hand-writen digits\n",
    "    On this notebook we show how to create a model using  MNIST dataset.\n",
    "    We start showing how to read the bits from the dataset\n",
    "\n"
   ]
  },
  {
   "cell_type": "markdown",
   "metadata": {},
   "source": [
    "  [http://yann.lecun.com/exdb/mnist/](http://yann.lecun.com/exdb/mnist/) "
   ]
  },
  {
   "cell_type": "markdown",
   "metadata": {},
   "source": [
    "# The Data\n",
    "\n",
    "  We will start by undertandig how the data is formated and parsing it i a suuitable way for train our model.\n",
    "  \n",
    "  Mnist provide 4 files: \n",
    "\n"
   ]
  },
  {
   "cell_type": "markdown",
   "metadata": {},
   "source": [
    "## Little and Big Endian Architecture \n",
    "\n",
    "  There are 2 types of processors architecture(litle and big endian). In litle endian bits are store from left to righ This is basically how the bytes are stored, in litle they are stored from left to right and in big the other way around.(Look this is you want to know more about https://chortle.ccsu.edu/AssemblyTutorial/Chapter-15/ass15_3.html ).\n",
    "  This is relevant for us because we need to know read the bytes right for get the proper data.\n",
    "  In python we can easyle check using sys, since I am using a Intel processor i expected to be litle."
   ]
  },
  {
   "cell_type": "code",
   "execution_count": 1,
   "metadata": {},
   "outputs": [],
   "source": [
    "import numpy as np"
   ]
  },
  {
   "cell_type": "code",
   "execution_count": 2,
   "metadata": {},
   "outputs": [],
   "source": [
    "from sys import byteorder"
   ]
  },
  {
   "cell_type": "code",
   "execution_count": 3,
   "metadata": {},
   "outputs": [
    {
     "name": "stdout",
     "output_type": "stream",
     "text": [
      "little\n"
     ]
    }
   ],
   "source": [
    "print(byteorder)"
   ]
  },
  {
   "cell_type": "code",
   "execution_count": 4,
   "metadata": {},
   "outputs": [],
   "source": [
    "import gzip\n",
    "\n",
    "with gzip.open('mnist/train-images-idx3-ubyte.gz', 'rb') as f:\n",
    "    fc_train_img = f.read()"
   ]
  },
  {
   "cell_type": "markdown",
   "metadata": {},
   "source": [
    " The first 4 bytes is the magic number which is a 32 bit integer, for the image set this number is 2051. Note that we are setting the byteorder as big."
   ]
  },
  {
   "cell_type": "code",
   "execution_count": 5,
   "metadata": {},
   "outputs": [
    {
     "data": {
      "text/plain": [
       "2051"
      ]
     },
     "execution_count": 5,
     "metadata": {},
     "output_type": "execute_result"
    }
   ],
   "source": [
    "int.from_bytes(fc_train_img[0:4], byteorder='big')"
   ]
  },
  {
   "cell_type": "markdown",
   "metadata": {},
   "source": [
    " Then we expect the number of images 6000 and the rows and columns 28 by 28"
   ]
  },
  {
   "cell_type": "code",
   "execution_count": 6,
   "metadata": {},
   "outputs": [
    {
     "data": {
      "text/plain": [
       "60000"
      ]
     },
     "execution_count": 6,
     "metadata": {},
     "output_type": "execute_result"
    }
   ],
   "source": [
    "train_img_total = int.from_bytes(fc_train_img[4:8], byteorder='big')\n",
    "train_img_total"
   ]
  },
  {
   "cell_type": "code",
   "execution_count": 7,
   "metadata": {},
   "outputs": [
    {
     "data": {
      "text/plain": [
       "28"
      ]
     },
     "execution_count": 7,
     "metadata": {},
     "output_type": "execute_result"
    }
   ],
   "source": [
    "row = int.from_bytes(fc_train_img[8:12], byteorder='big')\n",
    "row"
   ]
  },
  {
   "cell_type": "code",
   "execution_count": 8,
   "metadata": {},
   "outputs": [
    {
     "data": {
      "text/plain": [
       "28"
      ]
     },
     "execution_count": 8,
     "metadata": {},
     "output_type": "execute_result"
    }
   ],
   "source": [
    "col = int.from_bytes(fc_train_img[12:16], byteorder='big')\n",
    "col"
   ]
  },
  {
   "cell_type": "code",
   "execution_count": null,
   "metadata": {},
   "outputs": [],
   "source": []
  },
  {
   "cell_type": "code",
   "execution_count": 9,
   "metadata": {},
   "outputs": [],
   "source": [
    "last_byte = (train_img_total*row*col) + 16\n",
    "img_train = list(fc_train_img[16:last_byte])\n",
    "img_train = ~np.array(img_train).reshape(train_img_total,row*col).astype(np.uint8)\n"
   ]
  },
  {
   "cell_type": "code",
   "execution_count": 10,
   "metadata": {},
   "outputs": [],
   "source": [
    "%matplotlib inline\n",
    "import matplotlib.pyplot as plt"
   ]
  },
  {
   "cell_type": "code",
   "execution_count": 11,
   "metadata": {},
   "outputs": [
    {
     "data": {
      "text/plain": [
       "<matplotlib.image.AxesImage at 0x1b388788c88>"
      ]
     },
     "execution_count": 11,
     "metadata": {},
     "output_type": "execute_result"
    },
    {
     "data": {
      "image/png": "[encoded data removed]",
      "text/plain": [
       "<Figure size 432x288 with 1 Axes>"
      ]
     },
     "metadata": {
      "needs_background": "light"
     },
     "output_type": "display_data"
    }
   ],
   "source": [
    "plt.imshow(img_train[11].reshape(row,col), cmap='gray')"
   ]
  },
  {
   "cell_type": "code",
   "execution_count": 12,
   "metadata": {},
   "outputs": [],
   "source": [
    "with gzip.open('mnist/train-labels-idx1-ubyte.gz', 'rb') as f:\n",
    "    fc_train_lbl = f.read()"
   ]
  },
  {
   "cell_type": "code",
   "execution_count": 13,
   "metadata": {},
   "outputs": [
    {
     "data": {
      "text/plain": [
       "2049"
      ]
     },
     "execution_count": 13,
     "metadata": {},
     "output_type": "execute_result"
    }
   ],
   "source": [
    "int.from_bytes(fc_train_lbl[0:4], byteorder='big')\n"
   ]
  },
  {
   "cell_type": "code",
   "execution_count": 14,
   "metadata": {},
   "outputs": [
    {
     "data": {
      "text/plain": [
       "60000"
      ]
     },
     "execution_count": 14,
     "metadata": {},
     "output_type": "execute_result"
    }
   ],
   "source": [
    "train_lvl_total = int.from_bytes(fc_train_lbl[4:8], byteorder='big')\n",
    "train_lvl_total"
   ]
  },
  {
   "cell_type": "code",
   "execution_count": 15,
   "metadata": {},
   "outputs": [],
   "source": [
    "lbl_train = np.array(list(fc_train_lbl[8:train_lvl_total+8]))"
   ]
  },
  {
   "cell_type": "code",
   "execution_count": 16,
   "metadata": {},
   "outputs": [
    {
     "name": "stdout",
     "output_type": "stream",
     "text": [
      "5\n"
     ]
    }
   ],
   "source": [
    "print(lbl_train[11])"
   ]
  },
  {
   "cell_type": "code",
   "execution_count": 17,
   "metadata": {},
   "outputs": [],
   "source": [
    "with gzip.open('mnist/t10k-images-idx3-ubyte.gz', 'rb') as f:\n",
    "    fc_test_img = f.read()\n",
    "with gzip.open('mnist/t10k-labels-idx1-ubyte.gz', 'rb') as f:\n",
    "    fc_test_lbl = f.read()\n",
    "    \n",
    "test_img_total = int.from_bytes(fc_test_img[4:8], byteorder='big')\n",
    "test_lbl_total = int.from_bytes(fc_test_lbl[4:8], byteorder='big')\n",
    "\n",
    "last_byte = (test_img_total*row*col) + 16\n",
    "img_test = list(fc_test_img[16:last_byte])\n",
    "img_test = ~np.array(img_test).reshape(test_img_total,row*col).astype(np.uint8)\n",
    "\n",
    "lbl_test = np.array(list(fc_test_lbl[8:test_lbl_total+8]))"
   ]
  },
  {
   "cell_type": "code",
   "execution_count": 18,
   "metadata": {},
   "outputs": [
    {
     "data": {
      "text/plain": [
       "<matplotlib.image.AxesImage at 0x1b391741208>"
      ]
     },
     "execution_count": 18,
     "metadata": {},
     "output_type": "execute_result"
    },
    {
     "data": {
      "image/png": "[encoded data removed]",
      "text/plain": [
       "<Figure size 432x288 with 1 Axes>"
      ]
     },
     "metadata": {
      "needs_background": "light"
     },
     "output_type": "display_data"
    }
   ],
   "source": [
    "plt.imshow(img_test[11].reshape(row,col), cmap='gray')"
   ]
  },
  {
   "cell_type": "code",
   "execution_count": 19,
   "metadata": {},
   "outputs": [
    {
     "name": "stdout",
     "output_type": "stream",
     "text": [
      "6\n"
     ]
    }
   ],
   "source": [
    "print(lbl_test[11])"
   ]
  },
  {
   "cell_type": "code",
   "execution_count": 20,
   "metadata": {},
   "outputs": [
    {
     "name": "stderr",
     "output_type": "stream",
     "text": [
      "Using TensorFlow backend.\n"
     ]
    }
   ],
   "source": [
    "import keras as kr"
   ]
  },
  {
   "cell_type": "code",
   "execution_count": 21,
   "metadata": {},
   "outputs": [],
   "source": [
    "model = kr.models.Sequential()"
   ]
  },
  {
   "cell_type": "code",
   "execution_count": 22,
   "metadata": {},
   "outputs": [],
   "source": [
    "model.add(kr.layers.Dense(units=10, input_dim=784, activation='softmax'))"
   ]
  },
  {
   "cell_type": "code",
   "execution_count": 23,
   "metadata": {},
   "outputs": [],
   "source": [
    "model.compile(loss='categorical_crossentropy',optimizer='adam', metrics=['accuracy'])"
   ]
  },
  {
   "cell_type": "markdown",
   "metadata": {},
   "source": [
    "## Activation : softmax\n",
    "  We want our result to represent a probablility of being one of the 10 digits(0,1,3...).\n",
    "  The softmax activation function will do this for us, it will output our output for each neuron beetwen 0 and 1.Then each \n",
    "  of our neuron can represent a a digit so the one will bigger probability will be our prediction.\n",
    "  \n",
    "  $$\\sigma (z)_j = \\frac{e^{(z)_j}}{\\sum_{k=0}^{K}e^{(z)_k}} \\text{  where   j = 1,...,K}$$  \n",
    "  \n",
    "  In our case K = 10.\n",
    "  \n",
    "  https://www.analyticsvidhya.com/blog/2017/10/fundamentals-deep-learning-activation-functions-when-to-use-them/\n",
    "\n"
   ]
  },
  {
   "cell_type": "code",
   "execution_count": 24,
   "metadata": {},
   "outputs": [
    {
     "data": {
      "text/plain": [
       "array([[0., 0., 0., 0., 0., 0., 0., 0., 0., 1.]], dtype=float32)"
      ]
     },
     "execution_count": 24,
     "metadata": {},
     "output_type": "execute_result"
    }
   ],
   "source": [
    "test = np.arange(0.0, 784, 1).reshape(1,784)\n",
    "result = model.predict(test)\n",
    "result\n"
   ]
  },
  {
   "cell_type": "code",
   "execution_count": 25,
   "metadata": {},
   "outputs": [
    {
     "data": {
      "text/plain": [
       "1.0"
      ]
     },
     "execution_count": 25,
     "metadata": {},
     "output_type": "execute_result"
    }
   ],
   "source": [
    "sum = 0 \n",
    "for i in result[0]:\n",
    "    sum += i\n",
    "sum"
   ]
  },
  {
   "cell_type": "markdown",
   "metadata": {},
   "source": [
    "## Loss : categorical_crossentropy\n",
    "\n",
    "    After we calculate our result we need to calculate the distance beetween our prediction and our epected result.\n",
    "    https://algorithmia.com/blog/introduction-to-loss-functions\n",
    "    "
   ]
  },
  {
   "cell_type": "markdown",
   "metadata": {},
   "source": [
    "## Optimazer : adam\n",
    "https://algorithmia.com/blog/introduction-to-optimizers"
   ]
  },
  {
   "cell_type": "code",
   "execution_count": 26,
   "metadata": {},
   "outputs": [],
   "source": [
    "lbl_train = kr.utils.to_categorical(lbl_train, 10)\n",
    "lbl_test  = kr.utils.to_categorical(lbl_test, 10)"
   ]
  },
  {
   "cell_type": "code",
   "execution_count": 27,
   "metadata": {},
   "outputs": [
    {
     "data": {
      "text/plain": [
       "array([0., 0., 0., 0., 0., 1., 0., 0., 0., 0.], dtype=float32)"
      ]
     },
     "execution_count": 27,
     "metadata": {},
     "output_type": "execute_result"
    }
   ],
   "source": [
    "lbl_train[0]"
   ]
  },
  {
   "cell_type": "code",
   "execution_count": 28,
   "metadata": {},
   "outputs": [],
   "source": [
    "img_train =  img_train/255.0\n",
    "img_test = img_test/255.0"
   ]
  },
  {
   "cell_type": "code",
   "execution_count": 29,
   "metadata": {
    "scrolled": true
   },
   "outputs": [
    {
     "name": "stdout",
     "output_type": "stream",
     "text": [
      "Train on 60000 samples, validate on 10000 samples\n",
      "Epoch 1/10\n",
      "60000/60000 [==============================] - 1s 19us/step - loss: 0.8026 - accuracy: 0.7868 - val_loss: 0.4486 - val_accuracy: 0.8778\n",
      "Epoch 2/10\n",
      "60000/60000 [==============================] - 1s 19us/step - loss: 0.4263 - accuracy: 0.8794 - val_loss: 0.3774 - val_accuracy: 0.8969\n",
      "Epoch 3/10\n",
      "60000/60000 [==============================] - 1s 19us/step - loss: 0.3753 - accuracy: 0.8925 - val_loss: 0.3411 - val_accuracy: 0.9016\n",
      "Epoch 4/10\n",
      "60000/60000 [==============================] - 1s 19us/step - loss: 0.3527 - accuracy: 0.8969 - val_loss: 0.3262 - val_accuracy: 0.9065\n",
      "Epoch 5/10\n",
      "60000/60000 [==============================] - 1s 19us/step - loss: 0.3393 - accuracy: 0.9017 - val_loss: 0.3086 - val_accuracy: 0.9126\n",
      "Epoch 6/10\n",
      "60000/60000 [==============================] - 1s 19us/step - loss: 0.3279 - accuracy: 0.9043 - val_loss: 0.3174 - val_accuracy: 0.9059\n",
      "Epoch 7/10\n",
      "60000/60000 [==============================] - 1s 19us/step - loss: 0.3219 - accuracy: 0.9064 - val_loss: 0.2999 - val_accuracy: 0.9142\n",
      "Epoch 8/10\n",
      "60000/60000 [==============================] - 1s 19us/step - loss: 0.3155 - accuracy: 0.9098 - val_loss: 0.3078 - val_accuracy: 0.9097\n",
      "Epoch 9/10\n",
      "60000/60000 [==============================] - 1s 19us/step - loss: 0.3127 - accuracy: 0.9097 - val_loss: 0.2977 - val_accuracy: 0.9137\n",
      "Epoch 10/10\n",
      "60000/60000 [==============================] - 1s 19us/step - loss: 0.3070 - accuracy: 0.9125 - val_loss: 0.2923 - val_accuracy: 0.9174\n"
     ]
    }
   ],
   "source": [
    "epoch = 10\n",
    "history_callback = model.fit(img_train, lbl_train, validation_data=(img_test,lbl_test), epochs=epoch, batch_size=100)"
   ]
  },
  {
   "cell_type": "code",
   "execution_count": 30,
   "metadata": {},
   "outputs": [],
   "source": [
    "val_accuracy = np.array(history_callback.history['val_accuracy'])\n",
    "val_loss =  np.array(history_callback.history['val_loss'])\n",
    "accuracy =  np.array(history_callback.history['accuracy'])\n",
    "loss =  np.array(history_callback.history['loss'])"
   ]
  },
  {
   "cell_type": "code",
   "execution_count": 31,
   "metadata": {},
   "outputs": [
    {
     "data": {
      "text/plain": [
       "[<matplotlib.lines.Line2D at 0x1b396ee9048>,\n",
       " <matplotlib.lines.Line2D at 0x1b396f02948>,\n",
       " <matplotlib.lines.Line2D at 0x1b396f02b48>,\n",
       " <matplotlib.lines.Line2D at 0x1b396f02cc8>]"
      ]
     },
     "execution_count": 31,
     "metadata": {},
     "output_type": "execute_result"
    },
    {
     "data": {
      "image/png": "[encoded data removed]",
      "text/plain": [
       "<Figure size 432x288 with 1 Axes>"
      ]
     },
     "metadata": {
      "needs_background": "light"
     },
     "output_type": "display_data"
    }
   ],
   "source": [
    "x = np.arange(0.0, epoch, 1)\n",
    "plt.plot(x,val_accuracy,x,accuracy,x,loss,x,val_loss)"
   ]
  },
  {
   "cell_type": "code",
   "execution_count": 32,
   "metadata": {},
   "outputs": [],
   "source": [
    "model_final  = kr.models.Sequential()\n",
    "class CustomModelCheckpoint(kr.callbacks.Callback):\n",
    "    minimun = 0.8\n",
    "          \n",
    "    def on_epoch_end(self, epoch, logs=None):\n",
    "       \n",
    "        # logs is a dictionary\n",
    "        print(f\"epoch: {epoch},history_callback.{logs['val_accuracy']}\")\n",
    "       \n",
    "        if logs['val_accuracy'] > self.minimun: # your custom condition\n",
    "    \n",
    "          \n",
    "            model.save('model1.h5', overwrite=True)\n",
    "                     \n",
    "            self.minimun = logs['val_accuracy']\n",
    "            print(self.minimun)\n",
    "            print(\"saved\")"
   ]
  },
  {
   "cell_type": "code",
   "execution_count": 33,
   "metadata": {
    "scrolled": true
   },
   "outputs": [
    {
     "name": "stdout",
     "output_type": "stream",
     "text": [
      "Train on 60000 samples, validate on 10000 samples\n",
      "Epoch 1/10\n",
      "60000/60000 [==============================] - 1s 19us/step - loss: 0.3065 - accuracy: 0.9118 - val_loss: 0.2940 - val_accuracy: 0.9143\n",
      "epoch: 0,history_callback.0.9143000245094299\n",
      "0.9143000245094299\n",
      "saved\n",
      "Epoch 2/10\n",
      "60000/60000 [==============================] - 1s 19us/step - loss: 0.3031 - accuracy: 0.9137 - val_loss: 0.3046 - val_accuracy: 0.9119\n",
      "epoch: 1,history_callback.0.911899983882904\n",
      "Epoch 3/10\n",
      "60000/60000 [==============================] - 1s 19us/step - loss: 0.3006 - accuracy: 0.9132 - val_loss: 0.2921 - val_accuracy: 0.9168\n",
      "epoch: 2,history_callback.0.9168000221252441\n",
      "0.9168000221252441\n",
      "saved\n",
      "Epoch 4/10\n",
      "60000/60000 [==============================] - 1s 19us/step - loss: 0.2976 - accuracy: 0.9150 - val_loss: 0.2870 - val_accuracy: 0.9172\n",
      "epoch: 3,history_callback.0.9172000288963318\n",
      "0.9172000288963318\n",
      "saved\n",
      "Epoch 5/10\n",
      "60000/60000 [==============================] - 1s 19us/step - loss: 0.2969 - accuracy: 0.9152 - val_loss: 0.2929 - val_accuracy: 0.9181\n",
      "epoch: 4,history_callback.0.9180999994277954\n",
      "0.9180999994277954\n",
      "saved\n",
      "Epoch 6/10\n",
      "60000/60000 [==============================] - 1s 19us/step - loss: 0.2968 - accuracy: 0.9155 - val_loss: 0.2903 - val_accuracy: 0.9167\n",
      "epoch: 5,history_callback.0.916700005531311\n",
      "Epoch 7/10\n",
      "60000/60000 [==============================] - 1s 19us/step - loss: 0.2937 - accuracy: 0.9161 - val_loss: 0.2990 - val_accuracy: 0.9157\n",
      "epoch: 6,history_callback.0.9157000184059143\n",
      "Epoch 8/10\n",
      "60000/60000 [==============================] - 1s 19us/step - loss: 0.2922 - accuracy: 0.9162 - val_loss: 0.2849 - val_accuracy: 0.9181\n",
      "epoch: 7,history_callback.0.9180999994277954\n",
      "Epoch 9/10\n",
      "60000/60000 [==============================] - 1s 19us/step - loss: 0.2916 - accuracy: 0.9164 - val_loss: 0.2969 - val_accuracy: 0.9164\n",
      "epoch: 8,history_callback.0.9164000153541565\n",
      "Epoch 10/10\n",
      "60000/60000 [==============================] - 1s 19us/step - loss: 0.2877 - accuracy: 0.9183 - val_loss: 0.2959 - val_accuracy: 0.9134\n",
      "epoch: 9,history_callback.0.9133999943733215\n"
     ]
    }
   ],
   "source": [
    "cbk = CustomModelCheckpoint()\n",
    "history_callback = model.fit(img_train, lbl_train, validation_data=(img_test,lbl_test), epochs=epoch, batch_size=100, callbacks=[cbk])"
   ]
  },
  {
   "cell_type": "code",
   "execution_count": 34,
   "metadata": {},
   "outputs": [],
   "source": [
    "model = kr.models.Sequential()\n",
    "model.add(kr.layers.Dense(units=512, input_dim=784, activation='relu'))\n",
    "model.add(kr.layers.Dense(units=10, activation='softmax'))\n",
    "model.compile(loss='categorical_crossentropy',optimizer='adam', metrics=['accuracy'])\n"
   ]
  },
  {
   "cell_type": "code",
   "execution_count": 35,
   "metadata": {
    "scrolled": true
   },
   "outputs": [
    {
     "name": "stdout",
     "output_type": "stream",
     "text": [
      "Train on 60000 samples, validate on 10000 samples\n",
      "Epoch 1/10\n",
      "60000/60000 [==============================] - 1s 24us/step - loss: 0.5595 - accuracy: 0.8378 - val_loss: 0.3622 - val_accuracy: 0.8927\n",
      "Epoch 2/10\n",
      "60000/60000 [==============================] - 1s 23us/step - loss: 0.3282 - accuracy: 0.9025 - val_loss: 0.2814 - val_accuracy: 0.9208\n",
      "Epoch 3/10\n",
      "60000/60000 [==============================] - 1s 22us/step - loss: 0.2658 - accuracy: 0.9216 - val_loss: 0.2159 - val_accuracy: 0.9365\n",
      "Epoch 4/10\n",
      "60000/60000 [==============================] - 1s 22us/step - loss: 0.2182 - accuracy: 0.9355 - val_loss: 0.1996 - val_accuracy: 0.9375\n",
      "Epoch 5/10\n",
      "60000/60000 [==============================] - 1s 23us/step - loss: 0.1856 - accuracy: 0.9444 - val_loss: 0.1810 - val_accuracy: 0.9436\n",
      "Epoch 6/10\n",
      "60000/60000 [==============================] - 1s 22us/step - loss: 0.1637 - accuracy: 0.9510 - val_loss: 0.1367 - val_accuracy: 0.9579\n",
      "Epoch 7/10\n",
      "60000/60000 [==============================] - 1s 22us/step - loss: 0.1439 - accuracy: 0.9567 - val_loss: 0.1716 - val_accuracy: 0.9450\n",
      "Epoch 8/10\n",
      "60000/60000 [==============================] - 1s 22us/step - loss: 0.1326 - accuracy: 0.9602 - val_loss: 0.1395 - val_accuracy: 0.9579\n",
      "Epoch 9/10\n",
      "60000/60000 [==============================] - 1s 22us/step - loss: 0.1231 - accuracy: 0.9632 - val_loss: 0.1251 - val_accuracy: 0.9606\n",
      "Epoch 10/10\n",
      "60000/60000 [==============================] - 1s 23us/step - loss: 0.1141 - accuracy: 0.9648 - val_loss: 0.1398 - val_accuracy: 0.9553\n"
     ]
    }
   ],
   "source": [
    "history_callback = model.fit(img_train, lbl_train, validation_data=(img_test,lbl_test), epochs=epoch, batch_size=100,\n",
    "                             callbacks=[cbk])"
   ]
  },
  {
   "cell_type": "code",
   "execution_count": 36,
   "metadata": {},
   "outputs": [],
   "source": [
    "val_accuracy = np.array(history_callback.history['val_accuracy'])\n",
    "val_loss =  np.array(history_callback.history['val_loss'])\n",
    "accuracy =  np.array(history_callback.history['accuracy'])\n",
    "loss =  np.array(history_callback.history['loss'])"
   ]
  },
  {
   "cell_type": "code",
   "execution_count": 37,
   "metadata": {},
   "outputs": [
    {
     "data": {
      "text/plain": [
       "[<matplotlib.lines.Line2D at 0x1b3adf72848>,\n",
       " <matplotlib.lines.Line2D at 0x1b3adf89808>,\n",
       " <matplotlib.lines.Line2D at 0x1b3adf899c8>,\n",
       " <matplotlib.lines.Line2D at 0x1b3adf89bc8>]"
      ]
     },
     "execution_count": 37,
     "metadata": {},
     "output_type": "execute_result"
    },
    {
     "data": {
      "image/png": "[encoded data removed]",
      "text/plain": [
       "<Figure size 432x288 with 1 Axes>"
      ]
     },
     "metadata": {
      "needs_background": "light"
     },
     "output_type": "display_data"
    }
   ],
   "source": [
    "x = np.arange(0.0, epoch, 1)\n",
    "plt.plot(x,val_accuracy,x,accuracy,x,loss,x,val_loss)"
   ]
  },
  {
   "cell_type": "code",
   "execution_count": 38,
   "metadata": {},
   "outputs": [],
   "source": [
    "model = kr.models.Sequential()\n",
    "model.add(kr.layers.Dense(units=512, input_dim=784, activation='relu'))\n",
    "model.add(kr.layers.Dropout(0.01))\n",
    "model.add(kr.layers.Dense(units=98, activation='relu'))\n",
    "model.add(kr.layers.Dropout(0.1))\n",
    "model.add(kr.layers.Dense(units=10, activation='softmax'))\n",
    "model.compile(loss='categorical_crossentropy',optimizer='adam', metrics=['accuracy'])"
   ]
  },
  {
   "cell_type": "code",
   "execution_count": 44,
   "metadata": {
    "scrolled": true
   },
   "outputs": [
    {
     "name": "stdout",
     "output_type": "stream",
     "text": [
      "Train on 60000 samples, validate on 10000 samples\n",
      "Epoch 1/100\n",
      "60000/60000 [==============================] - 2s 29us/step - loss: 0.0258 - accuracy: 0.9914 - val_loss: 0.1074 - val_accuracy: 0.9766\n",
      "epoch: 0,history_callback.0.9765999913215637\n",
      "0.9765999913215637\n",
      "saved\n",
      "Epoch 2/100\n",
      "60000/60000 [==============================] - 2s 29us/step - loss: 0.0230 - accuracy: 0.9922 - val_loss: 0.0978 - val_accuracy: 0.9794\n",
      "epoch: 1,history_callback.0.9793999791145325\n",
      "0.9793999791145325\n",
      "saved\n",
      "Epoch 3/100\n",
      "60000/60000 [==============================] - 2s 29us/step - loss: 0.0215 - accuracy: 0.9925 - val_loss: 0.1072 - val_accuracy: 0.9785\n",
      "epoch: 2,history_callback.0.9785000085830688\n",
      "Epoch 4/100\n",
      "60000/60000 [==============================] - 2s 28us/step - loss: 0.0223 - accuracy: 0.9925 - val_loss: 0.0982 - val_accuracy: 0.9799\n",
      "epoch: 3,history_callback.0.9799000024795532\n",
      "0.9799000024795532\n",
      "saved\n",
      "Epoch 5/100\n",
      "60000/60000 [==============================] - 2s 28us/step - loss: 0.0256 - accuracy: 0.9917 - val_loss: 0.1014 - val_accuracy: 0.9792\n",
      "epoch: 4,history_callback.0.979200005531311\n",
      "Epoch 6/100\n",
      "60000/60000 [==============================] - 2s 28us/step - loss: 0.0222 - accuracy: 0.9923 - val_loss: 0.1054 - val_accuracy: 0.9770\n",
      "epoch: 5,history_callback.0.9769999980926514\n",
      "Epoch 7/100\n",
      "60000/60000 [==============================] - 2s 28us/step - loss: 0.0257 - accuracy: 0.9913 - val_loss: 0.1054 - val_accuracy: 0.9773\n",
      "epoch: 6,history_callback.0.9772999882698059\n",
      "Epoch 8/100\n",
      "60000/60000 [==============================] - 2s 28us/step - loss: 0.0233 - accuracy: 0.9924 - val_loss: 0.1000 - val_accuracy: 0.9785\n",
      "epoch: 7,history_callback.0.9785000085830688\n",
      "Epoch 9/100\n",
      "60000/60000 [==============================] - 2s 28us/step - loss: 0.0229 - accuracy: 0.9925 - val_loss: 0.1236 - val_accuracy: 0.9744\n",
      "epoch: 8,history_callback.0.974399983882904\n",
      "Epoch 10/100\n",
      "60000/60000 [==============================] - 2s 28us/step - loss: 0.0269 - accuracy: 0.9913 - val_loss: 0.1316 - val_accuracy: 0.9771\n",
      "epoch: 9,history_callback.0.9771000146865845\n",
      "Epoch 11/100\n",
      "60000/60000 [==============================] - 2s 28us/step - loss: 0.0214 - accuracy: 0.9927 - val_loss: 0.1036 - val_accuracy: 0.9781\n",
      "epoch: 10,history_callback.0.9781000018119812\n",
      "Epoch 12/100\n",
      "60000/60000 [==============================] - 2s 28us/step - loss: 0.0211 - accuracy: 0.9929 - val_loss: 0.1049 - val_accuracy: 0.9786\n",
      "epoch: 11,history_callback.0.978600025177002\n",
      "Epoch 13/100\n",
      "60000/60000 [==============================] - 2s 28us/step - loss: 0.0226 - accuracy: 0.9926 - val_loss: 0.1027 - val_accuracy: 0.9798\n",
      "epoch: 12,history_callback.0.9797999858856201\n",
      "Epoch 14/100\n",
      "60000/60000 [==============================] - 2s 27us/step - loss: 0.0252 - accuracy: 0.9919 - val_loss: 0.1124 - val_accuracy: 0.9791\n",
      "epoch: 13,history_callback.0.9790999889373779\n",
      "Epoch 15/100\n",
      "60000/60000 [==============================] - 2s 27us/step - loss: 0.0204 - accuracy: 0.9929 - val_loss: 0.1011 - val_accuracy: 0.9801\n",
      "epoch: 14,history_callback.0.9800999760627747\n",
      "0.9800999760627747\n",
      "saved\n",
      "Epoch 16/100\n",
      "60000/60000 [==============================] - 2s 28us/step - loss: 0.0259 - accuracy: 0.9913 - val_loss: 0.1192 - val_accuracy: 0.9774\n",
      "epoch: 15,history_callback.0.977400004863739\n",
      "Epoch 17/100\n",
      "60000/60000 [==============================] - 2s 28us/step - loss: 0.0219 - accuracy: 0.9925 - val_loss: 0.1020 - val_accuracy: 0.9810\n",
      "epoch: 16,history_callback.0.9810000061988831\n",
      "0.9810000061988831\n",
      "saved\n",
      "Epoch 18/100\n",
      "60000/60000 [==============================] - 2s 28us/step - loss: 0.0202 - accuracy: 0.9935 - val_loss: 0.1012 - val_accuracy: 0.9814\n",
      "epoch: 17,history_callback.0.9814000129699707\n",
      "0.9814000129699707\n",
      "saved\n",
      "Epoch 19/100\n",
      "60000/60000 [==============================] - 2s 28us/step - loss: 0.0240 - accuracy: 0.9919 - val_loss: 0.0954 - val_accuracy: 0.9814\n",
      "epoch: 18,history_callback.0.9814000129699707\n",
      "Epoch 20/100\n",
      "60000/60000 [==============================] - 2s 28us/step - loss: 0.0219 - accuracy: 0.9924 - val_loss: 0.1082 - val_accuracy: 0.9800\n",
      "epoch: 19,history_callback.0.9800000190734863\n",
      "Epoch 21/100\n",
      "60000/60000 [==============================] - 2s 28us/step - loss: 0.0179 - accuracy: 0.9939 - val_loss: 0.1022 - val_accuracy: 0.9793\n",
      "epoch: 20,history_callback.0.9793000221252441\n",
      "Epoch 22/100\n",
      "60000/60000 [==============================] - 2s 28us/step - loss: 0.0237 - accuracy: 0.9921 - val_loss: 0.1132 - val_accuracy: 0.9795\n",
      "epoch: 21,history_callback.0.9794999957084656\n",
      "Epoch 23/100\n",
      "60000/60000 [==============================] - 2s 28us/step - loss: 0.0203 - accuracy: 0.9937 - val_loss: 0.0914 - val_accuracy: 0.9820\n",
      "epoch: 22,history_callback.0.9819999933242798\n",
      "0.9819999933242798\n",
      "saved\n",
      "Epoch 24/100\n",
      "60000/60000 [==============================] - 2s 28us/step - loss: 0.0237 - accuracy: 0.9920 - val_loss: 0.0860 - val_accuracy: 0.9818\n",
      "epoch: 23,history_callback.0.9818000197410583\n",
      "Epoch 25/100\n",
      "60000/60000 [==============================] - 2s 28us/step - loss: 0.0191 - accuracy: 0.9936 - val_loss: 0.1317 - val_accuracy: 0.9753\n",
      "epoch: 24,history_callback.0.9753000140190125\n",
      "Epoch 26/100\n",
      "60000/60000 [==============================] - 2s 28us/step - loss: 0.0214 - accuracy: 0.9934 - val_loss: 0.1051 - val_accuracy: 0.9801\n",
      "epoch: 25,history_callback.0.9800999760627747\n",
      "Epoch 27/100\n",
      "60000/60000 [==============================] - 2s 28us/step - loss: 0.0208 - accuracy: 0.9934 - val_loss: 0.1042 - val_accuracy: 0.9796\n",
      "epoch: 26,history_callback.0.9796000123023987\n",
      "Epoch 28/100\n",
      "60000/60000 [==============================] - 2s 28us/step - loss: 0.0230 - accuracy: 0.9926 - val_loss: 0.1085 - val_accuracy: 0.9812\n",
      "epoch: 27,history_callback.0.9811999797821045\n",
      "Epoch 29/100\n",
      "60000/60000 [==============================] - 2s 28us/step - loss: 0.0199 - accuracy: 0.9936 - val_loss: 0.1021 - val_accuracy: 0.9799\n",
      "epoch: 28,history_callback.0.9799000024795532\n",
      "Epoch 30/100\n",
      "60000/60000 [==============================] - 2s 28us/step - loss: 0.0243 - accuracy: 0.9923 - val_loss: 0.0995 - val_accuracy: 0.9811\n",
      "epoch: 29,history_callback.0.9811000227928162\n",
      "Epoch 31/100\n",
      "60000/60000 [==============================] - 2s 28us/step - loss: 0.0205 - accuracy: 0.9934 - val_loss: 0.1097 - val_accuracy: 0.9785\n",
      "epoch: 30,history_callback.0.9785000085830688\n",
      "Epoch 32/100\n",
      "60000/60000 [==============================] - 2s 28us/step - loss: 0.0190 - accuracy: 0.9938 - val_loss: 0.1057 - val_accuracy: 0.9795\n",
      "epoch: 31,history_callback.0.9794999957084656\n",
      "Epoch 33/100\n",
      "60000/60000 [==============================] - 2s 28us/step - loss: 0.0240 - accuracy: 0.9924 - val_loss: 0.1205 - val_accuracy: 0.9754\n",
      "epoch: 32,history_callback.0.9753999710083008\n",
      "Epoch 34/100\n",
      "60000/60000 [==============================] - 2s 28us/step - loss: 0.0207 - accuracy: 0.9929 - val_loss: 0.1143 - val_accuracy: 0.9782\n",
      "epoch: 33,history_callback.0.9782000184059143\n",
      "Epoch 35/100\n",
      "60000/60000 [==============================] - 2s 28us/step - loss: 0.0145 - accuracy: 0.9952 - val_loss: 0.1150 - val_accuracy: 0.9787\n",
      "epoch: 34,history_callback.0.9786999821662903\n",
      "Epoch 36/100\n",
      "60000/60000 [==============================] - 2s 28us/step - loss: 0.0175 - accuracy: 0.9942 - val_loss: 0.1116 - val_accuracy: 0.9800\n",
      "epoch: 35,history_callback.0.9800000190734863\n",
      "Epoch 37/100\n",
      "60000/60000 [==============================] - 2s 28us/step - loss: 0.0216 - accuracy: 0.9931 - val_loss: 0.1171 - val_accuracy: 0.9787\n",
      "epoch: 36,history_callback.0.9786999821662903\n",
      "Epoch 38/100\n",
      "60000/60000 [==============================] - 2s 28us/step - loss: 0.0208 - accuracy: 0.9929 - val_loss: 0.1334 - val_accuracy: 0.9768\n",
      "epoch: 37,history_callback.0.9768000245094299\n",
      "Epoch 39/100\n",
      "60000/60000 [==============================] - 2s 27us/step - loss: 0.0232 - accuracy: 0.9925 - val_loss: 0.1047 - val_accuracy: 0.9805\n",
      "epoch: 38,history_callback.0.9804999828338623\n",
      "Epoch 40/100\n",
      "60000/60000 [==============================] - 2s 28us/step - loss: 0.0166 - accuracy: 0.9944 - val_loss: 0.1052 - val_accuracy: 0.9799\n",
      "epoch: 39,history_callback.0.9799000024795532\n",
      "Epoch 41/100\n",
      "60000/60000 [==============================] - 2s 28us/step - loss: 0.0192 - accuracy: 0.9939 - val_loss: 0.1065 - val_accuracy: 0.9816\n",
      "epoch: 40,history_callback.0.9815999865531921\n",
      "Epoch 42/100\n"
     ]
    },
    {
     "name": "stdout",
     "output_type": "stream",
     "text": [
      "60000/60000 [==============================] - 2s 28us/step - loss: 0.0193 - accuracy: 0.9936 - val_loss: 0.1279 - val_accuracy: 0.9756\n",
      "epoch: 41,history_callback.0.975600004196167\n",
      "Epoch 43/100\n",
      "60000/60000 [==============================] - 2s 28us/step - loss: 0.0210 - accuracy: 0.9929 - val_loss: 0.1124 - val_accuracy: 0.9770\n",
      "epoch: 42,history_callback.0.9769999980926514\n",
      "Epoch 44/100\n",
      "60000/60000 [==============================] - 2s 28us/step - loss: 0.0208 - accuracy: 0.9932 - val_loss: 0.1149 - val_accuracy: 0.9764\n",
      "epoch: 43,history_callback.0.9764000177383423\n",
      "Epoch 45/100\n",
      "60000/60000 [==============================] - 2s 28us/step - loss: 0.0200 - accuracy: 0.9932 - val_loss: 0.1159 - val_accuracy: 0.9781\n",
      "epoch: 44,history_callback.0.9781000018119812\n",
      "Epoch 46/100\n",
      "60000/60000 [==============================] - 2s 28us/step - loss: 0.0191 - accuracy: 0.9937 - val_loss: 0.1196 - val_accuracy: 0.9780\n",
      "epoch: 45,history_callback.0.9779999852180481\n",
      "Epoch 47/100\n",
      "60000/60000 [==============================] - 2s 29us/step - loss: 0.0192 - accuracy: 0.9937 - val_loss: 0.1245 - val_accuracy: 0.9771\n",
      "epoch: 46,history_callback.0.9771000146865845\n",
      "Epoch 48/100\n",
      "60000/60000 [==============================] - 2s 28us/step - loss: 0.0187 - accuracy: 0.9935 - val_loss: 0.1032 - val_accuracy: 0.9801\n",
      "epoch: 47,history_callback.0.9800999760627747\n",
      "Epoch 49/100\n",
      "60000/60000 [==============================] - 2s 29us/step - loss: 0.0196 - accuracy: 0.9937 - val_loss: 0.1068 - val_accuracy: 0.9791\n",
      "epoch: 48,history_callback.0.9790999889373779\n",
      "Epoch 50/100\n",
      "60000/60000 [==============================] - 2s 28us/step - loss: 0.0201 - accuracy: 0.9937 - val_loss: 0.1306 - val_accuracy: 0.9762\n",
      "epoch: 49,history_callback.0.9761999845504761\n",
      "Epoch 51/100\n",
      "60000/60000 [==============================] - 2s 28us/step - loss: 0.0207 - accuracy: 0.9932 - val_loss: 0.1128 - val_accuracy: 0.9788\n",
      "epoch: 50,history_callback.0.9787999987602234\n",
      "Epoch 52/100\n",
      "60000/60000 [==============================] - 2s 28us/step - loss: 0.0163 - accuracy: 0.9945 - val_loss: 0.1162 - val_accuracy: 0.9798\n",
      "epoch: 51,history_callback.0.9797999858856201\n",
      "Epoch 53/100\n",
      "60000/60000 [==============================] - 2s 28us/step - loss: 0.0187 - accuracy: 0.9940 - val_loss: 0.1225 - val_accuracy: 0.9781\n",
      "epoch: 52,history_callback.0.9781000018119812\n",
      "Epoch 54/100\n",
      "60000/60000 [==============================] - 2s 28us/step - loss: 0.0178 - accuracy: 0.9944 - val_loss: 0.1048 - val_accuracy: 0.9810\n",
      "epoch: 53,history_callback.0.9810000061988831\n",
      "Epoch 55/100\n",
      "60000/60000 [==============================] - 2s 28us/step - loss: 0.0178 - accuracy: 0.9940 - val_loss: 0.1226 - val_accuracy: 0.9794\n",
      "epoch: 54,history_callback.0.9793999791145325\n",
      "Epoch 56/100\n",
      "60000/60000 [==============================] - 2s 28us/step - loss: 0.0194 - accuracy: 0.9940 - val_loss: 0.1060 - val_accuracy: 0.9802\n",
      "epoch: 55,history_callback.0.9801999926567078\n",
      "Epoch 57/100\n",
      "60000/60000 [==============================] - 2s 28us/step - loss: 0.0180 - accuracy: 0.9941 - val_loss: 0.1260 - val_accuracy: 0.9765\n",
      "epoch: 56,history_callback.0.9764999747276306\n",
      "Epoch 58/100\n",
      "60000/60000 [==============================] - 2s 28us/step - loss: 0.0207 - accuracy: 0.9934 - val_loss: 0.1087 - val_accuracy: 0.9790\n",
      "epoch: 57,history_callback.0.9789999723434448\n",
      "Epoch 59/100\n",
      "60000/60000 [==============================] - 2s 28us/step - loss: 0.0174 - accuracy: 0.9941 - val_loss: 0.1237 - val_accuracy: 0.9776\n",
      "epoch: 58,history_callback.0.9775999784469604\n",
      "Epoch 60/100\n",
      "60000/60000 [==============================] - 2s 28us/step - loss: 0.0142 - accuracy: 0.9957 - val_loss: 0.1062 - val_accuracy: 0.9811\n",
      "epoch: 59,history_callback.0.9811000227928162\n",
      "Epoch 61/100\n",
      "60000/60000 [==============================] - 2s 28us/step - loss: 0.0216 - accuracy: 0.9927 - val_loss: 0.1215 - val_accuracy: 0.9777\n",
      "epoch: 60,history_callback.0.9776999950408936\n",
      "Epoch 62/100\n",
      "60000/60000 [==============================] - 2s 28us/step - loss: 0.0172 - accuracy: 0.9944 - val_loss: 0.1176 - val_accuracy: 0.9793\n",
      "epoch: 61,history_callback.0.9793000221252441\n",
      "Epoch 63/100\n",
      "60000/60000 [==============================] - 2s 28us/step - loss: 0.0187 - accuracy: 0.9937 - val_loss: 0.1100 - val_accuracy: 0.9785\n",
      "epoch: 62,history_callback.0.9785000085830688\n",
      "Epoch 64/100\n",
      "60000/60000 [==============================] - 2s 28us/step - loss: 0.0177 - accuracy: 0.9941 - val_loss: 0.1061 - val_accuracy: 0.9801\n",
      "epoch: 63,history_callback.0.9800999760627747\n",
      "Epoch 65/100\n",
      "60000/60000 [==============================] - 2s 28us/step - loss: 0.0171 - accuracy: 0.9943 - val_loss: 0.1131 - val_accuracy: 0.9829\n",
      "epoch: 64,history_callback.0.9829000234603882\n",
      "0.9829000234603882\n",
      "saved\n",
      "Epoch 66/100\n",
      "60000/60000 [==============================] - 2s 28us/step - loss: 0.0224 - accuracy: 0.9926 - val_loss: 0.1131 - val_accuracy: 0.9777\n",
      "epoch: 65,history_callback.0.9776999950408936\n",
      "Epoch 67/100\n",
      "60000/60000 [==============================] - 2s 28us/step - loss: 0.0171 - accuracy: 0.9944 - val_loss: 0.1159 - val_accuracy: 0.9763\n",
      "epoch: 66,history_callback.0.9763000011444092\n",
      "Epoch 68/100\n",
      "60000/60000 [==============================] - 2s 28us/step - loss: 0.0188 - accuracy: 0.9939 - val_loss: 0.1503 - val_accuracy: 0.9758\n",
      "epoch: 67,history_callback.0.9757999777793884\n",
      "Epoch 69/100\n",
      "60000/60000 [==============================] - 2s 28us/step - loss: 0.0196 - accuracy: 0.9939 - val_loss: 0.1495 - val_accuracy: 0.9750\n",
      "epoch: 68,history_callback.0.9750000238418579\n",
      "Epoch 70/100\n",
      "60000/60000 [==============================] - 2s 28us/step - loss: 0.0167 - accuracy: 0.9949 - val_loss: 0.1121 - val_accuracy: 0.9804\n",
      "epoch: 69,history_callback.0.980400025844574\n",
      "Epoch 71/100\n",
      "60000/60000 [==============================] - 2s 28us/step - loss: 0.0168 - accuracy: 0.9945 - val_loss: 0.1100 - val_accuracy: 0.9786\n",
      "epoch: 70,history_callback.0.978600025177002\n",
      "Epoch 72/100\n",
      "60000/60000 [==============================] - 2s 28us/step - loss: 0.0176 - accuracy: 0.9945 - val_loss: 0.1287 - val_accuracy: 0.9799\n",
      "epoch: 71,history_callback.0.9799000024795532\n",
      "Epoch 73/100\n",
      "60000/60000 [==============================] - 2s 28us/step - loss: 0.0173 - accuracy: 0.9942 - val_loss: 0.1095 - val_accuracy: 0.9799\n",
      "epoch: 72,history_callback.0.9799000024795532\n",
      "Epoch 74/100\n",
      "60000/60000 [==============================] - 2s 28us/step - loss: 0.0194 - accuracy: 0.9938 - val_loss: 0.1323 - val_accuracy: 0.9777\n",
      "epoch: 73,history_callback.0.9776999950408936\n",
      "Epoch 75/100\n",
      "60000/60000 [==============================] - 2s 28us/step - loss: 0.0151 - accuracy: 0.9950 - val_loss: 0.1249 - val_accuracy: 0.9779\n",
      "epoch: 74,history_callback.0.9779000282287598\n",
      "Epoch 76/100\n",
      "60000/60000 [==============================] - 2s 28us/step - loss: 0.0198 - accuracy: 0.9936 - val_loss: 0.1260 - val_accuracy: 0.9780\n",
      "epoch: 75,history_callback.0.9779999852180481\n",
      "Epoch 77/100\n",
      "60000/60000 [==============================] - 2s 29us/step - loss: 0.0194 - accuracy: 0.9941 - val_loss: 0.1141 - val_accuracy: 0.9800\n",
      "epoch: 76,history_callback.0.9800000190734863\n",
      "Epoch 78/100\n",
      "60000/60000 [==============================] - 2s 29us/step - loss: 0.0189 - accuracy: 0.9938 - val_loss: 0.1380 - val_accuracy: 0.9782\n",
      "epoch: 77,history_callback.0.9782000184059143\n",
      "Epoch 79/100\n",
      "60000/60000 [==============================] - 2s 28us/step - loss: 0.0171 - accuracy: 0.9947 - val_loss: 0.1086 - val_accuracy: 0.9812\n",
      "epoch: 78,history_callback.0.9811999797821045\n",
      "Epoch 80/100\n",
      "60000/60000 [==============================] - 2s 28us/step - loss: 0.0168 - accuracy: 0.9943 - val_loss: 0.1076 - val_accuracy: 0.9809\n",
      "epoch: 79,history_callback.0.98089998960495\n",
      "Epoch 81/100\n",
      "60000/60000 [==============================] - 2s 28us/step - loss: 0.0194 - accuracy: 0.9943 - val_loss: 0.1143 - val_accuracy: 0.9798\n",
      "epoch: 80,history_callback.0.9797999858856201\n",
      "Epoch 82/100\n",
      "60000/60000 [==============================] - 2s 28us/step - loss: 0.0152 - accuracy: 0.9951 - val_loss: 0.1091 - val_accuracy: 0.9813\n",
      "epoch: 81,history_callback.0.9812999963760376\n",
      "Epoch 83/100\n",
      "60000/60000 [==============================] - 2s 28us/step - loss: 0.0186 - accuracy: 0.9938 - val_loss: 0.1147 - val_accuracy: 0.9800\n",
      "epoch: 82,history_callback.0.9800000190734863\n",
      "Epoch 84/100\n"
     ]
    },
    {
     "name": "stdout",
     "output_type": "stream",
     "text": [
      "60000/60000 [==============================] - 2s 28us/step - loss: 0.0212 - accuracy: 0.9933 - val_loss: 0.1224 - val_accuracy: 0.9797\n",
      "epoch: 83,history_callback.0.9797000288963318\n",
      "Epoch 85/100\n",
      "60000/60000 [==============================] - 2s 29us/step - loss: 0.0158 - accuracy: 0.9947 - val_loss: 0.1110 - val_accuracy: 0.9811\n",
      "epoch: 84,history_callback.0.9811000227928162\n",
      "Epoch 86/100\n",
      "60000/60000 [==============================] - 2s 29us/step - loss: 0.0132 - accuracy: 0.9955 - val_loss: 0.1303 - val_accuracy: 0.9799\n",
      "epoch: 85,history_callback.0.9799000024795532\n",
      "Epoch 87/100\n",
      "60000/60000 [==============================] - 2s 28us/step - loss: 0.0172 - accuracy: 0.9944 - val_loss: 0.1335 - val_accuracy: 0.9792\n",
      "epoch: 86,history_callback.0.979200005531311\n",
      "Epoch 88/100\n",
      "60000/60000 [==============================] - 2s 28us/step - loss: 0.0198 - accuracy: 0.9936 - val_loss: 0.1118 - val_accuracy: 0.9800\n",
      "epoch: 87,history_callback.0.9800000190734863\n",
      "Epoch 89/100\n",
      "60000/60000 [==============================] - 2s 28us/step - loss: 0.0181 - accuracy: 0.9942 - val_loss: 0.1125 - val_accuracy: 0.9799\n",
      "epoch: 88,history_callback.0.9799000024795532\n",
      "Epoch 90/100\n",
      "60000/60000 [==============================] - 2s 28us/step - loss: 0.0185 - accuracy: 0.9940 - val_loss: 0.1299 - val_accuracy: 0.9790\n",
      "epoch: 89,history_callback.0.9789999723434448\n",
      "Epoch 91/100\n",
      "60000/60000 [==============================] - 2s 28us/step - loss: 0.0150 - accuracy: 0.9953 - val_loss: 0.1400 - val_accuracy: 0.9771\n",
      "epoch: 90,history_callback.0.9771000146865845\n",
      "Epoch 92/100\n",
      "60000/60000 [==============================] - 2s 27us/step - loss: 0.0188 - accuracy: 0.9941 - val_loss: 0.1199 - val_accuracy: 0.9795\n",
      "epoch: 91,history_callback.0.9794999957084656\n",
      "Epoch 93/100\n",
      "60000/60000 [==============================] - 2s 28us/step - loss: 0.0126 - accuracy: 0.9959 - val_loss: 0.1097 - val_accuracy: 0.9821\n",
      "epoch: 92,history_callback.0.9821000099182129\n",
      "Epoch 94/100\n",
      "60000/60000 [==============================] - 2s 28us/step - loss: 0.0150 - accuracy: 0.9950 - val_loss: 0.1255 - val_accuracy: 0.9798\n",
      "epoch: 93,history_callback.0.9797999858856201\n",
      "Epoch 95/100\n",
      "60000/60000 [==============================] - 2s 28us/step - loss: 0.0185 - accuracy: 0.9942 - val_loss: 0.1408 - val_accuracy: 0.9778\n",
      "epoch: 94,history_callback.0.9778000116348267\n",
      "Epoch 96/100\n",
      "60000/60000 [==============================] - 2s 28us/step - loss: 0.0217 - accuracy: 0.9931 - val_loss: 0.1198 - val_accuracy: 0.9811\n",
      "epoch: 95,history_callback.0.9811000227928162\n",
      "Epoch 97/100\n",
      "60000/60000 [==============================] - 2s 28us/step - loss: 0.0140 - accuracy: 0.9956 - val_loss: 0.1309 - val_accuracy: 0.9799\n",
      "epoch: 96,history_callback.0.9799000024795532\n",
      "Epoch 98/100\n",
      "60000/60000 [==============================] - 2s 28us/step - loss: 0.0153 - accuracy: 0.9952 - val_loss: 0.1306 - val_accuracy: 0.9779\n",
      "epoch: 97,history_callback.0.9779000282287598\n",
      "Epoch 99/100\n",
      "60000/60000 [==============================] - 2s 28us/step - loss: 0.0130 - accuracy: 0.9955 - val_loss: 0.1355 - val_accuracy: 0.9798\n",
      "epoch: 98,history_callback.0.9797999858856201\n",
      "Epoch 100/100\n",
      "60000/60000 [==============================] - 2s 28us/step - loss: 0.0239 - accuracy: 0.9929 - val_loss: 0.1549 - val_accuracy: 0.9760\n",
      "epoch: 99,history_callback.0.9760000109672546\n"
     ]
    }
   ],
   "source": [
    "epoch = 100\n",
    "history_callback = model.fit(img_train, lbl_train, validation_data=(img_test,lbl_test), epochs=epoch, batch_size=100\n",
    "                             , callbacks=[cbk])"
   ]
  },
  {
   "cell_type": "code",
   "execution_count": 45,
   "metadata": {},
   "outputs": [],
   "source": [
    "val_accuracy = np.array(history_callback.history['val_accuracy'])\n",
    "val_loss =  np.array(history_callback.history['val_loss'])\n",
    "accuracy =  np.array(history_callback.history['accuracy'])\n",
    "loss =  np.array(history_callback.history['loss'])"
   ]
  },
  {
   "cell_type": "code",
   "execution_count": 46,
   "metadata": {},
   "outputs": [
    {
     "data": {
      "text/plain": [
       "[<matplotlib.lines.Line2D at 0x1b3adc0d108>,\n",
       " <matplotlib.lines.Line2D at 0x1b3adbfcd08>,\n",
       " <matplotlib.lines.Line2D at 0x1b3adbfcec8>,\n",
       " <matplotlib.lines.Line2D at 0x1b3adbec0c8>]"
      ]
     },
     "execution_count": 46,
     "metadata": {},
     "output_type": "execute_result"
    },
    {
     "data": {
      "image/png": "[encoded data removed]",
      "text/plain": [
       "<Figure size 432x288 with 1 Axes>"
      ]
     },
     "metadata": {
      "needs_background": "light"
     },
     "output_type": "display_data"
    }
   ],
   "source": [
    "\n",
    "x = np.arange(0.0, epoch, 1)\n",
    "plt.plot(x,val_accuracy,x,accuracy,x,loss,x,val_loss)"
   ]
  },
  {
   "cell_type": "code",
   "execution_count": 47,
   "metadata": {},
   "outputs": [
    {
     "data": {
      "text/plain": [
       "[0.11305010078672885, 0.9829000234603882]"
      ]
     },
     "execution_count": 47,
     "metadata": {},
     "output_type": "execute_result"
    }
   ],
   "source": [
    "score = kr.models.load_model('./model1.h5').evaluate(img_test, lbl_test, verbose=0)\n",
    "score"
   ]
  },
  {
   "cell_type": "code",
   "execution_count": 56,
   "metadata": {},
   "outputs": [],
   "source": [
    "img_train = img_train.reshape(train_img_total,col,row,1)\n",
    "img_test = img_test.reshape(test_img_total,col,row,1)"
   ]
  },
  {
   "cell_type": "code",
   "execution_count": 50,
   "metadata": {},
   "outputs": [
    {
     "data": {
      "text/plain": [
       "array([[[1.        ],\n",
       "        [1.        ],\n",
       "        [1.        ],\n",
       "        [1.        ],\n",
       "        [1.        ],\n",
       "        [1.        ],\n",
       "        [1.        ],\n",
       "        [1.        ],\n",
       "        [1.        ],\n",
       "        [1.        ],\n",
       "        [1.        ],\n",
       "        [1.        ],\n",
       "        [1.        ],\n",
       "        [1.        ],\n",
       "        [1.        ],\n",
       "        [1.        ],\n",
       "        [1.        ],\n",
       "        [1.        ],\n",
       "        [1.        ],\n",
       "        [1.        ],\n",
       "        [1.        ],\n",
       "        [1.        ],\n",
       "        [1.        ],\n",
       "        [1.        ],\n",
       "        [1.        ],\n",
       "        [1.        ],\n",
       "        [1.        ],\n",
       "        [1.        ]],\n",
       "\n",
       "       [[1.        ],\n",
       "        [1.        ],\n",
       "        [1.        ],\n",
       "        [1.        ],\n",
       "        [1.        ],\n",
       "        [1.        ],\n",
       "        [1.        ],\n",
       "        [1.        ],\n",
       "        [1.        ],\n",
       "        [1.        ],\n",
       "        [1.        ],\n",
       "        [1.        ],\n",
       "        [1.        ],\n",
       "        [1.        ],\n",
       "        [1.        ],\n",
       "        [1.        ],\n",
       "        [1.        ],\n",
       "        [1.        ],\n",
       "        [1.        ],\n",
       "        [1.        ],\n",
       "        [1.        ],\n",
       "        [1.        ],\n",
       "        [1.        ],\n",
       "        [1.        ],\n",
       "        [1.        ],\n",
       "        [1.        ],\n",
       "        [1.        ],\n",
       "        [1.        ]],\n",
       "\n",
       "       [[1.        ],\n",
       "        [1.        ],\n",
       "        [1.        ],\n",
       "        [1.        ],\n",
       "        [1.        ],\n",
       "        [1.        ],\n",
       "        [1.        ],\n",
       "        [1.        ],\n",
       "        [1.        ],\n",
       "        [1.        ],\n",
       "        [1.        ],\n",
       "        [1.        ],\n",
       "        [1.        ],\n",
       "        [1.        ],\n",
       "        [1.        ],\n",
       "        [1.        ],\n",
       "        [1.        ],\n",
       "        [1.        ],\n",
       "        [1.        ],\n",
       "        [1.        ],\n",
       "        [1.        ],\n",
       "        [1.        ],\n",
       "        [1.        ],\n",
       "        [1.        ],\n",
       "        [1.        ],\n",
       "        [1.        ],\n",
       "        [1.        ],\n",
       "        [1.        ]],\n",
       "\n",
       "       [[1.        ],\n",
       "        [1.        ],\n",
       "        [1.        ],\n",
       "        [1.        ],\n",
       "        [1.        ],\n",
       "        [1.        ],\n",
       "        [1.        ],\n",
       "        [1.        ],\n",
       "        [1.        ],\n",
       "        [1.        ],\n",
       "        [1.        ],\n",
       "        [1.        ],\n",
       "        [1.        ],\n",
       "        [1.        ],\n",
       "        [1.        ],\n",
       "        [1.        ],\n",
       "        [1.        ],\n",
       "        [1.        ],\n",
       "        [1.        ],\n",
       "        [1.        ],\n",
       "        [1.        ],\n",
       "        [1.        ],\n",
       "        [1.        ],\n",
       "        [1.        ],\n",
       "        [1.        ],\n",
       "        [1.        ],\n",
       "        [1.        ],\n",
       "        [1.        ]],\n",
       "\n",
       "       [[1.        ],\n",
       "        [1.        ],\n",
       "        [1.        ],\n",
       "        [1.        ],\n",
       "        [1.        ],\n",
       "        [1.        ],\n",
       "        [1.        ],\n",
       "        [1.        ],\n",
       "        [1.        ],\n",
       "        [1.        ],\n",
       "        [1.        ],\n",
       "        [1.        ],\n",
       "        [1.        ],\n",
       "        [1.        ],\n",
       "        [1.        ],\n",
       "        [1.        ],\n",
       "        [1.        ],\n",
       "        [1.        ],\n",
       "        [1.        ],\n",
       "        [1.        ],\n",
       "        [1.        ],\n",
       "        [1.        ],\n",
       "        [1.        ],\n",
       "        [1.        ],\n",
       "        [1.        ],\n",
       "        [1.        ],\n",
       "        [1.        ],\n",
       "        [1.        ]],\n",
       "\n",
       "       [[1.        ],\n",
       "        [1.        ],\n",
       "        [1.        ],\n",
       "        [1.        ],\n",
       "        [1.        ],\n",
       "        [1.        ],\n",
       "        [1.        ],\n",
       "        [1.        ],\n",
       "        [1.        ],\n",
       "        [1.        ],\n",
       "        [1.        ],\n",
       "        [1.        ],\n",
       "        [0.98823529],\n",
       "        [0.92941176],\n",
       "        [0.92941176],\n",
       "        [0.92941176],\n",
       "        [0.50588235],\n",
       "        [0.46666667],\n",
       "        [0.31372549],\n",
       "        [0.89803922],\n",
       "        [0.34901961],\n",
       "        [0.        ],\n",
       "        [0.03137255],\n",
       "        [0.50196078],\n",
       "        [1.        ],\n",
       "        [1.        ],\n",
       "        [1.        ],\n",
       "        [1.        ]],\n",
       "\n",
       "       [[1.        ],\n",
       "        [1.        ],\n",
       "        [1.        ],\n",
       "        [1.        ],\n",
       "        [1.        ],\n",
       "        [1.        ],\n",
       "        [1.        ],\n",
       "        [1.        ],\n",
       "        [0.88235294],\n",
       "        [0.85882353],\n",
       "        [0.63137255],\n",
       "        [0.39607843],\n",
       "        [0.33333333],\n",
       "        [0.00784314],\n",
       "        [0.00784314],\n",
       "        [0.00784314],\n",
       "        [0.00784314],\n",
       "        [0.00784314],\n",
       "        [0.11764706],\n",
       "        [0.3254902 ],\n",
       "        [0.00784314],\n",
       "        [0.05098039],\n",
       "        [0.23529412],\n",
       "        [0.74901961],\n",
       "        [1.        ],\n",
       "        [1.        ],\n",
       "        [1.        ],\n",
       "        [1.        ]],\n",
       "\n",
       "       [[1.        ],\n",
       "        [1.        ],\n",
       "        [1.        ],\n",
       "        [1.        ],\n",
       "        [1.        ],\n",
       "        [1.        ],\n",
       "        [1.        ],\n",
       "        [0.80784314],\n",
       "        [0.06666667],\n",
       "        [0.00784314],\n",
       "        [0.00784314],\n",
       "        [0.00784314],\n",
       "        [0.00784314],\n",
       "        [0.00784314],\n",
       "        [0.00784314],\n",
       "        [0.00784314],\n",
       "        [0.00784314],\n",
       "        [0.01568627],\n",
       "        [0.63529412],\n",
       "        [0.67843137],\n",
       "        [0.67843137],\n",
       "        [0.78039216],\n",
       "        [0.84705882],\n",
       "        [1.        ],\n",
       "        [1.        ],\n",
       "        [1.        ],\n",
       "        [1.        ],\n",
       "        [1.        ]],\n",
       "\n",
       "       [[1.        ],\n",
       "        [1.        ],\n",
       "        [1.        ],\n",
       "        [1.        ],\n",
       "        [1.        ],\n",
       "        [1.        ],\n",
       "        [1.        ],\n",
       "        [0.92941176],\n",
       "        [0.14117647],\n",
       "        [0.00784314],\n",
       "        [0.00784314],\n",
       "        [0.00784314],\n",
       "        [0.00784314],\n",
       "        [0.00784314],\n",
       "        [0.22352941],\n",
       "        [0.28627451],\n",
       "        [0.03137255],\n",
       "        [0.05490196],\n",
       "        [1.        ],\n",
       "        [1.        ],\n",
       "        [1.        ],\n",
       "        [1.        ],\n",
       "        [1.        ],\n",
       "        [1.        ],\n",
       "        [1.        ],\n",
       "        [1.        ],\n",
       "        [1.        ],\n",
       "        [1.        ]],\n",
       "\n",
       "       [[1.        ],\n",
       "        [1.        ],\n",
       "        [1.        ],\n",
       "        [1.        ],\n",
       "        [1.        ],\n",
       "        [1.        ],\n",
       "        [1.        ],\n",
       "        [1.        ],\n",
       "        [0.68627451],\n",
       "        [0.38823529],\n",
       "        [0.58039216],\n",
       "        [0.00784314],\n",
       "        [0.00784314],\n",
       "        [0.19607843],\n",
       "        [0.95686275],\n",
       "        [1.        ],\n",
       "        [0.83137255],\n",
       "        [0.39607843],\n",
       "        [1.        ],\n",
       "        [1.        ],\n",
       "        [1.        ],\n",
       "        [1.        ],\n",
       "        [1.        ],\n",
       "        [1.        ],\n",
       "        [1.        ],\n",
       "        [1.        ],\n",
       "        [1.        ],\n",
       "        [1.        ]],\n",
       "\n",
       "       [[1.        ],\n",
       "        [1.        ],\n",
       "        [1.        ],\n",
       "        [1.        ],\n",
       "        [1.        ],\n",
       "        [1.        ],\n",
       "        [1.        ],\n",
       "        [1.        ],\n",
       "        [1.        ],\n",
       "        [0.94509804],\n",
       "        [0.99607843],\n",
       "        [0.39607843],\n",
       "        [0.00784314],\n",
       "        [0.64705882],\n",
       "        [1.        ],\n",
       "        [1.        ],\n",
       "        [1.        ],\n",
       "        [1.        ],\n",
       "        [1.        ],\n",
       "        [1.        ],\n",
       "        [1.        ],\n",
       "        [1.        ],\n",
       "        [1.        ],\n",
       "        [1.        ],\n",
       "        [1.        ],\n",
       "        [1.        ],\n",
       "        [1.        ],\n",
       "        [1.        ]],\n",
       "\n",
       "       [[1.        ],\n",
       "        [1.        ],\n",
       "        [1.        ],\n",
       "        [1.        ],\n",
       "        [1.        ],\n",
       "        [1.        ],\n",
       "        [1.        ],\n",
       "        [1.        ],\n",
       "        [1.        ],\n",
       "        [1.        ],\n",
       "        [1.        ],\n",
       "        [0.45490196],\n",
       "        [0.00784314],\n",
       "        [0.25490196],\n",
       "        [0.99215686],\n",
       "        [1.        ],\n",
       "        [1.        ],\n",
       "        [1.        ],\n",
       "        [1.        ],\n",
       "        [1.        ],\n",
       "        [1.        ],\n",
       "        [1.        ],\n",
       "        [1.        ],\n",
       "        [1.        ],\n",
       "        [1.        ],\n",
       "        [1.        ],\n",
       "        [1.        ],\n",
       "        [1.        ]],\n",
       "\n",
       "       [[1.        ],\n",
       "        [1.        ],\n",
       "        [1.        ],\n",
       "        [1.        ],\n",
       "        [1.        ],\n",
       "        [1.        ],\n",
       "        [1.        ],\n",
       "        [1.        ],\n",
       "        [1.        ],\n",
       "        [1.        ],\n",
       "        [1.        ],\n",
       "        [0.95686275],\n",
       "        [0.25490196],\n",
       "        [0.00784314],\n",
       "        [0.7254902 ],\n",
       "        [1.        ],\n",
       "        [1.        ],\n",
       "        [1.        ],\n",
       "        [1.        ],\n",
       "        [1.        ],\n",
       "        [1.        ],\n",
       "        [1.        ],\n",
       "        [1.        ],\n",
       "        [1.        ],\n",
       "        [1.        ],\n",
       "        [1.        ],\n",
       "        [1.        ],\n",
       "        [1.        ]],\n",
       "\n",
       "       [[1.        ],\n",
       "        [1.        ],\n",
       "        [1.        ],\n",
       "        [1.        ],\n",
       "        [1.        ],\n",
       "        [1.        ],\n",
       "        [1.        ],\n",
       "        [1.        ],\n",
       "        [1.        ],\n",
       "        [1.        ],\n",
       "        [1.        ],\n",
       "        [1.        ],\n",
       "        [0.8627451 ],\n",
       "        [0.05490196],\n",
       "        [0.11764706],\n",
       "        [0.37254902],\n",
       "        [0.57647059],\n",
       "        [0.99607843],\n",
       "        [1.        ],\n",
       "        [1.        ],\n",
       "        [1.        ],\n",
       "        [1.        ],\n",
       "        [1.        ],\n",
       "        [1.        ],\n",
       "        [1.        ],\n",
       "        [1.        ],\n",
       "        [1.        ],\n",
       "        [1.        ]],\n",
       "\n",
       "       [[1.        ],\n",
       "        [1.        ],\n",
       "        [1.        ],\n",
       "        [1.        ],\n",
       "        [1.        ],\n",
       "        [1.        ],\n",
       "        [1.        ],\n",
       "        [1.        ],\n",
       "        [1.        ],\n",
       "        [1.        ],\n",
       "        [1.        ],\n",
       "        [1.        ],\n",
       "        [1.        ],\n",
       "        [0.68235294],\n",
       "        [0.05882353],\n",
       "        [0.00784314],\n",
       "        [0.00784314],\n",
       "        [0.53333333],\n",
       "        [0.90196078],\n",
       "        [1.        ],\n",
       "        [1.        ],\n",
       "        [1.        ],\n",
       "        [1.        ],\n",
       "        [1.        ],\n",
       "        [1.        ],\n",
       "        [1.        ],\n",
       "        [1.        ],\n",
       "        [1.        ]],\n",
       "\n",
       "       [[1.        ],\n",
       "        [1.        ],\n",
       "        [1.        ],\n",
       "        [1.        ],\n",
       "        [1.        ],\n",
       "        [1.        ],\n",
       "        [1.        ],\n",
       "        [1.        ],\n",
       "        [1.        ],\n",
       "        [1.        ],\n",
       "        [1.        ],\n",
       "        [1.        ],\n",
       "        [1.        ],\n",
       "        [1.        ],\n",
       "        [0.82352941],\n",
       "        [0.27058824],\n",
       "        [0.00784314],\n",
       "        [0.00784314],\n",
       "        [0.41176471],\n",
       "        [0.89411765],\n",
       "        [1.        ],\n",
       "        [1.        ],\n",
       "        [1.        ],\n",
       "        [1.        ],\n",
       "        [1.        ],\n",
       "        [1.        ],\n",
       "        [1.        ],\n",
       "        [1.        ]],\n",
       "\n",
       "       [[1.        ],\n",
       "        [1.        ],\n",
       "        [1.        ],\n",
       "        [1.        ],\n",
       "        [1.        ],\n",
       "        [1.        ],\n",
       "        [1.        ],\n",
       "        [1.        ],\n",
       "        [1.        ],\n",
       "        [1.        ],\n",
       "        [1.        ],\n",
       "        [1.        ],\n",
       "        [1.        ],\n",
       "        [1.        ],\n",
       "        [1.        ],\n",
       "        [0.9372549 ],\n",
       "        [0.63529412],\n",
       "        [0.01176471],\n",
       "        [0.00784314],\n",
       "        [0.26666667],\n",
       "        [1.        ],\n",
       "        [1.        ],\n",
       "        [1.        ],\n",
       "        [1.        ],\n",
       "        [1.        ],\n",
       "        [1.        ],\n",
       "        [1.        ],\n",
       "        [1.        ]],\n",
       "\n",
       "       [[1.        ],\n",
       "        [1.        ],\n",
       "        [1.        ],\n",
       "        [1.        ],\n",
       "        [1.        ],\n",
       "        [1.        ],\n",
       "        [1.        ],\n",
       "        [1.        ],\n",
       "        [1.        ],\n",
       "        [1.        ],\n",
       "        [1.        ],\n",
       "        [1.        ],\n",
       "        [1.        ],\n",
       "        [1.        ],\n",
       "        [1.        ],\n",
       "        [1.        ],\n",
       "        [1.        ],\n",
       "        [0.02352941],\n",
       "        [0.00784314],\n",
       "        [0.02352941],\n",
       "        [0.74901961],\n",
       "        [1.        ],\n",
       "        [1.        ],\n",
       "        [1.        ],\n",
       "        [1.        ],\n",
       "        [1.        ],\n",
       "        [1.        ],\n",
       "        [1.        ]],\n",
       "\n",
       "       [[1.        ],\n",
       "        [1.        ],\n",
       "        [1.        ],\n",
       "        [1.        ],\n",
       "        [1.        ],\n",
       "        [1.        ],\n",
       "        [1.        ],\n",
       "        [1.        ],\n",
       "        [1.        ],\n",
       "        [1.        ],\n",
       "        [1.        ],\n",
       "        [1.        ],\n",
       "        [1.        ],\n",
       "        [1.        ],\n",
       "        [0.81960784],\n",
       "        [0.49019608],\n",
       "        [0.28235294],\n",
       "        [0.00784314],\n",
       "        [0.00784314],\n",
       "        [0.18823529],\n",
       "        [0.99215686],\n",
       "        [1.        ],\n",
       "        [1.        ],\n",
       "        [1.        ],\n",
       "        [1.        ],\n",
       "        [1.        ],\n",
       "        [1.        ],\n",
       "        [1.        ]],\n",
       "\n",
       "       [[1.        ],\n",
       "        [1.        ],\n",
       "        [1.        ],\n",
       "        [1.        ],\n",
       "        [1.        ],\n",
       "        [1.        ],\n",
       "        [1.        ],\n",
       "        [1.        ],\n",
       "        [1.        ],\n",
       "        [1.        ],\n",
       "        [1.        ],\n",
       "        [1.        ],\n",
       "        [0.84705882],\n",
       "        [0.41960784],\n",
       "        [0.10196078],\n",
       "        [0.00784314],\n",
       "        [0.00784314],\n",
       "        [0.00784314],\n",
       "        [0.01960784],\n",
       "        [0.28627451],\n",
       "        [1.        ],\n",
       "        [1.        ],\n",
       "        [1.        ],\n",
       "        [1.        ],\n",
       "        [1.        ],\n",
       "        [1.        ],\n",
       "        [1.        ],\n",
       "        [1.        ]],\n",
       "\n",
       "       [[1.        ],\n",
       "        [1.        ],\n",
       "        [1.        ],\n",
       "        [1.        ],\n",
       "        [1.        ],\n",
       "        [1.        ],\n",
       "        [1.        ],\n",
       "        [1.        ],\n",
       "        [1.        ],\n",
       "        [1.        ],\n",
       "        [0.90588235],\n",
       "        [0.55294118],\n",
       "        [0.13333333],\n",
       "        [0.00784314],\n",
       "        [0.00784314],\n",
       "        [0.00784314],\n",
       "        [0.00784314],\n",
       "        [0.21176471],\n",
       "        [0.69411765],\n",
       "        [1.        ],\n",
       "        [1.        ],\n",
       "        [1.        ],\n",
       "        [1.        ],\n",
       "        [1.        ],\n",
       "        [1.        ],\n",
       "        [1.        ],\n",
       "        [1.        ],\n",
       "        [1.        ]],\n",
       "\n",
       "       [[1.        ],\n",
       "        [1.        ],\n",
       "        [1.        ],\n",
       "        [1.        ],\n",
       "        [1.        ],\n",
       "        [1.        ],\n",
       "        [1.        ],\n",
       "        [1.        ],\n",
       "        [0.90980392],\n",
       "        [0.74117647],\n",
       "        [0.16470588],\n",
       "        [0.00784314],\n",
       "        [0.00784314],\n",
       "        [0.00784314],\n",
       "        [0.00784314],\n",
       "        [0.22352941],\n",
       "        [0.68235294],\n",
       "        [0.99215686],\n",
       "        [1.        ],\n",
       "        [1.        ],\n",
       "        [1.        ],\n",
       "        [1.        ],\n",
       "        [1.        ],\n",
       "        [1.        ],\n",
       "        [1.        ],\n",
       "        [1.        ],\n",
       "        [1.        ],\n",
       "        [1.        ]],\n",
       "\n",
       "       [[1.        ],\n",
       "        [1.        ],\n",
       "        [1.        ],\n",
       "        [1.        ],\n",
       "        [1.        ],\n",
       "        [1.        ],\n",
       "        [0.92941176],\n",
       "        [0.32941176],\n",
       "        [0.14117647],\n",
       "        [0.00784314],\n",
       "        [0.00784314],\n",
       "        [0.00784314],\n",
       "        [0.00784314],\n",
       "        [0.23529412],\n",
       "        [0.68627451],\n",
       "        [0.96470588],\n",
       "        [1.        ],\n",
       "        [1.        ],\n",
       "        [1.        ],\n",
       "        [1.        ],\n",
       "        [1.        ],\n",
       "        [1.        ],\n",
       "        [1.        ],\n",
       "        [1.        ],\n",
       "        [1.        ],\n",
       "        [1.        ],\n",
       "        [1.        ],\n",
       "        [1.        ]],\n",
       "\n",
       "       [[1.        ],\n",
       "        [1.        ],\n",
       "        [1.        ],\n",
       "        [1.        ],\n",
       "        [0.78431373],\n",
       "        [0.3254902 ],\n",
       "        [0.11372549],\n",
       "        [0.00784314],\n",
       "        [0.00784314],\n",
       "        [0.00784314],\n",
       "        [0.00784314],\n",
       "        [0.04313725],\n",
       "        [0.47843137],\n",
       "        [0.95686275],\n",
       "        [1.        ],\n",
       "        [1.        ],\n",
       "        [1.        ],\n",
       "        [1.        ],\n",
       "        [1.        ],\n",
       "        [1.        ],\n",
       "        [1.        ],\n",
       "        [1.        ],\n",
       "        [1.        ],\n",
       "        [1.        ],\n",
       "        [1.        ],\n",
       "        [1.        ],\n",
       "        [1.        ],\n",
       "        [1.        ]],\n",
       "\n",
       "       [[1.        ],\n",
       "        [1.        ],\n",
       "        [1.        ],\n",
       "        [1.        ],\n",
       "        [0.46666667],\n",
       "        [0.00784314],\n",
       "        [0.00784314],\n",
       "        [0.00784314],\n",
       "        [0.16862745],\n",
       "        [0.47058824],\n",
       "        [0.48235294],\n",
       "        [0.9372549 ],\n",
       "        [1.        ],\n",
       "        [1.        ],\n",
       "        [1.        ],\n",
       "        [1.        ],\n",
       "        [1.        ],\n",
       "        [1.        ],\n",
       "        [1.        ],\n",
       "        [1.        ],\n",
       "        [1.        ],\n",
       "        [1.        ],\n",
       "        [1.        ],\n",
       "        [1.        ],\n",
       "        [1.        ],\n",
       "        [1.        ],\n",
       "        [1.        ],\n",
       "        [1.        ]],\n",
       "\n",
       "       [[1.        ],\n",
       "        [1.        ],\n",
       "        [1.        ],\n",
       "        [1.        ],\n",
       "        [1.        ],\n",
       "        [1.        ],\n",
       "        [1.        ],\n",
       "        [1.        ],\n",
       "        [1.        ],\n",
       "        [1.        ],\n",
       "        [1.        ],\n",
       "        [1.        ],\n",
       "        [1.        ],\n",
       "        [1.        ],\n",
       "        [1.        ],\n",
       "        [1.        ],\n",
       "        [1.        ],\n",
       "        [1.        ],\n",
       "        [1.        ],\n",
       "        [1.        ],\n",
       "        [1.        ],\n",
       "        [1.        ],\n",
       "        [1.        ],\n",
       "        [1.        ],\n",
       "        [1.        ],\n",
       "        [1.        ],\n",
       "        [1.        ],\n",
       "        [1.        ]],\n",
       "\n",
       "       [[1.        ],\n",
       "        [1.        ],\n",
       "        [1.        ],\n",
       "        [1.        ],\n",
       "        [1.        ],\n",
       "        [1.        ],\n",
       "        [1.        ],\n",
       "        [1.        ],\n",
       "        [1.        ],\n",
       "        [1.        ],\n",
       "        [1.        ],\n",
       "        [1.        ],\n",
       "        [1.        ],\n",
       "        [1.        ],\n",
       "        [1.        ],\n",
       "        [1.        ],\n",
       "        [1.        ],\n",
       "        [1.        ],\n",
       "        [1.        ],\n",
       "        [1.        ],\n",
       "        [1.        ],\n",
       "        [1.        ],\n",
       "        [1.        ],\n",
       "        [1.        ],\n",
       "        [1.        ],\n",
       "        [1.        ],\n",
       "        [1.        ],\n",
       "        [1.        ]],\n",
       "\n",
       "       [[1.        ],\n",
       "        [1.        ],\n",
       "        [1.        ],\n",
       "        [1.        ],\n",
       "        [1.        ],\n",
       "        [1.        ],\n",
       "        [1.        ],\n",
       "        [1.        ],\n",
       "        [1.        ],\n",
       "        [1.        ],\n",
       "        [1.        ],\n",
       "        [1.        ],\n",
       "        [1.        ],\n",
       "        [1.        ],\n",
       "        [1.        ],\n",
       "        [1.        ],\n",
       "        [1.        ],\n",
       "        [1.        ],\n",
       "        [1.        ],\n",
       "        [1.        ],\n",
       "        [1.        ],\n",
       "        [1.        ],\n",
       "        [1.        ],\n",
       "        [1.        ],\n",
       "        [1.        ],\n",
       "        [1.        ],\n",
       "        [1.        ],\n",
       "        [1.        ]]])"
      ]
     },
     "execution_count": 50,
     "metadata": {},
     "output_type": "execute_result"
    }
   ],
   "source": [
    "img_train[0]"
   ]
  },
  {
   "cell_type": "code",
   "execution_count": 60,
   "metadata": {},
   "outputs": [],
   "source": [
    "model = kr.models.Sequential()\n",
    "model.add(kr.layers.Conv2D(64,kernel_size=(7, 7),activation='relu',input_shape=(28,28,1)))\n",
    "model.add(kr.layers.Conv2D(64,kernel_size=(7, 7),activation='relu',input_shape=(28,28,1)))\n",
    "model.add(kr.layers.MaxPooling2D(pool_size=(2, 2),))\n",
    "model.add(kr.layers.Conv2D(128,kernel_size=(5, 5),activation='relu'))\n",
    "model.add(kr.layers.Conv2D(256,kernel_size=(3, 3),activation='relu'))\n",
    "model.add(kr.layers.MaxPooling2D(pool_size=(2, 2),))\n",
    "model.add(kr.layers.Flatten())\n",
    "model.add(kr.layers.Dropout(0.25))\n",
    "model.add(kr.layers.Dense(units=98, activation='relu'))\n",
    "model.add(kr.layers.Dropout(0.1))\n",
    "model.add(kr.layers.Dense(units=10, activation='softmax'))\n",
    "model.compile(loss='categorical_crossentropy',optimizer='adam', metrics=['accuracy'])"
   ]
  },
  {
   "cell_type": "code",
   "execution_count": 61,
   "metadata": {
    "scrolled": true
   },
   "outputs": [
    {
     "name": "stdout",
     "output_type": "stream",
     "text": [
      "Train on 60000 samples, validate on 10000 samples\n",
      "Epoch 1/10\n",
      "60000/60000 [==============================] - 5s 88us/step - loss: 0.2088 - accuracy: 0.9337 - val_loss: 0.0421 - val_accuracy: 0.9874\n",
      "epoch: 0,history_callback.0.9873999953269958\n",
      "Epoch 2/10\n",
      "60000/60000 [==============================] - 5s 82us/step - loss: 0.0576 - accuracy: 0.9835 - val_loss: 0.0308 - val_accuracy: 0.9897\n",
      "epoch: 1,history_callback.0.9897000193595886\n",
      "Epoch 3/10\n",
      "60000/60000 [==============================] - 5s 82us/step - loss: 0.0448 - accuracy: 0.9875 - val_loss: 0.0469 - val_accuracy: 0.9856\n",
      "epoch: 2,history_callback.0.9855999946594238\n",
      "Epoch 4/10\n",
      "60000/60000 [==============================] - 5s 83us/step - loss: 0.0384 - accuracy: 0.9889 - val_loss: 0.0418 - val_accuracy: 0.9890\n",
      "epoch: 3,history_callback.0.9890000224113464\n",
      "Epoch 5/10\n",
      "60000/60000 [==============================] - 5s 82us/step - loss: 0.0296 - accuracy: 0.9912 - val_loss: 0.0301 - val_accuracy: 0.9911\n",
      "epoch: 4,history_callback.0.991100013256073\n",
      "0.991100013256073\n",
      "saved\n",
      "Epoch 6/10\n",
      "60000/60000 [==============================] - 5s 83us/step - loss: 0.0273 - accuracy: 0.9922 - val_loss: 0.0270 - val_accuracy: 0.9935\n",
      "epoch: 5,history_callback.0.9934999942779541\n",
      "0.9934999942779541\n",
      "saved\n",
      "Epoch 7/10\n",
      "60000/60000 [==============================] - 5s 83us/step - loss: 0.0218 - accuracy: 0.9937 - val_loss: 0.0325 - val_accuracy: 0.9908\n",
      "epoch: 6,history_callback.0.9908000230789185\n",
      "Epoch 8/10\n",
      "60000/60000 [==============================] - 5s 82us/step - loss: 0.0189 - accuracy: 0.9948 - val_loss: 0.0309 - val_accuracy: 0.9915\n",
      "epoch: 7,history_callback.0.9915000200271606\n",
      "Epoch 9/10\n",
      "60000/60000 [==============================] - 5s 82us/step - loss: 0.0154 - accuracy: 0.9955 - val_loss: 0.0413 - val_accuracy: 0.9888\n",
      "epoch: 8,history_callback.0.9887999892234802\n",
      "Epoch 10/10\n",
      "60000/60000 [==============================] - 5s 83us/step - loss: 0.0191 - accuracy: 0.9941 - val_loss: 0.0337 - val_accuracy: 0.9923\n",
      "epoch: 9,history_callback.0.9922999739646912\n"
     ]
    }
   ],
   "source": [
    "epoch = 10\n",
    "history_callback = model.fit(img_train, lbl_train, validation_data=(img_test,lbl_test), epochs=epoch, batch_size=100\n",
    "                             , callbacks=[cbk])"
   ]
  },
  {
   "cell_type": "code",
   "execution_count": 62,
   "metadata": {},
   "outputs": [
    {
     "data": {
      "text/plain": [
       "[0.027023627741792733, 0.9934999942779541]"
      ]
     },
     "execution_count": 62,
     "metadata": {},
     "output_type": "execute_result"
    }
   ],
   "source": [
    "score = kr.models.load_model('./model1.h5').evaluate(img_test, lbl_test, verbose=0)\n",
    "score"
   ]
  },
  {
   "cell_type": "code",
   "execution_count": 64,
   "metadata": {},
   "outputs": [],
   "source": [
    "model = kr.models.Sequential()\n",
    "model.add(kr.layers.Conv2D(64,kernel_size=(7, 7),activation='relu',input_shape=(28,28,1)))\n",
    "kr.layers.BatchNormalization(axis=-1)\n",
    "model.add(kr.layers.Conv2D(64,kernel_size=(7, 7),activation='relu',input_shape=(28,28,1)))\n",
    "kr.layers.BatchNormalization(axis=-1)\n",
    "model.add(kr.layers.MaxPooling2D(pool_size=(2, 2),))\n",
    "model.add(kr.layers.Conv2D(128,kernel_size=(5, 5),activation='relu'))\n",
    "kr.layers.BatchNormalization(axis=-1)\n",
    "model.add(kr.layers.Conv2D(256,kernel_size=(3, 3),activation='relu'))\n",
    "model.add(kr.layers.MaxPooling2D(pool_size=(2, 2),))\n",
    "model.add(kr.layers.Flatten())\n",
    "model.add(kr.layers.Dropout(0.25))\n",
    "model.add(kr.layers.Dense(units=98, activation='relu'))\n",
    "model.add(kr.layers.Dropout(0.1))\n",
    "model.add(kr.layers.Dense(units=10, activation='softmax'))\n",
    "model.compile(loss='categorical_crossentropy',optimizer='adam', metrics=['accuracy'])"
   ]
  },
  {
   "cell_type": "code",
   "execution_count": 65,
   "metadata": {},
   "outputs": [
    {
     "name": "stdout",
     "output_type": "stream",
     "text": [
      "Train on 60000 samples, validate on 10000 samples\n",
      "Epoch 1/10\n",
      "60000/60000 [==============================] - 5s 87us/step - loss: 0.2451 - accuracy: 0.9208 - val_loss: 0.0619 - val_accuracy: 0.9807\n",
      "epoch: 0,history_callback.0.9807000160217285\n",
      "Epoch 2/10\n",
      "60000/60000 [==============================] - 5s 84us/step - loss: 0.0645 - accuracy: 0.9817 - val_loss: 0.0365 - val_accuracy: 0.9886\n",
      "epoch: 1,history_callback.0.9886000156402588\n",
      "Epoch 3/10\n",
      "60000/60000 [==============================] - 5s 84us/step - loss: 0.0457 - accuracy: 0.9870 - val_loss: 0.0302 - val_accuracy: 0.9910\n",
      "epoch: 2,history_callback.0.9909999966621399\n",
      "Epoch 4/10\n",
      "60000/60000 [==============================] - 5s 84us/step - loss: 0.0383 - accuracy: 0.9889 - val_loss: 0.0383 - val_accuracy: 0.9885\n",
      "epoch: 3,history_callback.0.9884999990463257\n",
      "Epoch 5/10\n",
      "60000/60000 [==============================] - 5s 83us/step - loss: 0.0346 - accuracy: 0.9900 - val_loss: 0.0498 - val_accuracy: 0.9866\n",
      "epoch: 4,history_callback.0.9865999817848206\n",
      "Epoch 6/10\n",
      "60000/60000 [==============================] - 5s 84us/step - loss: 0.0266 - accuracy: 0.9921 - val_loss: 0.0334 - val_accuracy: 0.9899\n",
      "epoch: 5,history_callback.0.9898999929428101\n",
      "Epoch 7/10\n",
      "60000/60000 [==============================] - 5s 84us/step - loss: 0.0248 - accuracy: 0.9928 - val_loss: 0.0231 - val_accuracy: 0.9926\n",
      "epoch: 6,history_callback.0.9926000237464905\n",
      "Epoch 8/10\n",
      "60000/60000 [==============================] - 5s 84us/step - loss: 0.0209 - accuracy: 0.9940 - val_loss: 0.0333 - val_accuracy: 0.9919\n",
      "epoch: 7,history_callback.0.9919000267982483\n",
      "Epoch 9/10\n",
      "60000/60000 [==============================] - 5s 84us/step - loss: 0.0196 - accuracy: 0.9948 - val_loss: 0.0312 - val_accuracy: 0.9918\n",
      "epoch: 8,history_callback.0.9918000102043152\n",
      "Epoch 10/10\n",
      "60000/60000 [==============================] - 5s 83us/step - loss: 0.0170 - accuracy: 0.9947 - val_loss: 0.0350 - val_accuracy: 0.9906\n",
      "epoch: 9,history_callback.0.9905999898910522\n"
     ]
    }
   ],
   "source": [
    "epoch = 10\n",
    "history_callback = model.fit(img_train, lbl_train, validation_data=(img_test,lbl_test), epochs=epoch, batch_size=100\n",
    "                             , callbacks=[cbk])"
   ]
  },
  {
   "cell_type": "code",
   "execution_count": 66,
   "metadata": {},
   "outputs": [
    {
     "data": {
      "text/plain": [
       "[0.027023627741792733, 0.9934999942779541]"
      ]
     },
     "execution_count": 66,
     "metadata": {},
     "output_type": "execute_result"
    }
   ],
   "source": [
    "score = kr.models.load_model('./model1.h5').evaluate(img_test, lbl_test, verbose=0)\n",
    "score"
   ]
  },
  {
   "cell_type": "code",
   "execution_count": 67,
   "metadata": {},
   "outputs": [],
   "source": [
    "model = kr.models.Sequential()\n",
    "model.add(kr.layers.Conv2D(64,kernel_size=(7, 7),activation='relu',input_shape=(28,28,1)))\n",
    "model.add(kr.layers.Conv2D(64,kernel_size=(7, 7),activation='relu',input_shape=(28,28,1)))\n",
    "model.add(kr.layers.MaxPooling2D(pool_size=(2, 2),))\n",
    "model.add(kr.layers.Conv2D(128,kernel_size=(5, 5),activation='relu'))\n",
    "model.add(kr.layers.Conv2D(256,kernel_size=(3, 3),activation='relu'))\n",
    "model.add(kr.layers.MaxPooling2D(pool_size=(2, 2),))\n",
    "model.add(kr.layers.Flatten())\n",
    "model.add(kr.layers.Dropout(0.25))\n",
    "model.add(kr.layers.Dense(units=98, activation='relu'))\n",
    "model.add(kr.layers.Dropout(0.1))\n",
    "model.add(kr.layers.Dense(units=10, activation='softmax'))\n",
    "model.compile(loss='categorical_crossentropy',optimizer='adam', metrics=['accuracy'])"
   ]
  },
  {
   "cell_type": "code",
   "execution_count": 68,
   "metadata": {},
   "outputs": [],
   "source": [
    "from keras.preprocessing.image import ImageDataGenerator"
   ]
  },
  {
   "cell_type": "code",
   "execution_count": 71,
   "metadata": {},
   "outputs": [],
   "source": [
    "gen = ImageDataGenerator(rotation_range=8, width_shift_range=0.08, shear_range=0.3,\n",
    "                         height_shift_range=0.08, zoom_range=0.08)\n",
    "test_gen = ImageDataGenerator()"
   ]
  },
  {
   "cell_type": "code",
   "execution_count": 72,
   "metadata": {},
   "outputs": [],
   "source": [
    "train_generator = gen.flow(img_train, lbl_train, batch_size=64)\n",
    "test_generator = test_gen.flow(img_test, lbl_test, batch_size=64)"
   ]
  },
  {
   "cell_type": "code",
   "execution_count": 75,
   "metadata": {},
   "outputs": [
    {
     "name": "stdout",
     "output_type": "stream",
     "text": [
      "Epoch 1/10\n",
      "937/937 [==============================] - 10s 10ms/step - loss: 0.0391 - accuracy: 0.9895 - val_loss: 0.1664 - val_accuracy: 0.9935\n",
      "epoch: 0,history_callback.0.9934895634651184\n",
      "Epoch 2/10\n",
      "937/937 [==============================] - 10s 10ms/step - loss: 0.0355 - accuracy: 0.9900 - val_loss: 0.0025 - val_accuracy: 0.9926\n",
      "epoch: 1,history_callback.0.9925523400306702\n",
      "Epoch 3/10\n",
      "937/937 [==============================] - 9s 10ms/step - loss: 0.0369 - accuracy: 0.9899 - val_loss: 8.8657e-05 - val_accuracy: 0.9935\n",
      "epoch: 2,history_callback.0.9934581518173218\n",
      "Epoch 4/10\n",
      "937/937 [==============================] - 9s 10ms/step - loss: 0.0342 - accuracy: 0.9905 - val_loss: 0.0066 - val_accuracy: 0.9928\n",
      "epoch: 3,history_callback.0.9927536249160767\n",
      "Epoch 5/10\n",
      "937/937 [==============================] - 10s 11ms/step - loss: 0.0359 - accuracy: 0.9902 - val_loss: 0.0067 - val_accuracy: 0.9943\n",
      "epoch: 4,history_callback.0.9942632913589478\n",
      "0.9942632913589478\n",
      "saved\n",
      "Epoch 6/10\n",
      "937/937 [==============================] - 9s 10ms/step - loss: 0.0308 - accuracy: 0.9913 - val_loss: 0.0027 - val_accuracy: 0.9954\n",
      "epoch: 5,history_callback.0.9953703880310059\n",
      "0.9953703880310059\n",
      "saved\n",
      "Epoch 7/10\n",
      "937/937 [==============================] - 9s 10ms/step - loss: 0.0323 - accuracy: 0.9906 - val_loss: 0.0352 - val_accuracy: 0.9937\n",
      "epoch: 6,history_callback.0.9936594367027283\n",
      "Epoch 8/10\n",
      "937/937 [==============================] - 10s 10ms/step - loss: 0.0302 - accuracy: 0.9918 - val_loss: 0.0012 - val_accuracy: 0.9937\n",
      "epoch: 7,history_callback.0.9936594367027283\n",
      "Epoch 9/10\n",
      "937/937 [==============================] - 9s 10ms/step - loss: 0.0306 - accuracy: 0.9919 - val_loss: 3.0564e-05 - val_accuracy: 0.9924\n",
      "epoch: 8,history_callback.0.9923510551452637\n",
      "Epoch 10/10\n",
      "937/937 [==============================] - 9s 10ms/step - loss: 0.0272 - accuracy: 0.9922 - val_loss: 0.0045 - val_accuracy: 0.9929\n",
      "epoch: 9,history_callback.0.9928542375564575\n"
     ]
    }
   ],
   "source": [
    "epoch =10\n",
    "history_callback= model.fit_generator(train_generator, steps_per_epoch=60000//64, epochs=epoch, \n",
    "                    validation_data=test_generator, validation_steps=10000//64, callbacks=[cbk])"
   ]
  },
  {
   "cell_type": "code",
   "execution_count": 74,
   "metadata": {},
   "outputs": [
    {
     "data": {
      "text/plain": [
       "[0.027023627741792733, 0.9934999942779541]"
      ]
     },
     "execution_count": 74,
     "metadata": {},
     "output_type": "execute_result"
    }
   ],
   "source": [
    "score = kr.models.load_model('./model1.h5').evaluate(img_test, lbl_test, verbose=0)\n",
    "score"
   ]
  },
  {
   "cell_type": "code",
   "execution_count": null,
   "metadata": {},
   "outputs": [],
   "source": []
  }
 ],
 "metadata": {
  "kernelspec": {
   "display_name": "Python 3",
   "language": "python",
   "name": "python3"
  },
  "language_info": {
   "codemirror_mode": {
    "name": "ipython",
    "version": 3
   },
   "file_extension": ".py",
   "mimetype": "text/x-python",
   "name": "python",
   "nbconvert_exporter": "python",
   "pygments_lexer": "ipython3",
   "version": "3.7.4"
  }
 },
 "nbformat": 4,
 "nbformat_minor": 4
}
